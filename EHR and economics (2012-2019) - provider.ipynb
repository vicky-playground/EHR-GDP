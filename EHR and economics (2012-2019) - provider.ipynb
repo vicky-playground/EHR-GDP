{
 "cells": [
  {
   "cell_type": "markdown",
   "id": "d293196b",
   "metadata": {},
   "source": [
    "# Clean and display the three datasets (EHR, GDP, Income)"
   ]
  },
  {
   "cell_type": "code",
   "execution_count": 87,
   "id": "c6768141",
   "metadata": {},
   "outputs": [
    {
     "data": {
      "text/html": [
       "<div>\n",
       "<style scoped>\n",
       "    .dataframe tbody tr th:only-of-type {\n",
       "        vertical-align: middle;\n",
       "    }\n",
       "\n",
       "    .dataframe tbody tr th {\n",
       "        vertical-align: top;\n",
       "    }\n",
       "\n",
       "    .dataframe thead th {\n",
       "        text-align: right;\n",
       "    }\n",
       "</style>\n",
       "<table border=\"1\" class=\"dataframe\">\n",
       "  <thead>\n",
       "    <tr style=\"text-align: right;\">\n",
       "      <th></th>\n",
       "      <th>GeoFIPS</th>\n",
       "      <th>GeoName</th>\n",
       "      <th>Region</th>\n",
       "      <th>TableName</th>\n",
       "      <th>LineCode</th>\n",
       "      <th>IndustryClassification</th>\n",
       "      <th>Description</th>\n",
       "      <th>Unit</th>\n",
       "      <th>2001</th>\n",
       "      <th>2002</th>\n",
       "      <th>...</th>\n",
       "      <th>2011</th>\n",
       "      <th>2012</th>\n",
       "      <th>2013</th>\n",
       "      <th>2014</th>\n",
       "      <th>2015</th>\n",
       "      <th>2016</th>\n",
       "      <th>2017</th>\n",
       "      <th>2018</th>\n",
       "      <th>2019</th>\n",
       "      <th>2020</th>\n",
       "    </tr>\n",
       "  </thead>\n",
       "  <tbody>\n",
       "    <tr>\n",
       "      <th>0</th>\n",
       "      <td>\"06000\"</td>\n",
       "      <td>California</td>\n",
       "      <td>8.0</td>\n",
       "      <td>CAGDP1</td>\n",
       "      <td>1.0</td>\n",
       "      <td>...</td>\n",
       "      <td>Real GDP (thousands of chained 2012 dollars)</td>\n",
       "      <td>Thousands of chained 2012 dollars</td>\n",
       "      <td>1.692324e+09</td>\n",
       "      <td>1.722522e+09</td>\n",
       "      <td>...</td>\n",
       "      <td>2.063828e+09</td>\n",
       "      <td>2.113096e+09</td>\n",
       "      <td>2.179229e+09</td>\n",
       "      <td>2.256055e+09</td>\n",
       "      <td>2.357453e+09</td>\n",
       "      <td>2.427895e+09</td>\n",
       "      <td>2.541769e+09</td>\n",
       "      <td>2.643576e+09</td>\n",
       "      <td>2.739343e+09</td>\n",
       "      <td>2.663666e+09</td>\n",
       "    </tr>\n",
       "    <tr>\n",
       "      <th>1</th>\n",
       "      <td>\"06000\"</td>\n",
       "      <td>California</td>\n",
       "      <td>8.0</td>\n",
       "      <td>CAGDP1</td>\n",
       "      <td>2.0</td>\n",
       "      <td>...</td>\n",
       "      <td>Chain-type quantity indexes for real GDP</td>\n",
       "      <td>Quantity index</td>\n",
       "      <td>8.008700e+01</td>\n",
       "      <td>8.151700e+01</td>\n",
       "      <td>...</td>\n",
       "      <td>9.766800e+01</td>\n",
       "      <td>1.000000e+02</td>\n",
       "      <td>1.031300e+02</td>\n",
       "      <td>1.067650e+02</td>\n",
       "      <td>1.115640e+02</td>\n",
       "      <td>1.148970e+02</td>\n",
       "      <td>1.202860e+02</td>\n",
       "      <td>1.251040e+02</td>\n",
       "      <td>1.296360e+02</td>\n",
       "      <td>1.260550e+02</td>\n",
       "    </tr>\n",
       "    <tr>\n",
       "      <th>2</th>\n",
       "      <td>\"06000\"</td>\n",
       "      <td>California</td>\n",
       "      <td>8.0</td>\n",
       "      <td>CAGDP1</td>\n",
       "      <td>3.0</td>\n",
       "      <td>...</td>\n",
       "      <td>Current-dollar GDP (thousands of current dollars)</td>\n",
       "      <td>Thousands of dollars</td>\n",
       "      <td>1.375761e+09</td>\n",
       "      <td>1.418430e+09</td>\n",
       "      <td>...</td>\n",
       "      <td>2.023500e+09</td>\n",
       "      <td>2.113096e+09</td>\n",
       "      <td>2.220390e+09</td>\n",
       "      <td>2.335286e+09</td>\n",
       "      <td>2.473556e+09</td>\n",
       "      <td>2.569634e+09</td>\n",
       "      <td>2.730974e+09</td>\n",
       "      <td>2.895101e+09</td>\n",
       "      <td>3.052645e+09</td>\n",
       "      <td>3.007188e+09</td>\n",
       "    </tr>\n",
       "    <tr>\n",
       "      <th>3</th>\n",
       "      <td>\"06001\"</td>\n",
       "      <td>Alameda, CA</td>\n",
       "      <td>8.0</td>\n",
       "      <td>CAGDP1</td>\n",
       "      <td>1.0</td>\n",
       "      <td>...</td>\n",
       "      <td>Real GDP (thousands of chained 2012 dollars)</td>\n",
       "      <td>Thousands of chained 2012 dollars</td>\n",
       "      <td>8.179943e+07</td>\n",
       "      <td>8.258638e+07</td>\n",
       "      <td>...</td>\n",
       "      <td>9.320961e+07</td>\n",
       "      <td>9.574948e+07</td>\n",
       "      <td>9.866994e+07</td>\n",
       "      <td>1.023338e+08</td>\n",
       "      <td>1.094216e+08</td>\n",
       "      <td>1.129437e+08</td>\n",
       "      <td>1.191171e+08</td>\n",
       "      <td>1.237183e+08</td>\n",
       "      <td>1.261836e+08</td>\n",
       "      <td>1.217090e+08</td>\n",
       "    </tr>\n",
       "    <tr>\n",
       "      <th>4</th>\n",
       "      <td>\"06001\"</td>\n",
       "      <td>Alameda, CA</td>\n",
       "      <td>8.0</td>\n",
       "      <td>CAGDP1</td>\n",
       "      <td>2.0</td>\n",
       "      <td>...</td>\n",
       "      <td>Chain-type quantity indexes for real GDP</td>\n",
       "      <td>Quantity index</td>\n",
       "      <td>8.543100e+01</td>\n",
       "      <td>8.625300e+01</td>\n",
       "      <td>...</td>\n",
       "      <td>9.734700e+01</td>\n",
       "      <td>1.000000e+02</td>\n",
       "      <td>1.030500e+02</td>\n",
       "      <td>1.068770e+02</td>\n",
       "      <td>1.142790e+02</td>\n",
       "      <td>1.179580e+02</td>\n",
       "      <td>1.244050e+02</td>\n",
       "      <td>1.292100e+02</td>\n",
       "      <td>1.317850e+02</td>\n",
       "      <td>1.271120e+02</td>\n",
       "    </tr>\n",
       "  </tbody>\n",
       "</table>\n",
       "<p>5 rows × 28 columns</p>\n",
       "</div>"
      ],
      "text/plain": [
       "    GeoFIPS      GeoName  Region TableName  LineCode IndustryClassification  \\\n",
       "0   \"06000\"   California     8.0    CAGDP1       1.0                    ...   \n",
       "1   \"06000\"   California     8.0    CAGDP1       2.0                    ...   \n",
       "2   \"06000\"   California     8.0    CAGDP1       3.0                    ...   \n",
       "3   \"06001\"  Alameda, CA     8.0    CAGDP1       1.0                    ...   \n",
       "4   \"06001\"  Alameda, CA     8.0    CAGDP1       2.0                    ...   \n",
       "\n",
       "                                         Description  \\\n",
       "0       Real GDP (thousands of chained 2012 dollars)   \n",
       "1           Chain-type quantity indexes for real GDP   \n",
       "2  Current-dollar GDP (thousands of current dollars)   \n",
       "3       Real GDP (thousands of chained 2012 dollars)   \n",
       "4           Chain-type quantity indexes for real GDP   \n",
       "\n",
       "                                Unit          2001          2002  ...  \\\n",
       "0  Thousands of chained 2012 dollars  1.692324e+09  1.722522e+09  ...   \n",
       "1                     Quantity index  8.008700e+01  8.151700e+01  ...   \n",
       "2               Thousands of dollars  1.375761e+09  1.418430e+09  ...   \n",
       "3  Thousands of chained 2012 dollars  8.179943e+07  8.258638e+07  ...   \n",
       "4                     Quantity index  8.543100e+01  8.625300e+01  ...   \n",
       "\n",
       "           2011          2012          2013          2014          2015  \\\n",
       "0  2.063828e+09  2.113096e+09  2.179229e+09  2.256055e+09  2.357453e+09   \n",
       "1  9.766800e+01  1.000000e+02  1.031300e+02  1.067650e+02  1.115640e+02   \n",
       "2  2.023500e+09  2.113096e+09  2.220390e+09  2.335286e+09  2.473556e+09   \n",
       "3  9.320961e+07  9.574948e+07  9.866994e+07  1.023338e+08  1.094216e+08   \n",
       "4  9.734700e+01  1.000000e+02  1.030500e+02  1.068770e+02  1.142790e+02   \n",
       "\n",
       "           2016          2017          2018          2019          2020  \n",
       "0  2.427895e+09  2.541769e+09  2.643576e+09  2.739343e+09  2.663666e+09  \n",
       "1  1.148970e+02  1.202860e+02  1.251040e+02  1.296360e+02  1.260550e+02  \n",
       "2  2.569634e+09  2.730974e+09  2.895101e+09  3.052645e+09  3.007188e+09  \n",
       "3  1.129437e+08  1.191171e+08  1.237183e+08  1.261836e+08  1.217090e+08  \n",
       "4  1.179580e+02  1.244050e+02  1.292100e+02  1.317850e+02  1.271120e+02  \n",
       "\n",
       "[5 rows x 28 columns]"
      ]
     },
     "execution_count": 87,
     "metadata": {},
     "output_type": "execute_result"
    }
   ],
   "source": [
    "import pandas as pd\n",
    "import numpy as np\n",
    "import matplotlib.pyplot as plt\n",
    "from sklearn import model_selection\n",
    "from sklearn.linear_model import LinearRegression\n",
    "from sklearn.linear_model import LogisticRegression\n",
    "from sklearn.tree import DecisionTreeClassifier\n",
    "from sklearn.neighbors import KNeighborsClassifier\n",
    "from sklearn.discriminant_analysis import LinearDiscriminantAnalysis\n",
    "from sklearn.naive_bayes import GaussianNB\n",
    "from sklearn.svm import SVC\n",
    "import seaborn as sns\n",
    "\n",
    "\n",
    "# load GDP dataset\n",
    "df_GDP = pd.read_csv('GDP_CA_2001_2020.csv')\n",
    "df_GDP.head()"
   ]
  },
  {
   "cell_type": "code",
   "execution_count": 88,
   "id": "7eb88140",
   "metadata": {},
   "outputs": [
    {
     "name": "stdout",
     "output_type": "stream",
     "text": [
      "<class 'pandas.core.frame.DataFrame'>\n",
      "RangeIndex: 181 entries, 0 to 180\n",
      "Data columns (total 28 columns):\n",
      " #   Column                  Non-Null Count  Dtype  \n",
      "---  ------                  --------------  -----  \n",
      " 0   GeoFIPS                 181 non-null    object \n",
      " 1   GeoName                 177 non-null    object \n",
      " 2   Region                  177 non-null    float64\n",
      " 3   TableName               177 non-null    object \n",
      " 4   LineCode                177 non-null    float64\n",
      " 5   IndustryClassification  177 non-null    object \n",
      " 6   Description             177 non-null    object \n",
      " 7   Unit                    177 non-null    object \n",
      " 8   2001                    177 non-null    float64\n",
      " 9   2002                    177 non-null    float64\n",
      " 10  2003                    177 non-null    float64\n",
      " 11  2004                    177 non-null    float64\n",
      " 12  2005                    177 non-null    float64\n",
      " 13  2006                    177 non-null    float64\n",
      " 14  2007                    177 non-null    float64\n",
      " 15  2008                    177 non-null    float64\n",
      " 16  2009                    177 non-null    float64\n",
      " 17  2010                    177 non-null    float64\n",
      " 18  2011                    177 non-null    float64\n",
      " 19  2012                    177 non-null    float64\n",
      " 20  2013                    177 non-null    float64\n",
      " 21  2014                    177 non-null    float64\n",
      " 22  2015                    177 non-null    float64\n",
      " 23  2016                    177 non-null    float64\n",
      " 24  2017                    177 non-null    float64\n",
      " 25  2018                    177 non-null    float64\n",
      " 26  2019                    177 non-null    float64\n",
      " 27  2020                    177 non-null    float64\n",
      "dtypes: float64(22), object(6)\n",
      "memory usage: 39.7+ KB\n"
     ]
    }
   ],
   "source": [
    "df_GDP.info()"
   ]
  },
  {
   "cell_type": "code",
   "execution_count": 89,
   "id": "b8fd18d2",
   "metadata": {},
   "outputs": [
    {
     "data": {
      "text/html": [
       "<div>\n",
       "<style scoped>\n",
       "    .dataframe tbody tr th:only-of-type {\n",
       "        vertical-align: middle;\n",
       "    }\n",
       "\n",
       "    .dataframe tbody tr th {\n",
       "        vertical-align: top;\n",
       "    }\n",
       "\n",
       "    .dataframe thead th {\n",
       "        text-align: right;\n",
       "    }\n",
       "</style>\n",
       "<table border=\"1\" class=\"dataframe\">\n",
       "  <thead>\n",
       "    <tr style=\"text-align: right;\">\n",
       "      <th></th>\n",
       "      <th>Region</th>\n",
       "      <th>LineCode</th>\n",
       "      <th>2001</th>\n",
       "      <th>2002</th>\n",
       "      <th>2003</th>\n",
       "      <th>2004</th>\n",
       "      <th>2005</th>\n",
       "      <th>2006</th>\n",
       "      <th>2007</th>\n",
       "      <th>2008</th>\n",
       "      <th>...</th>\n",
       "      <th>2011</th>\n",
       "      <th>2012</th>\n",
       "      <th>2013</th>\n",
       "      <th>2014</th>\n",
       "      <th>2015</th>\n",
       "      <th>2016</th>\n",
       "      <th>2017</th>\n",
       "      <th>2018</th>\n",
       "      <th>2019</th>\n",
       "      <th>2020</th>\n",
       "    </tr>\n",
       "  </thead>\n",
       "  <tbody>\n",
       "    <tr>\n",
       "      <th>count</th>\n",
       "      <td>177.0</td>\n",
       "      <td>177.000000</td>\n",
       "      <td>1.770000e+02</td>\n",
       "      <td>1.770000e+02</td>\n",
       "      <td>1.770000e+02</td>\n",
       "      <td>1.770000e+02</td>\n",
       "      <td>1.770000e+02</td>\n",
       "      <td>1.770000e+02</td>\n",
       "      <td>1.770000e+02</td>\n",
       "      <td>1.770000e+02</td>\n",
       "      <td>...</td>\n",
       "      <td>1.770000e+02</td>\n",
       "      <td>1.770000e+02</td>\n",
       "      <td>1.770000e+02</td>\n",
       "      <td>1.770000e+02</td>\n",
       "      <td>1.770000e+02</td>\n",
       "      <td>1.770000e+02</td>\n",
       "      <td>1.770000e+02</td>\n",
       "      <td>1.770000e+02</td>\n",
       "      <td>1.770000e+02</td>\n",
       "      <td>1.770000e+02</td>\n",
       "    </tr>\n",
       "    <tr>\n",
       "      <th>mean</th>\n",
       "      <td>8.0</td>\n",
       "      <td>2.000000</td>\n",
       "      <td>3.468765e+07</td>\n",
       "      <td>3.552719e+07</td>\n",
       "      <td>3.718282e+07</td>\n",
       "      <td>3.889249e+07</td>\n",
       "      <td>4.099984e+07</td>\n",
       "      <td>4.313326e+07</td>\n",
       "      <td>4.454368e+07</td>\n",
       "      <td>4.529435e+07</td>\n",
       "      <td>...</td>\n",
       "      <td>4.618526e+07</td>\n",
       "      <td>4.775363e+07</td>\n",
       "      <td>4.971368e+07</td>\n",
       "      <td>5.188148e+07</td>\n",
       "      <td>5.458981e+07</td>\n",
       "      <td>5.647088e+07</td>\n",
       "      <td>5.958153e+07</td>\n",
       "      <td>6.259023e+07</td>\n",
       "      <td>6.545566e+07</td>\n",
       "      <td>6.409773e+07</td>\n",
       "    </tr>\n",
       "    <tr>\n",
       "      <th>std</th>\n",
       "      <td>0.0</td>\n",
       "      <td>0.818813</td>\n",
       "      <td>1.699176e+08</td>\n",
       "      <td>1.738176e+08</td>\n",
       "      <td>1.817864e+08</td>\n",
       "      <td>1.899086e+08</td>\n",
       "      <td>1.998052e+08</td>\n",
       "      <td>2.100903e+08</td>\n",
       "      <td>2.167973e+08</td>\n",
       "      <td>2.205643e+08</td>\n",
       "      <td>...</td>\n",
       "      <td>2.250071e+08</td>\n",
       "      <td>2.324972e+08</td>\n",
       "      <td>2.419280e+08</td>\n",
       "      <td>2.524382e+08</td>\n",
       "      <td>2.657108e+08</td>\n",
       "      <td>2.748022e+08</td>\n",
       "      <td>2.898891e+08</td>\n",
       "      <td>3.045556e+08</td>\n",
       "      <td>3.186079e+08</td>\n",
       "      <td>3.116377e+08</td>\n",
       "    </tr>\n",
       "    <tr>\n",
       "      <th>min</th>\n",
       "      <td>8.0</td>\n",
       "      <td>1.000000</td>\n",
       "      <td>5.938200e+01</td>\n",
       "      <td>5.681400e+01</td>\n",
       "      <td>6.015900e+01</td>\n",
       "      <td>6.253500e+01</td>\n",
       "      <td>6.649600e+01</td>\n",
       "      <td>7.155500e+01</td>\n",
       "      <td>7.583900e+01</td>\n",
       "      <td>7.607400e+01</td>\n",
       "      <td>...</td>\n",
       "      <td>8.207300e+01</td>\n",
       "      <td>1.000000e+02</td>\n",
       "      <td>9.313200e+01</td>\n",
       "      <td>8.916500e+01</td>\n",
       "      <td>9.017200e+01</td>\n",
       "      <td>9.650500e+01</td>\n",
       "      <td>9.103100e+01</td>\n",
       "      <td>9.154400e+01</td>\n",
       "      <td>9.107600e+01</td>\n",
       "      <td>9.207800e+01</td>\n",
       "    </tr>\n",
       "    <tr>\n",
       "      <th>25%</th>\n",
       "      <td>8.0</td>\n",
       "      <td>1.000000</td>\n",
       "      <td>9.166500e+01</td>\n",
       "      <td>9.896600e+01</td>\n",
       "      <td>9.948900e+01</td>\n",
       "      <td>1.011600e+02</td>\n",
       "      <td>1.033000e+02</td>\n",
       "      <td>1.061110e+02</td>\n",
       "      <td>1.058010e+02</td>\n",
       "      <td>1.039260e+02</td>\n",
       "      <td>...</td>\n",
       "      <td>1.046980e+02</td>\n",
       "      <td>1.000000e+02</td>\n",
       "      <td>1.037400e+02</td>\n",
       "      <td>1.068900e+02</td>\n",
       "      <td>1.114700e+02</td>\n",
       "      <td>1.158850e+02</td>\n",
       "      <td>1.202860e+02</td>\n",
       "      <td>1.222820e+02</td>\n",
       "      <td>1.275750e+02</td>\n",
       "      <td>1.248210e+02</td>\n",
       "    </tr>\n",
       "    <tr>\n",
       "      <th>50%</th>\n",
       "      <td>8.0</td>\n",
       "      <td>2.000000</td>\n",
       "      <td>1.118369e+06</td>\n",
       "      <td>1.229494e+06</td>\n",
       "      <td>1.254471e+06</td>\n",
       "      <td>1.354372e+06</td>\n",
       "      <td>1.419893e+06</td>\n",
       "      <td>1.481254e+06</td>\n",
       "      <td>1.486497e+06</td>\n",
       "      <td>1.452987e+06</td>\n",
       "      <td>...</td>\n",
       "      <td>1.441492e+06</td>\n",
       "      <td>1.382695e+06</td>\n",
       "      <td>1.440258e+06</td>\n",
       "      <td>1.488434e+06</td>\n",
       "      <td>1.576129e+06</td>\n",
       "      <td>1.624237e+06</td>\n",
       "      <td>1.732487e+06</td>\n",
       "      <td>1.786296e+06</td>\n",
       "      <td>1.870309e+06</td>\n",
       "      <td>1.848108e+06</td>\n",
       "    </tr>\n",
       "    <tr>\n",
       "      <th>75%</th>\n",
       "      <td>8.0</td>\n",
       "      <td>3.000000</td>\n",
       "      <td>1.140431e+07</td>\n",
       "      <td>1.216344e+07</td>\n",
       "      <td>1.241956e+07</td>\n",
       "      <td>1.306165e+07</td>\n",
       "      <td>1.419982e+07</td>\n",
       "      <td>1.488086e+07</td>\n",
       "      <td>1.539080e+07</td>\n",
       "      <td>1.555348e+07</td>\n",
       "      <td>...</td>\n",
       "      <td>1.602862e+07</td>\n",
       "      <td>1.671216e+07</td>\n",
       "      <td>1.760231e+07</td>\n",
       "      <td>1.836294e+07</td>\n",
       "      <td>1.923534e+07</td>\n",
       "      <td>1.962348e+07</td>\n",
       "      <td>2.063280e+07</td>\n",
       "      <td>2.123421e+07</td>\n",
       "      <td>2.165822e+07</td>\n",
       "      <td>2.143904e+07</td>\n",
       "    </tr>\n",
       "    <tr>\n",
       "      <th>max</th>\n",
       "      <td>8.0</td>\n",
       "      <td>3.000000</td>\n",
       "      <td>1.692324e+09</td>\n",
       "      <td>1.722522e+09</td>\n",
       "      <td>1.789999e+09</td>\n",
       "      <td>1.850904e+09</td>\n",
       "      <td>1.926842e+09</td>\n",
       "      <td>2.002437e+09</td>\n",
       "      <td>2.041192e+09</td>\n",
       "      <td>2.061639e+09</td>\n",
       "      <td>...</td>\n",
       "      <td>2.063828e+09</td>\n",
       "      <td>2.113096e+09</td>\n",
       "      <td>2.220390e+09</td>\n",
       "      <td>2.335286e+09</td>\n",
       "      <td>2.473556e+09</td>\n",
       "      <td>2.569634e+09</td>\n",
       "      <td>2.730974e+09</td>\n",
       "      <td>2.895101e+09</td>\n",
       "      <td>3.052645e+09</td>\n",
       "      <td>3.007188e+09</td>\n",
       "    </tr>\n",
       "  </tbody>\n",
       "</table>\n",
       "<p>8 rows × 22 columns</p>\n",
       "</div>"
      ],
      "text/plain": [
       "       Region    LineCode          2001          2002          2003  \\\n",
       "count   177.0  177.000000  1.770000e+02  1.770000e+02  1.770000e+02   \n",
       "mean      8.0    2.000000  3.468765e+07  3.552719e+07  3.718282e+07   \n",
       "std       0.0    0.818813  1.699176e+08  1.738176e+08  1.817864e+08   \n",
       "min       8.0    1.000000  5.938200e+01  5.681400e+01  6.015900e+01   \n",
       "25%       8.0    1.000000  9.166500e+01  9.896600e+01  9.948900e+01   \n",
       "50%       8.0    2.000000  1.118369e+06  1.229494e+06  1.254471e+06   \n",
       "75%       8.0    3.000000  1.140431e+07  1.216344e+07  1.241956e+07   \n",
       "max       8.0    3.000000  1.692324e+09  1.722522e+09  1.789999e+09   \n",
       "\n",
       "               2004          2005          2006          2007          2008  \\\n",
       "count  1.770000e+02  1.770000e+02  1.770000e+02  1.770000e+02  1.770000e+02   \n",
       "mean   3.889249e+07  4.099984e+07  4.313326e+07  4.454368e+07  4.529435e+07   \n",
       "std    1.899086e+08  1.998052e+08  2.100903e+08  2.167973e+08  2.205643e+08   \n",
       "min    6.253500e+01  6.649600e+01  7.155500e+01  7.583900e+01  7.607400e+01   \n",
       "25%    1.011600e+02  1.033000e+02  1.061110e+02  1.058010e+02  1.039260e+02   \n",
       "50%    1.354372e+06  1.419893e+06  1.481254e+06  1.486497e+06  1.452987e+06   \n",
       "75%    1.306165e+07  1.419982e+07  1.488086e+07  1.539080e+07  1.555348e+07   \n",
       "max    1.850904e+09  1.926842e+09  2.002437e+09  2.041192e+09  2.061639e+09   \n",
       "\n",
       "       ...          2011          2012          2013          2014  \\\n",
       "count  ...  1.770000e+02  1.770000e+02  1.770000e+02  1.770000e+02   \n",
       "mean   ...  4.618526e+07  4.775363e+07  4.971368e+07  5.188148e+07   \n",
       "std    ...  2.250071e+08  2.324972e+08  2.419280e+08  2.524382e+08   \n",
       "min    ...  8.207300e+01  1.000000e+02  9.313200e+01  8.916500e+01   \n",
       "25%    ...  1.046980e+02  1.000000e+02  1.037400e+02  1.068900e+02   \n",
       "50%    ...  1.441492e+06  1.382695e+06  1.440258e+06  1.488434e+06   \n",
       "75%    ...  1.602862e+07  1.671216e+07  1.760231e+07  1.836294e+07   \n",
       "max    ...  2.063828e+09  2.113096e+09  2.220390e+09  2.335286e+09   \n",
       "\n",
       "               2015          2016          2017          2018          2019  \\\n",
       "count  1.770000e+02  1.770000e+02  1.770000e+02  1.770000e+02  1.770000e+02   \n",
       "mean   5.458981e+07  5.647088e+07  5.958153e+07  6.259023e+07  6.545566e+07   \n",
       "std    2.657108e+08  2.748022e+08  2.898891e+08  3.045556e+08  3.186079e+08   \n",
       "min    9.017200e+01  9.650500e+01  9.103100e+01  9.154400e+01  9.107600e+01   \n",
       "25%    1.114700e+02  1.158850e+02  1.202860e+02  1.222820e+02  1.275750e+02   \n",
       "50%    1.576129e+06  1.624237e+06  1.732487e+06  1.786296e+06  1.870309e+06   \n",
       "75%    1.923534e+07  1.962348e+07  2.063280e+07  2.123421e+07  2.165822e+07   \n",
       "max    2.473556e+09  2.569634e+09  2.730974e+09  2.895101e+09  3.052645e+09   \n",
       "\n",
       "               2020  \n",
       "count  1.770000e+02  \n",
       "mean   6.409773e+07  \n",
       "std    3.116377e+08  \n",
       "min    9.207800e+01  \n",
       "25%    1.248210e+02  \n",
       "50%    1.848108e+06  \n",
       "75%    2.143904e+07  \n",
       "max    3.007188e+09  \n",
       "\n",
       "[8 rows x 22 columns]"
      ]
     },
     "execution_count": 89,
     "metadata": {},
     "output_type": "execute_result"
    }
   ],
   "source": [
    "df_GDP.describe()"
   ]
  },
  {
   "cell_type": "code",
   "execution_count": 90,
   "id": "204f544b",
   "metadata": {},
   "outputs": [],
   "source": [
    "# clean the noisy data\n",
    "df_GDP['GeoName'] = df_GDP['GeoName'].str.rstrip(', CA')\n",
    "df_GDP.drop(df_GDP.tail(4).index,inplace=True) # drop last n rows\n",
    "df_GDP = df_GDP.drop(['GeoFIPS','Region','TableName','LineCode','IndustryClassification'],axis=1)\n",
    "df_GDP = df_GDP[df_GDP.Description == 'Current-dollar GDP (thousands of current dollars)']\n",
    "df_GDP = df_GDP.drop(df_GDP.columns[3:14],axis=1)\n",
    "df_GDP = df_GDP.dropna()\n",
    "df_GDP = df_GDP.drop(df_GDP.columns[-1:],axis=1)\n",
    "df_GDP = df_GDP.drop(df_GDP.columns[1:2],axis=1)"
   ]
  },
  {
   "cell_type": "code",
   "execution_count": 91,
   "id": "0563c3aa",
   "metadata": {},
   "outputs": [
    {
     "data": {
      "text/html": [
       "<div>\n",
       "<style scoped>\n",
       "    .dataframe tbody tr th:only-of-type {\n",
       "        vertical-align: middle;\n",
       "    }\n",
       "\n",
       "    .dataframe tbody tr th {\n",
       "        vertical-align: top;\n",
       "    }\n",
       "\n",
       "    .dataframe thead th {\n",
       "        text-align: right;\n",
       "    }\n",
       "</style>\n",
       "<table border=\"1\" class=\"dataframe\">\n",
       "  <thead>\n",
       "    <tr style=\"text-align: right;\">\n",
       "      <th></th>\n",
       "      <th>GeoName</th>\n",
       "      <th>Unit</th>\n",
       "      <th>2012</th>\n",
       "      <th>2013</th>\n",
       "      <th>2014</th>\n",
       "      <th>2015</th>\n",
       "      <th>2016</th>\n",
       "      <th>2017</th>\n",
       "      <th>2018</th>\n",
       "      <th>2019</th>\n",
       "    </tr>\n",
       "  </thead>\n",
       "  <tbody>\n",
       "    <tr>\n",
       "      <th>2</th>\n",
       "      <td>California</td>\n",
       "      <td>Thousands of dollars</td>\n",
       "      <td>2.113096e+09</td>\n",
       "      <td>2.220390e+09</td>\n",
       "      <td>2.335286e+09</td>\n",
       "      <td>2.473556e+09</td>\n",
       "      <td>2.569634e+09</td>\n",
       "      <td>2.730974e+09</td>\n",
       "      <td>2.895101e+09</td>\n",
       "      <td>3.052645e+09</td>\n",
       "    </tr>\n",
       "    <tr>\n",
       "      <th>5</th>\n",
       "      <td>Alameda</td>\n",
       "      <td>Thousands of dollars</td>\n",
       "      <td>9.574948e+07</td>\n",
       "      <td>1.005214e+08</td>\n",
       "      <td>1.059368e+08</td>\n",
       "      <td>1.157918e+08</td>\n",
       "      <td>1.210535e+08</td>\n",
       "      <td>1.290289e+08</td>\n",
       "      <td>1.361689e+08</td>\n",
       "      <td>1.418886e+08</td>\n",
       "    </tr>\n",
       "    <tr>\n",
       "      <th>8</th>\n",
       "      <td>Alpine</td>\n",
       "      <td>Thousands of dollars</td>\n",
       "      <td>9.529400e+04</td>\n",
       "      <td>9.392700e+04</td>\n",
       "      <td>1.027050e+05</td>\n",
       "      <td>1.085030e+05</td>\n",
       "      <td>1.092630e+05</td>\n",
       "      <td>1.108430e+05</td>\n",
       "      <td>1.140550e+05</td>\n",
       "      <td>1.219480e+05</td>\n",
       "    </tr>\n",
       "    <tr>\n",
       "      <th>11</th>\n",
       "      <td>Amador</td>\n",
       "      <td>Thousands of dollars</td>\n",
       "      <td>1.365613e+06</td>\n",
       "      <td>1.440258e+06</td>\n",
       "      <td>1.488434e+06</td>\n",
       "      <td>1.551133e+06</td>\n",
       "      <td>1.617941e+06</td>\n",
       "      <td>1.732487e+06</td>\n",
       "      <td>1.786296e+06</td>\n",
       "      <td>1.870309e+06</td>\n",
       "    </tr>\n",
       "    <tr>\n",
       "      <th>14</th>\n",
       "      <td>Butte</td>\n",
       "      <td>Thousands of dollars</td>\n",
       "      <td>7.363012e+06</td>\n",
       "      <td>7.602095e+06</td>\n",
       "      <td>7.634930e+06</td>\n",
       "      <td>8.041364e+06</td>\n",
       "      <td>8.649007e+06</td>\n",
       "      <td>9.189787e+06</td>\n",
       "      <td>9.500527e+06</td>\n",
       "      <td>9.893227e+06</td>\n",
       "    </tr>\n",
       "  </tbody>\n",
       "</table>\n",
       "</div>"
      ],
      "text/plain": [
       "       GeoName                  Unit          2012          2013  \\\n",
       "2   California  Thousands of dollars  2.113096e+09  2.220390e+09   \n",
       "5      Alameda  Thousands of dollars  9.574948e+07  1.005214e+08   \n",
       "8       Alpine  Thousands of dollars  9.529400e+04  9.392700e+04   \n",
       "11      Amador  Thousands of dollars  1.365613e+06  1.440258e+06   \n",
       "14       Butte  Thousands of dollars  7.363012e+06  7.602095e+06   \n",
       "\n",
       "            2014          2015          2016          2017          2018  \\\n",
       "2   2.335286e+09  2.473556e+09  2.569634e+09  2.730974e+09  2.895101e+09   \n",
       "5   1.059368e+08  1.157918e+08  1.210535e+08  1.290289e+08  1.361689e+08   \n",
       "8   1.027050e+05  1.085030e+05  1.092630e+05  1.108430e+05  1.140550e+05   \n",
       "11  1.488434e+06  1.551133e+06  1.617941e+06  1.732487e+06  1.786296e+06   \n",
       "14  7.634930e+06  8.041364e+06  8.649007e+06  9.189787e+06  9.500527e+06   \n",
       "\n",
       "            2019  \n",
       "2   3.052645e+09  \n",
       "5   1.418886e+08  \n",
       "8   1.219480e+05  \n",
       "11  1.870309e+06  \n",
       "14  9.893227e+06  "
      ]
     },
     "execution_count": 91,
     "metadata": {},
     "output_type": "execute_result"
    }
   ],
   "source": [
    "df_GDP.head()"
   ]
  },
  {
   "cell_type": "code",
   "execution_count": 92,
   "id": "0bffad52",
   "metadata": {},
   "outputs": [
    {
     "data": {
      "text/html": [
       "<div>\n",
       "<style scoped>\n",
       "    .dataframe tbody tr th:only-of-type {\n",
       "        vertical-align: middle;\n",
       "    }\n",
       "\n",
       "    .dataframe tbody tr th {\n",
       "        vertical-align: top;\n",
       "    }\n",
       "\n",
       "    .dataframe thead th {\n",
       "        text-align: right;\n",
       "    }\n",
       "</style>\n",
       "<table border=\"1\" class=\"dataframe\">\n",
       "  <thead>\n",
       "    <tr style=\"text-align: right;\">\n",
       "      <th></th>\n",
       "      <th>X</th>\n",
       "      <th>Y</th>\n",
       "      <th>OBJECTID</th>\n",
       "      <th>Provider_N</th>\n",
       "      <th>NPI</th>\n",
       "      <th>Medicaid_E</th>\n",
       "      <th>Specialty</th>\n",
       "      <th>Business_S</th>\n",
       "      <th>Business_C</th>\n",
       "      <th>Business_1</th>\n",
       "      <th>...</th>\n",
       "      <th>Program_Ye</th>\n",
       "      <th>Payment_Ye</th>\n",
       "      <th>Payment__1</th>\n",
       "      <th>Payment_Cr</th>\n",
       "      <th>Payee_Name</th>\n",
       "      <th>Payee_NPI</th>\n",
       "      <th>total_paym</th>\n",
       "      <th>total_rece</th>\n",
       "      <th>Latitude</th>\n",
       "      <th>Longitude</th>\n",
       "    </tr>\n",
       "  </thead>\n",
       "  <tbody>\n",
       "    <tr>\n",
       "      <th>0</th>\n",
       "      <td>-121.376390</td>\n",
       "      <td>38.556297</td>\n",
       "      <td>1</td>\n",
       "      <td>Choti, Supak</td>\n",
       "      <td>1003003781</td>\n",
       "      <td>Dentist</td>\n",
       "      <td>UNKNOWN</td>\n",
       "      <td>8890 Cal Center Drive</td>\n",
       "      <td>Sacramento</td>\n",
       "      <td>Sacramento</td>\n",
       "      <td>...</td>\n",
       "      <td>2018</td>\n",
       "      <td>2019</td>\n",
       "      <td>3</td>\n",
       "      <td>MU</td>\n",
       "      <td>DINSHAW SARKARI ADC   CHERAG</td>\n",
       "      <td>1821152562</td>\n",
       "      <td>38250.0</td>\n",
       "      <td>8500.0</td>\n",
       "      <td>38.556297</td>\n",
       "      <td>-121.376390</td>\n",
       "    </tr>\n",
       "    <tr>\n",
       "      <th>1</th>\n",
       "      <td>-122.242829</td>\n",
       "      <td>37.781795</td>\n",
       "      <td>2</td>\n",
       "      <td>Sheikh, Mohammad</td>\n",
       "      <td>1003009077</td>\n",
       "      <td>Physician</td>\n",
       "      <td>PSYCHIATRY</td>\n",
       "      <td>2000 Embarcadero Ste 101</td>\n",
       "      <td>Oakland</td>\n",
       "      <td>Alameda</td>\n",
       "      <td>...</td>\n",
       "      <td>2013</td>\n",
       "      <td>2014</td>\n",
       "      <td>1</td>\n",
       "      <td>AIU</td>\n",
       "      <td>of Alameda County</td>\n",
       "      <td>1659402303</td>\n",
       "      <td>21250.0</td>\n",
       "      <td>21250.0</td>\n",
       "      <td>37.781795</td>\n",
       "      <td>-122.242829</td>\n",
       "    </tr>\n",
       "    <tr>\n",
       "      <th>2</th>\n",
       "      <td>-121.805015</td>\n",
       "      <td>37.983654</td>\n",
       "      <td>3</td>\n",
       "      <td>vontela, rekha</td>\n",
       "      <td>1003009440</td>\n",
       "      <td>Dentist</td>\n",
       "      <td>UNKNOWN</td>\n",
       "      <td>3737 Lone Tree Way, suite F</td>\n",
       "      <td>Antioch</td>\n",
       "      <td>Contra Costa</td>\n",
       "      <td>...</td>\n",
       "      <td>2015</td>\n",
       "      <td>2016</td>\n",
       "      <td>1</td>\n",
       "      <td>AIU</td>\n",
       "      <td>Designated Payee Name not Found</td>\n",
       "      <td>1427388875</td>\n",
       "      <td>21250.0</td>\n",
       "      <td>21250.0</td>\n",
       "      <td>37.983654</td>\n",
       "      <td>-121.805014</td>\n",
       "    </tr>\n",
       "    <tr>\n",
       "      <th>3</th>\n",
       "      <td>-117.265614</td>\n",
       "      <td>34.050607</td>\n",
       "      <td>4</td>\n",
       "      <td>Pardo, Andrea</td>\n",
       "      <td>1003010059</td>\n",
       "      <td>Physician</td>\n",
       "      <td>UNKNOWN</td>\n",
       "      <td>11175 Campus St, Room A1120C</td>\n",
       "      <td>Loma Linda</td>\n",
       "      <td>San Bernardino</td>\n",
       "      <td>...</td>\n",
       "      <td>2014</td>\n",
       "      <td>2015</td>\n",
       "      <td>2</td>\n",
       "      <td>MU</td>\n",
       "      <td>PHYSICIANS         FACULTY</td>\n",
       "      <td>1275583007</td>\n",
       "      <td>29750.0</td>\n",
       "      <td>8500.0</td>\n",
       "      <td>34.050607</td>\n",
       "      <td>-117.265614</td>\n",
       "    </tr>\n",
       "    <tr>\n",
       "      <th>4</th>\n",
       "      <td>-117.867478</td>\n",
       "      <td>33.779086</td>\n",
       "      <td>5</td>\n",
       "      <td>Lim, kyung A</td>\n",
       "      <td>1003010372</td>\n",
       "      <td>Dentist</td>\n",
       "      <td>UNKNOWN</td>\n",
       "      <td>530 South Main St.</td>\n",
       "      <td>Orange</td>\n",
       "      <td>Orange</td>\n",
       "      <td>...</td>\n",
       "      <td>2013</td>\n",
       "      <td>2014</td>\n",
       "      <td>1</td>\n",
       "      <td>AIU</td>\n",
       "      <td>Dental Western</td>\n",
       "      <td>1477627156</td>\n",
       "      <td>21250.0</td>\n",
       "      <td>21250.0</td>\n",
       "      <td>33.779086</td>\n",
       "      <td>-117.867478</td>\n",
       "    </tr>\n",
       "  </tbody>\n",
       "</table>\n",
       "<p>5 rows × 22 columns</p>\n",
       "</div>"
      ],
      "text/plain": [
       "            X          Y  OBJECTID        Provider_N         NPI Medicaid_E  \\\n",
       "0 -121.376390  38.556297         1      Choti, Supak  1003003781    Dentist   \n",
       "1 -122.242829  37.781795         2  Sheikh, Mohammad  1003009077  Physician   \n",
       "2 -121.805015  37.983654         3    vontela, rekha  1003009440    Dentist   \n",
       "3 -117.265614  34.050607         4     Pardo, Andrea  1003010059  Physician   \n",
       "4 -117.867478  33.779086         5      Lim, kyung A  1003010372    Dentist   \n",
       "\n",
       "    Specialty                    Business_S  Business_C      Business_1  ...  \\\n",
       "0     UNKNOWN         8890 Cal Center Drive  Sacramento      Sacramento  ...   \n",
       "1  PSYCHIATRY      2000 Embarcadero Ste 101     Oakland         Alameda  ...   \n",
       "2     UNKNOWN   3737 Lone Tree Way, suite F     Antioch    Contra Costa  ...   \n",
       "3     UNKNOWN  11175 Campus St, Room A1120C  Loma Linda  San Bernardino  ...   \n",
       "4     UNKNOWN            530 South Main St.      Orange          Orange  ...   \n",
       "\n",
       "   Program_Ye Payment_Ye  Payment__1  Payment_Cr  \\\n",
       "0        2018       2019           3          MU   \n",
       "1        2013       2014           1         AIU   \n",
       "2        2015       2016           1         AIU   \n",
       "3        2014       2015           2          MU   \n",
       "4        2013       2014           1         AIU   \n",
       "\n",
       "                        Payee_Name   Payee_NPI total_paym  total_rece  \\\n",
       "0     DINSHAW SARKARI ADC   CHERAG  1821152562    38250.0      8500.0   \n",
       "1                of Alameda County  1659402303    21250.0     21250.0   \n",
       "2  Designated Payee Name not Found  1427388875    21250.0     21250.0   \n",
       "3       PHYSICIANS         FACULTY  1275583007    29750.0      8500.0   \n",
       "4                   Dental Western  1477627156    21250.0     21250.0   \n",
       "\n",
       "    Latitude   Longitude  \n",
       "0  38.556297 -121.376390  \n",
       "1  37.781795 -122.242829  \n",
       "2  37.983654 -121.805014  \n",
       "3  34.050607 -117.265614  \n",
       "4  33.779086 -117.867478  \n",
       "\n",
       "[5 rows x 22 columns]"
      ]
     },
     "execution_count": 92,
     "metadata": {},
     "output_type": "execute_result"
    }
   ],
   "source": [
    "# load EHR dataset\n",
    "df_EHR = pd.read_csv('EHR_Incentive_Program_Payments_-_Providers.csv')\n",
    "df_EHR.head()"
   ]
  },
  {
   "cell_type": "code",
   "execution_count": 93,
   "id": "7a6c5c2f",
   "metadata": {},
   "outputs": [
    {
     "name": "stdout",
     "output_type": "stream",
     "text": [
      "<class 'pandas.core.frame.DataFrame'>\n",
      "RangeIndex: 25691 entries, 0 to 25690\n",
      "Data columns (total 22 columns):\n",
      " #   Column      Non-Null Count  Dtype  \n",
      "---  ------      --------------  -----  \n",
      " 0   X           25691 non-null  float64\n",
      " 1   Y           25691 non-null  float64\n",
      " 2   OBJECTID    25691 non-null  int64  \n",
      " 3   Provider_N  25691 non-null  object \n",
      " 4   NPI         25691 non-null  int64  \n",
      " 5   Medicaid_E  25691 non-null  object \n",
      " 6   Specialty   25691 non-null  object \n",
      " 7   Business_S  25691 non-null  object \n",
      " 8   Business_C  25691 non-null  object \n",
      " 9   Business_1  25691 non-null  object \n",
      " 10  Business_Z  25691 non-null  int64  \n",
      " 11  Business_2  25691 non-null  object \n",
      " 12  Program_Ye  25691 non-null  int64  \n",
      " 13  Payment_Ye  25691 non-null  int64  \n",
      " 14  Payment__1  25691 non-null  int64  \n",
      " 15  Payment_Cr  25691 non-null  object \n",
      " 16  Payee_Name  25691 non-null  object \n",
      " 17  Payee_NPI   25691 non-null  int64  \n",
      " 18  total_paym  25691 non-null  float64\n",
      " 19  total_rece  25691 non-null  float64\n",
      " 20  Latitude    25691 non-null  float64\n",
      " 21  Longitude   25691 non-null  float64\n",
      "dtypes: float64(6), int64(7), object(9)\n",
      "memory usage: 4.3+ MB\n"
     ]
    }
   ],
   "source": [
    "df_EHR.info()"
   ]
  },
  {
   "cell_type": "code",
   "execution_count": 94,
   "id": "db88c235",
   "metadata": {},
   "outputs": [
    {
     "data": {
      "text/html": [
       "<div>\n",
       "<style scoped>\n",
       "    .dataframe tbody tr th:only-of-type {\n",
       "        vertical-align: middle;\n",
       "    }\n",
       "\n",
       "    .dataframe tbody tr th {\n",
       "        vertical-align: top;\n",
       "    }\n",
       "\n",
       "    .dataframe thead th {\n",
       "        text-align: right;\n",
       "    }\n",
       "</style>\n",
       "<table border=\"1\" class=\"dataframe\">\n",
       "  <thead>\n",
       "    <tr style=\"text-align: right;\">\n",
       "      <th></th>\n",
       "      <th>X</th>\n",
       "      <th>Y</th>\n",
       "      <th>OBJECTID</th>\n",
       "      <th>NPI</th>\n",
       "      <th>Business_Z</th>\n",
       "      <th>Program_Ye</th>\n",
       "      <th>Payment_Ye</th>\n",
       "      <th>Payment__1</th>\n",
       "      <th>Payee_NPI</th>\n",
       "      <th>total_paym</th>\n",
       "      <th>total_rece</th>\n",
       "      <th>Latitude</th>\n",
       "      <th>Longitude</th>\n",
       "    </tr>\n",
       "  </thead>\n",
       "  <tbody>\n",
       "    <tr>\n",
       "      <th>count</th>\n",
       "      <td>25691.000000</td>\n",
       "      <td>25691.000000</td>\n",
       "      <td>25691.000000</td>\n",
       "      <td>2.569100e+04</td>\n",
       "      <td>25691.000000</td>\n",
       "      <td>25691.000000</td>\n",
       "      <td>25691.000000</td>\n",
       "      <td>25691.000000</td>\n",
       "      <td>2.569100e+04</td>\n",
       "      <td>25691.000000</td>\n",
       "      <td>25691.000000</td>\n",
       "      <td>25691.000000</td>\n",
       "      <td>25691.000000</td>\n",
       "    </tr>\n",
       "    <tr>\n",
       "      <th>mean</th>\n",
       "      <td>-119.547305</td>\n",
       "      <td>35.556689</td>\n",
       "      <td>12846.000000</td>\n",
       "      <td>1.500277e+09</td>\n",
       "      <td>92890.083531</td>\n",
       "      <td>2014.997976</td>\n",
       "      <td>2015.902067</td>\n",
       "      <td>2.196917</td>\n",
       "      <td>1.471618e+09</td>\n",
       "      <td>30993.723676</td>\n",
       "      <td>15284.829258</td>\n",
       "      <td>35.556689</td>\n",
       "      <td>-119.547305</td>\n",
       "    </tr>\n",
       "    <tr>\n",
       "      <th>std</th>\n",
       "      <td>2.023064</td>\n",
       "      <td>2.098932</td>\n",
       "      <td>7416.497219</td>\n",
       "      <td>2.870431e+08</td>\n",
       "      <td>1845.851756</td>\n",
       "      <td>2.440749</td>\n",
       "      <td>2.415981</td>\n",
       "      <td>1.630466</td>\n",
       "      <td>2.782789e+08</td>\n",
       "      <td>13789.971202</td>\n",
       "      <td>6402.156462</td>\n",
       "      <td>2.098932</td>\n",
       "      <td>2.023064</td>\n",
       "    </tr>\n",
       "    <tr>\n",
       "      <th>min</th>\n",
       "      <td>-124.261685</td>\n",
       "      <td>32.558280</td>\n",
       "      <td>1.000000</td>\n",
       "      <td>1.003004e+09</td>\n",
       "      <td>90001.000000</td>\n",
       "      <td>2011.000000</td>\n",
       "      <td>2012.000000</td>\n",
       "      <td>1.000000</td>\n",
       "      <td>1.003001e+09</td>\n",
       "      <td>0.000000</td>\n",
       "      <td>0.000000</td>\n",
       "      <td>32.558280</td>\n",
       "      <td>-124.261685</td>\n",
       "    </tr>\n",
       "    <tr>\n",
       "      <th>25%</th>\n",
       "      <td>-121.878240</td>\n",
       "      <td>33.931861</td>\n",
       "      <td>6423.500000</td>\n",
       "      <td>1.255367e+09</td>\n",
       "      <td>91353.500000</td>\n",
       "      <td>2013.000000</td>\n",
       "      <td>2014.000000</td>\n",
       "      <td>1.000000</td>\n",
       "      <td>1.245343e+09</td>\n",
       "      <td>21250.000000</td>\n",
       "      <td>8500.000000</td>\n",
       "      <td>33.931861</td>\n",
       "      <td>-121.878240</td>\n",
       "    </tr>\n",
       "    <tr>\n",
       "      <th>50%</th>\n",
       "      <td>-118.445983</td>\n",
       "      <td>34.219683</td>\n",
       "      <td>12846.000000</td>\n",
       "      <td>1.508020e+09</td>\n",
       "      <td>92868.000000</td>\n",
       "      <td>2015.000000</td>\n",
       "      <td>2016.000000</td>\n",
       "      <td>1.000000</td>\n",
       "      <td>1.447262e+09</td>\n",
       "      <td>21250.000000</td>\n",
       "      <td>21250.000000</td>\n",
       "      <td>34.219683</td>\n",
       "      <td>-118.445983</td>\n",
       "    </tr>\n",
       "    <tr>\n",
       "      <th>75%</th>\n",
       "      <td>-117.975432</td>\n",
       "      <td>37.756332</td>\n",
       "      <td>19268.500000</td>\n",
       "      <td>1.745514e+09</td>\n",
       "      <td>94553.000000</td>\n",
       "      <td>2017.000000</td>\n",
       "      <td>2018.000000</td>\n",
       "      <td>3.000000</td>\n",
       "      <td>1.689864e+09</td>\n",
       "      <td>38250.000000</td>\n",
       "      <td>21250.000000</td>\n",
       "      <td>37.756332</td>\n",
       "      <td>-117.975432</td>\n",
       "    </tr>\n",
       "    <tr>\n",
       "      <th>max</th>\n",
       "      <td>-114.599924</td>\n",
       "      <td>41.964287</td>\n",
       "      <td>25691.000000</td>\n",
       "      <td>1.993000e+09</td>\n",
       "      <td>96161.000000</td>\n",
       "      <td>2020.000000</td>\n",
       "      <td>2020.000000</td>\n",
       "      <td>6.000000</td>\n",
       "      <td>1.992998e+09</td>\n",
       "      <td>63750.000000</td>\n",
       "      <td>21250.000000</td>\n",
       "      <td>41.964287</td>\n",
       "      <td>-114.599924</td>\n",
       "    </tr>\n",
       "  </tbody>\n",
       "</table>\n",
       "</div>"
      ],
      "text/plain": [
       "                  X             Y      OBJECTID           NPI    Business_Z  \\\n",
       "count  25691.000000  25691.000000  25691.000000  2.569100e+04  25691.000000   \n",
       "mean    -119.547305     35.556689  12846.000000  1.500277e+09  92890.083531   \n",
       "std        2.023064      2.098932   7416.497219  2.870431e+08   1845.851756   \n",
       "min     -124.261685     32.558280      1.000000  1.003004e+09  90001.000000   \n",
       "25%     -121.878240     33.931861   6423.500000  1.255367e+09  91353.500000   \n",
       "50%     -118.445983     34.219683  12846.000000  1.508020e+09  92868.000000   \n",
       "75%     -117.975432     37.756332  19268.500000  1.745514e+09  94553.000000   \n",
       "max     -114.599924     41.964287  25691.000000  1.993000e+09  96161.000000   \n",
       "\n",
       "         Program_Ye    Payment_Ye    Payment__1     Payee_NPI    total_paym  \\\n",
       "count  25691.000000  25691.000000  25691.000000  2.569100e+04  25691.000000   \n",
       "mean    2014.997976   2015.902067      2.196917  1.471618e+09  30993.723676   \n",
       "std        2.440749      2.415981      1.630466  2.782789e+08  13789.971202   \n",
       "min     2011.000000   2012.000000      1.000000  1.003001e+09      0.000000   \n",
       "25%     2013.000000   2014.000000      1.000000  1.245343e+09  21250.000000   \n",
       "50%     2015.000000   2016.000000      1.000000  1.447262e+09  21250.000000   \n",
       "75%     2017.000000   2018.000000      3.000000  1.689864e+09  38250.000000   \n",
       "max     2020.000000   2020.000000      6.000000  1.992998e+09  63750.000000   \n",
       "\n",
       "         total_rece      Latitude     Longitude  \n",
       "count  25691.000000  25691.000000  25691.000000  \n",
       "mean   15284.829258     35.556689   -119.547305  \n",
       "std     6402.156462      2.098932      2.023064  \n",
       "min        0.000000     32.558280   -124.261685  \n",
       "25%     8500.000000     33.931861   -121.878240  \n",
       "50%    21250.000000     34.219683   -118.445983  \n",
       "75%    21250.000000     37.756332   -117.975432  \n",
       "max    21250.000000     41.964287   -114.599924  "
      ]
     },
     "execution_count": 94,
     "metadata": {},
     "output_type": "execute_result"
    }
   ],
   "source": [
    "df_EHR.describe()"
   ]
  },
  {
   "cell_type": "code",
   "execution_count": 95,
   "id": "2f139612",
   "metadata": {},
   "outputs": [],
   "source": [
    "# clean the noisy data\n",
    "df_EHR = df_EHR.drop(df_EHR.columns[0:9], axis=1)\n",
    "df_EHR = df_EHR.drop(df_EHR.columns[1:3], axis=1)\n",
    "df_EHR = df_EHR.drop(['Payment__1','Payment_Cr','Payee_Name','Payee_NPI','total_rece','Latitude','Longitude','Program_Ye'],axis=1)\n",
    "df_EHR = df_EHR.dropna()"
   ]
  },
  {
   "cell_type": "code",
   "execution_count": 96,
   "id": "332c0f55",
   "metadata": {},
   "outputs": [],
   "source": [
    "df_EHR['Payment_Ye'] = df_EHR['Payment_Ye'].apply(lambda x: str(x))"
   ]
  },
  {
   "cell_type": "code",
   "execution_count": 97,
   "id": "575afb24",
   "metadata": {},
   "outputs": [
    {
     "data": {
      "text/html": [
       "<div>\n",
       "<style scoped>\n",
       "    .dataframe tbody tr th:only-of-type {\n",
       "        vertical-align: middle;\n",
       "    }\n",
       "\n",
       "    .dataframe tbody tr th {\n",
       "        vertical-align: top;\n",
       "    }\n",
       "\n",
       "    .dataframe thead th {\n",
       "        text-align: right;\n",
       "    }\n",
       "</style>\n",
       "<table border=\"1\" class=\"dataframe\">\n",
       "  <thead>\n",
       "    <tr style=\"text-align: right;\">\n",
       "      <th></th>\n",
       "      <th>Business_1</th>\n",
       "      <th>Payment_Ye</th>\n",
       "      <th>total_paym</th>\n",
       "    </tr>\n",
       "  </thead>\n",
       "  <tbody>\n",
       "    <tr>\n",
       "      <th>0</th>\n",
       "      <td>Sacramento</td>\n",
       "      <td>2019</td>\n",
       "      <td>38250.0</td>\n",
       "    </tr>\n",
       "    <tr>\n",
       "      <th>1</th>\n",
       "      <td>Alameda</td>\n",
       "      <td>2014</td>\n",
       "      <td>21250.0</td>\n",
       "    </tr>\n",
       "    <tr>\n",
       "      <th>2</th>\n",
       "      <td>Contra Costa</td>\n",
       "      <td>2016</td>\n",
       "      <td>21250.0</td>\n",
       "    </tr>\n",
       "    <tr>\n",
       "      <th>3</th>\n",
       "      <td>San Bernardino</td>\n",
       "      <td>2015</td>\n",
       "      <td>29750.0</td>\n",
       "    </tr>\n",
       "    <tr>\n",
       "      <th>4</th>\n",
       "      <td>Orange</td>\n",
       "      <td>2014</td>\n",
       "      <td>21250.0</td>\n",
       "    </tr>\n",
       "  </tbody>\n",
       "</table>\n",
       "</div>"
      ],
      "text/plain": [
       "       Business_1 Payment_Ye  total_paym\n",
       "0      Sacramento       2019     38250.0\n",
       "1         Alameda       2014     21250.0\n",
       "2    Contra Costa       2016     21250.0\n",
       "3  San Bernardino       2015     29750.0\n",
       "4          Orange       2014     21250.0"
      ]
     },
     "execution_count": 97,
     "metadata": {},
     "output_type": "execute_result"
    }
   ],
   "source": [
    "df_EHR.head()"
   ]
  },
  {
   "cell_type": "code",
   "execution_count": 98,
   "id": "c9a527c2",
   "metadata": {},
   "outputs": [
    {
     "data": {
      "text/html": [
       "<div>\n",
       "<style scoped>\n",
       "    .dataframe tbody tr th:only-of-type {\n",
       "        vertical-align: middle;\n",
       "    }\n",
       "\n",
       "    .dataframe tbody tr th {\n",
       "        vertical-align: top;\n",
       "    }\n",
       "\n",
       "    .dataframe thead th {\n",
       "        text-align: right;\n",
       "    }\n",
       "</style>\n",
       "<table border=\"1\" class=\"dataframe\">\n",
       "  <thead>\n",
       "    <tr style=\"text-align: right;\">\n",
       "      <th></th>\n",
       "      <th>Taxable Year</th>\n",
       "      <th>County</th>\n",
       "      <th>Population</th>\n",
       "      <th>All Returns</th>\n",
       "      <th>AGI</th>\n",
       "      <th>Median Income</th>\n",
       "      <th>Median Rank</th>\n",
       "      <th>Joint Returns</th>\n",
       "      <th>Joint Returns Median Income</th>\n",
       "      <th>Joint Returns Median Rank</th>\n",
       "      <th>Tax Assessed</th>\n",
       "      <th>Latitude</th>\n",
       "      <th>Longitude</th>\n",
       "      <th>New Georeferenced Column</th>\n",
       "    </tr>\n",
       "  </thead>\n",
       "  <tbody>\n",
       "    <tr>\n",
       "      <th>0</th>\n",
       "      <td>2017</td>\n",
       "      <td>Nonresident</td>\n",
       "      <td>NaN</td>\n",
       "      <td>756843</td>\n",
       "      <td>32798066000</td>\n",
       "      <td>14600</td>\n",
       "      <td>NaN</td>\n",
       "      <td>371420</td>\n",
       "      <td>20592</td>\n",
       "      <td>NaN</td>\n",
       "      <td>3713047000</td>\n",
       "      <td>0.000000</td>\n",
       "      <td>0.00000</td>\n",
       "      <td>POINT (0 0)</td>\n",
       "    </tr>\n",
       "    <tr>\n",
       "      <th>1</th>\n",
       "      <td>2012</td>\n",
       "      <td>Unallocated</td>\n",
       "      <td>0.0</td>\n",
       "      <td>2885</td>\n",
       "      <td>580682000</td>\n",
       "      <td>51249</td>\n",
       "      <td>0.0</td>\n",
       "      <td>1194</td>\n",
       "      <td>127511</td>\n",
       "      <td>0.0</td>\n",
       "      <td>19336000</td>\n",
       "      <td>0.000000</td>\n",
       "      <td>0.00000</td>\n",
       "      <td>POINT (0 0)</td>\n",
       "    </tr>\n",
       "    <tr>\n",
       "      <th>2</th>\n",
       "      <td>2010</td>\n",
       "      <td>Unallocated</td>\n",
       "      <td>0.0</td>\n",
       "      <td>2880</td>\n",
       "      <td>287037000</td>\n",
       "      <td>36227</td>\n",
       "      <td>0.0</td>\n",
       "      <td>1041</td>\n",
       "      <td>86697</td>\n",
       "      <td>0.0</td>\n",
       "      <td>12616000</td>\n",
       "      <td>0.000000</td>\n",
       "      <td>0.00000</td>\n",
       "      <td>POINT (0 0)</td>\n",
       "    </tr>\n",
       "    <tr>\n",
       "      <th>3</th>\n",
       "      <td>2006</td>\n",
       "      <td>Unallocated</td>\n",
       "      <td>0.0</td>\n",
       "      <td>3710</td>\n",
       "      <td>392781000</td>\n",
       "      <td>31384</td>\n",
       "      <td>0.0</td>\n",
       "      <td>1260</td>\n",
       "      <td>70468</td>\n",
       "      <td>0.0</td>\n",
       "      <td>14728000</td>\n",
       "      <td>0.000000</td>\n",
       "      <td>0.00000</td>\n",
       "      <td>POINT (0 0)</td>\n",
       "    </tr>\n",
       "    <tr>\n",
       "      <th>4</th>\n",
       "      <td>1995</td>\n",
       "      <td>Ventura</td>\n",
       "      <td>712700.0</td>\n",
       "      <td>281369</td>\n",
       "      <td>11450530000</td>\n",
       "      <td>26210</td>\n",
       "      <td>10.0</td>\n",
       "      <td>133610</td>\n",
       "      <td>47458</td>\n",
       "      <td>9.0</td>\n",
       "      <td>414669000</td>\n",
       "      <td>34.277091</td>\n",
       "      <td>-119.21785</td>\n",
       "      <td>POINT (-119.2178496 34.27709072)</td>\n",
       "    </tr>\n",
       "  </tbody>\n",
       "</table>\n",
       "</div>"
      ],
      "text/plain": [
       "   Taxable Year       County  Population  All Returns          AGI  \\\n",
       "0          2017  Nonresident         NaN       756843  32798066000   \n",
       "1          2012  Unallocated         0.0         2885    580682000   \n",
       "2          2010  Unallocated         0.0         2880    287037000   \n",
       "3          2006  Unallocated         0.0         3710    392781000   \n",
       "4          1995      Ventura    712700.0       281369  11450530000   \n",
       "\n",
       "   Median Income  Median Rank  Joint Returns  Joint Returns Median Income  \\\n",
       "0          14600          NaN         371420                        20592   \n",
       "1          51249          0.0           1194                       127511   \n",
       "2          36227          0.0           1041                        86697   \n",
       "3          31384          0.0           1260                        70468   \n",
       "4          26210         10.0         133610                        47458   \n",
       "\n",
       "   Joint Returns Median Rank  Tax Assessed   Latitude  Longitude  \\\n",
       "0                        NaN    3713047000   0.000000    0.00000   \n",
       "1                        0.0      19336000   0.000000    0.00000   \n",
       "2                        0.0      12616000   0.000000    0.00000   \n",
       "3                        0.0      14728000   0.000000    0.00000   \n",
       "4                        9.0     414669000  34.277091 -119.21785   \n",
       "\n",
       "           New Georeferenced Column  \n",
       "0                       POINT (0 0)  \n",
       "1                       POINT (0 0)  \n",
       "2                       POINT (0 0)  \n",
       "3                       POINT (0 0)  \n",
       "4  POINT (-119.2178496 34.27709072)  "
      ]
     },
     "execution_count": 98,
     "metadata": {},
     "output_type": "execute_result"
    }
   ],
   "source": [
    "# load median income dataset\n",
    "df_income = pd.read_excel('B-6__Comparison_By_County.xlsx')\n",
    "df_income.head()"
   ]
  },
  {
   "cell_type": "code",
   "execution_count": 99,
   "id": "dc5d87ef",
   "metadata": {},
   "outputs": [
    {
     "name": "stdout",
     "output_type": "stream",
     "text": [
      "<class 'pandas.core.frame.DataFrame'>\n",
      "RangeIndex: 1525 entries, 0 to 1524\n",
      "Data columns (total 14 columns):\n",
      " #   Column                       Non-Null Count  Dtype  \n",
      "---  ------                       --------------  -----  \n",
      " 0   Taxable Year                 1525 non-null   int64  \n",
      " 1   County                       1525 non-null   object \n",
      " 2   Population                   1516 non-null   float64\n",
      " 3   All Returns                  1525 non-null   int64  \n",
      " 4   AGI                          1525 non-null   int64  \n",
      " 5   Median Income                1525 non-null   int64  \n",
      " 6   Median Rank                  1516 non-null   float64\n",
      " 7   Joint Returns                1525 non-null   int64  \n",
      " 8   Joint Returns Median Income  1525 non-null   int64  \n",
      " 9   Joint Returns Median Rank    1516 non-null   float64\n",
      " 10  Tax Assessed                 1525 non-null   int64  \n",
      " 11  Latitude                     1525 non-null   float64\n",
      " 12  Longitude                    1525 non-null   float64\n",
      " 13  New Georeferenced Column     1525 non-null   object \n",
      "dtypes: float64(5), int64(7), object(2)\n",
      "memory usage: 166.9+ KB\n"
     ]
    }
   ],
   "source": [
    "df_income.info()"
   ]
  },
  {
   "cell_type": "code",
   "execution_count": 100,
   "id": "a19c2b6b",
   "metadata": {},
   "outputs": [
    {
     "data": {
      "text/html": [
       "<div>\n",
       "<style scoped>\n",
       "    .dataframe tbody tr th:only-of-type {\n",
       "        vertical-align: middle;\n",
       "    }\n",
       "\n",
       "    .dataframe tbody tr th {\n",
       "        vertical-align: top;\n",
       "    }\n",
       "\n",
       "    .dataframe thead th {\n",
       "        text-align: right;\n",
       "    }\n",
       "</style>\n",
       "<table border=\"1\" class=\"dataframe\">\n",
       "  <thead>\n",
       "    <tr style=\"text-align: right;\">\n",
       "      <th></th>\n",
       "      <th>Taxable Year</th>\n",
       "      <th>Population</th>\n",
       "      <th>All Returns</th>\n",
       "      <th>AGI</th>\n",
       "      <th>Median Income</th>\n",
       "      <th>Median Rank</th>\n",
       "      <th>Joint Returns</th>\n",
       "      <th>Joint Returns Median Income</th>\n",
       "      <th>Joint Returns Median Rank</th>\n",
       "      <th>Tax Assessed</th>\n",
       "      <th>Latitude</th>\n",
       "      <th>Longitude</th>\n",
       "    </tr>\n",
       "  </thead>\n",
       "  <tbody>\n",
       "    <tr>\n",
       "      <th>count</th>\n",
       "      <td>1525.000000</td>\n",
       "      <td>1.516000e+03</td>\n",
       "      <td>1.525000e+03</td>\n",
       "      <td>1.525000e+03</td>\n",
       "      <td>1525.000000</td>\n",
       "      <td>1516.000000</td>\n",
       "      <td>1.525000e+03</td>\n",
       "      <td>1525.00000</td>\n",
       "      <td>1516.000000</td>\n",
       "      <td>1.525000e+03</td>\n",
       "      <td>1525.000000</td>\n",
       "      <td>1525.000000</td>\n",
       "    </tr>\n",
       "    <tr>\n",
       "      <th>mean</th>\n",
       "      <td>2007.000000</td>\n",
       "      <td>6.054195e+05</td>\n",
       "      <td>2.518661e+05</td>\n",
       "      <td>1.854484e+10</td>\n",
       "      <td>33192.744262</td>\n",
       "      <td>28.215699</td>\n",
       "      <td>9.804150e+04</td>\n",
       "      <td>60750.32918</td>\n",
       "      <td>28.215699</td>\n",
       "      <td>8.113302e+08</td>\n",
       "      <td>35.958091</td>\n",
       "      <td>-114.839606</td>\n",
       "    </tr>\n",
       "    <tr>\n",
       "      <th>std</th>\n",
       "      <td>7.213468</td>\n",
       "      <td>1.394779e+06</td>\n",
       "      <td>5.528343e+05</td>\n",
       "      <td>4.269146e+10</td>\n",
       "      <td>9011.930707</td>\n",
       "      <td>17.449568</td>\n",
       "      <td>1.930520e+05</td>\n",
       "      <td>21335.52830</td>\n",
       "      <td>17.449568</td>\n",
       "      <td>1.989108e+09</td>\n",
       "      <td>8.447037</td>\n",
       "      <td>26.197287</td>\n",
       "    </tr>\n",
       "    <tr>\n",
       "      <th>min</th>\n",
       "      <td>1995.000000</td>\n",
       "      <td>0.000000e+00</td>\n",
       "      <td>2.770000e+02</td>\n",
       "      <td>9.078000e+06</td>\n",
       "      <td>14567.000000</td>\n",
       "      <td>0.000000</td>\n",
       "      <td>1.050000e+02</td>\n",
       "      <td>19743.00000</td>\n",
       "      <td>0.000000</td>\n",
       "      <td>2.500000e+05</td>\n",
       "      <td>0.000000</td>\n",
       "      <td>-123.892004</td>\n",
       "    </tr>\n",
       "    <tr>\n",
       "      <th>25%</th>\n",
       "      <td>2001.000000</td>\n",
       "      <td>3.713200e+04</td>\n",
       "      <td>1.736300e+04</td>\n",
       "      <td>7.245640e+08</td>\n",
       "      <td>27317.000000</td>\n",
       "      <td>13.000000</td>\n",
       "      <td>8.477000e+03</td>\n",
       "      <td>46568.00000</td>\n",
       "      <td>13.000000</td>\n",
       "      <td>2.136200e+07</td>\n",
       "      <td>36.324707</td>\n",
       "      <td>-122.078097</td>\n",
       "    </tr>\n",
       "    <tr>\n",
       "      <th>50%</th>\n",
       "      <td>2007.000000</td>\n",
       "      <td>1.584055e+05</td>\n",
       "      <td>6.792300e+04</td>\n",
       "      <td>3.340652e+09</td>\n",
       "      <td>31725.000000</td>\n",
       "      <td>28.000000</td>\n",
       "      <td>3.164000e+04</td>\n",
       "      <td>56254.00000</td>\n",
       "      <td>28.000000</td>\n",
       "      <td>1.127690e+08</td>\n",
       "      <td>37.988180</td>\n",
       "      <td>-120.943072</td>\n",
       "    </tr>\n",
       "    <tr>\n",
       "      <th>75%</th>\n",
       "      <td>2013.000000</td>\n",
       "      <td>5.321470e+05</td>\n",
       "      <td>2.348310e+05</td>\n",
       "      <td>1.480678e+10</td>\n",
       "      <td>37345.000000</td>\n",
       "      <td>43.000000</td>\n",
       "      <td>1.002580e+05</td>\n",
       "      <td>69374.00000</td>\n",
       "      <td>43.000000</td>\n",
       "      <td>6.101010e+08</td>\n",
       "      <td>39.167981</td>\n",
       "      <td>-119.698820</td>\n",
       "    </tr>\n",
       "    <tr>\n",
       "      <th>max</th>\n",
       "      <td>2019.000000</td>\n",
       "      <td>1.039941e+07</td>\n",
       "      <td>4.653590e+06</td>\n",
       "      <td>3.996088e+11</td>\n",
       "      <td>74077.000000</td>\n",
       "      <td>58.000000</td>\n",
       "      <td>1.370633e+06</td>\n",
       "      <td>178755.00000</td>\n",
       "      <td>58.000000</td>\n",
       "      <td>2.114381e+10</td>\n",
       "      <td>41.713682</td>\n",
       "      <td>0.000000</td>\n",
       "    </tr>\n",
       "  </tbody>\n",
       "</table>\n",
       "</div>"
      ],
      "text/plain": [
       "       Taxable Year    Population   All Returns           AGI  Median Income  \\\n",
       "count   1525.000000  1.516000e+03  1.525000e+03  1.525000e+03    1525.000000   \n",
       "mean    2007.000000  6.054195e+05  2.518661e+05  1.854484e+10   33192.744262   \n",
       "std        7.213468  1.394779e+06  5.528343e+05  4.269146e+10    9011.930707   \n",
       "min     1995.000000  0.000000e+00  2.770000e+02  9.078000e+06   14567.000000   \n",
       "25%     2001.000000  3.713200e+04  1.736300e+04  7.245640e+08   27317.000000   \n",
       "50%     2007.000000  1.584055e+05  6.792300e+04  3.340652e+09   31725.000000   \n",
       "75%     2013.000000  5.321470e+05  2.348310e+05  1.480678e+10   37345.000000   \n",
       "max     2019.000000  1.039941e+07  4.653590e+06  3.996088e+11   74077.000000   \n",
       "\n",
       "       Median Rank  Joint Returns  Joint Returns Median Income  \\\n",
       "count  1516.000000   1.525000e+03                   1525.00000   \n",
       "mean     28.215699   9.804150e+04                  60750.32918   \n",
       "std      17.449568   1.930520e+05                  21335.52830   \n",
       "min       0.000000   1.050000e+02                  19743.00000   \n",
       "25%      13.000000   8.477000e+03                  46568.00000   \n",
       "50%      28.000000   3.164000e+04                  56254.00000   \n",
       "75%      43.000000   1.002580e+05                  69374.00000   \n",
       "max      58.000000   1.370633e+06                 178755.00000   \n",
       "\n",
       "       Joint Returns Median Rank  Tax Assessed     Latitude    Longitude  \n",
       "count                1516.000000  1.525000e+03  1525.000000  1525.000000  \n",
       "mean                   28.215699  8.113302e+08    35.958091  -114.839606  \n",
       "std                    17.449568  1.989108e+09     8.447037    26.197287  \n",
       "min                     0.000000  2.500000e+05     0.000000  -123.892004  \n",
       "25%                    13.000000  2.136200e+07    36.324707  -122.078097  \n",
       "50%                    28.000000  1.127690e+08    37.988180  -120.943072  \n",
       "75%                    43.000000  6.101010e+08    39.167981  -119.698820  \n",
       "max                    58.000000  2.114381e+10    41.713682     0.000000  "
      ]
     },
     "execution_count": 100,
     "metadata": {},
     "output_type": "execute_result"
    }
   ],
   "source": [
    "df_income.describe()"
   ]
  },
  {
   "cell_type": "code",
   "execution_count": 101,
   "id": "c39259f3",
   "metadata": {},
   "outputs": [
    {
     "data": {
      "text/plain": [
       "array([2017, 2012, 2019, 2015, 2013, 2016, 2018, 2014])"
      ]
     },
     "execution_count": 101,
     "metadata": {},
     "output_type": "execute_result"
    }
   ],
   "source": [
    "# clean the noisy data\n",
    "df_income = df_income[(df_income[\"Taxable Year\"]>=2012) & (df_income[\"Taxable Year\"]<=2019)]\n",
    "df_income[\"Taxable Year\"].unique()"
   ]
  },
  {
   "cell_type": "code",
   "execution_count": 102,
   "id": "00afa28d",
   "metadata": {
    "scrolled": true
   },
   "outputs": [
    {
     "data": {
      "text/html": [
       "<div>\n",
       "<style scoped>\n",
       "    .dataframe tbody tr th:only-of-type {\n",
       "        vertical-align: middle;\n",
       "    }\n",
       "\n",
       "    .dataframe tbody tr th {\n",
       "        vertical-align: top;\n",
       "    }\n",
       "\n",
       "    .dataframe thead th {\n",
       "        text-align: right;\n",
       "    }\n",
       "</style>\n",
       "<table border=\"1\" class=\"dataframe\">\n",
       "  <thead>\n",
       "    <tr style=\"text-align: right;\">\n",
       "      <th></th>\n",
       "      <th>Taxable Year</th>\n",
       "      <th>County</th>\n",
       "      <th>Population</th>\n",
       "      <th>Median Income</th>\n",
       "    </tr>\n",
       "  </thead>\n",
       "  <tbody>\n",
       "    <tr>\n",
       "      <th>0</th>\n",
       "      <td>2017</td>\n",
       "      <td>Nonresident</td>\n",
       "      <td>NaN</td>\n",
       "      <td>14600</td>\n",
       "    </tr>\n",
       "    <tr>\n",
       "      <th>1</th>\n",
       "      <td>2012</td>\n",
       "      <td>Unallocated</td>\n",
       "      <td>0.0</td>\n",
       "      <td>51249</td>\n",
       "    </tr>\n",
       "    <tr>\n",
       "      <th>8</th>\n",
       "      <td>2019</td>\n",
       "      <td>San Benito</td>\n",
       "      <td>62789.0</td>\n",
       "      <td>47341</td>\n",
       "    </tr>\n",
       "    <tr>\n",
       "      <th>12</th>\n",
       "      <td>2017</td>\n",
       "      <td>Shasta</td>\n",
       "      <td>178240.0</td>\n",
       "      <td>35365</td>\n",
       "    </tr>\n",
       "    <tr>\n",
       "      <th>14</th>\n",
       "      <td>2015</td>\n",
       "      <td>Los Angeles</td>\n",
       "      <td>10185487.0</td>\n",
       "      <td>33369</td>\n",
       "    </tr>\n",
       "  </tbody>\n",
       "</table>\n",
       "</div>"
      ],
      "text/plain": [
       "   Taxable Year       County  Population  Median Income\n",
       "0          2017  Nonresident         NaN          14600\n",
       "1          2012  Unallocated         0.0          51249\n",
       "8          2019   San Benito     62789.0          47341\n",
       "12         2017       Shasta    178240.0          35365\n",
       "14         2015  Los Angeles  10185487.0          33369"
      ]
     },
     "execution_count": 102,
     "metadata": {},
     "output_type": "execute_result"
    }
   ],
   "source": [
    "df_income['Taxable Year'] = df_income['Taxable Year'].apply(lambda x: str(x))\n",
    "df_income = df_income.drop(df_income.columns[[3,4,6,7,8,9,10,11,12,13]], axis=1)\n",
    "df_income.head()"
   ]
  },
  {
   "cell_type": "markdown",
   "id": "436368e3",
   "metadata": {},
   "source": [
    "# Aggregate the datasets"
   ]
  },
  {
   "cell_type": "code",
   "execution_count": 103,
   "id": "876d6a58",
   "metadata": {},
   "outputs": [
    {
     "data": {
      "text/html": [
       "<div>\n",
       "<style scoped>\n",
       "    .dataframe tbody tr th:only-of-type {\n",
       "        vertical-align: middle;\n",
       "    }\n",
       "\n",
       "    .dataframe tbody tr th {\n",
       "        vertical-align: top;\n",
       "    }\n",
       "\n",
       "    .dataframe thead th {\n",
       "        text-align: right;\n",
       "    }\n",
       "</style>\n",
       "<table border=\"1\" class=\"dataframe\">\n",
       "  <thead>\n",
       "    <tr style=\"text-align: right;\">\n",
       "      <th></th>\n",
       "      <th>GeoName</th>\n",
       "      <th>Unit</th>\n",
       "      <th>2012</th>\n",
       "      <th>2013</th>\n",
       "      <th>2014</th>\n",
       "      <th>2015</th>\n",
       "      <th>2016</th>\n",
       "      <th>2017</th>\n",
       "      <th>2018</th>\n",
       "      <th>2019</th>\n",
       "    </tr>\n",
       "  </thead>\n",
       "  <tbody>\n",
       "    <tr>\n",
       "      <th>0</th>\n",
       "      <td>Alameda</td>\n",
       "      <td>Thousands of dollars</td>\n",
       "      <td>95749481.0</td>\n",
       "      <td>100521444.0</td>\n",
       "      <td>105936777.0</td>\n",
       "      <td>115791781.0</td>\n",
       "      <td>121053460.0</td>\n",
       "      <td>129028899.0</td>\n",
       "      <td>136168877.0</td>\n",
       "      <td>141888634.0</td>\n",
       "    </tr>\n",
       "    <tr>\n",
       "      <th>1</th>\n",
       "      <td>Alpine</td>\n",
       "      <td>Thousands of dollars</td>\n",
       "      <td>95294.0</td>\n",
       "      <td>93927.0</td>\n",
       "      <td>102705.0</td>\n",
       "      <td>108503.0</td>\n",
       "      <td>109263.0</td>\n",
       "      <td>110843.0</td>\n",
       "      <td>114055.0</td>\n",
       "      <td>121948.0</td>\n",
       "    </tr>\n",
       "    <tr>\n",
       "      <th>2</th>\n",
       "      <td>Amador</td>\n",
       "      <td>Thousands of dollars</td>\n",
       "      <td>1365613.0</td>\n",
       "      <td>1440258.0</td>\n",
       "      <td>1488434.0</td>\n",
       "      <td>1551133.0</td>\n",
       "      <td>1617941.0</td>\n",
       "      <td>1732487.0</td>\n",
       "      <td>1786296.0</td>\n",
       "      <td>1870309.0</td>\n",
       "    </tr>\n",
       "    <tr>\n",
       "      <th>3</th>\n",
       "      <td>Butte</td>\n",
       "      <td>Thousands of dollars</td>\n",
       "      <td>7363012.0</td>\n",
       "      <td>7602095.0</td>\n",
       "      <td>7634930.0</td>\n",
       "      <td>8041364.0</td>\n",
       "      <td>8649007.0</td>\n",
       "      <td>9189787.0</td>\n",
       "      <td>9500527.0</td>\n",
       "      <td>9893227.0</td>\n",
       "    </tr>\n",
       "    <tr>\n",
       "      <th>4</th>\n",
       "      <td>Calaveras</td>\n",
       "      <td>Thousands of dollars</td>\n",
       "      <td>1050964.0</td>\n",
       "      <td>1044218.0</td>\n",
       "      <td>1172626.0</td>\n",
       "      <td>1246769.0</td>\n",
       "      <td>1362303.0</td>\n",
       "      <td>1442782.0</td>\n",
       "      <td>1415632.0</td>\n",
       "      <td>1661687.0</td>\n",
       "    </tr>\n",
       "  </tbody>\n",
       "</table>\n",
       "</div>"
      ],
      "text/plain": [
       "     GeoName                  Unit        2012         2013         2014  \\\n",
       "0    Alameda  Thousands of dollars  95749481.0  100521444.0  105936777.0   \n",
       "1     Alpine  Thousands of dollars     95294.0      93927.0     102705.0   \n",
       "2     Amador  Thousands of dollars   1365613.0    1440258.0    1488434.0   \n",
       "3      Butte  Thousands of dollars   7363012.0    7602095.0    7634930.0   \n",
       "4  Calaveras  Thousands of dollars   1050964.0    1044218.0    1172626.0   \n",
       "\n",
       "          2015         2016         2017         2018         2019  \n",
       "0  115791781.0  121053460.0  129028899.0  136168877.0  141888634.0  \n",
       "1     108503.0     109263.0     110843.0     114055.0     121948.0  \n",
       "2    1551133.0    1617941.0    1732487.0    1786296.0    1870309.0  \n",
       "3    8041364.0    8649007.0    9189787.0    9500527.0    9893227.0  \n",
       "4    1246769.0    1362303.0    1442782.0    1415632.0    1661687.0  "
      ]
     },
     "execution_count": 103,
     "metadata": {},
     "output_type": "execute_result"
    }
   ],
   "source": [
    "df_GDP = df_GDP.groupby(['GeoName','Unit']).sum().reset_index()\n",
    "df_GDP.head(5)"
   ]
  },
  {
   "cell_type": "code",
   "execution_count": 104,
   "id": "e2ff841d",
   "metadata": {},
   "outputs": [
    {
     "data": {
      "text/html": [
       "<div>\n",
       "<style scoped>\n",
       "    .dataframe tbody tr th:only-of-type {\n",
       "        vertical-align: middle;\n",
       "    }\n",
       "\n",
       "    .dataframe tbody tr th {\n",
       "        vertical-align: top;\n",
       "    }\n",
       "\n",
       "    .dataframe thead th {\n",
       "        text-align: right;\n",
       "    }\n",
       "</style>\n",
       "<table border=\"1\" class=\"dataframe\">\n",
       "  <thead>\n",
       "    <tr style=\"text-align: right;\">\n",
       "      <th></th>\n",
       "      <th>Business_1</th>\n",
       "      <th>Payment_Ye</th>\n",
       "      <th>total_paym</th>\n",
       "    </tr>\n",
       "  </thead>\n",
       "  <tbody>\n",
       "    <tr>\n",
       "      <th>454</th>\n",
       "      <td>Yuba</td>\n",
       "      <td>2014</td>\n",
       "      <td>255000.0</td>\n",
       "    </tr>\n",
       "    <tr>\n",
       "      <th>455</th>\n",
       "      <td>Yuba</td>\n",
       "      <td>2015</td>\n",
       "      <td>76500.0</td>\n",
       "    </tr>\n",
       "    <tr>\n",
       "      <th>456</th>\n",
       "      <td>Yuba</td>\n",
       "      <td>2017</td>\n",
       "      <td>552500.0</td>\n",
       "    </tr>\n",
       "    <tr>\n",
       "      <th>457</th>\n",
       "      <td>Yuba</td>\n",
       "      <td>2018</td>\n",
       "      <td>187000.0</td>\n",
       "    </tr>\n",
       "    <tr>\n",
       "      <th>458</th>\n",
       "      <td>Yuba</td>\n",
       "      <td>2019</td>\n",
       "      <td>63750.0</td>\n",
       "    </tr>\n",
       "  </tbody>\n",
       "</table>\n",
       "</div>"
      ],
      "text/plain": [
       "    Business_1 Payment_Ye  total_paym\n",
       "454       Yuba       2014    255000.0\n",
       "455       Yuba       2015     76500.0\n",
       "456       Yuba       2017    552500.0\n",
       "457       Yuba       2018    187000.0\n",
       "458       Yuba       2019     63750.0"
      ]
     },
     "execution_count": 104,
     "metadata": {},
     "output_type": "execute_result"
    }
   ],
   "source": [
    "df_EHR = df_EHR.groupby(['Business_1','Payment_Ye']).sum().reset_index()\n",
    "df_EHR.tail()"
   ]
  },
  {
   "cell_type": "markdown",
   "id": "b8527159",
   "metadata": {},
   "source": [
    "# Reshape the dataset (GDP) from wide format to long format"
   ]
  },
  {
   "cell_type": "code",
   "execution_count": 105,
   "id": "89e4ffc3",
   "metadata": {},
   "outputs": [
    {
     "data": {
      "text/html": [
       "<div>\n",
       "<style scoped>\n",
       "    .dataframe tbody tr th:only-of-type {\n",
       "        vertical-align: middle;\n",
       "    }\n",
       "\n",
       "    .dataframe tbody tr th {\n",
       "        vertical-align: top;\n",
       "    }\n",
       "\n",
       "    .dataframe thead th {\n",
       "        text-align: right;\n",
       "    }\n",
       "</style>\n",
       "<table border=\"1\" class=\"dataframe\">\n",
       "  <thead>\n",
       "    <tr style=\"text-align: right;\">\n",
       "      <th></th>\n",
       "      <th>GeoName</th>\n",
       "      <th>Unit</th>\n",
       "      <th>variable</th>\n",
       "      <th>value</th>\n",
       "    </tr>\n",
       "  </thead>\n",
       "  <tbody>\n",
       "    <tr>\n",
       "      <th>0</th>\n",
       "      <td>Alameda</td>\n",
       "      <td>Thousands of dollars</td>\n",
       "      <td>2013</td>\n",
       "      <td>100521444.0</td>\n",
       "    </tr>\n",
       "    <tr>\n",
       "      <th>1</th>\n",
       "      <td>Alpine</td>\n",
       "      <td>Thousands of dollars</td>\n",
       "      <td>2013</td>\n",
       "      <td>93927.0</td>\n",
       "    </tr>\n",
       "    <tr>\n",
       "      <th>2</th>\n",
       "      <td>Amador</td>\n",
       "      <td>Thousands of dollars</td>\n",
       "      <td>2013</td>\n",
       "      <td>1440258.0</td>\n",
       "    </tr>\n",
       "    <tr>\n",
       "      <th>3</th>\n",
       "      <td>Butte</td>\n",
       "      <td>Thousands of dollars</td>\n",
       "      <td>2013</td>\n",
       "      <td>7602095.0</td>\n",
       "    </tr>\n",
       "    <tr>\n",
       "      <th>4</th>\n",
       "      <td>Calaveras</td>\n",
       "      <td>Thousands of dollars</td>\n",
       "      <td>2013</td>\n",
       "      <td>1044218.0</td>\n",
       "    </tr>\n",
       "  </tbody>\n",
       "</table>\n",
       "</div>"
      ],
      "text/plain": [
       "     GeoName                  Unit variable        value\n",
       "0    Alameda  Thousands of dollars     2013  100521444.0\n",
       "1     Alpine  Thousands of dollars     2013      93927.0\n",
       "2     Amador  Thousands of dollars     2013    1440258.0\n",
       "3      Butte  Thousands of dollars     2013    7602095.0\n",
       "4  Calaveras  Thousands of dollars     2013    1044218.0"
      ]
     },
     "execution_count": 105,
     "metadata": {},
     "output_type": "execute_result"
    }
   ],
   "source": [
    "year_list = df_GDP.columns[3:]\n",
    "df_GDP = pd.melt(df_GDP, id_vars=['GeoName','Unit'], value_vars=year_list) #Pandas.melt() unpivots a DataFrame from wide format to long format\n",
    "df_GDP.head()"
   ]
  },
  {
   "cell_type": "markdown",
   "id": "9082ffe4",
   "metadata": {},
   "source": [
    "# Change the column names"
   ]
  },
  {
   "cell_type": "code",
   "execution_count": 106,
   "id": "dea4ec80",
   "metadata": {},
   "outputs": [
    {
     "data": {
      "text/html": [
       "<div>\n",
       "<style scoped>\n",
       "    .dataframe tbody tr th:only-of-type {\n",
       "        vertical-align: middle;\n",
       "    }\n",
       "\n",
       "    .dataframe tbody tr th {\n",
       "        vertical-align: top;\n",
       "    }\n",
       "\n",
       "    .dataframe thead th {\n",
       "        text-align: right;\n",
       "    }\n",
       "</style>\n",
       "<table border=\"1\" class=\"dataframe\">\n",
       "  <thead>\n",
       "    <tr style=\"text-align: right;\">\n",
       "      <th></th>\n",
       "      <th>County</th>\n",
       "      <th>Unit of GDP</th>\n",
       "      <th>Year</th>\n",
       "      <th>GDP</th>\n",
       "    </tr>\n",
       "  </thead>\n",
       "  <tbody>\n",
       "    <tr>\n",
       "      <th>0</th>\n",
       "      <td>Alameda</td>\n",
       "      <td>Thousands of dollars</td>\n",
       "      <td>2013</td>\n",
       "      <td>100521444.0</td>\n",
       "    </tr>\n",
       "    <tr>\n",
       "      <th>1</th>\n",
       "      <td>Alpine</td>\n",
       "      <td>Thousands of dollars</td>\n",
       "      <td>2013</td>\n",
       "      <td>93927.0</td>\n",
       "    </tr>\n",
       "    <tr>\n",
       "      <th>2</th>\n",
       "      <td>Amador</td>\n",
       "      <td>Thousands of dollars</td>\n",
       "      <td>2013</td>\n",
       "      <td>1440258.0</td>\n",
       "    </tr>\n",
       "    <tr>\n",
       "      <th>3</th>\n",
       "      <td>Butte</td>\n",
       "      <td>Thousands of dollars</td>\n",
       "      <td>2013</td>\n",
       "      <td>7602095.0</td>\n",
       "    </tr>\n",
       "    <tr>\n",
       "      <th>4</th>\n",
       "      <td>Calaveras</td>\n",
       "      <td>Thousands of dollars</td>\n",
       "      <td>2013</td>\n",
       "      <td>1044218.0</td>\n",
       "    </tr>\n",
       "  </tbody>\n",
       "</table>\n",
       "</div>"
      ],
      "text/plain": [
       "      County           Unit of GDP  Year          GDP\n",
       "0    Alameda  Thousands of dollars  2013  100521444.0\n",
       "1     Alpine  Thousands of dollars  2013      93927.0\n",
       "2     Amador  Thousands of dollars  2013    1440258.0\n",
       "3      Butte  Thousands of dollars  2013    7602095.0\n",
       "4  Calaveras  Thousands of dollars  2013    1044218.0"
      ]
     },
     "execution_count": 106,
     "metadata": {},
     "output_type": "execute_result"
    }
   ],
   "source": [
    "df_GDP = df_GDP.rename({'GeoName':'County','Unit': 'Unit of GDP', 'variable': 'Year', 'value':'GDP'}, axis=1) \n",
    "df_GDP.head()"
   ]
  },
  {
   "cell_type": "code",
   "execution_count": 107,
   "id": "9ce785e2",
   "metadata": {},
   "outputs": [
    {
     "data": {
      "text/html": [
       "<div>\n",
       "<style scoped>\n",
       "    .dataframe tbody tr th:only-of-type {\n",
       "        vertical-align: middle;\n",
       "    }\n",
       "\n",
       "    .dataframe tbody tr th {\n",
       "        vertical-align: top;\n",
       "    }\n",
       "\n",
       "    .dataframe thead th {\n",
       "        text-align: right;\n",
       "    }\n",
       "</style>\n",
       "<table border=\"1\" class=\"dataframe\">\n",
       "  <thead>\n",
       "    <tr style=\"text-align: right;\">\n",
       "      <th></th>\n",
       "      <th>County</th>\n",
       "      <th>Payment_Ye</th>\n",
       "      <th>total_paym</th>\n",
       "    </tr>\n",
       "  </thead>\n",
       "  <tbody>\n",
       "    <tr>\n",
       "      <th>0</th>\n",
       "      <td>Alameda</td>\n",
       "      <td>2012</td>\n",
       "      <td>5581667.00</td>\n",
       "    </tr>\n",
       "    <tr>\n",
       "      <th>1</th>\n",
       "      <td>Alameda</td>\n",
       "      <td>2013</td>\n",
       "      <td>3315000.00</td>\n",
       "    </tr>\n",
       "    <tr>\n",
       "      <th>2</th>\n",
       "      <td>Alameda</td>\n",
       "      <td>2014</td>\n",
       "      <td>4009166.68</td>\n",
       "    </tr>\n",
       "    <tr>\n",
       "      <th>3</th>\n",
       "      <td>Alameda</td>\n",
       "      <td>2015</td>\n",
       "      <td>4862000.00</td>\n",
       "    </tr>\n",
       "    <tr>\n",
       "      <th>4</th>\n",
       "      <td>Alameda</td>\n",
       "      <td>2016</td>\n",
       "      <td>3476500.00</td>\n",
       "    </tr>\n",
       "  </tbody>\n",
       "</table>\n",
       "</div>"
      ],
      "text/plain": [
       "    County Payment_Ye  total_paym\n",
       "0  Alameda       2012  5581667.00\n",
       "1  Alameda       2013  3315000.00\n",
       "2  Alameda       2014  4009166.68\n",
       "3  Alameda       2015  4862000.00\n",
       "4  Alameda       2016  3476500.00"
      ]
     },
     "execution_count": 107,
     "metadata": {},
     "output_type": "execute_result"
    }
   ],
   "source": [
    "df_EHR = df_EHR.rename({'Business_1':'County'}, axis=1) \n",
    "df_EHR.head()"
   ]
  },
  {
   "cell_type": "markdown",
   "id": "6c9a2c90",
   "metadata": {},
   "source": [
    "# Combine the datasets"
   ]
  },
  {
   "cell_type": "code",
   "execution_count": 108,
   "id": "33272f18",
   "metadata": {},
   "outputs": [
    {
     "data": {
      "text/html": [
       "<div>\n",
       "<style scoped>\n",
       "    .dataframe tbody tr th:only-of-type {\n",
       "        vertical-align: middle;\n",
       "    }\n",
       "\n",
       "    .dataframe tbody tr th {\n",
       "        vertical-align: top;\n",
       "    }\n",
       "\n",
       "    .dataframe thead th {\n",
       "        text-align: right;\n",
       "    }\n",
       "</style>\n",
       "<table border=\"1\" class=\"dataframe\">\n",
       "  <thead>\n",
       "    <tr style=\"text-align: right;\">\n",
       "      <th></th>\n",
       "      <th>County</th>\n",
       "      <th>Unit of GDP</th>\n",
       "      <th>Year</th>\n",
       "      <th>GDP</th>\n",
       "      <th>Payment_Ye</th>\n",
       "      <th>total_paym</th>\n",
       "    </tr>\n",
       "  </thead>\n",
       "  <tbody>\n",
       "    <tr>\n",
       "      <th>0</th>\n",
       "      <td>Alameda</td>\n",
       "      <td>Thousands of dollars</td>\n",
       "      <td>2013</td>\n",
       "      <td>100521444.0</td>\n",
       "      <td>2013</td>\n",
       "      <td>3315000.0</td>\n",
       "    </tr>\n",
       "    <tr>\n",
       "      <th>1</th>\n",
       "      <td>Amador</td>\n",
       "      <td>Thousands of dollars</td>\n",
       "      <td>2013</td>\n",
       "      <td>1440258.0</td>\n",
       "      <td>2013</td>\n",
       "      <td>85000.0</td>\n",
       "    </tr>\n",
       "    <tr>\n",
       "      <th>2</th>\n",
       "      <td>Butte</td>\n",
       "      <td>Thousands of dollars</td>\n",
       "      <td>2013</td>\n",
       "      <td>7602095.0</td>\n",
       "      <td>2013</td>\n",
       "      <td>590750.0</td>\n",
       "    </tr>\n",
       "    <tr>\n",
       "      <th>3</th>\n",
       "      <td>Calaveras</td>\n",
       "      <td>Thousands of dollars</td>\n",
       "      <td>2013</td>\n",
       "      <td>1044218.0</td>\n",
       "      <td>2013</td>\n",
       "      <td>21250.0</td>\n",
       "    </tr>\n",
       "    <tr>\n",
       "      <th>4</th>\n",
       "      <td>Colusa</td>\n",
       "      <td>Thousands of dollars</td>\n",
       "      <td>2013</td>\n",
       "      <td>1322530.0</td>\n",
       "      <td>2013</td>\n",
       "      <td>21250.0</td>\n",
       "    </tr>\n",
       "  </tbody>\n",
       "</table>\n",
       "</div>"
      ],
      "text/plain": [
       "      County           Unit of GDP  Year          GDP Payment_Ye  total_paym\n",
       "0    Alameda  Thousands of dollars  2013  100521444.0       2013   3315000.0\n",
       "1     Amador  Thousands of dollars  2013    1440258.0       2013     85000.0\n",
       "2      Butte  Thousands of dollars  2013    7602095.0       2013    590750.0\n",
       "3  Calaveras  Thousands of dollars  2013    1044218.0       2013     21250.0\n",
       "4     Colusa  Thousands of dollars  2013    1322530.0       2013     21250.0"
      ]
     },
     "execution_count": 108,
     "metadata": {},
     "output_type": "execute_result"
    }
   ],
   "source": [
    "df = df_GDP.merge(df_EHR, how='inner', left_on=['County', 'Year'], right_on=['County', 'Payment_Ye'])\n",
    "df.head()"
   ]
  },
  {
   "cell_type": "code",
   "execution_count": 109,
   "id": "88ac776c",
   "metadata": {},
   "outputs": [
    {
     "data": {
      "text/html": [
       "<div>\n",
       "<style scoped>\n",
       "    .dataframe tbody tr th:only-of-type {\n",
       "        vertical-align: middle;\n",
       "    }\n",
       "\n",
       "    .dataframe tbody tr th {\n",
       "        vertical-align: top;\n",
       "    }\n",
       "\n",
       "    .dataframe thead th {\n",
       "        text-align: right;\n",
       "    }\n",
       "</style>\n",
       "<table border=\"1\" class=\"dataframe\">\n",
       "  <thead>\n",
       "    <tr style=\"text-align: right;\">\n",
       "      <th></th>\n",
       "      <th>County</th>\n",
       "      <th>Unit of GDP</th>\n",
       "      <th>Year</th>\n",
       "      <th>GDP</th>\n",
       "      <th>Payment_Ye</th>\n",
       "      <th>total_paym</th>\n",
       "      <th>Taxable Year</th>\n",
       "      <th>Population</th>\n",
       "      <th>Median Income</th>\n",
       "    </tr>\n",
       "  </thead>\n",
       "  <tbody>\n",
       "    <tr>\n",
       "      <th>0</th>\n",
       "      <td>Alameda</td>\n",
       "      <td>Thousands of dollars</td>\n",
       "      <td>2013</td>\n",
       "      <td>100521444.0</td>\n",
       "      <td>2013</td>\n",
       "      <td>3315000.0</td>\n",
       "      <td>2013</td>\n",
       "      <td>1563495.0</td>\n",
       "      <td>46217</td>\n",
       "    </tr>\n",
       "    <tr>\n",
       "      <th>1</th>\n",
       "      <td>Amador</td>\n",
       "      <td>Thousands of dollars</td>\n",
       "      <td>2013</td>\n",
       "      <td>1440258.0</td>\n",
       "      <td>2013</td>\n",
       "      <td>85000.0</td>\n",
       "      <td>2013</td>\n",
       "      <td>36028.0</td>\n",
       "      <td>37846</td>\n",
       "    </tr>\n",
       "    <tr>\n",
       "      <th>2</th>\n",
       "      <td>Butte</td>\n",
       "      <td>Thousands of dollars</td>\n",
       "      <td>2013</td>\n",
       "      <td>7602095.0</td>\n",
       "      <td>2013</td>\n",
       "      <td>590750.0</td>\n",
       "      <td>2013</td>\n",
       "      <td>221416.0</td>\n",
       "      <td>31630</td>\n",
       "    </tr>\n",
       "    <tr>\n",
       "      <th>3</th>\n",
       "      <td>Calaveras</td>\n",
       "      <td>Thousands of dollars</td>\n",
       "      <td>2013</td>\n",
       "      <td>1044218.0</td>\n",
       "      <td>2013</td>\n",
       "      <td>21250.0</td>\n",
       "      <td>2013</td>\n",
       "      <td>44852.0</td>\n",
       "      <td>37833</td>\n",
       "    </tr>\n",
       "    <tr>\n",
       "      <th>4</th>\n",
       "      <td>Colusa</td>\n",
       "      <td>Thousands of dollars</td>\n",
       "      <td>2013</td>\n",
       "      <td>1322530.0</td>\n",
       "      <td>2013</td>\n",
       "      <td>21250.0</td>\n",
       "      <td>2013</td>\n",
       "      <td>21665.0</td>\n",
       "      <td>31123</td>\n",
       "    </tr>\n",
       "  </tbody>\n",
       "</table>\n",
       "</div>"
      ],
      "text/plain": [
       "      County           Unit of GDP  Year          GDP Payment_Ye  total_paym  \\\n",
       "0    Alameda  Thousands of dollars  2013  100521444.0       2013   3315000.0   \n",
       "1     Amador  Thousands of dollars  2013    1440258.0       2013     85000.0   \n",
       "2      Butte  Thousands of dollars  2013    7602095.0       2013    590750.0   \n",
       "3  Calaveras  Thousands of dollars  2013    1044218.0       2013     21250.0   \n",
       "4     Colusa  Thousands of dollars  2013    1322530.0       2013     21250.0   \n",
       "\n",
       "  Taxable Year  Population  Median Income  \n",
       "0         2013   1563495.0          46217  \n",
       "1         2013     36028.0          37846  \n",
       "2         2013    221416.0          31630  \n",
       "3         2013     44852.0          37833  \n",
       "4         2013     21665.0          31123  "
      ]
     },
     "execution_count": 109,
     "metadata": {},
     "output_type": "execute_result"
    }
   ],
   "source": [
    "df = df.merge(df_income, how='inner', left_on=['County', 'Year'], right_on=['County', 'Taxable Year'])\n",
    "df.head()"
   ]
  },
  {
   "cell_type": "code",
   "execution_count": 110,
   "id": "91040dbf",
   "metadata": {},
   "outputs": [],
   "source": [
    "df = df.drop(df.columns[[4,6]],axis=1)"
   ]
  },
  {
   "cell_type": "code",
   "execution_count": 111,
   "id": "fc2f0807",
   "metadata": {},
   "outputs": [],
   "source": [
    "# swap the columns\n",
    "cols = list(df.columns)\n",
    "a, b = cols.index('Unit of GDP'), cols.index('Year')\n",
    "cols[b], cols[a] = cols[a], cols[b]\n",
    "df = df[cols]"
   ]
  },
  {
   "cell_type": "code",
   "execution_count": 112,
   "id": "1a70b36d",
   "metadata": {},
   "outputs": [
    {
     "data": {
      "text/html": [
       "<div>\n",
       "<style scoped>\n",
       "    .dataframe tbody tr th:only-of-type {\n",
       "        vertical-align: middle;\n",
       "    }\n",
       "\n",
       "    .dataframe tbody tr th {\n",
       "        vertical-align: top;\n",
       "    }\n",
       "\n",
       "    .dataframe thead th {\n",
       "        text-align: right;\n",
       "    }\n",
       "</style>\n",
       "<table border=\"1\" class=\"dataframe\">\n",
       "  <thead>\n",
       "    <tr style=\"text-align: right;\">\n",
       "      <th></th>\n",
       "      <th>County</th>\n",
       "      <th>Year</th>\n",
       "      <th>Unit of GDP</th>\n",
       "      <th>GDP</th>\n",
       "      <th>total_paym</th>\n",
       "      <th>Population</th>\n",
       "      <th>Median Income</th>\n",
       "    </tr>\n",
       "  </thead>\n",
       "  <tbody>\n",
       "    <tr>\n",
       "      <th>0</th>\n",
       "      <td>Alameda</td>\n",
       "      <td>2013</td>\n",
       "      <td>Thousands of dollars</td>\n",
       "      <td>100521444.0</td>\n",
       "      <td>3315000.0</td>\n",
       "      <td>1563495.0</td>\n",
       "      <td>46217</td>\n",
       "    </tr>\n",
       "    <tr>\n",
       "      <th>1</th>\n",
       "      <td>Amador</td>\n",
       "      <td>2013</td>\n",
       "      <td>Thousands of dollars</td>\n",
       "      <td>1440258.0</td>\n",
       "      <td>85000.0</td>\n",
       "      <td>36028.0</td>\n",
       "      <td>37846</td>\n",
       "    </tr>\n",
       "    <tr>\n",
       "      <th>2</th>\n",
       "      <td>Butte</td>\n",
       "      <td>2013</td>\n",
       "      <td>Thousands of dollars</td>\n",
       "      <td>7602095.0</td>\n",
       "      <td>590750.0</td>\n",
       "      <td>221416.0</td>\n",
       "      <td>31630</td>\n",
       "    </tr>\n",
       "    <tr>\n",
       "      <th>3</th>\n",
       "      <td>Calaveras</td>\n",
       "      <td>2013</td>\n",
       "      <td>Thousands of dollars</td>\n",
       "      <td>1044218.0</td>\n",
       "      <td>21250.0</td>\n",
       "      <td>44852.0</td>\n",
       "      <td>37833</td>\n",
       "    </tr>\n",
       "    <tr>\n",
       "      <th>4</th>\n",
       "      <td>Colusa</td>\n",
       "      <td>2013</td>\n",
       "      <td>Thousands of dollars</td>\n",
       "      <td>1322530.0</td>\n",
       "      <td>21250.0</td>\n",
       "      <td>21665.0</td>\n",
       "      <td>31123</td>\n",
       "    </tr>\n",
       "  </tbody>\n",
       "</table>\n",
       "</div>"
      ],
      "text/plain": [
       "      County  Year           Unit of GDP          GDP  total_paym  Population  \\\n",
       "0    Alameda  2013  Thousands of dollars  100521444.0   3315000.0   1563495.0   \n",
       "1     Amador  2013  Thousands of dollars    1440258.0     85000.0     36028.0   \n",
       "2      Butte  2013  Thousands of dollars    7602095.0    590750.0    221416.0   \n",
       "3  Calaveras  2013  Thousands of dollars    1044218.0     21250.0     44852.0   \n",
       "4     Colusa  2013  Thousands of dollars    1322530.0     21250.0     21665.0   \n",
       "\n",
       "   Median Income  \n",
       "0          46217  \n",
       "1          37846  \n",
       "2          31630  \n",
       "3          37833  \n",
       "4          31123  "
      ]
     },
     "execution_count": 112,
     "metadata": {},
     "output_type": "execute_result"
    }
   ],
   "source": [
    "df.head()"
   ]
  },
  {
   "cell_type": "markdown",
   "id": "3cb21c62",
   "metadata": {},
   "source": [
    "# Year-by-year EHR spending correlation with GDP analysis"
   ]
  },
  {
   "cell_type": "code",
   "execution_count": 113,
   "id": "58fab4ff",
   "metadata": {},
   "outputs": [
    {
     "data": {
      "text/plain": [
       "<AxesSubplot: xlabel='GDP', ylabel='total_paym'>"
      ]
     },
     "execution_count": 113,
     "metadata": {},
     "output_type": "execute_result"
    },
    {
     "data": {
      "image/png": "[encoded data removed]",
      "text/plain": [
       "<Figure size 640x480 with 1 Axes>"
      ]
     },
     "metadata": {},
     "output_type": "display_data"
    }
   ],
   "source": [
    "import seaborn as sns\n",
    "sns.regplot(x='GDP', y='total_paym', data=df, ci=None, scatter_kws={'s':100, 'facecolor':'red'})"
   ]
  },
  {
   "cell_type": "markdown",
   "id": "6e15836c",
   "metadata": {},
   "source": [
    "## Outlier Treatment"
   ]
  },
  {
   "cell_type": "markdown",
   "id": "2b6324e2",
   "metadata": {},
   "source": [
    "Quantile-based Flooring and Capping In this technique, we will do the flooring (e.g., the 10th percentile) for the lower values and capping (e.g., the 90th percentile) for the higher values. The lines of code below print the 10th and 90th percentiles of the variable 'Income', respectively. These values will be used for quantile-based flooring and capping."
   ]
  },
  {
   "cell_type": "code",
   "execution_count": 114,
   "id": "20f25f40",
   "metadata": {},
   "outputs": [
    {
     "name": "stdout",
     "output_type": "stream",
     "text": [
      "1148102.0\n",
      "130289317.0\n"
     ]
    }
   ],
   "source": [
    "print(df['GDP'].quantile(0.10))\n",
    "print(df['GDP'].quantile(0.90))"
   ]
  },
  {
   "cell_type": "code",
   "execution_count": 115,
   "id": "215c0d01",
   "metadata": {},
   "outputs": [
    {
     "name": "stdout",
     "output_type": "stream",
     "text": [
      "4.33903949120751\n",
      "1.4001516378808532\n"
     ]
    }
   ],
   "source": [
    "print(df['GDP'].skew())\n",
    "\n",
    "# remove the outlier\n",
    "df[\"GDP\"] = np.where(df[\"GDP\"] <1148102, 1148102,df['GDP'])\n",
    "df[\"GDP\"] = np.where(df[\"GDP\"] >130289317, 130289317,df['GDP'])\n",
    "\n",
    "print(df['GDP'].skew())"
   ]
  },
  {
   "cell_type": "markdown",
   "id": "e5dd499d",
   "metadata": {},
   "source": [
    "The above output shows that the skewness value came down from 4.34 to 1.4, confirming that the distribution has been treated for extreme values."
   ]
  },
  {
   "cell_type": "markdown",
   "id": "3bf2c9d5",
   "metadata": {},
   "source": [
    "## 1. Application of Linear Regression - EHR & GDP"
   ]
  },
  {
   "cell_type": "markdown",
   "id": "dffdb90d",
   "metadata": {},
   "source": [
    "Linear regression is suited for estimating continuous values\n",
    "\n",
    "Linear regression model fit line: The plot shows us how well we are able to fit the relationship between the GDP value and the total payment of EHR."
   ]
  },
  {
   "cell_type": "code",
   "execution_count": 116,
   "id": "cf9febab",
   "metadata": {},
   "outputs": [
    {
     "data": {
      "text/html": [
       "<style>#sk-container-id-3 {color: black;background-color: white;}#sk-container-id-3 pre{padding: 0;}#sk-container-id-3 div.sk-toggleable {background-color: white;}#sk-container-id-3 label.sk-toggleable__label {cursor: pointer;display: block;width: 100%;margin-bottom: 0;padding: 0.3em;box-sizing: border-box;text-align: center;}#sk-container-id-3 label.sk-toggleable__label-arrow:before {content: \"▸\";float: left;margin-right: 0.25em;color: #696969;}#sk-container-id-3 label.sk-toggleable__label-arrow:hover:before {color: black;}#sk-container-id-3 div.sk-estimator:hover label.sk-toggleable__label-arrow:before {color: black;}#sk-container-id-3 div.sk-toggleable__content {max-height: 0;max-width: 0;overflow: hidden;text-align: left;background-color: #f0f8ff;}#sk-container-id-3 div.sk-toggleable__content pre {margin: 0.2em;color: black;border-radius: 0.25em;background-color: #f0f8ff;}#sk-container-id-3 input.sk-toggleable__control:checked~div.sk-toggleable__content {max-height: 200px;max-width: 100%;overflow: auto;}#sk-container-id-3 input.sk-toggleable__control:checked~label.sk-toggleable__label-arrow:before {content: \"▾\";}#sk-container-id-3 div.sk-estimator input.sk-toggleable__control:checked~label.sk-toggleable__label {background-color: #d4ebff;}#sk-container-id-3 div.sk-label input.sk-toggleable__control:checked~label.sk-toggleable__label {background-color: #d4ebff;}#sk-container-id-3 input.sk-hidden--visually {border: 0;clip: rect(1px 1px 1px 1px);clip: rect(1px, 1px, 1px, 1px);height: 1px;margin: -1px;overflow: hidden;padding: 0;position: absolute;width: 1px;}#sk-container-id-3 div.sk-estimator {font-family: monospace;background-color: #f0f8ff;border: 1px dotted black;border-radius: 0.25em;box-sizing: border-box;margin-bottom: 0.5em;}#sk-container-id-3 div.sk-estimator:hover {background-color: #d4ebff;}#sk-container-id-3 div.sk-parallel-item::after {content: \"\";width: 100%;border-bottom: 1px solid gray;flex-grow: 1;}#sk-container-id-3 div.sk-label:hover label.sk-toggleable__label {background-color: #d4ebff;}#sk-container-id-3 div.sk-serial::before {content: \"\";position: absolute;border-left: 1px solid gray;box-sizing: border-box;top: 0;bottom: 0;left: 50%;z-index: 0;}#sk-container-id-3 div.sk-serial {display: flex;flex-direction: column;align-items: center;background-color: white;padding-right: 0.2em;padding-left: 0.2em;position: relative;}#sk-container-id-3 div.sk-item {position: relative;z-index: 1;}#sk-container-id-3 div.sk-parallel {display: flex;align-items: stretch;justify-content: center;background-color: white;position: relative;}#sk-container-id-3 div.sk-item::before, #sk-container-id-3 div.sk-parallel-item::before {content: \"\";position: absolute;border-left: 1px solid gray;box-sizing: border-box;top: 0;bottom: 0;left: 50%;z-index: -1;}#sk-container-id-3 div.sk-parallel-item {display: flex;flex-direction: column;z-index: 1;position: relative;background-color: white;}#sk-container-id-3 div.sk-parallel-item:first-child::after {align-self: flex-end;width: 50%;}#sk-container-id-3 div.sk-parallel-item:last-child::after {align-self: flex-start;width: 50%;}#sk-container-id-3 div.sk-parallel-item:only-child::after {width: 0;}#sk-container-id-3 div.sk-dashed-wrapped {border: 1px dashed gray;margin: 0 0.4em 0.5em 0.4em;box-sizing: border-box;padding-bottom: 0.4em;background-color: white;}#sk-container-id-3 div.sk-label label {font-family: monospace;font-weight: bold;display: inline-block;line-height: 1.2em;}#sk-container-id-3 div.sk-label-container {text-align: center;}#sk-container-id-3 div.sk-container {/* jupyter's `normalize.less` sets `[hidden] { display: none; }` but bootstrap.min.css set `[hidden] { display: none !important; }` so we also need the `!important` here to be able to override the default hidden behavior on the sphinx rendered scikit-learn.org. See: https://github.com/scikit-learn/scikit-learn/issues/21755 */display: inline-block !important;position: relative;}#sk-container-id-3 div.sk-text-repr-fallback {display: none;}</style><div id=\"sk-container-id-3\" class=\"sk-top-container\"><div class=\"sk-text-repr-fallback\"><pre>LinearRegression()</pre><b>In a Jupyter environment, please rerun this cell to show the HTML representation or trust the notebook. <br />On GitHub, the HTML representation is unable to render, please try loading this page with nbviewer.org.</b></div><div class=\"sk-container\" hidden><div class=\"sk-item\"><div class=\"sk-estimator sk-toggleable\"><input class=\"sk-toggleable__control sk-hidden--visually\" id=\"sk-estimator-id-3\" type=\"checkbox\" checked><label for=\"sk-estimator-id-3\" class=\"sk-toggleable__label sk-toggleable__label-arrow\">LinearRegression</label><div class=\"sk-toggleable__content\"><pre>LinearRegression()</pre></div></div></div></div></div>"
      ],
      "text/plain": [
       "LinearRegression()"
      ]
     },
     "execution_count": 116,
     "metadata": {},
     "output_type": "execute_result"
    }
   ],
   "source": [
    "# ================================================\n",
    "# Build the model\n",
    "# ================================================\n",
    "\n",
    "# Training data\n",
    "X = df.loc[:,[\"GDP\"]]  # features matrix\n",
    "y = df.loc[:,'total_paym']  # target (response) matix\n",
    "\n",
    "from sklearn.model_selection import train_test_split\n",
    "import statsmodels.api as sm\n",
    "\n",
    "# Splitting the data into train and test\n",
    "X_train, X_test, y_train, y_test = train_test_split(X,y, train_size=0.7,test_size=0.3,random_state=100)\n",
    "\n",
    "# Train the model\n",
    "model = LinearRegression()\n",
    "model.fit(X_train, y_train)"
   ]
  },
  {
   "cell_type": "markdown",
   "id": "e6d31b33",
   "metadata": {},
   "source": [
    "### Predicting test set result"
   ]
  },
  {
   "cell_type": "code",
   "execution_count": 117,
   "id": "abeb5800",
   "metadata": {},
   "outputs": [
    {
     "data": {
      "text/html": [
       "<div>\n",
       "<style scoped>\n",
       "    .dataframe tbody tr th:only-of-type {\n",
       "        vertical-align: middle;\n",
       "    }\n",
       "\n",
       "    .dataframe tbody tr th {\n",
       "        vertical-align: top;\n",
       "    }\n",
       "\n",
       "    .dataframe thead th {\n",
       "        text-align: right;\n",
       "    }\n",
       "</style>\n",
       "<table border=\"1\" class=\"dataframe\">\n",
       "  <thead>\n",
       "    <tr style=\"text-align: right;\">\n",
       "      <th></th>\n",
       "      <th>Actual</th>\n",
       "      <th>Predicted</th>\n",
       "    </tr>\n",
       "  </thead>\n",
       "  <tbody>\n",
       "    <tr>\n",
       "      <th>234</th>\n",
       "      <td>1241000.00</td>\n",
       "      <td>1.419931e+06</td>\n",
       "    </tr>\n",
       "    <tr>\n",
       "      <th>75</th>\n",
       "      <td>701250.00</td>\n",
       "      <td>-1.628958e+05</td>\n",
       "    </tr>\n",
       "    <tr>\n",
       "      <th>339</th>\n",
       "      <td>3096834.06</td>\n",
       "      <td>6.397666e+06</td>\n",
       "    </tr>\n",
       "    <tr>\n",
       "      <th>88</th>\n",
       "      <td>2592500.34</td>\n",
       "      <td>8.697942e+06</td>\n",
       "    </tr>\n",
       "    <tr>\n",
       "      <th>152</th>\n",
       "      <td>395250.00</td>\n",
       "      <td>1.116056e+06</td>\n",
       "    </tr>\n",
       "  </tbody>\n",
       "</table>\n",
       "</div>"
      ],
      "text/plain": [
       "         Actual     Predicted\n",
       "234  1241000.00  1.419931e+06\n",
       "75    701250.00 -1.628958e+05\n",
       "339  3096834.06  6.397666e+06\n",
       "88   2592500.34  8.697942e+06\n",
       "152   395250.00  1.116056e+06"
      ]
     },
     "execution_count": 117,
     "metadata": {},
     "output_type": "execute_result"
    }
   ],
   "source": [
    "y_pred = model.predict(X_test)\n",
    "\n",
    "# Comparing the test values and the predicted values\n",
    "comparison_df = pd.DataFrame({\"Actual\":y_test,\"Predicted\":y_pred})\n",
    "comparison_df.head()"
   ]
  },
  {
   "cell_type": "markdown",
   "id": "50fa8de6",
   "metadata": {},
   "source": [
    "### Checking the residuals "
   ]
  },
  {
   "cell_type": "code",
   "execution_count": 118,
   "id": "56ce6666",
   "metadata": {},
   "outputs": [
    {
     "data": {
      "text/plain": [
       "234   -1.789312e+05\n",
       "75     8.641458e+05\n",
       "339   -3.300832e+06\n",
       "88    -6.105442e+06\n",
       "152   -7.208065e+05\n",
       "Name: total_paym, dtype: float64"
      ]
     },
     "execution_count": 118,
     "metadata": {},
     "output_type": "execute_result"
    }
   ],
   "source": [
    "residuals = y_test - y_pred\n",
    "residuals.head()"
   ]
  },
  {
   "cell_type": "code",
   "execution_count": 119,
   "id": "75aa77ef",
   "metadata": {},
   "outputs": [
    {
     "data": {},
     "metadata": {},
     "output_type": "display_data"
    },
    {
     "data": {
      "application/vnd.holoviews_exec.v0+json": "",
      "text/html": [
       "<div id='1450'>\n",
       "  <div class=\"bk-root\" id=\"ec2509b5-3040-43c1-a099-557328e072c5\" data-root-id=\"1450\"></div>\n",
       "</div>\n",
       "<script type=\"application/javascript\">(function(root) {\n",
       "  function embed_document(root) {\n",
       "    var docs_json = {\"36329c21-f221-4c3f-8d5c-d771c2b4c9b8\":{\"defs\":[{\"extends\":null,\"module\":null,\"name\":\"ReactiveHTML1\",\"overrides\":[],\"properties\":[]},{\"extends\":null,\"module\":null,\"name\":\"FlexBox1\",\"overrides\":[],\"properties\":[{\"default\":\"flex-start\",\"kind\":null,\"name\":\"align_content\"},{\"default\":\"flex-start\",\"kind\":null,\"name\":\"align_items\"},{\"default\":\"row\",\"kind\":null,\"name\":\"flex_direction\"},{\"default\":\"wrap\",\"kind\":null,\"name\":\"flex_wrap\"},{\"default\":\"flex-start\",\"kind\":null,\"name\":\"justify_content\"}]},{\"extends\":null,\"module\":null,\"name\":\"GridStack1\",\"overrides\":[],\"properties\":[{\"default\":\"warn\",\"kind\":null,\"name\":\"mode\"},{\"default\":null,\"kind\":null,\"name\":\"ncols\"},{\"default\":null,\"kind\":null,\"name\":\"nrows\"},{\"default\":true,\"kind\":null,\"name\":\"allow_resize\"},{\"default\":true,\"kind\":null,\"name\":\"allow_drag\"},{\"default\":[],\"kind\":null,\"name\":\"state\"}]},{\"extends\":null,\"module\":null,\"name\":\"click1\",\"overrides\":[],\"properties\":[{\"default\":\"\",\"kind\":null,\"name\":\"terminal_output\"},{\"default\":\"\",\"kind\":null,\"name\":\"debug_name\"},{\"default\":0,\"kind\":null,\"name\":\"clears\"}]},{\"extends\":null,\"module\":null,\"name\":\"NotificationAreaBase1\",\"overrides\":[],\"properties\":[{\"default\":\"bottom-right\",\"kind\":null,\"name\":\"position\"},{\"default\":0,\"kind\":null,\"name\":\"_clear\"}]},{\"extends\":null,\"module\":null,\"name\":\"NotificationArea1\",\"overrides\":[],\"properties\":[{\"default\":[],\"kind\":null,\"name\":\"notifications\"},{\"default\":\"bottom-right\",\"kind\":null,\"name\":\"position\"},{\"default\":0,\"kind\":null,\"name\":\"_clear\"},{\"default\":[{\"background\":\"#ffc107\",\"icon\":{\"className\":\"fas fa-exclamation-triangle\",\"color\":\"white\",\"tagName\":\"i\"},\"type\":\"warning\"},{\"background\":\"#007bff\",\"icon\":{\"className\":\"fas fa-info-circle\",\"color\":\"white\",\"tagName\":\"i\"},\"type\":\"info\"}],\"kind\":null,\"name\":\"types\"}]},{\"extends\":null,\"module\":null,\"name\":\"Notification\",\"overrides\":[],\"properties\":[{\"default\":null,\"kind\":null,\"name\":\"background\"},{\"default\":3000,\"kind\":null,\"name\":\"duration\"},{\"default\":null,\"kind\":null,\"name\":\"icon\"},{\"default\":\"\",\"kind\":null,\"name\":\"message\"},{\"default\":null,\"kind\":null,\"name\":\"notification_type\"},{\"default\":false,\"kind\":null,\"name\":\"_destroyed\"}]},{\"extends\":null,\"module\":null,\"name\":\"TemplateActions1\",\"overrides\":[],\"properties\":[{\"default\":0,\"kind\":null,\"name\":\"open_modal\"},{\"default\":0,\"kind\":null,\"name\":\"close_modal\"}]},{\"extends\":null,\"module\":null,\"name\":\"MaterialTemplateActions1\",\"overrides\":[],\"properties\":[{\"default\":0,\"kind\":null,\"name\":\"open_modal\"},{\"default\":0,\"kind\":null,\"name\":\"close_modal\"}]}],\"roots\":{\"references\":[{\"attributes\":{},\"id\":\"1462\",\"type\":\"LinearScale\"},{\"attributes\":{\"coordinates\":null,\"group\":null,\"text_color\":\"black\",\"text_font_size\":\"12pt\"},\"id\":\"1456\",\"type\":\"Title\"},{\"attributes\":{\"axis_label\":\"True Values(y test)\",\"coordinates\":null,\"formatter\":{\"id\":\"1495\"},\"group\":null,\"major_label_policy\":{\"id\":\"1496\"},\"ticker\":{\"id\":\"1465\"}},\"id\":\"1464\",\"type\":\"LinearAxis\"},{\"attributes\":{},\"id\":\"1465\",\"type\":\"BasicTicker\"},{\"attributes\":{\"end\":9621137.504549738,\"reset_end\":9621137.504549738,\"reset_start\":-1208200.0765059523,\"start\":-1208200.0765059523,\"tags\":[[[\"Predicted Values\",\"Predicted Values\",null]]]},\"id\":\"1453\",\"type\":\"Range1d\"},{\"attributes\":{\"axis\":{\"id\":\"1464\"},\"coordinates\":null,\"grid_line_color\":null,\"group\":null,\"ticker\":null},\"id\":\"1467\",\"type\":\"Grid\"},{\"attributes\":{\"end\":15499770.585714286,\"reset_end\":15499770.585714286,\"reset_start\":-614853.5857142857,\"start\":-614853.5857142857,\"tags\":[[[\"True Values(y test)\",\"True Values(y test)\",null]]]},\"id\":\"1452\",\"type\":\"Range1d\"},{\"attributes\":{},\"id\":\"1496\",\"type\":\"AllLabels\"},{\"attributes\":{},\"id\":\"1473\",\"type\":\"PanTool\"},{\"attributes\":{\"axis_label\":\"Predicted Values\",\"coordinates\":null,\"formatter\":{\"id\":\"1498\"},\"group\":null,\"major_label_policy\":{\"id\":\"1499\"},\"ticker\":{\"id\":\"1469\"}},\"id\":\"1468\",\"type\":\"LinearAxis\"},{\"attributes\":{\"axis\":{\"id\":\"1468\"},\"coordinates\":null,\"dimension\":1,\"grid_line_color\":null,\"group\":null,\"ticker\":null},\"id\":\"1471\",\"type\":\"Grid\"},{\"attributes\":{},\"id\":\"1469\",\"type\":\"BasicTicker\"},{\"attributes\":{},\"id\":\"1499\",\"type\":\"AllLabels\"},{\"attributes\":{},\"id\":\"1474\",\"type\":\"WheelZoomTool\"},{\"attributes\":{\"children\":[{\"id\":\"1451\"},{\"id\":\"1455\"},{\"id\":\"1510\"}],\"margin\":[0,0,0,0],\"name\":\"Row01394\",\"tags\":[\"embedded\"]},\"id\":\"1450\",\"type\":\"Row\"},{\"attributes\":{},\"id\":\"1498\",\"type\":\"BasicTickFormatter\"},{\"attributes\":{},\"id\":\"1472\",\"type\":\"SaveTool\"},{\"attributes\":{\"overlay\":{\"id\":\"1477\"}},\"id\":\"1475\",\"type\":\"BoxZoomTool\"},{\"attributes\":{},\"id\":\"1476\",\"type\":\"ResetTool\"},{\"attributes\":{\"bottom_units\":\"screen\",\"coordinates\":null,\"fill_alpha\":0.5,\"fill_color\":\"lightgrey\",\"group\":null,\"left_units\":\"screen\",\"level\":\"overlay\",\"line_alpha\":1.0,\"line_color\":\"black\",\"line_dash\":[4,4],\"line_width\":2,\"right_units\":\"screen\",\"syncable\":false,\"top_units\":\"screen\"},\"id\":\"1477\",\"type\":\"BoxAnnotation\"},{\"attributes\":{\"tools\":[{\"id\":\"1454\"},{\"id\":\"1472\"},{\"id\":\"1473\"},{\"id\":\"1474\"},{\"id\":\"1475\"},{\"id\":\"1476\"}]},\"id\":\"1478\",\"type\":\"Toolbar\"},{\"attributes\":{\"margin\":[5,5,5,5],\"name\":\"HSpacer01398\",\"sizing_mode\":\"stretch_width\"},\"id\":\"1451\",\"type\":\"Spacer\"},{\"attributes\":{\"fill_alpha\":{\"value\":0.1},\"fill_color\":{\"value\":\"#30a2da\"},\"hatch_alpha\":{\"value\":0.1},\"hatch_color\":{\"value\":\"#30a2da\"},\"line_alpha\":{\"value\":0.1},\"line_color\":{\"value\":\"#30a2da\"},\"size\":{\"value\":5.477225575051661},\"x\":{\"field\":\"True Values(y test)\"},\"y\":{\"field\":\"Predicted Values\"}},\"id\":\"1489\",\"type\":\"Scatter\"},{\"attributes\":{\"angle\":{\"value\":0.0},\"fill_alpha\":{\"value\":1.0},\"fill_color\":{\"value\":\"#30a2da\"},\"hatch_alpha\":{\"value\":1.0},\"hatch_color\":{\"value\":\"#30a2da\"},\"hatch_scale\":{\"value\":12.0},\"hatch_weight\":{\"value\":1.0},\"line_alpha\":{\"value\":1.0},\"line_cap\":{\"value\":\"butt\"},\"line_color\":{\"value\":\"#30a2da\"},\"line_dash\":{\"value\":[]},\"line_dash_offset\":{\"value\":0},\"line_join\":{\"value\":\"bevel\"},\"line_width\":{\"value\":1},\"marker\":{\"value\":\"circle\"},\"size\":{\"value\":5.477225575051661},\"x\":{\"field\":\"True Values(y test)\"},\"y\":{\"field\":\"Predicted Values\"}},\"id\":\"1493\",\"type\":\"Scatter\"},{\"attributes\":{\"margin\":[5,5,5,5],\"name\":\"HSpacer01399\",\"sizing_mode\":\"stretch_width\"},\"id\":\"1510\",\"type\":\"Spacer\"},{\"attributes\":{},\"id\":\"1486\",\"type\":\"Selection\"},{\"attributes\":{},\"id\":\"1460\",\"type\":\"LinearScale\"},{\"attributes\":{\"data\":{\"Predicted Values\":{\"__ndarray__\":\"7OIbLJuqNUHX06o/fuIDwY5Ap5a4Z1hBNJshxgqXYEFFkBR3mAcxQUwvXKm2IANBcxjCQZadEsE9xNxFuFURwQMdFyBtahHBnniigDe2AsGmmpiWLKFgQT1cIxpb5jRBoHw64rqF5kDjJENKWbY1QUIrNacDfkRBkHfNtN6w0cD42lVylADnQO4R6gE1CxDBg6KNftb8WkF5EeIcGRkhQTCwsSnaAgJB5M4irxHMXkFKiXbF7BcgQZs4whxtqRLBUM2GcjijEkGa2erivoRIQcIrF85OJA3BppqYliyhYEGhWpTDKnZgQWD5rqZu2+9AmaNDIG5qN0ETHdcg0uMHwfpA5pJvLV9BmzjCHG2pEsFUNW/B2WUvQeIYUUbUKxFB+PzUh1upCkHrPE+7H3gPwfXHjc1OgThBFvFuFFKRNEEwFX7r9ebjwKaamJYsoWBBUEAvKbfj40AQDTpLQKpOQXbG1f5EMAfBppqYliyhYEHTL/3TNbc2QVyAsvKNHShB9/76X51VAMGbOMIcbakSwZCGllawntNASKLiZgQ0KkH2Sk9W44guQfKfM19RwilBtDETWYxvK0E4cNpQqNgDweZtZJwVuwLBOI841aHqQkGIZ6uIaHoFQdxOgtKHIRLB1IFtvyWyU0Fv4W29EkwHwYlOGDo5yQ3BSYhDUq6DEsGmmpiWLKFgQZs4whxtqRLBWAToVLW7+MBw4OJEImowQVuji0Id6FJBmzjCHG2pEsHAOl7RCUrFQDnuwUP+UzBB5DBIprddJEFXm+NkHL5UQZs4whxtqRLBmzjCHG2pEsGmmpiWLKFgQd5okU7WtQ/BIOw6pFU13kAGgNVrBcQqQfv0/dVzTBDBSMN8mH+TMkGmmpiWLKFgQcSLAsrlXhLBBtjJONNADMFSrqMMRkkyQXfNFRJXIwDBgsJ7zDR+EsGbOMIcbakSwdOSWnjKKzJBppqYliyhYEEAWXvjr2INwYzCVDgUfixBEPZa+YqhEMHkBLRYYYolQcTSy8uOdUNBuDns4i16GUFw3+vPCFnZwKaamJYsoWBBRqNgYu7JM0HEk1du3AAHQaaamJYsoWBB+La1E0RG/cCY1iSLVKgCwUPX4J+hEDZBy/YSJskyIEG6/35tN44Swehf5UTU3eXAccX1kKIOD8E=\",\"dtype\":\"float64\",\"order\":\"little\",\"shape\":[109]},\"Predicted_Values\":{\"__ndarray__\":\"7OIbLJuqNUHX06o/fuIDwY5Ap5a4Z1hBNJshxgqXYEFFkBR3mAcxQUwvXKm2IANBcxjCQZadEsE9xNxFuFURwQMdFyBtahHBnniigDe2AsGmmpiWLKFgQT1cIxpb5jRBoHw64rqF5kDjJENKWbY1QUIrNacDfkRBkHfNtN6w0cD42lVylADnQO4R6gE1CxDBg6KNftb8WkF5EeIcGRkhQTCwsSnaAgJB5M4irxHMXkFKiXbF7BcgQZs4whxtqRLBUM2GcjijEkGa2erivoRIQcIrF85OJA3BppqYliyhYEGhWpTDKnZgQWD5rqZu2+9AmaNDIG5qN0ETHdcg0uMHwfpA5pJvLV9BmzjCHG2pEsFUNW/B2WUvQeIYUUbUKxFB+PzUh1upCkHrPE+7H3gPwfXHjc1OgThBFvFuFFKRNEEwFX7r9ebjwKaamJYsoWBBUEAvKbfj40AQDTpLQKpOQXbG1f5EMAfBppqYliyhYEHTL/3TNbc2QVyAsvKNHShB9/76X51VAMGbOMIcbakSwZCGllawntNASKLiZgQ0KkH2Sk9W44guQfKfM19RwilBtDETWYxvK0E4cNpQqNgDweZtZJwVuwLBOI841aHqQkGIZ6uIaHoFQdxOgtKHIRLB1IFtvyWyU0Fv4W29EkwHwYlOGDo5yQ3BSYhDUq6DEsGmmpiWLKFgQZs4whxtqRLBWAToVLW7+MBw4OJEImowQVuji0Id6FJBmzjCHG2pEsHAOl7RCUrFQDnuwUP+UzBB5DBIprddJEFXm+NkHL5UQZs4whxtqRLBmzjCHG2pEsGmmpiWLKFgQd5okU7WtQ/BIOw6pFU13kAGgNVrBcQqQfv0/dVzTBDBSMN8mH+TMkGmmpiWLKFgQcSLAsrlXhLBBtjJONNADMFSrqMMRkkyQXfNFRJXIwDBgsJ7zDR+EsGbOMIcbakSwdOSWnjKKzJBppqYliyhYEEAWXvjr2INwYzCVDgUfixBEPZa+YqhEMHkBLRYYYolQcTSy8uOdUNBuDns4i16GUFw3+vPCFnZwKaamJYsoWBBRqNgYu7JM0HEk1du3AAHQaaamJYsoWBB+La1E0RG/cCY1iSLVKgCwUPX4J+hEDZBy/YSJskyIEG6/35tN44Swehf5UTU3eXAccX1kKIOD8E=\",\"dtype\":\"float64\",\"order\":\"little\",\"shape\":[109]},\"True Values(y test)\":{\"__ndarray__\":\"AAAAAKjvMkEAAAAAhGYlQXsUrgeBoEdBuB6FK3rHQ0EAAAAAyB8YQQAAAAAwFSBBAAAAAOgCFUEAAAAAAOcIQQAAAACAwPRAAAAAAGDdF0EAAABgpllsQQAAAACoPCtBAAAAAFiRJkG4HoWrJFA5QQAAAADXtE5BAAAAAHB1CkEAAAAASBMJQQAAAAAA5+hAAAAAAECtIkEAAAAAhLMtQQAAAABMnyRBAAAAAAqGSkEAAAAAQK3iQAAAAACAwNRAAAAAABB/K0Fcj8JV4nlFQQAAAABwKAJBAAAAALsqSkEAAAAAB+NVQQAAAADOy1BBcT0KV0XGMEEAAAAAQPr6QLgehauGmThBAAAAAMAg70AAAAAAQPoKQQAAAADgA/xAAAAAAPiaF0EAAAAAgMDUQAAAAACMsiZBUrgeBSy8J0EAAAAA8JsuQQAAAABMnyRBAAAAANTEMUHhehSu4uk2QQAAAABArfJArkfhquw7UEEAAAAAqO8iQQAAAACAwBRBAAAAAOADLEEAAAAAgMD0QAAAAACwOxRBAAAAALA7NEEAAAAA4AP8QArXo3BdqwtBAAAAADhhEUEAAAAAkKUPQQAAAADA0wZBAAAAAIDAJEEAAAAAlP4nQQAAAABQRQVBAAAAAN6wO0EAAAAA0GsZQQAAAAA8ByJBAAAAAFBFBUEAAAAAaClpQQAAAACAwNRAAAAAAOC280AAAAAAsDsEQVK4HgXWhDdBAAAAAIDA1EAAAAAAaNwwQQAAAACwOwRB4XoUriKwEEFcj8IVLb9TQQAAAACgowFBAAAAAIAN3UAAAAAA+3NDQQAAAACAwNRAAAAAAARAMUEAAAAADIwiQQAAAACAwNRAuB6Fa69VKUEAAABAu5VSQQAAAACYVxBBAAAAAIDA5EAAAAAAvHouQRSuR+GqItZAAAAAAIDA5EAAAAAA4AP8QAAAAABArRJBAAAAQJr3WEEAAAAAgA3tQAAAAAAS0ktBAAAAAKDw+UAAAAAAFNgjQQAAAAAMjCJBAAAAANhqIkEAAAAAnEopQa5H4SoEQFFBAAAAAPZnJEEAAAAAJHAmQQAAAAC/0EpBAAAAAMolQEEAAAAAYN0nQQAAAADcXStBAAAAALCILEEAAAAAAOf4QAAAAAD4mhdBAAAAADBiCEE=\",\"dtype\":\"float64\",\"order\":\"little\",\"shape\":[109]},\"True_Values_left_parenthesis_y_test_right_parenthesis\":{\"__ndarray__\":\"AAAAAKjvMkEAAAAAhGYlQXsUrgeBoEdBuB6FK3rHQ0EAAAAAyB8YQQAAAAAwFSBBAAAAAOgCFUEAAAAAAOcIQQAAAACAwPRAAAAAAGDdF0EAAABgpllsQQAAAACoPCtBAAAAAFiRJkG4HoWrJFA5QQAAAADXtE5BAAAAAHB1CkEAAAAASBMJQQAAAAAA5+hAAAAAAECtIkEAAAAAhLMtQQAAAABMnyRBAAAAAAqGSkEAAAAAQK3iQAAAAACAwNRAAAAAABB/K0Fcj8JV4nlFQQAAAABwKAJBAAAAALsqSkEAAAAAB+NVQQAAAADOy1BBcT0KV0XGMEEAAAAAQPr6QLgehauGmThBAAAAAMAg70AAAAAAQPoKQQAAAADgA/xAAAAAAPiaF0EAAAAAgMDUQAAAAACMsiZBUrgeBSy8J0EAAAAA8JsuQQAAAABMnyRBAAAAANTEMUHhehSu4uk2QQAAAABArfJArkfhquw7UEEAAAAAqO8iQQAAAACAwBRBAAAAAOADLEEAAAAAgMD0QAAAAACwOxRBAAAAALA7NEEAAAAA4AP8QArXo3BdqwtBAAAAADhhEUEAAAAAkKUPQQAAAADA0wZBAAAAAIDAJEEAAAAAlP4nQQAAAABQRQVBAAAAAN6wO0EAAAAA0GsZQQAAAAA8ByJBAAAAAFBFBUEAAAAAaClpQQAAAACAwNRAAAAAAOC280AAAAAAsDsEQVK4HgXWhDdBAAAAAIDA1EAAAAAAaNwwQQAAAACwOwRB4XoUriKwEEFcj8IVLb9TQQAAAACgowFBAAAAAIAN3UAAAAAA+3NDQQAAAACAwNRAAAAAAARAMUEAAAAADIwiQQAAAACAwNRAuB6Fa69VKUEAAABAu5VSQQAAAACYVxBBAAAAAIDA5EAAAAAAvHouQRSuR+GqItZAAAAAAIDA5EAAAAAA4AP8QAAAAABArRJBAAAAQJr3WEEAAAAAgA3tQAAAAAAS0ktBAAAAAKDw+UAAAAAAFNgjQQAAAAAMjCJBAAAAANhqIkEAAAAAnEopQa5H4SoEQFFBAAAAAPZnJEEAAAAAJHAmQQAAAAC/0EpBAAAAAMolQEEAAAAAYN0nQQAAAADcXStBAAAAALCILEEAAAAAAOf4QAAAAAD4mhdBAAAAADBiCEE=\",\"dtype\":\"float64\",\"order\":\"little\",\"shape\":[109]}},\"selected\":{\"id\":\"1486\"},\"selection_policy\":{\"id\":\"1507\"}},\"id\":\"1485\",\"type\":\"ColumnDataSource\"},{\"attributes\":{\"callback\":null,\"renderers\":[{\"id\":\"1491\"}],\"tags\":[\"hv_created\"],\"tooltips\":[[\"True Values(y test)\",\"@{True_Values_left_parenthesis_y_test_right_parenthesis}\"],[\"Predicted Values\",\"@{Predicted_Values}\"]]},\"id\":\"1454\",\"type\":\"HoverTool\"},{\"attributes\":{\"source\":{\"id\":\"1485\"}},\"id\":\"1492\",\"type\":\"CDSView\"},{\"attributes\":{\"below\":[{\"id\":\"1464\"}],\"center\":[{\"id\":\"1467\"},{\"id\":\"1471\"}],\"height\":300,\"left\":[{\"id\":\"1468\"}],\"margin\":[5,5,5,5],\"min_border_bottom\":10,\"min_border_left\":10,\"min_border_right\":10,\"min_border_top\":10,\"renderers\":[{\"id\":\"1491\"}],\"sizing_mode\":\"fixed\",\"title\":{\"id\":\"1456\"},\"toolbar\":{\"id\":\"1478\"},\"width\":700,\"x_range\":{\"id\":\"1452\"},\"x_scale\":{\"id\":\"1460\"},\"y_range\":{\"id\":\"1453\"},\"y_scale\":{\"id\":\"1462\"}},\"id\":\"1455\",\"subtype\":\"Figure\",\"type\":\"Plot\"},{\"attributes\":{\"fill_color\":{\"value\":\"#30a2da\"},\"hatch_color\":{\"value\":\"#30a2da\"},\"line_color\":{\"value\":\"#30a2da\"},\"size\":{\"value\":5.477225575051661},\"x\":{\"field\":\"True Values(y test)\"},\"y\":{\"field\":\"Predicted Values\"}},\"id\":\"1488\",\"type\":\"Scatter\"},{\"attributes\":{\"coordinates\":null,\"data_source\":{\"id\":\"1485\"},\"glyph\":{\"id\":\"1488\"},\"group\":null,\"hover_glyph\":null,\"muted_glyph\":{\"id\":\"1490\"},\"nonselection_glyph\":{\"id\":\"1489\"},\"selection_glyph\":{\"id\":\"1493\"},\"view\":{\"id\":\"1492\"}},\"id\":\"1491\",\"type\":\"GlyphRenderer\"},{\"attributes\":{},\"id\":\"1495\",\"type\":\"BasicTickFormatter\"},{\"attributes\":{\"fill_alpha\":{\"value\":0.2},\"fill_color\":{\"value\":\"#30a2da\"},\"hatch_alpha\":{\"value\":0.2},\"hatch_color\":{\"value\":\"#30a2da\"},\"line_alpha\":{\"value\":0.2},\"line_color\":{\"value\":\"#30a2da\"},\"size\":{\"value\":5.477225575051661},\"x\":{\"field\":\"True Values(y test)\"},\"y\":{\"field\":\"Predicted Values\"}},\"id\":\"1490\",\"type\":\"Scatter\"},{\"attributes\":{},\"id\":\"1507\",\"type\":\"UnionRenderers\"}],\"root_ids\":[\"1450\"]},\"title\":\"Bokeh Application\",\"version\":\"2.4.3\"}};\n",
       "    var render_items = [{\"docid\":\"36329c21-f221-4c3f-8d5c-d771c2b4c9b8\",\"root_ids\":[\"1450\"],\"roots\":{\"1450\":\"ec2509b5-3040-43c1-a099-557328e072c5\"}}];\n",
       "    root.Bokeh.embed.embed_items_notebook(docs_json, render_items);\n",
       "    for (const render_item of render_items) {\n",
       "      for (const root_id of render_item.root_ids) {\n",
       "\tconst id_el = document.getElementById(root_id)\n",
       "\tif (id_el.children.length && (id_el.children[0].className === 'bk-root')) {\n",
       "\t  const root_el = id_el.children[0]\n",
       "\t  root_el.id = root_el.id + '-rendered'\n",
       "\t}\n",
       "      }\n",
       "    }\n",
       "  }\n",
       "  if (root.Bokeh !== undefined && root.Bokeh.Panel !== undefined) {\n",
       "    embed_document(root);\n",
       "  } else {\n",
       "    var attempts = 0;\n",
       "    var timer = setInterval(function(root) {\n",
       "      if (root.Bokeh !== undefined && root.Bokeh.Panel !== undefined) {\n",
       "        clearInterval(timer);\n",
       "        embed_document(root);\n",
       "      } else if (document.readyState == \"complete\") {\n",
       "        attempts++;\n",
       "        if (attempts > 200) {\n",
       "          clearInterval(timer);\n",
       "          console.log(\"Bokeh: ERROR: Unable to run BokehJS code because BokehJS library is missing\");\n",
       "        }\n",
       "      }\n",
       "    }, 25, root)\n",
       "  }\n",
       "})(window);</script>"
      ],
      "text/plain": [
       ":Scatter   [True Values(y test)]   (Predicted Values)"
      ]
     },
     "execution_count": 119,
     "metadata": {
      "application/vnd.holoviews_exec.v0+json": {
       "id": "1450"
      }
     },
     "output_type": "execute_result"
    }
   ],
   "source": [
    "import hvplot.pandas\n",
    "pd.DataFrame({'True Values(y test)': y_test, 'Predicted Values': y_pred}).hvplot.scatter(x='True Values(y test)', y='Predicted Values')"
   ]
  },
  {
   "cell_type": "markdown",
   "id": "58fbd7fe",
   "metadata": {},
   "source": [
    "The values seem to align linearly, which shows that the model is acceptable."
   ]
  },
  {
   "cell_type": "markdown",
   "id": "d074a868",
   "metadata": {},
   "source": [
    "### Model Evaluation"
   ]
  },
  {
   "cell_type": "markdown",
   "id": "27c8f37e",
   "metadata": {},
   "source": [
    "Check the coefficients, P values, MAE, MSE, RMSE, R2 square\n",
    "\n",
    "Coefficients: Quantify the strength of relationship with correaltion(R)\n",
    "\n",
    "P value: The probability that randomly drawn points will result in the similarly strong relationship, so the smaller the p-value, the more confidence we have in the predictions we make with the line.\n",
    "\n",
    "MAE is the easiest to understand, because it's the average error.\n",
    "\n",
    "MSE is more popular than MAE, because MSE \"punishes\" larger errors, which tends to be useful in the real world.\n",
    "\n",
    "RMSE is even more popular than MSE, because RMSE is interpretable in the \"y\" units.\n",
    "\n",
    "All of these are loss functions, because we want to minimize them."
   ]
  },
  {
   "cell_type": "code",
   "execution_count": 120,
   "id": "3d82de1b",
   "metadata": {},
   "outputs": [],
   "source": [
    "from sklearn import metrics\n",
    "from sklearn.metrics import mean_squared_error\n",
    "from sklearn.metrics import mean_absolute_error\n",
    "from sklearn.metrics import r2_score\n",
    "from sklearn.metrics import mean_squared_error\n",
    "from sklearn.model_selection import cross_val_score\n",
    "\n",
    "def cross_val(model):\n",
    "    pred = cross_val_score(model, X, y, cv=10)\n",
    "    return pred.mean()\n",
    "\n",
    "def print_evaluate(true, predicted):  \n",
    "    mae = metrics.mean_absolute_error(true, predicted)\n",
    "    mse = metrics.mean_squared_error(true, predicted)\n",
    "    rmse = np.sqrt(metrics.mean_squared_error(true, predicted))\n",
    "    r2_square = metrics.r2_score(true, predicted)\n",
    "    print('MAE:', mae)\n",
    "    print('MSE:', mse)\n",
    "    print('RMSE:', rmse)\n",
    "    print('R2 Square', r2_square)\n",
    "    print('__________________________________')\n",
    "    \n",
    "def evaluate(true, predicted):\n",
    "    mae = metrics.mean_absolute_error(true, predicted)\n",
    "    mse = metrics.mean_squared_error(true, predicted)\n",
    "    rmse = np.sqrt(metrics.mean_squared_error(true, predicted))\n",
    "    r2_square = metrics.r2_score(true, predicted)\n",
    "    return mae, mse, rmse, r2_square"
   ]
  },
  {
   "cell_type": "code",
   "execution_count": 121,
   "id": "90a64823",
   "metadata": {},
   "outputs": [
    {
     "data": {
      "text/html": [
       "<div>\n",
       "<style scoped>\n",
       "    .dataframe tbody tr th:only-of-type {\n",
       "        vertical-align: middle;\n",
       "    }\n",
       "\n",
       "    .dataframe tbody tr th {\n",
       "        vertical-align: top;\n",
       "    }\n",
       "\n",
       "    .dataframe thead th {\n",
       "        text-align: right;\n",
       "    }\n",
       "</style>\n",
       "<table border=\"1\" class=\"dataframe\">\n",
       "  <thead>\n",
       "    <tr style=\"text-align: right;\">\n",
       "      <th></th>\n",
       "      <th>Coefficient</th>\n",
       "    </tr>\n",
       "  </thead>\n",
       "  <tbody>\n",
       "    <tr>\n",
       "      <th>GDP</th>\n",
       "      <td>0.06988</td>\n",
       "    </tr>\n",
       "  </tbody>\n",
       "</table>\n",
       "</div>"
      ],
      "text/plain": [
       "     Coefficient\n",
       "GDP      0.06988"
      ]
     },
     "execution_count": 121,
     "metadata": {},
     "output_type": "execute_result"
    }
   ],
   "source": [
    "# coefficient\n",
    "coeff_df = pd.DataFrame(model.coef_, X.columns, columns=['Coefficient'])\n",
    "coeff_df"
   ]
  },
  {
   "cell_type": "markdown",
   "id": "e66f899b",
   "metadata": {},
   "source": [
    "Interpreting the coefficients:\n",
    "\n",
    "Holding all other features fixed, a 1 unit (thousands of dollars) increase in GDP is associated with an increase of $0.034668 in EHR payment."
   ]
  },
  {
   "cell_type": "code",
   "execution_count": 122,
   "id": "7d7a03d2",
   "metadata": {},
   "outputs": [
    {
     "name": "stdout",
     "output_type": "stream",
     "text": [
      "Test set evaluation:\n",
      "_____________________________________\n",
      "MAE: 1333210.1884439206\n",
      "MSE: 4867352708881.257\n",
      "RMSE: 2206207.7664810396\n",
      "R2 Square 0.018390953036341418\n",
      "__________________________________\n"
     ]
    }
   ],
   "source": [
    "test_pred = model.predict(X_test)\n",
    "train_pred = model.predict(X_train)\n",
    "\n",
    "print('Test set evaluation:\\n_____________________________________')\n",
    "print_evaluate(y_test, test_pred)\n",
    "\n",
    "results_df = pd.DataFrame(data=[[\"Linear Regression\", *evaluate(y_test, test_pred) , cross_val(LinearRegression())]], \n",
    "                          columns=['Model', 'MAE', 'MSE', 'RMSE', 'R2 Square', \"Cross Validation\"])"
   ]
  },
  {
   "cell_type": "markdown",
   "id": "288ce98c",
   "metadata": {},
   "source": [
    "## Check the distribution of the error terms"
   ]
  },
  {
   "cell_type": "markdown",
   "id": "0f9a52fe",
   "metadata": {},
   "source": [
    "In linear regression we assume that the error term follows normal distribution. So we have to check this assumption before we can use the model for making predictions. We check this by looking at the histogram of the error term visually, making sure that the error terms are normally distributed around zero and that the left and right side are broadly similar."
   ]
  },
  {
   "cell_type": "code",
   "execution_count": 123,
   "id": "0e009215",
   "metadata": {},
   "outputs": [
    {
     "data": {},
     "metadata": {},
     "output_type": "display_data"
    },
    {
     "data": {
      "application/vnd.holoviews_exec.v0+json": "",
      "text/html": [
       "<div id='1562'>\n",
       "  <div class=\"bk-root\" id=\"95b2bcad-2478-4773-bef3-e314159d0fff\" data-root-id=\"1562\"></div>\n",
       "</div>\n",
       "<script type=\"application/javascript\">(function(root) {\n",
       "  function embed_document(root) {\n",
       "    var docs_json = {\"ea2604d5-dbe0-4819-b427-5999c28ec2fb\":{\"defs\":[{\"extends\":null,\"module\":null,\"name\":\"ReactiveHTML1\",\"overrides\":[],\"properties\":[]},{\"extends\":null,\"module\":null,\"name\":\"FlexBox1\",\"overrides\":[],\"properties\":[{\"default\":\"flex-start\",\"kind\":null,\"name\":\"align_content\"},{\"default\":\"flex-start\",\"kind\":null,\"name\":\"align_items\"},{\"default\":\"row\",\"kind\":null,\"name\":\"flex_direction\"},{\"default\":\"wrap\",\"kind\":null,\"name\":\"flex_wrap\"},{\"default\":\"flex-start\",\"kind\":null,\"name\":\"justify_content\"}]},{\"extends\":null,\"module\":null,\"name\":\"GridStack1\",\"overrides\":[],\"properties\":[{\"default\":\"warn\",\"kind\":null,\"name\":\"mode\"},{\"default\":null,\"kind\":null,\"name\":\"ncols\"},{\"default\":null,\"kind\":null,\"name\":\"nrows\"},{\"default\":true,\"kind\":null,\"name\":\"allow_resize\"},{\"default\":true,\"kind\":null,\"name\":\"allow_drag\"},{\"default\":[],\"kind\":null,\"name\":\"state\"}]},{\"extends\":null,\"module\":null,\"name\":\"click1\",\"overrides\":[],\"properties\":[{\"default\":\"\",\"kind\":null,\"name\":\"terminal_output\"},{\"default\":\"\",\"kind\":null,\"name\":\"debug_name\"},{\"default\":0,\"kind\":null,\"name\":\"clears\"}]},{\"extends\":null,\"module\":null,\"name\":\"NotificationAreaBase1\",\"overrides\":[],\"properties\":[{\"default\":\"bottom-right\",\"kind\":null,\"name\":\"position\"},{\"default\":0,\"kind\":null,\"name\":\"_clear\"}]},{\"extends\":null,\"module\":null,\"name\":\"NotificationArea1\",\"overrides\":[],\"properties\":[{\"default\":[],\"kind\":null,\"name\":\"notifications\"},{\"default\":\"bottom-right\",\"kind\":null,\"name\":\"position\"},{\"default\":0,\"kind\":null,\"name\":\"_clear\"},{\"default\":[{\"background\":\"#ffc107\",\"icon\":{\"className\":\"fas fa-exclamation-triangle\",\"color\":\"white\",\"tagName\":\"i\"},\"type\":\"warning\"},{\"background\":\"#007bff\",\"icon\":{\"className\":\"fas fa-info-circle\",\"color\":\"white\",\"tagName\":\"i\"},\"type\":\"info\"}],\"kind\":null,\"name\":\"types\"}]},{\"extends\":null,\"module\":null,\"name\":\"Notification\",\"overrides\":[],\"properties\":[{\"default\":null,\"kind\":null,\"name\":\"background\"},{\"default\":3000,\"kind\":null,\"name\":\"duration\"},{\"default\":null,\"kind\":null,\"name\":\"icon\"},{\"default\":\"\",\"kind\":null,\"name\":\"message\"},{\"default\":null,\"kind\":null,\"name\":\"notification_type\"},{\"default\":false,\"kind\":null,\"name\":\"_destroyed\"}]},{\"extends\":null,\"module\":null,\"name\":\"TemplateActions1\",\"overrides\":[],\"properties\":[{\"default\":0,\"kind\":null,\"name\":\"open_modal\"},{\"default\":0,\"kind\":null,\"name\":\"close_modal\"}]},{\"extends\":null,\"module\":null,\"name\":\"MaterialTemplateActions1\",\"overrides\":[],\"properties\":[{\"default\":0,\"kind\":null,\"name\":\"open_modal\"},{\"default\":0,\"kind\":null,\"name\":\"close_modal\"}]}],\"roots\":{\"references\":[{\"attributes\":{\"bottom_units\":\"screen\",\"coordinates\":null,\"fill_alpha\":0.5,\"fill_color\":\"lightgrey\",\"group\":null,\"left_units\":\"screen\",\"level\":\"overlay\",\"line_alpha\":1.0,\"line_color\":\"black\",\"line_dash\":[4,4],\"line_width\":2,\"right_units\":\"screen\",\"syncable\":false,\"top_units\":\"screen\"},\"id\":\"1589\",\"type\":\"BoxAnnotation\"},{\"attributes\":{\"fill_alpha\":0.5,\"fill_color\":\"#30a2da\",\"hatch_color\":\"#30a2da\",\"x\":{\"field\":\"x\"},\"y\":{\"field\":\"y\"}},\"id\":\"1605\",\"type\":\"Patch\"},{\"attributes\":{\"axis_label\":\"Error Values\",\"coordinates\":null,\"formatter\":{\"id\":\"1607\"},\"group\":null,\"major_label_policy\":{\"id\":\"1608\"},\"ticker\":{\"id\":\"1577\"}},\"id\":\"1576\",\"type\":\"LinearAxis\"},{\"attributes\":{\"coordinates\":null,\"data_source\":{\"id\":\"1597\"},\"glyph\":{\"id\":\"1600\"},\"group\":null,\"hover_glyph\":null,\"muted_glyph\":{\"id\":\"1602\"},\"nonselection_glyph\":{\"id\":\"1601\"},\"selection_glyph\":{\"id\":\"1605\"},\"view\":{\"id\":\"1604\"}},\"id\":\"1603\",\"type\":\"GlyphRenderer\"},{\"attributes\":{\"source\":{\"id\":\"1597\"}},\"id\":\"1604\",\"type\":\"CDSView\"},{\"attributes\":{\"margin\":[5,5,5,5],\"name\":\"HSpacer01523\",\"sizing_mode\":\"stretch_width\"},\"id\":\"1563\",\"type\":\"Spacer\"},{\"attributes\":{},\"id\":\"1608\",\"type\":\"AllLabels\"},{\"attributes\":{},\"id\":\"1610\",\"type\":\"BasicTickFormatter\"},{\"attributes\":{\"margin\":[5,5,5,5],\"name\":\"HSpacer01524\",\"sizing_mode\":\"stretch_width\"},\"id\":\"1622\",\"type\":\"Spacer\"},{\"attributes\":{},\"id\":\"1619\",\"type\":\"UnionRenderers\"},{\"attributes\":{\"callback\":null,\"renderers\":[{\"id\":\"1603\"}],\"tags\":[\"hv_created\"],\"tooltips\":[[\"Error Values\",\"@{Error_Values}\"],[\"Density\",\"@{Error_Values_density}\"]]},\"id\":\"1566\",\"type\":\"HoverTool\"},{\"attributes\":{},\"id\":\"1607\",\"type\":\"BasicTickFormatter\"},{\"attributes\":{},\"id\":\"1572\",\"type\":\"LinearScale\"},{\"attributes\":{\"tools\":[{\"id\":\"1566\"},{\"id\":\"1584\"},{\"id\":\"1585\"},{\"id\":\"1586\"},{\"id\":\"1587\"},{\"id\":\"1588\"}]},\"id\":\"1590\",\"type\":\"Toolbar\"},{\"attributes\":{\"axis_label\":\"Density\",\"coordinates\":null,\"formatter\":{\"id\":\"1610\"},\"group\":null,\"major_label_policy\":{\"id\":\"1611\"},\"ticker\":{\"id\":\"1581\"}},\"id\":\"1580\",\"type\":\"LinearAxis\"},{\"attributes\":{\"axis\":{\"id\":\"1576\"},\"coordinates\":null,\"grid_line_color\":null,\"group\":null,\"ticker\":null},\"id\":\"1579\",\"type\":\"Grid\"},{\"attributes\":{\"fill_alpha\":0.5,\"fill_color\":\"#30a2da\",\"hatch_alpha\":0.1,\"hatch_color\":\"#30a2da\",\"line_alpha\":1,\"x\":{\"field\":\"x\"},\"y\":{\"field\":\"y\"}},\"id\":\"1601\",\"type\":\"Patch\"},{\"attributes\":{},\"id\":\"1611\",\"type\":\"AllLabels\"},{\"attributes\":{},\"id\":\"1581\",\"type\":\"BasicTicker\"},{\"attributes\":{\"fill_alpha\":0.5,\"fill_color\":\"#30a2da\",\"hatch_color\":\"#30a2da\",\"x\":{\"field\":\"x\"},\"y\":{\"field\":\"y\"}},\"id\":\"1600\",\"type\":\"Patch\"},{\"attributes\":{\"end\":8695988.387679705,\"reset_end\":8695988.387679705,\"reset_start\":-10593956.799936565,\"start\":-10593956.799936565,\"tags\":[[[\"Error Values\",\"Error Values\",null]]]},\"id\":\"1564\",\"type\":\"Range1d\"},{\"attributes\":{\"end\":3.3702642528645225e-07,\"reset_end\":3.3702642528645225e-07,\"reset_start\":0.0,\"tags\":[[[\"Error Values_density\",\"Density\",null]]]},\"id\":\"1565\",\"type\":\"Range1d\"},{\"attributes\":{\"data\":{\"x\":{\"__ndarray__\":\"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\",\"dtype\":\"float64\",\"order\":\"little\",\"shape\":[200]},\"y\":{\"__ndarray__\":\"AAAAAAAAAAAAAAAAAAAAAAAAAAAAAAAAAAAAAAAAAAAAAAAAAAAAAAAAAAAAAAAAAAAAAAAAAAAAAAAAAAAAAAAAAAAAAAAAAAAAAAAAAAAAAAAAAAAAAAAAAAAAAAAAAAAAAAAAAAAAAAAAAAAAAAAAAAAAAAAAAAAAAAAAAAAAAAAAAAAAAAAAAAAAAAAAAAAAAAAAAAAAAAAAAAAAAAAAAAAAAAAAAAAAAAAAAAAAAAAAAAAAAAAAAAAAAAAAAAAAAAAAAAAAAAAAAAAAAAAAAAAAAAAAAAAAAAAAAAAAAAAAAAAAAAAAAAAAAAAAAAAAAAAAAAAAAAAAAAAAAAAAAAAAAAAAAAAAAAAAAAAAAAAAAAAAAAAAAAAAAAAAAAAAAAAAAAAAAAAAAAAAAAAAAAAAAAAAAAAAAAAAAAAAAAAAAAAAAAAAAAAAAAAAAAAAAAAAAAAAAAAAAAAAAAAAAAAAAAAAAAAAAAAAAAAAAAAAAAAAAAAAAAAAAAAAAAAAAAAAAAAAAAAAAAAAAAAAAAAAAAAAAAAAAAAAAAAAAAAAAAAAAAAAAAAAAAAAAAAAAAAAAAAAAAAAAAAAAAAAAAAAAAAAAAAAAAAAAAAAAAAAAAAAAAAAAAAAAAAAAAAAAAAAAAAAAAAAAAAAAAAAAAAAAAAAAAAAAAAAAAAAAAAAAAAAAAAAAAAAAAAAAAAAAAAAAAAAAAAAAAAAAAAAAAAAAAAAAAAAAAAAAAAAAAAAAAAAAAAAAAAAAAAAAAAAAAAAAAAAAAAAAAAAAAAAAAAAAAAAAAAAAAAAAAAAAAAAAAAAAAAAAAAAAAAAAAAAAAAAAAAAAAAAAAAAAAAAAAAAAAAAAAAAAAAAAAAAAAAAAAAAAAAAAAAAAAAAAAAAAAAAAAAAAAAAAAAAAAAAAAAAAAAAAAAAAAAAAAAAAAAAAAAAAAAAAAAAAAAAAAAAAAAAAAAAAAAAAAAAAAAAAAAAAAAAAAAAAAAAAAAAAAAAAAAAAAAAAAAAAAAAAAAAAAAAAAAAAAAAAAAAAAAAAAAAAAAAAAAAAAAAAADtuwzZRk3KPaQrQaOWe9k9P2wmalJu5z2ioadk4XL0PVm/2acV8QA+Q9zLHlaoCj5DVY2AxOwTPvKCQPRcURw+nuQ7Ok0nIz5lKVfqh7QoPsB3qw5Ody4+iqS5+RAIMj6kFlTzvJo0PukeHPrR5jY+m4x2PCf9OD5OpzPCoAY7PvvGq2IsMz0+m0Fska2iPz4cnh17gShBPnsifNxIh0I+s+yPhFfFQz71mQE3HLdEPpVtlLDePkU+qs3LhpRbRT6g9Pm6cjBFPjkgFKG+A0U+pxyvIe03RT4trn1dl0VGPgRc+QlbvUg+jBpSbptVTT5eyzh+8IBSPsWtW7AShVg+zVbdSZbEYD47Bsh+LUBnPmlrmmXIFnA+ilYf4CLzdT6LH5F5MkB9Pii++Jnj6oI+AebelNKmhz6suhrWeIKMPr32XEYwi5A+BsjDAg56kj7+1AY0e9yTPvXHDE7Gj5Q++Uei6dCFlD6i5Uz+oMaTPqZ3VxyCbZI+k+kFTuuikD61C2ZPJiqNPlUaq7oW4og+y4seGDW7hD5T+Mx/e/CAPieOeMV8UHs+Z+MMbSLqdT49ZcuOSbFxPilZcwEnH20+zOTtpI+7aD5FhSNWvdhlPuuQXfZVFWQ+Og+DWQ0YYz6XrQR8xpViPvF1y9oYVGI+63wcgTwpYj59bogZWvphPsurEfUBuWE+UPu4bFRgYT5LYSo8QPJgPjjaLj8YdWA+UacSvCDjXz5tMNC+9OFePgX/+7z/9l0+/6Gwi2osXT7LO+t5cYJcPsTUn2Hn7Fs+W2AndoVTWz5roGdQE5ZaPkIrRK8flFk+0w+aBVo2WD7lN9XjcnZWPhFvi6R2YlQ+yq+/9ggaUj4181DobYxPPl9dTjtvHUs+ivnEas8gRz4e/RZBTbBDPmNsnSChxkA+ig7ui1OTPD50zcUAXzE4PocNsXoAMjQ+FYuUpdd5MD6VnEOsgBAqPjLATMBR3CM+HaOzNXQEHT6oXz/J+kAUPmdq+eGX8wo+64d/0gcRAT7kc1MBpIz0PRlGCkEMguc9AV2XPO6J2T0DjZMzLVfKPQ==\",\"dtype\":\"float64\",\"order\":\"little\",\"shape\":[200]}},\"selected\":{\"id\":\"1598\"},\"selection_policy\":{\"id\":\"1619\"}},\"id\":\"1597\",\"type\":\"ColumnDataSource\"},{\"attributes\":{\"fill_alpha\":0.2,\"fill_color\":\"#30a2da\",\"hatch_alpha\":0.2,\"hatch_color\":\"#30a2da\",\"line_alpha\":0.2,\"x\":{\"field\":\"x\"},\"y\":{\"field\":\"y\"}},\"id\":\"1602\",\"type\":\"Patch\"},{\"attributes\":{\"children\":[{\"id\":\"1563\"},{\"id\":\"1567\"},{\"id\":\"1622\"}],\"margin\":[0,0,0,0],\"name\":\"Row01519\",\"tags\":[\"embedded\"]},\"id\":\"1562\",\"type\":\"Row\"},{\"attributes\":{\"coordinates\":null,\"group\":null,\"text_color\":\"black\",\"text_font_size\":\"12pt\"},\"id\":\"1568\",\"type\":\"Title\"},{\"attributes\":{},\"id\":\"1585\",\"type\":\"PanTool\"},{\"attributes\":{\"below\":[{\"id\":\"1576\"}],\"center\":[{\"id\":\"1579\"},{\"id\":\"1583\"}],\"height\":300,\"left\":[{\"id\":\"1580\"}],\"margin\":[5,5,5,5],\"min_border_bottom\":10,\"min_border_left\":10,\"min_border_right\":10,\"min_border_top\":10,\"renderers\":[{\"id\":\"1603\"}],\"sizing_mode\":\"fixed\",\"title\":{\"id\":\"1568\"},\"toolbar\":{\"id\":\"1590\"},\"width\":700,\"x_range\":{\"id\":\"1564\"},\"x_scale\":{\"id\":\"1572\"},\"y_range\":{\"id\":\"1565\"},\"y_scale\":{\"id\":\"1574\"}},\"id\":\"1567\",\"subtype\":\"Figure\",\"type\":\"Plot\"},{\"attributes\":{},\"id\":\"1574\",\"type\":\"LinearScale\"},{\"attributes\":{},\"id\":\"1586\",\"type\":\"WheelZoomTool\"},{\"attributes\":{},\"id\":\"1598\",\"type\":\"Selection\"},{\"attributes\":{},\"id\":\"1584\",\"type\":\"SaveTool\"},{\"attributes\":{},\"id\":\"1577\",\"type\":\"BasicTicker\"},{\"attributes\":{\"axis\":{\"id\":\"1580\"},\"coordinates\":null,\"dimension\":1,\"grid_line_color\":null,\"group\":null,\"ticker\":null},\"id\":\"1583\",\"type\":\"Grid\"},{\"attributes\":{\"overlay\":{\"id\":\"1589\"}},\"id\":\"1587\",\"type\":\"BoxZoomTool\"},{\"attributes\":{},\"id\":\"1588\",\"type\":\"ResetTool\"}],\"root_ids\":[\"1562\"]},\"title\":\"Bokeh Application\",\"version\":\"2.4.3\"}};\n",
       "    var render_items = [{\"docid\":\"ea2604d5-dbe0-4819-b427-5999c28ec2fb\",\"root_ids\":[\"1562\"],\"roots\":{\"1562\":\"95b2bcad-2478-4773-bef3-e314159d0fff\"}}];\n",
       "    root.Bokeh.embed.embed_items_notebook(docs_json, render_items);\n",
       "    for (const render_item of render_items) {\n",
       "      for (const root_id of render_item.root_ids) {\n",
       "\tconst id_el = document.getElementById(root_id)\n",
       "\tif (id_el.children.length && (id_el.children[0].className === 'bk-root')) {\n",
       "\t  const root_el = id_el.children[0]\n",
       "\t  root_el.id = root_el.id + '-rendered'\n",
       "\t}\n",
       "      }\n",
       "    }\n",
       "  }\n",
       "  if (root.Bokeh !== undefined && root.Bokeh.Panel !== undefined) {\n",
       "    embed_document(root);\n",
       "  } else {\n",
       "    var attempts = 0;\n",
       "    var timer = setInterval(function(root) {\n",
       "      if (root.Bokeh !== undefined && root.Bokeh.Panel !== undefined) {\n",
       "        clearInterval(timer);\n",
       "        embed_document(root);\n",
       "      } else if (document.readyState == \"complete\") {\n",
       "        attempts++;\n",
       "        if (attempts > 200) {\n",
       "          clearInterval(timer);\n",
       "          console.log(\"Bokeh: ERROR: Unable to run BokehJS code because BokehJS library is missing\");\n",
       "        }\n",
       "      }\n",
       "    }, 25, root)\n",
       "  }\n",
       "})(window);</script>"
      ],
      "text/plain": [
       ":Distribution   [Error Values]   (Density)"
      ]
     },
     "execution_count": 123,
     "metadata": {
      "application/vnd.holoviews_exec.v0+json": {
       "id": "1562"
      }
     },
     "output_type": "execute_result"
    }
   ],
   "source": [
    "# Residual Histogram\n",
    "pd.DataFrame({'Error Values': (y_test - y_pred)}).hvplot.kde()"
   ]
  },
  {
   "cell_type": "markdown",
   "id": "f8f9af25",
   "metadata": {},
   "source": [
    "## Comparing machine learning models"
   ]
  },
  {
   "cell_type": "markdown",
   "id": "97112636",
   "metadata": {},
   "source": [
    "### Application of Decision Tree regression"
   ]
  },
  {
   "cell_type": "code",
   "execution_count": 124,
   "id": "1fdba186",
   "metadata": {},
   "outputs": [],
   "source": [
    "from sklearn.tree import DecisionTreeRegressor\n",
    "from sklearn import metrics\n",
    "\n",
    "model = DecisionTreeRegressor(random_state = 0)\n",
    "model.fit(X_train, y_train)\n",
    "#Predicting using test set \n",
    "y_pred = model.predict(X_test)\n",
    "mae=metrics.mean_absolute_error(y_test, y_pred)\n",
    "mse=metrics.mean_squared_error(y_test, y_pred)\n",
    "test_pred = model.predict(X_test)\n",
    "train_pred = model.predict(X_train)"
   ]
  },
  {
   "cell_type": "code",
   "execution_count": 125,
   "id": "cf39c302",
   "metadata": {
    "scrolled": true
   },
   "outputs": [
    {
     "name": "stdout",
     "output_type": "stream",
     "text": [
      "Test set evaluation:\n",
      "_____________________________________\n",
      "MAE: 1222332.692331072\n",
      "MSE: 5955644911184.65\n",
      "RMSE: 2440419.003201018\n",
      "R2 Square -0.20108717715376656\n",
      "__________________________________\n"
     ]
    },
    {
     "name": "stderr",
     "output_type": "stream",
     "text": [
      "/var/folders/3f/0c48rx816935875jnxcqj5sr0000gn/T/ipykernel_80228/3864298976.py:6: FutureWarning: The frame.append method is deprecated and will be removed from pandas in a future version. Use pandas.concat instead.\n",
      "  results_df = results_df.append(results_df_2, ignore_index=True)\n"
     ]
    }
   ],
   "source": [
    "print('Test set evaluation:\\n_____________________________________')\n",
    "print_evaluate(y_test, test_pred)\n",
    "\n",
    "results_df_2 = pd.DataFrame(data=[[\"Decision Tree regression\", *evaluate(y_test, test_pred) , cross_val(DecisionTreeRegressor())]], \n",
    "                          columns=['Model', 'MAE', 'MSE', 'RMSE', 'R2 Square', \"Cross Validation\"])\n",
    "results_df = results_df.append(results_df_2, ignore_index=True)"
   ]
  },
  {
   "cell_type": "markdown",
   "id": "6b66d7ff",
   "metadata": {},
   "source": [
    "### Application of Random Forest Regression"
   ]
  },
  {
   "cell_type": "code",
   "execution_count": 126,
   "id": "dcb106a6",
   "metadata": {},
   "outputs": [],
   "source": [
    "from sklearn.ensemble import RandomForestRegressor\n",
    "\n",
    "model = RandomForestRegressor(n_estimators = 300 ,  random_state = 0)\n",
    "model.fit(X_train,y_train)\n",
    "#Predicting the SalePrices using test set \n",
    "y_pred = model.predict(X_test)\n",
    "test_pred = model.predict(X_test)\n",
    "train_pred = model.predict(X_train)"
   ]
  },
  {
   "cell_type": "code",
   "execution_count": 127,
   "id": "77f8fb6b",
   "metadata": {},
   "outputs": [
    {
     "name": "stdout",
     "output_type": "stream",
     "text": [
      "Test set evaluation:\n",
      "_____________________________________\n",
      "MAE: 1152559.6225378625\n",
      "MSE: 5716380692752.804\n",
      "RMSE: 2390895.3746981076\n",
      "R2 Square -0.15283426936698485\n",
      "__________________________________\n"
     ]
    },
    {
     "name": "stderr",
     "output_type": "stream",
     "text": [
      "/var/folders/3f/0c48rx816935875jnxcqj5sr0000gn/T/ipykernel_80228/3477842244.py:6: FutureWarning: The frame.append method is deprecated and will be removed from pandas in a future version. Use pandas.concat instead.\n",
      "  results_df = results_df.append(results_df_2, ignore_index=True)\n"
     ]
    }
   ],
   "source": [
    "print('Test set evaluation:\\n_____________________________________')\n",
    "print_evaluate(y_test, test_pred)\n",
    "\n",
    "results_df_2 = pd.DataFrame(data=[[\"Random Forest Regression\", *evaluate(y_test, test_pred) , cross_val(RandomForestRegressor())]], \n",
    "                          columns=['Model', 'MAE', 'MSE', 'RMSE', 'R2 Square', \"Cross Validation\"])\n",
    "results_df = results_df.append(results_df_2, ignore_index=True)"
   ]
  },
  {
   "cell_type": "markdown",
   "id": "fce6839c",
   "metadata": {},
   "source": [
    "### Application of Support Vector Regression"
   ]
  },
  {
   "cell_type": "code",
   "execution_count": 128,
   "id": "c8d085ed",
   "metadata": {},
   "outputs": [],
   "source": [
    "from sklearn.svm import SVR\n",
    "model= SVR(kernel='rbf')\n",
    "model.fit(X_train,y_train)\n",
    "y_pred_svm=model.predict(X_test)\n",
    "#y_pred_svm = cross_val_predict(regressor, x, y)\n",
    "test_pred = model.predict(X_test)\n",
    "train_pred = model.predict(X_train)"
   ]
  },
  {
   "cell_type": "code",
   "execution_count": 129,
   "id": "3e0d8a6b",
   "metadata": {},
   "outputs": [
    {
     "name": "stdout",
     "output_type": "stream",
     "text": [
      "Test set evaluation:\n",
      "_____________________________________\n",
      "MAE: 1089943.095911663\n",
      "MSE: 5502959708907.361\n",
      "RMSE: 2345838.807102347\n",
      "R2 Square -0.109793219933211\n",
      "__________________________________\n"
     ]
    },
    {
     "name": "stderr",
     "output_type": "stream",
     "text": [
      "/var/folders/3f/0c48rx816935875jnxcqj5sr0000gn/T/ipykernel_80228/865583917.py:6: FutureWarning: The frame.append method is deprecated and will be removed from pandas in a future version. Use pandas.concat instead.\n",
      "  results_df = results_df.append(results_df_2, ignore_index=True)\n"
     ]
    }
   ],
   "source": [
    "print('Test set evaluation:\\n_____________________________________')\n",
    "print_evaluate(y_test, test_pred)\n",
    "\n",
    "results_df_2 = pd.DataFrame(data=[[\"Support Vector Regression\", *evaluate(y_test, test_pred) , cross_val(SVR())]], \n",
    "                          columns=['Model', 'MAE', 'MSE', 'RMSE', 'R2 Square', \"Cross Validation\"])\n",
    "results_df = results_df.append(results_df_2, ignore_index=True)"
   ]
  },
  {
   "cell_type": "markdown",
   "id": "b1824465",
   "metadata": {},
   "source": [
    "### Random Sample Consensus(RANSAC) Regression"
   ]
  },
  {
   "cell_type": "markdown",
   "id": "5e92cfcd",
   "metadata": {},
   "source": [
    "Random sample consensus (RANSAC) is an iterative method to estimate parameters of a mathematical model from a set of observed data that contains outliers, when outliers are to be accorded no influence on the values of the estimates. Therefore, it also can be interpreted as an outlier detection method.\n",
    "\n",
    "A basic assumption is that the data consists of \"inliers\", i.e., data whose distribution can be explained by some set of model parameters, though may be subject to noise, and \"outliers\" which are data that do not fit the model. The outliers can come, for example, from extreme values of the noise or from erroneous measurements or incorrect hypotheses about the interpretation of data. RANSAC also assumes that, given a (usually small) set of inliers, there exists a procedure which can estimate the parameters of a model that optimally explains or fits this data."
   ]
  },
  {
   "cell_type": "code",
   "execution_count": 130,
   "id": "dfb45a08",
   "metadata": {},
   "outputs": [
    {
     "name": "stderr",
     "output_type": "stream",
     "text": [
      "/Users/vicky/.pyenv/versions/3.9.6/lib/python3.9/site-packages/sklearn/linear_model/_ransac.py:320: FutureWarning: `base_estimator` was renamed to `estimator` in version 1.1 and will be removed in 1.3.\n",
      "  warnings.warn(\n"
     ]
    }
   ],
   "source": [
    "from sklearn.linear_model import RANSACRegressor\n",
    "from sklearn.model_selection import cross_val_score\n",
    "from sklearn.model_selection import RepeatedKFold\n",
    "\n",
    "model = RANSACRegressor(base_estimator=LinearRegression(), max_trials=100)\n",
    "model.fit(X_train, y_train)\n",
    "\n",
    "test_pred = model.predict(X_test)\n",
    "#train_pred = model.predict(X_train)\n",
    "\n",
    "test_pred = model.predict(X_test)\n",
    "train_pred = model.predict(X_train)\n"
   ]
  },
  {
   "cell_type": "code",
   "execution_count": 131,
   "id": "76fcb339",
   "metadata": {},
   "outputs": [
    {
     "name": "stdout",
     "output_type": "stream",
     "text": [
      "Test set evaluation:\n",
      "_____________________________________\n",
      "MAE: 764685.014288082\n",
      "MSE: 3359961070069.1807\n",
      "RMSE: 1833019.6589423642\n",
      "R2 Square 0.3223897298817955\n",
      "__________________________________\n"
     ]
    },
    {
     "name": "stderr",
     "output_type": "stream",
     "text": [
      "/var/folders/3f/0c48rx816935875jnxcqj5sr0000gn/T/ipykernel_80228/4084467583.py:6: FutureWarning: The frame.append method is deprecated and will be removed from pandas in a future version. Use pandas.concat instead.\n",
      "  results_df = results_df.append(results_df_2, ignore_index=True)\n"
     ]
    }
   ],
   "source": [
    "print('Test set evaluation:\\n_____________________________________')\n",
    "print_evaluate(y_test, test_pred)\n",
    "\n",
    "results_df_2 = pd.DataFrame(data=[[\"Random Sample Consensus\", *evaluate(y_test, test_pred) , cross_val(RANSACRegressor())]], \n",
    "                          columns=['Model', 'MAE', 'MSE', 'RMSE', 'R2 Square', \"Cross Validation\"])\n",
    "results_df = results_df.append(results_df_2, ignore_index=True)"
   ]
  },
  {
   "cell_type": "markdown",
   "id": "b61a4171",
   "metadata": {},
   "source": [
    "### Stochastic Gradient Descent"
   ]
  },
  {
   "cell_type": "markdown",
   "id": "90b7cb3a",
   "metadata": {},
   "source": [
    "Gradient Descent is a very generic optimization algorithm capable of finding optimal solutions to a wide range of problems. The general idea of Gradient Sescent is to tweak parameters iteratively in order to minimize a cost function. Gradient Descent measures the local gradient of the error function with regards to the parameters vector, and it goes in the direction of descending gradient. Once the gradient is zero, you have reached a minimum."
   ]
  },
  {
   "cell_type": "code",
   "execution_count": 132,
   "id": "09130a54",
   "metadata": {},
   "outputs": [],
   "source": [
    "from sklearn.linear_model import SGDRegressor\n",
    "\n",
    "sgd_reg = SGDRegressor(n_iter_no_change=250, penalty=None, eta0=0.0001, max_iter=100000)\n",
    "sgd_reg.fit(X_train, y_train)\n",
    "\n",
    "test_pred = sgd_reg.predict(X_test)\n",
    "train_pred = sgd_reg.predict(X_train)"
   ]
  },
  {
   "cell_type": "code",
   "execution_count": 133,
   "id": "43a5fb61",
   "metadata": {
    "scrolled": true
   },
   "outputs": [
    {
     "name": "stdout",
     "output_type": "stream",
     "text": [
      "Test set evaluation:\n",
      "_____________________________________\n",
      "MAE: 764685.014288082\n",
      "MSE: 3359961070069.1807\n",
      "RMSE: 1833019.6589423642\n",
      "R2 Square 0.3223897298817955\n",
      "__________________________________\n"
     ]
    },
    {
     "name": "stderr",
     "output_type": "stream",
     "text": [
      "/var/folders/3f/0c48rx816935875jnxcqj5sr0000gn/T/ipykernel_80228/1340551889.py:9: FutureWarning: The frame.append method is deprecated and will be removed from pandas in a future version. Use pandas.concat instead.\n",
      "  results_df = results_df.append(results_df_2, ignore_index=True)\n"
     ]
    }
   ],
   "source": [
    "test_pred = model.predict(X_test)\n",
    "train_pred = model.predict(X_train)\n",
    "\n",
    "print('Test set evaluation:\\n_____________________________________')\n",
    "print_evaluate(y_test, test_pred)\n",
    "\n",
    "results_df_2 = pd.DataFrame(data=[[\"Stochastic Gradient Descent\", *evaluate(y_test, test_pred),cross_val(SGDRegressor())]], \n",
    "                          columns=['Model', 'MAE', 'MSE', 'RMSE', 'R2 Square', \"Cross Validation\"])\n",
    "results_df = results_df.append(results_df_2, ignore_index=True)"
   ]
  },
  {
   "cell_type": "markdown",
   "id": "86d06174",
   "metadata": {},
   "source": [
    "## Models Comparison"
   ]
  },
  {
   "cell_type": "markdown",
   "id": "66eaf892",
   "metadata": {},
   "source": [
    "### MAE"
   ]
  },
  {
   "cell_type": "code",
   "execution_count": 134,
   "id": "4f435ca4",
   "metadata": {},
   "outputs": [
    {
     "data": {
      "text/plain": [
       "<AxesSubplot: ylabel='Model'>"
      ]
     },
     "execution_count": 134,
     "metadata": {},
     "output_type": "execute_result"
    },
    {
     "data": {
      "image/png": "[encoded data removed]",
      "text/plain": [
       "<Figure size 1200x800 with 1 Axes>"
      ]
     },
     "metadata": {},
     "output_type": "display_data"
    }
   ],
   "source": [
    "results_df.set_index('Model', inplace=True)\n",
    "results_df['MAE'].plot(kind='barh', figsize=(12, 8))"
   ]
  },
  {
   "cell_type": "markdown",
   "id": "6c9e63c8",
   "metadata": {},
   "source": [
    "### MSE"
   ]
  },
  {
   "cell_type": "code",
   "execution_count": 135,
   "id": "b8825f9b",
   "metadata": {},
   "outputs": [
    {
     "data": {
      "text/plain": [
       "<AxesSubplot: ylabel='Model'>"
      ]
     },
     "execution_count": 135,
     "metadata": {},
     "output_type": "execute_result"
    },
    {
     "data": {
      "image/png": "[encoded data removed]",
      "text/plain": [
       "<Figure size 1200x800 with 1 Axes>"
      ]
     },
     "metadata": {},
     "output_type": "display_data"
    }
   ],
   "source": [
    "results_df['MSE'].plot(kind='barh', figsize=(12, 8))"
   ]
  },
  {
   "cell_type": "markdown",
   "id": "b8b8a0a1",
   "metadata": {},
   "source": [
    "### RMSE"
   ]
  },
  {
   "cell_type": "code",
   "execution_count": 136,
   "id": "de4b9a0b",
   "metadata": {},
   "outputs": [
    {
     "data": {
      "text/plain": [
       "<AxesSubplot: ylabel='Model'>"
      ]
     },
     "execution_count": 136,
     "metadata": {},
     "output_type": "execute_result"
    },
    {
     "data": {
      "image/png": "[encoded data removed]",
      "text/plain": [
       "<Figure size 1200x800 with 1 Axes>"
      ]
     },
     "metadata": {},
     "output_type": "display_data"
    }
   ],
   "source": [
    "results_df['RMSE'].plot(kind='barh', figsize=(12, 8))"
   ]
  },
  {
   "cell_type": "markdown",
   "id": "6ba12e7e",
   "metadata": {},
   "source": [
    "### R2 Square"
   ]
  },
  {
   "cell_type": "code",
   "execution_count": 137,
   "id": "ff605e07",
   "metadata": {},
   "outputs": [
    {
     "data": {
      "text/plain": [
       "<AxesSubplot: ylabel='Model'>"
      ]
     },
     "execution_count": 137,
     "metadata": {},
     "output_type": "execute_result"
    },
    {
     "data": {
      "image/png": "[encoded data removed]",
      "text/plain": [
       "<Figure size 1200x800 with 1 Axes>"
      ]
     },
     "metadata": {},
     "output_type": "display_data"
    }
   ],
   "source": [
    "results_df['R2 Square'].plot(kind='barh', figsize=(12, 8))"
   ]
  },
  {
   "cell_type": "code",
   "execution_count": null,
   "id": "ff1cde91",
   "metadata": {},
   "outputs": [],
   "source": []
  },
  {
   "cell_type": "code",
   "execution_count": null,
   "id": "dcacd8a0",
   "metadata": {},
   "outputs": [],
   "source": []
  },
  {
   "cell_type": "markdown",
   "id": "ee33d816",
   "metadata": {},
   "source": [
    "# 2. Per-capita EHR spending correlation with median income in 2019 "
   ]
  },
  {
   "cell_type": "code",
   "execution_count": 138,
   "id": "b4149df8",
   "metadata": {},
   "outputs": [
    {
     "data": {
      "text/html": [
       "<div>\n",
       "<style scoped>\n",
       "    .dataframe tbody tr th:only-of-type {\n",
       "        vertical-align: middle;\n",
       "    }\n",
       "\n",
       "    .dataframe tbody tr th {\n",
       "        vertical-align: top;\n",
       "    }\n",
       "\n",
       "    .dataframe thead th {\n",
       "        text-align: right;\n",
       "    }\n",
       "</style>\n",
       "<table border=\"1\" class=\"dataframe\">\n",
       "  <thead>\n",
       "    <tr style=\"text-align: right;\">\n",
       "      <th></th>\n",
       "      <th>County</th>\n",
       "      <th>Year</th>\n",
       "      <th>Unit of GDP</th>\n",
       "      <th>GDP</th>\n",
       "      <th>total_paym</th>\n",
       "      <th>Population</th>\n",
       "      <th>Median Income</th>\n",
       "      <th>EHR Per Capita</th>\n",
       "    </tr>\n",
       "  </thead>\n",
       "  <tbody>\n",
       "    <tr>\n",
       "      <th>0</th>\n",
       "      <td>Alameda</td>\n",
       "      <td>2013</td>\n",
       "      <td>Thousands of dollars</td>\n",
       "      <td>100521444.0</td>\n",
       "      <td>3315000.00</td>\n",
       "      <td>1563495.0</td>\n",
       "      <td>46217</td>\n",
       "      <td>2.120250</td>\n",
       "    </tr>\n",
       "    <tr>\n",
       "      <th>1</th>\n",
       "      <td>Amador</td>\n",
       "      <td>2013</td>\n",
       "      <td>Thousands of dollars</td>\n",
       "      <td>1440258.0</td>\n",
       "      <td>85000.00</td>\n",
       "      <td>36028.0</td>\n",
       "      <td>37846</td>\n",
       "      <td>2.359276</td>\n",
       "    </tr>\n",
       "    <tr>\n",
       "      <th>2</th>\n",
       "      <td>Butte</td>\n",
       "      <td>2013</td>\n",
       "      <td>Thousands of dollars</td>\n",
       "      <td>7602095.0</td>\n",
       "      <td>590750.00</td>\n",
       "      <td>221416.0</td>\n",
       "      <td>31630</td>\n",
       "      <td>2.668055</td>\n",
       "    </tr>\n",
       "    <tr>\n",
       "      <th>3</th>\n",
       "      <td>Calaveras</td>\n",
       "      <td>2013</td>\n",
       "      <td>Thousands of dollars</td>\n",
       "      <td>1148102.0</td>\n",
       "      <td>21250.00</td>\n",
       "      <td>44852.0</td>\n",
       "      <td>37833</td>\n",
       "      <td>0.473780</td>\n",
       "    </tr>\n",
       "    <tr>\n",
       "      <th>4</th>\n",
       "      <td>Colusa</td>\n",
       "      <td>2013</td>\n",
       "      <td>Thousands of dollars</td>\n",
       "      <td>1322530.0</td>\n",
       "      <td>21250.00</td>\n",
       "      <td>21665.0</td>\n",
       "      <td>31123</td>\n",
       "      <td>0.980845</td>\n",
       "    </tr>\n",
       "    <tr>\n",
       "      <th>5</th>\n",
       "      <td>Contra Costa</td>\n",
       "      <td>2013</td>\n",
       "      <td>Thousands of dollars</td>\n",
       "      <td>63040706.0</td>\n",
       "      <td>1501666.68</td>\n",
       "      <td>1081948.0</td>\n",
       "      <td>48219</td>\n",
       "      <td>1.387929</td>\n",
       "    </tr>\n",
       "    <tr>\n",
       "      <th>6</th>\n",
       "      <td>Del Norte</td>\n",
       "      <td>2013</td>\n",
       "      <td>Thousands of dollars</td>\n",
       "      <td>1148102.0</td>\n",
       "      <td>21250.00</td>\n",
       "      <td>28225.0</td>\n",
       "      <td>31242</td>\n",
       "      <td>0.752879</td>\n",
       "    </tr>\n",
       "    <tr>\n",
       "      <th>7</th>\n",
       "      <td>El Dorado</td>\n",
       "      <td>2013</td>\n",
       "      <td>Thousands of dollars</td>\n",
       "      <td>6197638.0</td>\n",
       "      <td>205417.00</td>\n",
       "      <td>182958.0</td>\n",
       "      <td>47590</td>\n",
       "      <td>1.122755</td>\n",
       "    </tr>\n",
       "    <tr>\n",
       "      <th>8</th>\n",
       "      <td>Fresno</td>\n",
       "      <td>2013</td>\n",
       "      <td>Thousands of dollars</td>\n",
       "      <td>35768408.0</td>\n",
       "      <td>1561166.67</td>\n",
       "      <td>956967.0</td>\n",
       "      <td>28791</td>\n",
       "      <td>1.631369</td>\n",
       "    </tr>\n",
       "    <tr>\n",
       "      <th>9</th>\n",
       "      <td>Glenn</td>\n",
       "      <td>2013</td>\n",
       "      <td>Thousands of dollars</td>\n",
       "      <td>1148102.0</td>\n",
       "      <td>178500.00</td>\n",
       "      <td>28628.0</td>\n",
       "      <td>30416</td>\n",
       "      <td>6.235154</td>\n",
       "    </tr>\n",
       "  </tbody>\n",
       "</table>\n",
       "</div>"
      ],
      "text/plain": [
       "         County  Year           Unit of GDP          GDP  total_paym  \\\n",
       "0       Alameda  2013  Thousands of dollars  100521444.0  3315000.00   \n",
       "1        Amador  2013  Thousands of dollars    1440258.0    85000.00   \n",
       "2         Butte  2013  Thousands of dollars    7602095.0   590750.00   \n",
       "3     Calaveras  2013  Thousands of dollars    1148102.0    21250.00   \n",
       "4        Colusa  2013  Thousands of dollars    1322530.0    21250.00   \n",
       "5  Contra Costa  2013  Thousands of dollars   63040706.0  1501666.68   \n",
       "6     Del Norte  2013  Thousands of dollars    1148102.0    21250.00   \n",
       "7     El Dorado  2013  Thousands of dollars    6197638.0   205417.00   \n",
       "8        Fresno  2013  Thousands of dollars   35768408.0  1561166.67   \n",
       "9         Glenn  2013  Thousands of dollars    1148102.0   178500.00   \n",
       "\n",
       "   Population  Median Income  EHR Per Capita  \n",
       "0   1563495.0          46217        2.120250  \n",
       "1     36028.0          37846        2.359276  \n",
       "2    221416.0          31630        2.668055  \n",
       "3     44852.0          37833        0.473780  \n",
       "4     21665.0          31123        0.980845  \n",
       "5   1081948.0          48219        1.387929  \n",
       "6     28225.0          31242        0.752879  \n",
       "7    182958.0          47590        1.122755  \n",
       "8    956967.0          28791        1.631369  \n",
       "9     28628.0          30416        6.235154  "
      ]
     },
     "execution_count": 138,
     "metadata": {},
     "output_type": "execute_result"
    }
   ],
   "source": [
    "# calculate the per capita payment from EHR \n",
    "df[\"EHR Per Capita\"] = (df[\"total_paym\"]/df[\"Population\"])\n",
    "df.head(10)"
   ]
  },
  {
   "cell_type": "code",
   "execution_count": 139,
   "id": "8fdb0664",
   "metadata": {},
   "outputs": [
    {
     "data": {
      "text/html": [
       "<div>\n",
       "<style scoped>\n",
       "    .dataframe tbody tr th:only-of-type {\n",
       "        vertical-align: middle;\n",
       "    }\n",
       "\n",
       "    .dataframe tbody tr th {\n",
       "        vertical-align: top;\n",
       "    }\n",
       "\n",
       "    .dataframe thead th {\n",
       "        text-align: right;\n",
       "    }\n",
       "</style>\n",
       "<table border=\"1\" class=\"dataframe\">\n",
       "  <thead>\n",
       "    <tr style=\"text-align: right;\">\n",
       "      <th></th>\n",
       "      <th>County</th>\n",
       "      <th>Year</th>\n",
       "      <th>Unit of GDP</th>\n",
       "      <th>GDP</th>\n",
       "      <th>total_paym</th>\n",
       "      <th>Population</th>\n",
       "      <th>Median Income</th>\n",
       "      <th>EHR Per Capita</th>\n",
       "    </tr>\n",
       "  </thead>\n",
       "  <tbody>\n",
       "    <tr>\n",
       "      <th>312</th>\n",
       "      <td>Alameda</td>\n",
       "      <td>2019</td>\n",
       "      <td>Thousands of dollars</td>\n",
       "      <td>130289317.0</td>\n",
       "      <td>6739083.67</td>\n",
       "      <td>1671855.0</td>\n",
       "      <td>60757</td>\n",
       "      <td>4.030902</td>\n",
       "    </tr>\n",
       "    <tr>\n",
       "      <th>313</th>\n",
       "      <td>Butte</td>\n",
       "      <td>2019</td>\n",
       "      <td>Thousands of dollars</td>\n",
       "      <td>9893227.0</td>\n",
       "      <td>901000.00</td>\n",
       "      <td>206362.0</td>\n",
       "      <td>35746</td>\n",
       "      <td>4.366114</td>\n",
       "    </tr>\n",
       "    <tr>\n",
       "      <th>314</th>\n",
       "      <td>Calaveras</td>\n",
       "      <td>2019</td>\n",
       "      <td>Thousands of dollars</td>\n",
       "      <td>1661687.0</td>\n",
       "      <td>38250.00</td>\n",
       "      <td>44286.0</td>\n",
       "      <td>43184</td>\n",
       "      <td>0.863704</td>\n",
       "    </tr>\n",
       "    <tr>\n",
       "      <th>315</th>\n",
       "      <td>Contra Costa</td>\n",
       "      <td>2019</td>\n",
       "      <td>Thousands of dollars</td>\n",
       "      <td>82594531.0</td>\n",
       "      <td>7229250.00</td>\n",
       "      <td>1149800.0</td>\n",
       "      <td>57409</td>\n",
       "      <td>6.287398</td>\n",
       "    </tr>\n",
       "    <tr>\n",
       "      <th>316</th>\n",
       "      <td>Del Norte</td>\n",
       "      <td>2019</td>\n",
       "      <td>Thousands of dollars</td>\n",
       "      <td>1148102.0</td>\n",
       "      <td>238000.00</td>\n",
       "      <td>27193.0</td>\n",
       "      <td>34746</td>\n",
       "      <td>8.752252</td>\n",
       "    </tr>\n",
       "  </tbody>\n",
       "</table>\n",
       "</div>"
      ],
      "text/plain": [
       "           County  Year           Unit of GDP          GDP  total_paym  \\\n",
       "312       Alameda  2019  Thousands of dollars  130289317.0  6739083.67   \n",
       "313         Butte  2019  Thousands of dollars    9893227.0   901000.00   \n",
       "314     Calaveras  2019  Thousands of dollars    1661687.0    38250.00   \n",
       "315  Contra Costa  2019  Thousands of dollars   82594531.0  7229250.00   \n",
       "316     Del Norte  2019  Thousands of dollars    1148102.0   238000.00   \n",
       "\n",
       "     Population  Median Income  EHR Per Capita  \n",
       "312   1671855.0          60757        4.030902  \n",
       "313    206362.0          35746        4.366114  \n",
       "314     44286.0          43184        0.863704  \n",
       "315   1149800.0          57409        6.287398  \n",
       "316     27193.0          34746        8.752252  "
      ]
     },
     "execution_count": 139,
     "metadata": {},
     "output_type": "execute_result"
    }
   ],
   "source": [
    "df_2 = df[df[\"Year\"]==\"2019\"]\n",
    "df_2.head()"
   ]
  },
  {
   "cell_type": "markdown",
   "id": "f2e89225",
   "metadata": {},
   "source": [
    "## Outlier Treatment: Log Transformation"
   ]
  },
  {
   "cell_type": "markdown",
   "id": "3e69d2aa",
   "metadata": {},
   "source": [
    "Transformation of the skewed variables may also help correct the distribution of the variables. These could be logarithmic, square root, or square transformations."
   ]
  },
  {
   "cell_type": "code",
   "execution_count": 140,
   "id": "559390b6",
   "metadata": {},
   "outputs": [
    {
     "name": "stderr",
     "output_type": "stream",
     "text": [
      "/var/folders/3f/0c48rx816935875jnxcqj5sr0000gn/T/ipykernel_80228/2494199717.py:3: SettingWithCopyWarning: \n",
      "A value is trying to be set on a copy of a slice from a DataFrame.\n",
      "Try using .loc[row_indexer,col_indexer] = value instead\n",
      "\n",
      "See the caveats in the documentation: https://pandas.pydata.org/pandas-docs/stable/user_guide/indexing.html#returning-a-view-versus-a-copy\n",
      "  df_2['Median Income'] = df_2['Median Income'].apply(lambda x: math.log(x)) # shrink the difference among data\n"
     ]
    },
    {
     "data": {
      "text/html": [
       "<div>\n",
       "<style scoped>\n",
       "    .dataframe tbody tr th:only-of-type {\n",
       "        vertical-align: middle;\n",
       "    }\n",
       "\n",
       "    .dataframe tbody tr th {\n",
       "        vertical-align: top;\n",
       "    }\n",
       "\n",
       "    .dataframe thead th {\n",
       "        text-align: right;\n",
       "    }\n",
       "</style>\n",
       "<table border=\"1\" class=\"dataframe\">\n",
       "  <thead>\n",
       "    <tr style=\"text-align: right;\">\n",
       "      <th></th>\n",
       "      <th>County</th>\n",
       "      <th>Year</th>\n",
       "      <th>Unit of GDP</th>\n",
       "      <th>GDP</th>\n",
       "      <th>total_paym</th>\n",
       "      <th>Population</th>\n",
       "      <th>Median Income</th>\n",
       "      <th>EHR Per Capita</th>\n",
       "    </tr>\n",
       "  </thead>\n",
       "  <tbody>\n",
       "    <tr>\n",
       "      <th>312</th>\n",
       "      <td>Alameda</td>\n",
       "      <td>2019</td>\n",
       "      <td>Thousands of dollars</td>\n",
       "      <td>130289317.0</td>\n",
       "      <td>6739083.67</td>\n",
       "      <td>1671855.0</td>\n",
       "      <td>11.014638</td>\n",
       "      <td>4.030902</td>\n",
       "    </tr>\n",
       "    <tr>\n",
       "      <th>313</th>\n",
       "      <td>Butte</td>\n",
       "      <td>2019</td>\n",
       "      <td>Thousands of dollars</td>\n",
       "      <td>9893227.0</td>\n",
       "      <td>901000.00</td>\n",
       "      <td>206362.0</td>\n",
       "      <td>10.484194</td>\n",
       "      <td>4.366114</td>\n",
       "    </tr>\n",
       "    <tr>\n",
       "      <th>314</th>\n",
       "      <td>Calaveras</td>\n",
       "      <td>2019</td>\n",
       "      <td>Thousands of dollars</td>\n",
       "      <td>1661687.0</td>\n",
       "      <td>38250.00</td>\n",
       "      <td>44286.0</td>\n",
       "      <td>10.673225</td>\n",
       "      <td>0.863704</td>\n",
       "    </tr>\n",
       "    <tr>\n",
       "      <th>315</th>\n",
       "      <td>Contra Costa</td>\n",
       "      <td>2019</td>\n",
       "      <td>Thousands of dollars</td>\n",
       "      <td>82594531.0</td>\n",
       "      <td>7229250.00</td>\n",
       "      <td>1149800.0</td>\n",
       "      <td>10.957956</td>\n",
       "      <td>6.287398</td>\n",
       "    </tr>\n",
       "    <tr>\n",
       "      <th>316</th>\n",
       "      <td>Del Norte</td>\n",
       "      <td>2019</td>\n",
       "      <td>Thousands of dollars</td>\n",
       "      <td>1148102.0</td>\n",
       "      <td>238000.00</td>\n",
       "      <td>27193.0</td>\n",
       "      <td>10.455820</td>\n",
       "      <td>8.752252</td>\n",
       "    </tr>\n",
       "  </tbody>\n",
       "</table>\n",
       "</div>"
      ],
      "text/plain": [
       "           County  Year           Unit of GDP          GDP  total_paym  \\\n",
       "312       Alameda  2019  Thousands of dollars  130289317.0  6739083.67   \n",
       "313         Butte  2019  Thousands of dollars    9893227.0   901000.00   \n",
       "314     Calaveras  2019  Thousands of dollars    1661687.0    38250.00   \n",
       "315  Contra Costa  2019  Thousands of dollars   82594531.0  7229250.00   \n",
       "316     Del Norte  2019  Thousands of dollars    1148102.0   238000.00   \n",
       "\n",
       "     Population  Median Income  EHR Per Capita  \n",
       "312   1671855.0      11.014638        4.030902  \n",
       "313    206362.0      10.484194        4.366114  \n",
       "314     44286.0      10.673225        0.863704  \n",
       "315   1149800.0      10.957956        6.287398  \n",
       "316     27193.0      10.455820        8.752252  "
      ]
     },
     "execution_count": 140,
     "metadata": {},
     "output_type": "execute_result"
    }
   ],
   "source": [
    "import math\n",
    "\n",
    "df_2['Median Income'] = df_2['Median Income'].apply(lambda x: math.log(x)) # shrink the difference among data\n",
    "df_2.head()"
   ]
  },
  {
   "cell_type": "code",
   "execution_count": 141,
   "id": "7c40a7ce",
   "metadata": {},
   "outputs": [
    {
     "name": "stdout",
     "output_type": "stream",
     "text": [
      "1.3697688589667447\n",
      "0.8310212375126736\n"
     ]
    }
   ],
   "source": [
    "print(df['Median Income'].skew())\n",
    "print(df_2['Median Income'].skew())"
   ]
  },
  {
   "cell_type": "markdown",
   "id": "77741a78",
   "metadata": {},
   "source": [
    "The above output shows that the skewness value came down from 1.38 to 0.83, confirming that the distribution has been treated for extreme values."
   ]
  },
  {
   "cell_type": "code",
   "execution_count": 142,
   "id": "88d33988",
   "metadata": {},
   "outputs": [
    {
     "data": {
      "text/plain": [
       "<AxesSubplot: xlabel='Median Income', ylabel='EHR Per Capita'>"
      ]
     },
     "execution_count": 142,
     "metadata": {},
     "output_type": "execute_result"
    },
    {
     "data": {
      "image/png": "[encoded data removed]",
      "text/plain": [
       "<Figure size 640x480 with 1 Axes>"
      ]
     },
     "metadata": {},
     "output_type": "display_data"
    }
   ],
   "source": [
    "sns.regplot(x='Median Income', y='EHR Per Capita', data=df_2, ci=None, scatter_kws={'s':100, 'facecolor':'red'})"
   ]
  },
  {
   "cell_type": "markdown",
   "id": "4ab74649",
   "metadata": {},
   "source": [
    "## Application of Linear Regression "
   ]
  },
  {
   "cell_type": "code",
   "execution_count": 143,
   "id": "c2b16826",
   "metadata": {},
   "outputs": [
    {
     "data": {
      "text/html": [
       "<style>#sk-container-id-4 {color: black;background-color: white;}#sk-container-id-4 pre{padding: 0;}#sk-container-id-4 div.sk-toggleable {background-color: white;}#sk-container-id-4 label.sk-toggleable__label {cursor: pointer;display: block;width: 100%;margin-bottom: 0;padding: 0.3em;box-sizing: border-box;text-align: center;}#sk-container-id-4 label.sk-toggleable__label-arrow:before {content: \"▸\";float: left;margin-right: 0.25em;color: #696969;}#sk-container-id-4 label.sk-toggleable__label-arrow:hover:before {color: black;}#sk-container-id-4 div.sk-estimator:hover label.sk-toggleable__label-arrow:before {color: black;}#sk-container-id-4 div.sk-toggleable__content {max-height: 0;max-width: 0;overflow: hidden;text-align: left;background-color: #f0f8ff;}#sk-container-id-4 div.sk-toggleable__content pre {margin: 0.2em;color: black;border-radius: 0.25em;background-color: #f0f8ff;}#sk-container-id-4 input.sk-toggleable__control:checked~div.sk-toggleable__content {max-height: 200px;max-width: 100%;overflow: auto;}#sk-container-id-4 input.sk-toggleable__control:checked~label.sk-toggleable__label-arrow:before {content: \"▾\";}#sk-container-id-4 div.sk-estimator input.sk-toggleable__control:checked~label.sk-toggleable__label {background-color: #d4ebff;}#sk-container-id-4 div.sk-label input.sk-toggleable__control:checked~label.sk-toggleable__label {background-color: #d4ebff;}#sk-container-id-4 input.sk-hidden--visually {border: 0;clip: rect(1px 1px 1px 1px);clip: rect(1px, 1px, 1px, 1px);height: 1px;margin: -1px;overflow: hidden;padding: 0;position: absolute;width: 1px;}#sk-container-id-4 div.sk-estimator {font-family: monospace;background-color: #f0f8ff;border: 1px dotted black;border-radius: 0.25em;box-sizing: border-box;margin-bottom: 0.5em;}#sk-container-id-4 div.sk-estimator:hover {background-color: #d4ebff;}#sk-container-id-4 div.sk-parallel-item::after {content: \"\";width: 100%;border-bottom: 1px solid gray;flex-grow: 1;}#sk-container-id-4 div.sk-label:hover label.sk-toggleable__label {background-color: #d4ebff;}#sk-container-id-4 div.sk-serial::before {content: \"\";position: absolute;border-left: 1px solid gray;box-sizing: border-box;top: 0;bottom: 0;left: 50%;z-index: 0;}#sk-container-id-4 div.sk-serial {display: flex;flex-direction: column;align-items: center;background-color: white;padding-right: 0.2em;padding-left: 0.2em;position: relative;}#sk-container-id-4 div.sk-item {position: relative;z-index: 1;}#sk-container-id-4 div.sk-parallel {display: flex;align-items: stretch;justify-content: center;background-color: white;position: relative;}#sk-container-id-4 div.sk-item::before, #sk-container-id-4 div.sk-parallel-item::before {content: \"\";position: absolute;border-left: 1px solid gray;box-sizing: border-box;top: 0;bottom: 0;left: 50%;z-index: -1;}#sk-container-id-4 div.sk-parallel-item {display: flex;flex-direction: column;z-index: 1;position: relative;background-color: white;}#sk-container-id-4 div.sk-parallel-item:first-child::after {align-self: flex-end;width: 50%;}#sk-container-id-4 div.sk-parallel-item:last-child::after {align-self: flex-start;width: 50%;}#sk-container-id-4 div.sk-parallel-item:only-child::after {width: 0;}#sk-container-id-4 div.sk-dashed-wrapped {border: 1px dashed gray;margin: 0 0.4em 0.5em 0.4em;box-sizing: border-box;padding-bottom: 0.4em;background-color: white;}#sk-container-id-4 div.sk-label label {font-family: monospace;font-weight: bold;display: inline-block;line-height: 1.2em;}#sk-container-id-4 div.sk-label-container {text-align: center;}#sk-container-id-4 div.sk-container {/* jupyter's `normalize.less` sets `[hidden] { display: none; }` but bootstrap.min.css set `[hidden] { display: none !important; }` so we also need the `!important` here to be able to override the default hidden behavior on the sphinx rendered scikit-learn.org. See: https://github.com/scikit-learn/scikit-learn/issues/21755 */display: inline-block !important;position: relative;}#sk-container-id-4 div.sk-text-repr-fallback {display: none;}</style><div id=\"sk-container-id-4\" class=\"sk-top-container\"><div class=\"sk-text-repr-fallback\"><pre>LinearRegression()</pre><b>In a Jupyter environment, please rerun this cell to show the HTML representation or trust the notebook. <br />On GitHub, the HTML representation is unable to render, please try loading this page with nbviewer.org.</b></div><div class=\"sk-container\" hidden><div class=\"sk-item\"><div class=\"sk-estimator sk-toggleable\"><input class=\"sk-toggleable__control sk-hidden--visually\" id=\"sk-estimator-id-4\" type=\"checkbox\" checked><label for=\"sk-estimator-id-4\" class=\"sk-toggleable__label sk-toggleable__label-arrow\">LinearRegression</label><div class=\"sk-toggleable__content\"><pre>LinearRegression()</pre></div></div></div></div></div>"
      ],
      "text/plain": [
       "LinearRegression()"
      ]
     },
     "execution_count": 143,
     "metadata": {},
     "output_type": "execute_result"
    }
   ],
   "source": [
    "# ================================================\n",
    "# Build the model\n",
    "# ================================================\n",
    "\n",
    "# Training data\n",
    "X = df_2.loc[:,[\"Median Income\"]]  # features matrix\n",
    "y = df_2.loc[:,'EHR Per Capita']  # target (response) matix\n",
    "\n",
    "from sklearn.model_selection import train_test_split\n",
    "import statsmodels.api as sm\n",
    "\n",
    "# Splitting the data into train and test\n",
    "X_train, X_test, y_train, y_test = train_test_split(X,y, train_size=0.7,test_size=0.3,random_state=100)\n",
    "\n",
    "# Train the model\n",
    "model = LinearRegression()\n",
    "model.fit(X_train, y_train)"
   ]
  },
  {
   "cell_type": "markdown",
   "id": "a32e51ae",
   "metadata": {},
   "source": [
    "### Predicting test set result"
   ]
  },
  {
   "cell_type": "code",
   "execution_count": 144,
   "id": "f2d03b3a",
   "metadata": {},
   "outputs": [
    {
     "data": {
      "text/html": [
       "<div>\n",
       "<style scoped>\n",
       "    .dataframe tbody tr th:only-of-type {\n",
       "        vertical-align: middle;\n",
       "    }\n",
       "\n",
       "    .dataframe tbody tr th {\n",
       "        vertical-align: top;\n",
       "    }\n",
       "\n",
       "    .dataframe thead th {\n",
       "        text-align: right;\n",
       "    }\n",
       "</style>\n",
       "<table border=\"1\" class=\"dataframe\">\n",
       "  <thead>\n",
       "    <tr style=\"text-align: right;\">\n",
       "      <th></th>\n",
       "      <th>Actual</th>\n",
       "      <th>Predicted</th>\n",
       "    </tr>\n",
       "  </thead>\n",
       "  <tbody>\n",
       "    <tr>\n",
       "      <th>318</th>\n",
       "      <td>4.124292</td>\n",
       "      <td>7.423519</td>\n",
       "    </tr>\n",
       "    <tr>\n",
       "      <th>332</th>\n",
       "      <td>7.585335</td>\n",
       "      <td>6.541004</td>\n",
       "    </tr>\n",
       "    <tr>\n",
       "      <th>345</th>\n",
       "      <td>0.871787</td>\n",
       "      <td>2.752209</td>\n",
       "    </tr>\n",
       "    <tr>\n",
       "      <th>340</th>\n",
       "      <td>2.065218</td>\n",
       "      <td>7.043845</td>\n",
       "    </tr>\n",
       "    <tr>\n",
       "      <th>354</th>\n",
       "      <td>1.008304</td>\n",
       "      <td>6.970076</td>\n",
       "    </tr>\n",
       "  </tbody>\n",
       "</table>\n",
       "</div>"
      ],
      "text/plain": [
       "       Actual  Predicted\n",
       "318  4.124292   7.423519\n",
       "332  7.585335   6.541004\n",
       "345  0.871787   2.752209\n",
       "340  2.065218   7.043845\n",
       "354  1.008304   6.970076"
      ]
     },
     "execution_count": 144,
     "metadata": {},
     "output_type": "execute_result"
    }
   ],
   "source": [
    "y_pred = model.predict(X_test)\n",
    "\n",
    "# Comparing the test values and the predicted values\n",
    "comparison_df = pd.DataFrame({\"Actual\":y_test,\"Predicted\":y_pred})\n",
    "comparison_df.head()"
   ]
  },
  {
   "cell_type": "markdown",
   "id": "99c72da5",
   "metadata": {},
   "source": [
    "### Checking the residuals"
   ]
  },
  {
   "cell_type": "code",
   "execution_count": 145,
   "id": "2979caca",
   "metadata": {},
   "outputs": [
    {
     "data": {
      "text/plain": [
       "318   -3.299227\n",
       "332    1.044331\n",
       "345   -1.880422\n",
       "340   -4.978627\n",
       "354   -5.961772\n",
       "Name: EHR Per Capita, dtype: float64"
      ]
     },
     "execution_count": 145,
     "metadata": {},
     "output_type": "execute_result"
    }
   ],
   "source": [
    "residuals = y_test - y_pred\n",
    "residuals.head()"
   ]
  },
  {
   "cell_type": "code",
   "execution_count": 146,
   "id": "ba05556e",
   "metadata": {},
   "outputs": [
    {
     "data": {},
     "metadata": {},
     "output_type": "display_data"
    },
    {
     "data": {
      "application/vnd.holoviews_exec.v0+json": "",
      "text/html": [
       "<div id='1674'>\n",
       "  <div class=\"bk-root\" id=\"5b08368f-7345-40de-87e2-10f253495262\" data-root-id=\"1674\"></div>\n",
       "</div>\n",
       "<script type=\"application/javascript\">(function(root) {\n",
       "  function embed_document(root) {\n",
       "    var docs_json = {\"10135e3d-c92e-4223-ac79-f58a066452ca\":{\"defs\":[{\"extends\":null,\"module\":null,\"name\":\"ReactiveHTML1\",\"overrides\":[],\"properties\":[]},{\"extends\":null,\"module\":null,\"name\":\"FlexBox1\",\"overrides\":[],\"properties\":[{\"default\":\"flex-start\",\"kind\":null,\"name\":\"align_content\"},{\"default\":\"flex-start\",\"kind\":null,\"name\":\"align_items\"},{\"default\":\"row\",\"kind\":null,\"name\":\"flex_direction\"},{\"default\":\"wrap\",\"kind\":null,\"name\":\"flex_wrap\"},{\"default\":\"flex-start\",\"kind\":null,\"name\":\"justify_content\"}]},{\"extends\":null,\"module\":null,\"name\":\"GridStack1\",\"overrides\":[],\"properties\":[{\"default\":\"warn\",\"kind\":null,\"name\":\"mode\"},{\"default\":null,\"kind\":null,\"name\":\"ncols\"},{\"default\":null,\"kind\":null,\"name\":\"nrows\"},{\"default\":true,\"kind\":null,\"name\":\"allow_resize\"},{\"default\":true,\"kind\":null,\"name\":\"allow_drag\"},{\"default\":[],\"kind\":null,\"name\":\"state\"}]},{\"extends\":null,\"module\":null,\"name\":\"click1\",\"overrides\":[],\"properties\":[{\"default\":\"\",\"kind\":null,\"name\":\"terminal_output\"},{\"default\":\"\",\"kind\":null,\"name\":\"debug_name\"},{\"default\":0,\"kind\":null,\"name\":\"clears\"}]},{\"extends\":null,\"module\":null,\"name\":\"NotificationAreaBase1\",\"overrides\":[],\"properties\":[{\"default\":\"bottom-right\",\"kind\":null,\"name\":\"position\"},{\"default\":0,\"kind\":null,\"name\":\"_clear\"}]},{\"extends\":null,\"module\":null,\"name\":\"NotificationArea1\",\"overrides\":[],\"properties\":[{\"default\":[],\"kind\":null,\"name\":\"notifications\"},{\"default\":\"bottom-right\",\"kind\":null,\"name\":\"position\"},{\"default\":0,\"kind\":null,\"name\":\"_clear\"},{\"default\":[{\"background\":\"#ffc107\",\"icon\":{\"className\":\"fas fa-exclamation-triangle\",\"color\":\"white\",\"tagName\":\"i\"},\"type\":\"warning\"},{\"background\":\"#007bff\",\"icon\":{\"className\":\"fas fa-info-circle\",\"color\":\"white\",\"tagName\":\"i\"},\"type\":\"info\"}],\"kind\":null,\"name\":\"types\"}]},{\"extends\":null,\"module\":null,\"name\":\"Notification\",\"overrides\":[],\"properties\":[{\"default\":null,\"kind\":null,\"name\":\"background\"},{\"default\":3000,\"kind\":null,\"name\":\"duration\"},{\"default\":null,\"kind\":null,\"name\":\"icon\"},{\"default\":\"\",\"kind\":null,\"name\":\"message\"},{\"default\":null,\"kind\":null,\"name\":\"notification_type\"},{\"default\":false,\"kind\":null,\"name\":\"_destroyed\"}]},{\"extends\":null,\"module\":null,\"name\":\"TemplateActions1\",\"overrides\":[],\"properties\":[{\"default\":0,\"kind\":null,\"name\":\"open_modal\"},{\"default\":0,\"kind\":null,\"name\":\"close_modal\"}]},{\"extends\":null,\"module\":null,\"name\":\"MaterialTemplateActions1\",\"overrides\":[],\"properties\":[{\"default\":0,\"kind\":null,\"name\":\"open_modal\"},{\"default\":0,\"kind\":null,\"name\":\"close_modal\"}]}],\"roots\":{\"references\":[{\"attributes\":{},\"id\":\"1723\",\"type\":\"AllLabels\"},{\"attributes\":{\"axis_label\":\"Predicted Values\",\"coordinates\":null,\"formatter\":{\"id\":\"1722\"},\"group\":null,\"major_label_policy\":{\"id\":\"1723\"},\"ticker\":{\"id\":\"1693\"}},\"id\":\"1692\",\"type\":\"LinearAxis\"},{\"attributes\":{\"angle\":{\"value\":0.0},\"fill_alpha\":{\"value\":1.0},\"fill_color\":{\"value\":\"#30a2da\"},\"hatch_alpha\":{\"value\":1.0},\"hatch_color\":{\"value\":\"#30a2da\"},\"hatch_scale\":{\"value\":12.0},\"hatch_weight\":{\"value\":1.0},\"line_alpha\":{\"value\":1.0},\"line_cap\":{\"value\":\"butt\"},\"line_color\":{\"value\":\"#30a2da\"},\"line_dash\":{\"value\":[]},\"line_dash_offset\":{\"value\":0},\"line_join\":{\"value\":\"bevel\"},\"line_width\":{\"value\":1},\"marker\":{\"value\":\"circle\"},\"size\":{\"value\":5.477225575051661},\"x\":{\"field\":\"True Values(y test)\"},\"y\":{\"field\":\"Predicted Values\"}},\"id\":\"1717\",\"type\":\"Scatter\"},{\"attributes\":{\"axis\":{\"id\":\"1692\"},\"coordinates\":null,\"dimension\":1,\"grid_line_color\":null,\"group\":null,\"ticker\":null},\"id\":\"1695\",\"type\":\"Grid\"},{\"attributes\":{},\"id\":\"1693\",\"type\":\"BasicTicker\"},{\"attributes\":{\"fill_color\":{\"value\":\"#30a2da\"},\"hatch_color\":{\"value\":\"#30a2da\"},\"line_color\":{\"value\":\"#30a2da\"},\"size\":{\"value\":5.477225575051661},\"x\":{\"field\":\"True Values(y test)\"},\"y\":{\"field\":\"Predicted Values\"}},\"id\":\"1712\",\"type\":\"Scatter\"},{\"attributes\":{},\"id\":\"1698\",\"type\":\"WheelZoomTool\"},{\"attributes\":{\"fill_alpha\":{\"value\":0.2},\"fill_color\":{\"value\":\"#30a2da\"},\"hatch_alpha\":{\"value\":0.2},\"hatch_color\":{\"value\":\"#30a2da\"},\"line_alpha\":{\"value\":0.2},\"line_color\":{\"value\":\"#30a2da\"},\"size\":{\"value\":5.477225575051661},\"x\":{\"field\":\"True Values(y test)\"},\"y\":{\"field\":\"Predicted Values\"}},\"id\":\"1714\",\"type\":\"Scatter\"},{\"attributes\":{\"end\":7.941939388366189,\"reset_end\":7.941939388366189,\"reset_start\":2.223006612305005,\"start\":2.223006612305005,\"tags\":[[[\"Predicted Values\",\"Predicted Values\",null]]]},\"id\":\"1677\",\"type\":\"Range1d\"},{\"attributes\":{},\"id\":\"1696\",\"type\":\"SaveTool\"},{\"attributes\":{\"fill_alpha\":{\"value\":0.1},\"fill_color\":{\"value\":\"#30a2da\"},\"hatch_alpha\":{\"value\":0.1},\"hatch_color\":{\"value\":\"#30a2da\"},\"line_alpha\":{\"value\":0.1},\"line_color\":{\"value\":\"#30a2da\"},\"size\":{\"value\":5.477225575051661},\"x\":{\"field\":\"True Values(y test)\"},\"y\":{\"field\":\"Predicted Values\"}},\"id\":\"1713\",\"type\":\"Scatter\"},{\"attributes\":{\"coordinates\":null,\"data_source\":{\"id\":\"1709\"},\"glyph\":{\"id\":\"1712\"},\"group\":null,\"hover_glyph\":null,\"muted_glyph\":{\"id\":\"1714\"},\"nonselection_glyph\":{\"id\":\"1713\"},\"selection_glyph\":{\"id\":\"1717\"},\"view\":{\"id\":\"1716\"}},\"id\":\"1715\",\"type\":\"GlyphRenderer\"},{\"attributes\":{\"overlay\":{\"id\":\"1701\"}},\"id\":\"1699\",\"type\":\"BoxZoomTool\"},{\"attributes\":{\"source\":{\"id\":\"1709\"}},\"id\":\"1716\",\"type\":\"CDSView\"},{\"attributes\":{},\"id\":\"1700\",\"type\":\"ResetTool\"},{\"attributes\":{\"children\":[{\"id\":\"1675\"},{\"id\":\"1679\"},{\"id\":\"1734\"}],\"margin\":[0,0,0,0],\"name\":\"Row01661\",\"tags\":[\"embedded\"]},\"id\":\"1674\",\"type\":\"Row\"},{\"attributes\":{\"bottom_units\":\"screen\",\"coordinates\":null,\"fill_alpha\":0.5,\"fill_color\":\"lightgrey\",\"group\":null,\"left_units\":\"screen\",\"level\":\"overlay\",\"line_alpha\":1.0,\"line_color\":\"black\",\"line_dash\":[4,4],\"line_width\":2,\"right_units\":\"screen\",\"syncable\":false,\"top_units\":\"screen\"},\"id\":\"1701\",\"type\":\"BoxAnnotation\"},{\"attributes\":{\"data\":{\"Predicted Values\":{\"__ndarray__\":\"kMWx3a6xHUCQlt3a/CkaQIAV5u2FBAZAsPs7seUsHEBwxOijW+EbQPAsXqS1ZhtAcCOsBXSIEkDAnNV9pbAUQAC63WV8GBtAUDHvsAlHGUCgpnDoSEYNQKBTT/bIaBxAMIiWCMJQG0CA/CbEh9wdQADwJa2/mAVA\",\"dtype\":\"float64\",\"order\":\"little\",\"shape\":[15]},\"Predicted_Values\":{\"__ndarray__\":\"kMWx3a6xHUCQlt3a/CkaQIAV5u2FBAZAsPs7seUsHEBwxOijW+EbQPAsXqS1ZhtAcCOsBXSIEkDAnNV9pbAUQAC63WV8GBtAUDHvsAlHGUCgpnDoSEYNQKBTT/bIaBxAMIiWCMJQG0CA/CbEh9wdQADwJa2/mAVA\",\"dtype\":\"float64\",\"order\":\"little\",\"shape\":[15]},\"True Values(y test)\":{\"__ndarray__\":\"iqQiYUZ/EECzmi4QYlceQInAJdmt5es/y4Lq1ZCFAEDA+2kJAyLwPzYreqExy+k/ybVzldh0/j/Y5Aiqo4sjQNYFD7VJXgFABDFkwy0lA0AsTGPGpB8QQEL6fVr0fyNAEMU0raiGFUBCdlEaLXYLQOuR6Jc95BpA\",\"dtype\":\"float64\",\"order\":\"little\",\"shape\":[15]},\"True_Values_left_parenthesis_y_test_right_parenthesis\":{\"__ndarray__\":\"iqQiYUZ/EECzmi4QYlceQInAJdmt5es/y4Lq1ZCFAEDA+2kJAyLwPzYreqExy+k/ybVzldh0/j/Y5Aiqo4sjQNYFD7VJXgFABDFkwy0lA0AsTGPGpB8QQEL6fVr0fyNAEMU0raiGFUBCdlEaLXYLQOuR6Jc95BpA\",\"dtype\":\"float64\",\"order\":\"little\",\"shape\":[15]}},\"selected\":{\"id\":\"1710\"},\"selection_policy\":{\"id\":\"1731\"}},\"id\":\"1709\",\"type\":\"ColumnDataSource\"},{\"attributes\":{},\"id\":\"1720\",\"type\":\"AllLabels\"},{\"attributes\":{},\"id\":\"1686\",\"type\":\"LinearScale\"},{\"attributes\":{\"end\":10.157019280646178,\"reset_end\":10.157019280646178,\"reset_start\":0.42176769232562566,\"start\":0.42176769232562566,\"tags\":[[[\"True Values(y test)\",\"True Values(y test)\",null]]]},\"id\":\"1676\",\"type\":\"Range1d\"},{\"attributes\":{\"tools\":[{\"id\":\"1678\"},{\"id\":\"1696\"},{\"id\":\"1697\"},{\"id\":\"1698\"},{\"id\":\"1699\"},{\"id\":\"1700\"}]},\"id\":\"1702\",\"type\":\"Toolbar\"},{\"attributes\":{},\"id\":\"1684\",\"type\":\"LinearScale\"},{\"attributes\":{\"margin\":[5,5,5,5],\"name\":\"HSpacer01665\",\"sizing_mode\":\"stretch_width\"},\"id\":\"1675\",\"type\":\"Spacer\"},{\"attributes\":{},\"id\":\"1719\",\"type\":\"BasicTickFormatter\"},{\"attributes\":{},\"id\":\"1731\",\"type\":\"UnionRenderers\"},{\"attributes\":{\"callback\":null,\"renderers\":[{\"id\":\"1715\"}],\"tags\":[\"hv_created\"],\"tooltips\":[[\"True Values(y test)\",\"@{True_Values_left_parenthesis_y_test_right_parenthesis}\"],[\"Predicted Values\",\"@{Predicted_Values}\"]]},\"id\":\"1678\",\"type\":\"HoverTool\"},{\"attributes\":{},\"id\":\"1722\",\"type\":\"BasicTickFormatter\"},{\"attributes\":{\"margin\":[5,5,5,5],\"name\":\"HSpacer01666\",\"sizing_mode\":\"stretch_width\"},\"id\":\"1734\",\"type\":\"Spacer\"},{\"attributes\":{\"coordinates\":null,\"group\":null,\"text_color\":\"black\",\"text_font_size\":\"12pt\"},\"id\":\"1680\",\"type\":\"Title\"},{\"attributes\":{\"below\":[{\"id\":\"1688\"}],\"center\":[{\"id\":\"1691\"},{\"id\":\"1695\"}],\"height\":300,\"left\":[{\"id\":\"1692\"}],\"margin\":[5,5,5,5],\"min_border_bottom\":10,\"min_border_left\":10,\"min_border_right\":10,\"min_border_top\":10,\"renderers\":[{\"id\":\"1715\"}],\"sizing_mode\":\"fixed\",\"title\":{\"id\":\"1680\"},\"toolbar\":{\"id\":\"1702\"},\"width\":700,\"x_range\":{\"id\":\"1676\"},\"x_scale\":{\"id\":\"1684\"},\"y_range\":{\"id\":\"1677\"},\"y_scale\":{\"id\":\"1686\"}},\"id\":\"1679\",\"subtype\":\"Figure\",\"type\":\"Plot\"},{\"attributes\":{\"axis_label\":\"True Values(y test)\",\"coordinates\":null,\"formatter\":{\"id\":\"1719\"},\"group\":null,\"major_label_policy\":{\"id\":\"1720\"},\"ticker\":{\"id\":\"1689\"}},\"id\":\"1688\",\"type\":\"LinearAxis\"},{\"attributes\":{},\"id\":\"1689\",\"type\":\"BasicTicker\"},{\"attributes\":{\"axis\":{\"id\":\"1688\"},\"coordinates\":null,\"grid_line_color\":null,\"group\":null,\"ticker\":null},\"id\":\"1691\",\"type\":\"Grid\"},{\"attributes\":{},\"id\":\"1710\",\"type\":\"Selection\"},{\"attributes\":{},\"id\":\"1697\",\"type\":\"PanTool\"}],\"root_ids\":[\"1674\"]},\"title\":\"Bokeh Application\",\"version\":\"2.4.3\"}};\n",
       "    var render_items = [{\"docid\":\"10135e3d-c92e-4223-ac79-f58a066452ca\",\"root_ids\":[\"1674\"],\"roots\":{\"1674\":\"5b08368f-7345-40de-87e2-10f253495262\"}}];\n",
       "    root.Bokeh.embed.embed_items_notebook(docs_json, render_items);\n",
       "    for (const render_item of render_items) {\n",
       "      for (const root_id of render_item.root_ids) {\n",
       "\tconst id_el = document.getElementById(root_id)\n",
       "\tif (id_el.children.length && (id_el.children[0].className === 'bk-root')) {\n",
       "\t  const root_el = id_el.children[0]\n",
       "\t  root_el.id = root_el.id + '-rendered'\n",
       "\t}\n",
       "      }\n",
       "    }\n",
       "  }\n",
       "  if (root.Bokeh !== undefined && root.Bokeh.Panel !== undefined) {\n",
       "    embed_document(root);\n",
       "  } else {\n",
       "    var attempts = 0;\n",
       "    var timer = setInterval(function(root) {\n",
       "      if (root.Bokeh !== undefined && root.Bokeh.Panel !== undefined) {\n",
       "        clearInterval(timer);\n",
       "        embed_document(root);\n",
       "      } else if (document.readyState == \"complete\") {\n",
       "        attempts++;\n",
       "        if (attempts > 200) {\n",
       "          clearInterval(timer);\n",
       "          console.log(\"Bokeh: ERROR: Unable to run BokehJS code because BokehJS library is missing\");\n",
       "        }\n",
       "      }\n",
       "    }, 25, root)\n",
       "  }\n",
       "})(window);</script>"
      ],
      "text/plain": [
       ":Scatter   [True Values(y test)]   (Predicted Values)"
      ]
     },
     "execution_count": 146,
     "metadata": {
      "application/vnd.holoviews_exec.v0+json": {
       "id": "1674"
      }
     },
     "output_type": "execute_result"
    }
   ],
   "source": [
    "pd.DataFrame({'True Values(y test)': y_test, 'Predicted Values': y_pred}).hvplot.scatter(x='True Values(y test)', y='Predicted Values')"
   ]
  },
  {
   "cell_type": "markdown",
   "id": "bb46bd97",
   "metadata": {},
   "source": [
    "### Model Evaluation"
   ]
  },
  {
   "cell_type": "code",
   "execution_count": 147,
   "id": "35f32e93",
   "metadata": {},
   "outputs": [
    {
     "data": {
      "text/html": [
       "<div>\n",
       "<style scoped>\n",
       "    .dataframe tbody tr th:only-of-type {\n",
       "        vertical-align: middle;\n",
       "    }\n",
       "\n",
       "    .dataframe tbody tr th {\n",
       "        vertical-align: top;\n",
       "    }\n",
       "\n",
       "    .dataframe thead th {\n",
       "        text-align: right;\n",
       "    }\n",
       "</style>\n",
       "<table border=\"1\" class=\"dataframe\">\n",
       "  <thead>\n",
       "    <tr style=\"text-align: right;\">\n",
       "      <th></th>\n",
       "      <th>Coefficient</th>\n",
       "    </tr>\n",
       "  </thead>\n",
       "  <tbody>\n",
       "    <tr>\n",
       "      <th>Median Income</th>\n",
       "      <td>-6.177453</td>\n",
       "    </tr>\n",
       "  </tbody>\n",
       "</table>\n",
       "</div>"
      ],
      "text/plain": [
       "               Coefficient\n",
       "Median Income    -6.177453"
      ]
     },
     "execution_count": 147,
     "metadata": {},
     "output_type": "execute_result"
    }
   ],
   "source": [
    "# coefficient\n",
    "coeff_df = pd.DataFrame(model.coef_, X.columns, columns=['Coefficient'])\n",
    "coeff_df"
   ]
  },
  {
   "cell_type": "markdown",
   "id": "b79604a9",
   "metadata": {},
   "source": [
    "Interpreting the coefficients:\n",
    "\n",
    "Holding all other features fixed, a 1 unit increase in log of Median Income is associated with a decrease of $6.177453 in total payment per capita."
   ]
  },
  {
   "cell_type": "code",
   "execution_count": 148,
   "id": "8263ad33",
   "metadata": {},
   "outputs": [
    {
     "name": "stdout",
     "output_type": "stream",
     "text": [
      "Test set evaluation:\n",
      "_____________________________________\n",
      "MAE: 3.4393445286833435\n",
      "MSE: 14.618733553741967\n",
      "RMSE: 3.8234452465991935\n",
      "R2 Square -0.6658575449606308\n",
      "__________________________________\n"
     ]
    }
   ],
   "source": [
    "test_pred = model.predict(X_test)\n",
    "train_pred = model.predict(X_train)\n",
    "\n",
    "print('Test set evaluation:\\n_____________________________________')\n",
    "print_evaluate(y_test, test_pred)\n",
    "\n",
    "results_df = pd.DataFrame(data=[[\"Linear Regression\", *evaluate(y_test, test_pred) , cross_val(LinearRegression())]], \n",
    "                          columns=['Model', 'MAE', 'MSE', 'RMSE', 'R2 Square', \"Cross Validation\"])"
   ]
  },
  {
   "cell_type": "markdown",
   "id": "7ba9ea41",
   "metadata": {},
   "source": [
    "## Check the distribution of the error terms"
   ]
  },
  {
   "cell_type": "code",
   "execution_count": 149,
   "id": "42a03860",
   "metadata": {},
   "outputs": [
    {
     "data": {},
     "metadata": {},
     "output_type": "display_data"
    },
    {
     "data": {
      "application/vnd.holoviews_exec.v0+json": "",
      "text/html": [
       "<div id='1786'>\n",
       "  <div class=\"bk-root\" id=\"b31179e1-18cc-4a69-9430-733528d05f8b\" data-root-id=\"1786\"></div>\n",
       "</div>\n",
       "<script type=\"application/javascript\">(function(root) {\n",
       "  function embed_document(root) {\n",
       "    var docs_json = {\"beefd7fd-c58a-4c6f-9302-50b5347d2e9e\":{\"defs\":[{\"extends\":null,\"module\":null,\"name\":\"ReactiveHTML1\",\"overrides\":[],\"properties\":[]},{\"extends\":null,\"module\":null,\"name\":\"FlexBox1\",\"overrides\":[],\"properties\":[{\"default\":\"flex-start\",\"kind\":null,\"name\":\"align_content\"},{\"default\":\"flex-start\",\"kind\":null,\"name\":\"align_items\"},{\"default\":\"row\",\"kind\":null,\"name\":\"flex_direction\"},{\"default\":\"wrap\",\"kind\":null,\"name\":\"flex_wrap\"},{\"default\":\"flex-start\",\"kind\":null,\"name\":\"justify_content\"}]},{\"extends\":null,\"module\":null,\"name\":\"GridStack1\",\"overrides\":[],\"properties\":[{\"default\":\"warn\",\"kind\":null,\"name\":\"mode\"},{\"default\":null,\"kind\":null,\"name\":\"ncols\"},{\"default\":null,\"kind\":null,\"name\":\"nrows\"},{\"default\":true,\"kind\":null,\"name\":\"allow_resize\"},{\"default\":true,\"kind\":null,\"name\":\"allow_drag\"},{\"default\":[],\"kind\":null,\"name\":\"state\"}]},{\"extends\":null,\"module\":null,\"name\":\"click1\",\"overrides\":[],\"properties\":[{\"default\":\"\",\"kind\":null,\"name\":\"terminal_output\"},{\"default\":\"\",\"kind\":null,\"name\":\"debug_name\"},{\"default\":0,\"kind\":null,\"name\":\"clears\"}]},{\"extends\":null,\"module\":null,\"name\":\"NotificationAreaBase1\",\"overrides\":[],\"properties\":[{\"default\":\"bottom-right\",\"kind\":null,\"name\":\"position\"},{\"default\":0,\"kind\":null,\"name\":\"_clear\"}]},{\"extends\":null,\"module\":null,\"name\":\"NotificationArea1\",\"overrides\":[],\"properties\":[{\"default\":[],\"kind\":null,\"name\":\"notifications\"},{\"default\":\"bottom-right\",\"kind\":null,\"name\":\"position\"},{\"default\":0,\"kind\":null,\"name\":\"_clear\"},{\"default\":[{\"background\":\"#ffc107\",\"icon\":{\"className\":\"fas fa-exclamation-triangle\",\"color\":\"white\",\"tagName\":\"i\"},\"type\":\"warning\"},{\"background\":\"#007bff\",\"icon\":{\"className\":\"fas fa-info-circle\",\"color\":\"white\",\"tagName\":\"i\"},\"type\":\"info\"}],\"kind\":null,\"name\":\"types\"}]},{\"extends\":null,\"module\":null,\"name\":\"Notification\",\"overrides\":[],\"properties\":[{\"default\":null,\"kind\":null,\"name\":\"background\"},{\"default\":3000,\"kind\":null,\"name\":\"duration\"},{\"default\":null,\"kind\":null,\"name\":\"icon\"},{\"default\":\"\",\"kind\":null,\"name\":\"message\"},{\"default\":null,\"kind\":null,\"name\":\"notification_type\"},{\"default\":false,\"kind\":null,\"name\":\"_destroyed\"}]},{\"extends\":null,\"module\":null,\"name\":\"TemplateActions1\",\"overrides\":[],\"properties\":[{\"default\":0,\"kind\":null,\"name\":\"open_modal\"},{\"default\":0,\"kind\":null,\"name\":\"close_modal\"}]},{\"extends\":null,\"module\":null,\"name\":\"MaterialTemplateActions1\",\"overrides\":[],\"properties\":[{\"default\":0,\"kind\":null,\"name\":\"open_modal\"},{\"default\":0,\"kind\":null,\"name\":\"close_modal\"}]}],\"roots\":{\"references\":[{\"attributes\":{\"fill_alpha\":0.2,\"fill_color\":\"#30a2da\",\"hatch_alpha\":0.2,\"hatch_color\":\"#30a2da\",\"line_alpha\":0.2,\"x\":{\"field\":\"x\"},\"y\":{\"field\":\"y\"}},\"id\":\"1826\",\"type\":\"Patch\"},{\"attributes\":{\"fill_alpha\":0.5,\"fill_color\":\"#30a2da\",\"hatch_color\":\"#30a2da\",\"x\":{\"field\":\"x\"},\"y\":{\"field\":\"y\"}},\"id\":\"1829\",\"type\":\"Patch\"},{\"attributes\":{},\"id\":\"1832\",\"type\":\"AllLabels\"},{\"attributes\":{},\"id\":\"1834\",\"type\":\"BasicTickFormatter\"},{\"attributes\":{\"margin\":[5,5,5,5],\"name\":\"HSpacer01791\",\"sizing_mode\":\"stretch_width\"},\"id\":\"1846\",\"type\":\"Spacer\"},{\"attributes\":{\"data\":{\"x\":{\"__ndarray__\":\"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\",\"dtype\":\"float64\",\"order\":\"little\",\"shape\":[200]},\"y\":{\"__ndarray__\":\"AAAAAAAAAAAAAAAAAAAAAAAAAAAAAAAAAAAAAAAAAAAAAAAAAAAAAAAAAAAAAAAAAAAAAAAAAAAAAAAAAAAAAAAAAAAAAAAAAAAAAAAAAAAAAAAAAAAAAAAAAAAAAAAAAAAAAAAAAAAAAAAAAAAAAAAAAAAAAAAAAAAAAAAAAAAAAAAAAAAAAAAAAAAAAAAAAAAAAAAAAAAAAAAAAAAAAAAAAAAAAAAAAAAAAAAAAAAAAAAAAAAAAAAAAAAAAAAAAAAAAAAAAAAAAAAAAAAAAAAAAAAAAAAAAAAAAAAAAAAAAAAAAAAAAAAAAAAAAAAAAAAAAAAAAAAAAAAAAAAAAAAAAAAAAAAAAAAAAAAAAAAAAAAAAAAAAAAAAAAAAAAAAAAAAAAAAAAAAAAAAAAAAAAAAAAAAAAAAAAAAAAAAAAAAAAAAAAAAAAAAAAAAAAAAAAAAAAAAAAAAAAAAAAAAAAAAAAAAAAAAAAAAAAAAAAAAAAAAAAAAAAAAAAAAAAAAAAAAAAAAAAAAAAAAAAAAAAAAAAAAAAAAAAAAAAAAAAAAAAAAAAAAAAAAAAAAAAAAAAAAAAAAAAAAAAAAAAAAAAAAAAAAAAAAAAAAAAAAAAAAAAAAAAAAAAAAAAAAAAAAAAAAAAAAAAAAAAAAAAAAAAAAAAAAAAAAAAAAAAAAAAAAAAAAAAAAAAAAAAAAAAAAAAAAAAAAAAAAAAAAAAAAAAAAAAAAAAAAAAAAAAAAAAAAAAAAAAAAAAAAAAAAAAAAAAAAAAAAAAAAAAAAAAAAAAAAAAAAAAAAAAAAAAAAAAAAAAAAAAAAAAAAAAAAAAAAAAAAAAAAAAAAAAAAAAAAAAAAAAAAAAAAAAAAAAAAAAAAAAAAAAAAAAAAAAAAAAAAAAAAAAAAAAAAAAAAAAAAAAAAAAAAAAAAAAAAAAAAAAAAAAAAAAAAAAAAAAAAAAAAAAAAAAAAAAAAAAAAAAAAAAAAAAAAAAAAAAAAAAAAAAAAAAAAAAAAAAAAAAAAAAAAAAAAAAAAAAAAAAAAAAAAAAAAAAAAAAAAAAAAAAAAACXkoY2H24rP0GVVwNJXjM/Tg5S1o8EOz8CZ5XNZ51CP0ZUN9zlVkk/lhdfK78JUT81tC0+9qJWP4ZRslDFtl0/wcpGhu5EYz9XL49S+7FoP9TFojGRRm8/2qG215mScz8RgduhczZ4PzyUv9WBm30/Eo4SDz3lgT9vTET6g2OFP5651CFuR4k/PhCcr3yMjT+wIBGfVBWRP5sermY0i5M/YcXY/nMglj8zeDgRQcyYP2otksq3hJs/SK59NVE/nj+2Irr4sHigPyn2rkxQyKE/LUjpEdUJoz91+1U8PTmkPwmBrzdoU6U/UpWdKDtWpj+woxpNtUCnP19o7dvzEqg/SM9tRybOqD8nC9IcdXSpP/GhdLTeCKo/WT3Kaw2Pqj+Qhb4jKwurP6Gs9kW1gas/dTn7ulP3qz9TYQcqtHCsP/0Ut79p8qw/So4EwdCArT9BkyuC9B+uPyxEtQ12064/mFnM5nGerz/RhqrosUGwPwmmwigEwrA/noCTQJ5QsT9MbsThbu2xP5B3+9LVl7I/pSVSXpdOsz825Oa80w+0PzbT7ugD2bQ/G25bAf2mtT+a0U8L+3W2PzPIXmmzQbc/EtnV4m4FuD9zPlKZKry4P7Pymdm+YLk/nAO2VAruuT8XXYsDIF+6PxGXlsN1r7o/EY6PnxHbuj+wWnyys966P+vD4ab6t7o/yMcV/oBluj9a3PqM8ea5P5+p5/IRPbk/vuacO8JpuD9sVOda8W+3P5mnHruGU7Y/vTFsqEEZtT+rhjjxj8azP7mqoJZdYbI/WQo71N/vsD9FgkomvPCuP+UysAL3Aaw/u/a//AcfqT/EDoGwfVKmPxZ6JOKSpaM/TOVLvfYfoT+38RXPU4+dP0P9lM/hQZk/uogvFLZclT+NsIZbt+GRPyoAM6/Ln40/MMbdQIdHiD97O1sRmK+DPxSUvhvGk38/yGjS9mkMeT9ZRZAVWaZzP/Uia4AqfG4/CEn2CodhZz8rvAfdg7phP7nI13HKk1o//kqVAACxUz+u1L3PDddMP759G7hh30Q/UWui0GXbPT8CeEo8Cxo1Pw==\",\"dtype\":\"float64\",\"order\":\"little\",\"shape\":[200]}},\"selected\":{\"id\":\"1822\"},\"selection_policy\":{\"id\":\"1843\"}},\"id\":\"1821\",\"type\":\"ColumnDataSource\"},{\"attributes\":{\"fill_alpha\":0.5,\"fill_color\":\"#30a2da\",\"hatch_alpha\":0.1,\"hatch_color\":\"#30a2da\",\"line_alpha\":1,\"x\":{\"field\":\"x\"},\"y\":{\"field\":\"y\"}},\"id\":\"1825\",\"type\":\"Patch\"},{\"attributes\":{},\"id\":\"1843\",\"type\":\"UnionRenderers\"},{\"attributes\":{},\"id\":\"1796\",\"type\":\"LinearScale\"},{\"attributes\":{},\"id\":\"1831\",\"type\":\"BasicTickFormatter\"},{\"attributes\":{\"bottom_units\":\"screen\",\"coordinates\":null,\"fill_alpha\":0.5,\"fill_color\":\"lightgrey\",\"group\":null,\"left_units\":\"screen\",\"level\":\"overlay\",\"line_alpha\":1.0,\"line_color\":\"black\",\"line_dash\":[4,4],\"line_width\":2,\"right_units\":\"screen\",\"syncable\":false,\"top_units\":\"screen\"},\"id\":\"1813\",\"type\":\"BoxAnnotation\"},{\"attributes\":{},\"id\":\"1812\",\"type\":\"ResetTool\"},{\"attributes\":{\"fill_alpha\":0.5,\"fill_color\":\"#30a2da\",\"hatch_color\":\"#30a2da\",\"x\":{\"field\":\"x\"},\"y\":{\"field\":\"y\"}},\"id\":\"1824\",\"type\":\"Patch\"},{\"attributes\":{\"axis\":{\"id\":\"1800\"},\"coordinates\":null,\"grid_line_color\":null,\"group\":null,\"ticker\":null},\"id\":\"1803\",\"type\":\"Grid\"},{\"attributes\":{\"children\":[{\"id\":\"1787\"},{\"id\":\"1791\"},{\"id\":\"1846\"}],\"margin\":[0,0,0,0],\"name\":\"Row01786\",\"tags\":[\"embedded\"]},\"id\":\"1786\",\"type\":\"Row\"},{\"attributes\":{\"margin\":[5,5,5,5],\"name\":\"HSpacer01790\",\"sizing_mode\":\"stretch_width\"},\"id\":\"1787\",\"type\":\"Spacer\"},{\"attributes\":{},\"id\":\"1835\",\"type\":\"AllLabels\"},{\"attributes\":{\"end\":0.11543580060212061,\"reset_end\":0.11543580060212061,\"reset_start\":0.0,\"tags\":[[[\"Error Values_density\",\"Density\",null]]]},\"id\":\"1789\",\"type\":\"Range1d\"},{\"attributes\":{},\"id\":\"1809\",\"type\":\"PanTool\"},{\"attributes\":{\"callback\":null,\"renderers\":[{\"id\":\"1827\"}],\"tags\":[\"hv_created\"],\"tooltips\":[[\"Error Values\",\"@{Error_Values}\"],[\"Density\",\"@{Error_Values_density}\"]]},\"id\":\"1790\",\"type\":\"HoverTool\"},{\"attributes\":{},\"id\":\"1822\",\"type\":\"Selection\"},{\"attributes\":{\"coordinates\":null,\"group\":null,\"text_color\":\"black\",\"text_font_size\":\"12pt\"},\"id\":\"1792\",\"type\":\"Title\"},{\"attributes\":{\"axis_label\":\"Error Values\",\"coordinates\":null,\"formatter\":{\"id\":\"1831\"},\"group\":null,\"major_label_policy\":{\"id\":\"1832\"},\"ticker\":{\"id\":\"1801\"}},\"id\":\"1800\",\"type\":\"LinearAxis\"},{\"attributes\":{\"below\":[{\"id\":\"1800\"}],\"center\":[{\"id\":\"1803\"},{\"id\":\"1807\"}],\"height\":300,\"left\":[{\"id\":\"1804\"}],\"margin\":[5,5,5,5],\"min_border_bottom\":10,\"min_border_left\":10,\"min_border_right\":10,\"min_border_top\":10,\"renderers\":[{\"id\":\"1827\"}],\"sizing_mode\":\"fixed\",\"title\":{\"id\":\"1792\"},\"toolbar\":{\"id\":\"1814\"},\"width\":700,\"x_range\":{\"id\":\"1788\"},\"x_scale\":{\"id\":\"1796\"},\"y_range\":{\"id\":\"1789\"},\"y_scale\":{\"id\":\"1798\"}},\"id\":\"1791\",\"subtype\":\"Figure\",\"type\":\"Plot\"},{\"attributes\":{},\"id\":\"1810\",\"type\":\"WheelZoomTool\"},{\"attributes\":{},\"id\":\"1801\",\"type\":\"BasicTicker\"},{\"attributes\":{},\"id\":\"1798\",\"type\":\"LinearScale\"},{\"attributes\":{\"coordinates\":null,\"data_source\":{\"id\":\"1821\"},\"glyph\":{\"id\":\"1824\"},\"group\":null,\"hover_glyph\":null,\"muted_glyph\":{\"id\":\"1826\"},\"nonselection_glyph\":{\"id\":\"1825\"},\"selection_glyph\":{\"id\":\"1829\"},\"view\":{\"id\":\"1828\"}},\"id\":\"1827\",\"type\":\"GlyphRenderer\"},{\"attributes\":{\"tools\":[{\"id\":\"1790\"},{\"id\":\"1808\"},{\"id\":\"1809\"},{\"id\":\"1810\"},{\"id\":\"1811\"},{\"id\":\"1812\"}]},\"id\":\"1814\",\"type\":\"Toolbar\"},{\"attributes\":{\"axis_label\":\"Density\",\"coordinates\":null,\"formatter\":{\"id\":\"1834\"},\"group\":null,\"major_label_policy\":{\"id\":\"1835\"},\"ticker\":{\"id\":\"1805\"}},\"id\":\"1804\",\"type\":\"LinearAxis\"},{\"attributes\":{\"overlay\":{\"id\":\"1813\"}},\"id\":\"1811\",\"type\":\"BoxZoomTool\"},{\"attributes\":{},\"id\":\"1808\",\"type\":\"SaveTool\"},{\"attributes\":{\"end\":10.744085498447937,\"reset_end\":10.744085498447937,\"reset_start\":-12.188107110081233,\"start\":-12.188107110081233,\"tags\":[[[\"Error Values\",\"Error Values\",null]]]},\"id\":\"1788\",\"type\":\"Range1d\"},{\"attributes\":{},\"id\":\"1805\",\"type\":\"BasicTicker\"},{\"attributes\":{\"source\":{\"id\":\"1821\"}},\"id\":\"1828\",\"type\":\"CDSView\"},{\"attributes\":{\"axis\":{\"id\":\"1804\"},\"coordinates\":null,\"dimension\":1,\"grid_line_color\":null,\"group\":null,\"ticker\":null},\"id\":\"1807\",\"type\":\"Grid\"}],\"root_ids\":[\"1786\"]},\"title\":\"Bokeh Application\",\"version\":\"2.4.3\"}};\n",
       "    var render_items = [{\"docid\":\"beefd7fd-c58a-4c6f-9302-50b5347d2e9e\",\"root_ids\":[\"1786\"],\"roots\":{\"1786\":\"b31179e1-18cc-4a69-9430-733528d05f8b\"}}];\n",
       "    root.Bokeh.embed.embed_items_notebook(docs_json, render_items);\n",
       "    for (const render_item of render_items) {\n",
       "      for (const root_id of render_item.root_ids) {\n",
       "\tconst id_el = document.getElementById(root_id)\n",
       "\tif (id_el.children.length && (id_el.children[0].className === 'bk-root')) {\n",
       "\t  const root_el = id_el.children[0]\n",
       "\t  root_el.id = root_el.id + '-rendered'\n",
       "\t}\n",
       "      }\n",
       "    }\n",
       "  }\n",
       "  if (root.Bokeh !== undefined && root.Bokeh.Panel !== undefined) {\n",
       "    embed_document(root);\n",
       "  } else {\n",
       "    var attempts = 0;\n",
       "    var timer = setInterval(function(root) {\n",
       "      if (root.Bokeh !== undefined && root.Bokeh.Panel !== undefined) {\n",
       "        clearInterval(timer);\n",
       "        embed_document(root);\n",
       "      } else if (document.readyState == \"complete\") {\n",
       "        attempts++;\n",
       "        if (attempts > 200) {\n",
       "          clearInterval(timer);\n",
       "          console.log(\"Bokeh: ERROR: Unable to run BokehJS code because BokehJS library is missing\");\n",
       "        }\n",
       "      }\n",
       "    }, 25, root)\n",
       "  }\n",
       "})(window);</script>"
      ],
      "text/plain": [
       ":Distribution   [Error Values]   (Density)"
      ]
     },
     "execution_count": 149,
     "metadata": {
      "application/vnd.holoviews_exec.v0+json": {
       "id": "1786"
      }
     },
     "output_type": "execute_result"
    }
   ],
   "source": [
    "# Residual Histogram\n",
    "pd.DataFrame({'Error Values': (y_test - y_pred)}).hvplot.kde()"
   ]
  },
  {
   "cell_type": "markdown",
   "id": "fc9eb3c4",
   "metadata": {},
   "source": [
    "## Comparing machine learning models"
   ]
  },
  {
   "cell_type": "markdown",
   "id": "f99157d0",
   "metadata": {},
   "source": [
    "### Application of Decision Tree regression"
   ]
  },
  {
   "cell_type": "code",
   "execution_count": 150,
   "id": "2839633b",
   "metadata": {},
   "outputs": [],
   "source": [
    "from sklearn.tree import DecisionTreeRegressor\n",
    "from sklearn import metrics\n",
    "\n",
    "model = DecisionTreeRegressor(random_state = 0)\n",
    "model.fit(X_train, y_train)\n",
    "#Predicting using test set \n",
    "y_pred = model.predict(X_test)\n",
    "mae=metrics.mean_absolute_error(y_test, y_pred)\n",
    "mse=metrics.mean_squared_error(y_test, y_pred)\n",
    "test_pred = model.predict(X_test)\n",
    "train_pred = model.predict(X_train)"
   ]
  },
  {
   "cell_type": "code",
   "execution_count": 151,
   "id": "4696c5df",
   "metadata": {},
   "outputs": [
    {
     "name": "stdout",
     "output_type": "stream",
     "text": [
      "Test set evaluation:\n",
      "_____________________________________\n",
      "MAE: 4.561199337140934\n",
      "MSE: 47.382434549113796\n",
      "RMSE: 6.883489997749237\n",
      "R2 Square -4.399399736103687\n",
      "__________________________________\n"
     ]
    },
    {
     "name": "stderr",
     "output_type": "stream",
     "text": [
      "/var/folders/3f/0c48rx816935875jnxcqj5sr0000gn/T/ipykernel_80228/3864298976.py:6: FutureWarning: The frame.append method is deprecated and will be removed from pandas in a future version. Use pandas.concat instead.\n",
      "  results_df = results_df.append(results_df_2, ignore_index=True)\n"
     ]
    }
   ],
   "source": [
    "print('Test set evaluation:\\n_____________________________________')\n",
    "print_evaluate(y_test, test_pred)\n",
    "\n",
    "results_df_2 = pd.DataFrame(data=[[\"Decision Tree regression\", *evaluate(y_test, test_pred) , cross_val(DecisionTreeRegressor())]], \n",
    "                          columns=['Model', 'MAE', 'MSE', 'RMSE', 'R2 Square', \"Cross Validation\"])\n",
    "results_df = results_df.append(results_df_2, ignore_index=True)"
   ]
  },
  {
   "cell_type": "markdown",
   "id": "c45bde99",
   "metadata": {},
   "source": [
    "### Application of Random Forest Regression"
   ]
  },
  {
   "cell_type": "code",
   "execution_count": 152,
   "id": "4d010b79",
   "metadata": {},
   "outputs": [],
   "source": [
    "from sklearn.ensemble import RandomForestRegressor\n",
    "\n",
    "model = RandomForestRegressor(n_estimators = 300 ,  random_state = 0)\n",
    "model.fit(X_train,y_train)\n",
    "#Predicting the SalePrices using test set \n",
    "y_pred = model.predict(X_test)\n",
    "test_pred = model.predict(X_test)\n",
    "train_pred = model.predict(X_train)"
   ]
  },
  {
   "cell_type": "code",
   "execution_count": 153,
   "id": "44a9ff4b",
   "metadata": {},
   "outputs": [
    {
     "name": "stdout",
     "output_type": "stream",
     "text": [
      "Test set evaluation:\n",
      "_____________________________________\n",
      "MAE: 4.769298838271481\n",
      "MSE: 39.19202210636883\n",
      "RMSE: 6.260353193420387\n",
      "R2 Square -3.4660726244269258\n",
      "__________________________________\n"
     ]
    },
    {
     "name": "stderr",
     "output_type": "stream",
     "text": [
      "/var/folders/3f/0c48rx816935875jnxcqj5sr0000gn/T/ipykernel_80228/3477842244.py:6: FutureWarning: The frame.append method is deprecated and will be removed from pandas in a future version. Use pandas.concat instead.\n",
      "  results_df = results_df.append(results_df_2, ignore_index=True)\n"
     ]
    }
   ],
   "source": [
    "print('Test set evaluation:\\n_____________________________________')\n",
    "print_evaluate(y_test, test_pred)\n",
    "\n",
    "results_df_2 = pd.DataFrame(data=[[\"Random Forest Regression\", *evaluate(y_test, test_pred) , cross_val(RandomForestRegressor())]], \n",
    "                          columns=['Model', 'MAE', 'MSE', 'RMSE', 'R2 Square', \"Cross Validation\"])\n",
    "results_df = results_df.append(results_df_2, ignore_index=True)"
   ]
  },
  {
   "cell_type": "markdown",
   "id": "06c414b5",
   "metadata": {},
   "source": [
    "### Application of Support Vector Regression"
   ]
  },
  {
   "cell_type": "code",
   "execution_count": 154,
   "id": "5f1ebd9b",
   "metadata": {},
   "outputs": [],
   "source": [
    "from sklearn.svm import SVR\n",
    "model= SVR(kernel='rbf')\n",
    "model.fit(X_train,y_train)\n",
    "y_pred_svm=model.predict(X_test)\n",
    "#y_pred_svm = cross_val_predict(regressor, x, y)\n",
    "test_pred = model.predict(X_test)\n",
    "train_pred = model.predict(X_train)"
   ]
  },
  {
   "cell_type": "code",
   "execution_count": 155,
   "id": "932a401c",
   "metadata": {},
   "outputs": [
    {
     "name": "stdout",
     "output_type": "stream",
     "text": [
      "Test set evaluation:\n",
      "_____________________________________\n",
      "MAE: 3.32667561190091\n",
      "MSE: 13.392141530631882\n",
      "RMSE: 3.65952750100773\n",
      "R2 Square -0.5260829489756438\n",
      "__________________________________\n"
     ]
    },
    {
     "name": "stderr",
     "output_type": "stream",
     "text": [
      "/var/folders/3f/0c48rx816935875jnxcqj5sr0000gn/T/ipykernel_80228/865583917.py:6: FutureWarning: The frame.append method is deprecated and will be removed from pandas in a future version. Use pandas.concat instead.\n",
      "  results_df = results_df.append(results_df_2, ignore_index=True)\n"
     ]
    }
   ],
   "source": [
    "print('Test set evaluation:\\n_____________________________________')\n",
    "print_evaluate(y_test, test_pred)\n",
    "\n",
    "results_df_2 = pd.DataFrame(data=[[\"Support Vector Regression\", *evaluate(y_test, test_pred) , cross_val(SVR())]], \n",
    "                          columns=['Model', 'MAE', 'MSE', 'RMSE', 'R2 Square', \"Cross Validation\"])\n",
    "results_df = results_df.append(results_df_2, ignore_index=True)"
   ]
  },
  {
   "cell_type": "markdown",
   "id": "1df7b26c",
   "metadata": {},
   "source": [
    "### Random Sample Consensus(RANSAC) Regression"
   ]
  },
  {
   "cell_type": "code",
   "execution_count": 156,
   "id": "27d1f6ed",
   "metadata": {},
   "outputs": [
    {
     "name": "stderr",
     "output_type": "stream",
     "text": [
      "/Users/vicky/.pyenv/versions/3.9.6/lib/python3.9/site-packages/sklearn/linear_model/_ransac.py:320: FutureWarning: `base_estimator` was renamed to `estimator` in version 1.1 and will be removed in 1.3.\n",
      "  warnings.warn(\n"
     ]
    }
   ],
   "source": [
    "model = RANSACRegressor(base_estimator=LinearRegression(), max_trials=100)\n",
    "model.fit(X_train, y_train)\n",
    "\n",
    "test_pred = model.predict(X_test)\n",
    "#train_pred = model.predict(X_train)\n",
    "\n",
    "test_pred = model.predict(X_test)\n",
    "train_pred = model.predict(X_train)"
   ]
  },
  {
   "cell_type": "code",
   "execution_count": 157,
   "id": "a0c9151c",
   "metadata": {},
   "outputs": [
    {
     "name": "stderr",
     "output_type": "stream",
     "text": [
      "/var/folders/3f/0c48rx816935875jnxcqj5sr0000gn/T/ipykernel_80228/4084467583.py:6: FutureWarning: The frame.append method is deprecated and will be removed from pandas in a future version. Use pandas.concat instead.\n",
      "  results_df = results_df.append(results_df_2, ignore_index=True)\n"
     ]
    },
    {
     "name": "stdout",
     "output_type": "stream",
     "text": [
      "Test set evaluation:\n",
      "_____________________________________\n",
      "MAE: 2.4209927236162567\n",
      "MSE: 9.113747167529164\n",
      "RMSE: 3.0188983367329816\n",
      "R2 Square -0.03854444203929264\n",
      "__________________________________\n"
     ]
    }
   ],
   "source": [
    "print('Test set evaluation:\\n_____________________________________')\n",
    "print_evaluate(y_test, test_pred)\n",
    "\n",
    "results_df_2 = pd.DataFrame(data=[[\"Random Sample Consensus\", *evaluate(y_test, test_pred) , cross_val(RANSACRegressor())]], \n",
    "                          columns=['Model', 'MAE', 'MSE', 'RMSE', 'R2 Square', \"Cross Validation\"])\n",
    "results_df = results_df.append(results_df_2, ignore_index=True)"
   ]
  },
  {
   "cell_type": "markdown",
   "id": "c4e7621a",
   "metadata": {},
   "source": [
    "### Stochastic Gradient Descent"
   ]
  },
  {
   "cell_type": "code",
   "execution_count": 158,
   "id": "776dceb7",
   "metadata": {},
   "outputs": [],
   "source": [
    "sgd_reg = SGDRegressor(n_iter_no_change=250, penalty=None, eta0=0.0001, max_iter=100000)\n",
    "sgd_reg.fit(X_train, y_train)\n",
    "\n",
    "test_pred = sgd_reg.predict(X_test)\n",
    "train_pred = sgd_reg.predict(X_train)"
   ]
  },
  {
   "cell_type": "code",
   "execution_count": 159,
   "id": "fac8de9c",
   "metadata": {},
   "outputs": [
    {
     "name": "stdout",
     "output_type": "stream",
     "text": [
      "Test set evaluation:\n",
      "_____________________________________\n",
      "MAE: 2.4209927236162567\n",
      "MSE: 9.113747167529164\n",
      "RMSE: 3.0188983367329816\n",
      "R2 Square -0.03854444203929264\n",
      "__________________________________\n"
     ]
    },
    {
     "name": "stderr",
     "output_type": "stream",
     "text": [
      "/var/folders/3f/0c48rx816935875jnxcqj5sr0000gn/T/ipykernel_80228/1340551889.py:9: FutureWarning: The frame.append method is deprecated and will be removed from pandas in a future version. Use pandas.concat instead.\n",
      "  results_df = results_df.append(results_df_2, ignore_index=True)\n"
     ]
    }
   ],
   "source": [
    "test_pred = model.predict(X_test)\n",
    "train_pred = model.predict(X_train)\n",
    "\n",
    "print('Test set evaluation:\\n_____________________________________')\n",
    "print_evaluate(y_test, test_pred)\n",
    "\n",
    "results_df_2 = pd.DataFrame(data=[[\"Stochastic Gradient Descent\", *evaluate(y_test, test_pred),cross_val(SGDRegressor())]], \n",
    "                          columns=['Model', 'MAE', 'MSE', 'RMSE', 'R2 Square', \"Cross Validation\"])\n",
    "results_df = results_df.append(results_df_2, ignore_index=True)"
   ]
  },
  {
   "cell_type": "markdown",
   "id": "a0b830a3",
   "metadata": {},
   "source": [
    "## Models Comparison"
   ]
  },
  {
   "cell_type": "markdown",
   "id": "3b8036f6",
   "metadata": {},
   "source": [
    "### MAE"
   ]
  },
  {
   "cell_type": "code",
   "execution_count": 160,
   "id": "0f0f486d",
   "metadata": {},
   "outputs": [
    {
     "data": {
      "text/plain": [
       "<AxesSubplot: ylabel='Model'>"
      ]
     },
     "execution_count": 160,
     "metadata": {},
     "output_type": "execute_result"
    },
    {
     "data": {
      "image/png": "[encoded data removed]",
      "text/plain": [
       "<Figure size 1200x800 with 1 Axes>"
      ]
     },
     "metadata": {},
     "output_type": "display_data"
    }
   ],
   "source": [
    "results_df.set_index('Model', inplace=True)\n",
    "results_df['MAE'].plot(kind='barh', figsize=(12, 8))"
   ]
  },
  {
   "cell_type": "markdown",
   "id": "f7f2d0f4",
   "metadata": {},
   "source": [
    "### MSE"
   ]
  },
  {
   "cell_type": "code",
   "execution_count": 161,
   "id": "3380aea9",
   "metadata": {},
   "outputs": [
    {
     "data": {
      "text/plain": [
       "<AxesSubplot: ylabel='Model'>"
      ]
     },
     "execution_count": 161,
     "metadata": {},
     "output_type": "execute_result"
    },
    {
     "data": {
      "image/png": "[encoded data removed]",
      "text/plain": [
       "<Figure size 1200x800 with 1 Axes>"
      ]
     },
     "metadata": {},
     "output_type": "display_data"
    }
   ],
   "source": [
    "results_df['MSE'].plot(kind='barh', figsize=(12, 8))"
   ]
  },
  {
   "cell_type": "markdown",
   "id": "ee7f6d97",
   "metadata": {},
   "source": [
    "### RMSE"
   ]
  },
  {
   "cell_type": "code",
   "execution_count": 162,
   "id": "cad19e66",
   "metadata": {},
   "outputs": [
    {
     "data": {
      "text/plain": [
       "<AxesSubplot: ylabel='Model'>"
      ]
     },
     "execution_count": 162,
     "metadata": {},
     "output_type": "execute_result"
    },
    {
     "data": {
      "image/png": "[encoded data removed]",
      "text/plain": [
       "<Figure size 1200x800 with 1 Axes>"
      ]
     },
     "metadata": {},
     "output_type": "display_data"
    }
   ],
   "source": [
    "results_df['RMSE'].plot(kind='barh', figsize=(12, 8))"
   ]
  },
  {
   "cell_type": "markdown",
   "id": "583d147d",
   "metadata": {},
   "source": [
    "### R2 Square"
   ]
  },
  {
   "cell_type": "code",
   "execution_count": 163,
   "id": "78bb902a",
   "metadata": {},
   "outputs": [
    {
     "data": {
      "text/plain": [
       "<AxesSubplot: ylabel='Model'>"
      ]
     },
     "execution_count": 163,
     "metadata": {},
     "output_type": "execute_result"
    },
    {
     "data": {
      "image/png": "[encoded data removed]",
      "text/plain": [
       "<Figure size 1200x800 with 1 Axes>"
      ]
     },
     "metadata": {},
     "output_type": "display_data"
    }
   ],
   "source": [
    "results_df['R2 Square'].plot(kind='barh', figsize=(12, 8))"
   ]
  },
  {
   "cell_type": "code",
   "execution_count": null,
   "id": "0719d5c5",
   "metadata": {},
   "outputs": [],
   "source": []
  },
  {
   "cell_type": "code",
   "execution_count": null,
   "id": "cadf6a68",
   "metadata": {},
   "outputs": [],
   "source": []
  }
 ],
 "metadata": {
  "kernelspec": {
   "display_name": "Python 3 (ipykernel)",
   "language": "python",
   "name": "python3"
  },
  "language_info": {
   "codemirror_mode": {
    "name": "ipython",
    "version": 3
   },
   "file_extension": ".py",
   "mimetype": "text/x-python",
   "name": "python",
   "nbconvert_exporter": "python",
   "pygments_lexer": "ipython3",
   "version": "3.9.6"
  }
 },
 "nbformat": 4,
 "nbformat_minor": 5
}
