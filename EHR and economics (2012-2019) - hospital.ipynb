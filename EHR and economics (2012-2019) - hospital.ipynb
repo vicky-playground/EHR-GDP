{
 "cells": [
  {
   "cell_type": "markdown",
   "id": "d293196b",
   "metadata": {},
   "source": [
    "# Clean and display the three datasets (EHR, GDP, Income)"
   ]
  },
  {
   "cell_type": "code",
   "execution_count": 42,
   "id": "c6768141",
   "metadata": {},
   "outputs": [
    {
     "data": {
      "text/html": [
       "<div>\n",
       "<style scoped>\n",
       "    .dataframe tbody tr th:only-of-type {\n",
       "        vertical-align: middle;\n",
       "    }\n",
       "\n",
       "    .dataframe tbody tr th {\n",
       "        vertical-align: top;\n",
       "    }\n",
       "\n",
       "    .dataframe thead th {\n",
       "        text-align: right;\n",
       "    }\n",
       "</style>\n",
       "<table border=\"1\" class=\"dataframe\">\n",
       "  <thead>\n",
       "    <tr style=\"text-align: right;\">\n",
       "      <th></th>\n",
       "      <th>GeoFIPS</th>\n",
       "      <th>GeoName</th>\n",
       "      <th>Region</th>\n",
       "      <th>TableName</th>\n",
       "      <th>LineCode</th>\n",
       "      <th>IndustryClassification</th>\n",
       "      <th>Description</th>\n",
       "      <th>Unit</th>\n",
       "      <th>2001</th>\n",
       "      <th>2002</th>\n",
       "      <th>...</th>\n",
       "      <th>2011</th>\n",
       "      <th>2012</th>\n",
       "      <th>2013</th>\n",
       "      <th>2014</th>\n",
       "      <th>2015</th>\n",
       "      <th>2016</th>\n",
       "      <th>2017</th>\n",
       "      <th>2018</th>\n",
       "      <th>2019</th>\n",
       "      <th>2020</th>\n",
       "    </tr>\n",
       "  </thead>\n",
       "  <tbody>\n",
       "    <tr>\n",
       "      <th>0</th>\n",
       "      <td>\"06000\"</td>\n",
       "      <td>California</td>\n",
       "      <td>8.0</td>\n",
       "      <td>CAGDP1</td>\n",
       "      <td>1.0</td>\n",
       "      <td>...</td>\n",
       "      <td>Real GDP (thousands of chained 2012 dollars)</td>\n",
       "      <td>Thousands of chained 2012 dollars</td>\n",
       "      <td>1.692324e+09</td>\n",
       "      <td>1.722522e+09</td>\n",
       "      <td>...</td>\n",
       "      <td>2.063828e+09</td>\n",
       "      <td>2.113096e+09</td>\n",
       "      <td>2.179229e+09</td>\n",
       "      <td>2.256055e+09</td>\n",
       "      <td>2.357453e+09</td>\n",
       "      <td>2.427895e+09</td>\n",
       "      <td>2.541769e+09</td>\n",
       "      <td>2.643576e+09</td>\n",
       "      <td>2.739343e+09</td>\n",
       "      <td>2.663666e+09</td>\n",
       "    </tr>\n",
       "    <tr>\n",
       "      <th>1</th>\n",
       "      <td>\"06000\"</td>\n",
       "      <td>California</td>\n",
       "      <td>8.0</td>\n",
       "      <td>CAGDP1</td>\n",
       "      <td>2.0</td>\n",
       "      <td>...</td>\n",
       "      <td>Chain-type quantity indexes for real GDP</td>\n",
       "      <td>Quantity index</td>\n",
       "      <td>8.008700e+01</td>\n",
       "      <td>8.151700e+01</td>\n",
       "      <td>...</td>\n",
       "      <td>9.766800e+01</td>\n",
       "      <td>1.000000e+02</td>\n",
       "      <td>1.031300e+02</td>\n",
       "      <td>1.067650e+02</td>\n",
       "      <td>1.115640e+02</td>\n",
       "      <td>1.148970e+02</td>\n",
       "      <td>1.202860e+02</td>\n",
       "      <td>1.251040e+02</td>\n",
       "      <td>1.296360e+02</td>\n",
       "      <td>1.260550e+02</td>\n",
       "    </tr>\n",
       "    <tr>\n",
       "      <th>2</th>\n",
       "      <td>\"06000\"</td>\n",
       "      <td>California</td>\n",
       "      <td>8.0</td>\n",
       "      <td>CAGDP1</td>\n",
       "      <td>3.0</td>\n",
       "      <td>...</td>\n",
       "      <td>Current-dollar GDP (thousands of current dollars)</td>\n",
       "      <td>Thousands of dollars</td>\n",
       "      <td>1.375761e+09</td>\n",
       "      <td>1.418430e+09</td>\n",
       "      <td>...</td>\n",
       "      <td>2.023500e+09</td>\n",
       "      <td>2.113096e+09</td>\n",
       "      <td>2.220390e+09</td>\n",
       "      <td>2.335286e+09</td>\n",
       "      <td>2.473556e+09</td>\n",
       "      <td>2.569634e+09</td>\n",
       "      <td>2.730974e+09</td>\n",
       "      <td>2.895101e+09</td>\n",
       "      <td>3.052645e+09</td>\n",
       "      <td>3.007188e+09</td>\n",
       "    </tr>\n",
       "    <tr>\n",
       "      <th>3</th>\n",
       "      <td>\"06001\"</td>\n",
       "      <td>Alameda, CA</td>\n",
       "      <td>8.0</td>\n",
       "      <td>CAGDP1</td>\n",
       "      <td>1.0</td>\n",
       "      <td>...</td>\n",
       "      <td>Real GDP (thousands of chained 2012 dollars)</td>\n",
       "      <td>Thousands of chained 2012 dollars</td>\n",
       "      <td>8.179943e+07</td>\n",
       "      <td>8.258638e+07</td>\n",
       "      <td>...</td>\n",
       "      <td>9.320961e+07</td>\n",
       "      <td>9.574948e+07</td>\n",
       "      <td>9.866994e+07</td>\n",
       "      <td>1.023338e+08</td>\n",
       "      <td>1.094216e+08</td>\n",
       "      <td>1.129437e+08</td>\n",
       "      <td>1.191171e+08</td>\n",
       "      <td>1.237183e+08</td>\n",
       "      <td>1.261836e+08</td>\n",
       "      <td>1.217090e+08</td>\n",
       "    </tr>\n",
       "    <tr>\n",
       "      <th>4</th>\n",
       "      <td>\"06001\"</td>\n",
       "      <td>Alameda, CA</td>\n",
       "      <td>8.0</td>\n",
       "      <td>CAGDP1</td>\n",
       "      <td>2.0</td>\n",
       "      <td>...</td>\n",
       "      <td>Chain-type quantity indexes for real GDP</td>\n",
       "      <td>Quantity index</td>\n",
       "      <td>8.543100e+01</td>\n",
       "      <td>8.625300e+01</td>\n",
       "      <td>...</td>\n",
       "      <td>9.734700e+01</td>\n",
       "      <td>1.000000e+02</td>\n",
       "      <td>1.030500e+02</td>\n",
       "      <td>1.068770e+02</td>\n",
       "      <td>1.142790e+02</td>\n",
       "      <td>1.179580e+02</td>\n",
       "      <td>1.244050e+02</td>\n",
       "      <td>1.292100e+02</td>\n",
       "      <td>1.317850e+02</td>\n",
       "      <td>1.271120e+02</td>\n",
       "    </tr>\n",
       "  </tbody>\n",
       "</table>\n",
       "<p>5 rows × 28 columns</p>\n",
       "</div>"
      ],
      "text/plain": [
       "    GeoFIPS      GeoName  Region TableName  LineCode IndustryClassification  \\\n",
       "0   \"06000\"   California     8.0    CAGDP1       1.0                    ...   \n",
       "1   \"06000\"   California     8.0    CAGDP1       2.0                    ...   \n",
       "2   \"06000\"   California     8.0    CAGDP1       3.0                    ...   \n",
       "3   \"06001\"  Alameda, CA     8.0    CAGDP1       1.0                    ...   \n",
       "4   \"06001\"  Alameda, CA     8.0    CAGDP1       2.0                    ...   \n",
       "\n",
       "                                         Description  \\\n",
       "0       Real GDP (thousands of chained 2012 dollars)   \n",
       "1           Chain-type quantity indexes for real GDP   \n",
       "2  Current-dollar GDP (thousands of current dollars)   \n",
       "3       Real GDP (thousands of chained 2012 dollars)   \n",
       "4           Chain-type quantity indexes for real GDP   \n",
       "\n",
       "                                Unit          2001          2002  ...  \\\n",
       "0  Thousands of chained 2012 dollars  1.692324e+09  1.722522e+09  ...   \n",
       "1                     Quantity index  8.008700e+01  8.151700e+01  ...   \n",
       "2               Thousands of dollars  1.375761e+09  1.418430e+09  ...   \n",
       "3  Thousands of chained 2012 dollars  8.179943e+07  8.258638e+07  ...   \n",
       "4                     Quantity index  8.543100e+01  8.625300e+01  ...   \n",
       "\n",
       "           2011          2012          2013          2014          2015  \\\n",
       "0  2.063828e+09  2.113096e+09  2.179229e+09  2.256055e+09  2.357453e+09   \n",
       "1  9.766800e+01  1.000000e+02  1.031300e+02  1.067650e+02  1.115640e+02   \n",
       "2  2.023500e+09  2.113096e+09  2.220390e+09  2.335286e+09  2.473556e+09   \n",
       "3  9.320961e+07  9.574948e+07  9.866994e+07  1.023338e+08  1.094216e+08   \n",
       "4  9.734700e+01  1.000000e+02  1.030500e+02  1.068770e+02  1.142790e+02   \n",
       "\n",
       "           2016          2017          2018          2019          2020  \n",
       "0  2.427895e+09  2.541769e+09  2.643576e+09  2.739343e+09  2.663666e+09  \n",
       "1  1.148970e+02  1.202860e+02  1.251040e+02  1.296360e+02  1.260550e+02  \n",
       "2  2.569634e+09  2.730974e+09  2.895101e+09  3.052645e+09  3.007188e+09  \n",
       "3  1.129437e+08  1.191171e+08  1.237183e+08  1.261836e+08  1.217090e+08  \n",
       "4  1.179580e+02  1.244050e+02  1.292100e+02  1.317850e+02  1.271120e+02  \n",
       "\n",
       "[5 rows x 28 columns]"
      ]
     },
     "execution_count": 42,
     "metadata": {},
     "output_type": "execute_result"
    }
   ],
   "source": [
    "import pandas as pd\n",
    "import numpy as np\n",
    "import matplotlib.pyplot as plt\n",
    "from sklearn import model_selection\n",
    "from sklearn.linear_model import LinearRegression\n",
    "from sklearn.linear_model import LogisticRegression\n",
    "from sklearn.tree import DecisionTreeClassifier\n",
    "from sklearn.neighbors import KNeighborsClassifier\n",
    "from sklearn.discriminant_analysis import LinearDiscriminantAnalysis\n",
    "from sklearn.naive_bayes import GaussianNB\n",
    "from sklearn.svm import SVC\n",
    "import seaborn as sns\n",
    "\n",
    "\n",
    "# load GDP dataset\n",
    "df_GDP = pd.read_csv('GDP_CA_2001_2020.csv')\n",
    "df_GDP.head()"
   ]
  },
  {
   "cell_type": "code",
   "execution_count": 43,
   "id": "7eb88140",
   "metadata": {},
   "outputs": [
    {
     "name": "stdout",
     "output_type": "stream",
     "text": [
      "<class 'pandas.core.frame.DataFrame'>\n",
      "RangeIndex: 181 entries, 0 to 180\n",
      "Data columns (total 28 columns):\n",
      " #   Column                  Non-Null Count  Dtype  \n",
      "---  ------                  --------------  -----  \n",
      " 0   GeoFIPS                 181 non-null    object \n",
      " 1   GeoName                 177 non-null    object \n",
      " 2   Region                  177 non-null    float64\n",
      " 3   TableName               177 non-null    object \n",
      " 4   LineCode                177 non-null    float64\n",
      " 5   IndustryClassification  177 non-null    object \n",
      " 6   Description             177 non-null    object \n",
      " 7   Unit                    177 non-null    object \n",
      " 8   2001                    177 non-null    float64\n",
      " 9   2002                    177 non-null    float64\n",
      " 10  2003                    177 non-null    float64\n",
      " 11  2004                    177 non-null    float64\n",
      " 12  2005                    177 non-null    float64\n",
      " 13  2006                    177 non-null    float64\n",
      " 14  2007                    177 non-null    float64\n",
      " 15  2008                    177 non-null    float64\n",
      " 16  2009                    177 non-null    float64\n",
      " 17  2010                    177 non-null    float64\n",
      " 18  2011                    177 non-null    float64\n",
      " 19  2012                    177 non-null    float64\n",
      " 20  2013                    177 non-null    float64\n",
      " 21  2014                    177 non-null    float64\n",
      " 22  2015                    177 non-null    float64\n",
      " 23  2016                    177 non-null    float64\n",
      " 24  2017                    177 non-null    float64\n",
      " 25  2018                    177 non-null    float64\n",
      " 26  2019                    177 non-null    float64\n",
      " 27  2020                    177 non-null    float64\n",
      "dtypes: float64(22), object(6)\n",
      "memory usage: 39.7+ KB\n"
     ]
    }
   ],
   "source": [
    "df_GDP.info()"
   ]
  },
  {
   "cell_type": "code",
   "execution_count": 44,
   "id": "b8fd18d2",
   "metadata": {},
   "outputs": [
    {
     "data": {
      "text/html": [
       "<div>\n",
       "<style scoped>\n",
       "    .dataframe tbody tr th:only-of-type {\n",
       "        vertical-align: middle;\n",
       "    }\n",
       "\n",
       "    .dataframe tbody tr th {\n",
       "        vertical-align: top;\n",
       "    }\n",
       "\n",
       "    .dataframe thead th {\n",
       "        text-align: right;\n",
       "    }\n",
       "</style>\n",
       "<table border=\"1\" class=\"dataframe\">\n",
       "  <thead>\n",
       "    <tr style=\"text-align: right;\">\n",
       "      <th></th>\n",
       "      <th>Region</th>\n",
       "      <th>LineCode</th>\n",
       "      <th>2001</th>\n",
       "      <th>2002</th>\n",
       "      <th>2003</th>\n",
       "      <th>2004</th>\n",
       "      <th>2005</th>\n",
       "      <th>2006</th>\n",
       "      <th>2007</th>\n",
       "      <th>2008</th>\n",
       "      <th>...</th>\n",
       "      <th>2011</th>\n",
       "      <th>2012</th>\n",
       "      <th>2013</th>\n",
       "      <th>2014</th>\n",
       "      <th>2015</th>\n",
       "      <th>2016</th>\n",
       "      <th>2017</th>\n",
       "      <th>2018</th>\n",
       "      <th>2019</th>\n",
       "      <th>2020</th>\n",
       "    </tr>\n",
       "  </thead>\n",
       "  <tbody>\n",
       "    <tr>\n",
       "      <th>count</th>\n",
       "      <td>177.0</td>\n",
       "      <td>177.000000</td>\n",
       "      <td>1.770000e+02</td>\n",
       "      <td>1.770000e+02</td>\n",
       "      <td>1.770000e+02</td>\n",
       "      <td>1.770000e+02</td>\n",
       "      <td>1.770000e+02</td>\n",
       "      <td>1.770000e+02</td>\n",
       "      <td>1.770000e+02</td>\n",
       "      <td>1.770000e+02</td>\n",
       "      <td>...</td>\n",
       "      <td>1.770000e+02</td>\n",
       "      <td>1.770000e+02</td>\n",
       "      <td>1.770000e+02</td>\n",
       "      <td>1.770000e+02</td>\n",
       "      <td>1.770000e+02</td>\n",
       "      <td>1.770000e+02</td>\n",
       "      <td>1.770000e+02</td>\n",
       "      <td>1.770000e+02</td>\n",
       "      <td>1.770000e+02</td>\n",
       "      <td>1.770000e+02</td>\n",
       "    </tr>\n",
       "    <tr>\n",
       "      <th>mean</th>\n",
       "      <td>8.0</td>\n",
       "      <td>2.000000</td>\n",
       "      <td>3.468765e+07</td>\n",
       "      <td>3.552719e+07</td>\n",
       "      <td>3.718282e+07</td>\n",
       "      <td>3.889249e+07</td>\n",
       "      <td>4.099984e+07</td>\n",
       "      <td>4.313326e+07</td>\n",
       "      <td>4.454368e+07</td>\n",
       "      <td>4.529435e+07</td>\n",
       "      <td>...</td>\n",
       "      <td>4.618526e+07</td>\n",
       "      <td>4.775363e+07</td>\n",
       "      <td>4.971368e+07</td>\n",
       "      <td>5.188148e+07</td>\n",
       "      <td>5.458981e+07</td>\n",
       "      <td>5.647088e+07</td>\n",
       "      <td>5.958153e+07</td>\n",
       "      <td>6.259023e+07</td>\n",
       "      <td>6.545566e+07</td>\n",
       "      <td>6.409773e+07</td>\n",
       "    </tr>\n",
       "    <tr>\n",
       "      <th>std</th>\n",
       "      <td>0.0</td>\n",
       "      <td>0.818813</td>\n",
       "      <td>1.699176e+08</td>\n",
       "      <td>1.738176e+08</td>\n",
       "      <td>1.817864e+08</td>\n",
       "      <td>1.899086e+08</td>\n",
       "      <td>1.998052e+08</td>\n",
       "      <td>2.100903e+08</td>\n",
       "      <td>2.167973e+08</td>\n",
       "      <td>2.205643e+08</td>\n",
       "      <td>...</td>\n",
       "      <td>2.250071e+08</td>\n",
       "      <td>2.324972e+08</td>\n",
       "      <td>2.419280e+08</td>\n",
       "      <td>2.524382e+08</td>\n",
       "      <td>2.657108e+08</td>\n",
       "      <td>2.748022e+08</td>\n",
       "      <td>2.898891e+08</td>\n",
       "      <td>3.045556e+08</td>\n",
       "      <td>3.186079e+08</td>\n",
       "      <td>3.116377e+08</td>\n",
       "    </tr>\n",
       "    <tr>\n",
       "      <th>min</th>\n",
       "      <td>8.0</td>\n",
       "      <td>1.000000</td>\n",
       "      <td>5.938200e+01</td>\n",
       "      <td>5.681400e+01</td>\n",
       "      <td>6.015900e+01</td>\n",
       "      <td>6.253500e+01</td>\n",
       "      <td>6.649600e+01</td>\n",
       "      <td>7.155500e+01</td>\n",
       "      <td>7.583900e+01</td>\n",
       "      <td>7.607400e+01</td>\n",
       "      <td>...</td>\n",
       "      <td>8.207300e+01</td>\n",
       "      <td>1.000000e+02</td>\n",
       "      <td>9.313200e+01</td>\n",
       "      <td>8.916500e+01</td>\n",
       "      <td>9.017200e+01</td>\n",
       "      <td>9.650500e+01</td>\n",
       "      <td>9.103100e+01</td>\n",
       "      <td>9.154400e+01</td>\n",
       "      <td>9.107600e+01</td>\n",
       "      <td>9.207800e+01</td>\n",
       "    </tr>\n",
       "    <tr>\n",
       "      <th>25%</th>\n",
       "      <td>8.0</td>\n",
       "      <td>1.000000</td>\n",
       "      <td>9.166500e+01</td>\n",
       "      <td>9.896600e+01</td>\n",
       "      <td>9.948900e+01</td>\n",
       "      <td>1.011600e+02</td>\n",
       "      <td>1.033000e+02</td>\n",
       "      <td>1.061110e+02</td>\n",
       "      <td>1.058010e+02</td>\n",
       "      <td>1.039260e+02</td>\n",
       "      <td>...</td>\n",
       "      <td>1.046980e+02</td>\n",
       "      <td>1.000000e+02</td>\n",
       "      <td>1.037400e+02</td>\n",
       "      <td>1.068900e+02</td>\n",
       "      <td>1.114700e+02</td>\n",
       "      <td>1.158850e+02</td>\n",
       "      <td>1.202860e+02</td>\n",
       "      <td>1.222820e+02</td>\n",
       "      <td>1.275750e+02</td>\n",
       "      <td>1.248210e+02</td>\n",
       "    </tr>\n",
       "    <tr>\n",
       "      <th>50%</th>\n",
       "      <td>8.0</td>\n",
       "      <td>2.000000</td>\n",
       "      <td>1.118369e+06</td>\n",
       "      <td>1.229494e+06</td>\n",
       "      <td>1.254471e+06</td>\n",
       "      <td>1.354372e+06</td>\n",
       "      <td>1.419893e+06</td>\n",
       "      <td>1.481254e+06</td>\n",
       "      <td>1.486497e+06</td>\n",
       "      <td>1.452987e+06</td>\n",
       "      <td>...</td>\n",
       "      <td>1.441492e+06</td>\n",
       "      <td>1.382695e+06</td>\n",
       "      <td>1.440258e+06</td>\n",
       "      <td>1.488434e+06</td>\n",
       "      <td>1.576129e+06</td>\n",
       "      <td>1.624237e+06</td>\n",
       "      <td>1.732487e+06</td>\n",
       "      <td>1.786296e+06</td>\n",
       "      <td>1.870309e+06</td>\n",
       "      <td>1.848108e+06</td>\n",
       "    </tr>\n",
       "    <tr>\n",
       "      <th>75%</th>\n",
       "      <td>8.0</td>\n",
       "      <td>3.000000</td>\n",
       "      <td>1.140431e+07</td>\n",
       "      <td>1.216344e+07</td>\n",
       "      <td>1.241956e+07</td>\n",
       "      <td>1.306165e+07</td>\n",
       "      <td>1.419982e+07</td>\n",
       "      <td>1.488086e+07</td>\n",
       "      <td>1.539080e+07</td>\n",
       "      <td>1.555348e+07</td>\n",
       "      <td>...</td>\n",
       "      <td>1.602862e+07</td>\n",
       "      <td>1.671216e+07</td>\n",
       "      <td>1.760231e+07</td>\n",
       "      <td>1.836294e+07</td>\n",
       "      <td>1.923534e+07</td>\n",
       "      <td>1.962348e+07</td>\n",
       "      <td>2.063280e+07</td>\n",
       "      <td>2.123421e+07</td>\n",
       "      <td>2.165822e+07</td>\n",
       "      <td>2.143904e+07</td>\n",
       "    </tr>\n",
       "    <tr>\n",
       "      <th>max</th>\n",
       "      <td>8.0</td>\n",
       "      <td>3.000000</td>\n",
       "      <td>1.692324e+09</td>\n",
       "      <td>1.722522e+09</td>\n",
       "      <td>1.789999e+09</td>\n",
       "      <td>1.850904e+09</td>\n",
       "      <td>1.926842e+09</td>\n",
       "      <td>2.002437e+09</td>\n",
       "      <td>2.041192e+09</td>\n",
       "      <td>2.061639e+09</td>\n",
       "      <td>...</td>\n",
       "      <td>2.063828e+09</td>\n",
       "      <td>2.113096e+09</td>\n",
       "      <td>2.220390e+09</td>\n",
       "      <td>2.335286e+09</td>\n",
       "      <td>2.473556e+09</td>\n",
       "      <td>2.569634e+09</td>\n",
       "      <td>2.730974e+09</td>\n",
       "      <td>2.895101e+09</td>\n",
       "      <td>3.052645e+09</td>\n",
       "      <td>3.007188e+09</td>\n",
       "    </tr>\n",
       "  </tbody>\n",
       "</table>\n",
       "<p>8 rows × 22 columns</p>\n",
       "</div>"
      ],
      "text/plain": [
       "       Region    LineCode          2001          2002          2003  \\\n",
       "count   177.0  177.000000  1.770000e+02  1.770000e+02  1.770000e+02   \n",
       "mean      8.0    2.000000  3.468765e+07  3.552719e+07  3.718282e+07   \n",
       "std       0.0    0.818813  1.699176e+08  1.738176e+08  1.817864e+08   \n",
       "min       8.0    1.000000  5.938200e+01  5.681400e+01  6.015900e+01   \n",
       "25%       8.0    1.000000  9.166500e+01  9.896600e+01  9.948900e+01   \n",
       "50%       8.0    2.000000  1.118369e+06  1.229494e+06  1.254471e+06   \n",
       "75%       8.0    3.000000  1.140431e+07  1.216344e+07  1.241956e+07   \n",
       "max       8.0    3.000000  1.692324e+09  1.722522e+09  1.789999e+09   \n",
       "\n",
       "               2004          2005          2006          2007          2008  \\\n",
       "count  1.770000e+02  1.770000e+02  1.770000e+02  1.770000e+02  1.770000e+02   \n",
       "mean   3.889249e+07  4.099984e+07  4.313326e+07  4.454368e+07  4.529435e+07   \n",
       "std    1.899086e+08  1.998052e+08  2.100903e+08  2.167973e+08  2.205643e+08   \n",
       "min    6.253500e+01  6.649600e+01  7.155500e+01  7.583900e+01  7.607400e+01   \n",
       "25%    1.011600e+02  1.033000e+02  1.061110e+02  1.058010e+02  1.039260e+02   \n",
       "50%    1.354372e+06  1.419893e+06  1.481254e+06  1.486497e+06  1.452987e+06   \n",
       "75%    1.306165e+07  1.419982e+07  1.488086e+07  1.539080e+07  1.555348e+07   \n",
       "max    1.850904e+09  1.926842e+09  2.002437e+09  2.041192e+09  2.061639e+09   \n",
       "\n",
       "       ...          2011          2012          2013          2014  \\\n",
       "count  ...  1.770000e+02  1.770000e+02  1.770000e+02  1.770000e+02   \n",
       "mean   ...  4.618526e+07  4.775363e+07  4.971368e+07  5.188148e+07   \n",
       "std    ...  2.250071e+08  2.324972e+08  2.419280e+08  2.524382e+08   \n",
       "min    ...  8.207300e+01  1.000000e+02  9.313200e+01  8.916500e+01   \n",
       "25%    ...  1.046980e+02  1.000000e+02  1.037400e+02  1.068900e+02   \n",
       "50%    ...  1.441492e+06  1.382695e+06  1.440258e+06  1.488434e+06   \n",
       "75%    ...  1.602862e+07  1.671216e+07  1.760231e+07  1.836294e+07   \n",
       "max    ...  2.063828e+09  2.113096e+09  2.220390e+09  2.335286e+09   \n",
       "\n",
       "               2015          2016          2017          2018          2019  \\\n",
       "count  1.770000e+02  1.770000e+02  1.770000e+02  1.770000e+02  1.770000e+02   \n",
       "mean   5.458981e+07  5.647088e+07  5.958153e+07  6.259023e+07  6.545566e+07   \n",
       "std    2.657108e+08  2.748022e+08  2.898891e+08  3.045556e+08  3.186079e+08   \n",
       "min    9.017200e+01  9.650500e+01  9.103100e+01  9.154400e+01  9.107600e+01   \n",
       "25%    1.114700e+02  1.158850e+02  1.202860e+02  1.222820e+02  1.275750e+02   \n",
       "50%    1.576129e+06  1.624237e+06  1.732487e+06  1.786296e+06  1.870309e+06   \n",
       "75%    1.923534e+07  1.962348e+07  2.063280e+07  2.123421e+07  2.165822e+07   \n",
       "max    2.473556e+09  2.569634e+09  2.730974e+09  2.895101e+09  3.052645e+09   \n",
       "\n",
       "               2020  \n",
       "count  1.770000e+02  \n",
       "mean   6.409773e+07  \n",
       "std    3.116377e+08  \n",
       "min    9.207800e+01  \n",
       "25%    1.248210e+02  \n",
       "50%    1.848108e+06  \n",
       "75%    2.143904e+07  \n",
       "max    3.007188e+09  \n",
       "\n",
       "[8 rows x 22 columns]"
      ]
     },
     "execution_count": 44,
     "metadata": {},
     "output_type": "execute_result"
    }
   ],
   "source": [
    "df_GDP.describe()"
   ]
  },
  {
   "cell_type": "code",
   "execution_count": 45,
   "id": "204f544b",
   "metadata": {},
   "outputs": [],
   "source": [
    "# clean the noisy data\n",
    "df_GDP['GeoName'] = df_GDP['GeoName'].str.rstrip(', CA')\n",
    "df_GDP.drop(df_GDP.tail(4).index,inplace=True) # drop last n rows\n",
    "df_GDP = df_GDP.drop(['GeoFIPS','Region','TableName','LineCode','IndustryClassification'],axis=1)\n",
    "df_GDP = df_GDP[df_GDP.Description == 'Current-dollar GDP (thousands of current dollars)']\n",
    "df_GDP = df_GDP.drop(df_GDP.columns[3:14],axis=1)\n",
    "df_GDP = df_GDP.dropna()\n",
    "df_GDP = df_GDP.drop(df_GDP.columns[-1:],axis=1)\n",
    "df_GDP = df_GDP.drop(df_GDP.columns[1:2],axis=1)"
   ]
  },
  {
   "cell_type": "code",
   "execution_count": 46,
   "id": "0563c3aa",
   "metadata": {},
   "outputs": [
    {
     "data": {
      "text/html": [
       "<div>\n",
       "<style scoped>\n",
       "    .dataframe tbody tr th:only-of-type {\n",
       "        vertical-align: middle;\n",
       "    }\n",
       "\n",
       "    .dataframe tbody tr th {\n",
       "        vertical-align: top;\n",
       "    }\n",
       "\n",
       "    .dataframe thead th {\n",
       "        text-align: right;\n",
       "    }\n",
       "</style>\n",
       "<table border=\"1\" class=\"dataframe\">\n",
       "  <thead>\n",
       "    <tr style=\"text-align: right;\">\n",
       "      <th></th>\n",
       "      <th>GeoName</th>\n",
       "      <th>Unit</th>\n",
       "      <th>2012</th>\n",
       "      <th>2013</th>\n",
       "      <th>2014</th>\n",
       "      <th>2015</th>\n",
       "      <th>2016</th>\n",
       "      <th>2017</th>\n",
       "      <th>2018</th>\n",
       "      <th>2019</th>\n",
       "    </tr>\n",
       "  </thead>\n",
       "  <tbody>\n",
       "    <tr>\n",
       "      <th>2</th>\n",
       "      <td>California</td>\n",
       "      <td>Thousands of dollars</td>\n",
       "      <td>2.113096e+09</td>\n",
       "      <td>2.220390e+09</td>\n",
       "      <td>2.335286e+09</td>\n",
       "      <td>2.473556e+09</td>\n",
       "      <td>2.569634e+09</td>\n",
       "      <td>2.730974e+09</td>\n",
       "      <td>2.895101e+09</td>\n",
       "      <td>3.052645e+09</td>\n",
       "    </tr>\n",
       "    <tr>\n",
       "      <th>5</th>\n",
       "      <td>Alameda</td>\n",
       "      <td>Thousands of dollars</td>\n",
       "      <td>9.574948e+07</td>\n",
       "      <td>1.005214e+08</td>\n",
       "      <td>1.059368e+08</td>\n",
       "      <td>1.157918e+08</td>\n",
       "      <td>1.210535e+08</td>\n",
       "      <td>1.290289e+08</td>\n",
       "      <td>1.361689e+08</td>\n",
       "      <td>1.418886e+08</td>\n",
       "    </tr>\n",
       "    <tr>\n",
       "      <th>8</th>\n",
       "      <td>Alpine</td>\n",
       "      <td>Thousands of dollars</td>\n",
       "      <td>9.529400e+04</td>\n",
       "      <td>9.392700e+04</td>\n",
       "      <td>1.027050e+05</td>\n",
       "      <td>1.085030e+05</td>\n",
       "      <td>1.092630e+05</td>\n",
       "      <td>1.108430e+05</td>\n",
       "      <td>1.140550e+05</td>\n",
       "      <td>1.219480e+05</td>\n",
       "    </tr>\n",
       "    <tr>\n",
       "      <th>11</th>\n",
       "      <td>Amador</td>\n",
       "      <td>Thousands of dollars</td>\n",
       "      <td>1.365613e+06</td>\n",
       "      <td>1.440258e+06</td>\n",
       "      <td>1.488434e+06</td>\n",
       "      <td>1.551133e+06</td>\n",
       "      <td>1.617941e+06</td>\n",
       "      <td>1.732487e+06</td>\n",
       "      <td>1.786296e+06</td>\n",
       "      <td>1.870309e+06</td>\n",
       "    </tr>\n",
       "    <tr>\n",
       "      <th>14</th>\n",
       "      <td>Butte</td>\n",
       "      <td>Thousands of dollars</td>\n",
       "      <td>7.363012e+06</td>\n",
       "      <td>7.602095e+06</td>\n",
       "      <td>7.634930e+06</td>\n",
       "      <td>8.041364e+06</td>\n",
       "      <td>8.649007e+06</td>\n",
       "      <td>9.189787e+06</td>\n",
       "      <td>9.500527e+06</td>\n",
       "      <td>9.893227e+06</td>\n",
       "    </tr>\n",
       "  </tbody>\n",
       "</table>\n",
       "</div>"
      ],
      "text/plain": [
       "       GeoName                  Unit          2012          2013  \\\n",
       "2   California  Thousands of dollars  2.113096e+09  2.220390e+09   \n",
       "5      Alameda  Thousands of dollars  9.574948e+07  1.005214e+08   \n",
       "8       Alpine  Thousands of dollars  9.529400e+04  9.392700e+04   \n",
       "11      Amador  Thousands of dollars  1.365613e+06  1.440258e+06   \n",
       "14       Butte  Thousands of dollars  7.363012e+06  7.602095e+06   \n",
       "\n",
       "            2014          2015          2016          2017          2018  \\\n",
       "2   2.335286e+09  2.473556e+09  2.569634e+09  2.730974e+09  2.895101e+09   \n",
       "5   1.059368e+08  1.157918e+08  1.210535e+08  1.290289e+08  1.361689e+08   \n",
       "8   1.027050e+05  1.085030e+05  1.092630e+05  1.108430e+05  1.140550e+05   \n",
       "11  1.488434e+06  1.551133e+06  1.617941e+06  1.732487e+06  1.786296e+06   \n",
       "14  7.634930e+06  8.041364e+06  8.649007e+06  9.189787e+06  9.500527e+06   \n",
       "\n",
       "            2019  \n",
       "2   3.052645e+09  \n",
       "5   1.418886e+08  \n",
       "8   1.219480e+05  \n",
       "11  1.870309e+06  \n",
       "14  9.893227e+06  "
      ]
     },
     "execution_count": 46,
     "metadata": {},
     "output_type": "execute_result"
    }
   ],
   "source": [
    "df_GDP.head()"
   ]
  },
  {
   "cell_type": "code",
   "execution_count": 47,
   "id": "0bffad52",
   "metadata": {},
   "outputs": [
    {
     "data": {
      "text/html": [
       "<div>\n",
       "<style scoped>\n",
       "    .dataframe tbody tr th:only-of-type {\n",
       "        vertical-align: middle;\n",
       "    }\n",
       "\n",
       "    .dataframe tbody tr th {\n",
       "        vertical-align: top;\n",
       "    }\n",
       "\n",
       "    .dataframe thead th {\n",
       "        text-align: right;\n",
       "    }\n",
       "</style>\n",
       "<table border=\"1\" class=\"dataframe\">\n",
       "  <thead>\n",
       "    <tr style=\"text-align: right;\">\n",
       "      <th></th>\n",
       "      <th>X</th>\n",
       "      <th>Y</th>\n",
       "      <th>OBJECTID</th>\n",
       "      <th>Provider_Name</th>\n",
       "      <th>NPI</th>\n",
       "      <th>CCN</th>\n",
       "      <th>Business_Street_Address</th>\n",
       "      <th>Business_City</th>\n",
       "      <th>Business_County</th>\n",
       "      <th>Business_ZIP_Code</th>\n",
       "      <th>...</th>\n",
       "      <th>Payment_Year_Number</th>\n",
       "      <th>Program_Type</th>\n",
       "      <th>Medicaid_EP_Hospital_Type</th>\n",
       "      <th>total_payments</th>\n",
       "      <th>Last_Payment_Criteria</th>\n",
       "      <th>Recent_Disbursement_Amount</th>\n",
       "      <th>Latitude</th>\n",
       "      <th>Longitude</th>\n",
       "      <th>Last_Program_Year</th>\n",
       "      <th>Last_Payment_Year</th>\n",
       "    </tr>\n",
       "  </thead>\n",
       "  <tbody>\n",
       "    <tr>\n",
       "      <th>0</th>\n",
       "      <td>-124.142009</td>\n",
       "      <td>40.783559</td>\n",
       "      <td>1</td>\n",
       "      <td>ST JOSEPH HEALTH NORTHERN CALIFORNIA LLC</td>\n",
       "      <td>1609858950</td>\n",
       "      <td>50006</td>\n",
       "      <td>2700 Dolbeer St</td>\n",
       "      <td>Eureka</td>\n",
       "      <td>Humboldt</td>\n",
       "      <td>95501</td>\n",
       "      <td>...</td>\n",
       "      <td>4</td>\n",
       "      <td>Medicare/Medicaid</td>\n",
       "      <td>Acute Care Hospitals</td>\n",
       "      <td>1530950.70</td>\n",
       "      <td>MU</td>\n",
       "      <td>153095.07</td>\n",
       "      <td>40.783559</td>\n",
       "      <td>-124.142009</td>\n",
       "      <td>2015</td>\n",
       "      <td>2016</td>\n",
       "    </tr>\n",
       "    <tr>\n",
       "      <th>1</th>\n",
       "      <td>-122.086674</td>\n",
       "      <td>37.632915</td>\n",
       "      <td>2</td>\n",
       "      <td>HAYWARD SISTERS HOSPITAL</td>\n",
       "      <td>1942298153</td>\n",
       "      <td>50002</td>\n",
       "      <td>27200 Calaroga Ave</td>\n",
       "      <td>Hayward</td>\n",
       "      <td>Alameda</td>\n",
       "      <td>94545</td>\n",
       "      <td>...</td>\n",
       "      <td>4</td>\n",
       "      <td>Medicare/Medicaid</td>\n",
       "      <td>Acute Care Hospitals</td>\n",
       "      <td>3245920.28</td>\n",
       "      <td>MU</td>\n",
       "      <td>324592.03</td>\n",
       "      <td>37.632915</td>\n",
       "      <td>-122.086674</td>\n",
       "      <td>2015</td>\n",
       "      <td>2016</td>\n",
       "    </tr>\n",
       "    <tr>\n",
       "      <th>2</th>\n",
       "      <td>-122.295861</td>\n",
       "      <td>38.325402</td>\n",
       "      <td>3</td>\n",
       "      <td>ST JOSEPH HEALTH NORTHERN CALIFORNIA LLC</td>\n",
       "      <td>1235218785</td>\n",
       "      <td>50009</td>\n",
       "      <td>1000 Trancas St</td>\n",
       "      <td>Napa</td>\n",
       "      <td>Napa</td>\n",
       "      <td>94558</td>\n",
       "      <td>...</td>\n",
       "      <td>4</td>\n",
       "      <td>Medicare/Medicaid</td>\n",
       "      <td>Acute Care Hospitals</td>\n",
       "      <td>1262015.89</td>\n",
       "      <td>MU</td>\n",
       "      <td>126201.59</td>\n",
       "      <td>38.325402</td>\n",
       "      <td>-122.295861</td>\n",
       "      <td>2015</td>\n",
       "      <td>2016</td>\n",
       "    </tr>\n",
       "    <tr>\n",
       "      <th>3</th>\n",
       "      <td>-120.766467</td>\n",
       "      <td>38.350920</td>\n",
       "      <td>4</td>\n",
       "      <td>SUTTER VALLEY HOSPITALS</td>\n",
       "      <td>1447494323</td>\n",
       "      <td>50014</td>\n",
       "      <td>200 Mission Blvd</td>\n",
       "      <td>Jackson</td>\n",
       "      <td>Amador</td>\n",
       "      <td>95642</td>\n",
       "      <td>...</td>\n",
       "      <td>4</td>\n",
       "      <td>Medicare/Medicaid</td>\n",
       "      <td>Acute Care Hospitals</td>\n",
       "      <td>865130.13</td>\n",
       "      <td>MU</td>\n",
       "      <td>86513.01</td>\n",
       "      <td>38.350920</td>\n",
       "      <td>-120.766467</td>\n",
       "      <td>2017</td>\n",
       "      <td>2019</td>\n",
       "    </tr>\n",
       "    <tr>\n",
       "      <th>4</th>\n",
       "      <td>-122.435820</td>\n",
       "      <td>37.769049</td>\n",
       "      <td>5</td>\n",
       "      <td>Sutter Bay Hospitals</td>\n",
       "      <td>1659439834</td>\n",
       "      <td>50008</td>\n",
       "      <td>CASTRO AND DUBOCE</td>\n",
       "      <td>San Francisco</td>\n",
       "      <td>San Francisco</td>\n",
       "      <td>94114</td>\n",
       "      <td>...</td>\n",
       "      <td>4</td>\n",
       "      <td>Medicare/Medicaid</td>\n",
       "      <td>Acute Care Hospitals</td>\n",
       "      <td>984465.12</td>\n",
       "      <td>MU</td>\n",
       "      <td>98446.51</td>\n",
       "      <td>37.769049</td>\n",
       "      <td>-122.435820</td>\n",
       "      <td>2016</td>\n",
       "      <td>2019</td>\n",
       "    </tr>\n",
       "  </tbody>\n",
       "</table>\n",
       "<p>5 rows × 21 columns</p>\n",
       "</div>"
      ],
      "text/plain": [
       "            X          Y  OBJECTID                             Provider_Name  \\\n",
       "0 -124.142009  40.783559         1  ST JOSEPH HEALTH NORTHERN CALIFORNIA LLC   \n",
       "1 -122.086674  37.632915         2                  HAYWARD SISTERS HOSPITAL   \n",
       "2 -122.295861  38.325402         3  ST JOSEPH HEALTH NORTHERN CALIFORNIA LLC   \n",
       "3 -120.766467  38.350920         4                   SUTTER VALLEY HOSPITALS   \n",
       "4 -122.435820  37.769049         5                      Sutter Bay Hospitals   \n",
       "\n",
       "          NPI    CCN Business_Street_Address  Business_City Business_County  \\\n",
       "0  1609858950  50006         2700 Dolbeer St         Eureka        Humboldt   \n",
       "1  1942298153  50002      27200 Calaroga Ave        Hayward         Alameda   \n",
       "2  1235218785  50009         1000 Trancas St           Napa            Napa   \n",
       "3  1447494323  50014        200 Mission Blvd        Jackson          Amador   \n",
       "4  1659439834  50008       CASTRO AND DUBOCE  San Francisco   San Francisco   \n",
       "\n",
       "   Business_ZIP_Code  ... Payment_Year_Number       Program_Type  \\\n",
       "0              95501  ...                   4  Medicare/Medicaid   \n",
       "1              94545  ...                   4  Medicare/Medicaid   \n",
       "2              94558  ...                   4  Medicare/Medicaid   \n",
       "3              95642  ...                   4  Medicare/Medicaid   \n",
       "4              94114  ...                   4  Medicare/Medicaid   \n",
       "\n",
       "  Medicaid_EP_Hospital_Type total_payments  Last_Payment_Criteria  \\\n",
       "0      Acute Care Hospitals     1530950.70                     MU   \n",
       "1      Acute Care Hospitals     3245920.28                     MU   \n",
       "2      Acute Care Hospitals     1262015.89                     MU   \n",
       "3      Acute Care Hospitals      865130.13                     MU   \n",
       "4      Acute Care Hospitals      984465.12                     MU   \n",
       "\n",
       "  Recent_Disbursement_Amount   Latitude   Longitude  Last_Program_Year  \\\n",
       "0                  153095.07  40.783559 -124.142009               2015   \n",
       "1                  324592.03  37.632915 -122.086674               2015   \n",
       "2                  126201.59  38.325402 -122.295861               2015   \n",
       "3                   86513.01  38.350920 -120.766467               2017   \n",
       "4                   98446.51  37.769049 -122.435820               2016   \n",
       "\n",
       "   Last_Payment_Year  \n",
       "0               2016  \n",
       "1               2016  \n",
       "2               2016  \n",
       "3               2019  \n",
       "4               2019  \n",
       "\n",
       "[5 rows x 21 columns]"
      ]
     },
     "execution_count": 47,
     "metadata": {},
     "output_type": "execute_result"
    }
   ],
   "source": [
    "# load EHR dataset\n",
    "df_EHR = pd.read_csv('EHR_Incentive_Program_Payments_Hospitals.csv')\n",
    "df_EHR.head()"
   ]
  },
  {
   "cell_type": "code",
   "execution_count": 48,
   "id": "7a6c5c2f",
   "metadata": {},
   "outputs": [
    {
     "name": "stdout",
     "output_type": "stream",
     "text": [
      "<class 'pandas.core.frame.DataFrame'>\n",
      "RangeIndex: 323 entries, 0 to 322\n",
      "Data columns (total 21 columns):\n",
      " #   Column                      Non-Null Count  Dtype  \n",
      "---  ------                      --------------  -----  \n",
      " 0   X                           323 non-null    float64\n",
      " 1   Y                           323 non-null    float64\n",
      " 2   OBJECTID                    323 non-null    int64  \n",
      " 3   Provider_Name               323 non-null    object \n",
      " 4   NPI                         323 non-null    int64  \n",
      " 5   CCN                         323 non-null    int64  \n",
      " 6   Business_Street_Address     323 non-null    object \n",
      " 7   Business_City               323 non-null    object \n",
      " 8   Business_County             323 non-null    object \n",
      " 9   Business_ZIP_Code           323 non-null    int64  \n",
      " 10  Business_State_Territory    323 non-null    object \n",
      " 11  Payment_Year_Number         323 non-null    int64  \n",
      " 12  Program_Type                323 non-null    object \n",
      " 13  Medicaid_EP_Hospital_Type   323 non-null    object \n",
      " 14  total_payments              323 non-null    float64\n",
      " 15  Last_Payment_Criteria       323 non-null    object \n",
      " 16  Recent_Disbursement_Amount  323 non-null    float64\n",
      " 17  Latitude                    323 non-null    float64\n",
      " 18  Longitude                   323 non-null    float64\n",
      " 19  Last_Program_Year           323 non-null    int64  \n",
      " 20  Last_Payment_Year           323 non-null    int64  \n",
      "dtypes: float64(6), int64(7), object(8)\n",
      "memory usage: 53.1+ KB\n"
     ]
    }
   ],
   "source": [
    "df_EHR.info()"
   ]
  },
  {
   "cell_type": "code",
   "execution_count": 49,
   "id": "db88c235",
   "metadata": {},
   "outputs": [
    {
     "data": {
      "text/html": [
       "<div>\n",
       "<style scoped>\n",
       "    .dataframe tbody tr th:only-of-type {\n",
       "        vertical-align: middle;\n",
       "    }\n",
       "\n",
       "    .dataframe tbody tr th {\n",
       "        vertical-align: top;\n",
       "    }\n",
       "\n",
       "    .dataframe thead th {\n",
       "        text-align: right;\n",
       "    }\n",
       "</style>\n",
       "<table border=\"1\" class=\"dataframe\">\n",
       "  <thead>\n",
       "    <tr style=\"text-align: right;\">\n",
       "      <th></th>\n",
       "      <th>X</th>\n",
       "      <th>Y</th>\n",
       "      <th>OBJECTID</th>\n",
       "      <th>NPI</th>\n",
       "      <th>CCN</th>\n",
       "      <th>Business_ZIP_Code</th>\n",
       "      <th>Payment_Year_Number</th>\n",
       "      <th>total_payments</th>\n",
       "      <th>Recent_Disbursement_Amount</th>\n",
       "      <th>Latitude</th>\n",
       "      <th>Longitude</th>\n",
       "      <th>Last_Program_Year</th>\n",
       "      <th>Last_Payment_Year</th>\n",
       "    </tr>\n",
       "  </thead>\n",
       "  <tbody>\n",
       "    <tr>\n",
       "      <th>count</th>\n",
       "      <td>323.000000</td>\n",
       "      <td>323.000000</td>\n",
       "      <td>323.000000</td>\n",
       "      <td>3.230000e+02</td>\n",
       "      <td>323.000000</td>\n",
       "      <td>323.000000</td>\n",
       "      <td>323.000000</td>\n",
       "      <td>3.230000e+02</td>\n",
       "      <td>3.230000e+02</td>\n",
       "      <td>323.000000</td>\n",
       "      <td>323.000000</td>\n",
       "      <td>323.000000</td>\n",
       "      <td>323.000000</td>\n",
       "    </tr>\n",
       "    <tr>\n",
       "      <th>mean</th>\n",
       "      <td>-119.691346</td>\n",
       "      <td>35.925302</td>\n",
       "      <td>162.000000</td>\n",
       "      <td>1.485262e+09</td>\n",
       "      <td>50544.764706</td>\n",
       "      <td>93182.696594</td>\n",
       "      <td>3.647059</td>\n",
       "      <td>2.454706e+06</td>\n",
       "      <td>3.283814e+05</td>\n",
       "      <td>35.925302</td>\n",
       "      <td>-119.691346</td>\n",
       "      <td>2015.411765</td>\n",
       "      <td>2017.306502</td>\n",
       "    </tr>\n",
       "    <tr>\n",
       "      <th>std</th>\n",
       "      <td>2.138093</td>\n",
       "      <td>2.258944</td>\n",
       "      <td>93.386294</td>\n",
       "      <td>2.836453e+08</td>\n",
       "      <td>630.602606</td>\n",
       "      <td>1807.988158</td>\n",
       "      <td>0.791580</td>\n",
       "      <td>2.315617e+06</td>\n",
       "      <td>6.346466e+05</td>\n",
       "      <td>2.258944</td>\n",
       "      <td>2.138093</td>\n",
       "      <td>1.662740</td>\n",
       "      <td>2.239299</td>\n",
       "    </tr>\n",
       "    <tr>\n",
       "      <th>min</th>\n",
       "      <td>-124.193188</td>\n",
       "      <td>32.618573</td>\n",
       "      <td>1.000000</td>\n",
       "      <td>1.003819e+09</td>\n",
       "      <td>50002.000000</td>\n",
       "      <td>90004.000000</td>\n",
       "      <td>1.000000</td>\n",
       "      <td>7.565500e+03</td>\n",
       "      <td>7.565500e+02</td>\n",
       "      <td>32.618573</td>\n",
       "      <td>-124.193188</td>\n",
       "      <td>2011.000000</td>\n",
       "      <td>2012.000000</td>\n",
       "    </tr>\n",
       "    <tr>\n",
       "      <th>25%</th>\n",
       "      <td>-121.942473</td>\n",
       "      <td>33.982795</td>\n",
       "      <td>81.500000</td>\n",
       "      <td>1.235142e+09</td>\n",
       "      <td>50151.000000</td>\n",
       "      <td>91793.500000</td>\n",
       "      <td>4.000000</td>\n",
       "      <td>8.510842e+05</td>\n",
       "      <td>1.001754e+05</td>\n",
       "      <td>33.982795</td>\n",
       "      <td>-121.942473</td>\n",
       "      <td>2014.000000</td>\n",
       "      <td>2015.000000</td>\n",
       "    </tr>\n",
       "    <tr>\n",
       "      <th>50%</th>\n",
       "      <td>-118.882161</td>\n",
       "      <td>35.130053</td>\n",
       "      <td>162.000000</td>\n",
       "      <td>1.467539e+09</td>\n",
       "      <td>50380.000000</td>\n",
       "      <td>93230.000000</td>\n",
       "      <td>4.000000</td>\n",
       "      <td>1.573884e+06</td>\n",
       "      <td>2.156268e+05</td>\n",
       "      <td>35.130053</td>\n",
       "      <td>-118.882161</td>\n",
       "      <td>2015.000000</td>\n",
       "      <td>2018.000000</td>\n",
       "    </tr>\n",
       "    <tr>\n",
       "      <th>75%</th>\n",
       "      <td>-117.986769</td>\n",
       "      <td>37.776715</td>\n",
       "      <td>242.500000</td>\n",
       "      <td>1.740314e+09</td>\n",
       "      <td>50687.000000</td>\n",
       "      <td>94593.500000</td>\n",
       "      <td>4.000000</td>\n",
       "      <td>3.311855e+06</td>\n",
       "      <td>3.854408e+05</td>\n",
       "      <td>37.776715</td>\n",
       "      <td>-117.986769</td>\n",
       "      <td>2016.000000</td>\n",
       "      <td>2019.000000</td>\n",
       "    </tr>\n",
       "    <tr>\n",
       "      <th>max</th>\n",
       "      <td>-114.595504</td>\n",
       "      <td>41.772717</td>\n",
       "      <td>323.000000</td>\n",
       "      <td>1.992899e+09</td>\n",
       "      <td>53311.000000</td>\n",
       "      <td>96161.000000</td>\n",
       "      <td>4.000000</td>\n",
       "      <td>1.252723e+07</td>\n",
       "      <td>1.032557e+07</td>\n",
       "      <td>41.772717</td>\n",
       "      <td>-114.595504</td>\n",
       "      <td>2019.000000</td>\n",
       "      <td>2020.000000</td>\n",
       "    </tr>\n",
       "  </tbody>\n",
       "</table>\n",
       "</div>"
      ],
      "text/plain": [
       "                X           Y    OBJECTID           NPI           CCN  \\\n",
       "count  323.000000  323.000000  323.000000  3.230000e+02    323.000000   \n",
       "mean  -119.691346   35.925302  162.000000  1.485262e+09  50544.764706   \n",
       "std      2.138093    2.258944   93.386294  2.836453e+08    630.602606   \n",
       "min   -124.193188   32.618573    1.000000  1.003819e+09  50002.000000   \n",
       "25%   -121.942473   33.982795   81.500000  1.235142e+09  50151.000000   \n",
       "50%   -118.882161   35.130053  162.000000  1.467539e+09  50380.000000   \n",
       "75%   -117.986769   37.776715  242.500000  1.740314e+09  50687.000000   \n",
       "max   -114.595504   41.772717  323.000000  1.992899e+09  53311.000000   \n",
       "\n",
       "       Business_ZIP_Code  Payment_Year_Number  total_payments  \\\n",
       "count         323.000000           323.000000    3.230000e+02   \n",
       "mean        93182.696594             3.647059    2.454706e+06   \n",
       "std          1807.988158             0.791580    2.315617e+06   \n",
       "min         90004.000000             1.000000    7.565500e+03   \n",
       "25%         91793.500000             4.000000    8.510842e+05   \n",
       "50%         93230.000000             4.000000    1.573884e+06   \n",
       "75%         94593.500000             4.000000    3.311855e+06   \n",
       "max         96161.000000             4.000000    1.252723e+07   \n",
       "\n",
       "       Recent_Disbursement_Amount    Latitude   Longitude  Last_Program_Year  \\\n",
       "count                3.230000e+02  323.000000  323.000000         323.000000   \n",
       "mean                 3.283814e+05   35.925302 -119.691346        2015.411765   \n",
       "std                  6.346466e+05    2.258944    2.138093           1.662740   \n",
       "min                  7.565500e+02   32.618573 -124.193188        2011.000000   \n",
       "25%                  1.001754e+05   33.982795 -121.942473        2014.000000   \n",
       "50%                  2.156268e+05   35.130053 -118.882161        2015.000000   \n",
       "75%                  3.854408e+05   37.776715 -117.986769        2016.000000   \n",
       "max                  1.032557e+07   41.772717 -114.595504        2019.000000   \n",
       "\n",
       "       Last_Payment_Year  \n",
       "count         323.000000  \n",
       "mean         2017.306502  \n",
       "std             2.239299  \n",
       "min          2012.000000  \n",
       "25%          2015.000000  \n",
       "50%          2018.000000  \n",
       "75%          2019.000000  \n",
       "max          2020.000000  "
      ]
     },
     "execution_count": 49,
     "metadata": {},
     "output_type": "execute_result"
    }
   ],
   "source": [
    "df_EHR.describe()"
   ]
  },
  {
   "cell_type": "code",
   "execution_count": 50,
   "id": "2f139612",
   "metadata": {},
   "outputs": [
    {
     "data": {
      "text/html": [
       "<div>\n",
       "<style scoped>\n",
       "    .dataframe tbody tr th:only-of-type {\n",
       "        vertical-align: middle;\n",
       "    }\n",
       "\n",
       "    .dataframe tbody tr th {\n",
       "        vertical-align: top;\n",
       "    }\n",
       "\n",
       "    .dataframe thead th {\n",
       "        text-align: right;\n",
       "    }\n",
       "</style>\n",
       "<table border=\"1\" class=\"dataframe\">\n",
       "  <thead>\n",
       "    <tr style=\"text-align: right;\">\n",
       "      <th></th>\n",
       "      <th>Business_County</th>\n",
       "      <th>total_payments</th>\n",
       "      <th>Last_Payment_Year</th>\n",
       "    </tr>\n",
       "  </thead>\n",
       "  <tbody>\n",
       "    <tr>\n",
       "      <th>0</th>\n",
       "      <td>Humboldt</td>\n",
       "      <td>1530950.70</td>\n",
       "      <td>2016</td>\n",
       "    </tr>\n",
       "    <tr>\n",
       "      <th>1</th>\n",
       "      <td>Alameda</td>\n",
       "      <td>3245920.28</td>\n",
       "      <td>2016</td>\n",
       "    </tr>\n",
       "    <tr>\n",
       "      <th>2</th>\n",
       "      <td>Napa</td>\n",
       "      <td>1262015.89</td>\n",
       "      <td>2016</td>\n",
       "    </tr>\n",
       "    <tr>\n",
       "      <th>3</th>\n",
       "      <td>Amador</td>\n",
       "      <td>865130.13</td>\n",
       "      <td>2019</td>\n",
       "    </tr>\n",
       "    <tr>\n",
       "      <th>4</th>\n",
       "      <td>San Francisco</td>\n",
       "      <td>984465.12</td>\n",
       "      <td>2019</td>\n",
       "    </tr>\n",
       "  </tbody>\n",
       "</table>\n",
       "</div>"
      ],
      "text/plain": [
       "  Business_County  total_payments  Last_Payment_Year\n",
       "0        Humboldt      1530950.70               2016\n",
       "1         Alameda      3245920.28               2016\n",
       "2            Napa      1262015.89               2016\n",
       "3          Amador       865130.13               2019\n",
       "4   San Francisco       984465.12               2019"
      ]
     },
     "execution_count": 50,
     "metadata": {},
     "output_type": "execute_result"
    }
   ],
   "source": [
    "# clean the noisy data\n",
    "df_EHR = df_EHR.drop(df_EHR.columns[0:7], axis=1)\n",
    "df_EHR = df_EHR.drop(df_EHR.columns[[0,2,3,4,5,6,8,9,10,11,12]], axis=1)\n",
    "#df_EHR = df_EHR.drop(['Payment__1','Payment_Cr','Payee_Name','Payee_NPI','total_rece','Latitude','Longitude','Program_Ye'],axis=1)\n",
    "df_EHR = df_EHR.dropna()\n",
    "df_EHR.head()"
   ]
  },
  {
   "cell_type": "code",
   "execution_count": 51,
   "id": "6619bf93",
   "metadata": {},
   "outputs": [
    {
     "data": {
      "text/html": [
       "<div>\n",
       "<style scoped>\n",
       "    .dataframe tbody tr th:only-of-type {\n",
       "        vertical-align: middle;\n",
       "    }\n",
       "\n",
       "    .dataframe tbody tr th {\n",
       "        vertical-align: top;\n",
       "    }\n",
       "\n",
       "    .dataframe thead th {\n",
       "        text-align: right;\n",
       "    }\n",
       "</style>\n",
       "<table border=\"1\" class=\"dataframe\">\n",
       "  <thead>\n",
       "    <tr style=\"text-align: right;\">\n",
       "      <th></th>\n",
       "      <th>County</th>\n",
       "      <th>EHR Total Payment</th>\n",
       "      <th>Payment_Ye</th>\n",
       "    </tr>\n",
       "  </thead>\n",
       "  <tbody>\n",
       "    <tr>\n",
       "      <th>0</th>\n",
       "      <td>Humboldt</td>\n",
       "      <td>1530950.70</td>\n",
       "      <td>2016</td>\n",
       "    </tr>\n",
       "    <tr>\n",
       "      <th>1</th>\n",
       "      <td>Alameda</td>\n",
       "      <td>3245920.28</td>\n",
       "      <td>2016</td>\n",
       "    </tr>\n",
       "    <tr>\n",
       "      <th>2</th>\n",
       "      <td>Napa</td>\n",
       "      <td>1262015.89</td>\n",
       "      <td>2016</td>\n",
       "    </tr>\n",
       "    <tr>\n",
       "      <th>3</th>\n",
       "      <td>Amador</td>\n",
       "      <td>865130.13</td>\n",
       "      <td>2019</td>\n",
       "    </tr>\n",
       "    <tr>\n",
       "      <th>4</th>\n",
       "      <td>San Francisco</td>\n",
       "      <td>984465.12</td>\n",
       "      <td>2019</td>\n",
       "    </tr>\n",
       "  </tbody>\n",
       "</table>\n",
       "</div>"
      ],
      "text/plain": [
       "          County  EHR Total Payment  Payment_Ye\n",
       "0       Humboldt         1530950.70        2016\n",
       "1        Alameda         3245920.28        2016\n",
       "2           Napa         1262015.89        2016\n",
       "3         Amador          865130.13        2019\n",
       "4  San Francisco          984465.12        2019"
      ]
     },
     "execution_count": 51,
     "metadata": {},
     "output_type": "execute_result"
    }
   ],
   "source": [
    "df_EHR = df_EHR.rename({'Business_County':'County','Last_Payment_Year': 'Payment_Ye', 'total_payments': 'EHR Total Payment'}, axis=1) \n",
    "df_EHR.head()"
   ]
  },
  {
   "cell_type": "code",
   "execution_count": 52,
   "id": "332c0f55",
   "metadata": {},
   "outputs": [],
   "source": [
    "df_EHR['Payment_Ye'] = df_EHR['Payment_Ye'].apply(lambda x: str(x))"
   ]
  },
  {
   "cell_type": "code",
   "execution_count": 53,
   "id": "c9a527c2",
   "metadata": {},
   "outputs": [
    {
     "data": {
      "text/html": [
       "<div>\n",
       "<style scoped>\n",
       "    .dataframe tbody tr th:only-of-type {\n",
       "        vertical-align: middle;\n",
       "    }\n",
       "\n",
       "    .dataframe tbody tr th {\n",
       "        vertical-align: top;\n",
       "    }\n",
       "\n",
       "    .dataframe thead th {\n",
       "        text-align: right;\n",
       "    }\n",
       "</style>\n",
       "<table border=\"1\" class=\"dataframe\">\n",
       "  <thead>\n",
       "    <tr style=\"text-align: right;\">\n",
       "      <th></th>\n",
       "      <th>Taxable Year</th>\n",
       "      <th>County</th>\n",
       "      <th>Population</th>\n",
       "      <th>All Returns</th>\n",
       "      <th>AGI</th>\n",
       "      <th>Median Income</th>\n",
       "      <th>Median Rank</th>\n",
       "      <th>Joint Returns</th>\n",
       "      <th>Joint Returns Median Income</th>\n",
       "      <th>Joint Returns Median Rank</th>\n",
       "      <th>Tax Assessed</th>\n",
       "      <th>Latitude</th>\n",
       "      <th>Longitude</th>\n",
       "      <th>New Georeferenced Column</th>\n",
       "    </tr>\n",
       "  </thead>\n",
       "  <tbody>\n",
       "    <tr>\n",
       "      <th>0</th>\n",
       "      <td>2017</td>\n",
       "      <td>Nonresident</td>\n",
       "      <td>NaN</td>\n",
       "      <td>756843</td>\n",
       "      <td>32798066000</td>\n",
       "      <td>14600</td>\n",
       "      <td>NaN</td>\n",
       "      <td>371420</td>\n",
       "      <td>20592</td>\n",
       "      <td>NaN</td>\n",
       "      <td>3713047000</td>\n",
       "      <td>0.000000</td>\n",
       "      <td>0.00000</td>\n",
       "      <td>POINT (0 0)</td>\n",
       "    </tr>\n",
       "    <tr>\n",
       "      <th>1</th>\n",
       "      <td>2012</td>\n",
       "      <td>Unallocated</td>\n",
       "      <td>0.0</td>\n",
       "      <td>2885</td>\n",
       "      <td>580682000</td>\n",
       "      <td>51249</td>\n",
       "      <td>0.0</td>\n",
       "      <td>1194</td>\n",
       "      <td>127511</td>\n",
       "      <td>0.0</td>\n",
       "      <td>19336000</td>\n",
       "      <td>0.000000</td>\n",
       "      <td>0.00000</td>\n",
       "      <td>POINT (0 0)</td>\n",
       "    </tr>\n",
       "    <tr>\n",
       "      <th>2</th>\n",
       "      <td>2010</td>\n",
       "      <td>Unallocated</td>\n",
       "      <td>0.0</td>\n",
       "      <td>2880</td>\n",
       "      <td>287037000</td>\n",
       "      <td>36227</td>\n",
       "      <td>0.0</td>\n",
       "      <td>1041</td>\n",
       "      <td>86697</td>\n",
       "      <td>0.0</td>\n",
       "      <td>12616000</td>\n",
       "      <td>0.000000</td>\n",
       "      <td>0.00000</td>\n",
       "      <td>POINT (0 0)</td>\n",
       "    </tr>\n",
       "    <tr>\n",
       "      <th>3</th>\n",
       "      <td>2006</td>\n",
       "      <td>Unallocated</td>\n",
       "      <td>0.0</td>\n",
       "      <td>3710</td>\n",
       "      <td>392781000</td>\n",
       "      <td>31384</td>\n",
       "      <td>0.0</td>\n",
       "      <td>1260</td>\n",
       "      <td>70468</td>\n",
       "      <td>0.0</td>\n",
       "      <td>14728000</td>\n",
       "      <td>0.000000</td>\n",
       "      <td>0.00000</td>\n",
       "      <td>POINT (0 0)</td>\n",
       "    </tr>\n",
       "    <tr>\n",
       "      <th>4</th>\n",
       "      <td>1995</td>\n",
       "      <td>Ventura</td>\n",
       "      <td>712700.0</td>\n",
       "      <td>281369</td>\n",
       "      <td>11450530000</td>\n",
       "      <td>26210</td>\n",
       "      <td>10.0</td>\n",
       "      <td>133610</td>\n",
       "      <td>47458</td>\n",
       "      <td>9.0</td>\n",
       "      <td>414669000</td>\n",
       "      <td>34.277091</td>\n",
       "      <td>-119.21785</td>\n",
       "      <td>POINT (-119.2178496 34.27709072)</td>\n",
       "    </tr>\n",
       "  </tbody>\n",
       "</table>\n",
       "</div>"
      ],
      "text/plain": [
       "   Taxable Year       County  Population  All Returns          AGI  \\\n",
       "0          2017  Nonresident         NaN       756843  32798066000   \n",
       "1          2012  Unallocated         0.0         2885    580682000   \n",
       "2          2010  Unallocated         0.0         2880    287037000   \n",
       "3          2006  Unallocated         0.0         3710    392781000   \n",
       "4          1995      Ventura    712700.0       281369  11450530000   \n",
       "\n",
       "   Median Income  Median Rank  Joint Returns  Joint Returns Median Income  \\\n",
       "0          14600          NaN         371420                        20592   \n",
       "1          51249          0.0           1194                       127511   \n",
       "2          36227          0.0           1041                        86697   \n",
       "3          31384          0.0           1260                        70468   \n",
       "4          26210         10.0         133610                        47458   \n",
       "\n",
       "   Joint Returns Median Rank  Tax Assessed   Latitude  Longitude  \\\n",
       "0                        NaN    3713047000   0.000000    0.00000   \n",
       "1                        0.0      19336000   0.000000    0.00000   \n",
       "2                        0.0      12616000   0.000000    0.00000   \n",
       "3                        0.0      14728000   0.000000    0.00000   \n",
       "4                        9.0     414669000  34.277091 -119.21785   \n",
       "\n",
       "           New Georeferenced Column  \n",
       "0                       POINT (0 0)  \n",
       "1                       POINT (0 0)  \n",
       "2                       POINT (0 0)  \n",
       "3                       POINT (0 0)  \n",
       "4  POINT (-119.2178496 34.27709072)  "
      ]
     },
     "execution_count": 53,
     "metadata": {},
     "output_type": "execute_result"
    }
   ],
   "source": [
    "# load median income dataset\n",
    "df_income = pd.read_excel('B-6__Comparison_By_County.xlsx')\n",
    "df_income.head()"
   ]
  },
  {
   "cell_type": "code",
   "execution_count": 54,
   "id": "dc5d87ef",
   "metadata": {},
   "outputs": [
    {
     "name": "stdout",
     "output_type": "stream",
     "text": [
      "<class 'pandas.core.frame.DataFrame'>\n",
      "RangeIndex: 1525 entries, 0 to 1524\n",
      "Data columns (total 14 columns):\n",
      " #   Column                       Non-Null Count  Dtype  \n",
      "---  ------                       --------------  -----  \n",
      " 0   Taxable Year                 1525 non-null   int64  \n",
      " 1   County                       1525 non-null   object \n",
      " 2   Population                   1516 non-null   float64\n",
      " 3   All Returns                  1525 non-null   int64  \n",
      " 4   AGI                          1525 non-null   int64  \n",
      " 5   Median Income                1525 non-null   int64  \n",
      " 6   Median Rank                  1516 non-null   float64\n",
      " 7   Joint Returns                1525 non-null   int64  \n",
      " 8   Joint Returns Median Income  1525 non-null   int64  \n",
      " 9   Joint Returns Median Rank    1516 non-null   float64\n",
      " 10  Tax Assessed                 1525 non-null   int64  \n",
      " 11  Latitude                     1525 non-null   float64\n",
      " 12  Longitude                    1525 non-null   float64\n",
      " 13  New Georeferenced Column     1525 non-null   object \n",
      "dtypes: float64(5), int64(7), object(2)\n",
      "memory usage: 166.9+ KB\n"
     ]
    }
   ],
   "source": [
    "df_income.info()"
   ]
  },
  {
   "cell_type": "code",
   "execution_count": 55,
   "id": "a19c2b6b",
   "metadata": {},
   "outputs": [
    {
     "data": {
      "text/html": [
       "<div>\n",
       "<style scoped>\n",
       "    .dataframe tbody tr th:only-of-type {\n",
       "        vertical-align: middle;\n",
       "    }\n",
       "\n",
       "    .dataframe tbody tr th {\n",
       "        vertical-align: top;\n",
       "    }\n",
       "\n",
       "    .dataframe thead th {\n",
       "        text-align: right;\n",
       "    }\n",
       "</style>\n",
       "<table border=\"1\" class=\"dataframe\">\n",
       "  <thead>\n",
       "    <tr style=\"text-align: right;\">\n",
       "      <th></th>\n",
       "      <th>Taxable Year</th>\n",
       "      <th>Population</th>\n",
       "      <th>All Returns</th>\n",
       "      <th>AGI</th>\n",
       "      <th>Median Income</th>\n",
       "      <th>Median Rank</th>\n",
       "      <th>Joint Returns</th>\n",
       "      <th>Joint Returns Median Income</th>\n",
       "      <th>Joint Returns Median Rank</th>\n",
       "      <th>Tax Assessed</th>\n",
       "      <th>Latitude</th>\n",
       "      <th>Longitude</th>\n",
       "    </tr>\n",
       "  </thead>\n",
       "  <tbody>\n",
       "    <tr>\n",
       "      <th>count</th>\n",
       "      <td>1525.000000</td>\n",
       "      <td>1.516000e+03</td>\n",
       "      <td>1.525000e+03</td>\n",
       "      <td>1.525000e+03</td>\n",
       "      <td>1525.000000</td>\n",
       "      <td>1516.000000</td>\n",
       "      <td>1.525000e+03</td>\n",
       "      <td>1525.00000</td>\n",
       "      <td>1516.000000</td>\n",
       "      <td>1.525000e+03</td>\n",
       "      <td>1525.000000</td>\n",
       "      <td>1525.000000</td>\n",
       "    </tr>\n",
       "    <tr>\n",
       "      <th>mean</th>\n",
       "      <td>2007.000000</td>\n",
       "      <td>6.054195e+05</td>\n",
       "      <td>2.518661e+05</td>\n",
       "      <td>1.854484e+10</td>\n",
       "      <td>33192.744262</td>\n",
       "      <td>28.215699</td>\n",
       "      <td>9.804150e+04</td>\n",
       "      <td>60750.32918</td>\n",
       "      <td>28.215699</td>\n",
       "      <td>8.113302e+08</td>\n",
       "      <td>35.958091</td>\n",
       "      <td>-114.839606</td>\n",
       "    </tr>\n",
       "    <tr>\n",
       "      <th>std</th>\n",
       "      <td>7.213468</td>\n",
       "      <td>1.394779e+06</td>\n",
       "      <td>5.528343e+05</td>\n",
       "      <td>4.269146e+10</td>\n",
       "      <td>9011.930707</td>\n",
       "      <td>17.449568</td>\n",
       "      <td>1.930520e+05</td>\n",
       "      <td>21335.52830</td>\n",
       "      <td>17.449568</td>\n",
       "      <td>1.989108e+09</td>\n",
       "      <td>8.447037</td>\n",
       "      <td>26.197287</td>\n",
       "    </tr>\n",
       "    <tr>\n",
       "      <th>min</th>\n",
       "      <td>1995.000000</td>\n",
       "      <td>0.000000e+00</td>\n",
       "      <td>2.770000e+02</td>\n",
       "      <td>9.078000e+06</td>\n",
       "      <td>14567.000000</td>\n",
       "      <td>0.000000</td>\n",
       "      <td>1.050000e+02</td>\n",
       "      <td>19743.00000</td>\n",
       "      <td>0.000000</td>\n",
       "      <td>2.500000e+05</td>\n",
       "      <td>0.000000</td>\n",
       "      <td>-123.892004</td>\n",
       "    </tr>\n",
       "    <tr>\n",
       "      <th>25%</th>\n",
       "      <td>2001.000000</td>\n",
       "      <td>3.713200e+04</td>\n",
       "      <td>1.736300e+04</td>\n",
       "      <td>7.245640e+08</td>\n",
       "      <td>27317.000000</td>\n",
       "      <td>13.000000</td>\n",
       "      <td>8.477000e+03</td>\n",
       "      <td>46568.00000</td>\n",
       "      <td>13.000000</td>\n",
       "      <td>2.136200e+07</td>\n",
       "      <td>36.324707</td>\n",
       "      <td>-122.078097</td>\n",
       "    </tr>\n",
       "    <tr>\n",
       "      <th>50%</th>\n",
       "      <td>2007.000000</td>\n",
       "      <td>1.584055e+05</td>\n",
       "      <td>6.792300e+04</td>\n",
       "      <td>3.340652e+09</td>\n",
       "      <td>31725.000000</td>\n",
       "      <td>28.000000</td>\n",
       "      <td>3.164000e+04</td>\n",
       "      <td>56254.00000</td>\n",
       "      <td>28.000000</td>\n",
       "      <td>1.127690e+08</td>\n",
       "      <td>37.988180</td>\n",
       "      <td>-120.943072</td>\n",
       "    </tr>\n",
       "    <tr>\n",
       "      <th>75%</th>\n",
       "      <td>2013.000000</td>\n",
       "      <td>5.321470e+05</td>\n",
       "      <td>2.348310e+05</td>\n",
       "      <td>1.480678e+10</td>\n",
       "      <td>37345.000000</td>\n",
       "      <td>43.000000</td>\n",
       "      <td>1.002580e+05</td>\n",
       "      <td>69374.00000</td>\n",
       "      <td>43.000000</td>\n",
       "      <td>6.101010e+08</td>\n",
       "      <td>39.167981</td>\n",
       "      <td>-119.698820</td>\n",
       "    </tr>\n",
       "    <tr>\n",
       "      <th>max</th>\n",
       "      <td>2019.000000</td>\n",
       "      <td>1.039941e+07</td>\n",
       "      <td>4.653590e+06</td>\n",
       "      <td>3.996088e+11</td>\n",
       "      <td>74077.000000</td>\n",
       "      <td>58.000000</td>\n",
       "      <td>1.370633e+06</td>\n",
       "      <td>178755.00000</td>\n",
       "      <td>58.000000</td>\n",
       "      <td>2.114381e+10</td>\n",
       "      <td>41.713682</td>\n",
       "      <td>0.000000</td>\n",
       "    </tr>\n",
       "  </tbody>\n",
       "</table>\n",
       "</div>"
      ],
      "text/plain": [
       "       Taxable Year    Population   All Returns           AGI  Median Income  \\\n",
       "count   1525.000000  1.516000e+03  1.525000e+03  1.525000e+03    1525.000000   \n",
       "mean    2007.000000  6.054195e+05  2.518661e+05  1.854484e+10   33192.744262   \n",
       "std        7.213468  1.394779e+06  5.528343e+05  4.269146e+10    9011.930707   \n",
       "min     1995.000000  0.000000e+00  2.770000e+02  9.078000e+06   14567.000000   \n",
       "25%     2001.000000  3.713200e+04  1.736300e+04  7.245640e+08   27317.000000   \n",
       "50%     2007.000000  1.584055e+05  6.792300e+04  3.340652e+09   31725.000000   \n",
       "75%     2013.000000  5.321470e+05  2.348310e+05  1.480678e+10   37345.000000   \n",
       "max     2019.000000  1.039941e+07  4.653590e+06  3.996088e+11   74077.000000   \n",
       "\n",
       "       Median Rank  Joint Returns  Joint Returns Median Income  \\\n",
       "count  1516.000000   1.525000e+03                   1525.00000   \n",
       "mean     28.215699   9.804150e+04                  60750.32918   \n",
       "std      17.449568   1.930520e+05                  21335.52830   \n",
       "min       0.000000   1.050000e+02                  19743.00000   \n",
       "25%      13.000000   8.477000e+03                  46568.00000   \n",
       "50%      28.000000   3.164000e+04                  56254.00000   \n",
       "75%      43.000000   1.002580e+05                  69374.00000   \n",
       "max      58.000000   1.370633e+06                 178755.00000   \n",
       "\n",
       "       Joint Returns Median Rank  Tax Assessed     Latitude    Longitude  \n",
       "count                1516.000000  1.525000e+03  1525.000000  1525.000000  \n",
       "mean                   28.215699  8.113302e+08    35.958091  -114.839606  \n",
       "std                    17.449568  1.989108e+09     8.447037    26.197287  \n",
       "min                     0.000000  2.500000e+05     0.000000  -123.892004  \n",
       "25%                    13.000000  2.136200e+07    36.324707  -122.078097  \n",
       "50%                    28.000000  1.127690e+08    37.988180  -120.943072  \n",
       "75%                    43.000000  6.101010e+08    39.167981  -119.698820  \n",
       "max                    58.000000  2.114381e+10    41.713682     0.000000  "
      ]
     },
     "execution_count": 55,
     "metadata": {},
     "output_type": "execute_result"
    }
   ],
   "source": [
    "df_income.describe()"
   ]
  },
  {
   "cell_type": "code",
   "execution_count": 56,
   "id": "c39259f3",
   "metadata": {},
   "outputs": [
    {
     "data": {
      "text/plain": [
       "array([2017, 2012, 2019, 2015, 2013, 2016, 2018, 2014])"
      ]
     },
     "execution_count": 56,
     "metadata": {},
     "output_type": "execute_result"
    }
   ],
   "source": [
    "# clean the noisy data\n",
    "df_income = df_income[(df_income[\"Taxable Year\"]>=2012) & (df_income[\"Taxable Year\"]<=2019)]\n",
    "df_income[\"Taxable Year\"].unique()"
   ]
  },
  {
   "cell_type": "code",
   "execution_count": 57,
   "id": "00afa28d",
   "metadata": {
    "scrolled": true
   },
   "outputs": [
    {
     "data": {
      "text/html": [
       "<div>\n",
       "<style scoped>\n",
       "    .dataframe tbody tr th:only-of-type {\n",
       "        vertical-align: middle;\n",
       "    }\n",
       "\n",
       "    .dataframe tbody tr th {\n",
       "        vertical-align: top;\n",
       "    }\n",
       "\n",
       "    .dataframe thead th {\n",
       "        text-align: right;\n",
       "    }\n",
       "</style>\n",
       "<table border=\"1\" class=\"dataframe\">\n",
       "  <thead>\n",
       "    <tr style=\"text-align: right;\">\n",
       "      <th></th>\n",
       "      <th>Taxable Year</th>\n",
       "      <th>County</th>\n",
       "      <th>Population</th>\n",
       "      <th>Median Income</th>\n",
       "    </tr>\n",
       "  </thead>\n",
       "  <tbody>\n",
       "    <tr>\n",
       "      <th>0</th>\n",
       "      <td>2017</td>\n",
       "      <td>Nonresident</td>\n",
       "      <td>NaN</td>\n",
       "      <td>14600</td>\n",
       "    </tr>\n",
       "    <tr>\n",
       "      <th>1</th>\n",
       "      <td>2012</td>\n",
       "      <td>Unallocated</td>\n",
       "      <td>0.0</td>\n",
       "      <td>51249</td>\n",
       "    </tr>\n",
       "    <tr>\n",
       "      <th>8</th>\n",
       "      <td>2019</td>\n",
       "      <td>San Benito</td>\n",
       "      <td>62789.0</td>\n",
       "      <td>47341</td>\n",
       "    </tr>\n",
       "    <tr>\n",
       "      <th>12</th>\n",
       "      <td>2017</td>\n",
       "      <td>Shasta</td>\n",
       "      <td>178240.0</td>\n",
       "      <td>35365</td>\n",
       "    </tr>\n",
       "    <tr>\n",
       "      <th>14</th>\n",
       "      <td>2015</td>\n",
       "      <td>Los Angeles</td>\n",
       "      <td>10185487.0</td>\n",
       "      <td>33369</td>\n",
       "    </tr>\n",
       "  </tbody>\n",
       "</table>\n",
       "</div>"
      ],
      "text/plain": [
       "   Taxable Year       County  Population  Median Income\n",
       "0          2017  Nonresident         NaN          14600\n",
       "1          2012  Unallocated         0.0          51249\n",
       "8          2019   San Benito     62789.0          47341\n",
       "12         2017       Shasta    178240.0          35365\n",
       "14         2015  Los Angeles  10185487.0          33369"
      ]
     },
     "execution_count": 57,
     "metadata": {},
     "output_type": "execute_result"
    }
   ],
   "source": [
    "df_income['Taxable Year'] = df_income['Taxable Year'].apply(lambda x: str(x))\n",
    "df_income = df_income.drop(df_income.columns[[3,4,6,7,8,9,10,11,12,13]], axis=1)\n",
    "df_income.head()"
   ]
  },
  {
   "cell_type": "markdown",
   "id": "436368e3",
   "metadata": {},
   "source": [
    "# Aggregate the datasets"
   ]
  },
  {
   "cell_type": "code",
   "execution_count": 58,
   "id": "876d6a58",
   "metadata": {},
   "outputs": [
    {
     "data": {
      "text/html": [
       "<div>\n",
       "<style scoped>\n",
       "    .dataframe tbody tr th:only-of-type {\n",
       "        vertical-align: middle;\n",
       "    }\n",
       "\n",
       "    .dataframe tbody tr th {\n",
       "        vertical-align: top;\n",
       "    }\n",
       "\n",
       "    .dataframe thead th {\n",
       "        text-align: right;\n",
       "    }\n",
       "</style>\n",
       "<table border=\"1\" class=\"dataframe\">\n",
       "  <thead>\n",
       "    <tr style=\"text-align: right;\">\n",
       "      <th></th>\n",
       "      <th>GeoName</th>\n",
       "      <th>Unit</th>\n",
       "      <th>2012</th>\n",
       "      <th>2013</th>\n",
       "      <th>2014</th>\n",
       "      <th>2015</th>\n",
       "      <th>2016</th>\n",
       "      <th>2017</th>\n",
       "      <th>2018</th>\n",
       "      <th>2019</th>\n",
       "    </tr>\n",
       "  </thead>\n",
       "  <tbody>\n",
       "    <tr>\n",
       "      <th>0</th>\n",
       "      <td>Alameda</td>\n",
       "      <td>Thousands of dollars</td>\n",
       "      <td>95749481.0</td>\n",
       "      <td>100521444.0</td>\n",
       "      <td>105936777.0</td>\n",
       "      <td>115791781.0</td>\n",
       "      <td>121053460.0</td>\n",
       "      <td>129028899.0</td>\n",
       "      <td>136168877.0</td>\n",
       "      <td>141888634.0</td>\n",
       "    </tr>\n",
       "    <tr>\n",
       "      <th>1</th>\n",
       "      <td>Alpine</td>\n",
       "      <td>Thousands of dollars</td>\n",
       "      <td>95294.0</td>\n",
       "      <td>93927.0</td>\n",
       "      <td>102705.0</td>\n",
       "      <td>108503.0</td>\n",
       "      <td>109263.0</td>\n",
       "      <td>110843.0</td>\n",
       "      <td>114055.0</td>\n",
       "      <td>121948.0</td>\n",
       "    </tr>\n",
       "    <tr>\n",
       "      <th>2</th>\n",
       "      <td>Amador</td>\n",
       "      <td>Thousands of dollars</td>\n",
       "      <td>1365613.0</td>\n",
       "      <td>1440258.0</td>\n",
       "      <td>1488434.0</td>\n",
       "      <td>1551133.0</td>\n",
       "      <td>1617941.0</td>\n",
       "      <td>1732487.0</td>\n",
       "      <td>1786296.0</td>\n",
       "      <td>1870309.0</td>\n",
       "    </tr>\n",
       "    <tr>\n",
       "      <th>3</th>\n",
       "      <td>Butte</td>\n",
       "      <td>Thousands of dollars</td>\n",
       "      <td>7363012.0</td>\n",
       "      <td>7602095.0</td>\n",
       "      <td>7634930.0</td>\n",
       "      <td>8041364.0</td>\n",
       "      <td>8649007.0</td>\n",
       "      <td>9189787.0</td>\n",
       "      <td>9500527.0</td>\n",
       "      <td>9893227.0</td>\n",
       "    </tr>\n",
       "    <tr>\n",
       "      <th>4</th>\n",
       "      <td>Calaveras</td>\n",
       "      <td>Thousands of dollars</td>\n",
       "      <td>1050964.0</td>\n",
       "      <td>1044218.0</td>\n",
       "      <td>1172626.0</td>\n",
       "      <td>1246769.0</td>\n",
       "      <td>1362303.0</td>\n",
       "      <td>1442782.0</td>\n",
       "      <td>1415632.0</td>\n",
       "      <td>1661687.0</td>\n",
       "    </tr>\n",
       "  </tbody>\n",
       "</table>\n",
       "</div>"
      ],
      "text/plain": [
       "     GeoName                  Unit        2012         2013         2014  \\\n",
       "0    Alameda  Thousands of dollars  95749481.0  100521444.0  105936777.0   \n",
       "1     Alpine  Thousands of dollars     95294.0      93927.0     102705.0   \n",
       "2     Amador  Thousands of dollars   1365613.0    1440258.0    1488434.0   \n",
       "3      Butte  Thousands of dollars   7363012.0    7602095.0    7634930.0   \n",
       "4  Calaveras  Thousands of dollars   1050964.0    1044218.0    1172626.0   \n",
       "\n",
       "          2015         2016         2017         2018         2019  \n",
       "0  115791781.0  121053460.0  129028899.0  136168877.0  141888634.0  \n",
       "1     108503.0     109263.0     110843.0     114055.0     121948.0  \n",
       "2    1551133.0    1617941.0    1732487.0    1786296.0    1870309.0  \n",
       "3    8041364.0    8649007.0    9189787.0    9500527.0    9893227.0  \n",
       "4    1246769.0    1362303.0    1442782.0    1415632.0    1661687.0  "
      ]
     },
     "execution_count": 58,
     "metadata": {},
     "output_type": "execute_result"
    }
   ],
   "source": [
    "df_GDP = df_GDP.groupby(['GeoName','Unit']).sum().reset_index()\n",
    "df_GDP.head(5)"
   ]
  },
  {
   "cell_type": "code",
   "execution_count": 61,
   "id": "e2ff841d",
   "metadata": {},
   "outputs": [
    {
     "data": {
      "text/html": [
       "<div>\n",
       "<style scoped>\n",
       "    .dataframe tbody tr th:only-of-type {\n",
       "        vertical-align: middle;\n",
       "    }\n",
       "\n",
       "    .dataframe tbody tr th {\n",
       "        vertical-align: top;\n",
       "    }\n",
       "\n",
       "    .dataframe thead th {\n",
       "        text-align: right;\n",
       "    }\n",
       "</style>\n",
       "<table border=\"1\" class=\"dataframe\">\n",
       "  <thead>\n",
       "    <tr style=\"text-align: right;\">\n",
       "      <th></th>\n",
       "      <th>County</th>\n",
       "      <th>Payment_Ye</th>\n",
       "      <th>EHR Total Payment</th>\n",
       "    </tr>\n",
       "  </thead>\n",
       "  <tbody>\n",
       "    <tr>\n",
       "      <th>0</th>\n",
       "      <td>Alameda</td>\n",
       "      <td>2013</td>\n",
       "      <td>757172.90</td>\n",
       "    </tr>\n",
       "    <tr>\n",
       "      <th>1</th>\n",
       "      <td>Alameda</td>\n",
       "      <td>2016</td>\n",
       "      <td>18890201.49</td>\n",
       "    </tr>\n",
       "    <tr>\n",
       "      <th>2</th>\n",
       "      <td>Alameda</td>\n",
       "      <td>2019</td>\n",
       "      <td>6760775.32</td>\n",
       "    </tr>\n",
       "    <tr>\n",
       "      <th>3</th>\n",
       "      <td>Alameda</td>\n",
       "      <td>2020</td>\n",
       "      <td>5593440.78</td>\n",
       "    </tr>\n",
       "    <tr>\n",
       "      <th>4</th>\n",
       "      <td>Amador</td>\n",
       "      <td>2019</td>\n",
       "      <td>865130.13</td>\n",
       "    </tr>\n",
       "  </tbody>\n",
       "</table>\n",
       "</div>"
      ],
      "text/plain": [
       "    County Payment_Ye  EHR Total Payment\n",
       "0  Alameda       2013          757172.90\n",
       "1  Alameda       2016        18890201.49\n",
       "2  Alameda       2019         6760775.32\n",
       "3  Alameda       2020         5593440.78\n",
       "4   Amador       2019          865130.13"
      ]
     },
     "execution_count": 61,
     "metadata": {},
     "output_type": "execute_result"
    }
   ],
   "source": [
    "df_EHR = df_EHR.groupby(['County','Payment_Ye']).sum().reset_index()\n",
    "df_EHR.head()"
   ]
  },
  {
   "cell_type": "markdown",
   "id": "b8527159",
   "metadata": {},
   "source": [
    "# Reshape the dataset (GDP) from wide format to long format"
   ]
  },
  {
   "cell_type": "code",
   "execution_count": 62,
   "id": "89e4ffc3",
   "metadata": {},
   "outputs": [
    {
     "data": {
      "text/html": [
       "<div>\n",
       "<style scoped>\n",
       "    .dataframe tbody tr th:only-of-type {\n",
       "        vertical-align: middle;\n",
       "    }\n",
       "\n",
       "    .dataframe tbody tr th {\n",
       "        vertical-align: top;\n",
       "    }\n",
       "\n",
       "    .dataframe thead th {\n",
       "        text-align: right;\n",
       "    }\n",
       "</style>\n",
       "<table border=\"1\" class=\"dataframe\">\n",
       "  <thead>\n",
       "    <tr style=\"text-align: right;\">\n",
       "      <th></th>\n",
       "      <th>GeoName</th>\n",
       "      <th>Unit</th>\n",
       "      <th>variable</th>\n",
       "      <th>value</th>\n",
       "    </tr>\n",
       "  </thead>\n",
       "  <tbody>\n",
       "    <tr>\n",
       "      <th>0</th>\n",
       "      <td>Alameda</td>\n",
       "      <td>Thousands of dollars</td>\n",
       "      <td>2013</td>\n",
       "      <td>100521444.0</td>\n",
       "    </tr>\n",
       "    <tr>\n",
       "      <th>1</th>\n",
       "      <td>Alpine</td>\n",
       "      <td>Thousands of dollars</td>\n",
       "      <td>2013</td>\n",
       "      <td>93927.0</td>\n",
       "    </tr>\n",
       "    <tr>\n",
       "      <th>2</th>\n",
       "      <td>Amador</td>\n",
       "      <td>Thousands of dollars</td>\n",
       "      <td>2013</td>\n",
       "      <td>1440258.0</td>\n",
       "    </tr>\n",
       "    <tr>\n",
       "      <th>3</th>\n",
       "      <td>Butte</td>\n",
       "      <td>Thousands of dollars</td>\n",
       "      <td>2013</td>\n",
       "      <td>7602095.0</td>\n",
       "    </tr>\n",
       "    <tr>\n",
       "      <th>4</th>\n",
       "      <td>Calaveras</td>\n",
       "      <td>Thousands of dollars</td>\n",
       "      <td>2013</td>\n",
       "      <td>1044218.0</td>\n",
       "    </tr>\n",
       "  </tbody>\n",
       "</table>\n",
       "</div>"
      ],
      "text/plain": [
       "     GeoName                  Unit variable        value\n",
       "0    Alameda  Thousands of dollars     2013  100521444.0\n",
       "1     Alpine  Thousands of dollars     2013      93927.0\n",
       "2     Amador  Thousands of dollars     2013    1440258.0\n",
       "3      Butte  Thousands of dollars     2013    7602095.0\n",
       "4  Calaveras  Thousands of dollars     2013    1044218.0"
      ]
     },
     "execution_count": 62,
     "metadata": {},
     "output_type": "execute_result"
    }
   ],
   "source": [
    "year_list = df_GDP.columns[3:]\n",
    "df_GDP = pd.melt(df_GDP, id_vars=['GeoName','Unit'], value_vars=year_list) #Pandas.melt() unpivots a DataFrame from wide format to long format\n",
    "df_GDP.head()"
   ]
  },
  {
   "cell_type": "markdown",
   "id": "9082ffe4",
   "metadata": {},
   "source": [
    "# Change the column names"
   ]
  },
  {
   "cell_type": "code",
   "execution_count": 63,
   "id": "dea4ec80",
   "metadata": {},
   "outputs": [
    {
     "data": {
      "text/html": [
       "<div>\n",
       "<style scoped>\n",
       "    .dataframe tbody tr th:only-of-type {\n",
       "        vertical-align: middle;\n",
       "    }\n",
       "\n",
       "    .dataframe tbody tr th {\n",
       "        vertical-align: top;\n",
       "    }\n",
       "\n",
       "    .dataframe thead th {\n",
       "        text-align: right;\n",
       "    }\n",
       "</style>\n",
       "<table border=\"1\" class=\"dataframe\">\n",
       "  <thead>\n",
       "    <tr style=\"text-align: right;\">\n",
       "      <th></th>\n",
       "      <th>County</th>\n",
       "      <th>Unit of GDP</th>\n",
       "      <th>Year</th>\n",
       "      <th>GDP</th>\n",
       "    </tr>\n",
       "  </thead>\n",
       "  <tbody>\n",
       "    <tr>\n",
       "      <th>0</th>\n",
       "      <td>Alameda</td>\n",
       "      <td>Thousands of dollars</td>\n",
       "      <td>2013</td>\n",
       "      <td>100521444.0</td>\n",
       "    </tr>\n",
       "    <tr>\n",
       "      <th>1</th>\n",
       "      <td>Alpine</td>\n",
       "      <td>Thousands of dollars</td>\n",
       "      <td>2013</td>\n",
       "      <td>93927.0</td>\n",
       "    </tr>\n",
       "    <tr>\n",
       "      <th>2</th>\n",
       "      <td>Amador</td>\n",
       "      <td>Thousands of dollars</td>\n",
       "      <td>2013</td>\n",
       "      <td>1440258.0</td>\n",
       "    </tr>\n",
       "    <tr>\n",
       "      <th>3</th>\n",
       "      <td>Butte</td>\n",
       "      <td>Thousands of dollars</td>\n",
       "      <td>2013</td>\n",
       "      <td>7602095.0</td>\n",
       "    </tr>\n",
       "    <tr>\n",
       "      <th>4</th>\n",
       "      <td>Calaveras</td>\n",
       "      <td>Thousands of dollars</td>\n",
       "      <td>2013</td>\n",
       "      <td>1044218.0</td>\n",
       "    </tr>\n",
       "  </tbody>\n",
       "</table>\n",
       "</div>"
      ],
      "text/plain": [
       "      County           Unit of GDP  Year          GDP\n",
       "0    Alameda  Thousands of dollars  2013  100521444.0\n",
       "1     Alpine  Thousands of dollars  2013      93927.0\n",
       "2     Amador  Thousands of dollars  2013    1440258.0\n",
       "3      Butte  Thousands of dollars  2013    7602095.0\n",
       "4  Calaveras  Thousands of dollars  2013    1044218.0"
      ]
     },
     "execution_count": 63,
     "metadata": {},
     "output_type": "execute_result"
    }
   ],
   "source": [
    "df_GDP = df_GDP.rename({'GeoName':'County','Unit': 'Unit of GDP', 'variable': 'Year', 'value':'GDP'}, axis=1) \n",
    "df_GDP.head()"
   ]
  },
  {
   "cell_type": "markdown",
   "id": "6c9a2c90",
   "metadata": {},
   "source": [
    "# Combine the datasets"
   ]
  },
  {
   "cell_type": "code",
   "execution_count": 64,
   "id": "33272f18",
   "metadata": {},
   "outputs": [
    {
     "data": {
      "text/html": [
       "<div>\n",
       "<style scoped>\n",
       "    .dataframe tbody tr th:only-of-type {\n",
       "        vertical-align: middle;\n",
       "    }\n",
       "\n",
       "    .dataframe tbody tr th {\n",
       "        vertical-align: top;\n",
       "    }\n",
       "\n",
       "    .dataframe thead th {\n",
       "        text-align: right;\n",
       "    }\n",
       "</style>\n",
       "<table border=\"1\" class=\"dataframe\">\n",
       "  <thead>\n",
       "    <tr style=\"text-align: right;\">\n",
       "      <th></th>\n",
       "      <th>County</th>\n",
       "      <th>Unit of GDP</th>\n",
       "      <th>Year</th>\n",
       "      <th>GDP</th>\n",
       "      <th>Payment_Ye</th>\n",
       "      <th>EHR Total Payment</th>\n",
       "    </tr>\n",
       "  </thead>\n",
       "  <tbody>\n",
       "    <tr>\n",
       "      <th>0</th>\n",
       "      <td>Alameda</td>\n",
       "      <td>Thousands of dollars</td>\n",
       "      <td>2013</td>\n",
       "      <td>100521444.0</td>\n",
       "      <td>2013</td>\n",
       "      <td>757172.90</td>\n",
       "    </tr>\n",
       "    <tr>\n",
       "      <th>1</th>\n",
       "      <td>Kern</td>\n",
       "      <td>Thousands of dollars</td>\n",
       "      <td>2013</td>\n",
       "      <td>47122155.0</td>\n",
       "      <td>2013</td>\n",
       "      <td>6983457.41</td>\n",
       "    </tr>\n",
       "    <tr>\n",
       "      <th>2</th>\n",
       "      <td>Kings</td>\n",
       "      <td>Thousands of dollars</td>\n",
       "      <td>2013</td>\n",
       "      <td>5227087.0</td>\n",
       "      <td>2013</td>\n",
       "      <td>631722.26</td>\n",
       "    </tr>\n",
       "    <tr>\n",
       "      <th>3</th>\n",
       "      <td>Los Angeles</td>\n",
       "      <td>Thousands of dollars</td>\n",
       "      <td>2013</td>\n",
       "      <td>597849809.0</td>\n",
       "      <td>2013</td>\n",
       "      <td>2519349.54</td>\n",
       "    </tr>\n",
       "    <tr>\n",
       "      <th>4</th>\n",
       "      <td>Mono</td>\n",
       "      <td>Thousands of dollars</td>\n",
       "      <td>2013</td>\n",
       "      <td>917912.0</td>\n",
       "      <td>2013</td>\n",
       "      <td>345199.57</td>\n",
       "    </tr>\n",
       "  </tbody>\n",
       "</table>\n",
       "</div>"
      ],
      "text/plain": [
       "        County           Unit of GDP  Year          GDP Payment_Ye  \\\n",
       "0      Alameda  Thousands of dollars  2013  100521444.0       2013   \n",
       "1         Kern  Thousands of dollars  2013   47122155.0       2013   \n",
       "2        Kings  Thousands of dollars  2013    5227087.0       2013   \n",
       "3  Los Angeles  Thousands of dollars  2013  597849809.0       2013   \n",
       "4         Mono  Thousands of dollars  2013     917912.0       2013   \n",
       "\n",
       "   EHR Total Payment  \n",
       "0          757172.90  \n",
       "1         6983457.41  \n",
       "2          631722.26  \n",
       "3         2519349.54  \n",
       "4          345199.57  "
      ]
     },
     "execution_count": 64,
     "metadata": {},
     "output_type": "execute_result"
    }
   ],
   "source": [
    "df = df_GDP.merge(df_EHR, how='inner', left_on=['County', 'Year'], right_on=['County', 'Payment_Ye'])\n",
    "df.head()"
   ]
  },
  {
   "cell_type": "code",
   "execution_count": 65,
   "id": "88ac776c",
   "metadata": {},
   "outputs": [
    {
     "data": {
      "text/html": [
       "<div>\n",
       "<style scoped>\n",
       "    .dataframe tbody tr th:only-of-type {\n",
       "        vertical-align: middle;\n",
       "    }\n",
       "\n",
       "    .dataframe tbody tr th {\n",
       "        vertical-align: top;\n",
       "    }\n",
       "\n",
       "    .dataframe thead th {\n",
       "        text-align: right;\n",
       "    }\n",
       "</style>\n",
       "<table border=\"1\" class=\"dataframe\">\n",
       "  <thead>\n",
       "    <tr style=\"text-align: right;\">\n",
       "      <th></th>\n",
       "      <th>County</th>\n",
       "      <th>Unit of GDP</th>\n",
       "      <th>Year</th>\n",
       "      <th>GDP</th>\n",
       "      <th>Payment_Ye</th>\n",
       "      <th>EHR Total Payment</th>\n",
       "      <th>Taxable Year</th>\n",
       "      <th>Population</th>\n",
       "      <th>Median Income</th>\n",
       "    </tr>\n",
       "  </thead>\n",
       "  <tbody>\n",
       "    <tr>\n",
       "      <th>0</th>\n",
       "      <td>Alameda</td>\n",
       "      <td>Thousands of dollars</td>\n",
       "      <td>2013</td>\n",
       "      <td>100521444.0</td>\n",
       "      <td>2013</td>\n",
       "      <td>757172.90</td>\n",
       "      <td>2013</td>\n",
       "      <td>1563495.0</td>\n",
       "      <td>46217</td>\n",
       "    </tr>\n",
       "    <tr>\n",
       "      <th>1</th>\n",
       "      <td>Kern</td>\n",
       "      <td>Thousands of dollars</td>\n",
       "      <td>2013</td>\n",
       "      <td>47122155.0</td>\n",
       "      <td>2013</td>\n",
       "      <td>6983457.41</td>\n",
       "      <td>2013</td>\n",
       "      <td>865511.0</td>\n",
       "      <td>30938</td>\n",
       "    </tr>\n",
       "    <tr>\n",
       "      <th>2</th>\n",
       "      <td>Kings</td>\n",
       "      <td>Thousands of dollars</td>\n",
       "      <td>2013</td>\n",
       "      <td>5227087.0</td>\n",
       "      <td>2013</td>\n",
       "      <td>631722.26</td>\n",
       "      <td>2013</td>\n",
       "      <td>150507.0</td>\n",
       "      <td>29537</td>\n",
       "    </tr>\n",
       "    <tr>\n",
       "      <th>3</th>\n",
       "      <td>Los Angeles</td>\n",
       "      <td>Thousands of dollars</td>\n",
       "      <td>2013</td>\n",
       "      <td>597849809.0</td>\n",
       "      <td>2013</td>\n",
       "      <td>2519349.54</td>\n",
       "      <td>2013</td>\n",
       "      <td>10013265.0</td>\n",
       "      <td>31516</td>\n",
       "    </tr>\n",
       "    <tr>\n",
       "      <th>4</th>\n",
       "      <td>Mono</td>\n",
       "      <td>Thousands of dollars</td>\n",
       "      <td>2013</td>\n",
       "      <td>917912.0</td>\n",
       "      <td>2013</td>\n",
       "      <td>345199.57</td>\n",
       "      <td>2013</td>\n",
       "      <td>14477.0</td>\n",
       "      <td>31546</td>\n",
       "    </tr>\n",
       "  </tbody>\n",
       "</table>\n",
       "</div>"
      ],
      "text/plain": [
       "        County           Unit of GDP  Year          GDP Payment_Ye  \\\n",
       "0      Alameda  Thousands of dollars  2013  100521444.0       2013   \n",
       "1         Kern  Thousands of dollars  2013   47122155.0       2013   \n",
       "2        Kings  Thousands of dollars  2013    5227087.0       2013   \n",
       "3  Los Angeles  Thousands of dollars  2013  597849809.0       2013   \n",
       "4         Mono  Thousands of dollars  2013     917912.0       2013   \n",
       "\n",
       "   EHR Total Payment Taxable Year  Population  Median Income  \n",
       "0          757172.90         2013   1563495.0          46217  \n",
       "1         6983457.41         2013    865511.0          30938  \n",
       "2          631722.26         2013    150507.0          29537  \n",
       "3         2519349.54         2013  10013265.0          31516  \n",
       "4          345199.57         2013     14477.0          31546  "
      ]
     },
     "execution_count": 65,
     "metadata": {},
     "output_type": "execute_result"
    }
   ],
   "source": [
    "df = df.merge(df_income, how='inner', left_on=['County', 'Year'], right_on=['County', 'Taxable Year'])\n",
    "df.head()"
   ]
  },
  {
   "cell_type": "code",
   "execution_count": 66,
   "id": "91040dbf",
   "metadata": {},
   "outputs": [],
   "source": [
    "df = df.drop(df.columns[[4,6]],axis=1)"
   ]
  },
  {
   "cell_type": "code",
   "execution_count": 67,
   "id": "fc2f0807",
   "metadata": {},
   "outputs": [],
   "source": [
    "# swap the columns\n",
    "cols = list(df.columns)\n",
    "a, b = cols.index('Unit of GDP'), cols.index('Year')\n",
    "cols[b], cols[a] = cols[a], cols[b]\n",
    "df = df[cols]"
   ]
  },
  {
   "cell_type": "code",
   "execution_count": 68,
   "id": "1a70b36d",
   "metadata": {},
   "outputs": [
    {
     "data": {
      "text/html": [
       "<div>\n",
       "<style scoped>\n",
       "    .dataframe tbody tr th:only-of-type {\n",
       "        vertical-align: middle;\n",
       "    }\n",
       "\n",
       "    .dataframe tbody tr th {\n",
       "        vertical-align: top;\n",
       "    }\n",
       "\n",
       "    .dataframe thead th {\n",
       "        text-align: right;\n",
       "    }\n",
       "</style>\n",
       "<table border=\"1\" class=\"dataframe\">\n",
       "  <thead>\n",
       "    <tr style=\"text-align: right;\">\n",
       "      <th></th>\n",
       "      <th>County</th>\n",
       "      <th>Year</th>\n",
       "      <th>Unit of GDP</th>\n",
       "      <th>GDP</th>\n",
       "      <th>EHR Total Payment</th>\n",
       "      <th>Population</th>\n",
       "      <th>Median Income</th>\n",
       "    </tr>\n",
       "  </thead>\n",
       "  <tbody>\n",
       "    <tr>\n",
       "      <th>0</th>\n",
       "      <td>Alameda</td>\n",
       "      <td>2013</td>\n",
       "      <td>Thousands of dollars</td>\n",
       "      <td>100521444.0</td>\n",
       "      <td>757172.90</td>\n",
       "      <td>1563495.0</td>\n",
       "      <td>46217</td>\n",
       "    </tr>\n",
       "    <tr>\n",
       "      <th>1</th>\n",
       "      <td>Kern</td>\n",
       "      <td>2013</td>\n",
       "      <td>Thousands of dollars</td>\n",
       "      <td>47122155.0</td>\n",
       "      <td>6983457.41</td>\n",
       "      <td>865511.0</td>\n",
       "      <td>30938</td>\n",
       "    </tr>\n",
       "    <tr>\n",
       "      <th>2</th>\n",
       "      <td>Kings</td>\n",
       "      <td>2013</td>\n",
       "      <td>Thousands of dollars</td>\n",
       "      <td>5227087.0</td>\n",
       "      <td>631722.26</td>\n",
       "      <td>150507.0</td>\n",
       "      <td>29537</td>\n",
       "    </tr>\n",
       "    <tr>\n",
       "      <th>3</th>\n",
       "      <td>Los Angeles</td>\n",
       "      <td>2013</td>\n",
       "      <td>Thousands of dollars</td>\n",
       "      <td>597849809.0</td>\n",
       "      <td>2519349.54</td>\n",
       "      <td>10013265.0</td>\n",
       "      <td>31516</td>\n",
       "    </tr>\n",
       "    <tr>\n",
       "      <th>4</th>\n",
       "      <td>Mono</td>\n",
       "      <td>2013</td>\n",
       "      <td>Thousands of dollars</td>\n",
       "      <td>917912.0</td>\n",
       "      <td>345199.57</td>\n",
       "      <td>14477.0</td>\n",
       "      <td>31546</td>\n",
       "    </tr>\n",
       "  </tbody>\n",
       "</table>\n",
       "</div>"
      ],
      "text/plain": [
       "        County  Year           Unit of GDP          GDP  EHR Total Payment  \\\n",
       "0      Alameda  2013  Thousands of dollars  100521444.0          757172.90   \n",
       "1         Kern  2013  Thousands of dollars   47122155.0         6983457.41   \n",
       "2        Kings  2013  Thousands of dollars    5227087.0          631722.26   \n",
       "3  Los Angeles  2013  Thousands of dollars  597849809.0         2519349.54   \n",
       "4         Mono  2013  Thousands of dollars     917912.0          345199.57   \n",
       "\n",
       "   Population  Median Income  \n",
       "0   1563495.0          46217  \n",
       "1    865511.0          30938  \n",
       "2    150507.0          29537  \n",
       "3  10013265.0          31516  \n",
       "4     14477.0          31546  "
      ]
     },
     "execution_count": 68,
     "metadata": {},
     "output_type": "execute_result"
    }
   ],
   "source": [
    "df.head()"
   ]
  },
  {
   "cell_type": "markdown",
   "id": "3cb21c62",
   "metadata": {},
   "source": [
    "# Year-by-year EHR spending correlation with GDP analysis"
   ]
  },
  {
   "cell_type": "code",
   "execution_count": 70,
   "id": "58fab4ff",
   "metadata": {},
   "outputs": [
    {
     "data": {
      "text/plain": [
       "<AxesSubplot: xlabel='GDP', ylabel='EHR Total Payment'>"
      ]
     },
     "execution_count": 70,
     "metadata": {},
     "output_type": "execute_result"
    },
    {
     "data": {
      "image/png": "[encoded data removed]",
      "text/plain": [
       "<Figure size 640x480 with 1 Axes>"
      ]
     },
     "metadata": {},
     "output_type": "display_data"
    }
   ],
   "source": [
    "import seaborn as sns\n",
    "sns.regplot(x='GDP', y='EHR Total Payment', data=df, ci=None, scatter_kws={'s':100, 'facecolor':'red'})"
   ]
  },
  {
   "cell_type": "markdown",
   "id": "a733bb65",
   "metadata": {},
   "source": [
    "## Outlier Treatment"
   ]
  },
  {
   "cell_type": "markdown",
   "id": "b594f556",
   "metadata": {},
   "source": [
    "Quantile-based Flooring and Capping\n",
    "In this technique, we will do the flooring (e.g., the 10th percentile) for the lower values and capping (e.g., the 90th percentile) for the higher values. The lines of code below print the 10th and 90th percentiles of the variable 'Income', respectively. These values will be used for quantile-based flooring and capping."
   ]
  },
  {
   "cell_type": "code",
   "execution_count": 79,
   "id": "6bb4e394",
   "metadata": {},
   "outputs": [
    {
     "name": "stdout",
     "output_type": "stream",
     "text": [
      "1343309.7000000002\n",
      "245565614.79999998\n"
     ]
    }
   ],
   "source": [
    "print(df['GDP'].quantile(0.10))\n",
    "print(df['GDP'].quantile(0.90))"
   ]
  },
  {
   "cell_type": "code",
   "execution_count": 80,
   "id": "658f300a",
   "metadata": {},
   "outputs": [
    {
     "name": "stdout",
     "output_type": "stream",
     "text": [
      "2.6862359761345984\n",
      "1.2108480507506736\n"
     ]
    }
   ],
   "source": [
    "print(df['GDP'].skew())\n",
    "\n",
    "# remove the outlier\n",
    "df[\"GDP\"] = np.where(df[\"GDP\"] <1343309.7, 1343309.7,df['GDP'])\n",
    "df[\"GDP\"] = np.where(df[\"GDP\"] >245565614.8, 245565614.8,df['GDP'])\n",
    "\n",
    "print(df['GDP'].skew())"
   ]
  },
  {
   "cell_type": "markdown",
   "id": "a9615b0b",
   "metadata": {},
   "source": [
    "The above output shows that the skewness value came down from 2.68 to 1.21, confirming that the distribution has been treated for extreme values."
   ]
  },
  {
   "cell_type": "markdown",
   "id": "3bf2c9d5",
   "metadata": {},
   "source": [
    "## 1. Application of Linear Regression - EHR & GDP"
   ]
  },
  {
   "cell_type": "markdown",
   "id": "dffdb90d",
   "metadata": {},
   "source": [
    "Linear regression is suited for estimating continuous values\n",
    "\n",
    "Linear regression model fit line: The plot shows us how well we are able to fit the relationship between the GDP value and the total payment of EHR."
   ]
  },
  {
   "cell_type": "code",
   "execution_count": 81,
   "id": "cf9febab",
   "metadata": {},
   "outputs": [
    {
     "data": {
      "text/html": [
       "<style>#sk-container-id-2 {color: black;background-color: white;}#sk-container-id-2 pre{padding: 0;}#sk-container-id-2 div.sk-toggleable {background-color: white;}#sk-container-id-2 label.sk-toggleable__label {cursor: pointer;display: block;width: 100%;margin-bottom: 0;padding: 0.3em;box-sizing: border-box;text-align: center;}#sk-container-id-2 label.sk-toggleable__label-arrow:before {content: \"▸\";float: left;margin-right: 0.25em;color: #696969;}#sk-container-id-2 label.sk-toggleable__label-arrow:hover:before {color: black;}#sk-container-id-2 div.sk-estimator:hover label.sk-toggleable__label-arrow:before {color: black;}#sk-container-id-2 div.sk-toggleable__content {max-height: 0;max-width: 0;overflow: hidden;text-align: left;background-color: #f0f8ff;}#sk-container-id-2 div.sk-toggleable__content pre {margin: 0.2em;color: black;border-radius: 0.25em;background-color: #f0f8ff;}#sk-container-id-2 input.sk-toggleable__control:checked~div.sk-toggleable__content {max-height: 200px;max-width: 100%;overflow: auto;}#sk-container-id-2 input.sk-toggleable__control:checked~label.sk-toggleable__label-arrow:before {content: \"▾\";}#sk-container-id-2 div.sk-estimator input.sk-toggleable__control:checked~label.sk-toggleable__label {background-color: #d4ebff;}#sk-container-id-2 div.sk-label input.sk-toggleable__control:checked~label.sk-toggleable__label {background-color: #d4ebff;}#sk-container-id-2 input.sk-hidden--visually {border: 0;clip: rect(1px 1px 1px 1px);clip: rect(1px, 1px, 1px, 1px);height: 1px;margin: -1px;overflow: hidden;padding: 0;position: absolute;width: 1px;}#sk-container-id-2 div.sk-estimator {font-family: monospace;background-color: #f0f8ff;border: 1px dotted black;border-radius: 0.25em;box-sizing: border-box;margin-bottom: 0.5em;}#sk-container-id-2 div.sk-estimator:hover {background-color: #d4ebff;}#sk-container-id-2 div.sk-parallel-item::after {content: \"\";width: 100%;border-bottom: 1px solid gray;flex-grow: 1;}#sk-container-id-2 div.sk-label:hover label.sk-toggleable__label {background-color: #d4ebff;}#sk-container-id-2 div.sk-serial::before {content: \"\";position: absolute;border-left: 1px solid gray;box-sizing: border-box;top: 0;bottom: 0;left: 50%;z-index: 0;}#sk-container-id-2 div.sk-serial {display: flex;flex-direction: column;align-items: center;background-color: white;padding-right: 0.2em;padding-left: 0.2em;position: relative;}#sk-container-id-2 div.sk-item {position: relative;z-index: 1;}#sk-container-id-2 div.sk-parallel {display: flex;align-items: stretch;justify-content: center;background-color: white;position: relative;}#sk-container-id-2 div.sk-item::before, #sk-container-id-2 div.sk-parallel-item::before {content: \"\";position: absolute;border-left: 1px solid gray;box-sizing: border-box;top: 0;bottom: 0;left: 50%;z-index: -1;}#sk-container-id-2 div.sk-parallel-item {display: flex;flex-direction: column;z-index: 1;position: relative;background-color: white;}#sk-container-id-2 div.sk-parallel-item:first-child::after {align-self: flex-end;width: 50%;}#sk-container-id-2 div.sk-parallel-item:last-child::after {align-self: flex-start;width: 50%;}#sk-container-id-2 div.sk-parallel-item:only-child::after {width: 0;}#sk-container-id-2 div.sk-dashed-wrapped {border: 1px dashed gray;margin: 0 0.4em 0.5em 0.4em;box-sizing: border-box;padding-bottom: 0.4em;background-color: white;}#sk-container-id-2 div.sk-label label {font-family: monospace;font-weight: bold;display: inline-block;line-height: 1.2em;}#sk-container-id-2 div.sk-label-container {text-align: center;}#sk-container-id-2 div.sk-container {/* jupyter's `normalize.less` sets `[hidden] { display: none; }` but bootstrap.min.css set `[hidden] { display: none !important; }` so we also need the `!important` here to be able to override the default hidden behavior on the sphinx rendered scikit-learn.org. See: https://github.com/scikit-learn/scikit-learn/issues/21755 */display: inline-block !important;position: relative;}#sk-container-id-2 div.sk-text-repr-fallback {display: none;}</style><div id=\"sk-container-id-2\" class=\"sk-top-container\"><div class=\"sk-text-repr-fallback\"><pre>LinearRegression()</pre><b>In a Jupyter environment, please rerun this cell to show the HTML representation or trust the notebook. <br />On GitHub, the HTML representation is unable to render, please try loading this page with nbviewer.org.</b></div><div class=\"sk-container\" hidden><div class=\"sk-item\"><div class=\"sk-estimator sk-toggleable\"><input class=\"sk-toggleable__control sk-hidden--visually\" id=\"sk-estimator-id-2\" type=\"checkbox\" checked><label for=\"sk-estimator-id-2\" class=\"sk-toggleable__label sk-toggleable__label-arrow\">LinearRegression</label><div class=\"sk-toggleable__content\"><pre>LinearRegression()</pre></div></div></div></div></div>"
      ],
      "text/plain": [
       "LinearRegression()"
      ]
     },
     "execution_count": 81,
     "metadata": {},
     "output_type": "execute_result"
    }
   ],
   "source": [
    "# ================================================\n",
    "# Build the model\n",
    "# ================================================\n",
    "\n",
    "# Training data\n",
    "X = df.loc[:,[\"GDP\"]]  # features matrix\n",
    "y = df.loc[:,'EHR Total Payment']  # target (response) matix\n",
    "\n",
    "from sklearn.model_selection import train_test_split\n",
    "import statsmodels.api as sm\n",
    "\n",
    "# Splitting the data into train and test\n",
    "X_train, X_test, y_train, y_test = train_test_split(X,y, train_size=0.7,test_size=0.3,random_state=100)\n",
    "\n",
    "# Train the model\n",
    "model = LinearRegression()\n",
    "model.fit(X_train, y_train)"
   ]
  },
  {
   "cell_type": "markdown",
   "id": "e6d31b33",
   "metadata": {},
   "source": [
    "### Predicting test set result"
   ]
  },
  {
   "cell_type": "code",
   "execution_count": 82,
   "id": "abeb5800",
   "metadata": {},
   "outputs": [
    {
     "data": {
      "text/html": [
       "<div>\n",
       "<style scoped>\n",
       "    .dataframe tbody tr th:only-of-type {\n",
       "        vertical-align: middle;\n",
       "    }\n",
       "\n",
       "    .dataframe tbody tr th {\n",
       "        vertical-align: top;\n",
       "    }\n",
       "\n",
       "    .dataframe thead th {\n",
       "        text-align: right;\n",
       "    }\n",
       "</style>\n",
       "<table border=\"1\" class=\"dataframe\">\n",
       "  <thead>\n",
       "    <tr style=\"text-align: right;\">\n",
       "      <th></th>\n",
       "      <th>Actual</th>\n",
       "      <th>Predicted</th>\n",
       "    </tr>\n",
       "  </thead>\n",
       "  <tbody>\n",
       "    <tr>\n",
       "      <th>25</th>\n",
       "      <td>12291359.98</td>\n",
       "      <td>1.752793e+07</td>\n",
       "    </tr>\n",
       "    <tr>\n",
       "      <th>51</th>\n",
       "      <td>975565.30</td>\n",
       "      <td>7.152059e+06</td>\n",
       "    </tr>\n",
       "    <tr>\n",
       "      <th>21</th>\n",
       "      <td>2743310.81</td>\n",
       "      <td>1.413307e+06</td>\n",
       "    </tr>\n",
       "    <tr>\n",
       "      <th>26</th>\n",
       "      <td>4754145.45</td>\n",
       "      <td>6.727177e+06</td>\n",
       "    </tr>\n",
       "    <tr>\n",
       "      <th>68</th>\n",
       "      <td>239747.26</td>\n",
       "      <td>1.097122e+06</td>\n",
       "    </tr>\n",
       "  </tbody>\n",
       "</table>\n",
       "</div>"
      ],
      "text/plain": [
       "         Actual     Predicted\n",
       "25  12291359.98  1.752793e+07\n",
       "51    975565.30  7.152059e+06\n",
       "21   2743310.81  1.413307e+06\n",
       "26   4754145.45  6.727177e+06\n",
       "68    239747.26  1.097122e+06"
      ]
     },
     "execution_count": 82,
     "metadata": {},
     "output_type": "execute_result"
    }
   ],
   "source": [
    "y_pred = model.predict(X_test)\n",
    "\n",
    "# Comparing the test values and the predicted values\n",
    "comparison_df = pd.DataFrame({\"Actual\":y_test,\"Predicted\":y_pred})\n",
    "comparison_df.head()"
   ]
  },
  {
   "cell_type": "markdown",
   "id": "50fa8de6",
   "metadata": {},
   "source": [
    "### Checking the residuals "
   ]
  },
  {
   "cell_type": "code",
   "execution_count": 83,
   "id": "56ce6666",
   "metadata": {},
   "outputs": [
    {
     "data": {
      "text/plain": [
       "25   -5.236572e+06\n",
       "51   -6.176494e+06\n",
       "21    1.330004e+06\n",
       "26   -1.973032e+06\n",
       "68   -8.573745e+05\n",
       "Name: EHR Total Payment, dtype: float64"
      ]
     },
     "execution_count": 83,
     "metadata": {},
     "output_type": "execute_result"
    }
   ],
   "source": [
    "residuals = y_test - y_pred\n",
    "residuals.head()"
   ]
  },
  {
   "cell_type": "code",
   "execution_count": 84,
   "id": "75aa77ef",
   "metadata": {},
   "outputs": [
    {
     "data": {},
     "metadata": {},
     "output_type": "display_data"
    },
    {
     "data": {
      "application/vnd.holoviews_exec.v0+json": "",
      "text/html": [
       "<div id='1114'>\n",
       "  <div class=\"bk-root\" id=\"564bcc03-b850-4fc0-9623-4213a6fa6571\" data-root-id=\"1114\"></div>\n",
       "</div>\n",
       "<script type=\"application/javascript\">(function(root) {\n",
       "  function embed_document(root) {\n",
       "    var docs_json = {\"317cde84-57be-45b7-b45e-d07970279d19\":{\"defs\":[{\"extends\":null,\"module\":null,\"name\":\"ReactiveHTML1\",\"overrides\":[],\"properties\":[]},{\"extends\":null,\"module\":null,\"name\":\"FlexBox1\",\"overrides\":[],\"properties\":[{\"default\":\"flex-start\",\"kind\":null,\"name\":\"align_content\"},{\"default\":\"flex-start\",\"kind\":null,\"name\":\"align_items\"},{\"default\":\"row\",\"kind\":null,\"name\":\"flex_direction\"},{\"default\":\"wrap\",\"kind\":null,\"name\":\"flex_wrap\"},{\"default\":\"flex-start\",\"kind\":null,\"name\":\"justify_content\"}]},{\"extends\":null,\"module\":null,\"name\":\"GridStack1\",\"overrides\":[],\"properties\":[{\"default\":\"warn\",\"kind\":null,\"name\":\"mode\"},{\"default\":null,\"kind\":null,\"name\":\"ncols\"},{\"default\":null,\"kind\":null,\"name\":\"nrows\"},{\"default\":true,\"kind\":null,\"name\":\"allow_resize\"},{\"default\":true,\"kind\":null,\"name\":\"allow_drag\"},{\"default\":[],\"kind\":null,\"name\":\"state\"}]},{\"extends\":null,\"module\":null,\"name\":\"click1\",\"overrides\":[],\"properties\":[{\"default\":\"\",\"kind\":null,\"name\":\"terminal_output\"},{\"default\":\"\",\"kind\":null,\"name\":\"debug_name\"},{\"default\":0,\"kind\":null,\"name\":\"clears\"}]},{\"extends\":null,\"module\":null,\"name\":\"NotificationAreaBase1\",\"overrides\":[],\"properties\":[{\"default\":\"bottom-right\",\"kind\":null,\"name\":\"position\"},{\"default\":0,\"kind\":null,\"name\":\"_clear\"}]},{\"extends\":null,\"module\":null,\"name\":\"NotificationArea1\",\"overrides\":[],\"properties\":[{\"default\":[],\"kind\":null,\"name\":\"notifications\"},{\"default\":\"bottom-right\",\"kind\":null,\"name\":\"position\"},{\"default\":0,\"kind\":null,\"name\":\"_clear\"},{\"default\":[{\"background\":\"#ffc107\",\"icon\":{\"className\":\"fas fa-exclamation-triangle\",\"color\":\"white\",\"tagName\":\"i\"},\"type\":\"warning\"},{\"background\":\"#007bff\",\"icon\":{\"className\":\"fas fa-info-circle\",\"color\":\"white\",\"tagName\":\"i\"},\"type\":\"info\"}],\"kind\":null,\"name\":\"types\"}]},{\"extends\":null,\"module\":null,\"name\":\"Notification\",\"overrides\":[],\"properties\":[{\"default\":null,\"kind\":null,\"name\":\"background\"},{\"default\":3000,\"kind\":null,\"name\":\"duration\"},{\"default\":null,\"kind\":null,\"name\":\"icon\"},{\"default\":\"\",\"kind\":null,\"name\":\"message\"},{\"default\":null,\"kind\":null,\"name\":\"notification_type\"},{\"default\":false,\"kind\":null,\"name\":\"_destroyed\"}]},{\"extends\":null,\"module\":null,\"name\":\"TemplateActions1\",\"overrides\":[],\"properties\":[{\"default\":0,\"kind\":null,\"name\":\"open_modal\"},{\"default\":0,\"kind\":null,\"name\":\"close_modal\"}]},{\"extends\":null,\"module\":null,\"name\":\"MaterialTemplateActions1\",\"overrides\":[],\"properties\":[{\"default\":0,\"kind\":null,\"name\":\"open_modal\"},{\"default\":0,\"kind\":null,\"name\":\"close_modal\"}]}],\"roots\":{\"references\":[{\"attributes\":{\"fill_alpha\":{\"value\":0.2},\"fill_color\":{\"value\":\"#30a2da\"},\"hatch_alpha\":{\"value\":0.2},\"hatch_color\":{\"value\":\"#30a2da\"},\"line_alpha\":{\"value\":0.2},\"line_color\":{\"value\":\"#30a2da\"},\"size\":{\"value\":5.477225575051661},\"x\":{\"field\":\"True Values(y test)\"},\"y\":{\"field\":\"Predicted Values\"}},\"id\":\"1154\",\"type\":\"Scatter\"},{\"attributes\":{},\"id\":\"1159\",\"type\":\"BasicTickFormatter\"},{\"attributes\":{},\"id\":\"1150\",\"type\":\"Selection\"},{\"attributes\":{\"axis\":{\"id\":\"1128\"},\"coordinates\":null,\"grid_line_color\":null,\"group\":null,\"ticker\":null},\"id\":\"1131\",\"type\":\"Grid\"},{\"attributes\":{\"end\":54306239.42,\"reset_end\":54306239.42,\"reset_start\":-2039560.94,\"start\":-2039560.94,\"tags\":[[[\"True Values(y test)\",\"True Values(y test)\",null]]]},\"id\":\"1116\",\"type\":\"Range1d\"},{\"attributes\":{},\"id\":\"1126\",\"type\":\"LinearScale\"},{\"attributes\":{},\"id\":\"1171\",\"type\":\"UnionRenderers\"},{\"attributes\":{\"fill_color\":{\"value\":\"#30a2da\"},\"hatch_color\":{\"value\":\"#30a2da\"},\"line_color\":{\"value\":\"#30a2da\"},\"size\":{\"value\":5.477225575051661},\"x\":{\"field\":\"True Values(y test)\"},\"y\":{\"field\":\"Predicted Values\"}},\"id\":\"1152\",\"type\":\"Scatter\"},{\"attributes\":{},\"id\":\"1160\",\"type\":\"AllLabels\"},{\"attributes\":{\"angle\":{\"value\":0.0},\"fill_alpha\":{\"value\":1.0},\"fill_color\":{\"value\":\"#30a2da\"},\"hatch_alpha\":{\"value\":1.0},\"hatch_color\":{\"value\":\"#30a2da\"},\"hatch_scale\":{\"value\":12.0},\"hatch_weight\":{\"value\":1.0},\"line_alpha\":{\"value\":1.0},\"line_cap\":{\"value\":\"butt\"},\"line_color\":{\"value\":\"#30a2da\"},\"line_dash\":{\"value\":[]},\"line_dash_offset\":{\"value\":0},\"line_join\":{\"value\":\"bevel\"},\"line_width\":{\"value\":1},\"marker\":{\"value\":\"circle\"},\"size\":{\"value\":5.477225575051661},\"x\":{\"field\":\"True Values(y test)\"},\"y\":{\"field\":\"Predicted Values\"}},\"id\":\"1157\",\"type\":\"Scatter\"},{\"attributes\":{\"callback\":null,\"renderers\":[{\"id\":\"1155\"}],\"tags\":[\"hv_created\"],\"tooltips\":[[\"True Values(y test)\",\"@{True_Values_left_parenthesis_y_test_right_parenthesis}\"],[\"Predicted Values\",\"@{Predicted_Values}\"]]},\"id\":\"1118\",\"type\":\"HoverTool\"},{\"attributes\":{\"fill_alpha\":{\"value\":0.1},\"fill_color\":{\"value\":\"#30a2da\"},\"hatch_alpha\":{\"value\":0.1},\"hatch_color\":{\"value\":\"#30a2da\"},\"line_alpha\":{\"value\":0.1},\"line_color\":{\"value\":\"#30a2da\"},\"size\":{\"value\":5.477225575051661},\"x\":{\"field\":\"True Values(y test)\"},\"y\":{\"field\":\"Predicted Values\"}},\"id\":\"1153\",\"type\":\"Scatter\"},{\"attributes\":{\"coordinates\":null,\"data_source\":{\"id\":\"1149\"},\"glyph\":{\"id\":\"1152\"},\"group\":null,\"hover_glyph\":null,\"muted_glyph\":{\"id\":\"1154\"},\"nonselection_glyph\":{\"id\":\"1153\"},\"selection_glyph\":{\"id\":\"1157\"},\"view\":{\"id\":\"1156\"}},\"id\":\"1155\",\"type\":\"GlyphRenderer\"},{\"attributes\":{\"axis_label\":\"True Values(y test)\",\"coordinates\":null,\"formatter\":{\"id\":\"1159\"},\"group\":null,\"major_label_policy\":{\"id\":\"1160\"},\"ticker\":{\"id\":\"1129\"}},\"id\":\"1128\",\"type\":\"LinearAxis\"},{\"attributes\":{},\"id\":\"1129\",\"type\":\"BasicTicker\"},{\"attributes\":{\"source\":{\"id\":\"1149\"}},\"id\":\"1156\",\"type\":\"CDSView\"},{\"attributes\":{\"below\":[{\"id\":\"1128\"}],\"center\":[{\"id\":\"1131\"},{\"id\":\"1135\"}],\"height\":300,\"left\":[{\"id\":\"1132\"}],\"margin\":[5,5,5,5],\"min_border_bottom\":10,\"min_border_left\":10,\"min_border_right\":10,\"min_border_top\":10,\"renderers\":[{\"id\":\"1155\"}],\"sizing_mode\":\"fixed\",\"title\":{\"id\":\"1120\"},\"toolbar\":{\"id\":\"1142\"},\"width\":700,\"x_range\":{\"id\":\"1116\"},\"x_scale\":{\"id\":\"1124\"},\"y_range\":{\"id\":\"1117\"},\"y_scale\":{\"id\":\"1126\"}},\"id\":\"1119\",\"subtype\":\"Figure\",\"type\":\"Plot\"},{\"attributes\":{\"coordinates\":null,\"group\":null,\"text_color\":\"black\",\"text_font_size\":\"12pt\"},\"id\":\"1120\",\"type\":\"Title\"},{\"attributes\":{},\"id\":\"1163\",\"type\":\"AllLabels\"},{\"attributes\":{},\"id\":\"1137\",\"type\":\"PanTool\"},{\"attributes\":{\"children\":[{\"id\":\"1115\"},{\"id\":\"1119\"},{\"id\":\"1174\"}],\"margin\":[0,0,0,0],\"name\":\"Row00967\",\"tags\":[\"embedded\"]},\"id\":\"1114\",\"type\":\"Row\"},{\"attributes\":{\"data\":{\"Predicted Values\":{\"__ndarray__\":\"N+g9uke3cEFGeYfRbkhbQfnkRMW6kDVB2ed5VYKpWUFcDDnMob0wQVwMOcyhvTBBg/0a95eCb0GmlA6ykM1RQQYlPuyxkV5B2ql9BxCASUG6oodzaTc1QTZ1lPSEBDZBFVS4RRKIQUFcpJV1/pM2QY6Fln7Rq0lBa2i782MjMkFcDDnMob0wQUIjRvtAeHJBsGwoshKLcUEJJwLQL8BRQSNiFyMMxzBBxTbMuEf1V0Er4I/RtWE7QVwMOcyhvTBBQcfyQXUlZkEiCnMUxaZFQUIjRvtAeHJBlhBQfktsQEHp0LGPAW5aQdpr690W30NBQiNG+0B4ckF4i5dCllRDQfnXLsuHzzdB\",\"dtype\":\"float64\",\"order\":\"little\",\"shape\":[33]},\"Predicted_Values\":{\"__ndarray__\":\"N+g9uke3cEFGeYfRbkhbQfnkRMW6kDVB2ed5VYKpWUFcDDnMob0wQVwMOcyhvTBBg/0a95eCb0GmlA6ykM1RQQYlPuyxkV5B2ql9BxCASUG6oodzaTc1QTZ1lPSEBDZBFVS4RRKIQUFcpJV1/pM2QY6Fln7Rq0lBa2i782MjMkFcDDnMob0wQUIjRvtAeHJBsGwoshKLcUEJJwLQL8BRQSNiFyMMxzBBxTbMuEf1V0Er4I/RtWE7QVwMOcyhvTBBQcfyQXUlZkEiCnMUxaZFQUIjRvtAeHJBlhBQfktsQEHp0LGPAW5aQdpr690W30NBQiNG+0B4ckF4i5dCllRDQfnXLsuHzzdB\",\"dtype\":\"float64\",\"order\":\"little\",\"shape\":[33]},\"True Values(y test)\":{\"__ndarray__\":\"9ihc/6NxZ0GamZmZmsUtQXsUrmcH7kRBzczMXLgiUkFI4XoUGkQNQaRwPQpbXS9B4XoUDgcSgEGkcD3KN3QzQZqZmZnbaGtBmpmZmX5bIkH2KFzv+DFFQWZmZub7AzhBAAAAAOrOTUEAAACAEsJfQc3MzOxFAU5BUrgeBQZoNUFI4XpUBr0wQYXrUXDUdWBBuB6FK/FrOkGkcD2KZK0iQWZmZmbJHSJBHoXrUdHFMUE9Ctfjv0EzQexRuB47iQZBSOF61FHKWUGuR+HavqtKQXE9Cl+F4W1B16Nwfe5KQ0FmZma+1GBlQcP1KHznZUFB7FG4eKzViEEK16PwUGQrQVK4HsVIQjBB\",\"dtype\":\"float64\",\"order\":\"little\",\"shape\":[33]},\"True_Values_left_parenthesis_y_test_right_parenthesis\":{\"__ndarray__\":\"9ihc/6NxZ0GamZmZmsUtQXsUrmcH7kRBzczMXLgiUkFI4XoUGkQNQaRwPQpbXS9B4XoUDgcSgEGkcD3KN3QzQZqZmZnbaGtBmpmZmX5bIkH2KFzv+DFFQWZmZub7AzhBAAAAAOrOTUEAAACAEsJfQc3MzOxFAU5BUrgeBQZoNUFI4XpUBr0wQYXrUXDUdWBBuB6FK/FrOkGkcD2KZK0iQWZmZmbJHSJBHoXrUdHFMUE9Ctfjv0EzQexRuB47iQZBSOF61FHKWUGuR+HavqtKQXE9Cl+F4W1B16Nwfe5KQ0FmZma+1GBlQcP1KHznZUFB7FG4eKzViEEK16PwUGQrQVK4HsVIQjBB\",\"dtype\":\"float64\",\"order\":\"little\",\"shape\":[33]}},\"selected\":{\"id\":\"1150\"},\"selection_policy\":{\"id\":\"1171\"}},\"id\":\"1149\",\"type\":\"ColumnDataSource\"},{\"attributes\":{\"axis\":{\"id\":\"1132\"},\"coordinates\":null,\"dimension\":1,\"grid_line_color\":null,\"group\":null,\"ticker\":null},\"id\":\"1135\",\"type\":\"Grid\"},{\"attributes\":{\"axis_label\":\"Predicted Values\",\"coordinates\":null,\"formatter\":{\"id\":\"1162\"},\"group\":null,\"major_label_policy\":{\"id\":\"1163\"},\"ticker\":{\"id\":\"1133\"}},\"id\":\"1132\",\"type\":\"LinearAxis\"},{\"attributes\":{},\"id\":\"1133\",\"type\":\"BasicTicker\"},{\"attributes\":{},\"id\":\"1138\",\"type\":\"WheelZoomTool\"},{\"attributes\":{},\"id\":\"1136\",\"type\":\"SaveTool\"},{\"attributes\":{\"margin\":[5,5,5,5],\"name\":\"HSpacer00972\",\"sizing_mode\":\"stretch_width\"},\"id\":\"1174\",\"type\":\"Spacer\"},{\"attributes\":{\"overlay\":{\"id\":\"1141\"}},\"id\":\"1139\",\"type\":\"BoxZoomTool\"},{\"attributes\":{},\"id\":\"1140\",\"type\":\"ResetTool\"},{\"attributes\":{\"end\":21193908.295311265,\"reset_end\":21193908.295311265,\"reset_start\":-729858.7929423105,\"start\":-729858.7929423105,\"tags\":[[[\"Predicted Values\",\"Predicted Values\",null]]]},\"id\":\"1117\",\"type\":\"Range1d\"},{\"attributes\":{\"margin\":[5,5,5,5],\"name\":\"HSpacer00971\",\"sizing_mode\":\"stretch_width\"},\"id\":\"1115\",\"type\":\"Spacer\"},{\"attributes\":{\"bottom_units\":\"screen\",\"coordinates\":null,\"fill_alpha\":0.5,\"fill_color\":\"lightgrey\",\"group\":null,\"left_units\":\"screen\",\"level\":\"overlay\",\"line_alpha\":1.0,\"line_color\":\"black\",\"line_dash\":[4,4],\"line_width\":2,\"right_units\":\"screen\",\"syncable\":false,\"top_units\":\"screen\"},\"id\":\"1141\",\"type\":\"BoxAnnotation\"},{\"attributes\":{},\"id\":\"1124\",\"type\":\"LinearScale\"},{\"attributes\":{\"tools\":[{\"id\":\"1118\"},{\"id\":\"1136\"},{\"id\":\"1137\"},{\"id\":\"1138\"},{\"id\":\"1139\"},{\"id\":\"1140\"}]},\"id\":\"1142\",\"type\":\"Toolbar\"},{\"attributes\":{},\"id\":\"1162\",\"type\":\"BasicTickFormatter\"}],\"root_ids\":[\"1114\"]},\"title\":\"Bokeh Application\",\"version\":\"2.4.3\"}};\n",
       "    var render_items = [{\"docid\":\"317cde84-57be-45b7-b45e-d07970279d19\",\"root_ids\":[\"1114\"],\"roots\":{\"1114\":\"564bcc03-b850-4fc0-9623-4213a6fa6571\"}}];\n",
       "    root.Bokeh.embed.embed_items_notebook(docs_json, render_items);\n",
       "    for (const render_item of render_items) {\n",
       "      for (const root_id of render_item.root_ids) {\n",
       "\tconst id_el = document.getElementById(root_id)\n",
       "\tif (id_el.children.length && (id_el.children[0].className === 'bk-root')) {\n",
       "\t  const root_el = id_el.children[0]\n",
       "\t  root_el.id = root_el.id + '-rendered'\n",
       "\t}\n",
       "      }\n",
       "    }\n",
       "  }\n",
       "  if (root.Bokeh !== undefined && root.Bokeh.Panel !== undefined) {\n",
       "    embed_document(root);\n",
       "  } else {\n",
       "    var attempts = 0;\n",
       "    var timer = setInterval(function(root) {\n",
       "      if (root.Bokeh !== undefined && root.Bokeh.Panel !== undefined) {\n",
       "        clearInterval(timer);\n",
       "        embed_document(root);\n",
       "      } else if (document.readyState == \"complete\") {\n",
       "        attempts++;\n",
       "        if (attempts > 200) {\n",
       "          clearInterval(timer);\n",
       "          console.log(\"Bokeh: ERROR: Unable to run BokehJS code because BokehJS library is missing\");\n",
       "        }\n",
       "      }\n",
       "    }, 25, root)\n",
       "  }\n",
       "})(window);</script>"
      ],
      "text/plain": [
       ":Scatter   [True Values(y test)]   (Predicted Values)"
      ]
     },
     "execution_count": 84,
     "metadata": {
      "application/vnd.holoviews_exec.v0+json": {
       "id": "1114"
      }
     },
     "output_type": "execute_result"
    }
   ],
   "source": [
    "import hvplot.pandas\n",
    "pd.DataFrame({'True Values(y test)': y_test, 'Predicted Values': y_pred}).hvplot.scatter(x='True Values(y test)', y='Predicted Values')"
   ]
  },
  {
   "cell_type": "markdown",
   "id": "58fbd7fe",
   "metadata": {},
   "source": [
    "The values seem to align linearly, which shows that the model is acceptable."
   ]
  },
  {
   "cell_type": "markdown",
   "id": "d074a868",
   "metadata": {},
   "source": [
    "### Model Evaluation"
   ]
  },
  {
   "cell_type": "markdown",
   "id": "27c8f37e",
   "metadata": {},
   "source": [
    "Check the coefficients, P values, MAE, MSE, RMSE, R2 square\n",
    "\n",
    "Coefficients: Quantify the strength of relationship with correaltion(R)\n",
    "\n",
    "P value: The probability that randomly drawn points will result in the similarly strong relationship, so the smaller the p-value, the more confidence we have in the predictions we make with the line.\n",
    "\n",
    "MAE is the easiest to understand, because it's the average error.\n",
    "\n",
    "MSE is more popular than MAE, because MSE \"punishes\" larger errors, which tends to be useful in the real world.\n",
    "\n",
    "RMSE is even more popular than MSE, because RMSE is interpretable in the \"y\" units.\n",
    "\n",
    "All of these are loss functions, because we want to minimize them."
   ]
  },
  {
   "cell_type": "code",
   "execution_count": 85,
   "id": "3d82de1b",
   "metadata": {},
   "outputs": [],
   "source": [
    "from sklearn import metrics\n",
    "from sklearn.metrics import mean_squared_error\n",
    "from sklearn.metrics import mean_absolute_error\n",
    "from sklearn.metrics import r2_score\n",
    "from sklearn.metrics import mean_squared_error\n",
    "from sklearn.model_selection import cross_val_score\n",
    "\n",
    "def cross_val(model):\n",
    "    pred = cross_val_score(model, X, y, cv=10)\n",
    "    return pred.mean()\n",
    "\n",
    "def print_evaluate(true, predicted):  \n",
    "    mae = metrics.mean_absolute_error(true, predicted)\n",
    "    mse = metrics.mean_squared_error(true, predicted)\n",
    "    rmse = np.sqrt(metrics.mean_squared_error(true, predicted))\n",
    "    r2_square = metrics.r2_score(true, predicted)\n",
    "    print('MAE:', mae)\n",
    "    print('MSE:', mse)\n",
    "    print('RMSE:', rmse)\n",
    "    print('R2 Square', r2_square)\n",
    "    print('__________________________________')\n",
    "    \n",
    "def evaluate(true, predicted):\n",
    "    mae = metrics.mean_absolute_error(true, predicted)\n",
    "    mse = metrics.mean_squared_error(true, predicted)\n",
    "    rmse = np.sqrt(metrics.mean_squared_error(true, predicted))\n",
    "    r2_square = metrics.r2_score(true, predicted)\n",
    "    return mae, mse, rmse, r2_square"
   ]
  },
  {
   "cell_type": "code",
   "execution_count": 86,
   "id": "90a64823",
   "metadata": {},
   "outputs": [
    {
     "data": {
      "text/html": [
       "<div>\n",
       "<style scoped>\n",
       "    .dataframe tbody tr th:only-of-type {\n",
       "        vertical-align: middle;\n",
       "    }\n",
       "\n",
       "    .dataframe tbody tr th {\n",
       "        vertical-align: top;\n",
       "    }\n",
       "\n",
       "    .dataframe thead th {\n",
       "        text-align: right;\n",
       "    }\n",
       "</style>\n",
       "<table border=\"1\" class=\"dataframe\">\n",
       "  <thead>\n",
       "    <tr style=\"text-align: right;\">\n",
       "      <th></th>\n",
       "      <th>Coefficient</th>\n",
       "    </tr>\n",
       "  </thead>\n",
       "  <tbody>\n",
       "    <tr>\n",
       "      <th>GDP</th>\n",
       "      <td>0.074808</td>\n",
       "    </tr>\n",
       "  </tbody>\n",
       "</table>\n",
       "</div>"
      ],
      "text/plain": [
       "     Coefficient\n",
       "GDP     0.074808"
      ]
     },
     "execution_count": 86,
     "metadata": {},
     "output_type": "execute_result"
    }
   ],
   "source": [
    "# coefficient\n",
    "coeff_df = pd.DataFrame(model.coef_, X.columns, columns=['Coefficient'])\n",
    "coeff_df"
   ]
  },
  {
   "cell_type": "markdown",
   "id": "e66f899b",
   "metadata": {},
   "source": [
    "Interpreting the coefficients:\n",
    "\n",
    "Holding all other features fixed, a 1 unit (thousands of dollars) increase in GDP is associated with an increase of $0.034668 in EHR payment."
   ]
  },
  {
   "cell_type": "code",
   "execution_count": 87,
   "id": "7d7a03d2",
   "metadata": {},
   "outputs": [
    {
     "name": "stdout",
     "output_type": "stream",
     "text": [
      "Test set evaluation:\n",
      "_____________________________________\n",
      "MAE: 4351941.528942244\n",
      "MSE: 61958704766115.56\n",
      "RMSE: 7871385.187253611\n",
      "R2 Square 0.43232282421511603\n",
      "__________________________________\n"
     ]
    }
   ],
   "source": [
    "test_pred = model.predict(X_test)\n",
    "train_pred = model.predict(X_train)\n",
    "\n",
    "print('Test set evaluation:\\n_____________________________________')\n",
    "print_evaluate(y_test, test_pred)\n",
    "\n",
    "results_df = pd.DataFrame(data=[[\"Linear Regression\", *evaluate(y_test, test_pred) , cross_val(LinearRegression())]], \n",
    "                          columns=['Model', 'MAE', 'MSE', 'RMSE', 'R2 Square', \"Cross Validation\"])"
   ]
  },
  {
   "cell_type": "markdown",
   "id": "288ce98c",
   "metadata": {},
   "source": [
    "## Check the distribution of the error terms"
   ]
  },
  {
   "cell_type": "markdown",
   "id": "0f9a52fe",
   "metadata": {},
   "source": [
    "In linear regression we assume that the error term follows normal distribution. So we have to check this assumption before we can use the model for making predictions. We check this by looking at the histogram of the error term visually, making sure that the error terms are normally distributed around zero and that the left and right side are broadly similar."
   ]
  },
  {
   "cell_type": "code",
   "execution_count": 88,
   "id": "0e009215",
   "metadata": {},
   "outputs": [
    {
     "data": {},
     "metadata": {},
     "output_type": "display_data"
    },
    {
     "data": {
      "application/vnd.holoviews_exec.v0+json": "",
      "text/html": [
       "<div id='1226'>\n",
       "  <div class=\"bk-root\" id=\"c8fbcb7f-87f1-4de3-90a4-c5881cb92341\" data-root-id=\"1226\"></div>\n",
       "</div>\n",
       "<script type=\"application/javascript\">(function(root) {\n",
       "  function embed_document(root) {\n",
       "    var docs_json = {\"8cd464b7-da50-4cf4-aaaf-8659ff0e4548\":{\"defs\":[{\"extends\":null,\"module\":null,\"name\":\"ReactiveHTML1\",\"overrides\":[],\"properties\":[]},{\"extends\":null,\"module\":null,\"name\":\"FlexBox1\",\"overrides\":[],\"properties\":[{\"default\":\"flex-start\",\"kind\":null,\"name\":\"align_content\"},{\"default\":\"flex-start\",\"kind\":null,\"name\":\"align_items\"},{\"default\":\"row\",\"kind\":null,\"name\":\"flex_direction\"},{\"default\":\"wrap\",\"kind\":null,\"name\":\"flex_wrap\"},{\"default\":\"flex-start\",\"kind\":null,\"name\":\"justify_content\"}]},{\"extends\":null,\"module\":null,\"name\":\"GridStack1\",\"overrides\":[],\"properties\":[{\"default\":\"warn\",\"kind\":null,\"name\":\"mode\"},{\"default\":null,\"kind\":null,\"name\":\"ncols\"},{\"default\":null,\"kind\":null,\"name\":\"nrows\"},{\"default\":true,\"kind\":null,\"name\":\"allow_resize\"},{\"default\":true,\"kind\":null,\"name\":\"allow_drag\"},{\"default\":[],\"kind\":null,\"name\":\"state\"}]},{\"extends\":null,\"module\":null,\"name\":\"click1\",\"overrides\":[],\"properties\":[{\"default\":\"\",\"kind\":null,\"name\":\"terminal_output\"},{\"default\":\"\",\"kind\":null,\"name\":\"debug_name\"},{\"default\":0,\"kind\":null,\"name\":\"clears\"}]},{\"extends\":null,\"module\":null,\"name\":\"NotificationAreaBase1\",\"overrides\":[],\"properties\":[{\"default\":\"bottom-right\",\"kind\":null,\"name\":\"position\"},{\"default\":0,\"kind\":null,\"name\":\"_clear\"}]},{\"extends\":null,\"module\":null,\"name\":\"NotificationArea1\",\"overrides\":[],\"properties\":[{\"default\":[],\"kind\":null,\"name\":\"notifications\"},{\"default\":\"bottom-right\",\"kind\":null,\"name\":\"position\"},{\"default\":0,\"kind\":null,\"name\":\"_clear\"},{\"default\":[{\"background\":\"#ffc107\",\"icon\":{\"className\":\"fas fa-exclamation-triangle\",\"color\":\"white\",\"tagName\":\"i\"},\"type\":\"warning\"},{\"background\":\"#007bff\",\"icon\":{\"className\":\"fas fa-info-circle\",\"color\":\"white\",\"tagName\":\"i\"},\"type\":\"info\"}],\"kind\":null,\"name\":\"types\"}]},{\"extends\":null,\"module\":null,\"name\":\"Notification\",\"overrides\":[],\"properties\":[{\"default\":null,\"kind\":null,\"name\":\"background\"},{\"default\":3000,\"kind\":null,\"name\":\"duration\"},{\"default\":null,\"kind\":null,\"name\":\"icon\"},{\"default\":\"\",\"kind\":null,\"name\":\"message\"},{\"default\":null,\"kind\":null,\"name\":\"notification_type\"},{\"default\":false,\"kind\":null,\"name\":\"_destroyed\"}]},{\"extends\":null,\"module\":null,\"name\":\"TemplateActions1\",\"overrides\":[],\"properties\":[{\"default\":0,\"kind\":null,\"name\":\"open_modal\"},{\"default\":0,\"kind\":null,\"name\":\"close_modal\"}]},{\"extends\":null,\"module\":null,\"name\":\"MaterialTemplateActions1\",\"overrides\":[],\"properties\":[{\"default\":0,\"kind\":null,\"name\":\"open_modal\"},{\"default\":0,\"kind\":null,\"name\":\"close_modal\"}]}],\"roots\":{\"references\":[{\"attributes\":{},\"id\":\"1271\",\"type\":\"BasicTickFormatter\"},{\"attributes\":{\"margin\":[5,5,5,5],\"name\":\"HSpacer01097\",\"sizing_mode\":\"stretch_width\"},\"id\":\"1286\",\"type\":\"Spacer\"},{\"attributes\":{\"margin\":[5,5,5,5],\"name\":\"HSpacer01096\",\"sizing_mode\":\"stretch_width\"},\"id\":\"1227\",\"type\":\"Spacer\"},{\"attributes\":{\"end\":44630510.6651724,\"reset_end\":44630510.6651724,\"reset_start\":-28579241.24466514,\"start\":-28579241.24466514,\"tags\":[[[\"Error Values\",\"Error Values\",null]]]},\"id\":\"1228\",\"type\":\"Range1d\"},{\"attributes\":{},\"id\":\"1274\",\"type\":\"BasicTickFormatter\"},{\"attributes\":{},\"id\":\"1275\",\"type\":\"AllLabels\"},{\"attributes\":{},\"id\":\"1241\",\"type\":\"BasicTicker\"},{\"attributes\":{\"coordinates\":null,\"group\":null,\"text_color\":\"black\",\"text_font_size\":\"12pt\"},\"id\":\"1232\",\"type\":\"Title\"},{\"attributes\":{},\"id\":\"1236\",\"type\":\"LinearScale\"},{\"attributes\":{\"axis_label\":\"Error Values\",\"coordinates\":null,\"formatter\":{\"id\":\"1271\"},\"group\":null,\"major_label_policy\":{\"id\":\"1272\"},\"ticker\":{\"id\":\"1241\"}},\"id\":\"1240\",\"type\":\"LinearAxis\"},{\"attributes\":{\"axis\":{\"id\":\"1240\"},\"coordinates\":null,\"grid_line_color\":null,\"group\":null,\"ticker\":null},\"id\":\"1243\",\"type\":\"Grid\"},{\"attributes\":{},\"id\":\"1238\",\"type\":\"LinearScale\"},{\"attributes\":{\"end\":7.788359103157963e-08,\"reset_end\":7.788359103157963e-08,\"reset_start\":0.0,\"tags\":[[[\"Error Values_density\",\"Density\",null]]]},\"id\":\"1229\",\"type\":\"Range1d\"},{\"attributes\":{\"children\":[{\"id\":\"1227\"},{\"id\":\"1231\"},{\"id\":\"1286\"}],\"margin\":[0,0,0,0],\"name\":\"Row01092\",\"tags\":[\"embedded\"]},\"id\":\"1226\",\"type\":\"Row\"},{\"attributes\":{\"fill_alpha\":0.5,\"fill_color\":\"#30a2da\",\"hatch_color\":\"#30a2da\",\"x\":{\"field\":\"x\"},\"y\":{\"field\":\"y\"}},\"id\":\"1269\",\"type\":\"Patch\"},{\"attributes\":{\"callback\":null,\"renderers\":[{\"id\":\"1267\"}],\"tags\":[\"hv_created\"],\"tooltips\":[[\"Error Values\",\"@{Error_Values}\"],[\"Density\",\"@{Error_Values_density}\"]]},\"id\":\"1230\",\"type\":\"HoverTool\"},{\"attributes\":{},\"id\":\"1249\",\"type\":\"PanTool\"},{\"attributes\":{\"axis\":{\"id\":\"1244\"},\"coordinates\":null,\"dimension\":1,\"grid_line_color\":null,\"group\":null,\"ticker\":null},\"id\":\"1247\",\"type\":\"Grid\"},{\"attributes\":{\"below\":[{\"id\":\"1240\"}],\"center\":[{\"id\":\"1243\"},{\"id\":\"1247\"}],\"height\":300,\"left\":[{\"id\":\"1244\"}],\"margin\":[5,5,5,5],\"min_border_bottom\":10,\"min_border_left\":10,\"min_border_right\":10,\"min_border_top\":10,\"renderers\":[{\"id\":\"1267\"}],\"sizing_mode\":\"fixed\",\"title\":{\"id\":\"1232\"},\"toolbar\":{\"id\":\"1254\"},\"width\":700,\"x_range\":{\"id\":\"1228\"},\"x_scale\":{\"id\":\"1236\"},\"y_range\":{\"id\":\"1229\"},\"y_scale\":{\"id\":\"1238\"}},\"id\":\"1231\",\"subtype\":\"Figure\",\"type\":\"Plot\"},{\"attributes\":{\"axis_label\":\"Density\",\"coordinates\":null,\"formatter\":{\"id\":\"1274\"},\"group\":null,\"major_label_policy\":{\"id\":\"1275\"},\"ticker\":{\"id\":\"1245\"}},\"id\":\"1244\",\"type\":\"LinearAxis\"},{\"attributes\":{\"fill_alpha\":0.2,\"fill_color\":\"#30a2da\",\"hatch_alpha\":0.2,\"hatch_color\":\"#30a2da\",\"line_alpha\":0.2,\"x\":{\"field\":\"x\"},\"y\":{\"field\":\"y\"}},\"id\":\"1266\",\"type\":\"Patch\"},{\"attributes\":{},\"id\":\"1245\",\"type\":\"BasicTicker\"},{\"attributes\":{},\"id\":\"1250\",\"type\":\"WheelZoomTool\"},{\"attributes\":{},\"id\":\"1283\",\"type\":\"UnionRenderers\"},{\"attributes\":{\"data\":{\"x\":{\"__ndarray__\":\"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\",\"dtype\":\"float64\",\"order\":\"little\",\"shape\":[200]},\"y\":{\"__ndarray__\":\"AAAAAAAAAAAAAAAAAAAAAAAAAAAAAAAAAAAAAAAAAAAAAAAAAAAAAAAAAAAAAAAAAAAAAAAAAAAAAAAAAAAAAAAAAAAAAAAAAAAAAAAAAAAAAAAAAAAAAAAAAAAAAAAAAAAAAAAAAAAAAAAAAAAAAAAAAAAAAAAAAAAAAAAAAAAAAAAAAAAAAAAAAAAAAAAAAAAAAAAAAAAAAAAAAAAAAAAAAAAAAAAAAAAAAAAAAAAAAAAAAAAAAAAAAAAAAAAAAAAAAAAAAAAAAAAAAAAAAAAAAAAAAAAAAAAAAAAAAAAAAAAAAAAAAAAAAAAAAAAAAAAAAAAAAAAAAAAAAAAAAAAAAAAAAAAAAAAAAAAAAAAAAAAAAAAAAAAAAAAAAAAAAAAAAAAAAAAAAAAAAAAAAAAAAAAAAAAAAAAAAAAAAAAAAAAAAAAAAAAAAAAAAAAAAAAAAAAAAAAAAAAAAAAAAAAAAAAAAAAAAAAAAAAAAAAAAAAAAAAAAAAAAAAAAAAAAAAAAAAAAAAAAAAAAAAAAAAAAAAAAAAAAAAAAAAAAAAAAAAAAAAAAAAAAAAAAAAAAAAAAAAAAAAAAAAAAAAAAAAAAAAAAAAAAAAAAAAAAAAAAAAAAAAAAAAAAAAAAAAAAAAAAAAAAAAAAAAAAAAAAAAAAAAAAAAAAAAAAAAAAAAAAAAAAAAAAAAAAAAAAAAAAAAAAAAAAAAAAAAAAAAAAAAAAAAAAAAAAAAAAAAAAAAAAAAAAAAAAAAAAAAAAAAAAAAAAAAAAAAAAAAAAAAAAAAAAAAAAAAAAAAAAAAAAAAAAAAAAAAAAAAAAAAAAAAAAAAAAAAAAAAAAAAAAAAAAAAAAAAAAAAAAAAAAAAAAAAAAAAAAAAAAAAAAAAAAAAAAAAAAAAAAAAAAAAAAAAAAAAAAAAAAAAAAAAAAAAAAAAAAAAAAAAAAAAAAAAAAAAAAAAAAAAAAAAAAAAAAAAAAAAAAAAAAAAAAAAAAAAAAAAAAAAAAAAAAAAAAAAAAAAAAAAAAAAAAAAAAAAAAAAAAAAAAAAAAAAAAAAAAAAAAACk6brpw5bCPW2FQc8W8M89OpJdsWiA2j0VhJejzT3lPWvazuX6cfA9lKm8Pa6Y+D3OuxC5ZcQBPh58+wUsywg+lMuf7MS1ED4hgq+rrMEVPlskMMysXBs+8S6lOaOeID75GMDvdoAjPgEXQWO4GiY+oG05h4czKD4k5igGhZgpPlUF/+O/Jio+98/3yZ/QKT4v4GvlgqAoPpHPFF2FtyY+tZnECs9IJD4sI/sCjJIhPmCIjaBCrB0+/lqiXkmiGD49wMf1UHAUPtdVxdd2ZxE+bQxtKDd9Dz4zo6F58SQPPkbb1qBa5hA+YLDjqmWkEz4uUiQ4VZ0XPsjjgfe1iBw+if/SXKkDIT5KEaRdyNQjPrxDNc1cfSY+o54cUG3IKD4BYOxvrI8qPp8bTAeQxCs+VV2BzWt3LD7eYMqLBNssPvfHq//FQy0+JV6facIiLj6aiIfWpP0vPkyFYNW+sjE+nIkXmUd3ND5xSC03bZU4Pkh0jBARVD4+5sTgMSX8Qj6QYWbN6eJHPvq8nmHZ/k0+n0x+9ka2Uj7OQ4DdyB9XPiKhTi9PPVw+SyWPuY4BYT58x59S7SlkPoS9RMvHfmc+jyNoNr3caj6Qef/izhduPrWuy5+Jf3A+iVsVBfOwcT7ncji23YpyPlNyNPjA/XI+ojaiR8YBcz5GxGfDp5dyPkmCZl9byHE+GmDIua6jcD6vTRiOUHxuPttgkNwxXWs+zfD0WIgXaD4SZH6t19RkPr1KyuTVt2E+akMp36y1XT7lKZS5o55YPrWGiu6pPFQ+/ZVR6CqTUD7/ckt5pDNLPlikvOKKf0Y+4Mr1BY7dQj6YbdRL/htAPotR1QgeETw+PGPwAM3nOD78/PhdeGg2Pkw7LQ9GTjQ+N6tk4idlMj4as/Wod4owPiyUs4cpWC0+DHN39SSMKT4CDe0ic74lPsOuMo60CSI+ndQP2ksaHT6VN6lXv8oWPmjOXaZ8ThE+T+UMX4J1CT4SFczBTiACPuCwq0uc+Pg9n7npu2Ki8D3adsK1Bm3lPUp+SonvrNo9QN2By1QM0D0D9kKroKjCPQ==\",\"dtype\":\"float64\",\"order\":\"little\",\"shape\":[200]}},\"selected\":{\"id\":\"1262\"},\"selection_policy\":{\"id\":\"1283\"}},\"id\":\"1261\",\"type\":\"ColumnDataSource\"},{\"attributes\":{},\"id\":\"1248\",\"type\":\"SaveTool\"},{\"attributes\":{\"overlay\":{\"id\":\"1253\"}},\"id\":\"1251\",\"type\":\"BoxZoomTool\"},{\"attributes\":{},\"id\":\"1252\",\"type\":\"ResetTool\"},{\"attributes\":{},\"id\":\"1262\",\"type\":\"Selection\"},{\"attributes\":{\"bottom_units\":\"screen\",\"coordinates\":null,\"fill_alpha\":0.5,\"fill_color\":\"lightgrey\",\"group\":null,\"left_units\":\"screen\",\"level\":\"overlay\",\"line_alpha\":1.0,\"line_color\":\"black\",\"line_dash\":[4,4],\"line_width\":2,\"right_units\":\"screen\",\"syncable\":false,\"top_units\":\"screen\"},\"id\":\"1253\",\"type\":\"BoxAnnotation\"},{\"attributes\":{\"coordinates\":null,\"data_source\":{\"id\":\"1261\"},\"glyph\":{\"id\":\"1264\"},\"group\":null,\"hover_glyph\":null,\"muted_glyph\":{\"id\":\"1266\"},\"nonselection_glyph\":{\"id\":\"1265\"},\"selection_glyph\":{\"id\":\"1269\"},\"view\":{\"id\":\"1268\"}},\"id\":\"1267\",\"type\":\"GlyphRenderer\"},{\"attributes\":{\"fill_alpha\":0.5,\"fill_color\":\"#30a2da\",\"hatch_alpha\":0.1,\"hatch_color\":\"#30a2da\",\"line_alpha\":1,\"x\":{\"field\":\"x\"},\"y\":{\"field\":\"y\"}},\"id\":\"1265\",\"type\":\"Patch\"},{\"attributes\":{},\"id\":\"1272\",\"type\":\"AllLabels\"},{\"attributes\":{\"fill_alpha\":0.5,\"fill_color\":\"#30a2da\",\"hatch_color\":\"#30a2da\",\"x\":{\"field\":\"x\"},\"y\":{\"field\":\"y\"}},\"id\":\"1264\",\"type\":\"Patch\"},{\"attributes\":{\"tools\":[{\"id\":\"1230\"},{\"id\":\"1248\"},{\"id\":\"1249\"},{\"id\":\"1250\"},{\"id\":\"1251\"},{\"id\":\"1252\"}]},\"id\":\"1254\",\"type\":\"Toolbar\"},{\"attributes\":{\"source\":{\"id\":\"1261\"}},\"id\":\"1268\",\"type\":\"CDSView\"}],\"root_ids\":[\"1226\"]},\"title\":\"Bokeh Application\",\"version\":\"2.4.3\"}};\n",
       "    var render_items = [{\"docid\":\"8cd464b7-da50-4cf4-aaaf-8659ff0e4548\",\"root_ids\":[\"1226\"],\"roots\":{\"1226\":\"c8fbcb7f-87f1-4de3-90a4-c5881cb92341\"}}];\n",
       "    root.Bokeh.embed.embed_items_notebook(docs_json, render_items);\n",
       "    for (const render_item of render_items) {\n",
       "      for (const root_id of render_item.root_ids) {\n",
       "\tconst id_el = document.getElementById(root_id)\n",
       "\tif (id_el.children.length && (id_el.children[0].className === 'bk-root')) {\n",
       "\t  const root_el = id_el.children[0]\n",
       "\t  root_el.id = root_el.id + '-rendered'\n",
       "\t}\n",
       "      }\n",
       "    }\n",
       "  }\n",
       "  if (root.Bokeh !== undefined && root.Bokeh.Panel !== undefined) {\n",
       "    embed_document(root);\n",
       "  } else {\n",
       "    var attempts = 0;\n",
       "    var timer = setInterval(function(root) {\n",
       "      if (root.Bokeh !== undefined && root.Bokeh.Panel !== undefined) {\n",
       "        clearInterval(timer);\n",
       "        embed_document(root);\n",
       "      } else if (document.readyState == \"complete\") {\n",
       "        attempts++;\n",
       "        if (attempts > 200) {\n",
       "          clearInterval(timer);\n",
       "          console.log(\"Bokeh: ERROR: Unable to run BokehJS code because BokehJS library is missing\");\n",
       "        }\n",
       "      }\n",
       "    }, 25, root)\n",
       "  }\n",
       "})(window);</script>"
      ],
      "text/plain": [
       ":Distribution   [Error Values]   (Density)"
      ]
     },
     "execution_count": 88,
     "metadata": {
      "application/vnd.holoviews_exec.v0+json": {
       "id": "1226"
      }
     },
     "output_type": "execute_result"
    }
   ],
   "source": [
    "# Residual Histogram\n",
    "pd.DataFrame({'Error Values': (y_test - y_pred)}).hvplot.kde()"
   ]
  },
  {
   "cell_type": "markdown",
   "id": "f8f9af25",
   "metadata": {},
   "source": [
    "## Comparing machine learning models"
   ]
  },
  {
   "cell_type": "markdown",
   "id": "97112636",
   "metadata": {},
   "source": [
    "### Application of Decision Tree regression"
   ]
  },
  {
   "cell_type": "code",
   "execution_count": 89,
   "id": "1fdba186",
   "metadata": {},
   "outputs": [],
   "source": [
    "from sklearn.tree import DecisionTreeRegressor\n",
    "from sklearn import metrics\n",
    "\n",
    "model = DecisionTreeRegressor(random_state = 0)\n",
    "model.fit(X_train, y_train)\n",
    "#Predicting using test set \n",
    "y_pred = model.predict(X_test)\n",
    "mae=metrics.mean_absolute_error(y_test, y_pred)\n",
    "mse=metrics.mean_squared_error(y_test, y_pred)\n",
    "test_pred = model.predict(X_test)\n",
    "train_pred = model.predict(X_train)"
   ]
  },
  {
   "cell_type": "code",
   "execution_count": 90,
   "id": "cf39c302",
   "metadata": {
    "scrolled": true
   },
   "outputs": [
    {
     "name": "stdout",
     "output_type": "stream",
     "text": [
      "Test set evaluation:\n",
      "_____________________________________\n",
      "MAE: 5475328.290827922\n",
      "MSE: 95157454386242.45\n",
      "RMSE: 9754868.24033223\n",
      "R2 Square 0.1281497060861222\n",
      "__________________________________\n"
     ]
    },
    {
     "name": "stderr",
     "output_type": "stream",
     "text": [
      "/var/folders/3f/0c48rx816935875jnxcqj5sr0000gn/T/ipykernel_80542/3864298976.py:6: FutureWarning: The frame.append method is deprecated and will be removed from pandas in a future version. Use pandas.concat instead.\n",
      "  results_df = results_df.append(results_df_2, ignore_index=True)\n"
     ]
    }
   ],
   "source": [
    "print('Test set evaluation:\\n_____________________________________')\n",
    "print_evaluate(y_test, test_pred)\n",
    "\n",
    "results_df_2 = pd.DataFrame(data=[[\"Decision Tree regression\", *evaluate(y_test, test_pred) , cross_val(DecisionTreeRegressor())]], \n",
    "                          columns=['Model', 'MAE', 'MSE', 'RMSE', 'R2 Square', \"Cross Validation\"])\n",
    "results_df = results_df.append(results_df_2, ignore_index=True)"
   ]
  },
  {
   "cell_type": "markdown",
   "id": "6b66d7ff",
   "metadata": {},
   "source": [
    "### Application of Random Forest Regression"
   ]
  },
  {
   "cell_type": "code",
   "execution_count": 91,
   "id": "dcb106a6",
   "metadata": {},
   "outputs": [],
   "source": [
    "from sklearn.ensemble import RandomForestRegressor\n",
    "\n",
    "model = RandomForestRegressor(n_estimators = 300 ,  random_state = 0)\n",
    "model.fit(X_train,y_train)\n",
    "#Predicting the SalePrices using test set \n",
    "y_pred = model.predict(X_test)\n",
    "test_pred = model.predict(X_test)\n",
    "train_pred = model.predict(X_train)"
   ]
  },
  {
   "cell_type": "code",
   "execution_count": 92,
   "id": "77f8fb6b",
   "metadata": {},
   "outputs": [
    {
     "name": "stdout",
     "output_type": "stream",
     "text": [
      "Test set evaluation:\n",
      "_____________________________________\n",
      "MAE: 4754263.682152511\n",
      "MSE: 70276089581126.18\n",
      "RMSE: 8383083.536570907\n",
      "R2 Square 0.35611739772138007\n",
      "__________________________________\n"
     ]
    },
    {
     "name": "stderr",
     "output_type": "stream",
     "text": [
      "/var/folders/3f/0c48rx816935875jnxcqj5sr0000gn/T/ipykernel_80542/3477842244.py:6: FutureWarning: The frame.append method is deprecated and will be removed from pandas in a future version. Use pandas.concat instead.\n",
      "  results_df = results_df.append(results_df_2, ignore_index=True)\n"
     ]
    }
   ],
   "source": [
    "print('Test set evaluation:\\n_____________________________________')\n",
    "print_evaluate(y_test, test_pred)\n",
    "\n",
    "results_df_2 = pd.DataFrame(data=[[\"Random Forest Regression\", *evaluate(y_test, test_pred) , cross_val(RandomForestRegressor())]], \n",
    "                          columns=['Model', 'MAE', 'MSE', 'RMSE', 'R2 Square', \"Cross Validation\"])\n",
    "results_df = results_df.append(results_df_2, ignore_index=True)"
   ]
  },
  {
   "cell_type": "markdown",
   "id": "fce6839c",
   "metadata": {},
   "source": [
    "### Application of Support Vector Regression"
   ]
  },
  {
   "cell_type": "code",
   "execution_count": 93,
   "id": "c8d085ed",
   "metadata": {},
   "outputs": [],
   "source": [
    "from sklearn.svm import SVR\n",
    "model= SVR(kernel='rbf')\n",
    "model.fit(X_train,y_train)\n",
    "y_pred_svm=model.predict(X_test)\n",
    "#y_pred_svm = cross_val_predict(regressor, x, y)\n",
    "test_pred = model.predict(X_test)\n",
    "train_pred = model.predict(X_train)"
   ]
  },
  {
   "cell_type": "code",
   "execution_count": 94,
   "id": "3e0d8a6b",
   "metadata": {},
   "outputs": [
    {
     "name": "stdout",
     "output_type": "stream",
     "text": [
      "Test set evaluation:\n",
      "_____________________________________\n",
      "MAE: 5204076.54612964\n",
      "MSE: 122711145440754.66\n",
      "RMSE: 11077506.282587009\n",
      "R2 Square -0.12430233562971593\n",
      "__________________________________\n"
     ]
    },
    {
     "name": "stderr",
     "output_type": "stream",
     "text": [
      "/var/folders/3f/0c48rx816935875jnxcqj5sr0000gn/T/ipykernel_80542/865583917.py:6: FutureWarning: The frame.append method is deprecated and will be removed from pandas in a future version. Use pandas.concat instead.\n",
      "  results_df = results_df.append(results_df_2, ignore_index=True)\n"
     ]
    }
   ],
   "source": [
    "print('Test set evaluation:\\n_____________________________________')\n",
    "print_evaluate(y_test, test_pred)\n",
    "\n",
    "results_df_2 = pd.DataFrame(data=[[\"Support Vector Regression\", *evaluate(y_test, test_pred) , cross_val(SVR())]], \n",
    "                          columns=['Model', 'MAE', 'MSE', 'RMSE', 'R2 Square', \"Cross Validation\"])\n",
    "results_df = results_df.append(results_df_2, ignore_index=True)"
   ]
  },
  {
   "cell_type": "markdown",
   "id": "b1824465",
   "metadata": {},
   "source": [
    "### Random Sample Consensus(RANSAC) Regression"
   ]
  },
  {
   "cell_type": "markdown",
   "id": "5e92cfcd",
   "metadata": {},
   "source": [
    "Random sample consensus (RANSAC) is an iterative method to estimate parameters of a mathematical model from a set of observed data that contains outliers, when outliers are to be accorded no influence on the values of the estimates. Therefore, it also can be interpreted as an outlier detection method.\n",
    "\n",
    "A basic assumption is that the data consists of \"inliers\", i.e., data whose distribution can be explained by some set of model parameters, though may be subject to noise, and \"outliers\" which are data that do not fit the model. The outliers can come, for example, from extreme values of the noise or from erroneous measurements or incorrect hypotheses about the interpretation of data. RANSAC also assumes that, given a (usually small) set of inliers, there exists a procedure which can estimate the parameters of a model that optimally explains or fits this data."
   ]
  },
  {
   "cell_type": "code",
   "execution_count": 95,
   "id": "dfb45a08",
   "metadata": {},
   "outputs": [
    {
     "name": "stderr",
     "output_type": "stream",
     "text": [
      "/Users/vicky/.pyenv/versions/3.9.6/lib/python3.9/site-packages/sklearn/linear_model/_ransac.py:320: FutureWarning: `base_estimator` was renamed to `estimator` in version 1.1 and will be removed in 1.3.\n",
      "  warnings.warn(\n"
     ]
    }
   ],
   "source": [
    "from sklearn.linear_model import RANSACRegressor\n",
    "from sklearn.model_selection import cross_val_score\n",
    "from sklearn.model_selection import RepeatedKFold\n",
    "\n",
    "model = RANSACRegressor(base_estimator=LinearRegression(), max_trials=100)\n",
    "model.fit(X_train, y_train)\n",
    "\n",
    "test_pred = model.predict(X_test)\n",
    "#train_pred = model.predict(X_train)\n",
    "\n",
    "test_pred = model.predict(X_test)\n",
    "train_pred = model.predict(X_train)\n"
   ]
  },
  {
   "cell_type": "code",
   "execution_count": 96,
   "id": "76fcb339",
   "metadata": {},
   "outputs": [
    {
     "name": "stderr",
     "output_type": "stream",
     "text": [
      "/var/folders/3f/0c48rx816935875jnxcqj5sr0000gn/T/ipykernel_80542/4084467583.py:6: FutureWarning: The frame.append method is deprecated and will be removed from pandas in a future version. Use pandas.concat instead.\n",
      "  results_df = results_df.append(results_df_2, ignore_index=True)\n"
     ]
    },
    {
     "name": "stdout",
     "output_type": "stream",
     "text": [
      "Test set evaluation:\n",
      "_____________________________________\n",
      "MAE: 5343818.797905696\n",
      "MSE: 135826757310767.4\n",
      "RMSE: 11654473.70372285\n",
      "R2 Square -0.24447001074760122\n",
      "__________________________________\n"
     ]
    }
   ],
   "source": [
    "print('Test set evaluation:\\n_____________________________________')\n",
    "print_evaluate(y_test, test_pred)\n",
    "\n",
    "results_df_2 = pd.DataFrame(data=[[\"Random Sample Consensus\", *evaluate(y_test, test_pred) , cross_val(RANSACRegressor())]], \n",
    "                          columns=['Model', 'MAE', 'MSE', 'RMSE', 'R2 Square', \"Cross Validation\"])\n",
    "results_df = results_df.append(results_df_2, ignore_index=True)"
   ]
  },
  {
   "cell_type": "markdown",
   "id": "b61a4171",
   "metadata": {},
   "source": [
    "### Stochastic Gradient Descent"
   ]
  },
  {
   "cell_type": "markdown",
   "id": "90b7cb3a",
   "metadata": {},
   "source": [
    "Gradient Descent is a very generic optimization algorithm capable of finding optimal solutions to a wide range of problems. The general idea of Gradient Sescent is to tweak parameters iteratively in order to minimize a cost function. Gradient Descent measures the local gradient of the error function with regards to the parameters vector, and it goes in the direction of descending gradient. Once the gradient is zero, you have reached a minimum."
   ]
  },
  {
   "cell_type": "code",
   "execution_count": 97,
   "id": "09130a54",
   "metadata": {},
   "outputs": [],
   "source": [
    "from sklearn.linear_model import SGDRegressor\n",
    "\n",
    "sgd_reg = SGDRegressor(n_iter_no_change=250, penalty=None, eta0=0.0001, max_iter=100000)\n",
    "sgd_reg.fit(X_train, y_train)\n",
    "\n",
    "test_pred = sgd_reg.predict(X_test)\n",
    "train_pred = sgd_reg.predict(X_train)"
   ]
  },
  {
   "cell_type": "code",
   "execution_count": 98,
   "id": "43a5fb61",
   "metadata": {
    "scrolled": true
   },
   "outputs": [
    {
     "name": "stdout",
     "output_type": "stream",
     "text": [
      "Test set evaluation:\n",
      "_____________________________________\n",
      "MAE: 5343818.797905696\n",
      "MSE: 135826757310767.4\n",
      "RMSE: 11654473.70372285\n",
      "R2 Square -0.24447001074760122\n",
      "__________________________________\n"
     ]
    },
    {
     "name": "stderr",
     "output_type": "stream",
     "text": [
      "/var/folders/3f/0c48rx816935875jnxcqj5sr0000gn/T/ipykernel_80542/1340551889.py:9: FutureWarning: The frame.append method is deprecated and will be removed from pandas in a future version. Use pandas.concat instead.\n",
      "  results_df = results_df.append(results_df_2, ignore_index=True)\n"
     ]
    }
   ],
   "source": [
    "test_pred = model.predict(X_test)\n",
    "train_pred = model.predict(X_train)\n",
    "\n",
    "print('Test set evaluation:\\n_____________________________________')\n",
    "print_evaluate(y_test, test_pred)\n",
    "\n",
    "results_df_2 = pd.DataFrame(data=[[\"Stochastic Gradient Descent\", *evaluate(y_test, test_pred),cross_val(SGDRegressor())]], \n",
    "                          columns=['Model', 'MAE', 'MSE', 'RMSE', 'R2 Square', \"Cross Validation\"])\n",
    "results_df = results_df.append(results_df_2, ignore_index=True)"
   ]
  },
  {
   "cell_type": "markdown",
   "id": "86d06174",
   "metadata": {},
   "source": [
    "## Models Comparison"
   ]
  },
  {
   "cell_type": "markdown",
   "id": "66eaf892",
   "metadata": {},
   "source": [
    "### MAE"
   ]
  },
  {
   "cell_type": "code",
   "execution_count": 99,
   "id": "4f435ca4",
   "metadata": {},
   "outputs": [
    {
     "data": {
      "text/plain": [
       "<AxesSubplot: ylabel='Model'>"
      ]
     },
     "execution_count": 99,
     "metadata": {},
     "output_type": "execute_result"
    },
    {
     "data": {
      "image/png": "[encoded data removed]",
      "text/plain": [
       "<Figure size 1200x800 with 1 Axes>"
      ]
     },
     "metadata": {},
     "output_type": "display_data"
    }
   ],
   "source": [
    "results_df.set_index('Model', inplace=True)\n",
    "results_df['MAE'].plot(kind='barh', figsize=(12, 8))"
   ]
  },
  {
   "cell_type": "markdown",
   "id": "6c9e63c8",
   "metadata": {},
   "source": [
    "### MSE"
   ]
  },
  {
   "cell_type": "code",
   "execution_count": 100,
   "id": "b8825f9b",
   "metadata": {},
   "outputs": [
    {
     "data": {
      "text/plain": [
       "<AxesSubplot: ylabel='Model'>"
      ]
     },
     "execution_count": 100,
     "metadata": {},
     "output_type": "execute_result"
    },
    {
     "data": {
      "image/png": "[encoded data removed]",
      "text/plain": [
       "<Figure size 1200x800 with 1 Axes>"
      ]
     },
     "metadata": {},
     "output_type": "display_data"
    }
   ],
   "source": [
    "results_df['MSE'].plot(kind='barh', figsize=(12, 8))"
   ]
  },
  {
   "cell_type": "markdown",
   "id": "b8b8a0a1",
   "metadata": {},
   "source": [
    "### RMSE"
   ]
  },
  {
   "cell_type": "code",
   "execution_count": 101,
   "id": "de4b9a0b",
   "metadata": {},
   "outputs": [
    {
     "data": {
      "text/plain": [
       "<AxesSubplot: ylabel='Model'>"
      ]
     },
     "execution_count": 101,
     "metadata": {},
     "output_type": "execute_result"
    },
    {
     "data": {
      "image/png": "[encoded data removed]",
      "text/plain": [
       "<Figure size 1200x800 with 1 Axes>"
      ]
     },
     "metadata": {},
     "output_type": "display_data"
    }
   ],
   "source": [
    "results_df['RMSE'].plot(kind='barh', figsize=(12, 8))"
   ]
  },
  {
   "cell_type": "markdown",
   "id": "6ba12e7e",
   "metadata": {},
   "source": [
    "### R2 Square"
   ]
  },
  {
   "cell_type": "code",
   "execution_count": 102,
   "id": "ff605e07",
   "metadata": {},
   "outputs": [
    {
     "data": {
      "text/plain": [
       "<AxesSubplot: ylabel='Model'>"
      ]
     },
     "execution_count": 102,
     "metadata": {},
     "output_type": "execute_result"
    },
    {
     "data": {
      "image/png": "[encoded data removed]",
      "text/plain": [
       "<Figure size 1200x800 with 1 Axes>"
      ]
     },
     "metadata": {},
     "output_type": "display_data"
    }
   ],
   "source": [
    "results_df['R2 Square'].plot(kind='barh', figsize=(12, 8))"
   ]
  },
  {
   "cell_type": "code",
   "execution_count": null,
   "id": "ff1cde91",
   "metadata": {},
   "outputs": [],
   "source": []
  },
  {
   "cell_type": "code",
   "execution_count": null,
   "id": "dcacd8a0",
   "metadata": {},
   "outputs": [],
   "source": []
  },
  {
   "cell_type": "markdown",
   "id": "ee33d816",
   "metadata": {},
   "source": [
    "# 2. Per-capita EHR spending correlation with median income in 2019 "
   ]
  },
  {
   "cell_type": "code",
   "execution_count": 105,
   "id": "b4149df8",
   "metadata": {},
   "outputs": [
    {
     "data": {
      "text/html": [
       "<div>\n",
       "<style scoped>\n",
       "    .dataframe tbody tr th:only-of-type {\n",
       "        vertical-align: middle;\n",
       "    }\n",
       "\n",
       "    .dataframe tbody tr th {\n",
       "        vertical-align: top;\n",
       "    }\n",
       "\n",
       "    .dataframe thead th {\n",
       "        text-align: right;\n",
       "    }\n",
       "</style>\n",
       "<table border=\"1\" class=\"dataframe\">\n",
       "  <thead>\n",
       "    <tr style=\"text-align: right;\">\n",
       "      <th></th>\n",
       "      <th>County</th>\n",
       "      <th>Year</th>\n",
       "      <th>Unit of GDP</th>\n",
       "      <th>GDP</th>\n",
       "      <th>EHR Total Payment</th>\n",
       "      <th>Population</th>\n",
       "      <th>Median Income</th>\n",
       "      <th>EHR Per Capita</th>\n",
       "    </tr>\n",
       "  </thead>\n",
       "  <tbody>\n",
       "    <tr>\n",
       "      <th>0</th>\n",
       "      <td>Alameda</td>\n",
       "      <td>2013</td>\n",
       "      <td>Thousands of dollars</td>\n",
       "      <td>100521444.0</td>\n",
       "      <td>757172.90</td>\n",
       "      <td>1563495.0</td>\n",
       "      <td>46217</td>\n",
       "      <td>0.484282</td>\n",
       "    </tr>\n",
       "    <tr>\n",
       "      <th>1</th>\n",
       "      <td>Kern</td>\n",
       "      <td>2013</td>\n",
       "      <td>Thousands of dollars</td>\n",
       "      <td>47122155.0</td>\n",
       "      <td>6983457.41</td>\n",
       "      <td>865511.0</td>\n",
       "      <td>30938</td>\n",
       "      <td>8.068595</td>\n",
       "    </tr>\n",
       "    <tr>\n",
       "      <th>2</th>\n",
       "      <td>Kings</td>\n",
       "      <td>2013</td>\n",
       "      <td>Thousands of dollars</td>\n",
       "      <td>5227087.0</td>\n",
       "      <td>631722.26</td>\n",
       "      <td>150507.0</td>\n",
       "      <td>29537</td>\n",
       "      <td>4.197295</td>\n",
       "    </tr>\n",
       "    <tr>\n",
       "      <th>3</th>\n",
       "      <td>Los Angeles</td>\n",
       "      <td>2013</td>\n",
       "      <td>Thousands of dollars</td>\n",
       "      <td>245565614.8</td>\n",
       "      <td>2519349.54</td>\n",
       "      <td>10013265.0</td>\n",
       "      <td>31516</td>\n",
       "      <td>0.251601</td>\n",
       "    </tr>\n",
       "    <tr>\n",
       "      <th>4</th>\n",
       "      <td>Mono</td>\n",
       "      <td>2013</td>\n",
       "      <td>Thousands of dollars</td>\n",
       "      <td>1343309.7</td>\n",
       "      <td>345199.57</td>\n",
       "      <td>14477.0</td>\n",
       "      <td>31546</td>\n",
       "      <td>23.844690</td>\n",
       "    </tr>\n",
       "    <tr>\n",
       "      <th>5</th>\n",
       "      <td>San Bernardino</td>\n",
       "      <td>2013</td>\n",
       "      <td>Thousands of dollars</td>\n",
       "      <td>70632027.0</td>\n",
       "      <td>1164753.32</td>\n",
       "      <td>2074080.0</td>\n",
       "      <td>31134</td>\n",
       "      <td>0.561576</td>\n",
       "    </tr>\n",
       "    <tr>\n",
       "      <th>6</th>\n",
       "      <td>Sonoma</td>\n",
       "      <td>2013</td>\n",
       "      <td>Thousands of dollars</td>\n",
       "      <td>23768530.0</td>\n",
       "      <td>234374.00</td>\n",
       "      <td>491619.0</td>\n",
       "      <td>39821</td>\n",
       "      <td>0.476739</td>\n",
       "    </tr>\n",
       "    <tr>\n",
       "      <th>7</th>\n",
       "      <td>Contra Costa</td>\n",
       "      <td>2014</td>\n",
       "      <td>Thousands of dollars</td>\n",
       "      <td>68282696.0</td>\n",
       "      <td>824709.14</td>\n",
       "      <td>1102416.0</td>\n",
       "      <td>49178</td>\n",
       "      <td>0.748092</td>\n",
       "    </tr>\n",
       "    <tr>\n",
       "      <th>8</th>\n",
       "      <td>Kern</td>\n",
       "      <td>2014</td>\n",
       "      <td>Thousands of dollars</td>\n",
       "      <td>47419015.0</td>\n",
       "      <td>6817797.68</td>\n",
       "      <td>875843.0</td>\n",
       "      <td>31347</td>\n",
       "      <td>7.784269</td>\n",
       "    </tr>\n",
       "    <tr>\n",
       "      <th>9</th>\n",
       "      <td>Los Angeles</td>\n",
       "      <td>2014</td>\n",
       "      <td>Thousands of dollars</td>\n",
       "      <td>245565614.8</td>\n",
       "      <td>7320017.77</td>\n",
       "      <td>10123688.0</td>\n",
       "      <td>32317</td>\n",
       "      <td>0.723058</td>\n",
       "    </tr>\n",
       "  </tbody>\n",
       "</table>\n",
       "</div>"
      ],
      "text/plain": [
       "           County  Year           Unit of GDP          GDP  EHR Total Payment  \\\n",
       "0         Alameda  2013  Thousands of dollars  100521444.0          757172.90   \n",
       "1            Kern  2013  Thousands of dollars   47122155.0         6983457.41   \n",
       "2           Kings  2013  Thousands of dollars    5227087.0          631722.26   \n",
       "3     Los Angeles  2013  Thousands of dollars  245565614.8         2519349.54   \n",
       "4            Mono  2013  Thousands of dollars    1343309.7          345199.57   \n",
       "5  San Bernardino  2013  Thousands of dollars   70632027.0         1164753.32   \n",
       "6          Sonoma  2013  Thousands of dollars   23768530.0          234374.00   \n",
       "7    Contra Costa  2014  Thousands of dollars   68282696.0          824709.14   \n",
       "8            Kern  2014  Thousands of dollars   47419015.0         6817797.68   \n",
       "9     Los Angeles  2014  Thousands of dollars  245565614.8         7320017.77   \n",
       "\n",
       "   Population  Median Income  EHR Per Capita  \n",
       "0   1563495.0          46217        0.484282  \n",
       "1    865511.0          30938        8.068595  \n",
       "2    150507.0          29537        4.197295  \n",
       "3  10013265.0          31516        0.251601  \n",
       "4     14477.0          31546       23.844690  \n",
       "5   2074080.0          31134        0.561576  \n",
       "6    491619.0          39821        0.476739  \n",
       "7   1102416.0          49178        0.748092  \n",
       "8    875843.0          31347        7.784269  \n",
       "9  10123688.0          32317        0.723058  "
      ]
     },
     "execution_count": 105,
     "metadata": {},
     "output_type": "execute_result"
    }
   ],
   "source": [
    "# calculate the per capita payment from EHR \n",
    "df[\"EHR Per Capita\"] = (df[\"EHR Total Payment\"]/df[\"Population\"])\n",
    "df.head(10)"
   ]
  },
  {
   "cell_type": "code",
   "execution_count": 106,
   "id": "8fdb0664",
   "metadata": {},
   "outputs": [
    {
     "data": {
      "text/html": [
       "<div>\n",
       "<style scoped>\n",
       "    .dataframe tbody tr th:only-of-type {\n",
       "        vertical-align: middle;\n",
       "    }\n",
       "\n",
       "    .dataframe tbody tr th {\n",
       "        vertical-align: top;\n",
       "    }\n",
       "\n",
       "    .dataframe thead th {\n",
       "        text-align: right;\n",
       "    }\n",
       "</style>\n",
       "<table border=\"1\" class=\"dataframe\">\n",
       "  <thead>\n",
       "    <tr style=\"text-align: right;\">\n",
       "      <th></th>\n",
       "      <th>County</th>\n",
       "      <th>Year</th>\n",
       "      <th>Unit of GDP</th>\n",
       "      <th>GDP</th>\n",
       "      <th>EHR Total Payment</th>\n",
       "      <th>Population</th>\n",
       "      <th>Median Income</th>\n",
       "      <th>EHR Per Capita</th>\n",
       "    </tr>\n",
       "  </thead>\n",
       "  <tbody>\n",
       "    <tr>\n",
       "      <th>71</th>\n",
       "      <td>Alameda</td>\n",
       "      <td>2019</td>\n",
       "      <td>Thousands of dollars</td>\n",
       "      <td>141888634.0</td>\n",
       "      <td>6760775.32</td>\n",
       "      <td>1671855.0</td>\n",
       "      <td>60757</td>\n",
       "      <td>4.043877</td>\n",
       "    </tr>\n",
       "    <tr>\n",
       "      <th>72</th>\n",
       "      <td>Amador</td>\n",
       "      <td>2019</td>\n",
       "      <td>Thousands of dollars</td>\n",
       "      <td>1870309.0</td>\n",
       "      <td>865130.13</td>\n",
       "      <td>37577.0</td>\n",
       "      <td>44292</td>\n",
       "      <td>23.022863</td>\n",
       "    </tr>\n",
       "    <tr>\n",
       "      <th>73</th>\n",
       "      <td>Del Norte</td>\n",
       "      <td>2019</td>\n",
       "      <td>Thousands of dollars</td>\n",
       "      <td>1343309.7</td>\n",
       "      <td>1096966.33</td>\n",
       "      <td>27193.0</td>\n",
       "      <td>34746</td>\n",
       "      <td>40.340026</td>\n",
       "    </tr>\n",
       "    <tr>\n",
       "      <th>74</th>\n",
       "      <td>Fresno</td>\n",
       "      <td>2019</td>\n",
       "      <td>Thousands of dollars</td>\n",
       "      <td>46177593.0</td>\n",
       "      <td>6271759.00</td>\n",
       "      <td>1026358.0</td>\n",
       "      <td>33034</td>\n",
       "      <td>6.110693</td>\n",
       "    </tr>\n",
       "    <tr>\n",
       "      <th>75</th>\n",
       "      <td>Glenn</td>\n",
       "      <td>2019</td>\n",
       "      <td>Thousands of dollars</td>\n",
       "      <td>1343309.7</td>\n",
       "      <td>919747.52</td>\n",
       "      <td>29507.0</td>\n",
       "      <td>35384</td>\n",
       "      <td>31.170486</td>\n",
       "    </tr>\n",
       "  </tbody>\n",
       "</table>\n",
       "</div>"
      ],
      "text/plain": [
       "       County  Year           Unit of GDP          GDP  EHR Total Payment  \\\n",
       "71    Alameda  2019  Thousands of dollars  141888634.0         6760775.32   \n",
       "72     Amador  2019  Thousands of dollars    1870309.0          865130.13   \n",
       "73  Del Norte  2019  Thousands of dollars    1343309.7         1096966.33   \n",
       "74     Fresno  2019  Thousands of dollars   46177593.0         6271759.00   \n",
       "75      Glenn  2019  Thousands of dollars    1343309.7          919747.52   \n",
       "\n",
       "    Population  Median Income  EHR Per Capita  \n",
       "71   1671855.0          60757        4.043877  \n",
       "72     37577.0          44292       23.022863  \n",
       "73     27193.0          34746       40.340026  \n",
       "74   1026358.0          33034        6.110693  \n",
       "75     29507.0          35384       31.170486  "
      ]
     },
     "execution_count": 106,
     "metadata": {},
     "output_type": "execute_result"
    }
   ],
   "source": [
    "df_2 = df[df[\"Year\"]==\"2019\"]\n",
    "df_2.head()"
   ]
  },
  {
   "cell_type": "markdown",
   "id": "f2e89225",
   "metadata": {},
   "source": [
    "## Outlier Treatment: Log Transformation"
   ]
  },
  {
   "cell_type": "markdown",
   "id": "3e69d2aa",
   "metadata": {},
   "source": [
    "Transformation of the skewed variables may also help correct the distribution of the variables. These could be logarithmic, square root, or square transformations."
   ]
  },
  {
   "cell_type": "code",
   "execution_count": 107,
   "id": "559390b6",
   "metadata": {},
   "outputs": [
    {
     "name": "stderr",
     "output_type": "stream",
     "text": [
      "/var/folders/3f/0c48rx816935875jnxcqj5sr0000gn/T/ipykernel_80542/2494199717.py:3: SettingWithCopyWarning: \n",
      "A value is trying to be set on a copy of a slice from a DataFrame.\n",
      "Try using .loc[row_indexer,col_indexer] = value instead\n",
      "\n",
      "See the caveats in the documentation: https://pandas.pydata.org/pandas-docs/stable/user_guide/indexing.html#returning-a-view-versus-a-copy\n",
      "  df_2['Median Income'] = df_2['Median Income'].apply(lambda x: math.log(x)) # shrink the difference among data\n"
     ]
    },
    {
     "data": {
      "text/html": [
       "<div>\n",
       "<style scoped>\n",
       "    .dataframe tbody tr th:only-of-type {\n",
       "        vertical-align: middle;\n",
       "    }\n",
       "\n",
       "    .dataframe tbody tr th {\n",
       "        vertical-align: top;\n",
       "    }\n",
       "\n",
       "    .dataframe thead th {\n",
       "        text-align: right;\n",
       "    }\n",
       "</style>\n",
       "<table border=\"1\" class=\"dataframe\">\n",
       "  <thead>\n",
       "    <tr style=\"text-align: right;\">\n",
       "      <th></th>\n",
       "      <th>County</th>\n",
       "      <th>Year</th>\n",
       "      <th>Unit of GDP</th>\n",
       "      <th>GDP</th>\n",
       "      <th>EHR Total Payment</th>\n",
       "      <th>Population</th>\n",
       "      <th>Median Income</th>\n",
       "      <th>EHR Per Capita</th>\n",
       "    </tr>\n",
       "  </thead>\n",
       "  <tbody>\n",
       "    <tr>\n",
       "      <th>71</th>\n",
       "      <td>Alameda</td>\n",
       "      <td>2019</td>\n",
       "      <td>Thousands of dollars</td>\n",
       "      <td>141888634.0</td>\n",
       "      <td>6760775.32</td>\n",
       "      <td>1671855.0</td>\n",
       "      <td>11.014638</td>\n",
       "      <td>4.043877</td>\n",
       "    </tr>\n",
       "    <tr>\n",
       "      <th>72</th>\n",
       "      <td>Amador</td>\n",
       "      <td>2019</td>\n",
       "      <td>Thousands of dollars</td>\n",
       "      <td>1870309.0</td>\n",
       "      <td>865130.13</td>\n",
       "      <td>37577.0</td>\n",
       "      <td>10.698559</td>\n",
       "      <td>23.022863</td>\n",
       "    </tr>\n",
       "    <tr>\n",
       "      <th>73</th>\n",
       "      <td>Del Norte</td>\n",
       "      <td>2019</td>\n",
       "      <td>Thousands of dollars</td>\n",
       "      <td>1343309.7</td>\n",
       "      <td>1096966.33</td>\n",
       "      <td>27193.0</td>\n",
       "      <td>10.455820</td>\n",
       "      <td>40.340026</td>\n",
       "    </tr>\n",
       "    <tr>\n",
       "      <th>74</th>\n",
       "      <td>Fresno</td>\n",
       "      <td>2019</td>\n",
       "      <td>Thousands of dollars</td>\n",
       "      <td>46177593.0</td>\n",
       "      <td>6271759.00</td>\n",
       "      <td>1026358.0</td>\n",
       "      <td>10.405293</td>\n",
       "      <td>6.110693</td>\n",
       "    </tr>\n",
       "    <tr>\n",
       "      <th>75</th>\n",
       "      <td>Glenn</td>\n",
       "      <td>2019</td>\n",
       "      <td>Thousands of dollars</td>\n",
       "      <td>1343309.7</td>\n",
       "      <td>919747.52</td>\n",
       "      <td>29507.0</td>\n",
       "      <td>10.474015</td>\n",
       "      <td>31.170486</td>\n",
       "    </tr>\n",
       "  </tbody>\n",
       "</table>\n",
       "</div>"
      ],
      "text/plain": [
       "       County  Year           Unit of GDP          GDP  EHR Total Payment  \\\n",
       "71    Alameda  2019  Thousands of dollars  141888634.0         6760775.32   \n",
       "72     Amador  2019  Thousands of dollars    1870309.0          865130.13   \n",
       "73  Del Norte  2019  Thousands of dollars    1343309.7         1096966.33   \n",
       "74     Fresno  2019  Thousands of dollars   46177593.0         6271759.00   \n",
       "75      Glenn  2019  Thousands of dollars    1343309.7          919747.52   \n",
       "\n",
       "    Population  Median Income  EHR Per Capita  \n",
       "71   1671855.0      11.014638        4.043877  \n",
       "72     37577.0      10.698559       23.022863  \n",
       "73     27193.0      10.455820       40.340026  \n",
       "74   1026358.0      10.405293        6.110693  \n",
       "75     29507.0      10.474015       31.170486  "
      ]
     },
     "execution_count": 107,
     "metadata": {},
     "output_type": "execute_result"
    }
   ],
   "source": [
    "import math\n",
    "\n",
    "df_2['Median Income'] = df_2['Median Income'].apply(lambda x: math.log(x)) # shrink the difference among data\n",
    "df_2.head()"
   ]
  },
  {
   "cell_type": "code",
   "execution_count": 108,
   "id": "7c40a7ce",
   "metadata": {},
   "outputs": [
    {
     "name": "stdout",
     "output_type": "stream",
     "text": [
      "1.4205353149546158\n",
      "1.0524904313413512\n"
     ]
    }
   ],
   "source": [
    "print(df['Median Income'].skew())\n",
    "print(df_2['Median Income'].skew())"
   ]
  },
  {
   "cell_type": "markdown",
   "id": "77741a78",
   "metadata": {},
   "source": [
    "The above output shows that the skewness value came down from 1.38 to 0.83, confirming that the distribution has been treated for extreme values."
   ]
  },
  {
   "cell_type": "code",
   "execution_count": 109,
   "id": "88d33988",
   "metadata": {},
   "outputs": [
    {
     "data": {
      "text/plain": [
       "<AxesSubplot: xlabel='Median Income', ylabel='EHR Per Capita'>"
      ]
     },
     "execution_count": 109,
     "metadata": {},
     "output_type": "execute_result"
    },
    {
     "data": {
      "image/png": "[encoded data removed]",
      "text/plain": [
       "<Figure size 640x480 with 1 Axes>"
      ]
     },
     "metadata": {},
     "output_type": "display_data"
    }
   ],
   "source": [
    "sns.regplot(x='Median Income', y='EHR Per Capita', data=df_2, ci=None, scatter_kws={'s':100, 'facecolor':'red'})"
   ]
  },
  {
   "cell_type": "markdown",
   "id": "4ab74649",
   "metadata": {},
   "source": [
    "## Application of Linear Regression "
   ]
  },
  {
   "cell_type": "code",
   "execution_count": 110,
   "id": "c2b16826",
   "metadata": {},
   "outputs": [
    {
     "data": {
      "text/html": [
       "<style>#sk-container-id-3 {color: black;background-color: white;}#sk-container-id-3 pre{padding: 0;}#sk-container-id-3 div.sk-toggleable {background-color: white;}#sk-container-id-3 label.sk-toggleable__label {cursor: pointer;display: block;width: 100%;margin-bottom: 0;padding: 0.3em;box-sizing: border-box;text-align: center;}#sk-container-id-3 label.sk-toggleable__label-arrow:before {content: \"▸\";float: left;margin-right: 0.25em;color: #696969;}#sk-container-id-3 label.sk-toggleable__label-arrow:hover:before {color: black;}#sk-container-id-3 div.sk-estimator:hover label.sk-toggleable__label-arrow:before {color: black;}#sk-container-id-3 div.sk-toggleable__content {max-height: 0;max-width: 0;overflow: hidden;text-align: left;background-color: #f0f8ff;}#sk-container-id-3 div.sk-toggleable__content pre {margin: 0.2em;color: black;border-radius: 0.25em;background-color: #f0f8ff;}#sk-container-id-3 input.sk-toggleable__control:checked~div.sk-toggleable__content {max-height: 200px;max-width: 100%;overflow: auto;}#sk-container-id-3 input.sk-toggleable__control:checked~label.sk-toggleable__label-arrow:before {content: \"▾\";}#sk-container-id-3 div.sk-estimator input.sk-toggleable__control:checked~label.sk-toggleable__label {background-color: #d4ebff;}#sk-container-id-3 div.sk-label input.sk-toggleable__control:checked~label.sk-toggleable__label {background-color: #d4ebff;}#sk-container-id-3 input.sk-hidden--visually {border: 0;clip: rect(1px 1px 1px 1px);clip: rect(1px, 1px, 1px, 1px);height: 1px;margin: -1px;overflow: hidden;padding: 0;position: absolute;width: 1px;}#sk-container-id-3 div.sk-estimator {font-family: monospace;background-color: #f0f8ff;border: 1px dotted black;border-radius: 0.25em;box-sizing: border-box;margin-bottom: 0.5em;}#sk-container-id-3 div.sk-estimator:hover {background-color: #d4ebff;}#sk-container-id-3 div.sk-parallel-item::after {content: \"\";width: 100%;border-bottom: 1px solid gray;flex-grow: 1;}#sk-container-id-3 div.sk-label:hover label.sk-toggleable__label {background-color: #d4ebff;}#sk-container-id-3 div.sk-serial::before {content: \"\";position: absolute;border-left: 1px solid gray;box-sizing: border-box;top: 0;bottom: 0;left: 50%;z-index: 0;}#sk-container-id-3 div.sk-serial {display: flex;flex-direction: column;align-items: center;background-color: white;padding-right: 0.2em;padding-left: 0.2em;position: relative;}#sk-container-id-3 div.sk-item {position: relative;z-index: 1;}#sk-container-id-3 div.sk-parallel {display: flex;align-items: stretch;justify-content: center;background-color: white;position: relative;}#sk-container-id-3 div.sk-item::before, #sk-container-id-3 div.sk-parallel-item::before {content: \"\";position: absolute;border-left: 1px solid gray;box-sizing: border-box;top: 0;bottom: 0;left: 50%;z-index: -1;}#sk-container-id-3 div.sk-parallel-item {display: flex;flex-direction: column;z-index: 1;position: relative;background-color: white;}#sk-container-id-3 div.sk-parallel-item:first-child::after {align-self: flex-end;width: 50%;}#sk-container-id-3 div.sk-parallel-item:last-child::after {align-self: flex-start;width: 50%;}#sk-container-id-3 div.sk-parallel-item:only-child::after {width: 0;}#sk-container-id-3 div.sk-dashed-wrapped {border: 1px dashed gray;margin: 0 0.4em 0.5em 0.4em;box-sizing: border-box;padding-bottom: 0.4em;background-color: white;}#sk-container-id-3 div.sk-label label {font-family: monospace;font-weight: bold;display: inline-block;line-height: 1.2em;}#sk-container-id-3 div.sk-label-container {text-align: center;}#sk-container-id-3 div.sk-container {/* jupyter's `normalize.less` sets `[hidden] { display: none; }` but bootstrap.min.css set `[hidden] { display: none !important; }` so we also need the `!important` here to be able to override the default hidden behavior on the sphinx rendered scikit-learn.org. See: https://github.com/scikit-learn/scikit-learn/issues/21755 */display: inline-block !important;position: relative;}#sk-container-id-3 div.sk-text-repr-fallback {display: none;}</style><div id=\"sk-container-id-3\" class=\"sk-top-container\"><div class=\"sk-text-repr-fallback\"><pre>LinearRegression()</pre><b>In a Jupyter environment, please rerun this cell to show the HTML representation or trust the notebook. <br />On GitHub, the HTML representation is unable to render, please try loading this page with nbviewer.org.</b></div><div class=\"sk-container\" hidden><div class=\"sk-item\"><div class=\"sk-estimator sk-toggleable\"><input class=\"sk-toggleable__control sk-hidden--visually\" id=\"sk-estimator-id-3\" type=\"checkbox\" checked><label for=\"sk-estimator-id-3\" class=\"sk-toggleable__label sk-toggleable__label-arrow\">LinearRegression</label><div class=\"sk-toggleable__content\"><pre>LinearRegression()</pre></div></div></div></div></div>"
      ],
      "text/plain": [
       "LinearRegression()"
      ]
     },
     "execution_count": 110,
     "metadata": {},
     "output_type": "execute_result"
    }
   ],
   "source": [
    "# ================================================\n",
    "# Build the model\n",
    "# ================================================\n",
    "\n",
    "# Training data\n",
    "X = df_2.loc[:,[\"Median Income\"]]  # features matrix\n",
    "y = df_2.loc[:,'EHR Per Capita']  # target (response) matix\n",
    "\n",
    "from sklearn.model_selection import train_test_split\n",
    "import statsmodels.api as sm\n",
    "\n",
    "# Splitting the data into train and test\n",
    "X_train, X_test, y_train, y_test = train_test_split(X,y, train_size=0.7,test_size=0.3,random_state=100)\n",
    "\n",
    "# Train the model\n",
    "model = LinearRegression()\n",
    "model.fit(X_train, y_train)"
   ]
  },
  {
   "cell_type": "markdown",
   "id": "a32e51ae",
   "metadata": {},
   "source": [
    "### Predicting test set result"
   ]
  },
  {
   "cell_type": "code",
   "execution_count": 111,
   "id": "f2d03b3a",
   "metadata": {},
   "outputs": [
    {
     "data": {
      "text/html": [
       "<div>\n",
       "<style scoped>\n",
       "    .dataframe tbody tr th:only-of-type {\n",
       "        vertical-align: middle;\n",
       "    }\n",
       "\n",
       "    .dataframe tbody tr th {\n",
       "        vertical-align: top;\n",
       "    }\n",
       "\n",
       "    .dataframe thead th {\n",
       "        text-align: right;\n",
       "    }\n",
       "</style>\n",
       "<table border=\"1\" class=\"dataframe\">\n",
       "  <thead>\n",
       "    <tr style=\"text-align: right;\">\n",
       "      <th></th>\n",
       "      <th>Actual</th>\n",
       "      <th>Predicted</th>\n",
       "    </tr>\n",
       "  </thead>\n",
       "  <tbody>\n",
       "    <tr>\n",
       "      <th>71</th>\n",
       "      <td>4.043877</td>\n",
       "      <td>4.223642</td>\n",
       "    </tr>\n",
       "    <tr>\n",
       "      <th>100</th>\n",
       "      <td>2.989369</td>\n",
       "      <td>-0.797553</td>\n",
       "    </tr>\n",
       "    <tr>\n",
       "      <th>101</th>\n",
       "      <td>0.407079</td>\n",
       "      <td>11.561195</td>\n",
       "    </tr>\n",
       "    <tr>\n",
       "      <th>106</th>\n",
       "      <td>9.444525</td>\n",
       "      <td>13.936672</td>\n",
       "    </tr>\n",
       "    <tr>\n",
       "      <th>93</th>\n",
       "      <td>22.342863</td>\n",
       "      <td>12.287554</td>\n",
       "    </tr>\n",
       "  </tbody>\n",
       "</table>\n",
       "</div>"
      ],
      "text/plain": [
       "        Actual  Predicted\n",
       "71    4.043877   4.223642\n",
       "100   2.989369  -0.797553\n",
       "101   0.407079  11.561195\n",
       "106   9.444525  13.936672\n",
       "93   22.342863  12.287554"
      ]
     },
     "execution_count": 111,
     "metadata": {},
     "output_type": "execute_result"
    }
   ],
   "source": [
    "y_pred = model.predict(X_test)\n",
    "\n",
    "# Comparing the test values and the predicted values\n",
    "comparison_df = pd.DataFrame({\"Actual\":y_test,\"Predicted\":y_pred})\n",
    "comparison_df.head()"
   ]
  },
  {
   "cell_type": "markdown",
   "id": "99c72da5",
   "metadata": {},
   "source": [
    "### Checking the residuals"
   ]
  },
  {
   "cell_type": "code",
   "execution_count": 112,
   "id": "2979caca",
   "metadata": {},
   "outputs": [
    {
     "data": {
      "text/plain": [
       "71     -0.179766\n",
       "100     3.786922\n",
       "101   -11.154117\n",
       "106    -4.492147\n",
       "93     10.055309\n",
       "Name: EHR Per Capita, dtype: float64"
      ]
     },
     "execution_count": 112,
     "metadata": {},
     "output_type": "execute_result"
    }
   ],
   "source": [
    "residuals = y_test - y_pred\n",
    "residuals.head()"
   ]
  },
  {
   "cell_type": "code",
   "execution_count": 113,
   "id": "ba05556e",
   "metadata": {},
   "outputs": [
    {
     "data": {},
     "metadata": {},
     "output_type": "display_data"
    },
    {
     "data": {
      "application/vnd.holoviews_exec.v0+json": "",
      "text/html": [
       "<div id='1338'>\n",
       "  <div class=\"bk-root\" id=\"a83c2a44-0bdd-4b1c-80d9-97b5e859d59a\" data-root-id=\"1338\"></div>\n",
       "</div>\n",
       "<script type=\"application/javascript\">(function(root) {\n",
       "  function embed_document(root) {\n",
       "    var docs_json = {\"80253c65-05c5-4c01-8440-a579acf5ef2c\":{\"defs\":[{\"extends\":null,\"module\":null,\"name\":\"ReactiveHTML1\",\"overrides\":[],\"properties\":[]},{\"extends\":null,\"module\":null,\"name\":\"FlexBox1\",\"overrides\":[],\"properties\":[{\"default\":\"flex-start\",\"kind\":null,\"name\":\"align_content\"},{\"default\":\"flex-start\",\"kind\":null,\"name\":\"align_items\"},{\"default\":\"row\",\"kind\":null,\"name\":\"flex_direction\"},{\"default\":\"wrap\",\"kind\":null,\"name\":\"flex_wrap\"},{\"default\":\"flex-start\",\"kind\":null,\"name\":\"justify_content\"}]},{\"extends\":null,\"module\":null,\"name\":\"GridStack1\",\"overrides\":[],\"properties\":[{\"default\":\"warn\",\"kind\":null,\"name\":\"mode\"},{\"default\":null,\"kind\":null,\"name\":\"ncols\"},{\"default\":null,\"kind\":null,\"name\":\"nrows\"},{\"default\":true,\"kind\":null,\"name\":\"allow_resize\"},{\"default\":true,\"kind\":null,\"name\":\"allow_drag\"},{\"default\":[],\"kind\":null,\"name\":\"state\"}]},{\"extends\":null,\"module\":null,\"name\":\"click1\",\"overrides\":[],\"properties\":[{\"default\":\"\",\"kind\":null,\"name\":\"terminal_output\"},{\"default\":\"\",\"kind\":null,\"name\":\"debug_name\"},{\"default\":0,\"kind\":null,\"name\":\"clears\"}]},{\"extends\":null,\"module\":null,\"name\":\"NotificationAreaBase1\",\"overrides\":[],\"properties\":[{\"default\":\"bottom-right\",\"kind\":null,\"name\":\"position\"},{\"default\":0,\"kind\":null,\"name\":\"_clear\"}]},{\"extends\":null,\"module\":null,\"name\":\"NotificationArea1\",\"overrides\":[],\"properties\":[{\"default\":[],\"kind\":null,\"name\":\"notifications\"},{\"default\":\"bottom-right\",\"kind\":null,\"name\":\"position\"},{\"default\":0,\"kind\":null,\"name\":\"_clear\"},{\"default\":[{\"background\":\"#ffc107\",\"icon\":{\"className\":\"fas fa-exclamation-triangle\",\"color\":\"white\",\"tagName\":\"i\"},\"type\":\"warning\"},{\"background\":\"#007bff\",\"icon\":{\"className\":\"fas fa-info-circle\",\"color\":\"white\",\"tagName\":\"i\"},\"type\":\"info\"}],\"kind\":null,\"name\":\"types\"}]},{\"extends\":null,\"module\":null,\"name\":\"Notification\",\"overrides\":[],\"properties\":[{\"default\":null,\"kind\":null,\"name\":\"background\"},{\"default\":3000,\"kind\":null,\"name\":\"duration\"},{\"default\":null,\"kind\":null,\"name\":\"icon\"},{\"default\":\"\",\"kind\":null,\"name\":\"message\"},{\"default\":null,\"kind\":null,\"name\":\"notification_type\"},{\"default\":false,\"kind\":null,\"name\":\"_destroyed\"}]},{\"extends\":null,\"module\":null,\"name\":\"TemplateActions1\",\"overrides\":[],\"properties\":[{\"default\":0,\"kind\":null,\"name\":\"open_modal\"},{\"default\":0,\"kind\":null,\"name\":\"close_modal\"}]},{\"extends\":null,\"module\":null,\"name\":\"MaterialTemplateActions1\",\"overrides\":[],\"properties\":[{\"default\":0,\"kind\":null,\"name\":\"open_modal\"},{\"default\":0,\"kind\":null,\"name\":\"close_modal\"}]}],\"roots\":{\"references\":[{\"attributes\":{\"axis\":{\"id\":\"1352\"},\"coordinates\":null,\"grid_line_color\":null,\"group\":null,\"ticker\":null},\"id\":\"1355\",\"type\":\"Grid\"},{\"attributes\":{},\"id\":\"1353\",\"type\":\"BasicTicker\"},{\"attributes\":{\"children\":[{\"id\":\"1339\"},{\"id\":\"1343\"},{\"id\":\"1398\"}],\"margin\":[0,0,0,0],\"name\":\"Row01234\",\"tags\":[\"embedded\"]},\"id\":\"1338\",\"type\":\"Row\"},{\"attributes\":{},\"id\":\"1395\",\"type\":\"UnionRenderers\"},{\"attributes\":{\"end\":26.537116839329048,\"reset_end\":26.537116839329048,\"reset_start\":-4.793736248116733,\"start\":-4.793736248116733,\"tags\":[[[\"Predicted Values\",\"Predicted Values\",null]]]},\"id\":\"1341\",\"type\":\"Range1d\"},{\"attributes\":{\"source\":{\"id\":\"1373\"}},\"id\":\"1380\",\"type\":\"CDSView\"},{\"attributes\":{},\"id\":\"1350\",\"type\":\"LinearScale\"},{\"attributes\":{\"coordinates\":null,\"data_source\":{\"id\":\"1373\"},\"glyph\":{\"id\":\"1376\"},\"group\":null,\"hover_glyph\":null,\"muted_glyph\":{\"id\":\"1378\"},\"nonselection_glyph\":{\"id\":\"1377\"},\"selection_glyph\":{\"id\":\"1381\"},\"view\":{\"id\":\"1380\"}},\"id\":\"1379\",\"type\":\"GlyphRenderer\"},{\"attributes\":{\"callback\":null,\"renderers\":[{\"id\":\"1379\"}],\"tags\":[\"hv_created\"],\"tooltips\":[[\"True Values(y test)\",\"@{True_Values_left_parenthesis_y_test_right_parenthesis}\"],[\"Predicted Values\",\"@{Predicted_Values}\"]]},\"id\":\"1342\",\"type\":\"HoverTool\"},{\"attributes\":{},\"id\":\"1348\",\"type\":\"LinearScale\"},{\"attributes\":{\"margin\":[5,5,5,5],\"name\":\"HSpacer01238\",\"sizing_mode\":\"stretch_width\"},\"id\":\"1339\",\"type\":\"Spacer\"},{\"attributes\":{\"coordinates\":null,\"group\":null,\"text_color\":\"black\",\"text_font_size\":\"12pt\"},\"id\":\"1344\",\"type\":\"Title\"},{\"attributes\":{\"below\":[{\"id\":\"1352\"}],\"center\":[{\"id\":\"1355\"},{\"id\":\"1359\"}],\"height\":300,\"left\":[{\"id\":\"1356\"}],\"margin\":[5,5,5,5],\"min_border_bottom\":10,\"min_border_left\":10,\"min_border_right\":10,\"min_border_top\":10,\"renderers\":[{\"id\":\"1379\"}],\"sizing_mode\":\"fixed\",\"title\":{\"id\":\"1344\"},\"toolbar\":{\"id\":\"1366\"},\"width\":700,\"x_range\":{\"id\":\"1340\"},\"x_scale\":{\"id\":\"1348\"},\"y_range\":{\"id\":\"1341\"},\"y_scale\":{\"id\":\"1350\"}},\"id\":\"1343\",\"subtype\":\"Figure\",\"type\":\"Plot\"},{\"attributes\":{\"axis_label\":\"True Values(y test)\",\"coordinates\":null,\"formatter\":{\"id\":\"1383\"},\"group\":null,\"major_label_policy\":{\"id\":\"1384\"},\"ticker\":{\"id\":\"1353\"}},\"id\":\"1352\",\"type\":\"LinearAxis\"},{\"attributes\":{},\"id\":\"1384\",\"type\":\"AllLabels\"},{\"attributes\":{\"margin\":[5,5,5,5],\"name\":\"HSpacer01239\",\"sizing_mode\":\"stretch_width\"},\"id\":\"1398\",\"type\":\"Spacer\"},{\"attributes\":{},\"id\":\"1361\",\"type\":\"PanTool\"},{\"attributes\":{\"axis_label\":\"Predicted Values\",\"coordinates\":null,\"formatter\":{\"id\":\"1386\"},\"group\":null,\"major_label_policy\":{\"id\":\"1387\"},\"ticker\":{\"id\":\"1357\"}},\"id\":\"1356\",\"type\":\"LinearAxis\"},{\"attributes\":{\"fill_alpha\":{\"value\":0.1},\"fill_color\":{\"value\":\"#30a2da\"},\"hatch_alpha\":{\"value\":0.1},\"hatch_color\":{\"value\":\"#30a2da\"},\"line_alpha\":{\"value\":0.1},\"line_color\":{\"value\":\"#30a2da\"},\"size\":{\"value\":5.477225575051661},\"x\":{\"field\":\"True Values(y test)\"},\"y\":{\"field\":\"Predicted Values\"}},\"id\":\"1377\",\"type\":\"Scatter\"},{\"attributes\":{\"axis\":{\"id\":\"1356\"},\"coordinates\":null,\"dimension\":1,\"grid_line_color\":null,\"group\":null,\"ticker\":null},\"id\":\"1359\",\"type\":\"Grid\"},{\"attributes\":{},\"id\":\"1357\",\"type\":\"BasicTicker\"},{\"attributes\":{\"angle\":{\"value\":0.0},\"fill_alpha\":{\"value\":1.0},\"fill_color\":{\"value\":\"#30a2da\"},\"hatch_alpha\":{\"value\":1.0},\"hatch_color\":{\"value\":\"#30a2da\"},\"hatch_scale\":{\"value\":12.0},\"hatch_weight\":{\"value\":1.0},\"line_alpha\":{\"value\":1.0},\"line_cap\":{\"value\":\"butt\"},\"line_color\":{\"value\":\"#30a2da\"},\"line_dash\":{\"value\":[]},\"line_dash_offset\":{\"value\":0},\"line_join\":{\"value\":\"bevel\"},\"line_width\":{\"value\":1},\"marker\":{\"value\":\"circle\"},\"size\":{\"value\":5.477225575051661},\"x\":{\"field\":\"True Values(y test)\"},\"y\":{\"field\":\"Predicted Values\"}},\"id\":\"1381\",\"type\":\"Scatter\"},{\"attributes\":{\"data\":{\"Predicted Values\":{\"__ndarray__\":\"QMI1fQLlEEAAVKyyjYXpv0AozPpUHydAIB4ogJPfK0Bg3rY6OpMoQGCHJ30d6zRAkC/BQRztN0AAlQuIcHYBwEAnFjWZ9DFA4NpwZfVTN0DgcnOh2OAsQAA+yKPPLzNA\",\"dtype\":\"float64\",\"order\":\"little\",\"shape\":[12]},\"Predicted_Values\":{\"__ndarray__\":\"QMI1fQLlEEAAVKyyjYXpv0AozPpUHydAIB4ogJPfK0Bg3rY6OpMoQGCHJ30d6zRAkC/BQRztN0AAlQuIcHYBwEAnFjWZ9DFA4NpwZfVTN0DgcnOh2OAsQAA+yKPPLzNA\",\"dtype\":\"float64\",\"order\":\"little\",\"shape\":[12]},\"True Values(y test)\":{\"__ndarray__\":\"7jYP/e0sEED7Q49tOuoHQKeig0CTDdo/crr61pjjIkCjWkzdxVc2QB8zebakQ0FAugFBpWfuCUD3bXORWZUCQOPvv6eTOjRACgcmxki4J0Az+aJc2gU3QGHLXx3SL0BA\",\"dtype\":\"float64\",\"order\":\"little\",\"shape\":[12]},\"True_Values_left_parenthesis_y_test_right_parenthesis\":{\"__ndarray__\":\"7jYP/e0sEED7Q49tOuoHQKeig0CTDdo/crr61pjjIkCjWkzdxVc2QB8zebakQ0FAugFBpWfuCUD3bXORWZUCQOPvv6eTOjRACgcmxki4J0Az+aJc2gU3QGHLXx3SL0BA\",\"dtype\":\"float64\",\"order\":\"little\",\"shape\":[12]}},\"selected\":{\"id\":\"1374\"},\"selection_policy\":{\"id\":\"1395\"}},\"id\":\"1373\",\"type\":\"ColumnDataSource\"},{\"attributes\":{},\"id\":\"1362\",\"type\":\"WheelZoomTool\"},{\"attributes\":{},\"id\":\"1386\",\"type\":\"BasicTickFormatter\"},{\"attributes\":{},\"id\":\"1360\",\"type\":\"SaveTool\"},{\"attributes\":{\"end\":35.99080923122814,\"reset_end\":35.99080923122814,\"reset_start\":-1.0552665312410319,\"start\":-1.0552665312410319,\"tags\":[[[\"True Values(y test)\",\"True Values(y test)\",null]]]},\"id\":\"1340\",\"type\":\"Range1d\"},{\"attributes\":{},\"id\":\"1383\",\"type\":\"BasicTickFormatter\"},{\"attributes\":{\"overlay\":{\"id\":\"1365\"}},\"id\":\"1363\",\"type\":\"BoxZoomTool\"},{\"attributes\":{},\"id\":\"1364\",\"type\":\"ResetTool\"},{\"attributes\":{\"bottom_units\":\"screen\",\"coordinates\":null,\"fill_alpha\":0.5,\"fill_color\":\"lightgrey\",\"group\":null,\"left_units\":\"screen\",\"level\":\"overlay\",\"line_alpha\":1.0,\"line_color\":\"black\",\"line_dash\":[4,4],\"line_width\":2,\"right_units\":\"screen\",\"syncable\":false,\"top_units\":\"screen\"},\"id\":\"1365\",\"type\":\"BoxAnnotation\"},{\"attributes\":{\"fill_alpha\":{\"value\":0.2},\"fill_color\":{\"value\":\"#30a2da\"},\"hatch_alpha\":{\"value\":0.2},\"hatch_color\":{\"value\":\"#30a2da\"},\"line_alpha\":{\"value\":0.2},\"line_color\":{\"value\":\"#30a2da\"},\"size\":{\"value\":5.477225575051661},\"x\":{\"field\":\"True Values(y test)\"},\"y\":{\"field\":\"Predicted Values\"}},\"id\":\"1378\",\"type\":\"Scatter\"},{\"attributes\":{},\"id\":\"1387\",\"type\":\"AllLabels\"},{\"attributes\":{\"fill_color\":{\"value\":\"#30a2da\"},\"hatch_color\":{\"value\":\"#30a2da\"},\"line_color\":{\"value\":\"#30a2da\"},\"size\":{\"value\":5.477225575051661},\"x\":{\"field\":\"True Values(y test)\"},\"y\":{\"field\":\"Predicted Values\"}},\"id\":\"1376\",\"type\":\"Scatter\"},{\"attributes\":{\"tools\":[{\"id\":\"1342\"},{\"id\":\"1360\"},{\"id\":\"1361\"},{\"id\":\"1362\"},{\"id\":\"1363\"},{\"id\":\"1364\"}]},\"id\":\"1366\",\"type\":\"Toolbar\"},{\"attributes\":{},\"id\":\"1374\",\"type\":\"Selection\"}],\"root_ids\":[\"1338\"]},\"title\":\"Bokeh Application\",\"version\":\"2.4.3\"}};\n",
       "    var render_items = [{\"docid\":\"80253c65-05c5-4c01-8440-a579acf5ef2c\",\"root_ids\":[\"1338\"],\"roots\":{\"1338\":\"a83c2a44-0bdd-4b1c-80d9-97b5e859d59a\"}}];\n",
       "    root.Bokeh.embed.embed_items_notebook(docs_json, render_items);\n",
       "    for (const render_item of render_items) {\n",
       "      for (const root_id of render_item.root_ids) {\n",
       "\tconst id_el = document.getElementById(root_id)\n",
       "\tif (id_el.children.length && (id_el.children[0].className === 'bk-root')) {\n",
       "\t  const root_el = id_el.children[0]\n",
       "\t  root_el.id = root_el.id + '-rendered'\n",
       "\t}\n",
       "      }\n",
       "    }\n",
       "  }\n",
       "  if (root.Bokeh !== undefined && root.Bokeh.Panel !== undefined) {\n",
       "    embed_document(root);\n",
       "  } else {\n",
       "    var attempts = 0;\n",
       "    var timer = setInterval(function(root) {\n",
       "      if (root.Bokeh !== undefined && root.Bokeh.Panel !== undefined) {\n",
       "        clearInterval(timer);\n",
       "        embed_document(root);\n",
       "      } else if (document.readyState == \"complete\") {\n",
       "        attempts++;\n",
       "        if (attempts > 200) {\n",
       "          clearInterval(timer);\n",
       "          console.log(\"Bokeh: ERROR: Unable to run BokehJS code because BokehJS library is missing\");\n",
       "        }\n",
       "      }\n",
       "    }, 25, root)\n",
       "  }\n",
       "})(window);</script>"
      ],
      "text/plain": [
       ":Scatter   [True Values(y test)]   (Predicted Values)"
      ]
     },
     "execution_count": 113,
     "metadata": {
      "application/vnd.holoviews_exec.v0+json": {
       "id": "1338"
      }
     },
     "output_type": "execute_result"
    }
   ],
   "source": [
    "pd.DataFrame({'True Values(y test)': y_test, 'Predicted Values': y_pred}).hvplot.scatter(x='True Values(y test)', y='Predicted Values')"
   ]
  },
  {
   "cell_type": "markdown",
   "id": "bb46bd97",
   "metadata": {},
   "source": [
    "### Model Evaluation"
   ]
  },
  {
   "cell_type": "code",
   "execution_count": 114,
   "id": "35f32e93",
   "metadata": {},
   "outputs": [
    {
     "data": {
      "text/html": [
       "<div>\n",
       "<style scoped>\n",
       "    .dataframe tbody tr th:only-of-type {\n",
       "        vertical-align: middle;\n",
       "    }\n",
       "\n",
       "    .dataframe tbody tr th {\n",
       "        vertical-align: top;\n",
       "    }\n",
       "\n",
       "    .dataframe thead th {\n",
       "        text-align: right;\n",
       "    }\n",
       "</style>\n",
       "<table border=\"1\" class=\"dataframe\">\n",
       "  <thead>\n",
       "    <tr style=\"text-align: right;\">\n",
       "      <th></th>\n",
       "      <th>Coefficient</th>\n",
       "    </tr>\n",
       "  </thead>\n",
       "  <tbody>\n",
       "    <tr>\n",
       "      <th>Median Income</th>\n",
       "      <td>-32.319564</td>\n",
       "    </tr>\n",
       "  </tbody>\n",
       "</table>\n",
       "</div>"
      ],
      "text/plain": [
       "               Coefficient\n",
       "Median Income   -32.319564"
      ]
     },
     "execution_count": 114,
     "metadata": {},
     "output_type": "execute_result"
    }
   ],
   "source": [
    "# coefficient\n",
    "coeff_df = pd.DataFrame(model.coef_, X.columns, columns=['Coefficient'])\n",
    "coeff_df"
   ]
  },
  {
   "cell_type": "markdown",
   "id": "b79604a9",
   "metadata": {},
   "source": [
    "Interpreting the coefficients:\n",
    "\n",
    "Holding all other features fixed, a 1 unit increase in log of Median Income is associated with a decrease of $6.177453 in total payment per capita."
   ]
  },
  {
   "cell_type": "code",
   "execution_count": 115,
   "id": "8263ad33",
   "metadata": {},
   "outputs": [
    {
     "name": "stdout",
     "output_type": "stream",
     "text": [
      "Test set evaluation:\n",
      "_____________________________________\n",
      "MAE: 8.665066680416805\n",
      "MSE: 106.47741763905464\n",
      "RMSE: 10.318789543306648\n",
      "R2 Square 0.21672323904324675\n",
      "__________________________________\n"
     ]
    }
   ],
   "source": [
    "test_pred = model.predict(X_test)\n",
    "train_pred = model.predict(X_train)\n",
    "\n",
    "print('Test set evaluation:\\n_____________________________________')\n",
    "print_evaluate(y_test, test_pred)\n",
    "\n",
    "results_df = pd.DataFrame(data=[[\"Linear Regression\", *evaluate(y_test, test_pred) , cross_val(LinearRegression())]], \n",
    "                          columns=['Model', 'MAE', 'MSE', 'RMSE', 'R2 Square', \"Cross Validation\"])"
   ]
  },
  {
   "cell_type": "markdown",
   "id": "7ba9ea41",
   "metadata": {},
   "source": [
    "## Check the distribution of the error terms"
   ]
  },
  {
   "cell_type": "code",
   "execution_count": 116,
   "id": "42a03860",
   "metadata": {},
   "outputs": [
    {
     "data": {},
     "metadata": {},
     "output_type": "display_data"
    },
    {
     "data": {
      "application/vnd.holoviews_exec.v0+json": "",
      "text/html": [
       "<div id='1450'>\n",
       "  <div class=\"bk-root\" id=\"10fc5cc4-3346-48d9-bcf3-cf0e3ec839ec\" data-root-id=\"1450\"></div>\n",
       "</div>\n",
       "<script type=\"application/javascript\">(function(root) {\n",
       "  function embed_document(root) {\n",
       "    var docs_json = {\"d42a9b9c-0fe1-40f6-8733-e9fc76607343\":{\"defs\":[{\"extends\":null,\"module\":null,\"name\":\"ReactiveHTML1\",\"overrides\":[],\"properties\":[]},{\"extends\":null,\"module\":null,\"name\":\"FlexBox1\",\"overrides\":[],\"properties\":[{\"default\":\"flex-start\",\"kind\":null,\"name\":\"align_content\"},{\"default\":\"flex-start\",\"kind\":null,\"name\":\"align_items\"},{\"default\":\"row\",\"kind\":null,\"name\":\"flex_direction\"},{\"default\":\"wrap\",\"kind\":null,\"name\":\"flex_wrap\"},{\"default\":\"flex-start\",\"kind\":null,\"name\":\"justify_content\"}]},{\"extends\":null,\"module\":null,\"name\":\"GridStack1\",\"overrides\":[],\"properties\":[{\"default\":\"warn\",\"kind\":null,\"name\":\"mode\"},{\"default\":null,\"kind\":null,\"name\":\"ncols\"},{\"default\":null,\"kind\":null,\"name\":\"nrows\"},{\"default\":true,\"kind\":null,\"name\":\"allow_resize\"},{\"default\":true,\"kind\":null,\"name\":\"allow_drag\"},{\"default\":[],\"kind\":null,\"name\":\"state\"}]},{\"extends\":null,\"module\":null,\"name\":\"click1\",\"overrides\":[],\"properties\":[{\"default\":\"\",\"kind\":null,\"name\":\"terminal_output\"},{\"default\":\"\",\"kind\":null,\"name\":\"debug_name\"},{\"default\":0,\"kind\":null,\"name\":\"clears\"}]},{\"extends\":null,\"module\":null,\"name\":\"NotificationAreaBase1\",\"overrides\":[],\"properties\":[{\"default\":\"bottom-right\",\"kind\":null,\"name\":\"position\"},{\"default\":0,\"kind\":null,\"name\":\"_clear\"}]},{\"extends\":null,\"module\":null,\"name\":\"NotificationArea1\",\"overrides\":[],\"properties\":[{\"default\":[],\"kind\":null,\"name\":\"notifications\"},{\"default\":\"bottom-right\",\"kind\":null,\"name\":\"position\"},{\"default\":0,\"kind\":null,\"name\":\"_clear\"},{\"default\":[{\"background\":\"#ffc107\",\"icon\":{\"className\":\"fas fa-exclamation-triangle\",\"color\":\"white\",\"tagName\":\"i\"},\"type\":\"warning\"},{\"background\":\"#007bff\",\"icon\":{\"className\":\"fas fa-info-circle\",\"color\":\"white\",\"tagName\":\"i\"},\"type\":\"info\"}],\"kind\":null,\"name\":\"types\"}]},{\"extends\":null,\"module\":null,\"name\":\"Notification\",\"overrides\":[],\"properties\":[{\"default\":null,\"kind\":null,\"name\":\"background\"},{\"default\":3000,\"kind\":null,\"name\":\"duration\"},{\"default\":null,\"kind\":null,\"name\":\"icon\"},{\"default\":\"\",\"kind\":null,\"name\":\"message\"},{\"default\":null,\"kind\":null,\"name\":\"notification_type\"},{\"default\":false,\"kind\":null,\"name\":\"_destroyed\"}]},{\"extends\":null,\"module\":null,\"name\":\"TemplateActions1\",\"overrides\":[],\"properties\":[{\"default\":0,\"kind\":null,\"name\":\"open_modal\"},{\"default\":0,\"kind\":null,\"name\":\"close_modal\"}]},{\"extends\":null,\"module\":null,\"name\":\"MaterialTemplateActions1\",\"overrides\":[],\"properties\":[{\"default\":0,\"kind\":null,\"name\":\"open_modal\"},{\"default\":0,\"kind\":null,\"name\":\"close_modal\"}]}],\"roots\":{\"references\":[{\"attributes\":{\"fill_alpha\":0.5,\"fill_color\":\"#30a2da\",\"hatch_color\":\"#30a2da\",\"x\":{\"field\":\"x\"},\"y\":{\"field\":\"y\"}},\"id\":\"1488\",\"type\":\"Patch\"},{\"attributes\":{},\"id\":\"1473\",\"type\":\"PanTool\"},{\"attributes\":{\"coordinates\":null,\"data_source\":{\"id\":\"1485\"},\"glyph\":{\"id\":\"1488\"},\"group\":null,\"hover_glyph\":null,\"muted_glyph\":{\"id\":\"1490\"},\"nonselection_glyph\":{\"id\":\"1489\"},\"selection_glyph\":{\"id\":\"1493\"},\"view\":{\"id\":\"1492\"}},\"id\":\"1491\",\"type\":\"GlyphRenderer\"},{\"attributes\":{\"axis\":{\"id\":\"1468\"},\"coordinates\":null,\"dimension\":1,\"grid_line_color\":null,\"group\":null,\"ticker\":null},\"id\":\"1471\",\"type\":\"Grid\"},{\"attributes\":{},\"id\":\"1469\",\"type\":\"BasicTicker\"},{\"attributes\":{},\"id\":\"1474\",\"type\":\"WheelZoomTool\"},{\"attributes\":{\"fill_alpha\":0.2,\"fill_color\":\"#30a2da\",\"hatch_alpha\":0.2,\"hatch_color\":\"#30a2da\",\"line_alpha\":0.2,\"x\":{\"field\":\"x\"},\"y\":{\"field\":\"y\"}},\"id\":\"1490\",\"type\":\"Patch\"},{\"attributes\":{},\"id\":\"1472\",\"type\":\"SaveTool\"},{\"attributes\":{},\"id\":\"1495\",\"type\":\"BasicTickFormatter\"},{\"attributes\":{\"overlay\":{\"id\":\"1477\"}},\"id\":\"1475\",\"type\":\"BoxZoomTool\"},{\"attributes\":{},\"id\":\"1476\",\"type\":\"ResetTool\"},{\"attributes\":{},\"id\":\"1499\",\"type\":\"AllLabels\"},{\"attributes\":{\"tools\":[{\"id\":\"1454\"},{\"id\":\"1472\"},{\"id\":\"1473\"},{\"id\":\"1474\"},{\"id\":\"1475\"},{\"id\":\"1476\"}]},\"id\":\"1478\",\"type\":\"Toolbar\"},{\"attributes\":{\"bottom_units\":\"screen\",\"coordinates\":null,\"fill_alpha\":0.5,\"fill_color\":\"lightgrey\",\"group\":null,\"left_units\":\"screen\",\"level\":\"overlay\",\"line_alpha\":1.0,\"line_color\":\"black\",\"line_dash\":[4,4],\"line_width\":2,\"right_units\":\"screen\",\"syncable\":false,\"top_units\":\"screen\"},\"id\":\"1477\",\"type\":\"BoxAnnotation\"},{\"attributes\":{\"margin\":[5,5,5,5],\"name\":\"HSpacer01364\",\"sizing_mode\":\"stretch_width\"},\"id\":\"1510\",\"type\":\"Spacer\"},{\"attributes\":{\"callback\":null,\"renderers\":[{\"id\":\"1491\"}],\"tags\":[\"hv_created\"],\"tooltips\":[[\"Error Values\",\"@{Error_Values}\"],[\"Density\",\"@{Error_Values_density}\"]]},\"id\":\"1454\",\"type\":\"HoverTool\"},{\"attributes\":{\"fill_alpha\":0.5,\"fill_color\":\"#30a2da\",\"hatch_color\":\"#30a2da\",\"x\":{\"field\":\"x\"},\"y\":{\"field\":\"y\"}},\"id\":\"1493\",\"type\":\"Patch\"},{\"attributes\":{},\"id\":\"1507\",\"type\":\"UnionRenderers\"},{\"attributes\":{},\"id\":\"1460\",\"type\":\"LinearScale\"},{\"attributes\":{\"end\":33.23887926770058,\"reset_end\":33.23887926770058,\"reset_start\":-40.31363763675462,\"start\":-40.31363763675462,\"tags\":[[[\"Error Values\",\"Error Values\",null]]]},\"id\":\"1452\",\"type\":\"Range1d\"},{\"attributes\":{\"end\":0.03663955293424367,\"reset_end\":0.03663955293424367,\"reset_start\":0.0,\"tags\":[[[\"Error Values_density\",\"Density\",null]]]},\"id\":\"1453\",\"type\":\"Range1d\"},{\"attributes\":{\"margin\":[5,5,5,5],\"name\":\"HSpacer01363\",\"sizing_mode\":\"stretch_width\"},\"id\":\"1451\",\"type\":\"Spacer\"},{\"attributes\":{\"coordinates\":null,\"group\":null,\"text_color\":\"black\",\"text_font_size\":\"12pt\"},\"id\":\"1456\",\"type\":\"Title\"},{\"attributes\":{\"source\":{\"id\":\"1485\"}},\"id\":\"1492\",\"type\":\"CDSView\"},{\"attributes\":{\"fill_alpha\":0.5,\"fill_color\":\"#30a2da\",\"hatch_alpha\":0.1,\"hatch_color\":\"#30a2da\",\"line_alpha\":1,\"x\":{\"field\":\"x\"},\"y\":{\"field\":\"y\"}},\"id\":\"1489\",\"type\":\"Patch\"},{\"attributes\":{\"children\":[{\"id\":\"1451\"},{\"id\":\"1455\"},{\"id\":\"1510\"}],\"margin\":[0,0,0,0],\"name\":\"Row01359\",\"tags\":[\"embedded\"]},\"id\":\"1450\",\"type\":\"Row\"},{\"attributes\":{\"axis_label\":\"Error Values\",\"coordinates\":null,\"formatter\":{\"id\":\"1495\"},\"group\":null,\"major_label_policy\":{\"id\":\"1496\"},\"ticker\":{\"id\":\"1465\"}},\"id\":\"1464\",\"type\":\"LinearAxis\"},{\"attributes\":{\"data\":{\"x\":{\"__ndarray__\":\"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\",\"dtype\":\"float64\",\"order\":\"little\",\"shape\":[200]},\"y\":{\"__ndarray__\":\"AAAAAAAAAAAAAAAAAAAAAAAAAAAAAAAAAAAAAAAAAAAAAAAAAAAAAAAAAAAAAAAAAAAAAAAAAAAAAAAAAAAAAAAAAAAAAAAAAAAAAAAAAAAAAAAAAAAAAAAAAAAAAAAAAAAAAAAAAAAAAAAAAAAAAAAAAAAAAAAAAAAAAAAAAAAAAAAAAAAAAAAAAAAAAAAAAAAAAAAAAAAAAAAAAAAAAAAAAAAAAAAAAAAAAAAAAAAAAAAAAAAAAAAAAAAAAAAAAAAAAAAAAAAAAAAAAAAAAAAAAAAAAAAAAAAAAAAAAAAAAAAAAAAAAAAAAAAAAAAAAAAAAAAAAAAAAAAAAAAAAAAAAAAAAAAAAAAAAAAAAAAAAAAAAAAAAAAAAAAAAAAAAAAAAAAAAAAAAAAAAAAAAAAAAAAAAAAAAAAAAAAAAAAAAAAAAAAAAAAAAAAAAAAAAAAAAAAAAAAAAAAAAAAAAAAAAAAAAAAAAAAAAAAAAAAAAAAAAAAAAAAAAAAAAAAAAAAAAAAAAAAAAAAAAAAAAAAAAAAAAAAAAAAAAAAAAAAAAAAAAAAAAAAAAAAAAAAAAAAAAAAAAAAAAAAAAAAAAAAAAAAAAAAAAAAAAAAAAAAAAAAAAAAAAAAAAAAAAAAAAAAAAAAAAAAAAAAAAAAAAAAAAAAAAAAAAAAAAAAAAAAAAAAAAAAAAAAAAAAAAAAAAAAAAAAAAAAAAAAAAAAAAAAAAAAAAAAAAAAAAAAAAAAAAAAAAAAAAAAAAAAAAAAAAAAAAAAAAAAAAAAAAAAAAAAAAAAAAAAAAAAAAAAAAAAAAAAAAAAAAAAAAAAAAAAAAAAAAAAAAAAAAAAAAAAAAAAAAAAAAAAAAAAAAAAAAAAAAAAAAAAAAAAAAAAAAAAAAAAAAAAAAAAAAAAAAAAAAAAAAAAAAAAAAAAAAAAAAAAAAAAAAAAAAAAAAAAAAAAAAAAAAAAAAAAAAAAAAAAAAAAAAAAAAAAAAAAAAAAAAAAAAAAAAAAAAAAAAAAAAAAAAAAAAAAAAAAAAAAAAAAAAAAAAAAAAAAAAAAAAAAAAABnc8SkXLgeP157nwJBuCU/iFPW3spWLj8A0k8ny+40P0giOqaViTw/T1eDlhQ4Qz9o1X3+/JNJP/eN2n6a0VA/It7eYpbbVT9wgTqkDxNcP/6valkV0mE/+XrVJSldZj/LzXbdD79rP7hUUVnABHE/mrP1wC+ldD8ETcHsQMV4P+K64v5GZn0/MerEBANDgT8RVm0SMA+EP8zfsEOYEoc/zONDgC1Gij/r11AOCaGNPxh1SGVUjJA/WecegaFQkj8FT0iuFReUP/IYgeAg2ZU/kVaytTGQlz8Zr29C6zWZPyjrf89UxJo/EF7FGAE2nD9euTC+K4adP6AvNszMsJ4/2t2/XKOynz/5buKUnESgP+FeErBwmaA/FPNsglrXoD88ZMBpR/6gP8wwwdyDDqE/6TjhDLoIoT++kKGD8O2gP18jaeiHv6A/LdyR2jZ/oD/ZHJXAAi+gP9Wo0Dtpop8/n+rU0JLQnj9EHvnMu+2dP566zIYt/5w/Xfo2UAwKnD8VTqlUIRObPzT/W2ynHpo/ZVYoUR8wmT8yYb85L0qYP2YHivOQbpc/4yQwPBCelj9NHHGCmdiVP3kBPI1XHZU/rSl2Bd1qlD+A2Au0Vb+TPxOFIJm6GJM//WhS6AN1kj864gtzVNKRP+86dQobL5E/WLp8wieKkD/NyhIbacWPP0DuK1zEcI4/yxXjiFcWjT/1kZVCqLaLP+lf7s+gUoo/AxsK0GbriD+awk72OIKHP43zPYVXGIY/uBjoAfmuhD9Q3iliSkeDP/rEzxt44oE/1PxrO7yBgD9qdbdU2kx+PwDbAxwSpHs/r9oTI3UMeT+26zSGqol2PyyMTWiSH3Q/+rFPAR7ScT/RgJAqOkpvP4THZ8INOGs/UNRA+IlzZz+vfptNDAFkP9buaHI742A/hCt2S8o1XD8a2Avj+U1XP77EoLNzCVM/lk0/KDi/Tj8wMhXmxYpIPziu5xfeW0M/DzOnozwtPj/zgiCNjTw3P7ymBGDNrDE/YzMT5U6PKj9hmHpYk7UjPyPdK0l84xw/OisbAF/oFD/UYCzLceINPw==\",\"dtype\":\"float64\",\"order\":\"little\",\"shape\":[200]}},\"selected\":{\"id\":\"1486\"},\"selection_policy\":{\"id\":\"1507\"}},\"id\":\"1485\",\"type\":\"ColumnDataSource\"},{\"attributes\":{\"below\":[{\"id\":\"1464\"}],\"center\":[{\"id\":\"1467\"},{\"id\":\"1471\"}],\"height\":300,\"left\":[{\"id\":\"1468\"}],\"margin\":[5,5,5,5],\"min_border_bottom\":10,\"min_border_left\":10,\"min_border_right\":10,\"min_border_top\":10,\"renderers\":[{\"id\":\"1491\"}],\"sizing_mode\":\"fixed\",\"title\":{\"id\":\"1456\"},\"toolbar\":{\"id\":\"1478\"},\"width\":700,\"x_range\":{\"id\":\"1452\"},\"x_scale\":{\"id\":\"1460\"},\"y_range\":{\"id\":\"1453\"},\"y_scale\":{\"id\":\"1462\"}},\"id\":\"1455\",\"subtype\":\"Figure\",\"type\":\"Plot\"},{\"attributes\":{},\"id\":\"1465\",\"type\":\"BasicTicker\"},{\"attributes\":{},\"id\":\"1486\",\"type\":\"Selection\"},{\"attributes\":{},\"id\":\"1462\",\"type\":\"LinearScale\"},{\"attributes\":{\"axis\":{\"id\":\"1464\"},\"coordinates\":null,\"grid_line_color\":null,\"group\":null,\"ticker\":null},\"id\":\"1467\",\"type\":\"Grid\"},{\"attributes\":{\"axis_label\":\"Density\",\"coordinates\":null,\"formatter\":{\"id\":\"1498\"},\"group\":null,\"major_label_policy\":{\"id\":\"1499\"},\"ticker\":{\"id\":\"1469\"}},\"id\":\"1468\",\"type\":\"LinearAxis\"},{\"attributes\":{},\"id\":\"1496\",\"type\":\"AllLabels\"},{\"attributes\":{},\"id\":\"1498\",\"type\":\"BasicTickFormatter\"}],\"root_ids\":[\"1450\"]},\"title\":\"Bokeh Application\",\"version\":\"2.4.3\"}};\n",
       "    var render_items = [{\"docid\":\"d42a9b9c-0fe1-40f6-8733-e9fc76607343\",\"root_ids\":[\"1450\"],\"roots\":{\"1450\":\"10fc5cc4-3346-48d9-bcf3-cf0e3ec839ec\"}}];\n",
       "    root.Bokeh.embed.embed_items_notebook(docs_json, render_items);\n",
       "    for (const render_item of render_items) {\n",
       "      for (const root_id of render_item.root_ids) {\n",
       "\tconst id_el = document.getElementById(root_id)\n",
       "\tif (id_el.children.length && (id_el.children[0].className === 'bk-root')) {\n",
       "\t  const root_el = id_el.children[0]\n",
       "\t  root_el.id = root_el.id + '-rendered'\n",
       "\t}\n",
       "      }\n",
       "    }\n",
       "  }\n",
       "  if (root.Bokeh !== undefined && root.Bokeh.Panel !== undefined) {\n",
       "    embed_document(root);\n",
       "  } else {\n",
       "    var attempts = 0;\n",
       "    var timer = setInterval(function(root) {\n",
       "      if (root.Bokeh !== undefined && root.Bokeh.Panel !== undefined) {\n",
       "        clearInterval(timer);\n",
       "        embed_document(root);\n",
       "      } else if (document.readyState == \"complete\") {\n",
       "        attempts++;\n",
       "        if (attempts > 200) {\n",
       "          clearInterval(timer);\n",
       "          console.log(\"Bokeh: ERROR: Unable to run BokehJS code because BokehJS library is missing\");\n",
       "        }\n",
       "      }\n",
       "    }, 25, root)\n",
       "  }\n",
       "})(window);</script>"
      ],
      "text/plain": [
       ":Distribution   [Error Values]   (Density)"
      ]
     },
     "execution_count": 116,
     "metadata": {
      "application/vnd.holoviews_exec.v0+json": {
       "id": "1450"
      }
     },
     "output_type": "execute_result"
    }
   ],
   "source": [
    "# Residual Histogram\n",
    "pd.DataFrame({'Error Values': (y_test - y_pred)}).hvplot.kde()"
   ]
  },
  {
   "cell_type": "markdown",
   "id": "fc9eb3c4",
   "metadata": {},
   "source": [
    "## Comparing machine learning models"
   ]
  },
  {
   "cell_type": "markdown",
   "id": "f99157d0",
   "metadata": {},
   "source": [
    "### Application of Decision Tree regression"
   ]
  },
  {
   "cell_type": "code",
   "execution_count": 117,
   "id": "2839633b",
   "metadata": {},
   "outputs": [],
   "source": [
    "from sklearn.tree import DecisionTreeRegressor\n",
    "from sklearn import metrics\n",
    "\n",
    "model = DecisionTreeRegressor(random_state = 0)\n",
    "model.fit(X_train, y_train)\n",
    "#Predicting using test set \n",
    "y_pred = model.predict(X_test)\n",
    "mae=metrics.mean_absolute_error(y_test, y_pred)\n",
    "mse=metrics.mean_squared_error(y_test, y_pred)\n",
    "test_pred = model.predict(X_test)\n",
    "train_pred = model.predict(X_train)"
   ]
  },
  {
   "cell_type": "code",
   "execution_count": 118,
   "id": "4696c5df",
   "metadata": {},
   "outputs": [
    {
     "name": "stdout",
     "output_type": "stream",
     "text": [
      "Test set evaluation:\n",
      "_____________________________________\n",
      "MAE: 14.596771173241315\n",
      "MSE: 303.8031515017828\n",
      "RMSE: 17.42994984220502\n",
      "R2 Square -1.2348583742275943\n",
      "__________________________________\n"
     ]
    },
    {
     "name": "stderr",
     "output_type": "stream",
     "text": [
      "/var/folders/3f/0c48rx816935875jnxcqj5sr0000gn/T/ipykernel_80542/3864298976.py:6: FutureWarning: The frame.append method is deprecated and will be removed from pandas in a future version. Use pandas.concat instead.\n",
      "  results_df = results_df.append(results_df_2, ignore_index=True)\n"
     ]
    }
   ],
   "source": [
    "print('Test set evaluation:\\n_____________________________________')\n",
    "print_evaluate(y_test, test_pred)\n",
    "\n",
    "results_df_2 = pd.DataFrame(data=[[\"Decision Tree regression\", *evaluate(y_test, test_pred) , cross_val(DecisionTreeRegressor())]], \n",
    "                          columns=['Model', 'MAE', 'MSE', 'RMSE', 'R2 Square', \"Cross Validation\"])\n",
    "results_df = results_df.append(results_df_2, ignore_index=True)"
   ]
  },
  {
   "cell_type": "markdown",
   "id": "c45bde99",
   "metadata": {},
   "source": [
    "### Application of Random Forest Regression"
   ]
  },
  {
   "cell_type": "code",
   "execution_count": 119,
   "id": "4d010b79",
   "metadata": {},
   "outputs": [],
   "source": [
    "from sklearn.ensemble import RandomForestRegressor\n",
    "\n",
    "model = RandomForestRegressor(n_estimators = 300 ,  random_state = 0)\n",
    "model.fit(X_train,y_train)\n",
    "#Predicting the SalePrices using test set \n",
    "y_pred = model.predict(X_test)\n",
    "test_pred = model.predict(X_test)\n",
    "train_pred = model.predict(X_train)"
   ]
  },
  {
   "cell_type": "code",
   "execution_count": 120,
   "id": "44a9ff4b",
   "metadata": {},
   "outputs": [
    {
     "name": "stdout",
     "output_type": "stream",
     "text": [
      "Test set evaluation:\n",
      "_____________________________________\n",
      "MAE: 14.13205318293681\n",
      "MSE: 251.93541137410716\n",
      "RMSE: 15.872473385522092\n",
      "R2 Square -0.8533052112548387\n",
      "__________________________________\n"
     ]
    },
    {
     "name": "stderr",
     "output_type": "stream",
     "text": [
      "/var/folders/3f/0c48rx816935875jnxcqj5sr0000gn/T/ipykernel_80542/3477842244.py:6: FutureWarning: The frame.append method is deprecated and will be removed from pandas in a future version. Use pandas.concat instead.\n",
      "  results_df = results_df.append(results_df_2, ignore_index=True)\n"
     ]
    }
   ],
   "source": [
    "print('Test set evaluation:\\n_____________________________________')\n",
    "print_evaluate(y_test, test_pred)\n",
    "\n",
    "results_df_2 = pd.DataFrame(data=[[\"Random Forest Regression\", *evaluate(y_test, test_pred) , cross_val(RandomForestRegressor())]], \n",
    "                          columns=['Model', 'MAE', 'MSE', 'RMSE', 'R2 Square', \"Cross Validation\"])\n",
    "results_df = results_df.append(results_df_2, ignore_index=True)"
   ]
  },
  {
   "cell_type": "markdown",
   "id": "06c414b5",
   "metadata": {},
   "source": [
    "### Application of Support Vector Regression"
   ]
  },
  {
   "cell_type": "code",
   "execution_count": 121,
   "id": "5f1ebd9b",
   "metadata": {},
   "outputs": [],
   "source": [
    "from sklearn.svm import SVR\n",
    "model= SVR(kernel='rbf')\n",
    "model.fit(X_train,y_train)\n",
    "y_pred_svm=model.predict(X_test)\n",
    "#y_pred_svm = cross_val_predict(regressor, x, y)\n",
    "test_pred = model.predict(X_test)\n",
    "train_pred = model.predict(X_train)"
   ]
  },
  {
   "cell_type": "code",
   "execution_count": 122,
   "id": "932a401c",
   "metadata": {},
   "outputs": [
    {
     "name": "stdout",
     "output_type": "stream",
     "text": [
      "Test set evaluation:\n",
      "_____________________________________\n",
      "MAE: 10.618567391749151\n",
      "MSE: 170.32908844574646\n",
      "RMSE: 13.051018674637872\n",
      "R2 Square -0.25298696806078147\n",
      "__________________________________\n"
     ]
    },
    {
     "name": "stderr",
     "output_type": "stream",
     "text": [
      "/var/folders/3f/0c48rx816935875jnxcqj5sr0000gn/T/ipykernel_80542/865583917.py:6: FutureWarning: The frame.append method is deprecated and will be removed from pandas in a future version. Use pandas.concat instead.\n",
      "  results_df = results_df.append(results_df_2, ignore_index=True)\n"
     ]
    }
   ],
   "source": [
    "print('Test set evaluation:\\n_____________________________________')\n",
    "print_evaluate(y_test, test_pred)\n",
    "\n",
    "results_df_2 = pd.DataFrame(data=[[\"Support Vector Regression\", *evaluate(y_test, test_pred) , cross_val(SVR())]], \n",
    "                          columns=['Model', 'MAE', 'MSE', 'RMSE', 'R2 Square', \"Cross Validation\"])\n",
    "results_df = results_df.append(results_df_2, ignore_index=True)"
   ]
  },
  {
   "cell_type": "markdown",
   "id": "1df7b26c",
   "metadata": {},
   "source": [
    "### Random Sample Consensus(RANSAC) Regression"
   ]
  },
  {
   "cell_type": "code",
   "execution_count": 123,
   "id": "27d1f6ed",
   "metadata": {},
   "outputs": [
    {
     "name": "stderr",
     "output_type": "stream",
     "text": [
      "/Users/vicky/.pyenv/versions/3.9.6/lib/python3.9/site-packages/sklearn/linear_model/_ransac.py:320: FutureWarning: `base_estimator` was renamed to `estimator` in version 1.1 and will be removed in 1.3.\n",
      "  warnings.warn(\n"
     ]
    }
   ],
   "source": [
    "model = RANSACRegressor(base_estimator=LinearRegression(), max_trials=100)\n",
    "model.fit(X_train, y_train)\n",
    "\n",
    "test_pred = model.predict(X_test)\n",
    "#train_pred = model.predict(X_train)\n",
    "\n",
    "test_pred = model.predict(X_test)\n",
    "train_pred = model.predict(X_train)"
   ]
  },
  {
   "cell_type": "code",
   "execution_count": 124,
   "id": "a0c9151c",
   "metadata": {},
   "outputs": [
    {
     "name": "stdout",
     "output_type": "stream",
     "text": [
      "Test set evaluation:\n",
      "_____________________________________\n",
      "MAE: 10.206595119919276\n",
      "MSE: 196.83718342353336\n",
      "RMSE: 14.029867548324658\n",
      "R2 Square -0.4479877037446569\n",
      "__________________________________\n"
     ]
    },
    {
     "name": "stderr",
     "output_type": "stream",
     "text": [
      "/var/folders/3f/0c48rx816935875jnxcqj5sr0000gn/T/ipykernel_80542/4084467583.py:6: FutureWarning: The frame.append method is deprecated and will be removed from pandas in a future version. Use pandas.concat instead.\n",
      "  results_df = results_df.append(results_df_2, ignore_index=True)\n"
     ]
    }
   ],
   "source": [
    "print('Test set evaluation:\\n_____________________________________')\n",
    "print_evaluate(y_test, test_pred)\n",
    "\n",
    "results_df_2 = pd.DataFrame(data=[[\"Random Sample Consensus\", *evaluate(y_test, test_pred) , cross_val(RANSACRegressor())]], \n",
    "                          columns=['Model', 'MAE', 'MSE', 'RMSE', 'R2 Square', \"Cross Validation\"])\n",
    "results_df = results_df.append(results_df_2, ignore_index=True)"
   ]
  },
  {
   "cell_type": "markdown",
   "id": "c4e7621a",
   "metadata": {},
   "source": [
    "### Stochastic Gradient Descent"
   ]
  },
  {
   "cell_type": "code",
   "execution_count": 125,
   "id": "776dceb7",
   "metadata": {},
   "outputs": [],
   "source": [
    "sgd_reg = SGDRegressor(n_iter_no_change=250, penalty=None, eta0=0.0001, max_iter=100000)\n",
    "sgd_reg.fit(X_train, y_train)\n",
    "\n",
    "test_pred = sgd_reg.predict(X_test)\n",
    "train_pred = sgd_reg.predict(X_train)"
   ]
  },
  {
   "cell_type": "code",
   "execution_count": 126,
   "id": "fac8de9c",
   "metadata": {},
   "outputs": [
    {
     "name": "stdout",
     "output_type": "stream",
     "text": [
      "Test set evaluation:\n",
      "_____________________________________\n",
      "MAE: 10.206595119919276\n",
      "MSE: 196.83718342353336\n",
      "RMSE: 14.029867548324658\n",
      "R2 Square -0.4479877037446569\n",
      "__________________________________\n"
     ]
    },
    {
     "name": "stderr",
     "output_type": "stream",
     "text": [
      "/var/folders/3f/0c48rx816935875jnxcqj5sr0000gn/T/ipykernel_80542/1340551889.py:9: FutureWarning: The frame.append method is deprecated and will be removed from pandas in a future version. Use pandas.concat instead.\n",
      "  results_df = results_df.append(results_df_2, ignore_index=True)\n"
     ]
    }
   ],
   "source": [
    "test_pred = model.predict(X_test)\n",
    "train_pred = model.predict(X_train)\n",
    "\n",
    "print('Test set evaluation:\\n_____________________________________')\n",
    "print_evaluate(y_test, test_pred)\n",
    "\n",
    "results_df_2 = pd.DataFrame(data=[[\"Stochastic Gradient Descent\", *evaluate(y_test, test_pred),cross_val(SGDRegressor())]], \n",
    "                          columns=['Model', 'MAE', 'MSE', 'RMSE', 'R2 Square', \"Cross Validation\"])\n",
    "results_df = results_df.append(results_df_2, ignore_index=True)"
   ]
  },
  {
   "cell_type": "markdown",
   "id": "a0b830a3",
   "metadata": {},
   "source": [
    "## Models Comparison"
   ]
  },
  {
   "cell_type": "markdown",
   "id": "3b8036f6",
   "metadata": {},
   "source": [
    "### MAE"
   ]
  },
  {
   "cell_type": "code",
   "execution_count": 127,
   "id": "0f0f486d",
   "metadata": {},
   "outputs": [
    {
     "data": {
      "text/plain": [
       "<AxesSubplot: ylabel='Model'>"
      ]
     },
     "execution_count": 127,
     "metadata": {},
     "output_type": "execute_result"
    },
    {
     "data": {
      "image/png": "[encoded data removed]",
      "text/plain": [
       "<Figure size 1200x800 with 1 Axes>"
      ]
     },
     "metadata": {},
     "output_type": "display_data"
    }
   ],
   "source": [
    "results_df.set_index('Model', inplace=True)\n",
    "results_df['MAE'].plot(kind='barh', figsize=(12, 8))"
   ]
  },
  {
   "cell_type": "markdown",
   "id": "f7f2d0f4",
   "metadata": {},
   "source": [
    "### MSE"
   ]
  },
  {
   "cell_type": "code",
   "execution_count": 128,
   "id": "3380aea9",
   "metadata": {},
   "outputs": [
    {
     "data": {
      "text/plain": [
       "<AxesSubplot: ylabel='Model'>"
      ]
     },
     "execution_count": 128,
     "metadata": {},
     "output_type": "execute_result"
    },
    {
     "data": {
      "image/png": "[encoded data removed]",
      "text/plain": [
       "<Figure size 1200x800 with 1 Axes>"
      ]
     },
     "metadata": {},
     "output_type": "display_data"
    }
   ],
   "source": [
    "results_df['MSE'].plot(kind='barh', figsize=(12, 8))"
   ]
  },
  {
   "cell_type": "markdown",
   "id": "ee7f6d97",
   "metadata": {},
   "source": [
    "### RMSE"
   ]
  },
  {
   "cell_type": "code",
   "execution_count": 129,
   "id": "cad19e66",
   "metadata": {},
   "outputs": [
    {
     "data": {
      "text/plain": [
       "<AxesSubplot: ylabel='Model'>"
      ]
     },
     "execution_count": 129,
     "metadata": {},
     "output_type": "execute_result"
    },
    {
     "data": {
      "image/png": "[encoded data removed]",
      "text/plain": [
       "<Figure size 1200x800 with 1 Axes>"
      ]
     },
     "metadata": {},
     "output_type": "display_data"
    }
   ],
   "source": [
    "results_df['RMSE'].plot(kind='barh', figsize=(12, 8))"
   ]
  },
  {
   "cell_type": "markdown",
   "id": "583d147d",
   "metadata": {},
   "source": [
    "### R2 Square"
   ]
  },
  {
   "cell_type": "code",
   "execution_count": 130,
   "id": "78bb902a",
   "metadata": {},
   "outputs": [
    {
     "data": {
      "text/plain": [
       "<AxesSubplot: ylabel='Model'>"
      ]
     },
     "execution_count": 130,
     "metadata": {},
     "output_type": "execute_result"
    },
    {
     "data": {
      "image/png": "[encoded data removed]",
      "text/plain": [
       "<Figure size 1200x800 with 1 Axes>"
      ]
     },
     "metadata": {},
     "output_type": "display_data"
    }
   ],
   "source": [
    "results_df['R2 Square'].plot(kind='barh', figsize=(12, 8))"
   ]
  },
  {
   "cell_type": "code",
   "execution_count": null,
   "id": "0719d5c5",
   "metadata": {},
   "outputs": [],
   "source": []
  },
  {
   "cell_type": "code",
   "execution_count": null,
   "id": "717b999a",
   "metadata": {},
   "outputs": [],
   "source": []
  }
 ],
 "metadata": {
  "kernelspec": {
   "display_name": "Python 3 (ipykernel)",
   "language": "python",
   "name": "python3"
  },
  "language_info": {
   "codemirror_mode": {
    "name": "ipython",
    "version": 3
   },
   "file_extension": ".py",
   "mimetype": "text/x-python",
   "name": "python",
   "nbconvert_exporter": "python",
   "pygments_lexer": "ipython3",
   "version": "3.9.6"
  }
 },
 "nbformat": 4,
 "nbformat_minor": 5
}
