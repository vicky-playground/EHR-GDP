{
 "cells": [
  {
   "cell_type": "markdown",
   "id": "e719ca7b-392d-4aaa-b0af-f98502b1cd5a",
   "metadata": {},
   "source": [
    "# Average EHR Spending by City"
   ]
  },
  {
   "cell_type": "code",
   "execution_count": 133,
   "id": "5810b61d-0eaf-447e-8082-1a59b3c33c92",
   "metadata": {},
   "outputs": [],
   "source": [
    "## Import libraries\n",
    "import pandas as pd\n",
    "import numpy as np\n",
    "import matplotlib.pyplot as plt\n",
    "from sklearn import model_selection\n",
    "from sklearn.linear_model import LinearRegression\n",
    "from sklearn.linear_model import LogisticRegression\n",
    "from sklearn.tree import DecisionTreeClassifier\n",
    "from sklearn.neighbors import KNeighborsClassifier\n",
    "from sklearn.discriminant_analysis import LinearDiscriminantAnalysis\n",
    "from sklearn.naive_bayes import GaussianNB\n",
    "from sklearn.svm import SVC\n",
    "from scipy import stats\n",
    "import seaborn as sns"
   ]
  },
  {
   "cell_type": "code",
   "execution_count": 161,
   "id": "d6a174fe-2dac-4065-9713-30bd1795b4f1",
   "metadata": {},
   "outputs": [],
   "source": [
    "## Load the datasets\n",
    "df_ehr_provider = pd.read_csv('EHR_Incentive_Program_Payments_Providers.csv')\n",
    "df_ehr_hospital = pd.read_csv('EHR_Incentive_Program_Payments_Hospitals.csv')\n",
    "df_city_revenue = pd.read_csv('City_Revenues_Per_Capita.csv')\n",
    "df_city_expenditure = pd.read_csv('City_Expenditures_Per_Capita.csv')"
   ]
  },
  {
   "cell_type": "markdown",
   "id": "dae5db2f",
   "metadata": {},
   "source": [
    "## Analysis for EHR per Capita for Individual Healthcare Providers"
   ]
  },
  {
   "cell_type": "code",
   "execution_count": 162,
   "id": "a477cd9b-11ec-4271-840f-4e974d0b2113",
   "metadata": {},
   "outputs": [
    {
     "data": {
      "text/html": [
       "<div>\n",
       "<style scoped>\n",
       "    .dataframe tbody tr th:only-of-type {\n",
       "        vertical-align: middle;\n",
       "    }\n",
       "\n",
       "    .dataframe tbody tr th {\n",
       "        vertical-align: top;\n",
       "    }\n",
       "\n",
       "    .dataframe thead th {\n",
       "        text-align: right;\n",
       "    }\n",
       "</style>\n",
       "<table border=\"1\" class=\"dataframe\">\n",
       "  <thead>\n",
       "    <tr style=\"text-align: right;\">\n",
       "      <th></th>\n",
       "      <th>Business_C</th>\n",
       "      <th>Payment_Ye</th>\n",
       "      <th>total_paym</th>\n",
       "    </tr>\n",
       "  </thead>\n",
       "  <tbody>\n",
       "    <tr>\n",
       "      <th>0</th>\n",
       "      <td>Sacramento</td>\n",
       "      <td>2019</td>\n",
       "      <td>38250.0</td>\n",
       "    </tr>\n",
       "    <tr>\n",
       "      <th>1</th>\n",
       "      <td>Oakland</td>\n",
       "      <td>2014</td>\n",
       "      <td>21250.0</td>\n",
       "    </tr>\n",
       "    <tr>\n",
       "      <th>2</th>\n",
       "      <td>Antioch</td>\n",
       "      <td>2016</td>\n",
       "      <td>21250.0</td>\n",
       "    </tr>\n",
       "    <tr>\n",
       "      <th>3</th>\n",
       "      <td>Loma Linda</td>\n",
       "      <td>2015</td>\n",
       "      <td>29750.0</td>\n",
       "    </tr>\n",
       "    <tr>\n",
       "      <th>4</th>\n",
       "      <td>Orange</td>\n",
       "      <td>2014</td>\n",
       "      <td>21250.0</td>\n",
       "    </tr>\n",
       "  </tbody>\n",
       "</table>\n",
       "</div>"
      ],
      "text/plain": [
       "   Business_C  Payment_Ye  total_paym\n",
       "0  Sacramento        2019     38250.0\n",
       "1     Oakland        2014     21250.0\n",
       "2     Antioch        2016     21250.0\n",
       "3  Loma Linda        2015     29750.0\n",
       "4      Orange        2014     21250.0"
      ]
     },
     "execution_count": 162,
     "metadata": {},
     "output_type": "execute_result"
    }
   ],
   "source": [
    "## delete the unneeded columns on the provider dataset\n",
    "df_ehr_provider.drop(df_ehr_provider.columns[0:8],axis=1,inplace = True)\n",
    "df_ehr_provider.drop(df_ehr_provider.columns[1:4],axis=1,inplace = True)\n",
    "df_ehr_provider.drop(df_ehr_provider.columns[3:6],axis=1,inplace = True)\n",
    "df_ehr_provider.drop(['Program_Ye','Payee_NPI','Latitude','Longitude','total_rece'],axis=1,inplace = True)\n",
    "df_ehr_provider.head()\n"
   ]
  },
  {
   "cell_type": "code",
   "execution_count": 163,
   "id": "2d528d1b-053e-4627-bd2e-18bde9f8e231",
   "metadata": {},
   "outputs": [
    {
     "data": {
      "text/html": [
       "<div>\n",
       "<style scoped>\n",
       "    .dataframe tbody tr th:only-of-type {\n",
       "        vertical-align: middle;\n",
       "    }\n",
       "\n",
       "    .dataframe tbody tr th {\n",
       "        vertical-align: top;\n",
       "    }\n",
       "\n",
       "    .dataframe thead th {\n",
       "        text-align: right;\n",
       "    }\n",
       "</style>\n",
       "<table border=\"1\" class=\"dataframe\">\n",
       "  <thead>\n",
       "    <tr style=\"text-align: right;\">\n",
       "      <th></th>\n",
       "      <th>Business_C</th>\n",
       "      <th>Payment_Ye</th>\n",
       "      <th>total_paym</th>\n",
       "    </tr>\n",
       "  </thead>\n",
       "  <tbody>\n",
       "    <tr>\n",
       "      <th>0</th>\n",
       "      <td>adelanto</td>\n",
       "      <td>2014</td>\n",
       "      <td>14166.67</td>\n",
       "    </tr>\n",
       "    <tr>\n",
       "      <th>1</th>\n",
       "      <td>adelanto</td>\n",
       "      <td>2015</td>\n",
       "      <td>21250.00</td>\n",
       "    </tr>\n",
       "    <tr>\n",
       "      <th>2</th>\n",
       "      <td>adelanto</td>\n",
       "      <td>2016</td>\n",
       "      <td>29750.00</td>\n",
       "    </tr>\n",
       "    <tr>\n",
       "      <th>3</th>\n",
       "      <td>agoura hills</td>\n",
       "      <td>2014</td>\n",
       "      <td>63750.00</td>\n",
       "    </tr>\n",
       "    <tr>\n",
       "      <th>4</th>\n",
       "      <td>agoura hills</td>\n",
       "      <td>2016</td>\n",
       "      <td>21250.00</td>\n",
       "    </tr>\n",
       "  </tbody>\n",
       "</table>\n",
       "</div>"
      ],
      "text/plain": [
       "     Business_C  Payment_Ye  total_paym\n",
       "0      adelanto        2014    14166.67\n",
       "1      adelanto        2015    21250.00\n",
       "2      adelanto        2016    29750.00\n",
       "3  agoura hills        2014    63750.00\n",
       "4  agoura hills        2016    21250.00"
      ]
     },
     "execution_count": 163,
     "metadata": {},
     "output_type": "execute_result"
    }
   ],
   "source": [
    "## group the practitioner data by city and year, then sum the total payments\n",
    "df_ehr_provider['Business_C'] = df_ehr_provider['Business_C'].str.lower()\n",
    "df_ehr_provider = df_ehr_provider.groupby(['Business_C','Payment_Ye'])['total_paym'].sum().reset_index()\n",
    "df_ehr_provider.to_csv('test_group_by_check.csv')\n",
    "df_ehr_provider.head()"
   ]
  },
  {
   "cell_type": "code",
   "execution_count": 164,
   "id": "2141ccc7-0f89-4c2a-8b03-c5a6f5b2b8c5",
   "metadata": {},
   "outputs": [
    {
     "data": {
      "text/html": [
       "<div>\n",
       "<style scoped>\n",
       "    .dataframe tbody tr th:only-of-type {\n",
       "        vertical-align: middle;\n",
       "    }\n",
       "\n",
       "    .dataframe tbody tr th {\n",
       "        vertical-align: top;\n",
       "    }\n",
       "\n",
       "    .dataframe thead th {\n",
       "        text-align: right;\n",
       "    }\n",
       "</style>\n",
       "<table border=\"1\" class=\"dataframe\">\n",
       "  <thead>\n",
       "    <tr style=\"text-align: right;\">\n",
       "      <th></th>\n",
       "      <th>Entity Name</th>\n",
       "      <th>Fiscal Year</th>\n",
       "      <th>Total Revenues</th>\n",
       "      <th>Estimated Population</th>\n",
       "      <th>Revenues Per Capita</th>\n",
       "    </tr>\n",
       "  </thead>\n",
       "  <tbody>\n",
       "    <tr>\n",
       "      <th>0</th>\n",
       "      <td>adelanto</td>\n",
       "      <td>2021</td>\n",
       "      <td>22556106</td>\n",
       "      <td>36569.0</td>\n",
       "      <td>617.0</td>\n",
       "    </tr>\n",
       "    <tr>\n",
       "      <th>1</th>\n",
       "      <td>adelanto</td>\n",
       "      <td>2020</td>\n",
       "      <td>20455012</td>\n",
       "      <td>35663.0</td>\n",
       "      <td>574.0</td>\n",
       "    </tr>\n",
       "    <tr>\n",
       "      <th>2</th>\n",
       "      <td>adelanto</td>\n",
       "      <td>2019</td>\n",
       "      <td>20232000</td>\n",
       "      <td>35136.0</td>\n",
       "      <td>576.0</td>\n",
       "    </tr>\n",
       "    <tr>\n",
       "      <th>3</th>\n",
       "      <td>adelanto</td>\n",
       "      <td>2018</td>\n",
       "      <td>18224861</td>\n",
       "      <td>35293.0</td>\n",
       "      <td>516.0</td>\n",
       "    </tr>\n",
       "    <tr>\n",
       "      <th>4</th>\n",
       "      <td>adelanto</td>\n",
       "      <td>2017</td>\n",
       "      <td>15171753</td>\n",
       "      <td>34273.0</td>\n",
       "      <td>443.0</td>\n",
       "    </tr>\n",
       "  </tbody>\n",
       "</table>\n",
       "</div>"
      ],
      "text/plain": [
       "  Entity Name  Fiscal Year  Total Revenues  Estimated Population  \\\n",
       "0    adelanto         2021        22556106               36569.0   \n",
       "1    adelanto         2020        20455012               35663.0   \n",
       "2    adelanto         2019        20232000               35136.0   \n",
       "3    adelanto         2018        18224861               35293.0   \n",
       "4    adelanto         2017        15171753               34273.0   \n",
       "\n",
       "   Revenues Per Capita  \n",
       "0                617.0  \n",
       "1                574.0  \n",
       "2                576.0  \n",
       "3                516.0  \n",
       "4                443.0  "
      ]
     },
     "execution_count": 164,
     "metadata": {},
     "output_type": "execute_result"
    }
   ],
   "source": [
    "#change all Entity Names to lower case\n",
    "df_city_revenue['Entity Name'] = df_city_revenue['Entity Name'].str.lower()\n",
    "df_city_revenue.head()"
   ]
  },
  {
   "cell_type": "code",
   "execution_count": 165,
   "id": "850cebec",
   "metadata": {},
   "outputs": [
    {
     "data": {
      "text/html": [
       "<div>\n",
       "<style scoped>\n",
       "    .dataframe tbody tr th:only-of-type {\n",
       "        vertical-align: middle;\n",
       "    }\n",
       "\n",
       "    .dataframe tbody tr th {\n",
       "        vertical-align: top;\n",
       "    }\n",
       "\n",
       "    .dataframe thead th {\n",
       "        text-align: right;\n",
       "    }\n",
       "</style>\n",
       "<table border=\"1\" class=\"dataframe\">\n",
       "  <thead>\n",
       "    <tr style=\"text-align: right;\">\n",
       "      <th></th>\n",
       "      <th>Entity Name</th>\n",
       "      <th>Fiscal Year</th>\n",
       "      <th>Total Expenditures</th>\n",
       "      <th>Estimated Population</th>\n",
       "      <th>Expenditures Per Capita</th>\n",
       "    </tr>\n",
       "  </thead>\n",
       "  <tbody>\n",
       "    <tr>\n",
       "      <th>0</th>\n",
       "      <td>adelanto</td>\n",
       "      <td>2021</td>\n",
       "      <td>20580944</td>\n",
       "      <td>36569.0</td>\n",
       "      <td>563.0</td>\n",
       "    </tr>\n",
       "    <tr>\n",
       "      <th>1</th>\n",
       "      <td>adelanto</td>\n",
       "      <td>2020</td>\n",
       "      <td>26376314</td>\n",
       "      <td>35663.0</td>\n",
       "      <td>740.0</td>\n",
       "    </tr>\n",
       "    <tr>\n",
       "      <th>2</th>\n",
       "      <td>adelanto</td>\n",
       "      <td>2019</td>\n",
       "      <td>30886709</td>\n",
       "      <td>35136.0</td>\n",
       "      <td>879.0</td>\n",
       "    </tr>\n",
       "    <tr>\n",
       "      <th>3</th>\n",
       "      <td>adelanto</td>\n",
       "      <td>2018</td>\n",
       "      <td>20531571</td>\n",
       "      <td>35293.0</td>\n",
       "      <td>582.0</td>\n",
       "    </tr>\n",
       "    <tr>\n",
       "      <th>4</th>\n",
       "      <td>adelanto</td>\n",
       "      <td>2017</td>\n",
       "      <td>16035685</td>\n",
       "      <td>34273.0</td>\n",
       "      <td>468.0</td>\n",
       "    </tr>\n",
       "  </tbody>\n",
       "</table>\n",
       "</div>"
      ],
      "text/plain": [
       "  Entity Name  Fiscal Year  Total Expenditures  Estimated Population  \\\n",
       "0    adelanto         2021            20580944               36569.0   \n",
       "1    adelanto         2020            26376314               35663.0   \n",
       "2    adelanto         2019            30886709               35136.0   \n",
       "3    adelanto         2018            20531571               35293.0   \n",
       "4    adelanto         2017            16035685               34273.0   \n",
       "\n",
       "   Expenditures Per Capita  \n",
       "0                    563.0  \n",
       "1                    740.0  \n",
       "2                    879.0  \n",
       "3                    582.0  \n",
       "4                    468.0  "
      ]
     },
     "execution_count": 165,
     "metadata": {},
     "output_type": "execute_result"
    }
   ],
   "source": [
    "df_city_expenditure['Entity Name'] = df_city_revenue['Entity Name'].str.lower()\n",
    "df_city_expenditure.head()"
   ]
  },
  {
   "cell_type": "code",
   "execution_count": 166,
   "id": "5a0e0e74-4c4f-4ef6-810b-10fe107cbfc1",
   "metadata": {},
   "outputs": [
    {
     "data": {
      "text/html": [
       "<div>\n",
       "<style scoped>\n",
       "    .dataframe tbody tr th:only-of-type {\n",
       "        vertical-align: middle;\n",
       "    }\n",
       "\n",
       "    .dataframe tbody tr th {\n",
       "        vertical-align: top;\n",
       "    }\n",
       "\n",
       "    .dataframe thead th {\n",
       "        text-align: right;\n",
       "    }\n",
       "</style>\n",
       "<table border=\"1\" class=\"dataframe\">\n",
       "  <thead>\n",
       "    <tr style=\"text-align: right;\">\n",
       "      <th></th>\n",
       "      <th>Business_C</th>\n",
       "      <th>Payment_Ye</th>\n",
       "      <th>total_paym</th>\n",
       "      <th>Entity Name</th>\n",
       "      <th>Fiscal Year</th>\n",
       "      <th>Total Revenues</th>\n",
       "      <th>Estimated Population</th>\n",
       "      <th>Revenues Per Capita</th>\n",
       "    </tr>\n",
       "  </thead>\n",
       "  <tbody>\n",
       "    <tr>\n",
       "      <th>0</th>\n",
       "      <td>adelanto</td>\n",
       "      <td>2014</td>\n",
       "      <td>14166.67</td>\n",
       "      <td>adelanto</td>\n",
       "      <td>2014</td>\n",
       "      <td>13047272</td>\n",
       "      <td>32511.0</td>\n",
       "      <td>401.0</td>\n",
       "    </tr>\n",
       "    <tr>\n",
       "      <th>1</th>\n",
       "      <td>adelanto</td>\n",
       "      <td>2015</td>\n",
       "      <td>21250.00</td>\n",
       "      <td>adelanto</td>\n",
       "      <td>2015</td>\n",
       "      <td>14051611</td>\n",
       "      <td>33084.0</td>\n",
       "      <td>425.0</td>\n",
       "    </tr>\n",
       "    <tr>\n",
       "      <th>2</th>\n",
       "      <td>adelanto</td>\n",
       "      <td>2016</td>\n",
       "      <td>29750.00</td>\n",
       "      <td>adelanto</td>\n",
       "      <td>2016</td>\n",
       "      <td>14565863</td>\n",
       "      <td>33497.0</td>\n",
       "      <td>435.0</td>\n",
       "    </tr>\n",
       "    <tr>\n",
       "      <th>3</th>\n",
       "      <td>agoura hills</td>\n",
       "      <td>2014</td>\n",
       "      <td>63750.00</td>\n",
       "      <td>agoura hills</td>\n",
       "      <td>2014</td>\n",
       "      <td>25485389</td>\n",
       "      <td>20625.0</td>\n",
       "      <td>1236.0</td>\n",
       "    </tr>\n",
       "    <tr>\n",
       "      <th>4</th>\n",
       "      <td>agoura hills</td>\n",
       "      <td>2016</td>\n",
       "      <td>21250.00</td>\n",
       "      <td>agoura hills</td>\n",
       "      <td>2016</td>\n",
       "      <td>28100766</td>\n",
       "      <td>21211.0</td>\n",
       "      <td>1325.0</td>\n",
       "    </tr>\n",
       "  </tbody>\n",
       "</table>\n",
       "</div>"
      ],
      "text/plain": [
       "     Business_C  Payment_Ye  total_paym   Entity Name  Fiscal Year  \\\n",
       "0      adelanto        2014    14166.67      adelanto         2014   \n",
       "1      adelanto        2015    21250.00      adelanto         2015   \n",
       "2      adelanto        2016    29750.00      adelanto         2016   \n",
       "3  agoura hills        2014    63750.00  agoura hills         2014   \n",
       "4  agoura hills        2016    21250.00  agoura hills         2016   \n",
       "\n",
       "   Total Revenues  Estimated Population  Revenues Per Capita  \n",
       "0        13047272               32511.0                401.0  \n",
       "1        14051611               33084.0                425.0  \n",
       "2        14565863               33497.0                435.0  \n",
       "3        25485389               20625.0               1236.0  \n",
       "4        28100766               21211.0               1325.0  "
      ]
     },
     "execution_count": 166,
     "metadata": {},
     "output_type": "execute_result"
    }
   ],
   "source": [
    "## merge the provider dataset with the city revenue dataset\n",
    "df_provider_city = df_ehr_provider.merge(df_city_revenue, how=\"inner\",left_on=['Business_C','Payment_Ye'],right_on=['Entity Name','Fiscal Year'])\n",
    "df_provider_city.head()"
   ]
  },
  {
   "cell_type": "code",
   "execution_count": 167,
   "id": "9642d67e-c4ef-45a8-9614-43be5f881c76",
   "metadata": {},
   "outputs": [
    {
     "data": {
      "text/html": [
       "<div>\n",
       "<style scoped>\n",
       "    .dataframe tbody tr th:only-of-type {\n",
       "        vertical-align: middle;\n",
       "    }\n",
       "\n",
       "    .dataframe tbody tr th {\n",
       "        vertical-align: top;\n",
       "    }\n",
       "\n",
       "    .dataframe thead th {\n",
       "        text-align: right;\n",
       "    }\n",
       "</style>\n",
       "<table border=\"1\" class=\"dataframe\">\n",
       "  <thead>\n",
       "    <tr style=\"text-align: right;\">\n",
       "      <th></th>\n",
       "      <th>Business_C</th>\n",
       "      <th>Payment_Ye</th>\n",
       "      <th>total_paym</th>\n",
       "      <th>Total Revenues</th>\n",
       "      <th>Estimated Population</th>\n",
       "      <th>Revenues Per Capita</th>\n",
       "    </tr>\n",
       "  </thead>\n",
       "  <tbody>\n",
       "    <tr>\n",
       "      <th>0</th>\n",
       "      <td>adelanto</td>\n",
       "      <td>2014</td>\n",
       "      <td>14166.67</td>\n",
       "      <td>13047272</td>\n",
       "      <td>32511.0</td>\n",
       "      <td>401.0</td>\n",
       "    </tr>\n",
       "    <tr>\n",
       "      <th>1</th>\n",
       "      <td>adelanto</td>\n",
       "      <td>2015</td>\n",
       "      <td>21250.00</td>\n",
       "      <td>14051611</td>\n",
       "      <td>33084.0</td>\n",
       "      <td>425.0</td>\n",
       "    </tr>\n",
       "    <tr>\n",
       "      <th>2</th>\n",
       "      <td>adelanto</td>\n",
       "      <td>2016</td>\n",
       "      <td>29750.00</td>\n",
       "      <td>14565863</td>\n",
       "      <td>33497.0</td>\n",
       "      <td>435.0</td>\n",
       "    </tr>\n",
       "    <tr>\n",
       "      <th>3</th>\n",
       "      <td>agoura hills</td>\n",
       "      <td>2014</td>\n",
       "      <td>63750.00</td>\n",
       "      <td>25485389</td>\n",
       "      <td>20625.0</td>\n",
       "      <td>1236.0</td>\n",
       "    </tr>\n",
       "    <tr>\n",
       "      <th>4</th>\n",
       "      <td>agoura hills</td>\n",
       "      <td>2016</td>\n",
       "      <td>21250.00</td>\n",
       "      <td>28100766</td>\n",
       "      <td>21211.0</td>\n",
       "      <td>1325.0</td>\n",
       "    </tr>\n",
       "  </tbody>\n",
       "</table>\n",
       "</div>"
      ],
      "text/plain": [
       "     Business_C  Payment_Ye  total_paym  Total Revenues  Estimated Population  \\\n",
       "0      adelanto        2014    14166.67        13047272               32511.0   \n",
       "1      adelanto        2015    21250.00        14051611               33084.0   \n",
       "2      adelanto        2016    29750.00        14565863               33497.0   \n",
       "3  agoura hills        2014    63750.00        25485389               20625.0   \n",
       "4  agoura hills        2016    21250.00        28100766               21211.0   \n",
       "\n",
       "   Revenues Per Capita  \n",
       "0                401.0  \n",
       "1                425.0  \n",
       "2                435.0  \n",
       "3               1236.0  \n",
       "4               1325.0  "
      ]
     },
     "execution_count": 167,
     "metadata": {},
     "output_type": "execute_result"
    }
   ],
   "source": [
    "## drop the duplicate columns\n",
    "df_provider_city = df_provider_city.drop(['Entity Name','Fiscal Year'], axis=1)\n",
    "df_provider_city.head()"
   ]
  },
  {
   "cell_type": "code",
   "execution_count": 168,
   "id": "0168bd19",
   "metadata": {},
   "outputs": [
    {
     "data": {
      "text/html": [
       "<div>\n",
       "<style scoped>\n",
       "    .dataframe tbody tr th:only-of-type {\n",
       "        vertical-align: middle;\n",
       "    }\n",
       "\n",
       "    .dataframe tbody tr th {\n",
       "        vertical-align: top;\n",
       "    }\n",
       "\n",
       "    .dataframe thead th {\n",
       "        text-align: right;\n",
       "    }\n",
       "</style>\n",
       "<table border=\"1\" class=\"dataframe\">\n",
       "  <thead>\n",
       "    <tr style=\"text-align: right;\">\n",
       "      <th></th>\n",
       "      <th>Business_C</th>\n",
       "      <th>Payment_Ye</th>\n",
       "      <th>total_paym</th>\n",
       "      <th>Total Revenues</th>\n",
       "      <th>Estimated Population</th>\n",
       "      <th>Revenues Per Capita</th>\n",
       "      <th>Total Expenditures</th>\n",
       "      <th>Expenditures Per Capita</th>\n",
       "    </tr>\n",
       "  </thead>\n",
       "  <tbody>\n",
       "    <tr>\n",
       "      <th>0</th>\n",
       "      <td>adelanto</td>\n",
       "      <td>2014</td>\n",
       "      <td>14166.67</td>\n",
       "      <td>13047272</td>\n",
       "      <td>32511.0</td>\n",
       "      <td>401.0</td>\n",
       "      <td>13560072</td>\n",
       "      <td>417.0</td>\n",
       "    </tr>\n",
       "    <tr>\n",
       "      <th>1</th>\n",
       "      <td>adelanto</td>\n",
       "      <td>2015</td>\n",
       "      <td>21250.00</td>\n",
       "      <td>14051611</td>\n",
       "      <td>33084.0</td>\n",
       "      <td>425.0</td>\n",
       "      <td>15297952</td>\n",
       "      <td>462.0</td>\n",
       "    </tr>\n",
       "    <tr>\n",
       "      <th>2</th>\n",
       "      <td>adelanto</td>\n",
       "      <td>2016</td>\n",
       "      <td>29750.00</td>\n",
       "      <td>14565863</td>\n",
       "      <td>33497.0</td>\n",
       "      <td>435.0</td>\n",
       "      <td>23692799</td>\n",
       "      <td>707.0</td>\n",
       "    </tr>\n",
       "    <tr>\n",
       "      <th>3</th>\n",
       "      <td>agoura hills</td>\n",
       "      <td>2014</td>\n",
       "      <td>63750.00</td>\n",
       "      <td>25485389</td>\n",
       "      <td>20625.0</td>\n",
       "      <td>1236.0</td>\n",
       "      <td>23389616</td>\n",
       "      <td>1134.0</td>\n",
       "    </tr>\n",
       "    <tr>\n",
       "      <th>4</th>\n",
       "      <td>agoura hills</td>\n",
       "      <td>2016</td>\n",
       "      <td>21250.00</td>\n",
       "      <td>28100766</td>\n",
       "      <td>21211.0</td>\n",
       "      <td>1325.0</td>\n",
       "      <td>31218079</td>\n",
       "      <td>1472.0</td>\n",
       "    </tr>\n",
       "  </tbody>\n",
       "</table>\n",
       "</div>"
      ],
      "text/plain": [
       "     Business_C  Payment_Ye  total_paym  Total Revenues  Estimated Population  \\\n",
       "0      adelanto        2014    14166.67        13047272               32511.0   \n",
       "1      adelanto        2015    21250.00        14051611               33084.0   \n",
       "2      adelanto        2016    29750.00        14565863               33497.0   \n",
       "3  agoura hills        2014    63750.00        25485389               20625.0   \n",
       "4  agoura hills        2016    21250.00        28100766               21211.0   \n",
       "\n",
       "   Revenues Per Capita  Total Expenditures  Expenditures Per Capita  \n",
       "0                401.0            13560072                    417.0  \n",
       "1                425.0            15297952                    462.0  \n",
       "2                435.0            23692799                    707.0  \n",
       "3               1236.0            23389616                   1134.0  \n",
       "4               1325.0            31218079                   1472.0  "
      ]
     },
     "execution_count": 168,
     "metadata": {},
     "output_type": "execute_result"
    }
   ],
   "source": [
    "## merge with the city expenditure dataset\n",
    "df_provider_city = df_provider_city.merge(df_city_expenditure, how=\"inner\",left_on=['Business_C','Payment_Ye', 'Estimated Population'],right_on=['Entity Name','Fiscal Year', 'Estimated Population'])\n",
    "df_provider_city = df_provider_city.drop(['Entity Name','Fiscal Year'], axis=1)\n",
    "df_provider_city.head()"
   ]
  },
  {
   "cell_type": "code",
   "execution_count": 169,
   "id": "fdb0e077-3179-40c4-b79d-d6cdb83978dd",
   "metadata": {},
   "outputs": [],
   "source": [
    "df_provider_city.to_csv('ultimate_test.csv')"
   ]
  },
  {
   "cell_type": "code",
   "execution_count": 170,
   "id": "f0470396-ab71-4076-a75f-cf74f9f8d6ad",
   "metadata": {},
   "outputs": [
    {
     "data": {
      "text/html": [
       "<div>\n",
       "<style scoped>\n",
       "    .dataframe tbody tr th:only-of-type {\n",
       "        vertical-align: middle;\n",
       "    }\n",
       "\n",
       "    .dataframe tbody tr th {\n",
       "        vertical-align: top;\n",
       "    }\n",
       "\n",
       "    .dataframe thead th {\n",
       "        text-align: right;\n",
       "    }\n",
       "</style>\n",
       "<table border=\"1\" class=\"dataframe\">\n",
       "  <thead>\n",
       "    <tr style=\"text-align: right;\">\n",
       "      <th></th>\n",
       "      <th>Business_C</th>\n",
       "      <th>Payment_Ye</th>\n",
       "      <th>total_paym</th>\n",
       "      <th>Total Revenues</th>\n",
       "      <th>Estimated Population</th>\n",
       "      <th>Revenues Per Capita</th>\n",
       "      <th>Total Expenditures</th>\n",
       "      <th>Expenditures Per Capita</th>\n",
       "    </tr>\n",
       "  </thead>\n",
       "  <tbody>\n",
       "    <tr>\n",
       "      <th>0</th>\n",
       "      <td>adelanto</td>\n",
       "      <td>2014</td>\n",
       "      <td>14166.67</td>\n",
       "      <td>13047272</td>\n",
       "      <td>32511.0</td>\n",
       "      <td>401.0</td>\n",
       "      <td>13560072</td>\n",
       "      <td>417.0</td>\n",
       "    </tr>\n",
       "    <tr>\n",
       "      <th>1</th>\n",
       "      <td>adelanto</td>\n",
       "      <td>2015</td>\n",
       "      <td>21250.00</td>\n",
       "      <td>14051611</td>\n",
       "      <td>33084.0</td>\n",
       "      <td>425.0</td>\n",
       "      <td>15297952</td>\n",
       "      <td>462.0</td>\n",
       "    </tr>\n",
       "    <tr>\n",
       "      <th>2</th>\n",
       "      <td>adelanto</td>\n",
       "      <td>2016</td>\n",
       "      <td>29750.00</td>\n",
       "      <td>14565863</td>\n",
       "      <td>33497.0</td>\n",
       "      <td>435.0</td>\n",
       "      <td>23692799</td>\n",
       "      <td>707.0</td>\n",
       "    </tr>\n",
       "    <tr>\n",
       "      <th>3</th>\n",
       "      <td>agoura hills</td>\n",
       "      <td>2014</td>\n",
       "      <td>63750.00</td>\n",
       "      <td>25485389</td>\n",
       "      <td>20625.0</td>\n",
       "      <td>1236.0</td>\n",
       "      <td>23389616</td>\n",
       "      <td>1134.0</td>\n",
       "    </tr>\n",
       "    <tr>\n",
       "      <th>4</th>\n",
       "      <td>agoura hills</td>\n",
       "      <td>2016</td>\n",
       "      <td>21250.00</td>\n",
       "      <td>28100766</td>\n",
       "      <td>21211.0</td>\n",
       "      <td>1325.0</td>\n",
       "      <td>31218079</td>\n",
       "      <td>1472.0</td>\n",
       "    </tr>\n",
       "  </tbody>\n",
       "</table>\n",
       "</div>"
      ],
      "text/plain": [
       "     Business_C  Payment_Ye  total_paym  Total Revenues  Estimated Population  \\\n",
       "0      adelanto        2014    14166.67        13047272               32511.0   \n",
       "1      adelanto        2015    21250.00        14051611               33084.0   \n",
       "2      adelanto        2016    29750.00        14565863               33497.0   \n",
       "3  agoura hills        2014    63750.00        25485389               20625.0   \n",
       "4  agoura hills        2016    21250.00        28100766               21211.0   \n",
       "\n",
       "   Revenues Per Capita  Total Expenditures  Expenditures Per Capita  \n",
       "0                401.0            13560072                    417.0  \n",
       "1                425.0            15297952                    462.0  \n",
       "2                435.0            23692799                    707.0  \n",
       "3               1236.0            23389616                   1134.0  \n",
       "4               1325.0            31218079                   1472.0  "
      ]
     },
     "execution_count": 170,
     "metadata": {},
     "output_type": "execute_result"
    }
   ],
   "source": [
    "df_provider_city.head()"
   ]
  },
  {
   "cell_type": "code",
   "execution_count": 171,
   "id": "4f68c053-be70-47c1-b76f-3e5472faf266",
   "metadata": {},
   "outputs": [
    {
     "data": {
      "text/html": [
       "<div>\n",
       "<style scoped>\n",
       "    .dataframe tbody tr th:only-of-type {\n",
       "        vertical-align: middle;\n",
       "    }\n",
       "\n",
       "    .dataframe tbody tr th {\n",
       "        vertical-align: top;\n",
       "    }\n",
       "\n",
       "    .dataframe thead th {\n",
       "        text-align: right;\n",
       "    }\n",
       "</style>\n",
       "<table border=\"1\" class=\"dataframe\">\n",
       "  <thead>\n",
       "    <tr style=\"text-align: right;\">\n",
       "      <th></th>\n",
       "      <th>Business_C</th>\n",
       "      <th>Payment_Ye</th>\n",
       "      <th>total_paym</th>\n",
       "      <th>Total Revenues</th>\n",
       "      <th>Estimated Population</th>\n",
       "      <th>Revenues Per Capita</th>\n",
       "      <th>Total Expenditures</th>\n",
       "      <th>Expenditures Per Capita</th>\n",
       "      <th>EHR Per Capita</th>\n",
       "    </tr>\n",
       "  </thead>\n",
       "  <tbody>\n",
       "    <tr>\n",
       "      <th>0</th>\n",
       "      <td>adelanto</td>\n",
       "      <td>2014</td>\n",
       "      <td>14166.67</td>\n",
       "      <td>13047272</td>\n",
       "      <td>32511.0</td>\n",
       "      <td>401.0</td>\n",
       "      <td>13560072</td>\n",
       "      <td>417.0</td>\n",
       "      <td>0.435750</td>\n",
       "    </tr>\n",
       "    <tr>\n",
       "      <th>1</th>\n",
       "      <td>adelanto</td>\n",
       "      <td>2015</td>\n",
       "      <td>21250.00</td>\n",
       "      <td>14051611</td>\n",
       "      <td>33084.0</td>\n",
       "      <td>425.0</td>\n",
       "      <td>15297952</td>\n",
       "      <td>462.0</td>\n",
       "      <td>0.642304</td>\n",
       "    </tr>\n",
       "    <tr>\n",
       "      <th>2</th>\n",
       "      <td>adelanto</td>\n",
       "      <td>2016</td>\n",
       "      <td>29750.00</td>\n",
       "      <td>14565863</td>\n",
       "      <td>33497.0</td>\n",
       "      <td>435.0</td>\n",
       "      <td>23692799</td>\n",
       "      <td>707.0</td>\n",
       "      <td>0.888139</td>\n",
       "    </tr>\n",
       "    <tr>\n",
       "      <th>3</th>\n",
       "      <td>agoura hills</td>\n",
       "      <td>2014</td>\n",
       "      <td>63750.00</td>\n",
       "      <td>25485389</td>\n",
       "      <td>20625.0</td>\n",
       "      <td>1236.0</td>\n",
       "      <td>23389616</td>\n",
       "      <td>1134.0</td>\n",
       "      <td>3.090909</td>\n",
       "    </tr>\n",
       "    <tr>\n",
       "      <th>4</th>\n",
       "      <td>agoura hills</td>\n",
       "      <td>2016</td>\n",
       "      <td>21250.00</td>\n",
       "      <td>28100766</td>\n",
       "      <td>21211.0</td>\n",
       "      <td>1325.0</td>\n",
       "      <td>31218079</td>\n",
       "      <td>1472.0</td>\n",
       "      <td>1.001839</td>\n",
       "    </tr>\n",
       "  </tbody>\n",
       "</table>\n",
       "</div>"
      ],
      "text/plain": [
       "     Business_C  Payment_Ye  total_paym  Total Revenues  Estimated Population  \\\n",
       "0      adelanto        2014    14166.67        13047272               32511.0   \n",
       "1      adelanto        2015    21250.00        14051611               33084.0   \n",
       "2      adelanto        2016    29750.00        14565863               33497.0   \n",
       "3  agoura hills        2014    63750.00        25485389               20625.0   \n",
       "4  agoura hills        2016    21250.00        28100766               21211.0   \n",
       "\n",
       "   Revenues Per Capita  Total Expenditures  Expenditures Per Capita  \\\n",
       "0                401.0            13560072                    417.0   \n",
       "1                425.0            15297952                    462.0   \n",
       "2                435.0            23692799                    707.0   \n",
       "3               1236.0            23389616                   1134.0   \n",
       "4               1325.0            31218079                   1472.0   \n",
       "\n",
       "   EHR Per Capita  \n",
       "0        0.435750  \n",
       "1        0.642304  \n",
       "2        0.888139  \n",
       "3        3.090909  \n",
       "4        1.001839  "
      ]
     },
     "execution_count": 171,
     "metadata": {},
     "output_type": "execute_result"
    }
   ],
   "source": [
    "## create the \"EHR per Capita\" column by divide the total_paym by the estimated population in that year\n",
    "df_provider_city['EHR Per Capita'] = df_provider_city['total_paym']/df_provider_city['Estimated Population']\n",
    "df_provider_city.head()"
   ]
  },
  {
   "cell_type": "code",
   "execution_count": 172,
   "id": "a241e452",
   "metadata": {},
   "outputs": [
    {
     "data": {
      "text/html": [
       "<div>\n",
       "<style scoped>\n",
       "    .dataframe tbody tr th:only-of-type {\n",
       "        vertical-align: middle;\n",
       "    }\n",
       "\n",
       "    .dataframe tbody tr th {\n",
       "        vertical-align: top;\n",
       "    }\n",
       "\n",
       "    .dataframe thead th {\n",
       "        text-align: right;\n",
       "    }\n",
       "</style>\n",
       "<table border=\"1\" class=\"dataframe\">\n",
       "  <thead>\n",
       "    <tr style=\"text-align: right;\">\n",
       "      <th></th>\n",
       "      <th>Business_C</th>\n",
       "      <th>Payment_Ye</th>\n",
       "      <th>total_paym</th>\n",
       "      <th>Total Revenues</th>\n",
       "      <th>Estimated Population</th>\n",
       "      <th>Revenues Per Capita</th>\n",
       "      <th>Total Expenditures</th>\n",
       "      <th>Expenditures Per Capita</th>\n",
       "      <th>EHR Per Capita</th>\n",
       "    </tr>\n",
       "  </thead>\n",
       "  <tbody>\n",
       "    <tr>\n",
       "      <th>0</th>\n",
       "      <td>adelanto</td>\n",
       "      <td>2016</td>\n",
       "      <td>29750.0</td>\n",
       "      <td>14565863</td>\n",
       "      <td>33497.0</td>\n",
       "      <td>435.0</td>\n",
       "      <td>23692799</td>\n",
       "      <td>707.0</td>\n",
       "      <td>0.888139</td>\n",
       "    </tr>\n",
       "    <tr>\n",
       "      <th>1</th>\n",
       "      <td>agoura hills</td>\n",
       "      <td>2016</td>\n",
       "      <td>21250.0</td>\n",
       "      <td>28100766</td>\n",
       "      <td>21211.0</td>\n",
       "      <td>1325.0</td>\n",
       "      <td>31218079</td>\n",
       "      <td>1472.0</td>\n",
       "      <td>1.001839</td>\n",
       "    </tr>\n",
       "    <tr>\n",
       "      <th>2</th>\n",
       "      <td>alameda</td>\n",
       "      <td>2020</td>\n",
       "      <td>191250.0</td>\n",
       "      <td>296672492</td>\n",
       "      <td>81312.0</td>\n",
       "      <td>3649.0</td>\n",
       "      <td>260518041</td>\n",
       "      <td>3204.0</td>\n",
       "      <td>2.352051</td>\n",
       "    </tr>\n",
       "    <tr>\n",
       "      <th>3</th>\n",
       "      <td>albany</td>\n",
       "      <td>2015</td>\n",
       "      <td>29750.0</td>\n",
       "      <td>28109961</td>\n",
       "      <td>18565.0</td>\n",
       "      <td>1514.0</td>\n",
       "      <td>24990215</td>\n",
       "      <td>1346.0</td>\n",
       "      <td>1.602478</td>\n",
       "    </tr>\n",
       "    <tr>\n",
       "      <th>4</th>\n",
       "      <td>alhambra</td>\n",
       "      <td>2020</td>\n",
       "      <td>46750.0</td>\n",
       "      <td>133617079</td>\n",
       "      <td>86792.0</td>\n",
       "      <td>1540.0</td>\n",
       "      <td>137772968</td>\n",
       "      <td>1587.0</td>\n",
       "      <td>0.538644</td>\n",
       "    </tr>\n",
       "  </tbody>\n",
       "</table>\n",
       "</div>"
      ],
      "text/plain": [
       "     Business_C  Payment_Ye  total_paym  Total Revenues  Estimated Population  \\\n",
       "0      adelanto        2016     29750.0        14565863               33497.0   \n",
       "1  agoura hills        2016     21250.0        28100766               21211.0   \n",
       "2       alameda        2020    191250.0       296672492               81312.0   \n",
       "3        albany        2015     29750.0        28109961               18565.0   \n",
       "4      alhambra        2020     46750.0       133617079               86792.0   \n",
       "\n",
       "   Revenues Per Capita  Total Expenditures  Expenditures Per Capita  \\\n",
       "0                435.0            23692799                    707.0   \n",
       "1               1325.0            31218079                   1472.0   \n",
       "2               3649.0           260518041                   3204.0   \n",
       "3               1514.0            24990215                   1346.0   \n",
       "4               1540.0           137772968                   1587.0   \n",
       "\n",
       "   EHR Per Capita  \n",
       "0        0.888139  \n",
       "1        1.001839  \n",
       "2        2.352051  \n",
       "3        1.602478  \n",
       "4        0.538644  "
      ]
     },
     "execution_count": 172,
     "metadata": {},
     "output_type": "execute_result"
    }
   ],
   "source": [
    "## Get the last entry for each city as the total payment they have received\n",
    "df_provider_city_last = df_provider_city.groupby(['Business_C']).apply(lambda x: x.iloc[[-1]]).reset_index(drop=True)\n",
    "df_provider_city_last.head()"
   ]
  },
  {
   "cell_type": "code",
   "execution_count": 173,
   "id": "b6251e10",
   "metadata": {},
   "outputs": [
    {
     "data": {
      "text/plain": [
       "(404, 9)"
      ]
     },
     "execution_count": 173,
     "metadata": {},
     "output_type": "execute_result"
    }
   ],
   "source": [
    "df_provider_city_last.shape"
   ]
  },
  {
   "cell_type": "markdown",
   "id": "050f4f73",
   "metadata": {},
   "source": [
    "404 observations of 9 variables"
   ]
  },
  {
   "cell_type": "code",
   "execution_count": 147,
   "id": "d9cc967e",
   "metadata": {},
   "outputs": [],
   "source": [
    "df_provider_city_last.to_csv('df_provider_city_last.csv')"
   ]
  },
  {
   "cell_type": "markdown",
   "id": "04a75fb5",
   "metadata": {},
   "source": [
    "### Plot the preliminary histograms"
   ]
  },
  {
   "cell_type": "code",
   "execution_count": 148,
   "id": "f646ebc4",
   "metadata": {},
   "outputs": [
    {
     "data": {
      "text/plain": [
       "(array([1., 0., 0., ..., 0., 0., 1.]),\n",
       " array([  350.    ,   354.3096,   358.6192, ..., 21889.3808, 21893.6904,\n",
       "        21898.    ]),\n",
       " <BarContainer object of 5000 artists>)"
      ]
     },
     "execution_count": 148,
     "metadata": {},
     "output_type": "execute_result"
    },
    {
     "data": {
      "image/png": "[encoded data removed]",
      "text/plain": [
       "<Figure size 640x480 with 1 Axes>"
      ]
     },
     "metadata": {},
     "output_type": "display_data"
    }
   ],
   "source": [
    "## plot the histogram for revenue per capita\n",
    "plt.hist(df_provider_city_last['Revenues Per Capita'], bins=5000)"
   ]
  },
  {
   "cell_type": "code",
   "execution_count": 149,
   "id": "1cd48d8e",
   "metadata": {},
   "outputs": [
    {
     "data": {
      "text/plain": [
       "(array([1., 0., 0., ..., 0., 0., 1.]),\n",
       " array([  361.    ,   366.4784,   371.9568, ..., 27742.0432, 27747.5216,\n",
       "        27753.    ]),\n",
       " <BarContainer object of 5000 artists>)"
      ]
     },
     "execution_count": 149,
     "metadata": {},
     "output_type": "execute_result"
    },
    {
     "data": {
      "image/png": "[encoded data removed]",
      "text/plain": [
       "<Figure size 640x480 with 1 Axes>"
      ]
     },
     "metadata": {},
     "output_type": "display_data"
    }
   ],
   "source": [
    "## plot the histogram for expenditure per capita\n",
    "plt.hist(df_provider_city_last['Expenditures Per Capita'], bins=5000)"
   ]
  },
  {
   "cell_type": "code",
   "execution_count": 150,
   "id": "419b2a5b",
   "metadata": {},
   "outputs": [
    {
     "data": {
      "text/plain": [
       "(array([2., 4., 2., ..., 0., 0., 1.]),\n",
       " array([1.41826458e-01, 1.82724018e-01, 2.23621579e-01, ...,\n",
       "        2.04547835e+02, 2.04588732e+02, 2.04629630e+02]),\n",
       " <BarContainer object of 5000 artists>)"
      ]
     },
     "execution_count": 150,
     "metadata": {},
     "output_type": "execute_result"
    },
    {
     "data": {
      "image/png": "[encoded data removed]",
      "text/plain": [
       "<Figure size 640x480 with 1 Axes>"
      ]
     },
     "metadata": {},
     "output_type": "display_data"
    }
   ],
   "source": [
    "## plot the histogram for EHR per Capita\n",
    "plt.hist(df_provider_city_last['EHR Per Capita'], bins=5000)"
   ]
  },
  {
   "cell_type": "code",
   "execution_count": 174,
   "id": "f28c2894",
   "metadata": {},
   "outputs": [
    {
     "data": {
      "text/plain": [
       "<AxesSubplot: xlabel='EHR Per Capita', ylabel='Density'>"
      ]
     },
     "execution_count": 174,
     "metadata": {},
     "output_type": "execute_result"
    },
    {
     "data": {
      "image/png": "[encoded data removed]",
      "text/plain": [
       "<Figure size 1600x480 with 3 Axes>"
      ]
     },
     "metadata": {},
     "output_type": "display_data"
    }
   ],
   "source": [
    "# Plot the Distribution plots for the features\n",
    "import warnings\n",
    "warnings.filterwarnings('ignore')\n",
    "from matplotlib.pyplot import figure\n",
    "figure(figsize=(20, 6), dpi=80)\n",
    "\n",
    "plt.subplot(1,3,1)\n",
    "sns.distplot(df_provider_city_last['Revenues Per Capita'])  # right skewed distribution -> log transformation\n",
    "plt.subplot(1,3,2)\n",
    "sns.distplot(df_provider_city_last['Expenditures Per Capita'])  # right skewed distribution -> log transformation\n",
    "plt.subplot(1,3,3)\n",
    "sns.distplot(df_provider_city_last['EHR Per Capita']) # right skewed distribution -> log transformation\n"
   ]
  },
  {
   "cell_type": "code",
   "execution_count": 175,
   "id": "7d55d7d3",
   "metadata": {},
   "outputs": [
    {
     "name": "stdout",
     "output_type": "stream",
     "text": [
      "                            OLS Regression Results                            \n",
      "==============================================================================\n",
      "Dep. Variable:                      y   R-squared:                       0.018\n",
      "Model:                            OLS   Adj. R-squared:                  0.014\n",
      "Method:                 Least Squares   F-statistic:                     3.776\n",
      "Date:                Sat, 19 Nov 2022   Prob (F-statistic):             0.0237\n",
      "Time:                        20:15:21   Log-Likelihood:                -1745.0\n",
      "No. Observations:                 404   AIC:                             3496.\n",
      "Df Residuals:                     401   BIC:                             3508.\n",
      "Df Model:                           2                                         \n",
      "Covariance Type:            nonrobust                                         \n",
      "==============================================================================\n",
      "                 coef    std err          t      P>|t|      [0.025      0.975]\n",
      "------------------------------------------------------------------------------\n",
      "Intercept      4.9251      1.406      3.502      0.001       2.161       7.690\n",
      "x              0.0046      0.002      1.956      0.051   -2.29e-05       0.009\n",
      "z             -0.0033      0.002     -1.519      0.130      -0.008       0.001\n",
      "==============================================================================\n",
      "Omnibus:                      538.162   Durbin-Watson:                   1.942\n",
      "Prob(Omnibus):                  0.000   Jarque-Bera (JB):            59066.181\n",
      "Skew:                           6.578   Prob(JB):                         0.00\n",
      "Kurtosis:                      60.756   Cond. No.                     6.17e+03\n",
      "==============================================================================\n",
      "\n",
      "Notes:\n",
      "[1] Standard Errors assume that the covariance matrix of the errors is correctly specified.\n",
      "[2] The condition number is large, 6.17e+03. This might indicate that there are\n",
      "strong multicollinearity or other numerical problems.\n"
     ]
    }
   ],
   "source": [
    "## Standard OLS\n",
    "import statsmodels.api as sm\n",
    "from statsmodels.formula.api import ols\n",
    "\n",
    "y = df_provider_city_last['EHR Per Capita']\n",
    "x = df_provider_city_last['Revenues Per Capita']\n",
    "z = df_provider_city_last['Expenditures Per Capita']\n",
    "\n",
    "model = ols('y ~ x + z', data = df_provider_city_last).fit()\n",
    "table = sm.stats.anova_lm(model)\n",
    "print(model.summary())"
   ]
  },
  {
   "cell_type": "code",
   "execution_count": 176,
   "id": "3bb877a5",
   "metadata": {},
   "outputs": [
    {
     "data": {
      "application/vnd.jupyter.widget-view+json": {
       "model_id": "06913265b622449298f0573a078680df",
       "version_major": 2,
       "version_minor": 0
      },
      "text/plain": [
       "                                             |      | [  0%]   00:00 -> (? left)"
      ]
     },
     "metadata": {},
     "output_type": "display_data"
    },
    {
     "name": "stdout",
     "output_type": "stream",
     "text": [
      "Report SWEETVIZ_REPORT.html was generated! NOTEBOOK/COLAB USERS: the web browser MAY not pop up, regardless, the report IS saved in your notebook/colab files.\n"
     ]
    }
   ],
   "source": [
    "# displays the summary of the normalized data. \n",
    "import sweetviz as sv\n",
    "\n",
    "my_report = sv.analyze(df_provider_city_last)\n",
    "my_report.show_html() # Default arguments will generate to \"SWEETVIZ_REPORT.html\""
   ]
  },
  {
   "cell_type": "markdown",
   "id": "1b60ecf9",
   "metadata": {},
   "source": [
    "# Outlier treatment: \n",
    "1. log transformation for positively skewed variables\n",
    "2. remove outliers using Quantile-based Flooring and Capping\n",
    "Quantile-based Flooring and Capping In this technique, we will do the flooring (e.g., the 10th percentile) for the lower values and capping (e.g., the 90th percentile) for the higher values. The lines of code below print the 10th and 90th percentiles of the variable 'Income', respectively. These values will be used for quantile-based flooring and capping."
   ]
  },
  {
   "cell_type": "code",
   "execution_count": 177,
   "id": "df857a30",
   "metadata": {},
   "outputs": [
    {
     "name": "stdout",
     "output_type": "stream",
     "text": [
      "Before treatment: 6.9743777070966395\n",
      "After treatment: 0.7173423061761003\n"
     ]
    }
   ],
   "source": [
    "import math\n",
    "\n",
    "print(f\"Before treatment: {df_provider_city_last['Expenditures Per Capita'].skew()}\")\n",
    "df_provider_city_last['Expenditures Per Capita'] = df_provider_city_last['Expenditures Per Capita'].apply(lambda x: math.log(x)) # shrink the difference among data\n",
    "print(f\"After treatment: {df_provider_city_last['Expenditures Per Capita'].skew()}\")"
   ]
  },
  {
   "cell_type": "code",
   "execution_count": 178,
   "id": "e6c0ffe0",
   "metadata": {},
   "outputs": [
    {
     "name": "stdout",
     "output_type": "stream",
     "text": [
      "Before treatment: 5.231422721097847\n",
      "After treatment: 0.5333292845359128\n"
     ]
    }
   ],
   "source": [
    "print(f\"Before treatment: {df_provider_city_last['Revenues Per Capita'].skew()}\")\n",
    "df_provider_city_last['Revenues Per Capita'] = df_provider_city_last['Revenues Per Capita'].apply(lambda x: math.log(x)) # shrink the difference among data\n",
    "print(f\"After treatment: {df_provider_city_last['Revenues Per Capita'].skew()}\")"
   ]
  },
  {
   "cell_type": "code",
   "execution_count": 179,
   "id": "4a965cd3",
   "metadata": {},
   "outputs": [
    {
     "name": "stdout",
     "output_type": "stream",
     "text": [
      "Before treatment: 6.769951036858467\n",
      "After treatment: 0.4062687614207408\n"
     ]
    }
   ],
   "source": [
    "print(f\"Before treatment: {df_provider_city_last['EHR Per Capita'].skew()}\")\n",
    "df_provider_city_last['EHR Per Capita'] = df_provider_city_last['EHR Per Capita'].apply(lambda x: math.log(x)) # shrink the difference among data\n",
    "print(f\"After treatment: {df_provider_city_last['EHR Per Capita'].skew()}\")"
   ]
  },
  {
   "cell_type": "code",
   "execution_count": 180,
   "id": "c8adce9d",
   "metadata": {},
   "outputs": [
    {
     "data": {
      "text/plain": [
       "<AxesSubplot: xlabel='EHR Per Capita', ylabel='Density'>"
      ]
     },
     "execution_count": 180,
     "metadata": {},
     "output_type": "execute_result"
    },
    {
     "data": {
      "image/png": "[encoded data removed]",
      "text/plain": [
       "<Figure size 960x480 with 3 Axes>"
      ]
     },
     "metadata": {},
     "output_type": "display_data"
    }
   ],
   "source": [
    "# Plot the Distribution plots for the features\n",
    "warnings.filterwarnings('ignore')\n",
    "figure(figsize=(12, 6), dpi=80)\n",
    "plt.subplot(1,3,1)\n",
    "sns.distplot(df_provider_city_last['Revenues Per Capita'])\n",
    "plt.subplot(1,3,2)\n",
    "sns.distplot(df_provider_city_last['Expenditures Per Capita'])\n",
    "plt.subplot(1,3,3)\n",
    "sns.distplot(df_provider_city_last['EHR Per Capita']) # right skewed distribution -> log transformation"
   ]
  },
  {
   "cell_type": "code",
   "execution_count": 181,
   "id": "9cbcc3b4",
   "metadata": {},
   "outputs": [
    {
     "name": "stdout",
     "output_type": "stream",
     "text": [
      "                            OLS Regression Results                            \n",
      "==============================================================================\n",
      "Dep. Variable:                      y   R-squared:                       0.018\n",
      "Model:                            OLS   Adj. R-squared:                  0.014\n",
      "Method:                 Least Squares   F-statistic:                     3.778\n",
      "Date:                Sat, 19 Nov 2022   Prob (F-statistic):             0.0237\n",
      "Time:                        20:15:36   Log-Likelihood:                -700.31\n",
      "No. Observations:                 404   AIC:                             1407.\n",
      "Df Residuals:                     401   BIC:                             1419.\n",
      "Df Model:                           2                                         \n",
      "Covariance Type:            nonrobust                                         \n",
      "==============================================================================\n",
      "                 coef    std err          t      P>|t|      [0.025      0.975]\n",
      "------------------------------------------------------------------------------\n",
      "Intercept     -1.0778      0.853     -1.263      0.207      -2.755       0.599\n",
      "x              0.7207      0.489      1.473      0.141      -0.241       1.682\n",
      "z             -0.4446      0.496     -0.897      0.370      -1.419       0.530\n",
      "==============================================================================\n",
      "Omnibus:                        9.449   Durbin-Watson:                   1.907\n",
      "Prob(Omnibus):                  0.009   Jarque-Bera (JB):                9.608\n",
      "Skew:                           0.355   Prob(JB):                      0.00820\n",
      "Kurtosis:                       2.740   Cond. No.                         133.\n",
      "==============================================================================\n",
      "\n",
      "Notes:\n",
      "[1] Standard Errors assume that the covariance matrix of the errors is correctly specified.\n"
     ]
    }
   ],
   "source": [
    "\n",
    "y = df_provider_city_last['EHR Per Capita']\n",
    "x = df_provider_city_last['Revenues Per Capita']\n",
    "z = df_provider_city_last['Expenditures Per Capita']\n",
    "\n",
    "model = ols('y ~ x + z', data = df_provider_city_last).fit()\n",
    "table = sm.stats.anova_lm(model)\n",
    "print(model.summary())"
   ]
  },
  {
   "cell_type": "code",
   "execution_count": 182,
   "id": "ccb5598b",
   "metadata": {},
   "outputs": [
    {
     "data": {
      "application/vnd.jupyter.widget-view+json": {
       "model_id": "9ed81b09fb074a4596e04b06087bbd02",
       "version_major": 2,
       "version_minor": 0
      },
      "text/plain": [
       "                                             |      | [  0%]   00:00 -> (? left)"
      ]
     },
     "metadata": {},
     "output_type": "display_data"
    },
    {
     "name": "stdout",
     "output_type": "stream",
     "text": [
      "Report SWEETVIZ_REPORT.html was generated! NOTEBOOK/COLAB USERS: the web browser MAY not pop up, regardless, the report IS saved in your notebook/colab files.\n"
     ]
    }
   ],
   "source": [
    "# displays the summary of the normalized data. \n",
    "my_report = sv.analyze(df_provider_city_last)\n",
    "my_report.show_html() # Default arguments will generate to \"SWEETVIZ_REPORT.html\""
   ]
  },
  {
   "cell_type": "code",
   "execution_count": 183,
   "id": "2cf1e9a7",
   "metadata": {},
   "outputs": [
    {
     "name": "stdout",
     "output_type": "stream",
     "text": [
      "BOX PLOT VALUES : \n",
      "First Quartile : 7.07\n",
      "Second Quartile : 7.76\n",
      "IQR Range : 0.69\n",
      "Lower Range : 6.03\n",
      "Upper Range : 8.8\n"
     ]
    },
    {
     "data": {
      "text/plain": [
       "[Text(0.5, 1.0, 'Revenues Per Capita')]"
      ]
     },
     "execution_count": 183,
     "metadata": {},
     "output_type": "execute_result"
    },
    {
     "data": {
      "image/png": "[encoded data removed]",
      "text/plain": [
       "<Figure size 640x480 with 1 Axes>"
      ]
     },
     "metadata": {},
     "output_type": "display_data"
    }
   ],
   "source": [
    "#determine the upper boundary and lower boundary by plotting box plot\n",
    "# remove outliers from Seaborn boxplots.\n",
    "# Outlier shown with a dot\n",
    "\n",
    "import seaborn as sns \n",
    "\n",
    "def boxplot(datacolumn):\n",
    "    sorted(datacolumn)\n",
    "    Q1,Q3 = np.percentile(datacolumn , [25,75])\n",
    "    IQR = (Q3 - Q1)\n",
    "    lower_range = Q1 - (1.5 * IQR)\n",
    "    upper_range = Q3 + (1.5 * IQR)\n",
    "    return Q1,Q3,IQR,lower_range,upper_range\n",
    "\n",
    "Q1,Q3,IQR,lower_range,upper_range = boxplot(df_provider_city_last['Revenues Per Capita'])\n",
    "print(\"BOX PLOT VALUES : \")\n",
    "print(\"First Quartile :\",Q1.round(2))\n",
    "print(\"Second Quartile :\",Q3.round(2))\n",
    "print(\"IQR Range :\",IQR.round(2))\n",
    "print(\"Lower Range :\",lower_range.round(2))\n",
    "print(\"Upper Range :\",upper_range.round(2))\n",
    "\n",
    "sns.boxplot(df_provider_city_last['Revenues Per Capita']).set(title='Revenues Per Capita')"
   ]
  },
  {
   "cell_type": "code",
   "execution_count": 184,
   "id": "914d5d28",
   "metadata": {},
   "outputs": [
    {
     "name": "stdout",
     "output_type": "stream",
     "text": [
      "Total Range is as folows\n",
      "Lower Range : 6.03\n",
      "Upper Range : 8.8\n",
      "So Number should not be less than 'Lower Range' or more than 'Upper Range' else OUTLIERS\n",
      "Total Outlier ABOVE UPPER RANGE : 7\n",
      "Total Outlier BELOW LOWER RANGE : 3\n",
      "Total Outlier in df_provider_city_last : 10\n"
     ]
    }
   ],
   "source": [
    "# Upper and Lower Range of the dataset of Revenues Per Capita\n",
    "\n",
    "upper_outlier = len(df_provider_city_last[df_provider_city_last['Revenues Per Capita'] > upper_range])\n",
    "lower_outlier = len(df_provider_city_last[df_provider_city_last['Revenues Per Capita'] < lower_range])\n",
    "total = len(df_provider_city_last[(df_provider_city_last['Revenues Per Capita']  < lower_range) | (df_provider_city_last['Revenues Per Capita']  > upper_range)])\n",
    "\n",
    "print(\"Total Range is as folows\")\n",
    "print(\"Lower Range :\",lower_range.round(2))\n",
    "print(\"Upper Range :\", upper_range.round(2))\n",
    "print(\"So Number should not be less than 'Lower Range' or more than 'Upper Range' else OUTLIERS\")\n",
    "print(\"Total Outlier ABOVE UPPER RANGE :\",upper_outlier)\n",
    "print(\"Total Outlier BELOW LOWER RANGE :\",lower_outlier)\n",
    "print(\"Total Outlier in the dataset :\", total)\n",
    "\n",
    "# remove outliers\n",
    "df_provider_city_last = df_provider_city_last[(df_provider_city_last['Revenues Per Capita']  > lower_range) & (df_provider_city_last['Revenues Per Capita']  < upper_range)]\n"
   ]
  },
  {
   "cell_type": "code",
   "execution_count": 126,
   "id": "19f1afa1",
   "metadata": {},
   "outputs": [
    {
     "name": "stdout",
     "output_type": "stream",
     "text": [
      "BOX PLOT VALUES : \n",
      "First Quartile : 7.0\n",
      "Second Quartile : 7.72\n",
      "IQR Range : 0.72\n",
      "Lower Range : 5.92\n",
      "Upper Range : 8.8\n"
     ]
    },
    {
     "data": {
      "text/plain": [
       "[Text(0.5, 1.0, 'Expenditures Per Capita')]"
      ]
     },
     "execution_count": 126,
     "metadata": {},
     "output_type": "execute_result"
    },
    {
     "data": {
      "image/png": "[encoded data removed]",
      "text/plain": [
       "<Figure size 640x480 with 1 Axes>"
      ]
     },
     "metadata": {},
     "output_type": "display_data"
    }
   ],
   "source": [
    "# Upper and Lower Range of the dataset of Expenditures Per Capita\n",
    "\n",
    "Q1,Q3,IQR,lower_range,upper_range = boxplot(df_provider_city_last['Expenditures Per Capita'])\n",
    "print(\"BOX PLOT VALUES : \")\n",
    "print(\"First Quartile :\",Q1.round(2))\n",
    "print(\"Second Quartile :\",Q3.round(2))\n",
    "print(\"IQR Range :\",IQR.round(2))\n",
    "print(\"Lower Range :\",lower_range.round(2))\n",
    "print(\"Upper Range :\",upper_range.round(2))\n",
    "\n",
    "sns.boxplot(df_provider_city_last['Expenditures Per Capita']).set(title='Expenditures Per Capita')"
   ]
  },
  {
   "cell_type": "code",
   "execution_count": 32,
   "id": "30e17ae8",
   "metadata": {},
   "outputs": [
    {
     "name": "stdout",
     "output_type": "stream",
     "text": [
      "Total Range is as folows\n",
      "Lower Range : 6.01\n",
      "Upper Range : 8.67\n",
      "So Number should not be less than 'Lower Range' or more than 'Upper Range' else OUTLIERS\n",
      "Total Outlier ABOVE UPPER RANGE : 3\n",
      "Total Outlier BELOW LOWER RANGE : 0\n",
      "Total Outlier in 'DIS' Column in Boston Dataset : 3\n"
     ]
    }
   ],
   "source": [
    "upper_outlier = len(df_provider_city_last[df_provider_city_last['Expenditures Per Capita'] > upper_range])\n",
    "lower_outlier = len(df_provider_city_last[df_provider_city_last['Expenditures Per Capita'] < lower_range])\n",
    "total = len(df_provider_city_last[(df_provider_city_last['Expenditures Per Capita']  < lower_range) | (df_provider_city_last['Expenditures Per Capita']  > upper_range)])\n",
    "\n",
    "print(\"Total Range is as folows\")\n",
    "print(\"Lower Range :\",lower_range.round(2))\n",
    "print(\"Upper Range :\", upper_range.round(2))\n",
    "print(\"So Number should not be less than 'Lower Range' or more than 'Upper Range' else OUTLIERS\")\n",
    "print(\"Total Outlier ABOVE UPPER RANGE :\",upper_outlier)\n",
    "print(\"Total Outlier BELOW LOWER RANGE :\",lower_outlier)\n",
    "print(\"Total Outlier in the dataset :\", total)\n",
    "\n",
    "# remove outliers\n",
    "df_provider_city_last = df_provider_city_last[(df_provider_city_last['Expenditures Per Capita']  > lower_range) & (df_provider_city_last['Expenditures Per Capita']  < upper_range)]\n"
   ]
  },
  {
   "cell_type": "code",
   "execution_count": 33,
   "id": "a2ddb949",
   "metadata": {},
   "outputs": [
    {
     "data": {
      "text/plain": [
       "(391, 9)"
      ]
     },
     "execution_count": 33,
     "metadata": {},
     "output_type": "execute_result"
    }
   ],
   "source": [
    "df_provider_city_last.shape"
   ]
  },
  {
   "cell_type": "markdown",
   "id": "5be6c6de",
   "metadata": {},
   "source": [
    "# Regression Analysis"
   ]
  },
  {
   "cell_type": "code",
   "execution_count": 35,
   "id": "7b9a75cc",
   "metadata": {},
   "outputs": [
    {
     "name": "stdout",
     "output_type": "stream",
     "text": [
      "                            OLS Regression Results                            \n",
      "==============================================================================\n",
      "Dep. Variable:                      y   R-squared:                       0.011\n",
      "Model:                            OLS   Adj. R-squared:                  0.006\n",
      "Method:                 Least Squares   F-statistic:                     2.093\n",
      "Date:                Sat, 19 Nov 2022   Prob (F-statistic):              0.125\n",
      "Time:                        18:45:07   Log-Likelihood:                -677.93\n",
      "No. Observations:                 391   AIC:                             1362.\n",
      "Df Residuals:                     388   BIC:                             1374.\n",
      "Df Model:                           2                                         \n",
      "Covariance Type:            nonrobust                                         \n",
      "==============================================================================\n",
      "                 coef    std err          t      P>|t|      [0.025      0.975]\n",
      "------------------------------------------------------------------------------\n",
      "Intercept     -0.6035      0.995     -0.607      0.544      -2.559       1.352\n",
      "x              0.6798      0.497      1.368      0.172      -0.297       1.657\n",
      "z             -0.4673      0.509     -0.918      0.359      -1.468       0.534\n",
      "==============================================================================\n",
      "Omnibus:                        9.371   Durbin-Watson:                   1.872\n",
      "Prob(Omnibus):                  0.009   Jarque-Bera (JB):                9.628\n",
      "Skew:                           0.366   Prob(JB):                      0.00811\n",
      "Kurtosis:                       2.766   Cond. No.                         151.\n",
      "==============================================================================\n",
      "\n",
      "Notes:\n",
      "[1] Standard Errors assume that the covariance matrix of the errors is correctly specified.\n"
     ]
    }
   ],
   "source": [
    "## Standard OLS\n",
    "import statsmodels.api as sm\n",
    "from statsmodels.formula.api import ols\n",
    "\n",
    "y = df_provider_city_last['EHR Per Capita']\n",
    "x = df_provider_city_last['Revenues Per Capita']\n",
    "z = df_provider_city_last['Expenditures Per Capita']\n",
    "\n",
    "model = ols('y ~ x + z', data = df_provider_city_last).fit()\n",
    "table = sm.stats.anova_lm(model)\n",
    "print(model.summary())"
   ]
  },
  {
   "cell_type": "markdown",
   "id": "6a2a701c",
   "metadata": {},
   "source": [
    "EHR Per Capita = 0.6798*(Revenues Per Capita) - 0.4673*(Expenditures Per Capita) - 0.6035 "
   ]
  },
  {
   "cell_type": "code",
   "execution_count": 65,
   "id": "c2fab0b5",
   "metadata": {},
   "outputs": [
    {
     "name": "stdout",
     "output_type": "stream",
     "text": [
      "(282, 2)\n",
      "(122, 2)\n"
     ]
    }
   ],
   "source": [
    "from sklearn.model_selection import train_test_split\n",
    "import statsmodels.api as sm\n",
    "\n",
    "# ================================================\n",
    "# Build the model\n",
    "# ================================================\n",
    "\n",
    "# Training data\n",
    "X = df_provider_city_last[['Revenues Per Capita', 'Expenditures Per Capita']] # feature \n",
    "y = df_provider_city_last['EHR Per Capita'] # target\n",
    "\n",
    "\n",
    "# Splitting the data into train and test\n",
    "X_train, X_test, y_train, y_test = train_test_split(X,y, train_size=0.7,test_size=0.3,random_state=100)\n",
    "\n",
    "print(X_train.shape); print(X_test.shape)\n"
   ]
  },
  {
   "cell_type": "markdown",
   "id": "a515164a",
   "metadata": {},
   "source": [
    "training set: 282 observations of 2 variables\n",
    "\n",
    "test set: 122 observations of 2 variables"
   ]
  },
  {
   "cell_type": "code",
   "execution_count": 66,
   "id": "c86bab38",
   "metadata": {},
   "outputs": [
    {
     "data": {
      "text/html": [
       "<style>#sk-container-id-3 {color: black;background-color: white;}#sk-container-id-3 pre{padding: 0;}#sk-container-id-3 div.sk-toggleable {background-color: white;}#sk-container-id-3 label.sk-toggleable__label {cursor: pointer;display: block;width: 100%;margin-bottom: 0;padding: 0.3em;box-sizing: border-box;text-align: center;}#sk-container-id-3 label.sk-toggleable__label-arrow:before {content: \"▸\";float: left;margin-right: 0.25em;color: #696969;}#sk-container-id-3 label.sk-toggleable__label-arrow:hover:before {color: black;}#sk-container-id-3 div.sk-estimator:hover label.sk-toggleable__label-arrow:before {color: black;}#sk-container-id-3 div.sk-toggleable__content {max-height: 0;max-width: 0;overflow: hidden;text-align: left;background-color: #f0f8ff;}#sk-container-id-3 div.sk-toggleable__content pre {margin: 0.2em;color: black;border-radius: 0.25em;background-color: #f0f8ff;}#sk-container-id-3 input.sk-toggleable__control:checked~div.sk-toggleable__content {max-height: 200px;max-width: 100%;overflow: auto;}#sk-container-id-3 input.sk-toggleable__control:checked~label.sk-toggleable__label-arrow:before {content: \"▾\";}#sk-container-id-3 div.sk-estimator input.sk-toggleable__control:checked~label.sk-toggleable__label {background-color: #d4ebff;}#sk-container-id-3 div.sk-label input.sk-toggleable__control:checked~label.sk-toggleable__label {background-color: #d4ebff;}#sk-container-id-3 input.sk-hidden--visually {border: 0;clip: rect(1px 1px 1px 1px);clip: rect(1px, 1px, 1px, 1px);height: 1px;margin: -1px;overflow: hidden;padding: 0;position: absolute;width: 1px;}#sk-container-id-3 div.sk-estimator {font-family: monospace;background-color: #f0f8ff;border: 1px dotted black;border-radius: 0.25em;box-sizing: border-box;margin-bottom: 0.5em;}#sk-container-id-3 div.sk-estimator:hover {background-color: #d4ebff;}#sk-container-id-3 div.sk-parallel-item::after {content: \"\";width: 100%;border-bottom: 1px solid gray;flex-grow: 1;}#sk-container-id-3 div.sk-label:hover label.sk-toggleable__label {background-color: #d4ebff;}#sk-container-id-3 div.sk-serial::before {content: \"\";position: absolute;border-left: 1px solid gray;box-sizing: border-box;top: 0;bottom: 0;left: 50%;z-index: 0;}#sk-container-id-3 div.sk-serial {display: flex;flex-direction: column;align-items: center;background-color: white;padding-right: 0.2em;padding-left: 0.2em;position: relative;}#sk-container-id-3 div.sk-item {position: relative;z-index: 1;}#sk-container-id-3 div.sk-parallel {display: flex;align-items: stretch;justify-content: center;background-color: white;position: relative;}#sk-container-id-3 div.sk-item::before, #sk-container-id-3 div.sk-parallel-item::before {content: \"\";position: absolute;border-left: 1px solid gray;box-sizing: border-box;top: 0;bottom: 0;left: 50%;z-index: -1;}#sk-container-id-3 div.sk-parallel-item {display: flex;flex-direction: column;z-index: 1;position: relative;background-color: white;}#sk-container-id-3 div.sk-parallel-item:first-child::after {align-self: flex-end;width: 50%;}#sk-container-id-3 div.sk-parallel-item:last-child::after {align-self: flex-start;width: 50%;}#sk-container-id-3 div.sk-parallel-item:only-child::after {width: 0;}#sk-container-id-3 div.sk-dashed-wrapped {border: 1px dashed gray;margin: 0 0.4em 0.5em 0.4em;box-sizing: border-box;padding-bottom: 0.4em;background-color: white;}#sk-container-id-3 div.sk-label label {font-family: monospace;font-weight: bold;display: inline-block;line-height: 1.2em;}#sk-container-id-3 div.sk-label-container {text-align: center;}#sk-container-id-3 div.sk-container {/* jupyter's `normalize.less` sets `[hidden] { display: none; }` but bootstrap.min.css set `[hidden] { display: none !important; }` so we also need the `!important` here to be able to override the default hidden behavior on the sphinx rendered scikit-learn.org. See: https://github.com/scikit-learn/scikit-learn/issues/21755 */display: inline-block !important;position: relative;}#sk-container-id-3 div.sk-text-repr-fallback {display: none;}</style><div id=\"sk-container-id-3\" class=\"sk-top-container\"><div class=\"sk-text-repr-fallback\"><pre>LinearRegression()</pre><b>In a Jupyter environment, please rerun this cell to show the HTML representation or trust the notebook. <br />On GitHub, the HTML representation is unable to render, please try loading this page with nbviewer.org.</b></div><div class=\"sk-container\" hidden><div class=\"sk-item\"><div class=\"sk-estimator sk-toggleable\"><input class=\"sk-toggleable__control sk-hidden--visually\" id=\"sk-estimator-id-3\" type=\"checkbox\" checked><label for=\"sk-estimator-id-3\" class=\"sk-toggleable__label sk-toggleable__label-arrow\">LinearRegression</label><div class=\"sk-toggleable__content\"><pre>LinearRegression()</pre></div></div></div></div></div>"
      ],
      "text/plain": [
       "LinearRegression()"
      ]
     },
     "execution_count": 66,
     "metadata": {},
     "output_type": "execute_result"
    }
   ],
   "source": [
    "# Train the model: include an intercept to the model by default\n",
    "model = LinearRegression()\n",
    "model.fit(X_train, y_train)"
   ]
  },
  {
   "cell_type": "code",
   "execution_count": 67,
   "id": "1ac33fe8",
   "metadata": {},
   "outputs": [
    {
     "data": {
      "text/html": [
       "<div>\n",
       "<style scoped>\n",
       "    .dataframe tbody tr th:only-of-type {\n",
       "        vertical-align: middle;\n",
       "    }\n",
       "\n",
       "    .dataframe tbody tr th {\n",
       "        vertical-align: top;\n",
       "    }\n",
       "\n",
       "    .dataframe thead th {\n",
       "        text-align: right;\n",
       "    }\n",
       "</style>\n",
       "<table border=\"1\" class=\"dataframe\">\n",
       "  <thead>\n",
       "    <tr style=\"text-align: right;\">\n",
       "      <th></th>\n",
       "      <th>Actual</th>\n",
       "      <th>Predicted</th>\n",
       "    </tr>\n",
       "  </thead>\n",
       "  <tbody>\n",
       "    <tr>\n",
       "      <th>121</th>\n",
       "      <td>0.660594</td>\n",
       "      <td>7.671611</td>\n",
       "    </tr>\n",
       "    <tr>\n",
       "      <th>355</th>\n",
       "      <td>2.936510</td>\n",
       "      <td>6.198512</td>\n",
       "    </tr>\n",
       "    <tr>\n",
       "      <th>225</th>\n",
       "      <td>0.750274</td>\n",
       "      <td>7.379244</td>\n",
       "    </tr>\n",
       "    <tr>\n",
       "      <th>398</th>\n",
       "      <td>2.326179</td>\n",
       "      <td>8.323625</td>\n",
       "    </tr>\n",
       "    <tr>\n",
       "      <th>129</th>\n",
       "      <td>0.488209</td>\n",
       "      <td>6.525187</td>\n",
       "    </tr>\n",
       "  </tbody>\n",
       "</table>\n",
       "</div>"
      ],
      "text/plain": [
       "       Actual  Predicted\n",
       "121  0.660594   7.671611\n",
       "355  2.936510   6.198512\n",
       "225  0.750274   7.379244\n",
       "398  2.326179   8.323625\n",
       "129  0.488209   6.525187"
      ]
     },
     "execution_count": 67,
     "metadata": {},
     "output_type": "execute_result"
    }
   ],
   "source": [
    "y_pred = model.predict(X_test)\n",
    "\n",
    "# Comparing the test values and the predicted values\n",
    "comparison_df = pd.DataFrame({\"Actual\":y_test,\"Predicted\":y_pred})\n",
    "comparison_df.head()"
   ]
  },
  {
   "cell_type": "code",
   "execution_count": 68,
   "id": "f7737a64",
   "metadata": {},
   "outputs": [
    {
     "data": {},
     "metadata": {},
     "output_type": "display_data"
    },
    {
     "data": {
      "application/vnd.holoviews_exec.v0+json": "",
      "text/html": [
       "<div id='1226'>\n",
       "  <div class=\"bk-root\" id=\"cbc585cf-b5d9-48e3-80b7-5934c5db17a2\" data-root-id=\"1226\"></div>\n",
       "</div>\n",
       "<script type=\"application/javascript\">(function(root) {\n",
       "  function embed_document(root) {\n",
       "    var docs_json = {\"370d85c2-a18b-45f5-8cfc-1f65e27051f6\":{\"defs\":[{\"extends\":null,\"module\":null,\"name\":\"ReactiveHTML1\",\"overrides\":[],\"properties\":[]},{\"extends\":null,\"module\":null,\"name\":\"FlexBox1\",\"overrides\":[],\"properties\":[{\"default\":\"flex-start\",\"kind\":null,\"name\":\"align_content\"},{\"default\":\"flex-start\",\"kind\":null,\"name\":\"align_items\"},{\"default\":\"row\",\"kind\":null,\"name\":\"flex_direction\"},{\"default\":\"wrap\",\"kind\":null,\"name\":\"flex_wrap\"},{\"default\":\"flex-start\",\"kind\":null,\"name\":\"justify_content\"}]},{\"extends\":null,\"module\":null,\"name\":\"GridStack1\",\"overrides\":[],\"properties\":[{\"default\":\"warn\",\"kind\":null,\"name\":\"mode\"},{\"default\":null,\"kind\":null,\"name\":\"ncols\"},{\"default\":null,\"kind\":null,\"name\":\"nrows\"},{\"default\":true,\"kind\":null,\"name\":\"allow_resize\"},{\"default\":true,\"kind\":null,\"name\":\"allow_drag\"},{\"default\":[],\"kind\":null,\"name\":\"state\"}]},{\"extends\":null,\"module\":null,\"name\":\"click1\",\"overrides\":[],\"properties\":[{\"default\":\"\",\"kind\":null,\"name\":\"terminal_output\"},{\"default\":\"\",\"kind\":null,\"name\":\"debug_name\"},{\"default\":0,\"kind\":null,\"name\":\"clears\"}]},{\"extends\":null,\"module\":null,\"name\":\"NotificationAreaBase1\",\"overrides\":[],\"properties\":[{\"default\":\"bottom-right\",\"kind\":null,\"name\":\"position\"},{\"default\":0,\"kind\":null,\"name\":\"_clear\"}]},{\"extends\":null,\"module\":null,\"name\":\"NotificationArea1\",\"overrides\":[],\"properties\":[{\"default\":[],\"kind\":null,\"name\":\"notifications\"},{\"default\":\"bottom-right\",\"kind\":null,\"name\":\"position\"},{\"default\":0,\"kind\":null,\"name\":\"_clear\"},{\"default\":[{\"background\":\"#ffc107\",\"icon\":{\"className\":\"fas fa-exclamation-triangle\",\"color\":\"white\",\"tagName\":\"i\"},\"type\":\"warning\"},{\"background\":\"#007bff\",\"icon\":{\"className\":\"fas fa-info-circle\",\"color\":\"white\",\"tagName\":\"i\"},\"type\":\"info\"}],\"kind\":null,\"name\":\"types\"}]},{\"extends\":null,\"module\":null,\"name\":\"Notification\",\"overrides\":[],\"properties\":[{\"default\":null,\"kind\":null,\"name\":\"background\"},{\"default\":3000,\"kind\":null,\"name\":\"duration\"},{\"default\":null,\"kind\":null,\"name\":\"icon\"},{\"default\":\"\",\"kind\":null,\"name\":\"message\"},{\"default\":null,\"kind\":null,\"name\":\"notification_type\"},{\"default\":false,\"kind\":null,\"name\":\"_destroyed\"}]},{\"extends\":null,\"module\":null,\"name\":\"TemplateActions1\",\"overrides\":[],\"properties\":[{\"default\":0,\"kind\":null,\"name\":\"open_modal\"},{\"default\":0,\"kind\":null,\"name\":\"close_modal\"}]},{\"extends\":null,\"module\":null,\"name\":\"MaterialTemplateActions1\",\"overrides\":[],\"properties\":[{\"default\":0,\"kind\":null,\"name\":\"open_modal\"},{\"default\":0,\"kind\":null,\"name\":\"close_modal\"}]}],\"roots\":{\"references\":[{\"attributes\":{},\"id\":\"1275\",\"type\":\"AllLabels\"},{\"attributes\":{\"coordinates\":null,\"group\":null,\"text_color\":\"black\",\"text_font_size\":\"12pt\"},\"id\":\"1232\",\"type\":\"Title\"},{\"attributes\":{\"fill_alpha\":{\"value\":0.2},\"fill_color\":{\"value\":\"#30a2da\"},\"hatch_alpha\":{\"value\":0.2},\"hatch_color\":{\"value\":\"#30a2da\"},\"line_alpha\":{\"value\":0.2},\"line_color\":{\"value\":\"#30a2da\"},\"size\":{\"value\":5.477225575051661},\"x\":{\"field\":\"True Values(y test)\"},\"y\":{\"field\":\"Predicted Values\"}},\"id\":\"1266\",\"type\":\"Scatter\"},{\"attributes\":{},\"id\":\"1241\",\"type\":\"BasicTicker\"},{\"attributes\":{\"angle\":{\"value\":0.0},\"fill_alpha\":{\"value\":1.0},\"fill_color\":{\"value\":\"#30a2da\"},\"hatch_alpha\":{\"value\":1.0},\"hatch_color\":{\"value\":\"#30a2da\"},\"hatch_scale\":{\"value\":12.0},\"hatch_weight\":{\"value\":1.0},\"line_alpha\":{\"value\":1.0},\"line_cap\":{\"value\":\"butt\"},\"line_color\":{\"value\":\"#30a2da\"},\"line_dash\":{\"value\":[]},\"line_dash_offset\":{\"value\":0},\"line_join\":{\"value\":\"bevel\"},\"line_width\":{\"value\":1},\"marker\":{\"value\":\"circle\"},\"size\":{\"value\":5.477225575051661},\"x\":{\"field\":\"True Values(y test)\"},\"y\":{\"field\":\"Predicted Values\"}},\"id\":\"1269\",\"type\":\"Scatter\"},{\"attributes\":{},\"id\":\"1248\",\"type\":\"SaveTool\"},{\"attributes\":{},\"id\":\"1249\",\"type\":\"PanTool\"},{\"attributes\":{\"fill_color\":{\"value\":\"#30a2da\"},\"hatch_color\":{\"value\":\"#30a2da\"},\"line_color\":{\"value\":\"#30a2da\"},\"size\":{\"value\":5.477225575051661},\"x\":{\"field\":\"True Values(y test)\"},\"y\":{\"field\":\"Predicted Values\"}},\"id\":\"1264\",\"type\":\"Scatter\"},{\"attributes\":{\"data\":{\"Predicted Values\":{\"__ndarray__\":\"NZ7O47qvHkC8ob61RssYQIaXrntYhB1AJJnROLKlIEBCFe2hyhkaQOsmYm5OLCFA0PE2EuMNHEBVeAjUuz8dQOlmgd4tYydAaFWJVwkPGEAn6OXsi/8bQO4Gu+w9Hh1ASa5mCYqVHUDDWaAHMkMeQNJPAOztNBxAewdKATIoH0BqcucHLTcgQMLM4LLsXhlAyhpM1fwuGUD8t4sm//EaQKrLS8yKMB5Aesx904E7GUCBchkLndIZQILFA0saCx1AZG/KJ/EvIkDtYvFA4qEZQINnHzRw3BhAVYQ1/IgjHkCkNxUXxw0aQLV7lkKBahpAzGqRZ+4hGkDuF8qE3mIaQCZbayETXSBAdMB0CwZOIEDWY1I3pMsZQFhBm3ZkYhpAQmdgmS0pIkBVlApyu6cfQDpz4oO38hxAFPBTxZFiHUDDap9kkAEbQGeYAEQXjhxA8lHlni//GkCT4gObv2cYQGqJoVZtHRxAn8BANMkIHED0MIutaB8cQIuZx0EtzRlASjlyqpbOHkBib/GFv/cKQCITw3SpxhtAzwejXBcFJ0Dk5JGA7sUxQHX3Zuil6xtAxrL5SxtJG0BIBzl8Rr8ZQNXG436EWBtAUkc9qi8yHUBx37iaNxAZQMKwksH7gCBAILgHxrGw9T+Fn0n/c5AbQFY0wUN6BRtAyvmRh734H0C7c2Mi9tccQIN0njtMdyVAUCFOTJBIHEAUFOEuLA4cQG7SY8bxOiBAtrsCsQQ8HED6wVV6LMUZQJ++VdauIBpAmIjHJypXH0DVpKmG+l8dQDz5qnLI0h5ALHhOQpKMF0C5Az0iC3cbQMzuQvtu8x5AlNpzQU60HkATJZZ7kLkgQNpyajrTvBxAjR4rbqGHGkCsvmRUTO8cQCa6SKW4MyNAQQMiT3Q9HUCEO+aoGw4dQK4eLOpFuh1A4rvduI3hIkDgu+X0xAgeQFaiJafOUCBAyZ1MLdHYF0A/bNCDdwsgQJbkHGepfx1ArwuyxofwGUBJ1JYFa8QWQEEbk6seXhtAxpBN9ov/GUCzXszfGJMfQOKnJSKSlRtAwt/W+mvuGkBK4aOvQQ4gQLBqZS0tWSFABzqBMRLJIUD5yNVxw0odQDW5Hl4vAyBA3jS8bpHiGUDleKR1kRgiQKCRK1EHuB9ACRQGON5GGUD8MUX4gsAdQA1M/3GAlRpA3Cgsv3VYJUBWVsb8ZvsZQHhHa67z8hpAftTMtv6AG0DF5ZYGvi0XQDwQbSxtrB9AF0nJ0cPXHUA63C8hagciQEFnHkok8BtAVKMsQf3JG0DCHU7QsgogQA==\",\"dtype\":\"float64\",\"order\":\"little\",\"shape\":[122]},\"Predicted_Values\":{\"__ndarray__\":\"NZ7O47qvHkC8ob61RssYQIaXrntYhB1AJJnROLKlIEBCFe2hyhkaQOsmYm5OLCFA0PE2EuMNHEBVeAjUuz8dQOlmgd4tYydAaFWJVwkPGEAn6OXsi/8bQO4Gu+w9Hh1ASa5mCYqVHUDDWaAHMkMeQNJPAOztNBxAewdKATIoH0BqcucHLTcgQMLM4LLsXhlAyhpM1fwuGUD8t4sm//EaQKrLS8yKMB5Aesx904E7GUCBchkLndIZQILFA0saCx1AZG/KJ/EvIkDtYvFA4qEZQINnHzRw3BhAVYQ1/IgjHkCkNxUXxw0aQLV7lkKBahpAzGqRZ+4hGkDuF8qE3mIaQCZbayETXSBAdMB0CwZOIEDWY1I3pMsZQFhBm3ZkYhpAQmdgmS0pIkBVlApyu6cfQDpz4oO38hxAFPBTxZFiHUDDap9kkAEbQGeYAEQXjhxA8lHlni//GkCT4gObv2cYQGqJoVZtHRxAn8BANMkIHED0MIutaB8cQIuZx0EtzRlASjlyqpbOHkBib/GFv/cKQCITw3SpxhtAzwejXBcFJ0Dk5JGA7sUxQHX3Zuil6xtAxrL5SxtJG0BIBzl8Rr8ZQNXG436EWBtAUkc9qi8yHUBx37iaNxAZQMKwksH7gCBAILgHxrGw9T+Fn0n/c5AbQFY0wUN6BRtAyvmRh734H0C7c2Mi9tccQIN0njtMdyVAUCFOTJBIHEAUFOEuLA4cQG7SY8bxOiBAtrsCsQQ8HED6wVV6LMUZQJ++VdauIBpAmIjHJypXH0DVpKmG+l8dQDz5qnLI0h5ALHhOQpKMF0C5Az0iC3cbQMzuQvtu8x5AlNpzQU60HkATJZZ7kLkgQNpyajrTvBxAjR4rbqGHGkCsvmRUTO8cQCa6SKW4MyNAQQMiT3Q9HUCEO+aoGw4dQK4eLOpFuh1A4rvduI3hIkDgu+X0xAgeQFaiJafOUCBAyZ1MLdHYF0A/bNCDdwsgQJbkHGepfx1ArwuyxofwGUBJ1JYFa8QWQEEbk6seXhtAxpBN9ov/GUCzXszfGJMfQOKnJSKSlRtAwt/W+mvuGkBK4aOvQQ4gQLBqZS0tWSFABzqBMRLJIUD5yNVxw0odQDW5Hl4vAyBA3jS8bpHiGUDleKR1kRgiQKCRK1EHuB9ACRQGON5GGUD8MUX4gsAdQA1M/3GAlRpA3Cgsv3VYJUBWVsb8ZvsZQHhHa67z8hpAftTMtv6AG0DF5ZYGvi0XQDwQbSxtrB9AF0nJ0cPXHUA63C8hagciQEFnHkok8BtAVKMsQf3JG0DCHU7QsgogQA==\",\"dtype\":\"float64\",\"order\":\"little\",\"shape\":[122]},\"True Values(y test)\":{\"__ndarray__\":\"+QH90pYj5T+OUxbw+H0HQF20j9c9Aug/kaBS3wOcAkATXg+G0T7fPzPwH45W3N4/4ouJLya+EEB1I5qYULf8P0J7Ce0llGlA6SFbVahFCUCEOhNZ+b8/QNkS9Mtqjeo/zGd5yQSD+D8Hcrvw1IDZP3a/E6lVERpAjaw3ETtSUkB+0+y+j7HIP0zub3n4VOM/kdh91sfhBECqIkW6GJ4OQPo/llc8GvQ/rxBPstIR6j+ODBe6m58iQHSn3EnRkA1AwHalMUPX8z+LmNi5RVdDQMTV1WKW5x1AJUsdIbZpAUAOdH2rZWvRPznVibuHvdc/3eEVEAqq8D/7ODvqktz5Pwpx8RSXIgVApVqlWqWaMkA7Dg7rup8MQPuotQrBbPU/iy0LOmUA/T8L4P6E3sEOQL8ngQH84gNAjXJ7MPlcEEAQFsVAc9sSQG4BcZ6yJes/bJOGqIVPBEColD312KPrPxiUlw6NU9I/mpcyHbnMIkBZbXe7xhLUPzw6yB9KbQZAHQm7JMUmLUBPrxaMgMQpQKTJszmwaDVAg2Ovwrz6xT8UuoZ/KTP+P4Znmg1djihAEMIRzf3S0j8cI9n7hwfwPxGKK7nZMAdAJirX4G2yUUCuTbkbmsHqP71WdtjE4PM/tRmYrnOsOkBd2tU+BTsdQDW2spfAFRxA9LiPTBq6AUAoDYPm1DoSQN5Ji73XL09AX/ekaGNsI0Bw9LT2aoIHQNqQSW/hxdo/yix1Z0YuDkAYiWqH5W/lPygOOgIMk80/2FUHjZlhFECjiy666AIcQMDukW/qs/g/ud+TpRPkAUBJATTAj5szQMPTwMhA0Po/q4vshPY8/D+vuefHoqjhP6KT/tkpHNQ/qWdm+8xVAEBM389CtcAgQAx3/eNKCRtA9QFrMD5PC0BPqAWMSZwhQLD3IFGJdf4/t7LdRoVkBECcmS8xxOjLP8wWTP3VjjFATpGieTCyHUDcApHHka3mP0ffHH1z9O8/K/YYkjDfFUB6iKIlLyoxQCW6y7cwwRRAGpwb1sZPDEBfmYQlzQUkQMppW2brXxVAWqAFWqAFHEB2cKfDUgAZQCPcMBduNjRA/qbHyg1zIUBMUxRMyP/wP4QHrZTeAdc/d75E63yrxz+qbhxilxf9P508qthw1QtAm9QoO+M+AUBomc+9v6P5P74RvhcCcTpAq6qqqqoiFkBL7Z12EFHjP6pE4Vnpmfg/Bi/tFiAJ5j+xGeR7mlk0QOKe32hETv4/FeYWoBfaLUBuQp+y7cDUP8JAbcl9XuQ/16lbXzspNUABOsM0ffwWQA==\",\"dtype\":\"float64\",\"order\":\"little\",\"shape\":[122]},\"True_Values_left_parenthesis_y_test_right_parenthesis\":{\"__ndarray__\":\"+QH90pYj5T+OUxbw+H0HQF20j9c9Aug/kaBS3wOcAkATXg+G0T7fPzPwH45W3N4/4ouJLya+EEB1I5qYULf8P0J7Ce0llGlA6SFbVahFCUCEOhNZ+b8/QNkS9Mtqjeo/zGd5yQSD+D8Hcrvw1IDZP3a/E6lVERpAjaw3ETtSUkB+0+y+j7HIP0zub3n4VOM/kdh91sfhBECqIkW6GJ4OQPo/llc8GvQ/rxBPstIR6j+ODBe6m58iQHSn3EnRkA1AwHalMUPX8z+LmNi5RVdDQMTV1WKW5x1AJUsdIbZpAUAOdH2rZWvRPznVibuHvdc/3eEVEAqq8D/7ODvqktz5Pwpx8RSXIgVApVqlWqWaMkA7Dg7rup8MQPuotQrBbPU/iy0LOmUA/T8L4P6E3sEOQL8ngQH84gNAjXJ7MPlcEEAQFsVAc9sSQG4BcZ6yJes/bJOGqIVPBEColD312KPrPxiUlw6NU9I/mpcyHbnMIkBZbXe7xhLUPzw6yB9KbQZAHQm7JMUmLUBPrxaMgMQpQKTJszmwaDVAg2Ovwrz6xT8UuoZ/KTP+P4Znmg1djihAEMIRzf3S0j8cI9n7hwfwPxGKK7nZMAdAJirX4G2yUUCuTbkbmsHqP71WdtjE4PM/tRmYrnOsOkBd2tU+BTsdQDW2spfAFRxA9LiPTBq6AUAoDYPm1DoSQN5Ji73XL09AX/ekaGNsI0Bw9LT2aoIHQNqQSW/hxdo/yix1Z0YuDkAYiWqH5W/lPygOOgIMk80/2FUHjZlhFECjiy666AIcQMDukW/qs/g/ud+TpRPkAUBJATTAj5szQMPTwMhA0Po/q4vshPY8/D+vuefHoqjhP6KT/tkpHNQ/qWdm+8xVAEBM389CtcAgQAx3/eNKCRtA9QFrMD5PC0BPqAWMSZwhQLD3IFGJdf4/t7LdRoVkBECcmS8xxOjLP8wWTP3VjjFATpGieTCyHUDcApHHka3mP0ffHH1z9O8/K/YYkjDfFUB6iKIlLyoxQCW6y7cwwRRAGpwb1sZPDEBfmYQlzQUkQMppW2brXxVAWqAFWqAFHEB2cKfDUgAZQCPcMBduNjRA/qbHyg1zIUBMUxRMyP/wP4QHrZTeAdc/d75E63yrxz+qbhxilxf9P508qthw1QtAm9QoO+M+AUBomc+9v6P5P74RvhcCcTpAq6qqqqoiFkBL7Z12EFHjP6pE4Vnpmfg/Bi/tFiAJ5j+xGeR7mlk0QOKe32hETv4/FeYWoBfaLUBuQp+y7cDUP8JAbcl9XuQ/16lbXzspNUABOsM0ffwWQA==\",\"dtype\":\"float64\",\"order\":\"little\",\"shape\":[122]}},\"selected\":{\"id\":\"1262\"},\"selection_policy\":{\"id\":\"1283\"}},\"id\":\"1261\",\"type\":\"ColumnDataSource\"},{\"attributes\":{\"end\":213.39211171104796,\"reset_end\":213.39211171104796,\"reset_start\":-8.590767684883335,\"start\":-8.590767684883335,\"tags\":[[[\"True Values(y test)\",\"True Values(y test)\",null]]]},\"id\":\"1228\",\"type\":\"Range1d\"},{\"attributes\":{\"fill_alpha\":{\"value\":0.1},\"fill_color\":{\"value\":\"#30a2da\"},\"hatch_alpha\":{\"value\":0.1},\"hatch_color\":{\"value\":\"#30a2da\"},\"line_alpha\":{\"value\":0.1},\"line_color\":{\"value\":\"#30a2da\"},\"size\":{\"value\":5.477225575051661},\"x\":{\"field\":\"True Values(y test)\"},\"y\":{\"field\":\"Predicted Values\"}},\"id\":\"1265\",\"type\":\"Scatter\"},{\"attributes\":{\"coordinates\":null,\"data_source\":{\"id\":\"1261\"},\"glyph\":{\"id\":\"1264\"},\"group\":null,\"hover_glyph\":null,\"muted_glyph\":{\"id\":\"1266\"},\"nonselection_glyph\":{\"id\":\"1265\"},\"selection_glyph\":{\"id\":\"1269\"},\"view\":{\"id\":\"1268\"}},\"id\":\"1267\",\"type\":\"GlyphRenderer\"},{\"attributes\":{\"end\":19.414923726868647,\"reset_end\":19.414923726868647,\"reset_start\":-0.28611493363480855,\"start\":-0.28611493363480855,\"tags\":[[[\"Predicted Values\",\"Predicted Values\",null]]]},\"id\":\"1229\",\"type\":\"Range1d\"},{\"attributes\":{\"source\":{\"id\":\"1261\"}},\"id\":\"1268\",\"type\":\"CDSView\"},{\"attributes\":{\"margin\":[5,5,5,5],\"name\":\"HSpacer01131\",\"sizing_mode\":\"stretch_width\"},\"id\":\"1227\",\"type\":\"Spacer\"},{\"attributes\":{\"axis_label\":\"Predicted Values\",\"coordinates\":null,\"formatter\":{\"id\":\"1274\"},\"group\":null,\"major_label_policy\":{\"id\":\"1275\"},\"ticker\":{\"id\":\"1245\"}},\"id\":\"1244\",\"type\":\"LinearAxis\"},{\"attributes\":{},\"id\":\"1272\",\"type\":\"AllLabels\"},{\"attributes\":{},\"id\":\"1262\",\"type\":\"Selection\"},{\"attributes\":{},\"id\":\"1250\",\"type\":\"WheelZoomTool\"},{\"attributes\":{\"margin\":[5,5,5,5],\"name\":\"HSpacer01132\",\"sizing_mode\":\"stretch_width\"},\"id\":\"1286\",\"type\":\"Spacer\"},{\"attributes\":{\"overlay\":{\"id\":\"1253\"}},\"id\":\"1251\",\"type\":\"BoxZoomTool\"},{\"attributes\":{\"axis\":{\"id\":\"1240\"},\"coordinates\":null,\"grid_line_color\":null,\"group\":null,\"ticker\":null},\"id\":\"1243\",\"type\":\"Grid\"},{\"attributes\":{},\"id\":\"1271\",\"type\":\"BasicTickFormatter\"},{\"attributes\":{},\"id\":\"1238\",\"type\":\"LinearScale\"},{\"attributes\":{},\"id\":\"1283\",\"type\":\"UnionRenderers\"},{\"attributes\":{\"callback\":null,\"renderers\":[{\"id\":\"1267\"}],\"tags\":[\"hv_created\"],\"tooltips\":[[\"True Values(y test)\",\"@{True_Values_left_parenthesis_y_test_right_parenthesis}\"],[\"Predicted Values\",\"@{Predicted_Values}\"]]},\"id\":\"1230\",\"type\":\"HoverTool\"},{\"attributes\":{\"axis\":{\"id\":\"1244\"},\"coordinates\":null,\"dimension\":1,\"grid_line_color\":null,\"group\":null,\"ticker\":null},\"id\":\"1247\",\"type\":\"Grid\"},{\"attributes\":{},\"id\":\"1236\",\"type\":\"LinearScale\"},{\"attributes\":{\"below\":[{\"id\":\"1240\"}],\"center\":[{\"id\":\"1243\"},{\"id\":\"1247\"}],\"height\":300,\"left\":[{\"id\":\"1244\"}],\"margin\":[5,5,5,5],\"min_border_bottom\":10,\"min_border_left\":10,\"min_border_right\":10,\"min_border_top\":10,\"renderers\":[{\"id\":\"1267\"}],\"sizing_mode\":\"fixed\",\"title\":{\"id\":\"1232\"},\"toolbar\":{\"id\":\"1254\"},\"width\":700,\"x_range\":{\"id\":\"1228\"},\"x_scale\":{\"id\":\"1236\"},\"y_range\":{\"id\":\"1229\"},\"y_scale\":{\"id\":\"1238\"}},\"id\":\"1231\",\"subtype\":\"Figure\",\"type\":\"Plot\"},{\"attributes\":{\"axis_label\":\"True Values(y test)\",\"coordinates\":null,\"formatter\":{\"id\":\"1271\"},\"group\":null,\"major_label_policy\":{\"id\":\"1272\"},\"ticker\":{\"id\":\"1241\"}},\"id\":\"1240\",\"type\":\"LinearAxis\"},{\"attributes\":{\"children\":[{\"id\":\"1227\"},{\"id\":\"1231\"},{\"id\":\"1286\"}],\"margin\":[0,0,0,0],\"name\":\"Row01127\",\"tags\":[\"embedded\"]},\"id\":\"1226\",\"type\":\"Row\"},{\"attributes\":{},\"id\":\"1274\",\"type\":\"BasicTickFormatter\"},{\"attributes\":{\"bottom_units\":\"screen\",\"coordinates\":null,\"fill_alpha\":0.5,\"fill_color\":\"lightgrey\",\"group\":null,\"left_units\":\"screen\",\"level\":\"overlay\",\"line_alpha\":1.0,\"line_color\":\"black\",\"line_dash\":[4,4],\"line_width\":2,\"right_units\":\"screen\",\"syncable\":false,\"top_units\":\"screen\"},\"id\":\"1253\",\"type\":\"BoxAnnotation\"},{\"attributes\":{\"tools\":[{\"id\":\"1230\"},{\"id\":\"1248\"},{\"id\":\"1249\"},{\"id\":\"1250\"},{\"id\":\"1251\"},{\"id\":\"1252\"}]},\"id\":\"1254\",\"type\":\"Toolbar\"},{\"attributes\":{},\"id\":\"1252\",\"type\":\"ResetTool\"},{\"attributes\":{},\"id\":\"1245\",\"type\":\"BasicTicker\"}],\"root_ids\":[\"1226\"]},\"title\":\"Bokeh Application\",\"version\":\"2.4.3\"}};\n",
       "    var render_items = [{\"docid\":\"370d85c2-a18b-45f5-8cfc-1f65e27051f6\",\"root_ids\":[\"1226\"],\"roots\":{\"1226\":\"cbc585cf-b5d9-48e3-80b7-5934c5db17a2\"}}];\n",
       "    root.Bokeh.embed.embed_items_notebook(docs_json, render_items);\n",
       "    for (const render_item of render_items) {\n",
       "      for (const root_id of render_item.root_ids) {\n",
       "\tconst id_el = document.getElementById(root_id)\n",
       "\tif (id_el.children.length && (id_el.children[0].className === 'bk-root')) {\n",
       "\t  const root_el = id_el.children[0]\n",
       "\t  root_el.id = root_el.id + '-rendered'\n",
       "\t}\n",
       "      }\n",
       "    }\n",
       "  }\n",
       "  if (root.Bokeh !== undefined && root.Bokeh.Panel !== undefined) {\n",
       "    embed_document(root);\n",
       "  } else {\n",
       "    var attempts = 0;\n",
       "    var timer = setInterval(function(root) {\n",
       "      if (root.Bokeh !== undefined && root.Bokeh.Panel !== undefined) {\n",
       "        clearInterval(timer);\n",
       "        embed_document(root);\n",
       "      } else if (document.readyState == \"complete\") {\n",
       "        attempts++;\n",
       "        if (attempts > 200) {\n",
       "          clearInterval(timer);\n",
       "          console.log(\"Bokeh: ERROR: Unable to run BokehJS code because BokehJS library is missing\");\n",
       "        }\n",
       "      }\n",
       "    }, 25, root)\n",
       "  }\n",
       "})(window);</script>"
      ],
      "text/plain": [
       ":Scatter   [True Values(y test)]   (Predicted Values)"
      ]
     },
     "execution_count": 68,
     "metadata": {
      "application/vnd.holoviews_exec.v0+json": {
       "id": "1226"
      }
     },
     "output_type": "execute_result"
    }
   ],
   "source": [
    "import hvplot.pandas\n",
    "pd.DataFrame({'True Values(y test)': y_test, 'Predicted Values': y_pred}).hvplot.scatter(x='True Values(y test)', y='Predicted Values')"
   ]
  },
  {
   "cell_type": "markdown",
   "id": "700c9adb",
   "metadata": {},
   "source": [
    "### Check the distribution of the error terms"
   ]
  },
  {
   "cell_type": "code",
   "execution_count": 69,
   "id": "610d476a",
   "metadata": {},
   "outputs": [
    {
     "data": {},
     "metadata": {},
     "output_type": "display_data"
    },
    {
     "data": {
      "application/vnd.holoviews_exec.v0+json": "",
      "text/html": [
       "<div id='1338'>\n",
       "  <div class=\"bk-root\" id=\"713a2b37-7667-4fa9-beac-ae6d0cbda52c\" data-root-id=\"1338\"></div>\n",
       "</div>\n",
       "<script type=\"application/javascript\">(function(root) {\n",
       "  function embed_document(root) {\n",
       "    var docs_json = {\"2ef31d9c-535d-4329-aabf-6c5695a633fb\":{\"defs\":[{\"extends\":null,\"module\":null,\"name\":\"ReactiveHTML1\",\"overrides\":[],\"properties\":[]},{\"extends\":null,\"module\":null,\"name\":\"FlexBox1\",\"overrides\":[],\"properties\":[{\"default\":\"flex-start\",\"kind\":null,\"name\":\"align_content\"},{\"default\":\"flex-start\",\"kind\":null,\"name\":\"align_items\"},{\"default\":\"row\",\"kind\":null,\"name\":\"flex_direction\"},{\"default\":\"wrap\",\"kind\":null,\"name\":\"flex_wrap\"},{\"default\":\"flex-start\",\"kind\":null,\"name\":\"justify_content\"}]},{\"extends\":null,\"module\":null,\"name\":\"GridStack1\",\"overrides\":[],\"properties\":[{\"default\":\"warn\",\"kind\":null,\"name\":\"mode\"},{\"default\":null,\"kind\":null,\"name\":\"ncols\"},{\"default\":null,\"kind\":null,\"name\":\"nrows\"},{\"default\":true,\"kind\":null,\"name\":\"allow_resize\"},{\"default\":true,\"kind\":null,\"name\":\"allow_drag\"},{\"default\":[],\"kind\":null,\"name\":\"state\"}]},{\"extends\":null,\"module\":null,\"name\":\"click1\",\"overrides\":[],\"properties\":[{\"default\":\"\",\"kind\":null,\"name\":\"terminal_output\"},{\"default\":\"\",\"kind\":null,\"name\":\"debug_name\"},{\"default\":0,\"kind\":null,\"name\":\"clears\"}]},{\"extends\":null,\"module\":null,\"name\":\"NotificationAreaBase1\",\"overrides\":[],\"properties\":[{\"default\":\"bottom-right\",\"kind\":null,\"name\":\"position\"},{\"default\":0,\"kind\":null,\"name\":\"_clear\"}]},{\"extends\":null,\"module\":null,\"name\":\"NotificationArea1\",\"overrides\":[],\"properties\":[{\"default\":[],\"kind\":null,\"name\":\"notifications\"},{\"default\":\"bottom-right\",\"kind\":null,\"name\":\"position\"},{\"default\":0,\"kind\":null,\"name\":\"_clear\"},{\"default\":[{\"background\":\"#ffc107\",\"icon\":{\"className\":\"fas fa-exclamation-triangle\",\"color\":\"white\",\"tagName\":\"i\"},\"type\":\"warning\"},{\"background\":\"#007bff\",\"icon\":{\"className\":\"fas fa-info-circle\",\"color\":\"white\",\"tagName\":\"i\"},\"type\":\"info\"}],\"kind\":null,\"name\":\"types\"}]},{\"extends\":null,\"module\":null,\"name\":\"Notification\",\"overrides\":[],\"properties\":[{\"default\":null,\"kind\":null,\"name\":\"background\"},{\"default\":3000,\"kind\":null,\"name\":\"duration\"},{\"default\":null,\"kind\":null,\"name\":\"icon\"},{\"default\":\"\",\"kind\":null,\"name\":\"message\"},{\"default\":null,\"kind\":null,\"name\":\"notification_type\"},{\"default\":false,\"kind\":null,\"name\":\"_destroyed\"}]},{\"extends\":null,\"module\":null,\"name\":\"TemplateActions1\",\"overrides\":[],\"properties\":[{\"default\":0,\"kind\":null,\"name\":\"open_modal\"},{\"default\":0,\"kind\":null,\"name\":\"close_modal\"}]},{\"extends\":null,\"module\":null,\"name\":\"MaterialTemplateActions1\",\"overrides\":[],\"properties\":[{\"default\":0,\"kind\":null,\"name\":\"open_modal\"},{\"default\":0,\"kind\":null,\"name\":\"close_modal\"}]}],\"roots\":{\"references\":[{\"attributes\":{\"fill_alpha\":0.5,\"fill_color\":\"#30a2da\",\"hatch_color\":\"#30a2da\",\"x\":{\"field\":\"x\"},\"y\":{\"field\":\"y\"}},\"id\":\"1376\",\"type\":\"Patch\"},{\"attributes\":{\"axis_label\":\"Density\",\"coordinates\":null,\"formatter\":{\"id\":\"1386\"},\"group\":null,\"major_label_policy\":{\"id\":\"1387\"},\"ticker\":{\"id\":\"1357\"}},\"id\":\"1356\",\"type\":\"LinearAxis\"},{\"attributes\":{\"fill_alpha\":0.2,\"fill_color\":\"#30a2da\",\"hatch_alpha\":0.2,\"hatch_color\":\"#30a2da\",\"line_alpha\":0.2,\"x\":{\"field\":\"x\"},\"y\":{\"field\":\"y\"}},\"id\":\"1378\",\"type\":\"Patch\"},{\"attributes\":{},\"id\":\"1360\",\"type\":\"SaveTool\"},{\"attributes\":{},\"id\":\"1350\",\"type\":\"LinearScale\"},{\"attributes\":{\"end\":0.04325702212102655,\"reset_end\":0.04325702212102655,\"reset_start\":0.0,\"tags\":[[[\"Error Values_density\",\"Density\",null]]]},\"id\":\"1341\",\"type\":\"Range1d\"},{\"attributes\":{},\"id\":\"1362\",\"type\":\"WheelZoomTool\"},{\"attributes\":{},\"id\":\"1357\",\"type\":\"BasicTicker\"},{\"attributes\":{},\"id\":\"1348\",\"type\":\"LinearScale\"},{\"attributes\":{\"data\":{\"x\":{\"__ndarray__\":\"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\",\"dtype\":\"float64\",\"order\":\"little\",\"shape\":[200]},\"y\":{\"__ndarray__\":\"AAAAAAAAAAAAAAAAAAAAAAAAAAAAAAAAAAAAAAAAAAAAAAAAAAAAAAAAAAAAAAAAAAAAAAAAAAAAAAAAAAAAAAAAAAAAAAAAAAAAAAAAAAAAAAAAAAAAAAAAAAAAAAAAAAAAAAAAAAAAAAAAAAAAAAAAAAAAAAAAAAAAAAAAAAAAAAAAAAAAAAAAAAAAAAAAAAAAAAAAAAAAAAAAAAAAAAAAAAAAAAAAAAAAAAAAAAAAAAAAAAAAAAAAAAAAAAAAAAAAAAAAAAAAAAAAAAAAAAAAAAAAAAAAAAAAAAAAAAAAAAAAAAAAAAAAAAAAAAAAAAAAAAAAAAAAAAAAAAAAAAAAAAAAAAAAAAAAAAAAAAAAAAAAAAAAAAAAAAAAAAAAAAAAAAAAAAAAAAAAAAAAAAAAAAAAAAAAAAAAAAAAAAAAAAAAAAAAAAAAAAAAAAAAAAAAAAAAAAAAAAAAAAAAAAAAAAAAAAAAAAAAAAAAAAAAAAAAAAAAAAAAAAAAAAAAAAAAAAAAAAAAAAAAAAAAAAAAAAAAAAAAAAAAAAAAAAAAAAAAAAAAAAAAAAAAAAAAAAAAAAAAAAAAAAAAAAAAAAAAAAAAAAAAAAAAAAAAAAAAAAAAAAAAAAAAAAAAAAAAAAAAAAAAAAAAAAAAAAAAAAAAAAAAAAAAAAAAAAAAAAAAAAAAAAAAAAAAAAAAAAAAAAAAAAAAAAAAAAAAAAAAAAAAAAAAAAAAAAAAAAAAAAAAAAAAAAAAAAAAAAAAAAAAAAAAAAAAAAAAAAAAAAAAAAAAAAAAAAAAAAAAAAAAAAAAAAAAAAAAAAAAAAAAAAAAAAAAAAAAAAAAAAAAAAAAAAAAAAAAAAAAAAAAAAAAAAAAAAAAAAAAAAAAAAAAAAAAAAAAAAAAAAAAAAAAAAAAAAAAAAAAAAAAAAAAAAAAAAAAAAAAAAAAAAAAAAAAAAAAAAAAAAAAAAAAAAAAAAAAAAAAAAAAAAAAAAAAAAAAAAAAAAAAAAAAAAAAAAAAAAAAAAAAAAAAAAAAAAAAAAAAAAAAAAAAAAAAAAAAAAAAAAAshO68uqLSPgu7Wt2lCOc+NK1MBtG4+T7dIgnijPMJP8hN+67Ypxc/9cQ511J7Iz/QF6+zyP0sP4cYWYlFfTM/QBIiAJSsNz9zjJeUVvs5P0GtM00cwzk/Ip/ARiwUNz+69B7D660yPz51weiUUSs/aMw5I3UMIj/nOufq7IsVP8BVyM1aPQc/QvV7Y3ul9j7V9jM4MfDjPvWtN/kfuM8+1yWE4ZzLtj4x9WqCEJqdPiyhV6x5XYE+comBBTpoYj6kxL0Y3aBBPo5kKj2OgR4+kmjXNwrZ9z1M3kGd5tfQPbK5CSP4fqU92M32WSzJeD0q4PhNGdJJPf/ZnCxwTRg9TfuWivWq5DyMtwxnMBuwPL8L62lNB5E8PqITnihpwDyNYIqMXwD1PJsiQFozYSg9aLtB1jeXWT3KX6pBJEqIPYTTelsT2bQ9t0DUTpMu4D0wcAwd17cGPty1asZ+2Cw+Rqk2gjaQUD6mJIIBgDRxPiMv/mmBKpA+lVQHmWN7qz5eMV6RHSLFPtP5h9N0aN0+oxxEEyaE8j42UaYb1BoFPxX389zaxxU//FVEnxZdJD9i31n5LUMxP5DH9EuJkjo/zVh7EtibQj8q1TVdbctHP2LAa/gh60s/NuBlkG9HTj9BPHFu46dOP0W1WAqPUk0/t/MoQJzWSj+C9Qf5ccxHP76HZPZruUQ/FlgAXKwdQj9pY0U1hotAP8xulsi0pEA/tDLJGNX3Qj+RkJutHNlHPwHX6/9JWU8/gxmoMrm1VD+FYTKKHhdbP09r7CKVjmE/e3WNVPG2Zj8Ulhy8cI5tP5ewpJeBcnM/ubXmZYn2eT9uk6QAt5SBP18BrGHkBIg/UNDrRAVZkD+6S2OaN8qVP8rYXPH065s/SegkCursoD88SBiKfC2jP8n3DnZZIqQ/7tVq1S55oz/I5vZpM0mhP29oL+DRGZw/zHmG55DjlD8f+lgbuWOMPzKnqGIOpIE/GccuOVsRdD/m3Zodu+5kP8RvVVHvEVQ/EaMIjh6+QT/qXaN6mwYtP2UntjWnCxY/Ak8J9isw/z4yNtFypZXkPg==\",\"dtype\":\"float64\",\"order\":\"little\",\"shape\":[200]}},\"selected\":{\"id\":\"1374\"},\"selection_policy\":{\"id\":\"1395\"}},\"id\":\"1373\",\"type\":\"ColumnDataSource\"},{\"attributes\":{\"end\":217.4638788398474,\"reset_end\":217.4638788398474,\"reset_start\":-40.4136382967173,\"start\":-40.4136382967173,\"tags\":[[[\"Error Values\",\"Error Values\",null]]]},\"id\":\"1340\",\"type\":\"Range1d\"},{\"attributes\":{},\"id\":\"1361\",\"type\":\"PanTool\"},{\"attributes\":{},\"id\":\"1374\",\"type\":\"Selection\"},{\"attributes\":{\"tools\":[{\"id\":\"1342\"},{\"id\":\"1360\"},{\"id\":\"1361\"},{\"id\":\"1362\"},{\"id\":\"1363\"},{\"id\":\"1364\"}]},\"id\":\"1366\",\"type\":\"Toolbar\"},{\"attributes\":{\"axis\":{\"id\":\"1352\"},\"coordinates\":null,\"grid_line_color\":null,\"group\":null,\"ticker\":null},\"id\":\"1355\",\"type\":\"Grid\"},{\"attributes\":{\"overlay\":{\"id\":\"1365\"}},\"id\":\"1363\",\"type\":\"BoxZoomTool\"},{\"attributes\":{},\"id\":\"1395\",\"type\":\"UnionRenderers\"},{\"attributes\":{\"callback\":null,\"renderers\":[{\"id\":\"1379\"}],\"tags\":[\"hv_created\"],\"tooltips\":[[\"Error Values\",\"@{Error_Values}\"],[\"Density\",\"@{Error_Values_density}\"]]},\"id\":\"1342\",\"type\":\"HoverTool\"},{\"attributes\":{},\"id\":\"1383\",\"type\":\"BasicTickFormatter\"},{\"attributes\":{\"margin\":[5,5,5,5],\"name\":\"HSpacer01257\",\"sizing_mode\":\"stretch_width\"},\"id\":\"1398\",\"type\":\"Spacer\"},{\"attributes\":{\"coordinates\":null,\"group\":null,\"text_color\":\"black\",\"text_font_size\":\"12pt\"},\"id\":\"1344\",\"type\":\"Title\"},{\"attributes\":{\"fill_alpha\":0.5,\"fill_color\":\"#30a2da\",\"hatch_alpha\":0.1,\"hatch_color\":\"#30a2da\",\"line_alpha\":1,\"x\":{\"field\":\"x\"},\"y\":{\"field\":\"y\"}},\"id\":\"1377\",\"type\":\"Patch\"},{\"attributes\":{},\"id\":\"1386\",\"type\":\"BasicTickFormatter\"},{\"attributes\":{\"axis_label\":\"Error Values\",\"coordinates\":null,\"formatter\":{\"id\":\"1383\"},\"group\":null,\"major_label_policy\":{\"id\":\"1384\"},\"ticker\":{\"id\":\"1353\"}},\"id\":\"1352\",\"type\":\"LinearAxis\"},{\"attributes\":{\"coordinates\":null,\"data_source\":{\"id\":\"1373\"},\"glyph\":{\"id\":\"1376\"},\"group\":null,\"hover_glyph\":null,\"muted_glyph\":{\"id\":\"1378\"},\"nonselection_glyph\":{\"id\":\"1377\"},\"selection_glyph\":{\"id\":\"1381\"},\"view\":{\"id\":\"1380\"}},\"id\":\"1379\",\"type\":\"GlyphRenderer\"},{\"attributes\":{\"axis\":{\"id\":\"1356\"},\"coordinates\":null,\"dimension\":1,\"grid_line_color\":null,\"group\":null,\"ticker\":null},\"id\":\"1359\",\"type\":\"Grid\"},{\"attributes\":{\"children\":[{\"id\":\"1339\"},{\"id\":\"1343\"},{\"id\":\"1398\"}],\"margin\":[0,0,0,0],\"name\":\"Row01252\",\"tags\":[\"embedded\"]},\"id\":\"1338\",\"type\":\"Row\"},{\"attributes\":{\"bottom_units\":\"screen\",\"coordinates\":null,\"fill_alpha\":0.5,\"fill_color\":\"lightgrey\",\"group\":null,\"left_units\":\"screen\",\"level\":\"overlay\",\"line_alpha\":1.0,\"line_color\":\"black\",\"line_dash\":[4,4],\"line_width\":2,\"right_units\":\"screen\",\"syncable\":false,\"top_units\":\"screen\"},\"id\":\"1365\",\"type\":\"BoxAnnotation\"},{\"attributes\":{\"margin\":[5,5,5,5],\"name\":\"HSpacer01256\",\"sizing_mode\":\"stretch_width\"},\"id\":\"1339\",\"type\":\"Spacer\"},{\"attributes\":{\"source\":{\"id\":\"1373\"}},\"id\":\"1380\",\"type\":\"CDSView\"},{\"attributes\":{},\"id\":\"1364\",\"type\":\"ResetTool\"},{\"attributes\":{\"fill_alpha\":0.5,\"fill_color\":\"#30a2da\",\"hatch_color\":\"#30a2da\",\"x\":{\"field\":\"x\"},\"y\":{\"field\":\"y\"}},\"id\":\"1381\",\"type\":\"Patch\"},{\"attributes\":{},\"id\":\"1387\",\"type\":\"AllLabels\"},{\"attributes\":{},\"id\":\"1384\",\"type\":\"AllLabels\"},{\"attributes\":{},\"id\":\"1353\",\"type\":\"BasicTicker\"},{\"attributes\":{\"below\":[{\"id\":\"1352\"}],\"center\":[{\"id\":\"1355\"},{\"id\":\"1359\"}],\"height\":300,\"left\":[{\"id\":\"1356\"}],\"margin\":[5,5,5,5],\"min_border_bottom\":10,\"min_border_left\":10,\"min_border_right\":10,\"min_border_top\":10,\"renderers\":[{\"id\":\"1379\"}],\"sizing_mode\":\"fixed\",\"title\":{\"id\":\"1344\"},\"toolbar\":{\"id\":\"1366\"},\"width\":700,\"x_range\":{\"id\":\"1340\"},\"x_scale\":{\"id\":\"1348\"},\"y_range\":{\"id\":\"1341\"},\"y_scale\":{\"id\":\"1350\"}},\"id\":\"1343\",\"subtype\":\"Figure\",\"type\":\"Plot\"}],\"root_ids\":[\"1338\"]},\"title\":\"Bokeh Application\",\"version\":\"2.4.3\"}};\n",
       "    var render_items = [{\"docid\":\"2ef31d9c-535d-4329-aabf-6c5695a633fb\",\"root_ids\":[\"1338\"],\"roots\":{\"1338\":\"713a2b37-7667-4fa9-beac-ae6d0cbda52c\"}}];\n",
       "    root.Bokeh.embed.embed_items_notebook(docs_json, render_items);\n",
       "    for (const render_item of render_items) {\n",
       "      for (const root_id of render_item.root_ids) {\n",
       "\tconst id_el = document.getElementById(root_id)\n",
       "\tif (id_el.children.length && (id_el.children[0].className === 'bk-root')) {\n",
       "\t  const root_el = id_el.children[0]\n",
       "\t  root_el.id = root_el.id + '-rendered'\n",
       "\t}\n",
       "      }\n",
       "    }\n",
       "  }\n",
       "  if (root.Bokeh !== undefined && root.Bokeh.Panel !== undefined) {\n",
       "    embed_document(root);\n",
       "  } else {\n",
       "    var attempts = 0;\n",
       "    var timer = setInterval(function(root) {\n",
       "      if (root.Bokeh !== undefined && root.Bokeh.Panel !== undefined) {\n",
       "        clearInterval(timer);\n",
       "        embed_document(root);\n",
       "      } else if (document.readyState == \"complete\") {\n",
       "        attempts++;\n",
       "        if (attempts > 200) {\n",
       "          clearInterval(timer);\n",
       "          console.log(\"Bokeh: ERROR: Unable to run BokehJS code because BokehJS library is missing\");\n",
       "        }\n",
       "      }\n",
       "    }, 25, root)\n",
       "  }\n",
       "})(window);</script>"
      ],
      "text/plain": [
       ":Distribution   [Error Values]   (Density)"
      ]
     },
     "execution_count": 69,
     "metadata": {
      "application/vnd.holoviews_exec.v0+json": {
       "id": "1338"
      }
     },
     "output_type": "execute_result"
    }
   ],
   "source": [
    "pd.DataFrame({'Error Values': (y_test - y_pred)}).hvplot.kde()"
   ]
  },
  {
   "cell_type": "markdown",
   "id": "d5322577",
   "metadata": {},
   "source": [
    "Check the distribution of the error terms\n",
    "In linear regression we assume that the error term follows normal distribution. So we have to check this assumption before we can use the model for making predictions. We check this by looking at the histogram of the error term visually, making sure that the error terms are normally distributed around zero and that the left and right side are broadly similar."
   ]
  },
  {
   "cell_type": "markdown",
   "id": "48c84b55",
   "metadata": {},
   "source": [
    "# Comparing machine learning models"
   ]
  },
  {
   "cell_type": "markdown",
   "id": "db9d1098",
   "metadata": {},
   "source": [
    "https://akhilendra.com/evaluation-metrics-regression-mae-mse-rmse-rmsle/"
   ]
  },
  {
   "cell_type": "markdown",
   "id": "e4551d02",
   "metadata": {},
   "source": [
    "## Stochastic Gradient Descent\n",
    "Gradient Descent is a very generic optimization algorithm capable of finding optimal solutions to a wide range of problems. The general idea of Gradient Sescent is to tweak parameters iteratively in order to minimize a cost function. Gradient Descent measures the local gradient of the error function with regards to the parameters vector, and it goes in the direction of descending gradient. Once the gradient is zero, you have reached a minimum."
   ]
  },
  {
   "cell_type": "code",
   "execution_count": 70,
   "id": "d99814bf",
   "metadata": {},
   "outputs": [],
   "source": [
    "from sklearn.tree import DecisionTreeRegressor\n",
    "from sklearn.ensemble import RandomForestRegressor\n",
    "from sklearn.svm import SVR\n",
    "from sklearn.linear_model import RANSACRegressor\n",
    "from sklearn.linear_model import SGDRegressor\n",
    "from sklearn.ensemble import AdaBoostRegressor\n",
    "from sklearn.linear_model import LinearRegression\n",
    "\n",
    "from sklearn import metrics\n",
    "from sklearn.metrics import mean_squared_error\n",
    "from sklearn.metrics import mean_absolute_error\n",
    "from sklearn.metrics import r2_score\n",
    "from sklearn.metrics import mean_squared_error\n",
    "from sklearn.model_selection import cross_val_score"
   ]
  },
  {
   "cell_type": "code",
   "execution_count": 87,
   "id": "1352e426",
   "metadata": {},
   "outputs": [
    {
     "name": "stdout",
     "output_type": "stream",
     "text": [
      "[LibSVM]*\n",
      "optimization finished, #iter = 62\n",
      "obj = -358.851887, rho = -2.563365\n",
      "nSV = 78, nBSV = 72\n",
      "\n",
      "  --- Decision Tree on training data ---\n",
      "           R2 Score: 1.0\n",
      " Mean Squared Error: 0.0\n",
      "Mean Absolute Error: 0.0\n",
      "Root Mean Square Error: 0.0\n",
      "\n",
      "  --- Random Forest on training data ---\n",
      "           R2 Score: 0.844\n",
      " Mean Squared Error: 20.0\n",
      "Mean Absolute Error: 2.42\n",
      "Root Mean Square Error: 4.47\n",
      "\n",
      "  --- Support Vector Regression on training data ---\n",
      "           R2 Score: -0.0949\n",
      " Mean Squared Error: 1.4e+02\n",
      "Mean Absolute Error: 4.52\n",
      "Root Mean Square Error: 11.8\n",
      "\n",
      "  --- Random Sample Consensus on training data ---\n",
      "           R2 Score: -1.44\n",
      " Mean Squared Error: 3.13e+02\n",
      "Mean Absolute Error: 13.2\n",
      "Root Mean Square Error: 17.7\n",
      "\n",
      "  --- Stochastic Gradient Descent on training data ---\n",
      "           R2 Score: -1.52e+24\n",
      " Mean Squared Error: 1.94e+26\n",
      "Mean Absolute Error: 1.2e+13\n",
      "Root Mean Square Error: 1.39e+13\n",
      "\n",
      "  --- Adaboost on training data ---\n",
      "           R2 Score: 0.874\n",
      " Mean Squared Error: 16.2\n",
      "Mean Absolute Error: 3.57\n",
      "Root Mean Square Error: 4.02\n",
      "\n",
      "  --- Linear on training data ---\n",
      "           R2 Score: 0.00213\n",
      " Mean Squared Error: 1.28e+02\n",
      "Mean Absolute Error: 5.9\n",
      "Root Mean Square Error: 11.3\n"
     ]
    }
   ],
   "source": [
    "decision_tree = DecisionTreeRegressor()\n",
    "random_forest = RandomForestRegressor(n_estimators=500, oob_score=True, random_state=100)\n",
    "svr = SVR(verbose=True, kernel='rbf', C=1)  \n",
    "ransacr = RANSACRegressor(min_samples=78, max_trials=1,random_state=42)\n",
    "sgd = SGDRegressor(n_iter_no_change=250, tol=1e-100, eta0=0.00003, max_iter=100000,random_state=42)\n",
    "adaboost = AdaBoostRegressor(random_state=100)\n",
    "linear = LinearRegression()\n",
    "\n",
    "decision_tree.fit(X_train,y_train)\n",
    "random_forest.fit(X_train,y_train)\n",
    "svr.fit(X_train,y_train)\n",
    "ransacr.fit(X_train,y_train)\n",
    "sgd.fit(X_train,y_train)\n",
    "adaboost.fit(X_train,y_train)\n",
    "linear.fit(X_train,y_train);\n",
    "\n",
    "#  train dataset \n",
    "decision_tree_preds = decision_tree.predict(X_train)\n",
    "random_forest_preds = random_forest.predict(X_train)\n",
    "svr_preds = svr.predict(X_train)\n",
    "ransacr_preds = ransacr.predict(X_train)\n",
    "sgd_preds = sgd.predict(X_train)\n",
    "adaboost_preds = adaboost.predict(X_train)\n",
    "linear_preds = linear.predict(X_train)\n",
    "\n",
    "results_df = pd.DataFrame([])\n",
    "\n",
    "for label, preds in [('Decision Tree', decision_tree_preds),\n",
    "                     ('Random Forest', random_forest_preds),\n",
    "                     ('Support Vector Regression',svr_preds),\n",
    "                     ('Random Sample Consensus',ransacr_preds),\n",
    "                     ('Stochastic Gradient Descent',sgd_preds),\n",
    "                     ('Adaboost',      adaboost_preds),\n",
    "                     ('Linear',        linear_preds)]:\n",
    "    \n",
    "    r2 = r2_score(y_train, preds)\n",
    "    mse = mean_squared_error(y_train, preds)\n",
    "    mae = mean_absolute_error(y_train, preds)\n",
    "    rmse = np.sqrt(metrics.mean_squared_error(y_train, preds))\n",
    "    \n",
    "    results_df_2 = pd.DataFrame(data=[[label, r2, mse, mae, rmse]],\n",
    "                          columns=['Model', 'R2 Square', 'MSE', 'MAE', 'RMSE'])\n",
    "    results_df = results_df.append(results_df_2, ignore_index=True)\n",
    "\n",
    "    print('\\n  --- {} on training data ---'.format(label))\n",
    "    print('           R2 Score: {:.3}'.format(r2))\n",
    "    print(' Mean Squared Error: {:.3}'.format(mse))\n",
    "    print('Mean Absolute Error: {:.3}'.format(mae))\n",
    "    print('Root Mean Square Error: {:.3}'.format(rmse))"
   ]
  },
  {
   "cell_type": "code",
   "execution_count": 89,
   "id": "1101731d",
   "metadata": {},
   "outputs": [
    {
     "name": "stdout",
     "output_type": "stream",
     "text": [
      "\n",
      "  --- Decision Tree on training data ---\n",
      "           R2 Score: -0.216\n",
      " Mean Squared Error: 4.7e+02\n",
      "Mean Absolute Error: 9.46\n",
      "Root Mean Square Error: 21.7\n",
      "\n",
      "  --- Random Forest on training data ---\n",
      "           R2 Score: -0.0825\n",
      " Mean Squared Error: 4.19e+02\n",
      "Mean Absolute Error: 8.71\n",
      "Root Mean Square Error: 20.5\n",
      "\n",
      "  --- Support Vector Regression on training data ---\n",
      "           R2 Score: -0.0946\n",
      " Mean Squared Error: 4.23e+02\n",
      "Mean Absolute Error: 7.25\n",
      "Root Mean Square Error: 20.6\n",
      "\n",
      "  --- Random Sample Consensus on training data ---\n",
      "           R2 Score: -2.36\n",
      " Mean Squared Error: 1.3e+03\n",
      "Mean Absolute Error: 19.0\n",
      "Root Mean Square Error: 36.1\n",
      "\n",
      "  --- Stochastic Gradient Descent on training data ---\n",
      "           R2 Score: -1.32e+24\n",
      " Mean Squared Error: 5.12e+26\n",
      "Mean Absolute Error: 1.61e+13\n",
      "Root Mean Square Error: 2.26e+13\n",
      "\n",
      "  --- Adaboost on training data ---\n",
      "           R2 Score: -0.0533\n",
      " Mean Squared Error: 4.07e+02\n",
      "Mean Absolute Error: 8.83\n",
      "Root Mean Square Error: 20.2\n",
      "\n",
      "  --- Linear on training data ---\n",
      "           R2 Score: -0.0079\n",
      " Mean Squared Error: 3.9e+02\n",
      "Mean Absolute Error: 8.05\n",
      "Root Mean Square Error: 19.7\n"
     ]
    }
   ],
   "source": [
    "#  testing dataset \n",
    "decision_tree_preds = decision_tree.predict(X_test)\n",
    "random_forest_preds = random_forest.predict(X_test)\n",
    "svr_preds = svr.predict(X_test)\n",
    "ransacr_preds = ransacr.predict(X_test)\n",
    "sgd_preds = sgd.predict(X_test)\n",
    "adaboost_preds = adaboost.predict(X_test)\n",
    "linear_preds = linear.predict(X_test)\n",
    "\n",
    "results_df = pd.DataFrame([])\n",
    "\n",
    "for label, preds in [('Decision Tree', decision_tree_preds),\n",
    "                     ('Random Forest', random_forest_preds),\n",
    "                     ('Support Vector Regression',svr_preds),\n",
    "                     ('Random Sample Consensus',ransacr_preds),\n",
    "                     ('Stochastic Gradient Descent',sgd_preds),\n",
    "                     ('Adaboost',      adaboost_preds),\n",
    "                     ('Linear',        linear_preds)]:\n",
    "    \n",
    "    r2 = r2_score(y_test, preds)\n",
    "    mse = mean_squared_error(y_test, preds)\n",
    "    mae = mean_absolute_error(y_test, preds)\n",
    "    rmse = np.sqrt(metrics.mean_squared_error(y_test, preds))\n",
    "    \n",
    "    results_df_2 = pd.DataFrame(data=[[label, r2, mse, mae, rmse]],\n",
    "                          columns=['Model', 'R2 Square', 'MSE', 'MAE', 'RMSE'])\n",
    "    results_df = results_df.append(results_df_2, ignore_index=True)\n",
    "\n",
    "    print('\\n  --- {} on training data ---'.format(label))\n",
    "    print('           R2 Score: {:.3}'.format(r2))\n",
    "    print(' Mean Squared Error: {:.3}'.format(mse))\n",
    "    print('Mean Absolute Error: {:.3}'.format(mae))\n",
    "    print('Root Mean Square Error: {:.3}'.format(rmse))"
   ]
  },
  {
   "cell_type": "raw",
   "id": "0ee01c45",
   "metadata": {},
   "source": [
    "## --- Random Forest ---\n",
    "Decision Trees are useful, but the problem is that they often tend to overfit the training data leading to high variances in the test data. Random Forest algorithms overcome this shortcoming by reducing the variance of the decision trees. \n",
    "\n",
    "The above output shows that the RMSE and R-squared values on the training data is 14.5 and -1.15e+02, respectively. For the test data, the result for these metrics is 1.66 and -0.313, respectively. The performance of the random forest model is far inferior to the decision tree models built earlier. We will adjust the parameter to improve the performance"
   ]
  },
  {
   "cell_type": "raw",
   "id": "23e3925a",
   "metadata": {},
   "source": [
    "model_rf = RandomForestRegressor(n_estimators=500, oob_score=True, random_state=100)\n",
    "\n",
    "# test data\n",
    "model_rf.fit(X_train, y_train) \n",
    "\n",
    "# Predict on training data\n",
    "pred_train_rf= model_rf.predict(X_train)\n",
    "\n",
    "r2 = r2_score(y_train,pred_train_rf)\n",
    "mse = mean_squared_error(y_train,pred_train_rf)\n",
    "mae = mean_absolute_error(y_train,pred_train_rf)\n",
    "rmse = np.sqrt(metrics.mean_squared_error(y_train,pred_train_rf))\n",
    "\n",
    "# Print evaluation values for regression tree 'dtree1' on training data\n",
    "print('\\n  --- {} ---'.format(\"Decision Tree on training data\"))\n",
    "print('           R2 Score: {:.3}'.format(r2))\n",
    "print(' Mean Squared Error: {:.3}'.format(mse))\n",
    "print('Mean Absolute Error: {:.3}'.format(mae))\n",
    "print('Root Mean Square Error: {:.3}'.format(rmse))\n",
    "\n",
    "# Predict on testing data\n",
    "pred_test_rf = model_rf.predict(X_test)\n",
    "\n",
    "r2 = r2_score(y_test,pred_test_rf)\n",
    "mse = mean_squared_error(y_test,pred_test_rf)\n",
    "mae = mean_absolute_error(y_test,pred_test_rf)\n",
    "rmse = np.sqrt(metrics.mean_squared_error(y_test,pred_test_rf))\n",
    "\n",
    "# Print evaluation values for regression tree 'dtree1' on testing data\n",
    "print('\\n  --- {} ---'.format(\"Decision Tree on testing data\"))\n",
    "print('           R2 Score: {:.3}'.format(r2))\n",
    "print(' Mean Squared Error: {:.3}'.format(mse))\n",
    "print('Mean Absolute Error: {:.3}'.format(mae))\n",
    "print('Root Mean Square Error: {:.3}'.format(rmse))\n"
   ]
  },
  {
   "cell_type": "raw",
   "id": "b952886a",
   "metadata": {},
   "source": [
    "## --- Support Vector Regression ---\n",
    "It supports linear and non-linear regression. \n",
    "\n",
    "Unlike in the Ordinary Least Squares, the SVR model sets a threshold error allowance ϵ around the regression line such that all the data points within ϵ are not penalized for their error. -> It makes our model more robust to outliers"
   ]
  },
  {
   "cell_type": "raw",
   "id": "5acef2c4",
   "metadata": {},
   "source": [
    "model_SVR = SVR(verbose=True, kernel='rbf', C=1)      \n",
    "\n",
    "# test data\n",
    "model_SVR.fit(X_train, y_train) \n",
    "\n",
    "# Predict on training data\n",
    "pred_train_SVR= model_SVR.predict(X_train)\n",
    "\n",
    "r2 = r2_score(y_train,pred_train_SVR)\n",
    "mse = mean_squared_error(y_train,pred_train_SVR)\n",
    "mae = mean_absolute_error(y_train,pred_train_SVR)\n",
    "rmse = np.sqrt(metrics.mean_squared_error(y_train,pred_train_SVR))\n",
    "\n",
    "# Print evaluation values on training data\n",
    "print('\\n  --- {} ---'.format(\"Support Vector Regression on training data\"))\n",
    "print('           R2 Score: {:.3}'.format(r2))\n",
    "print(' Mean Squared Error: {:.3}'.format(mse))\n",
    "print('Mean Absolute Error: {:.3}'.format(mae))\n",
    "print('Root Mean Square Error: {:.3}'.format(rmse))\n",
    "\n",
    "# Predict on testing data\n",
    "pred_test_SVR = model_SVR.predict(X_test)\n",
    "\n",
    "r2 = r2_score(y_test,pred_test_SVR)\n",
    "mse = mean_squared_error(y_test,pred_test_SVR)\n",
    "mae = mean_absolute_error(y_test,pred_test_SVR)\n",
    "rmse = np.sqrt(metrics.mean_squared_error(y_test,pred_test_SVR))\n",
    "\n",
    "# Print evaluation values on testing data\n",
    "print('\\n  --- {} ---'.format(\"Support Vector Regression on testing data\"))\n",
    "print('           R2 Score: {:.3}'.format(r2))\n",
    "print(' Mean Squared Error: {:.3}'.format(mse))\n",
    "print('Mean Absolute Error: {:.3}'.format(mae))\n",
    "print('Root Mean Square Error: {:.3}'.format(rmse))\n"
   ]
  },
  {
   "cell_type": "markdown",
   "id": "730acc87",
   "metadata": {},
   "source": [
    "--- Support Vector Regression on training data ---\n",
    "           R2 Score: 0.0405\n",
    " Mean Squared Error: 1.75\n",
    "Mean Absolute Error: 1.04\n",
    "Root Mean Square Error: 1.32\n",
    "\n",
    "\n",
    "  --- Support Vector Regression on testing data ---\n",
    "           R2 Score: -0.00353\n",
    " Mean Squared Error: 2.11\n",
    "Mean Absolute Error: 1.16\n",
    "Root Mean Square Error: 1.45"
   ]
  },
  {
   "cell_type": "markdown",
   "id": "442a0fab",
   "metadata": {},
   "source": [
    "## Random Sample Consensus(RANSAC) Regression\n",
    "Random sample consensus (RANSAC) is an iterative method to estimate parameters of a mathematical model from a set of observed data that contains outliers, when outliers are to be accorded no influence on the values of the estimates. Therefore, it also can be interpreted as an outlier detection method.\n",
    "\n",
    "A basic assumption is that the data consists of \"inliers\", i.e., data whose distribution can be explained by some set of model parameters, though may be subject to noise, and \"outliers\" which are data that do not fit the model. The outliers can come, for example, from extreme values of the noise or from erroneous measurements or incorrect hypotheses about the interpretation of data. RANSAC also assumes that, given a (usually small) set of inliers, there exists a procedure which can estimate the parameters of a model that optimally explains or fits this data.\n",
    "\n",
    "\n",
    " --- Random Sample Consensus on training data ---\n",
    "           R2 Score: -0.335\n",
    " Mean Squared Error: 2.44\n",
    "Mean Absolute Error: 1.19\n",
    "Root Mean Square Error: 1.56\n",
    "\n",
    " --- Random Sample Consensus on testing data ---\n",
    "           R2 Score: -0.26\n",
    " Mean Squared Error: 2.65\n",
    "Mean Absolute Error: 1.28\n",
    "Root Mean Square Error: 1.63"
   ]
  },
  {
   "cell_type": "code",
   "execution_count": 1202,
   "id": "7c8e06aa",
   "metadata": {},
   "outputs": [
    {
     "name": "stdout",
     "output_type": "stream",
     "text": [
      "\n",
      "  --- Support Vector Regression on training data ---\n",
      "           R2 Score: 0.0233\n",
      " Mean Squared Error: 1.78\n",
      "Mean Absolute Error: 1.07\n",
      "Root Mean Square Error: 1.34\n",
      "\n",
      "  --- Support Vector Regression on testing data ---\n",
      "           R2 Score: -0.00853\n",
      " Mean Squared Error: 2.12\n",
      "Mean Absolute Error: 1.19\n",
      "Root Mean Square Error: 1.46\n"
     ]
    }
   ],
   "source": [
    "model_SVR = RANSACRegressor(min_samples=199, max_trials=1,random_state=42)\n",
    "\n",
    "# test data\n",
    "model_SVR.fit(X_train, y_train) \n",
    "\n",
    "# Predict on training data\n",
    "pred_train_SVR= model_SVR.predict(X_train)\n",
    "\n",
    "r2 = r2_score(y_train,pred_train_SVR)\n",
    "mse = mean_squared_error(y_train,pred_train_SVR)\n",
    "mae = mean_absolute_error(y_train,pred_train_SVR)\n",
    "rmse = np.sqrt(metrics.mean_squared_error(y_train,pred_train_SVR))\n",
    "\n",
    "# Print evaluation values on training data\n",
    "print('\\n  --- {} ---'.format(\"Support Vector Regression on training data\"))\n",
    "print('           R2 Score: {:.3}'.format(r2))\n",
    "print(' Mean Squared Error: {:.3}'.format(mse))\n",
    "print('Mean Absolute Error: {:.3}'.format(mae))\n",
    "print('Root Mean Square Error: {:.3}'.format(rmse))\n",
    "\n",
    "# Predict on testing data\n",
    "pred_test_SVR = model_SVR.predict(X_test)\n",
    "\n",
    "r2 = r2_score(y_test,pred_test_SVR)\n",
    "mse = mean_squared_error(y_test,pred_test_SVR)\n",
    "mae = mean_absolute_error(y_test,pred_test_SVR)\n",
    "rmse = np.sqrt(metrics.mean_squared_error(y_test,pred_test_SVR))\n",
    "\n",
    "# Print evaluation values on testing data\n",
    "print('\\n  --- {} ---'.format(\"Support Vector Regression on testing data\"))\n",
    "print('           R2 Score: {:.3}'.format(r2))\n",
    "print(' Mean Squared Error: {:.3}'.format(mse))\n",
    "print('Mean Absolute Error: {:.3}'.format(mae))\n",
    "print('Root Mean Square Error: {:.3}'.format(rmse))\n"
   ]
  },
  {
   "cell_type": "code",
   "execution_count": null,
   "id": "10dc5fcb",
   "metadata": {},
   "outputs": [],
   "source": []
  },
  {
   "cell_type": "code",
   "execution_count": null,
   "id": "c4006c7e",
   "metadata": {},
   "outputs": [],
   "source": []
  },
  {
   "cell_type": "code",
   "execution_count": null,
   "id": "991addf0",
   "metadata": {},
   "outputs": [],
   "source": []
  },
  {
   "cell_type": "code",
   "execution_count": null,
   "id": "d4b706cf",
   "metadata": {},
   "outputs": [],
   "source": []
  },
  {
   "cell_type": "raw",
   "id": "38a925bc",
   "metadata": {},
   "source": [
    "Decision tree (non-linear classifier):\n",
    "The above output shows that the RMSE is 23.4 for train data and 40.2 for test data. On the other hand, the R-squared value is negative for both train data and test data. More improvement should be done by parameter tuning. We will be changing the values of the parameter, 'max_depth', to see how that affects the model performance.\n",
    "\n",
    "# test data\n",
    "dtree1 = DecisionTreeRegressor(max_depth=8)\n",
    "dtree1.fit(X_train, y_train)\n",
    "\n",
    "# Predict on training data\n",
    "tr1 = dtree1.predict(X_train)\n",
    "\n",
    "r2 = r2_score(y_train, tr1)\n",
    "mse = mean_squared_error(y_train, tr1)\n",
    "mae = mean_absolute_error(y_train, tr1)\n",
    "rmse = np.sqrt(metrics.mean_squared_error(y_train, tr1))\n",
    "\n",
    "# Print evaluation values on training data\n",
    "print('\\n  --- {} ---'.format(\"Decision Tree on training data\"))\n",
    "print('           R2 Score: {:.3}'.format(r2))\n",
    "print(' Mean Squared Error: {:.3}'.format(mse))\n",
    "print('Mean Absolute Error: {:.3}'.format(mae))\n",
    "print('Root Mean Square Error: {:.3}'.format(rmse))\n",
    "\n",
    "# Predict on testing data\n",
    "y1 = dtree1.predict(X_test)\n",
    "\n",
    "r2 = r2_score(y_test,y1)\n",
    "mse = mean_squared_error(y_test,y1)\n",
    "mae = mean_absolute_error(y_test,y1)\n",
    "rmse = np.sqrt(metrics.mean_squared_error(y_test,y1))\n",
    "\n",
    "# Print evaluation values on testing data\n",
    "print('\\n  --- {} ---'.format(\"Decision Tree on testing data\"))\n",
    "print('           R2 Score: {:.3}'.format(r2))\n",
    "print(' Mean Squared Error: {:.3}'.format(mse))\n",
    "print('Mean Absolute Error: {:.3}'.format(mae))\n",
    "print('Root Mean Square Error: {:.3}'.format(rmse))\n"
   ]
  },
  {
   "cell_type": "code",
   "execution_count": null,
   "id": "10ebbfe4",
   "metadata": {},
   "outputs": [],
   "source": []
  },
  {
   "cell_type": "code",
   "execution_count": null,
   "id": "a012ce87",
   "metadata": {},
   "outputs": [],
   "source": []
  },
  {
   "cell_type": "code",
   "execution_count": null,
   "id": "916ba9f0",
   "metadata": {},
   "outputs": [],
   "source": []
  },
  {
   "cell_type": "code",
   "execution_count": null,
   "id": "1d10a5ff",
   "metadata": {},
   "outputs": [],
   "source": []
  },
  {
   "cell_type": "markdown",
   "id": "dbb4525e",
   "metadata": {},
   "source": [
    "# Kruskal-Wallis Test\n",
    "\n",
    "Assumptions:\n",
    "The variables should have:\n",
    "1. One independent variable with two or more levels (independent groups) -> city (independent variable)\n",
    "2. Ordinal scale, Ratio Scale or Interval scale dependent variables. -> 'EHR Per Capita' is a ratio variable.\n",
    "\n",
    "We want to find out how city affects actual EHR per capita.\n",
    "\n",
    "Null Hypothesis: the EHR per capita has the same distributions in each city"
   ]
  },
  {
   "cell_type": "code",
   "execution_count": 626,
   "id": "4836f40f",
   "metadata": {},
   "outputs": [
    {
     "data": {
      "text/plain": [
       "KruskalResult(statistic=390.0, pvalue=0.490476781769723)"
      ]
     },
     "execution_count": 626,
     "metadata": {},
     "output_type": "execute_result"
    }
   ],
   "source": [
    "# Importing required library\n",
    "from scipy.stats import kruskal\n",
    "\n",
    "# Perform Kruskal Wallis Test\n",
    "group_data = df_provider_city_last.groupby('Business_C')['EHR Per Capita'].apply(list).to_dict()\n",
    "\n",
    "result = stats.kruskal(*group_data.values())\n",
    "result"
   ]
  },
  {
   "cell_type": "code",
   "execution_count": 628,
   "id": "4e2bf035",
   "metadata": {},
   "outputs": [
    {
     "name": "stdout",
     "output_type": "stream",
     "text": [
      "Do not Reject Null Hypothesis (Same distribution)\n"
     ]
    }
   ],
   "source": [
    "#Interpretation of the results at 5% level of significance\n",
    "# Level of significance\n",
    "alpha = 0.05\n",
    "if result.pvalue < alpha:\n",
    "    print('Reject Null Hypothesis (Different distribution')\n",
    "else:\n",
    "    print('Do not Reject Null Hypothesis (Same distribution)')\n"
   ]
  },
  {
   "cell_type": "markdown",
   "id": "0a6b273c",
   "metadata": {},
   "source": [
    "# Spearman's rank correlation coefficient\n",
    "\n",
    "H0: EHR per capita is not related to the Revenues Per Capita.\n",
    "\n",
    "H1: EHR per capita is related to the Revenues Per Capita (Higher per-capita revenue city gets more or less per-capita EHR). "
   ]
  },
  {
   "cell_type": "code",
   "execution_count": 707,
   "id": "61457158",
   "metadata": {},
   "outputs": [
    {
     "name": "stdout",
     "output_type": "stream",
     "text": [
      "SpearmanrResult(correlation=0.05198335907780493, pvalue=0.3052184680033309)\n",
      "Do not Reject Null Hypothesis\n"
     ]
    }
   ],
   "source": [
    "from scipy import stats\n",
    "result = stats.spearmanr(df_provider_city_last['EHR Per Capita'],df_provider_city_last['Revenues Per Capita'] )\n",
    "print(result)\n",
    "#Interpretation of the results at 5% level of significance\n",
    "# Level of significance\n",
    "alpha = 0.05\n",
    "if result.pvalue < alpha:\n",
    "    print('Reject Null Hypothesis')\n",
    "else:\n",
    "    print('Do not Reject Null Hypothesis')\n"
   ]
  },
  {
   "cell_type": "markdown",
   "id": "c9a86384",
   "metadata": {},
   "source": [
    "H0: EHR per capita is not related to the Expenditures Per Capita.\n",
    "    \n",
    "H1: EHR per capita is related to the Expenditures Per Capita. "
   ]
  },
  {
   "cell_type": "code",
   "execution_count": 708,
   "id": "9546f141",
   "metadata": {},
   "outputs": [
    {
     "name": "stdout",
     "output_type": "stream",
     "text": [
      "SpearmanrResult(correlation=0.03923627489966774, pvalue=0.4391312403359442)\n",
      "Do not Reject Null Hypothesis\n"
     ]
    }
   ],
   "source": [
    "result = stats.spearmanr(df_provider_city_last['EHR Per Capita'],df_provider_city_last['Expenditures Per Capita'] )\n",
    "print(result)\n",
    "#Interpretation of the results at 5% level of significance\n",
    "# Level of significance\n",
    "alpha = 0.05\n",
    "if result.pvalue < alpha:\n",
    "    print('Reject Null Hypothesis')\n",
    "else:\n",
    "    print('Do not Reject Null Hypothesis')"
   ]
  },
  {
   "cell_type": "code",
   "execution_count": 710,
   "id": "818a5784",
   "metadata": {},
   "outputs": [
    {
     "name": "stdout",
     "output_type": "stream",
     "text": [
      "Statistics=185.316, p=0.000\n",
      "Different distributions (reject H0)\n"
     ]
    }
   ],
   "source": [
    "from scipy.stats import friedmanchisquare\n",
    "\n",
    "# compare samples\n",
    "stat, p = friedmanchisquare(df_provider_city_last['EHR Per Capita'], df_provider_city_last['Expenditures Per Capita'], df_provider_city_last['Revenues Per Capita'])\n",
    "print('Statistics=%.3f, p=%.3f' % (stat, p))\n",
    "# interpret\n",
    "alpha = 0.05\n",
    "if p > alpha:\n",
    "\tprint('Same distributions (fail to reject H0)')\n",
    "else:\n",
    "\tprint('Different distributions (reject H0)')"
   ]
  },
  {
   "cell_type": "code",
   "execution_count": null,
   "id": "248eed68",
   "metadata": {},
   "outputs": [],
   "source": []
  },
  {
   "cell_type": "code",
   "execution_count": null,
   "id": "25387465",
   "metadata": {},
   "outputs": [],
   "source": []
  },
  {
   "cell_type": "code",
   "execution_count": null,
   "id": "c8ebdc63",
   "metadata": {},
   "outputs": [],
   "source": []
  },
  {
   "cell_type": "code",
   "execution_count": null,
   "id": "1d0448f6",
   "metadata": {},
   "outputs": [],
   "source": []
  },
  {
   "cell_type": "code",
   "execution_count": null,
   "id": "e855fb7c",
   "metadata": {},
   "outputs": [],
   "source": []
  },
  {
   "cell_type": "code",
   "execution_count": null,
   "id": "538b0e1c",
   "metadata": {},
   "outputs": [],
   "source": []
  },
  {
   "cell_type": "code",
   "execution_count": null,
   "id": "bf8d61ae",
   "metadata": {},
   "outputs": [],
   "source": []
  },
  {
   "cell_type": "code",
   "execution_count": null,
   "id": "8a481426",
   "metadata": {},
   "outputs": [],
   "source": []
  },
  {
   "cell_type": "code",
   "execution_count": null,
   "id": "2a68d783",
   "metadata": {},
   "outputs": [],
   "source": []
  },
  {
   "cell_type": "code",
   "execution_count": null,
   "id": "86cc5033",
   "metadata": {},
   "outputs": [],
   "source": []
  },
  {
   "cell_type": "code",
   "execution_count": null,
   "id": "36e1908a",
   "metadata": {},
   "outputs": [],
   "source": []
  },
  {
   "cell_type": "raw",
   "id": "d2fe4ebe",
   "metadata": {},
   "source": [
    "# Reduce variable to make the R2 square larger"
   ]
  },
  {
   "cell_type": "raw",
   "id": "080e42db",
   "metadata": {},
   "source": [
    "# Plot the Distribution plots for the features\n",
    "import warnings\n",
    "warnings.filterwarnings('ignore')\n",
    "plt.subplot(1,2,1)\n",
    "sns.distplot(df_provider_city_last['Expenditures Per Capita'])\n",
    "plt.subplot(1,2,2)\n",
    "sns.distplot(df_provider_city_last['EHR Per Capita']) # right skewed distribution\n",
    "# ================================================\n",
    "# Build the model\n",
    "# ================================================\n",
    "\n",
    "# Training data\n",
    "X = df_provider_city_last[['Expenditures Per Capita']] #  feature matrix\n",
    "y = df_provider_city_last['EHR Per Capita'] # target matrix\n",
    "\n",
    "from sklearn.model_selection import train_test_split\n",
    "import statsmodels.api as sm\n",
    "\n",
    "# Splitting the data into train and test\n",
    "X_train, X_test, y_train, y_test = train_test_split(X,y, train_size=0.7,test_size=0.3,random_state=100)\n"
   ]
  },
  {
   "cell_type": "markdown",
   "id": "c39d8b47",
   "metadata": {},
   "source": [
    "# Comparing machine learning models¶"
   ]
  },
  {
   "cell_type": "code",
   "execution_count": null,
   "id": "ff5e0196",
   "metadata": {},
   "outputs": [],
   "source": []
  },
  {
   "cell_type": "code",
   "execution_count": null,
   "id": "bb0b7db6",
   "metadata": {},
   "outputs": [],
   "source": []
  },
  {
   "cell_type": "code",
   "execution_count": null,
   "id": "43b283ec",
   "metadata": {},
   "outputs": [],
   "source": []
  },
  {
   "cell_type": "code",
   "execution_count": 697,
   "id": "ca2837a8",
   "metadata": {},
   "outputs": [
    {
     "data": {
      "text/html": [
       "<div>\n",
       "<style scoped>\n",
       "    .dataframe tbody tr th:only-of-type {\n",
       "        vertical-align: middle;\n",
       "    }\n",
       "\n",
       "    .dataframe tbody tr th {\n",
       "        vertical-align: top;\n",
       "    }\n",
       "\n",
       "    .dataframe thead th {\n",
       "        text-align: right;\n",
       "    }\n",
       "</style>\n",
       "<table border=\"1\" class=\"dataframe\">\n",
       "  <thead>\n",
       "    <tr style=\"text-align: right;\">\n",
       "      <th></th>\n",
       "      <th>Coefficient</th>\n",
       "    </tr>\n",
       "  </thead>\n",
       "  <tbody>\n",
       "    <tr>\n",
       "      <th>Revenues Per Capita</th>\n",
       "      <td>11.678199</td>\n",
       "    </tr>\n",
       "    <tr>\n",
       "      <th>Expenditures Per Capita</th>\n",
       "      <td>-7.991750</td>\n",
       "    </tr>\n",
       "  </tbody>\n",
       "</table>\n",
       "</div>"
      ],
      "text/plain": [
       "                         Coefficient\n",
       "Revenues Per Capita        11.678199\n",
       "Expenditures Per Capita    -7.991750"
      ]
     },
     "execution_count": 697,
     "metadata": {},
     "output_type": "execute_result"
    }
   ],
   "source": [
    "# coefficient\n",
    "coeff_df = pd.DataFrame(model.coef_, X.columns, columns=['Coefficient'])\n",
    "coeff_df"
   ]
  },
  {
   "cell_type": "markdown",
   "id": "4797198c",
   "metadata": {},
   "source": [
    "Interpreting the coefficients:\n",
    "\n",
    "Holding all other features fixed, a 1 unit increase in Revenues Per Capita and Expenditures Per Capita is associated with an increase of 11.678199 and a decrease of -7.991750 in EHR per capita respectively."
   ]
  },
  {
   "cell_type": "code",
   "execution_count": null,
   "id": "aefa9e2a",
   "metadata": {},
   "outputs": [],
   "source": []
  },
  {
   "cell_type": "code",
   "execution_count": null,
   "id": "dbbf8694",
   "metadata": {},
   "outputs": [],
   "source": []
  },
  {
   "cell_type": "code",
   "execution_count": null,
   "id": "f78088ac",
   "metadata": {},
   "outputs": [],
   "source": []
  },
  {
   "cell_type": "code",
   "execution_count": null,
   "id": "952c55bf",
   "metadata": {},
   "outputs": [],
   "source": []
  },
  {
   "cell_type": "code",
   "execution_count": null,
   "id": "01416e08",
   "metadata": {},
   "outputs": [],
   "source": [
    "# surgery dataset"
   ]
  },
  {
   "cell_type": "code",
   "execution_count": 843,
   "id": "b891ffd4",
   "metadata": {},
   "outputs": [
    {
     "data": {
      "text/html": [
       "<div>\n",
       "<style scoped>\n",
       "    .dataframe tbody tr th:only-of-type {\n",
       "        vertical-align: middle;\n",
       "    }\n",
       "\n",
       "    .dataframe tbody tr th {\n",
       "        vertical-align: top;\n",
       "    }\n",
       "\n",
       "    .dataframe thead th {\n",
       "        text-align: right;\n",
       "    }\n",
       "</style>\n",
       "<table border=\"1\" class=\"dataframe\">\n",
       "  <thead>\n",
       "    <tr style=\"text-align: right;\">\n",
       "      <th></th>\n",
       "      <th>Business_C</th>\n",
       "      <th>Business_1</th>\n",
       "      <th>Payment_Ye</th>\n",
       "      <th>total_paym</th>\n",
       "    </tr>\n",
       "  </thead>\n",
       "  <tbody>\n",
       "    <tr>\n",
       "      <th>0</th>\n",
       "      <td>Sacramento</td>\n",
       "      <td>Sacramento</td>\n",
       "      <td>2019</td>\n",
       "      <td>38250.0</td>\n",
       "    </tr>\n",
       "    <tr>\n",
       "      <th>1</th>\n",
       "      <td>Oakland</td>\n",
       "      <td>Alameda</td>\n",
       "      <td>2014</td>\n",
       "      <td>21250.0</td>\n",
       "    </tr>\n",
       "    <tr>\n",
       "      <th>2</th>\n",
       "      <td>Antioch</td>\n",
       "      <td>Contra Costa</td>\n",
       "      <td>2016</td>\n",
       "      <td>21250.0</td>\n",
       "    </tr>\n",
       "    <tr>\n",
       "      <th>3</th>\n",
       "      <td>Loma Linda</td>\n",
       "      <td>San Bernardino</td>\n",
       "      <td>2015</td>\n",
       "      <td>29750.0</td>\n",
       "    </tr>\n",
       "    <tr>\n",
       "      <th>4</th>\n",
       "      <td>Orange</td>\n",
       "      <td>Orange</td>\n",
       "      <td>2014</td>\n",
       "      <td>21250.0</td>\n",
       "    </tr>\n",
       "  </tbody>\n",
       "</table>\n",
       "</div>"
      ],
      "text/plain": [
       "   Business_C      Business_1  Payment_Ye  total_paym\n",
       "0  Sacramento      Sacramento        2019     38250.0\n",
       "1     Oakland         Alameda        2014     21250.0\n",
       "2     Antioch    Contra Costa        2016     21250.0\n",
       "3  Loma Linda  San Bernardino        2015     29750.0\n",
       "4      Orange          Orange        2014     21250.0"
      ]
     },
     "execution_count": 843,
     "metadata": {},
     "output_type": "execute_result"
    }
   ],
   "source": [
    "## Load the datasets\n",
    "df_ehr_provider = pd.read_csv('EHR_Incentive_Program_Payments_Providers.csv')\n",
    "df_ehr_hospital = pd.read_csv('EHR_Incentive_Program_Payments_Hospitals.csv')\n",
    "df_city_revenue = pd.read_csv('City_Revenues_Per_Capita.csv')\n",
    "df_city_expenditure = pd.read_csv('City_Expenditures_Per_Capita.csv')\n",
    "\n",
    "## delete the unneeded columns on the provider dataset\n",
    "df_ehr_provider.drop(df_ehr_provider.columns[0:8],axis=1,inplace = True)\n",
    "df_ehr_provider.drop(df_ehr_provider.columns[2:5],axis=1,inplace = True)\n",
    "df_ehr_provider.drop(df_ehr_provider.columns[3:7],axis=1,inplace = True)\n",
    "df_ehr_provider.drop(['Latitude','Longitude','total_rece'],axis=1,inplace = True)\n",
    "df_ehr_provider.head()\n"
   ]
  },
  {
   "cell_type": "code",
   "execution_count": null,
   "id": "5a44397b",
   "metadata": {},
   "outputs": [],
   "source": []
  },
  {
   "cell_type": "code",
   "execution_count": null,
   "id": "b01a9c46",
   "metadata": {},
   "outputs": [],
   "source": []
  },
  {
   "cell_type": "code",
   "execution_count": null,
   "id": "58211c05",
   "metadata": {},
   "outputs": [],
   "source": []
  },
  {
   "cell_type": "code",
   "execution_count": 795,
   "id": "82aeb516",
   "metadata": {},
   "outputs": [
    {
     "data": {
      "text/html": [
       "<div>\n",
       "<style scoped>\n",
       "    .dataframe tbody tr th:only-of-type {\n",
       "        vertical-align: middle;\n",
       "    }\n",
       "\n",
       "    .dataframe tbody tr th {\n",
       "        vertical-align: top;\n",
       "    }\n",
       "\n",
       "    .dataframe thead th {\n",
       "        text-align: right;\n",
       "    }\n",
       "</style>\n",
       "<table border=\"1\" class=\"dataframe\">\n",
       "  <thead>\n",
       "    <tr style=\"text-align: right;\">\n",
       "      <th></th>\n",
       "      <th>patcnty1</th>\n",
       "      <th>serv_y</th>\n",
       "      <th>disp1</th>\n",
       "      <th>Encounters</th>\n",
       "    </tr>\n",
       "  </thead>\n",
       "  <tbody>\n",
       "    <tr>\n",
       "      <th>0</th>\n",
       "      <td>Alameda</td>\n",
       "      <td>2012</td>\n",
       "      <td>Acute Care</td>\n",
       "      <td>139</td>\n",
       "    </tr>\n",
       "    <tr>\n",
       "      <th>1</th>\n",
       "      <td>Alameda</td>\n",
       "      <td>2012</td>\n",
       "      <td>Childrens_or_Cancer</td>\n",
       "      <td>3</td>\n",
       "    </tr>\n",
       "    <tr>\n",
       "      <th>2</th>\n",
       "      <td>Alameda</td>\n",
       "      <td>2012</td>\n",
       "      <td>Critical Access Hospital</td>\n",
       "      <td>1</td>\n",
       "    </tr>\n",
       "    <tr>\n",
       "      <th>3</th>\n",
       "      <td>Alameda</td>\n",
       "      <td>2012</td>\n",
       "      <td>Died</td>\n",
       "      <td>5</td>\n",
       "    </tr>\n",
       "    <tr>\n",
       "      <th>4</th>\n",
       "      <td>Alameda</td>\n",
       "      <td>2012</td>\n",
       "      <td>Home Health Service</td>\n",
       "      <td>170</td>\n",
       "    </tr>\n",
       "  </tbody>\n",
       "</table>\n",
       "</div>"
      ],
      "text/plain": [
       "  patcnty1  serv_y                     disp1  Encounters\n",
       "0  Alameda    2012                Acute Care         139\n",
       "1  Alameda    2012       Childrens_or_Cancer           3\n",
       "2  Alameda    2012  Critical Access Hospital           1\n",
       "3  Alameda    2012                      Died           5\n",
       "4  Alameda    2012       Home Health Service         170"
      ]
     },
     "execution_count": 795,
     "metadata": {},
     "output_type": "execute_result"
    }
   ],
   "source": [
    "df_surgery = pd.read_csv('dispositionas.csv')\n",
    "df_surgery.head()"
   ]
  },
  {
   "cell_type": "code",
   "execution_count": 794,
   "id": "22b3a6f5",
   "metadata": {},
   "outputs": [
    {
     "data": {
      "text/html": [
       "<div>\n",
       "<style scoped>\n",
       "    .dataframe tbody tr th:only-of-type {\n",
       "        vertical-align: middle;\n",
       "    }\n",
       "\n",
       "    .dataframe tbody tr th {\n",
       "        vertical-align: top;\n",
       "    }\n",
       "\n",
       "    .dataframe thead th {\n",
       "        text-align: right;\n",
       "    }\n",
       "</style>\n",
       "<table border=\"1\" class=\"dataframe\">\n",
       "  <thead>\n",
       "    <tr style=\"text-align: right;\">\n",
       "      <th></th>\n",
       "      <th>Business_City</th>\n",
       "      <th>Business_County</th>\n",
       "      <th>total_payments</th>\n",
       "      <th>Last_Payment_Year</th>\n",
       "    </tr>\n",
       "  </thead>\n",
       "  <tbody>\n",
       "    <tr>\n",
       "      <th>0</th>\n",
       "      <td>Eureka</td>\n",
       "      <td>Humboldt</td>\n",
       "      <td>1530950.70</td>\n",
       "      <td>2016</td>\n",
       "    </tr>\n",
       "    <tr>\n",
       "      <th>1</th>\n",
       "      <td>Hayward</td>\n",
       "      <td>Alameda</td>\n",
       "      <td>3245920.28</td>\n",
       "      <td>2016</td>\n",
       "    </tr>\n",
       "    <tr>\n",
       "      <th>2</th>\n",
       "      <td>Napa</td>\n",
       "      <td>Napa</td>\n",
       "      <td>1262015.89</td>\n",
       "      <td>2016</td>\n",
       "    </tr>\n",
       "    <tr>\n",
       "      <th>3</th>\n",
       "      <td>Jackson</td>\n",
       "      <td>Amador</td>\n",
       "      <td>865130.13</td>\n",
       "      <td>2019</td>\n",
       "    </tr>\n",
       "    <tr>\n",
       "      <th>4</th>\n",
       "      <td>San Francisco</td>\n",
       "      <td>San Francisco</td>\n",
       "      <td>984465.12</td>\n",
       "      <td>2019</td>\n",
       "    </tr>\n",
       "  </tbody>\n",
       "</table>\n",
       "</div>"
      ],
      "text/plain": [
       "   Business_City Business_County  total_payments  Last_Payment_Year\n",
       "0         Eureka        Humboldt      1530950.70               2016\n",
       "1        Hayward         Alameda      3245920.28               2016\n",
       "2           Napa            Napa      1262015.89               2016\n",
       "3        Jackson          Amador       865130.13               2019\n",
       "4  San Francisco   San Francisco       984465.12               2019"
      ]
     },
     "execution_count": 794,
     "metadata": {},
     "output_type": "execute_result"
    }
   ],
   "source": [
    "# clean the noisy data\n",
    "df_ehr_hospital = df_ehr_hospital.drop(df_ehr_hospital.columns[0:7], axis=1)\n",
    "df_ehr_hospital = df_ehr_hospital.drop(df_ehr_hospital.columns[[2,3,4,5,6,8,9,10,11,12]], axis=1)\n",
    "#df_EHR = df_EHR.drop(['Payment__1','Payment_Cr','Payee_Name','Payee_NPI','total_rece','Latitude','Longitude','Program_Ye'],axis=1)\n",
    "df_ehr_hospital = df_ehr_hospital.dropna()\n",
    "df_ehr_hospital.head()\n",
    "\n"
   ]
  },
  {
   "cell_type": "code",
   "execution_count": 796,
   "id": "167816b2",
   "metadata": {},
   "outputs": [
    {
     "data": {
      "text/plain": [
       "53"
      ]
     },
     "execution_count": 796,
     "metadata": {},
     "output_type": "execute_result"
    }
   ],
   "source": [
    "len(df_ehr_hospital['Business_County'].unique())"
   ]
  },
  {
   "cell_type": "code",
   "execution_count": 813,
   "id": "30b5cf64",
   "metadata": {},
   "outputs": [
    {
     "data": {
      "text/plain": [
       "57"
      ]
     },
     "execution_count": 813,
     "metadata": {},
     "output_type": "execute_result"
    }
   ],
   "source": [
    "df_ehr_provider = df_ehr_provider[df_ehr_provider['Business_1']!='UNKNOWN']\n",
    "df_ehr_provider = df_ehr_provider[df_ehr_provider['Business_1']!='Unknown']\n",
    "len(df_ehr_provider['Business_1'].unique())"
   ]
  },
  {
   "cell_type": "code",
   "execution_count": 814,
   "id": "4dd7b61e",
   "metadata": {},
   "outputs": [
    {
     "data": {
      "text/plain": [
       "57"
      ]
     },
     "execution_count": 814,
     "metadata": {},
     "output_type": "execute_result"
    }
   ],
   "source": [
    "len(df_surgery['patcnty1'].unique())"
   ]
  },
  {
   "cell_type": "code",
   "execution_count": 818,
   "id": "d2e43db2",
   "metadata": {},
   "outputs": [
    {
     "data": {
      "text/html": [
       "<div>\n",
       "<style scoped>\n",
       "    .dataframe tbody tr th:only-of-type {\n",
       "        vertical-align: middle;\n",
       "    }\n",
       "\n",
       "    .dataframe tbody tr th {\n",
       "        vertical-align: top;\n",
       "    }\n",
       "\n",
       "    .dataframe thead th {\n",
       "        text-align: right;\n",
       "    }\n",
       "</style>\n",
       "<table border=\"1\" class=\"dataframe\">\n",
       "  <thead>\n",
       "    <tr style=\"text-align: right;\">\n",
       "      <th></th>\n",
       "      <th>Business_1</th>\n",
       "      <th>total_paym</th>\n",
       "    </tr>\n",
       "  </thead>\n",
       "  <tbody>\n",
       "    <tr>\n",
       "      <th>0</th>\n",
       "      <td>Alameda</td>\n",
       "      <td>38481077.35</td>\n",
       "    </tr>\n",
       "    <tr>\n",
       "      <th>1</th>\n",
       "      <td>Amador</td>\n",
       "      <td>327250.01</td>\n",
       "    </tr>\n",
       "    <tr>\n",
       "      <th>2</th>\n",
       "      <td>Butte</td>\n",
       "      <td>5342250.00</td>\n",
       "    </tr>\n",
       "    <tr>\n",
       "      <th>3</th>\n",
       "      <td>Calaveras</td>\n",
       "      <td>131750.00</td>\n",
       "    </tr>\n",
       "    <tr>\n",
       "      <th>4</th>\n",
       "      <td>Colusa</td>\n",
       "      <td>484500.00</td>\n",
       "    </tr>\n",
       "  </tbody>\n",
       "</table>\n",
       "</div>"
      ],
      "text/plain": [
       "  Business_1   total_paym\n",
       "0    Alameda  38481077.35\n",
       "1     Amador    327250.01\n",
       "2      Butte   5342250.00\n",
       "3  Calaveras    131750.00\n",
       "4     Colusa    484500.00"
      ]
     },
     "execution_count": 818,
     "metadata": {},
     "output_type": "execute_result"
    }
   ],
   "source": [
    "df_ehr_provider = df_ehr_provider.groupby('Business_1')['total_paym'].sum().reset_index()\n",
    "df_ehr_provider.head()"
   ]
  },
  {
   "cell_type": "code",
   "execution_count": 819,
   "id": "a573b446",
   "metadata": {},
   "outputs": [
    {
     "data": {
      "text/html": [
       "<div>\n",
       "<style scoped>\n",
       "    .dataframe tbody tr th:only-of-type {\n",
       "        vertical-align: middle;\n",
       "    }\n",
       "\n",
       "    .dataframe tbody tr th {\n",
       "        vertical-align: top;\n",
       "    }\n",
       "\n",
       "    .dataframe thead th {\n",
       "        text-align: right;\n",
       "    }\n",
       "</style>\n",
       "<table border=\"1\" class=\"dataframe\">\n",
       "  <thead>\n",
       "    <tr style=\"text-align: right;\">\n",
       "      <th></th>\n",
       "      <th>patcnty1</th>\n",
       "      <th>Encounters</th>\n",
       "    </tr>\n",
       "  </thead>\n",
       "  <tbody>\n",
       "    <tr>\n",
       "      <th>0</th>\n",
       "      <td>Alameda</td>\n",
       "      <td>620774</td>\n",
       "    </tr>\n",
       "    <tr>\n",
       "      <th>1</th>\n",
       "      <td>Amador</td>\n",
       "      <td>26910</td>\n",
       "    </tr>\n",
       "    <tr>\n",
       "      <th>2</th>\n",
       "      <td>Butte</td>\n",
       "      <td>176297</td>\n",
       "    </tr>\n",
       "    <tr>\n",
       "      <th>3</th>\n",
       "      <td>Calaveras</td>\n",
       "      <td>39581</td>\n",
       "    </tr>\n",
       "    <tr>\n",
       "      <th>4</th>\n",
       "      <td>Colusa</td>\n",
       "      <td>11924</td>\n",
       "    </tr>\n",
       "  </tbody>\n",
       "</table>\n",
       "</div>"
      ],
      "text/plain": [
       "    patcnty1  Encounters\n",
       "0    Alameda      620774\n",
       "1     Amador       26910\n",
       "2      Butte      176297\n",
       "3  Calaveras       39581\n",
       "4     Colusa       11924"
      ]
     },
     "execution_count": 819,
     "metadata": {},
     "output_type": "execute_result"
    }
   ],
   "source": [
    "df_surgery = df_surgery.groupby('patcnty1')['Encounters'].sum().reset_index()\n",
    "df_surgery.head()"
   ]
  },
  {
   "cell_type": "code",
   "execution_count": 820,
   "id": "7177c572",
   "metadata": {},
   "outputs": [
    {
     "name": "stdout",
     "output_type": "stream",
     "text": [
      "SpearmanrResult(correlation=0.9374513870884107, pvalue=7.105997639622854e-27)\n",
      "Reject Null Hypothesis\n"
     ]
    }
   ],
   "source": [
    "result = stats.spearmanr(df_ehr_provider['total_paym'],df_surgery['Encounters'])\n",
    "print(result)\n",
    "#Interpretation of the results at 5% level of significance\n",
    "# Level of significance\n",
    "alpha = 0.05\n",
    "if result.pvalue < alpha:\n",
    "    print('Reject Null Hypothesis')\n",
    "else:\n",
    "    print('Do not Reject Null Hypothesis')"
   ]
  },
  {
   "cell_type": "code",
   "execution_count": 829,
   "id": "3303d633",
   "metadata": {},
   "outputs": [
    {
     "name": "stdout",
     "output_type": "stream",
     "text": [
      "Test set evaluation:\n",
      "_____________________________________\n",
      "MAE: 4162910.3078936944\n",
      "MSE: 27803994771543.984\n",
      "RMSE: 5272949.342781892\n",
      "R2 Square 0.9255851042232545\n",
      "__________________________________\n"
     ]
    }
   ],
   "source": [
    "\n",
    "# ================================================\n",
    "# Build the model\n",
    "# ================================================\n",
    "\n",
    "# Training data\n",
    "X = df_surgery[['Encounters']] # feature \n",
    "y = df_ehr_provider['total_paym'] # target\n",
    "\n",
    "# Splitting the data into train and test\n",
    "X_train, X_test, y_train, y_test = train_test_split(X,y, train_size=0.7,test_size=0.3,random_state=100)\n",
    "\n",
    "# Train the model: include an intercept to the model by default\n",
    "model = LinearRegression()\n",
    "model.fit(X_train, y_train)\n",
    "\n",
    "test_pred = model.predict(X_test)\n",
    "train_pred = model.predict(X_train)\n",
    "\n",
    "print('Test set evaluation:\\n_____________________________________')\n",
    "print_evaluate(y_test, test_pred)\n",
    "\n",
    "results_df = pd.DataFrame(data=[[\"Linear Regression\", *evaluate(y_test, test_pred) , cross_val(LinearRegression())]], \n",
    "                          columns=['Model', 'MAE', 'MSE', 'RMSE', 'R2 Square', \"Cross Validation\"])"
   ]
  },
  {
   "cell_type": "code",
   "execution_count": 827,
   "id": "9bab2e1a",
   "metadata": {},
   "outputs": [
    {
     "name": "stdout",
     "output_type": "stream",
     "text": [
      "                            OLS Regression Results                            \n",
      "==============================================================================\n",
      "Dep. Variable:             total_paym   R-squared:                       0.956\n",
      "Model:                            OLS   Adj. R-squared:                  0.955\n",
      "Method:                 Least Squares   F-statistic:                     1185.\n",
      "Date:                Sat, 19 Nov 2022   Prob (F-statistic):           6.79e-39\n",
      "Time:                        01:15:29   Log-Likelihood:                -974.73\n",
      "No. Observations:                  57   AIC:                             1953.\n",
      "Df Residuals:                      55   BIC:                             1958.\n",
      "Df Model:                           1                                         \n",
      "Covariance Type:            nonrobust                                         \n",
      "==============================================================================\n",
      "                 coef    std err          t      P>|t|      [0.025      0.975]\n",
      "------------------------------------------------------------------------------\n",
      "const      -2.635e+06   9.91e+05     -2.659      0.010   -4.62e+06   -6.49e+05\n",
      "Encounters    55.7555      1.620     34.421      0.000      52.509      59.002\n",
      "==============================================================================\n",
      "Omnibus:                       10.195   Durbin-Watson:                   1.822\n",
      "Prob(Omnibus):                  0.006   Jarque-Bera (JB):               16.672\n",
      "Skew:                          -0.507   Prob(JB):                     0.000240\n",
      "Kurtosis:                       5.448   Cond. No.                     6.96e+05\n",
      "==============================================================================\n",
      "\n",
      "Notes:\n",
      "[1] Standard Errors assume that the covariance matrix of the errors is correctly specified.\n",
      "[2] The condition number is large, 6.96e+05. This might indicate that there are\n",
      "strong multicollinearity or other numerical problems.\n"
     ]
    }
   ],
   "source": [
    "## Standard OLS\n",
    "import statsmodels.api as sm\n",
    "from statsmodels.formula.api import ols\n",
    "\n",
    "y = df_ehr_provider['total_paym']\n",
    "x = df_surgery['Encounters']\n",
    "#z = df_provider_city_last['Expenditures Per Capita']\n",
    "\n",
    "# adding the constant term\n",
    "x = sm.add_constant(x)\n",
    "lm = sm.OLS(y, x).fit()\n",
    "print(lm.summary())"
   ]
  },
  {
   "cell_type": "code",
   "execution_count": 831,
   "id": "a1be109c",
   "metadata": {},
   "outputs": [
    {
     "ename": "ValueError",
     "evalue": "Found input variables with inconsistent numbers of samples: [18, 118]",
     "output_type": "error",
     "traceback": [
      "\u001b[0;31m---------------------------------------------------------------------------\u001b[0m",
      "\u001b[0;31mValueError\u001b[0m                                Traceback (most recent call last)",
      "Cell \u001b[0;32mIn [831], line 8\u001b[0m\n\u001b[1;32m      6\u001b[0m test_pred \u001b[38;5;241m=\u001b[39m model\u001b[38;5;241m.\u001b[39mpredict(X_test)\n\u001b[1;32m      7\u001b[0m train_pred \u001b[38;5;241m=\u001b[39m model\u001b[38;5;241m.\u001b[39mpredict(X_train)\n\u001b[0;32m----> 8\u001b[0m mae\u001b[38;5;241m=\u001b[39m\u001b[43mmetrics\u001b[49m\u001b[38;5;241;43m.\u001b[39;49m\u001b[43mmean_absolute_error\u001b[49m\u001b[43m(\u001b[49m\u001b[43my_test\u001b[49m\u001b[43m,\u001b[49m\u001b[43m \u001b[49m\u001b[43my_pred\u001b[49m\u001b[43m)\u001b[49m\n\u001b[1;32m      9\u001b[0m mse\u001b[38;5;241m=\u001b[39mmetrics\u001b[38;5;241m.\u001b[39mmean_squared_error(y_test, y_pred)\n\u001b[1;32m     10\u001b[0m \u001b[38;5;28mprint\u001b[39m(\u001b[38;5;124m'\u001b[39m\u001b[38;5;124mTest set evaluation:\u001b[39m\u001b[38;5;130;01m\\n\u001b[39;00m\u001b[38;5;124m_____________________________________\u001b[39m\u001b[38;5;124m'\u001b[39m)\n",
      "File \u001b[0;32m~/.pyenv/versions/3.9.6/lib/python3.9/site-packages/sklearn/metrics/_regression.py:196\u001b[0m, in \u001b[0;36mmean_absolute_error\u001b[0;34m(y_true, y_pred, sample_weight, multioutput)\u001b[0m\n\u001b[1;32m    141\u001b[0m \u001b[38;5;28;01mdef\u001b[39;00m \u001b[38;5;21mmean_absolute_error\u001b[39m(\n\u001b[1;32m    142\u001b[0m     y_true, y_pred, \u001b[38;5;241m*\u001b[39m, sample_weight\u001b[38;5;241m=\u001b[39m\u001b[38;5;28;01mNone\u001b[39;00m, multioutput\u001b[38;5;241m=\u001b[39m\u001b[38;5;124m\"\u001b[39m\u001b[38;5;124muniform_average\u001b[39m\u001b[38;5;124m\"\u001b[39m\n\u001b[1;32m    143\u001b[0m ):\n\u001b[1;32m    144\u001b[0m     \u001b[38;5;124;03m\"\"\"Mean absolute error regression loss.\u001b[39;00m\n\u001b[1;32m    145\u001b[0m \n\u001b[1;32m    146\u001b[0m \u001b[38;5;124;03m    Read more in the :ref:`User Guide <mean_absolute_error>`.\u001b[39;00m\n\u001b[0;32m   (...)\u001b[0m\n\u001b[1;32m    194\u001b[0m \u001b[38;5;124;03m    0.85...\u001b[39;00m\n\u001b[1;32m    195\u001b[0m \u001b[38;5;124;03m    \"\"\"\u001b[39;00m\n\u001b[0;32m--> 196\u001b[0m     y_type, y_true, y_pred, multioutput \u001b[38;5;241m=\u001b[39m \u001b[43m_check_reg_targets\u001b[49m\u001b[43m(\u001b[49m\n\u001b[1;32m    197\u001b[0m \u001b[43m        \u001b[49m\u001b[43my_true\u001b[49m\u001b[43m,\u001b[49m\u001b[43m \u001b[49m\u001b[43my_pred\u001b[49m\u001b[43m,\u001b[49m\u001b[43m \u001b[49m\u001b[43mmultioutput\u001b[49m\n\u001b[1;32m    198\u001b[0m \u001b[43m    \u001b[49m\u001b[43m)\u001b[49m\n\u001b[1;32m    199\u001b[0m     check_consistent_length(y_true, y_pred, sample_weight)\n\u001b[1;32m    200\u001b[0m     output_errors \u001b[38;5;241m=\u001b[39m np\u001b[38;5;241m.\u001b[39maverage(np\u001b[38;5;241m.\u001b[39mabs(y_pred \u001b[38;5;241m-\u001b[39m y_true), weights\u001b[38;5;241m=\u001b[39msample_weight, axis\u001b[38;5;241m=\u001b[39m\u001b[38;5;241m0\u001b[39m)\n",
      "File \u001b[0;32m~/.pyenv/versions/3.9.6/lib/python3.9/site-packages/sklearn/metrics/_regression.py:100\u001b[0m, in \u001b[0;36m_check_reg_targets\u001b[0;34m(y_true, y_pred, multioutput, dtype)\u001b[0m\n\u001b[1;32m     66\u001b[0m \u001b[38;5;28;01mdef\u001b[39;00m \u001b[38;5;21m_check_reg_targets\u001b[39m(y_true, y_pred, multioutput, dtype\u001b[38;5;241m=\u001b[39m\u001b[38;5;124m\"\u001b[39m\u001b[38;5;124mnumeric\u001b[39m\u001b[38;5;124m\"\u001b[39m):\n\u001b[1;32m     67\u001b[0m     \u001b[38;5;124;03m\"\"\"Check that y_true and y_pred belong to the same regression task.\u001b[39;00m\n\u001b[1;32m     68\u001b[0m \n\u001b[1;32m     69\u001b[0m \u001b[38;5;124;03m    Parameters\u001b[39;00m\n\u001b[0;32m   (...)\u001b[0m\n\u001b[1;32m     98\u001b[0m \u001b[38;5;124;03m        correct keyword.\u001b[39;00m\n\u001b[1;32m     99\u001b[0m \u001b[38;5;124;03m    \"\"\"\u001b[39;00m\n\u001b[0;32m--> 100\u001b[0m     \u001b[43mcheck_consistent_length\u001b[49m\u001b[43m(\u001b[49m\u001b[43my_true\u001b[49m\u001b[43m,\u001b[49m\u001b[43m \u001b[49m\u001b[43my_pred\u001b[49m\u001b[43m)\u001b[49m\n\u001b[1;32m    101\u001b[0m     y_true \u001b[38;5;241m=\u001b[39m check_array(y_true, ensure_2d\u001b[38;5;241m=\u001b[39m\u001b[38;5;28;01mFalse\u001b[39;00m, dtype\u001b[38;5;241m=\u001b[39mdtype)\n\u001b[1;32m    102\u001b[0m     y_pred \u001b[38;5;241m=\u001b[39m check_array(y_pred, ensure_2d\u001b[38;5;241m=\u001b[39m\u001b[38;5;28;01mFalse\u001b[39;00m, dtype\u001b[38;5;241m=\u001b[39mdtype)\n",
      "File \u001b[0;32m~/.pyenv/versions/3.9.6/lib/python3.9/site-packages/sklearn/utils/validation.py:387\u001b[0m, in \u001b[0;36mcheck_consistent_length\u001b[0;34m(*arrays)\u001b[0m\n\u001b[1;32m    385\u001b[0m uniques \u001b[38;5;241m=\u001b[39m np\u001b[38;5;241m.\u001b[39munique(lengths)\n\u001b[1;32m    386\u001b[0m \u001b[38;5;28;01mif\u001b[39;00m \u001b[38;5;28mlen\u001b[39m(uniques) \u001b[38;5;241m>\u001b[39m \u001b[38;5;241m1\u001b[39m:\n\u001b[0;32m--> 387\u001b[0m     \u001b[38;5;28;01mraise\u001b[39;00m \u001b[38;5;167;01mValueError\u001b[39;00m(\n\u001b[1;32m    388\u001b[0m         \u001b[38;5;124m\"\u001b[39m\u001b[38;5;124mFound input variables with inconsistent numbers of samples: \u001b[39m\u001b[38;5;132;01m%r\u001b[39;00m\u001b[38;5;124m\"\u001b[39m\n\u001b[1;32m    389\u001b[0m         \u001b[38;5;241m%\u001b[39m [\u001b[38;5;28mint\u001b[39m(l) \u001b[38;5;28;01mfor\u001b[39;00m l \u001b[38;5;129;01min\u001b[39;00m lengths]\n\u001b[1;32m    390\u001b[0m     )\n",
      "\u001b[0;31mValueError\u001b[0m: Found input variables with inconsistent numbers of samples: [18, 118]"
     ]
    }
   ],
   "source": [
    "from sklearn.tree import DecisionTreeRegressor\n",
    "from sklearn import metrics\n",
    "\n",
    "model = DecisionTreeRegressor(random_state = 0)\n",
    "model.fit(X_train, y_train)\n",
    "test_pred = model.predict(X_test)\n",
    "train_pred = model.predict(X_train)\n",
    "mae=metrics.mean_absolute_error(y_test, y_pred)\n",
    "mse=metrics.mean_squared_error(y_test, y_pred)\n",
    "print('Test set evaluation:\\n_____________________________________')\n",
    "print_evaluate(y_test, test_pred)\n",
    "\n",
    "results_df_2 = pd.DataFrame(data=[[\"Decision Tree regression\", *evaluate(y_test, test_pred) , cross_val(DecisionTreeRegressor())]], \n",
    "                          columns=['Model', 'MAE', 'MSE', 'RMSE', 'R2 Square', \"Cross Validation\"])\n",
    "results_df = results_df.append(results_df_2, ignore_index=True)"
   ]
  },
  {
   "cell_type": "code",
   "execution_count": null,
   "id": "b1991dac",
   "metadata": {},
   "outputs": [],
   "source": []
  }
 ],
 "metadata": {
  "kernelspec": {
   "display_name": "Python 3 (ipykernel)",
   "language": "python",
   "name": "python3"
  },
  "language_info": {
   "codemirror_mode": {
    "name": "ipython",
    "version": 3
   },
   "file_extension": ".py",
   "mimetype": "text/x-python",
   "name": "python",
   "nbconvert_exporter": "python",
   "pygments_lexer": "ipython3",
   "version": "3.9.6"
  }
 },
 "nbformat": 4,
 "nbformat_minor": 5
}
