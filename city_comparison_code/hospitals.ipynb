{
 "cells": [
  {
   "cell_type": "markdown",
   "id": "e719ca7b-392d-4aaa-b0af-f98502b1cd5a",
   "metadata": {},
   "source": [
    "# Average EHR Spending by City"
   ]
  },
  {
   "cell_type": "code",
   "execution_count": 242,
   "id": "5810b61d-0eaf-447e-8082-1a59b3c33c92",
   "metadata": {},
   "outputs": [],
   "source": [
    "## Import libraries\n",
    "import pandas as pd\n",
    "import numpy as np\n",
    "import matplotlib.pyplot as plt\n",
    "from sklearn import model_selection\n",
    "from sklearn.linear_model import LinearRegression\n",
    "from sklearn.linear_model import LogisticRegression\n",
    "from sklearn.tree import DecisionTreeClassifier\n",
    "from sklearn.neighbors import KNeighborsClassifier\n",
    "from sklearn.discriminant_analysis import LinearDiscriminantAnalysis\n",
    "from sklearn.naive_bayes import GaussianNB\n",
    "from sklearn.svm import SVC\n",
    "from scipy import stats\n",
    "import seaborn as sns"
   ]
  },
  {
   "cell_type": "code",
   "execution_count": 243,
   "id": "d6a174fe-2dac-4065-9713-30bd1795b4f1",
   "metadata": {},
   "outputs": [],
   "source": [
    "## Load the datasets\n",
    "df_ehr_provider = pd.read_csv('EHR_Incentive_Program_Payments_Providers.csv')\n",
    "df_ehr_hospital = pd.read_csv('EHR_Incentive_Program_Payments_Hospitals.csv')\n",
    "df_city_revenue = pd.read_csv('City_Revenues_Per_Capita.csv')\n",
    "df_city_expenditure = pd.read_csv('City_Expenditures_Per_Capita.csv')"
   ]
  },
  {
   "cell_type": "markdown",
   "id": "dae5db2f",
   "metadata": {},
   "source": [
    "## Analysis for EHR per Capita for Individual Healthcare Providers"
   ]
  },
  {
   "cell_type": "code",
   "execution_count": 244,
   "id": "a477cd9b-11ec-4271-840f-4e974d0b2113",
   "metadata": {},
   "outputs": [
    {
     "data": {
      "text/html": [
       "<div>\n",
       "<style scoped>\n",
       "    .dataframe tbody tr th:only-of-type {\n",
       "        vertical-align: middle;\n",
       "    }\n",
       "\n",
       "    .dataframe tbody tr th {\n",
       "        vertical-align: top;\n",
       "    }\n",
       "\n",
       "    .dataframe thead th {\n",
       "        text-align: right;\n",
       "    }\n",
       "</style>\n",
       "<table border=\"1\" class=\"dataframe\">\n",
       "  <thead>\n",
       "    <tr style=\"text-align: right;\">\n",
       "      <th></th>\n",
       "      <th>Business_City</th>\n",
       "      <th>total_payments</th>\n",
       "      <th>Last_Payment_Year</th>\n",
       "    </tr>\n",
       "  </thead>\n",
       "  <tbody>\n",
       "    <tr>\n",
       "      <th>0</th>\n",
       "      <td>Eureka</td>\n",
       "      <td>1530950.70</td>\n",
       "      <td>2016</td>\n",
       "    </tr>\n",
       "    <tr>\n",
       "      <th>1</th>\n",
       "      <td>Hayward</td>\n",
       "      <td>3245920.28</td>\n",
       "      <td>2016</td>\n",
       "    </tr>\n",
       "    <tr>\n",
       "      <th>2</th>\n",
       "      <td>Napa</td>\n",
       "      <td>1262015.89</td>\n",
       "      <td>2016</td>\n",
       "    </tr>\n",
       "    <tr>\n",
       "      <th>3</th>\n",
       "      <td>Jackson</td>\n",
       "      <td>865130.13</td>\n",
       "      <td>2019</td>\n",
       "    </tr>\n",
       "    <tr>\n",
       "      <th>4</th>\n",
       "      <td>San Francisco</td>\n",
       "      <td>984465.12</td>\n",
       "      <td>2019</td>\n",
       "    </tr>\n",
       "  </tbody>\n",
       "</table>\n",
       "</div>"
      ],
      "text/plain": [
       "   Business_City  total_payments  Last_Payment_Year\n",
       "0         Eureka      1530950.70               2016\n",
       "1        Hayward      3245920.28               2016\n",
       "2           Napa      1262015.89               2016\n",
       "3        Jackson       865130.13               2019\n",
       "4  San Francisco       984465.12               2019"
      ]
     },
     "execution_count": 244,
     "metadata": {},
     "output_type": "execute_result"
    }
   ],
   "source": [
    "# clean the noisy data\n",
    "df_ehr_hospital = df_ehr_hospital.drop(df_ehr_hospital.columns[0:7], axis=1)\n",
    "df_ehr_hospital = df_ehr_hospital.drop(df_ehr_hospital.columns[[1,2,3,4,5,6,8,9,10,11,12]], axis=1)\n",
    "#df_EHR = df_EHR.drop(['Payment__1','Payment_Cr','Payee_Name','Payee_NPI','total_rece','Latitude','Longitude','Program_Ye'],axis=1)\n",
    "df_ehr_hospital = df_ehr_hospital.dropna()\n",
    "df_ehr_hospital.head()"
   ]
  },
  {
   "cell_type": "code",
   "execution_count": 245,
   "id": "2d528d1b-053e-4627-bd2e-18bde9f8e231",
   "metadata": {},
   "outputs": [
    {
     "data": {
      "text/html": [
       "<div>\n",
       "<style scoped>\n",
       "    .dataframe tbody tr th:only-of-type {\n",
       "        vertical-align: middle;\n",
       "    }\n",
       "\n",
       "    .dataframe tbody tr th {\n",
       "        vertical-align: top;\n",
       "    }\n",
       "\n",
       "    .dataframe thead th {\n",
       "        text-align: right;\n",
       "    }\n",
       "</style>\n",
       "<table border=\"1\" class=\"dataframe\">\n",
       "  <thead>\n",
       "    <tr style=\"text-align: right;\">\n",
       "      <th></th>\n",
       "      <th>Business_City</th>\n",
       "      <th>Last_Payment_Year</th>\n",
       "      <th>total_payments</th>\n",
       "    </tr>\n",
       "  </thead>\n",
       "  <tbody>\n",
       "    <tr>\n",
       "      <th>0</th>\n",
       "      <td>alameda</td>\n",
       "      <td>2013</td>\n",
       "      <td>757172.90</td>\n",
       "    </tr>\n",
       "    <tr>\n",
       "      <th>1</th>\n",
       "      <td>alhambra</td>\n",
       "      <td>2016</td>\n",
       "      <td>1403667.18</td>\n",
       "    </tr>\n",
       "    <tr>\n",
       "      <th>2</th>\n",
       "      <td>alturas</td>\n",
       "      <td>2019</td>\n",
       "      <td>797141.17</td>\n",
       "    </tr>\n",
       "    <tr>\n",
       "      <th>3</th>\n",
       "      <td>anaheim</td>\n",
       "      <td>2015</td>\n",
       "      <td>1178754.07</td>\n",
       "    </tr>\n",
       "    <tr>\n",
       "      <th>4</th>\n",
       "      <td>anaheim</td>\n",
       "      <td>2016</td>\n",
       "      <td>5007791.81</td>\n",
       "    </tr>\n",
       "  </tbody>\n",
       "</table>\n",
       "</div>"
      ],
      "text/plain": [
       "  Business_City  Last_Payment_Year  total_payments\n",
       "0       alameda               2013       757172.90\n",
       "1      alhambra               2016      1403667.18\n",
       "2       alturas               2019       797141.17\n",
       "3       anaheim               2015      1178754.07\n",
       "4       anaheim               2016      5007791.81"
      ]
     },
     "execution_count": 245,
     "metadata": {},
     "output_type": "execute_result"
    }
   ],
   "source": [
    "## group the practitioner data by city and year, then sum the total payments\n",
    "df_ehr_hospital['Business_City'] = df_ehr_hospital['Business_City'].str.lower()\n",
    "df_ehr_hospital = df_ehr_hospital.groupby(['Business_City','Last_Payment_Year'])['total_payments'].sum().reset_index()\n",
    "df_ehr_hospital.to_csv('test_group_by_check.csv')\n",
    "df_ehr_hospital.head()"
   ]
  },
  {
   "cell_type": "code",
   "execution_count": 246,
   "id": "2141ccc7-0f89-4c2a-8b03-c5a6f5b2b8c5",
   "metadata": {},
   "outputs": [
    {
     "data": {
      "text/html": [
       "<div>\n",
       "<style scoped>\n",
       "    .dataframe tbody tr th:only-of-type {\n",
       "        vertical-align: middle;\n",
       "    }\n",
       "\n",
       "    .dataframe tbody tr th {\n",
       "        vertical-align: top;\n",
       "    }\n",
       "\n",
       "    .dataframe thead th {\n",
       "        text-align: right;\n",
       "    }\n",
       "</style>\n",
       "<table border=\"1\" class=\"dataframe\">\n",
       "  <thead>\n",
       "    <tr style=\"text-align: right;\">\n",
       "      <th></th>\n",
       "      <th>Entity Name</th>\n",
       "      <th>Fiscal Year</th>\n",
       "      <th>Total Revenues</th>\n",
       "      <th>Estimated Population</th>\n",
       "      <th>Revenues Per Capita</th>\n",
       "    </tr>\n",
       "  </thead>\n",
       "  <tbody>\n",
       "    <tr>\n",
       "      <th>0</th>\n",
       "      <td>adelanto</td>\n",
       "      <td>2021</td>\n",
       "      <td>22556106</td>\n",
       "      <td>36569.0</td>\n",
       "      <td>617.0</td>\n",
       "    </tr>\n",
       "    <tr>\n",
       "      <th>1</th>\n",
       "      <td>adelanto</td>\n",
       "      <td>2020</td>\n",
       "      <td>20455012</td>\n",
       "      <td>35663.0</td>\n",
       "      <td>574.0</td>\n",
       "    </tr>\n",
       "    <tr>\n",
       "      <th>2</th>\n",
       "      <td>adelanto</td>\n",
       "      <td>2019</td>\n",
       "      <td>20232000</td>\n",
       "      <td>35136.0</td>\n",
       "      <td>576.0</td>\n",
       "    </tr>\n",
       "    <tr>\n",
       "      <th>3</th>\n",
       "      <td>adelanto</td>\n",
       "      <td>2018</td>\n",
       "      <td>18224861</td>\n",
       "      <td>35293.0</td>\n",
       "      <td>516.0</td>\n",
       "    </tr>\n",
       "    <tr>\n",
       "      <th>4</th>\n",
       "      <td>adelanto</td>\n",
       "      <td>2017</td>\n",
       "      <td>15171753</td>\n",
       "      <td>34273.0</td>\n",
       "      <td>443.0</td>\n",
       "    </tr>\n",
       "  </tbody>\n",
       "</table>\n",
       "</div>"
      ],
      "text/plain": [
       "  Entity Name  Fiscal Year  Total Revenues  Estimated Population  \\\n",
       "0    adelanto         2021        22556106               36569.0   \n",
       "1    adelanto         2020        20455012               35663.0   \n",
       "2    adelanto         2019        20232000               35136.0   \n",
       "3    adelanto         2018        18224861               35293.0   \n",
       "4    adelanto         2017        15171753               34273.0   \n",
       "\n",
       "   Revenues Per Capita  \n",
       "0                617.0  \n",
       "1                574.0  \n",
       "2                576.0  \n",
       "3                516.0  \n",
       "4                443.0  "
      ]
     },
     "execution_count": 246,
     "metadata": {},
     "output_type": "execute_result"
    }
   ],
   "source": [
    "#change all Entity Names to lower case\n",
    "df_city_revenue['Entity Name'] = df_city_revenue['Entity Name'].str.lower()\n",
    "df_city_revenue.head()"
   ]
  },
  {
   "cell_type": "code",
   "execution_count": 247,
   "id": "850cebec",
   "metadata": {},
   "outputs": [
    {
     "data": {
      "text/html": [
       "<div>\n",
       "<style scoped>\n",
       "    .dataframe tbody tr th:only-of-type {\n",
       "        vertical-align: middle;\n",
       "    }\n",
       "\n",
       "    .dataframe tbody tr th {\n",
       "        vertical-align: top;\n",
       "    }\n",
       "\n",
       "    .dataframe thead th {\n",
       "        text-align: right;\n",
       "    }\n",
       "</style>\n",
       "<table border=\"1\" class=\"dataframe\">\n",
       "  <thead>\n",
       "    <tr style=\"text-align: right;\">\n",
       "      <th></th>\n",
       "      <th>Entity Name</th>\n",
       "      <th>Fiscal Year</th>\n",
       "      <th>Total Expenditures</th>\n",
       "      <th>Estimated Population</th>\n",
       "      <th>Expenditures Per Capita</th>\n",
       "    </tr>\n",
       "  </thead>\n",
       "  <tbody>\n",
       "    <tr>\n",
       "      <th>0</th>\n",
       "      <td>adelanto</td>\n",
       "      <td>2021</td>\n",
       "      <td>20580944</td>\n",
       "      <td>36569.0</td>\n",
       "      <td>563.0</td>\n",
       "    </tr>\n",
       "    <tr>\n",
       "      <th>1</th>\n",
       "      <td>adelanto</td>\n",
       "      <td>2020</td>\n",
       "      <td>26376314</td>\n",
       "      <td>35663.0</td>\n",
       "      <td>740.0</td>\n",
       "    </tr>\n",
       "    <tr>\n",
       "      <th>2</th>\n",
       "      <td>adelanto</td>\n",
       "      <td>2019</td>\n",
       "      <td>30886709</td>\n",
       "      <td>35136.0</td>\n",
       "      <td>879.0</td>\n",
       "    </tr>\n",
       "    <tr>\n",
       "      <th>3</th>\n",
       "      <td>adelanto</td>\n",
       "      <td>2018</td>\n",
       "      <td>20531571</td>\n",
       "      <td>35293.0</td>\n",
       "      <td>582.0</td>\n",
       "    </tr>\n",
       "    <tr>\n",
       "      <th>4</th>\n",
       "      <td>adelanto</td>\n",
       "      <td>2017</td>\n",
       "      <td>16035685</td>\n",
       "      <td>34273.0</td>\n",
       "      <td>468.0</td>\n",
       "    </tr>\n",
       "  </tbody>\n",
       "</table>\n",
       "</div>"
      ],
      "text/plain": [
       "  Entity Name  Fiscal Year  Total Expenditures  Estimated Population  \\\n",
       "0    adelanto         2021            20580944               36569.0   \n",
       "1    adelanto         2020            26376314               35663.0   \n",
       "2    adelanto         2019            30886709               35136.0   \n",
       "3    adelanto         2018            20531571               35293.0   \n",
       "4    adelanto         2017            16035685               34273.0   \n",
       "\n",
       "   Expenditures Per Capita  \n",
       "0                    563.0  \n",
       "1                    740.0  \n",
       "2                    879.0  \n",
       "3                    582.0  \n",
       "4                    468.0  "
      ]
     },
     "execution_count": 247,
     "metadata": {},
     "output_type": "execute_result"
    }
   ],
   "source": [
    "df_city_expenditure['Entity Name'] = df_city_revenue['Entity Name'].str.lower()\n",
    "df_city_expenditure.head()"
   ]
  },
  {
   "cell_type": "code",
   "execution_count": 248,
   "id": "5a0e0e74-4c4f-4ef6-810b-10fe107cbfc1",
   "metadata": {},
   "outputs": [
    {
     "data": {
      "text/html": [
       "<div>\n",
       "<style scoped>\n",
       "    .dataframe tbody tr th:only-of-type {\n",
       "        vertical-align: middle;\n",
       "    }\n",
       "\n",
       "    .dataframe tbody tr th {\n",
       "        vertical-align: top;\n",
       "    }\n",
       "\n",
       "    .dataframe thead th {\n",
       "        text-align: right;\n",
       "    }\n",
       "</style>\n",
       "<table border=\"1\" class=\"dataframe\">\n",
       "  <thead>\n",
       "    <tr style=\"text-align: right;\">\n",
       "      <th></th>\n",
       "      <th>Business_City</th>\n",
       "      <th>Last_Payment_Year</th>\n",
       "      <th>total_payments</th>\n",
       "      <th>Entity Name</th>\n",
       "      <th>Fiscal Year</th>\n",
       "      <th>Total Revenues</th>\n",
       "      <th>Estimated Population</th>\n",
       "      <th>Revenues Per Capita</th>\n",
       "    </tr>\n",
       "  </thead>\n",
       "  <tbody>\n",
       "    <tr>\n",
       "      <th>0</th>\n",
       "      <td>alameda</td>\n",
       "      <td>2013</td>\n",
       "      <td>757172.90</td>\n",
       "      <td>alameda</td>\n",
       "      <td>2013</td>\n",
       "      <td>166123124</td>\n",
       "      <td>75126.0</td>\n",
       "      <td>2211.0</td>\n",
       "    </tr>\n",
       "    <tr>\n",
       "      <th>1</th>\n",
       "      <td>alhambra</td>\n",
       "      <td>2016</td>\n",
       "      <td>1403667.18</td>\n",
       "      <td>alhambra</td>\n",
       "      <td>2016</td>\n",
       "      <td>115993675</td>\n",
       "      <td>86782.0</td>\n",
       "      <td>1337.0</td>\n",
       "    </tr>\n",
       "    <tr>\n",
       "      <th>2</th>\n",
       "      <td>alturas</td>\n",
       "      <td>2019</td>\n",
       "      <td>797141.17</td>\n",
       "      <td>alturas</td>\n",
       "      <td>2019</td>\n",
       "      <td>5008239</td>\n",
       "      <td>2755.0</td>\n",
       "      <td>1818.0</td>\n",
       "    </tr>\n",
       "    <tr>\n",
       "      <th>3</th>\n",
       "      <td>anaheim</td>\n",
       "      <td>2015</td>\n",
       "      <td>1178754.07</td>\n",
       "      <td>anaheim</td>\n",
       "      <td>2015</td>\n",
       "      <td>1315642721</td>\n",
       "      <td>351433.0</td>\n",
       "      <td>3744.0</td>\n",
       "    </tr>\n",
       "    <tr>\n",
       "      <th>4</th>\n",
       "      <td>anaheim</td>\n",
       "      <td>2016</td>\n",
       "      <td>5007791.81</td>\n",
       "      <td>anaheim</td>\n",
       "      <td>2016</td>\n",
       "      <td>1177907888</td>\n",
       "      <td>358136.0</td>\n",
       "      <td>3289.0</td>\n",
       "    </tr>\n",
       "  </tbody>\n",
       "</table>\n",
       "</div>"
      ],
      "text/plain": [
       "  Business_City  Last_Payment_Year  total_payments Entity Name  Fiscal Year  \\\n",
       "0       alameda               2013       757172.90     alameda         2013   \n",
       "1      alhambra               2016      1403667.18    alhambra         2016   \n",
       "2       alturas               2019       797141.17     alturas         2019   \n",
       "3       anaheim               2015      1178754.07     anaheim         2015   \n",
       "4       anaheim               2016      5007791.81     anaheim         2016   \n",
       "\n",
       "   Total Revenues  Estimated Population  Revenues Per Capita  \n",
       "0       166123124               75126.0               2211.0  \n",
       "1       115993675               86782.0               1337.0  \n",
       "2         5008239                2755.0               1818.0  \n",
       "3      1315642721              351433.0               3744.0  \n",
       "4      1177907888              358136.0               3289.0  "
      ]
     },
     "execution_count": 248,
     "metadata": {},
     "output_type": "execute_result"
    }
   ],
   "source": [
    "## merge the provider dataset with the city revenue dataset\n",
    "df_hospital_city = df_ehr_hospital.merge(df_city_revenue, how=\"inner\",left_on=['Business_City','Last_Payment_Year'],right_on=['Entity Name','Fiscal Year'])\n",
    "df_hospital_city.head()"
   ]
  },
  {
   "cell_type": "code",
   "execution_count": 249,
   "id": "9642d67e-c4ef-45a8-9614-43be5f881c76",
   "metadata": {},
   "outputs": [
    {
     "data": {
      "text/html": [
       "<div>\n",
       "<style scoped>\n",
       "    .dataframe tbody tr th:only-of-type {\n",
       "        vertical-align: middle;\n",
       "    }\n",
       "\n",
       "    .dataframe tbody tr th {\n",
       "        vertical-align: top;\n",
       "    }\n",
       "\n",
       "    .dataframe thead th {\n",
       "        text-align: right;\n",
       "    }\n",
       "</style>\n",
       "<table border=\"1\" class=\"dataframe\">\n",
       "  <thead>\n",
       "    <tr style=\"text-align: right;\">\n",
       "      <th></th>\n",
       "      <th>Business_City</th>\n",
       "      <th>Last_Payment_Year</th>\n",
       "      <th>total_payments</th>\n",
       "      <th>Total Revenues</th>\n",
       "      <th>Estimated Population</th>\n",
       "      <th>Revenues Per Capita</th>\n",
       "    </tr>\n",
       "  </thead>\n",
       "  <tbody>\n",
       "    <tr>\n",
       "      <th>0</th>\n",
       "      <td>alameda</td>\n",
       "      <td>2013</td>\n",
       "      <td>757172.90</td>\n",
       "      <td>166123124</td>\n",
       "      <td>75126.0</td>\n",
       "      <td>2211.0</td>\n",
       "    </tr>\n",
       "    <tr>\n",
       "      <th>1</th>\n",
       "      <td>alhambra</td>\n",
       "      <td>2016</td>\n",
       "      <td>1403667.18</td>\n",
       "      <td>115993675</td>\n",
       "      <td>86782.0</td>\n",
       "      <td>1337.0</td>\n",
       "    </tr>\n",
       "    <tr>\n",
       "      <th>2</th>\n",
       "      <td>alturas</td>\n",
       "      <td>2019</td>\n",
       "      <td>797141.17</td>\n",
       "      <td>5008239</td>\n",
       "      <td>2755.0</td>\n",
       "      <td>1818.0</td>\n",
       "    </tr>\n",
       "    <tr>\n",
       "      <th>3</th>\n",
       "      <td>anaheim</td>\n",
       "      <td>2015</td>\n",
       "      <td>1178754.07</td>\n",
       "      <td>1315642721</td>\n",
       "      <td>351433.0</td>\n",
       "      <td>3744.0</td>\n",
       "    </tr>\n",
       "    <tr>\n",
       "      <th>4</th>\n",
       "      <td>anaheim</td>\n",
       "      <td>2016</td>\n",
       "      <td>5007791.81</td>\n",
       "      <td>1177907888</td>\n",
       "      <td>358136.0</td>\n",
       "      <td>3289.0</td>\n",
       "    </tr>\n",
       "  </tbody>\n",
       "</table>\n",
       "</div>"
      ],
      "text/plain": [
       "  Business_City  Last_Payment_Year  total_payments  Total Revenues  \\\n",
       "0       alameda               2013       757172.90       166123124   \n",
       "1      alhambra               2016      1403667.18       115993675   \n",
       "2       alturas               2019       797141.17         5008239   \n",
       "3       anaheim               2015      1178754.07      1315642721   \n",
       "4       anaheim               2016      5007791.81      1177907888   \n",
       "\n",
       "   Estimated Population  Revenues Per Capita  \n",
       "0               75126.0               2211.0  \n",
       "1               86782.0               1337.0  \n",
       "2                2755.0               1818.0  \n",
       "3              351433.0               3744.0  \n",
       "4              358136.0               3289.0  "
      ]
     },
     "execution_count": 249,
     "metadata": {},
     "output_type": "execute_result"
    }
   ],
   "source": [
    "## drop the duplicate columns\n",
    "df_hospital_city = df_hospital_city.drop(['Entity Name','Fiscal Year'], axis=1)\n",
    "df_hospital_city.head()"
   ]
  },
  {
   "cell_type": "code",
   "execution_count": 250,
   "id": "0168bd19",
   "metadata": {},
   "outputs": [
    {
     "data": {
      "text/html": [
       "<div>\n",
       "<style scoped>\n",
       "    .dataframe tbody tr th:only-of-type {\n",
       "        vertical-align: middle;\n",
       "    }\n",
       "\n",
       "    .dataframe tbody tr th {\n",
       "        vertical-align: top;\n",
       "    }\n",
       "\n",
       "    .dataframe thead th {\n",
       "        text-align: right;\n",
       "    }\n",
       "</style>\n",
       "<table border=\"1\" class=\"dataframe\">\n",
       "  <thead>\n",
       "    <tr style=\"text-align: right;\">\n",
       "      <th></th>\n",
       "      <th>Business_City</th>\n",
       "      <th>Last_Payment_Year</th>\n",
       "      <th>total_payments</th>\n",
       "      <th>Total Revenues</th>\n",
       "      <th>Estimated Population</th>\n",
       "      <th>Revenues Per Capita</th>\n",
       "      <th>Total Expenditures</th>\n",
       "      <th>Expenditures Per Capita</th>\n",
       "    </tr>\n",
       "  </thead>\n",
       "  <tbody>\n",
       "    <tr>\n",
       "      <th>0</th>\n",
       "      <td>alameda</td>\n",
       "      <td>2013</td>\n",
       "      <td>757172.90</td>\n",
       "      <td>166123124</td>\n",
       "      <td>75126.0</td>\n",
       "      <td>2211.0</td>\n",
       "      <td>157177102</td>\n",
       "      <td>2092.0</td>\n",
       "    </tr>\n",
       "    <tr>\n",
       "      <th>1</th>\n",
       "      <td>alhambra</td>\n",
       "      <td>2016</td>\n",
       "      <td>1403667.18</td>\n",
       "      <td>115993675</td>\n",
       "      <td>86782.0</td>\n",
       "      <td>1337.0</td>\n",
       "      <td>108343335</td>\n",
       "      <td>1248.0</td>\n",
       "    </tr>\n",
       "    <tr>\n",
       "      <th>2</th>\n",
       "      <td>alturas</td>\n",
       "      <td>2019</td>\n",
       "      <td>797141.17</td>\n",
       "      <td>5008239</td>\n",
       "      <td>2755.0</td>\n",
       "      <td>1818.0</td>\n",
       "      <td>5382306</td>\n",
       "      <td>1954.0</td>\n",
       "    </tr>\n",
       "    <tr>\n",
       "      <th>3</th>\n",
       "      <td>anaheim</td>\n",
       "      <td>2015</td>\n",
       "      <td>1178754.07</td>\n",
       "      <td>1315642721</td>\n",
       "      <td>351433.0</td>\n",
       "      <td>3744.0</td>\n",
       "      <td>1360977806</td>\n",
       "      <td>3873.0</td>\n",
       "    </tr>\n",
       "    <tr>\n",
       "      <th>4</th>\n",
       "      <td>anaheim</td>\n",
       "      <td>2016</td>\n",
       "      <td>5007791.81</td>\n",
       "      <td>1177907888</td>\n",
       "      <td>358136.0</td>\n",
       "      <td>3289.0</td>\n",
       "      <td>1184264881</td>\n",
       "      <td>3307.0</td>\n",
       "    </tr>\n",
       "  </tbody>\n",
       "</table>\n",
       "</div>"
      ],
      "text/plain": [
       "  Business_City  Last_Payment_Year  total_payments  Total Revenues  \\\n",
       "0       alameda               2013       757172.90       166123124   \n",
       "1      alhambra               2016      1403667.18       115993675   \n",
       "2       alturas               2019       797141.17         5008239   \n",
       "3       anaheim               2015      1178754.07      1315642721   \n",
       "4       anaheim               2016      5007791.81      1177907888   \n",
       "\n",
       "   Estimated Population  Revenues Per Capita  Total Expenditures  \\\n",
       "0               75126.0               2211.0           157177102   \n",
       "1               86782.0               1337.0           108343335   \n",
       "2                2755.0               1818.0             5382306   \n",
       "3              351433.0               3744.0          1360977806   \n",
       "4              358136.0               3289.0          1184264881   \n",
       "\n",
       "   Expenditures Per Capita  \n",
       "0                   2092.0  \n",
       "1                   1248.0  \n",
       "2                   1954.0  \n",
       "3                   3873.0  \n",
       "4                   3307.0  "
      ]
     },
     "execution_count": 250,
     "metadata": {},
     "output_type": "execute_result"
    }
   ],
   "source": [
    "## merge with the city expenditure dataset\n",
    "df_hospital_city = df_hospital_city.merge(df_city_expenditure, how=\"inner\",left_on=['Business_City','Last_Payment_Year', 'Estimated Population'],right_on=['Entity Name','Fiscal Year', 'Estimated Population'])\n",
    "df_hospital_city = df_hospital_city.drop(['Entity Name','Fiscal Year'], axis=1)\n",
    "df_hospital_city.head()"
   ]
  },
  {
   "cell_type": "code",
   "execution_count": 251,
   "id": "fdb0e077-3179-40c4-b79d-d6cdb83978dd",
   "metadata": {},
   "outputs": [],
   "source": [
    "df_hospital_city.to_csv('ultimate_test.csv')"
   ]
  },
  {
   "cell_type": "code",
   "execution_count": 252,
   "id": "f0470396-ab71-4076-a75f-cf74f9f8d6ad",
   "metadata": {},
   "outputs": [
    {
     "data": {
      "text/html": [
       "<div>\n",
       "<style scoped>\n",
       "    .dataframe tbody tr th:only-of-type {\n",
       "        vertical-align: middle;\n",
       "    }\n",
       "\n",
       "    .dataframe tbody tr th {\n",
       "        vertical-align: top;\n",
       "    }\n",
       "\n",
       "    .dataframe thead th {\n",
       "        text-align: right;\n",
       "    }\n",
       "</style>\n",
       "<table border=\"1\" class=\"dataframe\">\n",
       "  <thead>\n",
       "    <tr style=\"text-align: right;\">\n",
       "      <th></th>\n",
       "      <th>Business_City</th>\n",
       "      <th>Last_Payment_Year</th>\n",
       "      <th>total_payments</th>\n",
       "      <th>Total Revenues</th>\n",
       "      <th>Estimated Population</th>\n",
       "      <th>Revenues Per Capita</th>\n",
       "      <th>Total Expenditures</th>\n",
       "      <th>Expenditures Per Capita</th>\n",
       "    </tr>\n",
       "  </thead>\n",
       "  <tbody>\n",
       "    <tr>\n",
       "      <th>0</th>\n",
       "      <td>alameda</td>\n",
       "      <td>2013</td>\n",
       "      <td>757172.90</td>\n",
       "      <td>166123124</td>\n",
       "      <td>75126.0</td>\n",
       "      <td>2211.0</td>\n",
       "      <td>157177102</td>\n",
       "      <td>2092.0</td>\n",
       "    </tr>\n",
       "    <tr>\n",
       "      <th>1</th>\n",
       "      <td>alhambra</td>\n",
       "      <td>2016</td>\n",
       "      <td>1403667.18</td>\n",
       "      <td>115993675</td>\n",
       "      <td>86782.0</td>\n",
       "      <td>1337.0</td>\n",
       "      <td>108343335</td>\n",
       "      <td>1248.0</td>\n",
       "    </tr>\n",
       "    <tr>\n",
       "      <th>2</th>\n",
       "      <td>alturas</td>\n",
       "      <td>2019</td>\n",
       "      <td>797141.17</td>\n",
       "      <td>5008239</td>\n",
       "      <td>2755.0</td>\n",
       "      <td>1818.0</td>\n",
       "      <td>5382306</td>\n",
       "      <td>1954.0</td>\n",
       "    </tr>\n",
       "    <tr>\n",
       "      <th>3</th>\n",
       "      <td>anaheim</td>\n",
       "      <td>2015</td>\n",
       "      <td>1178754.07</td>\n",
       "      <td>1315642721</td>\n",
       "      <td>351433.0</td>\n",
       "      <td>3744.0</td>\n",
       "      <td>1360977806</td>\n",
       "      <td>3873.0</td>\n",
       "    </tr>\n",
       "    <tr>\n",
       "      <th>4</th>\n",
       "      <td>anaheim</td>\n",
       "      <td>2016</td>\n",
       "      <td>5007791.81</td>\n",
       "      <td>1177907888</td>\n",
       "      <td>358136.0</td>\n",
       "      <td>3289.0</td>\n",
       "      <td>1184264881</td>\n",
       "      <td>3307.0</td>\n",
       "    </tr>\n",
       "  </tbody>\n",
       "</table>\n",
       "</div>"
      ],
      "text/plain": [
       "  Business_City  Last_Payment_Year  total_payments  Total Revenues  \\\n",
       "0       alameda               2013       757172.90       166123124   \n",
       "1      alhambra               2016      1403667.18       115993675   \n",
       "2       alturas               2019       797141.17         5008239   \n",
       "3       anaheim               2015      1178754.07      1315642721   \n",
       "4       anaheim               2016      5007791.81      1177907888   \n",
       "\n",
       "   Estimated Population  Revenues Per Capita  Total Expenditures  \\\n",
       "0               75126.0               2211.0           157177102   \n",
       "1               86782.0               1337.0           108343335   \n",
       "2                2755.0               1818.0             5382306   \n",
       "3              351433.0               3744.0          1360977806   \n",
       "4              358136.0               3289.0          1184264881   \n",
       "\n",
       "   Expenditures Per Capita  \n",
       "0                   2092.0  \n",
       "1                   1248.0  \n",
       "2                   1954.0  \n",
       "3                   3873.0  \n",
       "4                   3307.0  "
      ]
     },
     "execution_count": 252,
     "metadata": {},
     "output_type": "execute_result"
    }
   ],
   "source": [
    "df_hospital_city.head()"
   ]
  },
  {
   "cell_type": "code",
   "execution_count": 253,
   "id": "4f68c053-be70-47c1-b76f-3e5472faf266",
   "metadata": {},
   "outputs": [
    {
     "data": {
      "text/html": [
       "<div>\n",
       "<style scoped>\n",
       "    .dataframe tbody tr th:only-of-type {\n",
       "        vertical-align: middle;\n",
       "    }\n",
       "\n",
       "    .dataframe tbody tr th {\n",
       "        vertical-align: top;\n",
       "    }\n",
       "\n",
       "    .dataframe thead th {\n",
       "        text-align: right;\n",
       "    }\n",
       "</style>\n",
       "<table border=\"1\" class=\"dataframe\">\n",
       "  <thead>\n",
       "    <tr style=\"text-align: right;\">\n",
       "      <th></th>\n",
       "      <th>Business_City</th>\n",
       "      <th>Last_Payment_Year</th>\n",
       "      <th>total_payments</th>\n",
       "      <th>Total Revenues</th>\n",
       "      <th>Estimated Population</th>\n",
       "      <th>Revenues Per Capita</th>\n",
       "      <th>Total Expenditures</th>\n",
       "      <th>Expenditures Per Capita</th>\n",
       "      <th>EHR Per Capita</th>\n",
       "    </tr>\n",
       "  </thead>\n",
       "  <tbody>\n",
       "    <tr>\n",
       "      <th>0</th>\n",
       "      <td>alameda</td>\n",
       "      <td>2013</td>\n",
       "      <td>757172.90</td>\n",
       "      <td>166123124</td>\n",
       "      <td>75126.0</td>\n",
       "      <td>2211.0</td>\n",
       "      <td>157177102</td>\n",
       "      <td>2092.0</td>\n",
       "      <td>10.078706</td>\n",
       "    </tr>\n",
       "    <tr>\n",
       "      <th>1</th>\n",
       "      <td>alhambra</td>\n",
       "      <td>2016</td>\n",
       "      <td>1403667.18</td>\n",
       "      <td>115993675</td>\n",
       "      <td>86782.0</td>\n",
       "      <td>1337.0</td>\n",
       "      <td>108343335</td>\n",
       "      <td>1248.0</td>\n",
       "      <td>16.174635</td>\n",
       "    </tr>\n",
       "    <tr>\n",
       "      <th>2</th>\n",
       "      <td>alturas</td>\n",
       "      <td>2019</td>\n",
       "      <td>797141.17</td>\n",
       "      <td>5008239</td>\n",
       "      <td>2755.0</td>\n",
       "      <td>1818.0</td>\n",
       "      <td>5382306</td>\n",
       "      <td>1954.0</td>\n",
       "      <td>289.343437</td>\n",
       "    </tr>\n",
       "    <tr>\n",
       "      <th>3</th>\n",
       "      <td>anaheim</td>\n",
       "      <td>2015</td>\n",
       "      <td>1178754.07</td>\n",
       "      <td>1315642721</td>\n",
       "      <td>351433.0</td>\n",
       "      <td>3744.0</td>\n",
       "      <td>1360977806</td>\n",
       "      <td>3873.0</td>\n",
       "      <td>3.354136</td>\n",
       "    </tr>\n",
       "    <tr>\n",
       "      <th>4</th>\n",
       "      <td>anaheim</td>\n",
       "      <td>2016</td>\n",
       "      <td>5007791.81</td>\n",
       "      <td>1177907888</td>\n",
       "      <td>358136.0</td>\n",
       "      <td>3289.0</td>\n",
       "      <td>1184264881</td>\n",
       "      <td>3307.0</td>\n",
       "      <td>13.982933</td>\n",
       "    </tr>\n",
       "  </tbody>\n",
       "</table>\n",
       "</div>"
      ],
      "text/plain": [
       "  Business_City  Last_Payment_Year  total_payments  Total Revenues  \\\n",
       "0       alameda               2013       757172.90       166123124   \n",
       "1      alhambra               2016      1403667.18       115993675   \n",
       "2       alturas               2019       797141.17         5008239   \n",
       "3       anaheim               2015      1178754.07      1315642721   \n",
       "4       anaheim               2016      5007791.81      1177907888   \n",
       "\n",
       "   Estimated Population  Revenues Per Capita  Total Expenditures  \\\n",
       "0               75126.0               2211.0           157177102   \n",
       "1               86782.0               1337.0           108343335   \n",
       "2                2755.0               1818.0             5382306   \n",
       "3              351433.0               3744.0          1360977806   \n",
       "4              358136.0               3289.0          1184264881   \n",
       "\n",
       "   Expenditures Per Capita  EHR Per Capita  \n",
       "0                   2092.0       10.078706  \n",
       "1                   1248.0       16.174635  \n",
       "2                   1954.0      289.343437  \n",
       "3                   3873.0        3.354136  \n",
       "4                   3307.0       13.982933  "
      ]
     },
     "execution_count": 253,
     "metadata": {},
     "output_type": "execute_result"
    }
   ],
   "source": [
    "## create the \"EHR per Capita\" column by divide the total_paym by the estimated population in that year\n",
    "df_hospital_city['EHR Per Capita'] =df_hospital_city['total_payments']/df_hospital_city['Estimated Population']\n",
    "df_hospital_city.head()"
   ]
  },
  {
   "cell_type": "code",
   "execution_count": 254,
   "id": "a241e452",
   "metadata": {},
   "outputs": [
    {
     "data": {
      "text/html": [
       "<div>\n",
       "<style scoped>\n",
       "    .dataframe tbody tr th:only-of-type {\n",
       "        vertical-align: middle;\n",
       "    }\n",
       "\n",
       "    .dataframe tbody tr th {\n",
       "        vertical-align: top;\n",
       "    }\n",
       "\n",
       "    .dataframe thead th {\n",
       "        text-align: right;\n",
       "    }\n",
       "</style>\n",
       "<table border=\"1\" class=\"dataframe\">\n",
       "  <thead>\n",
       "    <tr style=\"text-align: right;\">\n",
       "      <th></th>\n",
       "      <th>Business_City</th>\n",
       "      <th>Last_Payment_Year</th>\n",
       "      <th>total_payments</th>\n",
       "      <th>Total Revenues</th>\n",
       "      <th>Estimated Population</th>\n",
       "      <th>Revenues Per Capita</th>\n",
       "      <th>Total Expenditures</th>\n",
       "      <th>Expenditures Per Capita</th>\n",
       "      <th>EHR Per Capita</th>\n",
       "    </tr>\n",
       "  </thead>\n",
       "  <tbody>\n",
       "    <tr>\n",
       "      <th>0</th>\n",
       "      <td>alameda</td>\n",
       "      <td>2013</td>\n",
       "      <td>757172.90</td>\n",
       "      <td>166123124</td>\n",
       "      <td>75126.0</td>\n",
       "      <td>2211.0</td>\n",
       "      <td>157177102</td>\n",
       "      <td>2092.0</td>\n",
       "      <td>10.078706</td>\n",
       "    </tr>\n",
       "    <tr>\n",
       "      <th>1</th>\n",
       "      <td>alhambra</td>\n",
       "      <td>2016</td>\n",
       "      <td>1403667.18</td>\n",
       "      <td>115993675</td>\n",
       "      <td>86782.0</td>\n",
       "      <td>1337.0</td>\n",
       "      <td>108343335</td>\n",
       "      <td>1248.0</td>\n",
       "      <td>16.174635</td>\n",
       "    </tr>\n",
       "    <tr>\n",
       "      <th>2</th>\n",
       "      <td>alturas</td>\n",
       "      <td>2019</td>\n",
       "      <td>797141.17</td>\n",
       "      <td>5008239</td>\n",
       "      <td>2755.0</td>\n",
       "      <td>1818.0</td>\n",
       "      <td>5382306</td>\n",
       "      <td>1954.0</td>\n",
       "      <td>289.343437</td>\n",
       "    </tr>\n",
       "    <tr>\n",
       "      <th>3</th>\n",
       "      <td>anaheim</td>\n",
       "      <td>2020</td>\n",
       "      <td>518166.28</td>\n",
       "      <td>1371402716</td>\n",
       "      <td>357325.0</td>\n",
       "      <td>3838.0</td>\n",
       "      <td>1494985018</td>\n",
       "      <td>4184.0</td>\n",
       "      <td>1.450126</td>\n",
       "    </tr>\n",
       "    <tr>\n",
       "      <th>4</th>\n",
       "      <td>antioch</td>\n",
       "      <td>2020</td>\n",
       "      <td>389401.28</td>\n",
       "      <td>152951569</td>\n",
       "      <td>112520.0</td>\n",
       "      <td>1359.0</td>\n",
       "      <td>141447334</td>\n",
       "      <td>1257.0</td>\n",
       "      <td>3.460729</td>\n",
       "    </tr>\n",
       "  </tbody>\n",
       "</table>\n",
       "</div>"
      ],
      "text/plain": [
       "  Business_City  Last_Payment_Year  total_payments  Total Revenues  \\\n",
       "0       alameda               2013       757172.90       166123124   \n",
       "1      alhambra               2016      1403667.18       115993675   \n",
       "2       alturas               2019       797141.17         5008239   \n",
       "3       anaheim               2020       518166.28      1371402716   \n",
       "4       antioch               2020       389401.28       152951569   \n",
       "\n",
       "   Estimated Population  Revenues Per Capita  Total Expenditures  \\\n",
       "0               75126.0               2211.0           157177102   \n",
       "1               86782.0               1337.0           108343335   \n",
       "2                2755.0               1818.0             5382306   \n",
       "3              357325.0               3838.0          1494985018   \n",
       "4              112520.0               1359.0           141447334   \n",
       "\n",
       "   Expenditures Per Capita  EHR Per Capita  \n",
       "0                   2092.0       10.078706  \n",
       "1                   1248.0       16.174635  \n",
       "2                   1954.0      289.343437  \n",
       "3                   4184.0        1.450126  \n",
       "4                   1257.0        3.460729  "
      ]
     },
     "execution_count": 254,
     "metadata": {},
     "output_type": "execute_result"
    }
   ],
   "source": [
    "## Get the last entry for each city as the total payment they have received\n",
    "df_hospital_city_last = df_hospital_city.groupby(['Business_City']).apply(lambda x: x.iloc[[-1]]).reset_index(drop=True)\n",
    "df_hospital_city_last.head()"
   ]
  },
  {
   "cell_type": "code",
   "execution_count": 255,
   "id": "ddb20073",
   "metadata": {},
   "outputs": [
    {
     "data": {
      "text/plain": [
       "(169, 9)"
      ]
     },
     "execution_count": 255,
     "metadata": {},
     "output_type": "execute_result"
    }
   ],
   "source": [
    "df_hospital_city_last.shape"
   ]
  },
  {
   "cell_type": "code",
   "execution_count": 256,
   "id": "b7f0ee0d",
   "metadata": {},
   "outputs": [],
   "source": [
    "df_hospital_city_last.to_csv('df_hospital_city_last.csv')"
   ]
  },
  {
   "cell_type": "markdown",
   "id": "f18ece3c",
   "metadata": {},
   "source": [
    "# Outlier treatment: \n",
    "1. log transformation for 'Expenditures Per Capita'and 'Revenues Per Capita'\n",
    "2. remove outliers using Quantile-based Flooring and Capping\n",
    "Quantile-based Flooring and Capping In this technique, we will do the flooring (e.g., the 10th percentile) for the lower values and capping (e.g., the 90th percentile) for the higher values. The lines of code below print the 10th and 90th percentiles of the variable 'Income', respectively. These values will be used for quantile-based flooring and capping."
   ]
  },
  {
   "cell_type": "code",
   "execution_count": 257,
   "id": "f4dd94fb",
   "metadata": {},
   "outputs": [
    {
     "name": "stdout",
     "output_type": "stream",
     "text": [
      "Before treatment: 3.246741226566641\n",
      "After treatment: 0.7283553361103179\n",
      "Before treatment: 2.9453606915693618\n",
      "After treatment: 0.6769105346288571\n",
      "Before treatment: 2.309122209227668\n",
      "After treatment: -1.3572718707184566\n"
     ]
    }
   ],
   "source": [
    "# Outlier treatment:\n",
    "import math\n",
    "\n",
    "print(f\"Before treatment: {df_hospital_city_last['Expenditures Per Capita'].skew()}\")\n",
    "df_hospital_city_last['Expenditures Per Capita'] = df_hospital_city_last['Expenditures Per Capita'].apply(lambda x: math.log(x)) # shrink the difference among data\n",
    "print(f\"After treatment: {df_hospital_city_last['Expenditures Per Capita'].skew()}\")\n",
    "\n",
    "print(f\"Before treatment: {df_hospital_city_last['Revenues Per Capita'].skew()}\")\n",
    "df_hospital_city_last['Revenues Per Capita'] = df_hospital_city_last['Revenues Per Capita'].apply(lambda x: math.log(x)) # shrink the difference among data\n",
    "print(f\"After treatment: {df_hospital_city_last['Revenues Per Capita'].skew()}\")\n",
    "\n",
    "print(f\"Before treatment: {df_hospital_city_last['EHR Per Capita'].skew()}\")\n",
    "df_hospital_city_last['EHR Per Capita'] = df_hospital_city_last['EHR Per Capita'].apply(lambda x: math.log(x)) # shrink the difference among data\n",
    "print(f\"After treatment: {df_hospital_city_last['EHR Per Capita'].skew()}\")"
   ]
  },
  {
   "cell_type": "code",
   "execution_count": 236,
   "id": "38f6dd6b",
   "metadata": {
    "scrolled": true
   },
   "outputs": [
    {
     "name": "stdout",
     "output_type": "stream",
     "text": [
      "BOX PLOT VALUES : \n",
      "First Quartile : 7.14\n",
      "Second Quartile : 7.85\n",
      "IQR Range : 0.71\n",
      "Lower Range : 6.08\n",
      "Upper Range : 8.92\n"
     ]
    },
    {
     "data": {
      "text/plain": [
       "[Text(0.5, 1.0, 'Revenues Per Capita')]"
      ]
     },
     "execution_count": 236,
     "metadata": {},
     "output_type": "execute_result"
    },
    {
     "data": {
      "image/png": "[encoded data removed]",
      "text/plain": [
       "<Figure size 640x480 with 1 Axes>"
      ]
     },
     "metadata": {},
     "output_type": "display_data"
    }
   ],
   "source": [
    "#determine the upper boundary and lower boundary by plotting box plot\n",
    "# remove outliers from Seaborn boxplots.\n",
    "# Outlier shown with a dot\n",
    "\n",
    "df = df_hospital_city_last.copy()\n",
    "\n",
    "import seaborn as sns \n",
    "\n",
    "def boxplot(datacolumn):\n",
    "    sorted(datacolumn)\n",
    "    Q1,Q3 = np.percentile(datacolumn , [25,75])\n",
    "    IQR = (Q3 - Q1)\n",
    "    lower_range = Q1 - (1.5 * IQR)\n",
    "    upper_range = Q3 + (1.5 * IQR)\n",
    "    return Q1,Q3,IQR,lower_range,upper_range\n",
    "\n",
    "Q1,Q3,IQR,lower_range,upper_range = boxplot(df['Revenues Per Capita'])\n",
    "print(\"BOX PLOT VALUES : \")\n",
    "print(\"First Quartile :\",Q1.round(2))\n",
    "print(\"Second Quartile :\",Q3.round(2))\n",
    "print(\"IQR Range :\",IQR.round(2))\n",
    "print(\"Lower Range :\",lower_range.round(2))\n",
    "print(\"Upper Range :\",upper_range.round(2))\n",
    "\n",
    "sns.boxplot(df['Revenues Per Capita']).set(title='Revenues Per Capita')"
   ]
  },
  {
   "cell_type": "code",
   "execution_count": 237,
   "id": "a96209a8",
   "metadata": {},
   "outputs": [
    {
     "name": "stdout",
     "output_type": "stream",
     "text": [
      "Total Range is as folows\n",
      "Lower Range : 6.08\n",
      "Upper Range : 8.92\n",
      "So Number should not be less than 'Lower Range' or more than 'Upper Range' else OUTLIERS\n",
      "Total Outlier ABOVE UPPER RANGE : 5\n",
      "Total Outlier BELOW LOWER RANGE : 0\n",
      "Total Outlier in the dataset : 5\n",
      "BOX PLOT VALUES : \n",
      "First Quartile : 7.13\n",
      "Second Quartile : 7.8\n",
      "IQR Range : 0.67\n",
      "Lower Range : 6.13\n",
      "Upper Range : 8.8\n"
     ]
    },
    {
     "data": {
      "text/plain": [
       "[Text(0.5, 1.0, 'Revenues Per Capita')]"
      ]
     },
     "execution_count": 237,
     "metadata": {},
     "output_type": "execute_result"
    },
    {
     "data": {
      "image/png": "[encoded data removed]",
      "text/plain": [
       "<Figure size 640x480 with 1 Axes>"
      ]
     },
     "metadata": {},
     "output_type": "display_data"
    }
   ],
   "source": [
    "# Upper and Lower Range of the dataset of Revenues Per Capita\n",
    "\n",
    "upper_outlier = len(df[df['Revenues Per Capita'] > upper_range])\n",
    "lower_outlier = len(df[df['Revenues Per Capita'] < lower_range])\n",
    "total = len(df[(df_hospital_city_last['Revenues Per Capita']  < lower_range) | (df['Revenues Per Capita']  > upper_range)])\n",
    "\n",
    "print(\"Total Range is as folows\")\n",
    "print(\"Lower Range :\",lower_range.round(2))\n",
    "print(\"Upper Range :\", upper_range.round(2))\n",
    "print(\"So Number should not be less than 'Lower Range' or more than 'Upper Range' else OUTLIERS\")\n",
    "print(\"Total Outlier ABOVE UPPER RANGE :\",upper_outlier)\n",
    "print(\"Total Outlier BELOW LOWER RANGE :\",lower_outlier)\n",
    "print(\"Total Outlier in the dataset :\", total)\n",
    "\n",
    "# remove outliers\n",
    "df = df[(df['Revenues Per Capita']  > lower_range) & (df['Revenues Per Capita']  < upper_range)]\n",
    "\n",
    "# Upper and Lower Range of the dataset of Expenditures Per Capita\n",
    "\n",
    "Q1,Q3,IQR,lower_range,upper_range = boxplot(df['Revenues Per Capita'])\n",
    "print(\"BOX PLOT VALUES : \")\n",
    "print(\"First Quartile :\",Q1.round(2))\n",
    "print(\"Second Quartile :\",Q3.round(2))\n",
    "print(\"IQR Range :\",IQR.round(2))\n",
    "print(\"Lower Range :\",lower_range.round(2))\n",
    "print(\"Upper Range :\",upper_range.round(2))\n",
    "\n",
    "sns.boxplot(df['Revenues Per Capita']).set(title='Revenues Per Capita')"
   ]
  },
  {
   "cell_type": "code",
   "execution_count": 238,
   "id": "88903219",
   "metadata": {},
   "outputs": [
    {
     "name": "stdout",
     "output_type": "stream",
     "text": [
      "Total Range is as folows\n",
      "Lower Range : 6.13\n",
      "Upper Range : 8.8\n",
      "So Number should not be less than 'Lower Range' or more than 'Upper Range' else OUTLIERS\n",
      "Total Outlier ABOVE UPPER RANGE : 0\n",
      "Total Outlier BELOW LOWER RANGE : 0\n",
      "Total Outlier in the dataset : 0\n",
      "BOX PLOT VALUES : \n",
      "First Quartile : 7.12\n",
      "Second Quartile : 7.78\n",
      "IQR Range : 0.67\n",
      "Lower Range : 6.12\n",
      "Upper Range : 8.78\n"
     ]
    },
    {
     "data": {
      "text/plain": [
       "[Text(0.5, 1.0, 'Expenditures Per Capita')]"
      ]
     },
     "execution_count": 238,
     "metadata": {},
     "output_type": "execute_result"
    },
    {
     "data": {
      "image/png": "[encoded data removed]",
      "text/plain": [
       "<Figure size 640x480 with 1 Axes>"
      ]
     },
     "metadata": {},
     "output_type": "display_data"
    }
   ],
   "source": [
    "# Upper and Lower Range of the dataset of Revenues Per Capita\n",
    "\n",
    "upper_outlier = len(df[df['Expenditures Per Capita'] > upper_range])\n",
    "lower_outlier = len(df[df['Expenditures Per Capita'] < lower_range])\n",
    "total = len(df[(df_hospital_city_last['Expenditures Per Capita']  < lower_range) | (df['Revenues Per Capita']  > upper_range)])\n",
    "\n",
    "print(\"Total Range is as folows\")\n",
    "print(\"Lower Range :\",lower_range.round(2))\n",
    "print(\"Upper Range :\", upper_range.round(2))\n",
    "print(\"So Number should not be less than 'Lower Range' or more than 'Upper Range' else OUTLIERS\")\n",
    "print(\"Total Outlier ABOVE UPPER RANGE :\",upper_outlier)\n",
    "print(\"Total Outlier BELOW LOWER RANGE :\",lower_outlier)\n",
    "print(\"Total Outlier in the dataset :\", total)\n",
    "\n",
    "# remove outliers\n",
    "df = df[(df['Revenues Per Capita']  > lower_range) & (df['Revenues Per Capita']  < upper_range)]\n",
    "\n",
    "# Upper and Lower Range of the dataset of Expenditures Per Capita\n",
    "\n",
    "Q1,Q3,IQR,lower_range,upper_range = boxplot(df['Expenditures Per Capita'])\n",
    "print(\"BOX PLOT VALUES : \")\n",
    "print(\"First Quartile :\",Q1.round(2))\n",
    "print(\"Second Quartile :\",Q3.round(2))\n",
    "print(\"IQR Range :\",IQR.round(2))\n",
    "print(\"Lower Range :\",lower_range.round(2))\n",
    "print(\"Upper Range :\",upper_range.round(2))\n",
    "\n",
    "sns.boxplot(df['Expenditures Per Capita']).set(title='Expenditures Per Capita')"
   ]
  },
  {
   "cell_type": "code",
   "execution_count": 239,
   "id": "15655d44",
   "metadata": {},
   "outputs": [
    {
     "data": {
      "text/plain": [
       "(164, 9)"
      ]
     },
     "execution_count": 239,
     "metadata": {},
     "output_type": "execute_result"
    }
   ],
   "source": [
    "df.shape"
   ]
  },
  {
   "cell_type": "markdown",
   "id": "5819ed49",
   "metadata": {},
   "source": [
    "# Regression Analysis"
   ]
  },
  {
   "cell_type": "code",
   "execution_count": 258,
   "id": "865594cc",
   "metadata": {},
   "outputs": [
    {
     "name": "stdout",
     "output_type": "stream",
     "text": [
      "                            OLS Regression Results                            \n",
      "==============================================================================\n",
      "Dep. Variable:                      y   R-squared:                       0.008\n",
      "Model:                            OLS   Adj. R-squared:                 -0.004\n",
      "Method:                 Least Squares   F-statistic:                    0.6930\n",
      "Date:                Sat, 10 Dec 2022   Prob (F-statistic):              0.501\n",
      "Time:                        11:46:55   Log-Likelihood:                -297.36\n",
      "No. Observations:                 169   AIC:                             600.7\n",
      "Df Residuals:                     166   BIC:                             610.1\n",
      "Df Model:                           2                                         \n",
      "Covariance Type:            nonrobust                                         \n",
      "==============================================================================\n",
      "                 coef    std err          t      P>|t|      [0.025      0.975]\n",
      "------------------------------------------------------------------------------\n",
      "Intercept      4.8118      1.423      3.381      0.001       2.002       7.622\n",
      "x              0.4493      1.026      0.438      0.662      -1.577       2.476\n",
      "z             -0.6531      1.038     -0.629      0.530      -2.702       1.396\n",
      "==============================================================================\n",
      "Omnibus:                       57.663   Durbin-Watson:                   1.882\n",
      "Prob(Omnibus):                  0.000   Jarque-Bera (JB):              189.840\n",
      "Skew:                          -1.322   Prob(JB):                     5.98e-42\n",
      "Kurtosis:                       7.469   Cond. No.                         144.\n",
      "==============================================================================\n",
      "\n",
      "Notes:\n",
      "[1] Standard Errors assume that the covariance matrix of the errors is correctly specified.\n"
     ]
    }
   ],
   "source": [
    "## Standard OLS\n",
    "import statsmodels.api as sm\n",
    "from statsmodels.formula.api import ols\n",
    "y = df_hospital_city_last['EHR Per Capita']\n",
    "x = df_hospital_city_last['Revenues Per Capita']\n",
    "z = df_hospital_city_last['Expenditures Per Capita']\n",
    "\n",
    "model = ols('y ~ x + z', data = df_hospital_city_last).fit()\n",
    "table = sm.stats.anova_lm(model)\n",
    "print(model.summary())"
   ]
  },
  {
   "cell_type": "code",
   "execution_count": null,
   "id": "20f27d05",
   "metadata": {},
   "outputs": [],
   "source": []
  },
  {
   "cell_type": "markdown",
   "id": "04a75fb5",
   "metadata": {},
   "source": [
    "### Plot the histograms"
   ]
  },
  {
   "cell_type": "code",
   "execution_count": 198,
   "id": "f646ebc4",
   "metadata": {},
   "outputs": [
    {
     "data": {
      "text/plain": [
       "Text(0.5, 1.0, 'Revenue per Capita')"
      ]
     },
     "execution_count": 198,
     "metadata": {},
     "output_type": "execute_result"
    },
    {
     "data": {
      "image/png": "[encoded data removed]",
      "text/plain": [
       "<Figure size 640x480 with 1 Axes>"
      ]
     },
     "metadata": {},
     "output_type": "display_data"
    }
   ],
   "source": [
    "## plot the histogram for revenue per capita\n",
    "## plot the histogram for revenue per capita\n",
    "plt.hist(df_hospital_city_last['Revenues Per Capita'], bins=500)\n",
    "plt.title('Revenue per Capita')"
   ]
  },
  {
   "cell_type": "code",
   "execution_count": 199,
   "id": "1cd48d8e",
   "metadata": {},
   "outputs": [
    {
     "data": {
      "text/plain": [
       "Text(0.5, 1.0, 'Expenditures per Capita')"
      ]
     },
     "execution_count": 199,
     "metadata": {},
     "output_type": "execute_result"
    },
    {
     "data": {
      "image/png": "[encoded data removed]",
      "text/plain": [
       "<Figure size 640x480 with 1 Axes>"
      ]
     },
     "metadata": {},
     "output_type": "display_data"
    }
   ],
   "source": [
    "## plot the histogram for expenditure per capita\n",
    "## plot the histogram for expenditure per capita\n",
    "plt.hist(df_hospital_city_last['Expenditures Per Capita'], bins=500)\n",
    "plt.title('Expenditures per Capita')"
   ]
  },
  {
   "cell_type": "code",
   "execution_count": 200,
   "id": "419b2a5b",
   "metadata": {},
   "outputs": [
    {
     "data": {
      "text/plain": [
       "Text(0.5, 1.0, 'EHR Per Capita')"
      ]
     },
     "execution_count": 200,
     "metadata": {},
     "output_type": "execute_result"
    },
    {
     "data": {
      "image/png": "[encoded data removed]",
      "text/plain": [
       "<Figure size 640x480 with 1 Axes>"
      ]
     },
     "metadata": {},
     "output_type": "display_data"
    }
   ],
   "source": [
    "## plot the histogram for EHR per Capita\n",
    "plt.hist(df_hospital_city_last['EHR Per Capita'], bins=500)\n",
    "plt.title('EHR Per Capita')\n"
   ]
  },
  {
   "cell_type": "code",
   "execution_count": 201,
   "id": "7b705d67",
   "metadata": {},
   "outputs": [
    {
     "data": {
      "text/plain": [
       "<AxesSubplot: xlabel='EHR Per Capita', ylabel='Density'>"
      ]
     },
     "execution_count": 201,
     "metadata": {},
     "output_type": "execute_result"
    },
    {
     "data": {
      "text/plain": [
       "<Figure size 1600x480 with 0 Axes>"
      ]
     },
     "metadata": {},
     "output_type": "display_data"
    },
    {
     "data": {
      "image/png": "[encoded data removed]",
      "text/plain": [
       "<Figure size 960x480 with 3 Axes>"
      ]
     },
     "metadata": {},
     "output_type": "display_data"
    }
   ],
   "source": [
    "# Plot the Distribution plots for the features\n",
    "# Plot the Distribution plots for the features\n",
    "import warnings\n",
    "warnings.filterwarnings('ignore')\n",
    "from matplotlib.pyplot import figure\n",
    "figure(figsize=(20, 6), dpi=80)\n",
    "\n",
    "warnings.filterwarnings('ignore')\n",
    "figure(figsize=(12, 6), dpi=80)\n",
    "plt.subplot(1,3,1)\n",
    "sns.distplot(df_hospital_city_last['Revenues Per Capita'])\n",
    "plt.subplot(1,3,2)\n",
    "sns.distplot(df_hospital_city_last['Expenditures Per Capita'])\n",
    "plt.subplot(1,3,3)\n",
    "sns.distplot(df_hospital_city_last['EHR Per Capita']) # right skewed distribution -> log transformation"
   ]
  },
  {
   "cell_type": "code",
   "execution_count": null,
   "id": "0c8ff771",
   "metadata": {},
   "outputs": [],
   "source": []
  },
  {
   "cell_type": "code",
   "execution_count": 259,
   "id": "d30515f6",
   "metadata": {},
   "outputs": [],
   "source": [
    "from sklearn import metrics\n",
    "from sklearn.metrics import mean_squared_error\n",
    "from sklearn.metrics import mean_absolute_error\n",
    "from sklearn.metrics import r2_score\n",
    "from sklearn.metrics import mean_squared_error\n",
    "from sklearn.model_selection import cross_val_score\n",
    "\n",
    "def cross_val(model):\n",
    "    pred = cross_val_score(model, X, y, cv=10)\n",
    "    return pred.mean()\n",
    "\n",
    "def print_evaluate(true, predicted):  \n",
    "    mae = metrics.mean_absolute_error(true, predicted)\n",
    "    mse = metrics.mean_squared_error(true, predicted)\n",
    "    rmse = np.sqrt(metrics.mean_squared_error(true, predicted))\n",
    "    r2_square = metrics.r2_score(true, predicted)\n",
    "    print('MAE:', mae)\n",
    "    print('MSE:', mse)\n",
    "    print('RMSE:', rmse)\n",
    "    print('R2 Square', r2_square)\n",
    "    print('__________________________________')\n",
    "    \n",
    "def evaluate(true, predicted):\n",
    "    mae = metrics.mean_absolute_error(true, predicted)\n",
    "    mse = metrics.mean_squared_error(true, predicted)\n",
    "    rmse = np.sqrt(metrics.mean_squared_error(true, predicted))\n",
    "    r2_square = metrics.r2_score(true, predicted)\n",
    "    return mae, mse, rmse, r2_square"
   ]
  },
  {
   "cell_type": "markdown",
   "id": "885e818b",
   "metadata": {},
   "source": [
    "## Regression Analysis"
   ]
  },
  {
   "cell_type": "code",
   "execution_count": 260,
   "id": "288c900d",
   "metadata": {},
   "outputs": [
    {
     "data": {
      "text/html": [
       "<style>#sk-container-id-4 {color: black;background-color: white;}#sk-container-id-4 pre{padding: 0;}#sk-container-id-4 div.sk-toggleable {background-color: white;}#sk-container-id-4 label.sk-toggleable__label {cursor: pointer;display: block;width: 100%;margin-bottom: 0;padding: 0.3em;box-sizing: border-box;text-align: center;}#sk-container-id-4 label.sk-toggleable__label-arrow:before {content: \"▸\";float: left;margin-right: 0.25em;color: #696969;}#sk-container-id-4 label.sk-toggleable__label-arrow:hover:before {color: black;}#sk-container-id-4 div.sk-estimator:hover label.sk-toggleable__label-arrow:before {color: black;}#sk-container-id-4 div.sk-toggleable__content {max-height: 0;max-width: 0;overflow: hidden;text-align: left;background-color: #f0f8ff;}#sk-container-id-4 div.sk-toggleable__content pre {margin: 0.2em;color: black;border-radius: 0.25em;background-color: #f0f8ff;}#sk-container-id-4 input.sk-toggleable__control:checked~div.sk-toggleable__content {max-height: 200px;max-width: 100%;overflow: auto;}#sk-container-id-4 input.sk-toggleable__control:checked~label.sk-toggleable__label-arrow:before {content: \"▾\";}#sk-container-id-4 div.sk-estimator input.sk-toggleable__control:checked~label.sk-toggleable__label {background-color: #d4ebff;}#sk-container-id-4 div.sk-label input.sk-toggleable__control:checked~label.sk-toggleable__label {background-color: #d4ebff;}#sk-container-id-4 input.sk-hidden--visually {border: 0;clip: rect(1px 1px 1px 1px);clip: rect(1px, 1px, 1px, 1px);height: 1px;margin: -1px;overflow: hidden;padding: 0;position: absolute;width: 1px;}#sk-container-id-4 div.sk-estimator {font-family: monospace;background-color: #f0f8ff;border: 1px dotted black;border-radius: 0.25em;box-sizing: border-box;margin-bottom: 0.5em;}#sk-container-id-4 div.sk-estimator:hover {background-color: #d4ebff;}#sk-container-id-4 div.sk-parallel-item::after {content: \"\";width: 100%;border-bottom: 1px solid gray;flex-grow: 1;}#sk-container-id-4 div.sk-label:hover label.sk-toggleable__label {background-color: #d4ebff;}#sk-container-id-4 div.sk-serial::before {content: \"\";position: absolute;border-left: 1px solid gray;box-sizing: border-box;top: 0;bottom: 0;left: 50%;z-index: 0;}#sk-container-id-4 div.sk-serial {display: flex;flex-direction: column;align-items: center;background-color: white;padding-right: 0.2em;padding-left: 0.2em;position: relative;}#sk-container-id-4 div.sk-item {position: relative;z-index: 1;}#sk-container-id-4 div.sk-parallel {display: flex;align-items: stretch;justify-content: center;background-color: white;position: relative;}#sk-container-id-4 div.sk-item::before, #sk-container-id-4 div.sk-parallel-item::before {content: \"\";position: absolute;border-left: 1px solid gray;box-sizing: border-box;top: 0;bottom: 0;left: 50%;z-index: -1;}#sk-container-id-4 div.sk-parallel-item {display: flex;flex-direction: column;z-index: 1;position: relative;background-color: white;}#sk-container-id-4 div.sk-parallel-item:first-child::after {align-self: flex-end;width: 50%;}#sk-container-id-4 div.sk-parallel-item:last-child::after {align-self: flex-start;width: 50%;}#sk-container-id-4 div.sk-parallel-item:only-child::after {width: 0;}#sk-container-id-4 div.sk-dashed-wrapped {border: 1px dashed gray;margin: 0 0.4em 0.5em 0.4em;box-sizing: border-box;padding-bottom: 0.4em;background-color: white;}#sk-container-id-4 div.sk-label label {font-family: monospace;font-weight: bold;display: inline-block;line-height: 1.2em;}#sk-container-id-4 div.sk-label-container {text-align: center;}#sk-container-id-4 div.sk-container {/* jupyter's `normalize.less` sets `[hidden] { display: none; }` but bootstrap.min.css set `[hidden] { display: none !important; }` so we also need the `!important` here to be able to override the default hidden behavior on the sphinx rendered scikit-learn.org. See: https://github.com/scikit-learn/scikit-learn/issues/21755 */display: inline-block !important;position: relative;}#sk-container-id-4 div.sk-text-repr-fallback {display: none;}</style><div id=\"sk-container-id-4\" class=\"sk-top-container\"><div class=\"sk-text-repr-fallback\"><pre>LinearRegression()</pre><b>In a Jupyter environment, please rerun this cell to show the HTML representation or trust the notebook. <br />On GitHub, the HTML representation is unable to render, please try loading this page with nbviewer.org.</b></div><div class=\"sk-container\" hidden><div class=\"sk-item\"><div class=\"sk-estimator sk-toggleable\"><input class=\"sk-toggleable__control sk-hidden--visually\" id=\"sk-estimator-id-4\" type=\"checkbox\" checked><label for=\"sk-estimator-id-4\" class=\"sk-toggleable__label sk-toggleable__label-arrow\">LinearRegression</label><div class=\"sk-toggleable__content\"><pre>LinearRegression()</pre></div></div></div></div></div>"
      ],
      "text/plain": [
       "LinearRegression()"
      ]
     },
     "execution_count": 260,
     "metadata": {},
     "output_type": "execute_result"
    },
    {
     "data": {
      "image/png": "[encoded data removed]",
      "text/plain": [
       "<Figure size 640x480 with 3 Axes>"
      ]
     },
     "metadata": {},
     "output_type": "display_data"
    }
   ],
   "source": [
    "# Plot the Distribution plots for the features\n",
    "import warnings\n",
    "warnings.filterwarnings('ignore')\n",
    "plt.subplot(1,3,1)\n",
    "sns.distplot(df_hospital_city_last['Revenues Per Capita'])\n",
    "plt.subplot(1,3,2)\n",
    "sns.distplot(df_hospital_city_last['Expenditures Per Capita'])\n",
    "plt.subplot(1,3,3)\n",
    "sns.distplot(df_hospital_city_last['EHR Per Capita']) # right skewed distribution\n",
    "# ================================================\n",
    "# Build the model\n",
    "# ================================================\n",
    "\n",
    "# Training data\n",
    "X = df_hospital_city_last[['Revenues Per Capita', 'Expenditures Per Capita']] # feature \n",
    "y = df_hospital_city_last['EHR Per Capita'] # target\n",
    "\n",
    "from sklearn.model_selection import train_test_split\n",
    "import statsmodels.api as sm\n",
    "\n",
    "# Splitting the data into train and test\n",
    "X_train, X_test, y_train, y_test = train_test_split(X,y, train_size=0.7,test_size=0.3,random_state=100)\n",
    "\n",
    "# Train the model: include an intercept to the model by default\n",
    "model = LinearRegression()\n",
    "model.fit(X_train, y_train)"
   ]
  },
  {
   "cell_type": "code",
   "execution_count": 261,
   "id": "91525a06",
   "metadata": {},
   "outputs": [
    {
     "name": "stdout",
     "output_type": "stream",
     "text": [
      "                            OLS Regression Results                            \n",
      "==============================================================================\n",
      "Dep. Variable:                      y   R-squared:                       0.008\n",
      "Model:                            OLS   Adj. R-squared:                 -0.004\n",
      "Method:                 Least Squares   F-statistic:                    0.6930\n",
      "Date:                Sat, 10 Dec 2022   Prob (F-statistic):              0.501\n",
      "Time:                        11:47:30   Log-Likelihood:                -297.36\n",
      "No. Observations:                 169   AIC:                             600.7\n",
      "Df Residuals:                     166   BIC:                             610.1\n",
      "Df Model:                           2                                         \n",
      "Covariance Type:            nonrobust                                         \n",
      "==============================================================================\n",
      "                 coef    std err          t      P>|t|      [0.025      0.975]\n",
      "------------------------------------------------------------------------------\n",
      "Intercept      4.8118      1.423      3.381      0.001       2.002       7.622\n",
      "x              0.4493      1.026      0.438      0.662      -1.577       2.476\n",
      "z             -0.6531      1.038     -0.629      0.530      -2.702       1.396\n",
      "==============================================================================\n",
      "Omnibus:                       57.663   Durbin-Watson:                   1.882\n",
      "Prob(Omnibus):                  0.000   Jarque-Bera (JB):              189.840\n",
      "Skew:                          -1.322   Prob(JB):                     5.98e-42\n",
      "Kurtosis:                       7.469   Cond. No.                         144.\n",
      "==============================================================================\n",
      "\n",
      "Notes:\n",
      "[1] Standard Errors assume that the covariance matrix of the errors is correctly specified.\n"
     ]
    }
   ],
   "source": [
    "## Standard OLS\n",
    "import statsmodels.api as sm\n",
    "from statsmodels.formula.api import ols\n",
    "\n",
    "y = df_hospital_city_last['EHR Per Capita']\n",
    "x = df_hospital_city_last['Revenues Per Capita']\n",
    "z = df_hospital_city_last['Expenditures Per Capita']\n",
    "\n",
    "model = ols('y ~ x + z', data = df_hospital_city_last).fit()\n",
    "table = sm.stats.anova_lm(model)\n",
    "print(model.summary())"
   ]
  },
  {
   "cell_type": "code",
   "execution_count": 265,
   "id": "f6222b82",
   "metadata": {},
   "outputs": [
    {
     "data": {
      "text/html": [
       "<div>\n",
       "<style scoped>\n",
       "    .dataframe tbody tr th:only-of-type {\n",
       "        vertical-align: middle;\n",
       "    }\n",
       "\n",
       "    .dataframe tbody tr th {\n",
       "        vertical-align: top;\n",
       "    }\n",
       "\n",
       "    .dataframe thead th {\n",
       "        text-align: right;\n",
       "    }\n",
       "</style>\n",
       "<table border=\"1\" class=\"dataframe\">\n",
       "  <thead>\n",
       "    <tr style=\"text-align: right;\">\n",
       "      <th></th>\n",
       "      <th>Actual</th>\n",
       "      <th>Predicted</th>\n",
       "    </tr>\n",
       "  </thead>\n",
       "  <tbody>\n",
       "    <tr>\n",
       "      <th>104</th>\n",
       "      <td>4.998501</td>\n",
       "      <td>2.909344</td>\n",
       "    </tr>\n",
       "    <tr>\n",
       "      <th>75</th>\n",
       "      <td>5.954865</td>\n",
       "      <td>3.008800</td>\n",
       "    </tr>\n",
       "    <tr>\n",
       "      <th>122</th>\n",
       "      <td>3.488749</td>\n",
       "      <td>2.669342</td>\n",
       "    </tr>\n",
       "    <tr>\n",
       "      <th>96</th>\n",
       "      <td>5.240100</td>\n",
       "      <td>3.478715</td>\n",
       "    </tr>\n",
       "    <tr>\n",
       "      <th>46</th>\n",
       "      <td>4.423066</td>\n",
       "      <td>2.880936</td>\n",
       "    </tr>\n",
       "  </tbody>\n",
       "</table>\n",
       "</div>"
      ],
      "text/plain": [
       "       Actual  Predicted\n",
       "104  4.998501   2.909344\n",
       "75   5.954865   3.008800\n",
       "122  3.488749   2.669342\n",
       "96   5.240100   3.478715\n",
       "46   4.423066   2.880936"
      ]
     },
     "execution_count": 265,
     "metadata": {},
     "output_type": "execute_result"
    }
   ],
   "source": [
    "y_pred = model.predict(X_test)\n",
    "\n",
    "# Comparing the test values and the predicted values\n",
    "comparison_df = pd.DataFrame({\"Actual\":y_test,\"Predicted\":y_pred})\n",
    "comparison_df.head()"
   ]
  },
  {
   "cell_type": "code",
   "execution_count": 266,
   "id": "c39ba13f",
   "metadata": {},
   "outputs": [
    {
     "data": {},
     "metadata": {},
     "output_type": "display_data"
    },
    {
     "data": {
      "application/vnd.holoviews_exec.v0+json": "",
      "text/html": [
       "<div id='1226'>\n",
       "  <div class=\"bk-root\" id=\"52a9b221-01e6-4511-83bd-8e5f98ccaf4f\" data-root-id=\"1226\"></div>\n",
       "</div>\n",
       "<script type=\"application/javascript\">(function(root) {\n",
       "  function embed_document(root) {\n",
       "    var docs_json = {\"d8c355bc-f008-474b-89df-ce7b9b9cd185\":{\"defs\":[{\"extends\":null,\"module\":null,\"name\":\"ReactiveHTML1\",\"overrides\":[],\"properties\":[]},{\"extends\":null,\"module\":null,\"name\":\"FlexBox1\",\"overrides\":[],\"properties\":[{\"default\":\"flex-start\",\"kind\":null,\"name\":\"align_content\"},{\"default\":\"flex-start\",\"kind\":null,\"name\":\"align_items\"},{\"default\":\"row\",\"kind\":null,\"name\":\"flex_direction\"},{\"default\":\"wrap\",\"kind\":null,\"name\":\"flex_wrap\"},{\"default\":\"flex-start\",\"kind\":null,\"name\":\"justify_content\"}]},{\"extends\":null,\"module\":null,\"name\":\"GridStack1\",\"overrides\":[],\"properties\":[{\"default\":\"warn\",\"kind\":null,\"name\":\"mode\"},{\"default\":null,\"kind\":null,\"name\":\"ncols\"},{\"default\":null,\"kind\":null,\"name\":\"nrows\"},{\"default\":true,\"kind\":null,\"name\":\"allow_resize\"},{\"default\":true,\"kind\":null,\"name\":\"allow_drag\"},{\"default\":[],\"kind\":null,\"name\":\"state\"}]},{\"extends\":null,\"module\":null,\"name\":\"click1\",\"overrides\":[],\"properties\":[{\"default\":\"\",\"kind\":null,\"name\":\"terminal_output\"},{\"default\":\"\",\"kind\":null,\"name\":\"debug_name\"},{\"default\":0,\"kind\":null,\"name\":\"clears\"}]},{\"extends\":null,\"module\":null,\"name\":\"NotificationAreaBase1\",\"overrides\":[],\"properties\":[{\"default\":\"bottom-right\",\"kind\":null,\"name\":\"position\"},{\"default\":0,\"kind\":null,\"name\":\"_clear\"}]},{\"extends\":null,\"module\":null,\"name\":\"NotificationArea1\",\"overrides\":[],\"properties\":[{\"default\":[],\"kind\":null,\"name\":\"notifications\"},{\"default\":\"bottom-right\",\"kind\":null,\"name\":\"position\"},{\"default\":0,\"kind\":null,\"name\":\"_clear\"},{\"default\":[{\"background\":\"#ffc107\",\"icon\":{\"className\":\"fas fa-exclamation-triangle\",\"color\":\"white\",\"tagName\":\"i\"},\"type\":\"warning\"},{\"background\":\"#007bff\",\"icon\":{\"className\":\"fas fa-info-circle\",\"color\":\"white\",\"tagName\":\"i\"},\"type\":\"info\"}],\"kind\":null,\"name\":\"types\"}]},{\"extends\":null,\"module\":null,\"name\":\"Notification\",\"overrides\":[],\"properties\":[{\"default\":null,\"kind\":null,\"name\":\"background\"},{\"default\":3000,\"kind\":null,\"name\":\"duration\"},{\"default\":null,\"kind\":null,\"name\":\"icon\"},{\"default\":\"\",\"kind\":null,\"name\":\"message\"},{\"default\":null,\"kind\":null,\"name\":\"notification_type\"},{\"default\":false,\"kind\":null,\"name\":\"_destroyed\"}]},{\"extends\":null,\"module\":null,\"name\":\"TemplateActions1\",\"overrides\":[],\"properties\":[{\"default\":0,\"kind\":null,\"name\":\"open_modal\"},{\"default\":0,\"kind\":null,\"name\":\"close_modal\"}]},{\"extends\":null,\"module\":null,\"name\":\"MaterialTemplateActions1\",\"overrides\":[],\"properties\":[{\"default\":0,\"kind\":null,\"name\":\"open_modal\"},{\"default\":0,\"kind\":null,\"name\":\"close_modal\"}]}],\"roots\":{\"references\":[{\"attributes\":{},\"id\":\"1274\",\"type\":\"BasicTickFormatter\"},{\"attributes\":{\"margin\":[5,5,5,5],\"name\":\"HSpacer01131\",\"sizing_mode\":\"stretch_width\"},\"id\":\"1227\",\"type\":\"Spacer\"},{\"attributes\":{},\"id\":\"1236\",\"type\":\"LinearScale\"},{\"attributes\":{\"callback\":null,\"renderers\":[{\"id\":\"1267\"}],\"tags\":[\"hv_created\"],\"tooltips\":[[\"True Values(y test)\",\"@{True_Values_left_parenthesis_y_test_right_parenthesis}\"],[\"Predicted Values\",\"@{Predicted_Values}\"]]},\"id\":\"1230\",\"type\":\"HoverTool\"},{\"attributes\":{},\"id\":\"1249\",\"type\":\"PanTool\"},{\"attributes\":{\"below\":[{\"id\":\"1240\"}],\"center\":[{\"id\":\"1243\"},{\"id\":\"1247\"}],\"height\":300,\"left\":[{\"id\":\"1244\"}],\"margin\":[5,5,5,5],\"min_border_bottom\":10,\"min_border_left\":10,\"min_border_right\":10,\"min_border_top\":10,\"renderers\":[{\"id\":\"1267\"}],\"sizing_mode\":\"fixed\",\"title\":{\"id\":\"1232\"},\"toolbar\":{\"id\":\"1254\"},\"width\":700,\"x_range\":{\"id\":\"1228\"},\"x_scale\":{\"id\":\"1236\"},\"y_range\":{\"id\":\"1229\"},\"y_scale\":{\"id\":\"1238\"}},\"id\":\"1231\",\"subtype\":\"Figure\",\"type\":\"Plot\"},{\"attributes\":{},\"id\":\"1275\",\"type\":\"AllLabels\"},{\"attributes\":{\"fill_alpha\":{\"value\":0.2},\"fill_color\":{\"value\":\"#30a2da\"},\"hatch_alpha\":{\"value\":0.2},\"hatch_color\":{\"value\":\"#30a2da\"},\"line_alpha\":{\"value\":0.2},\"line_color\":{\"value\":\"#30a2da\"},\"size\":{\"value\":5.477225575051661},\"x\":{\"field\":\"True Values(y test)\"},\"y\":{\"field\":\"Predicted Values\"}},\"id\":\"1266\",\"type\":\"Scatter\"},{\"attributes\":{\"data\":{\"Predicted Values\":{\"__ndarray__\":\"zCIzLFZGB0Cpy9GhBRIIQJvMCOPPWgVASw16p2jUC0CwYFlTKAwHQIGr9KRcRglAsGF+Wnf1B0CBB5awAjQFQPGmikAfnAZAfW0KjqZRCUDrpx0/JTEGQBvK+6pGFgdAJNVMynV+CUBAkjZYV8AHQMWtR9cGFglAtbwjk9KgB0CSaACze0ILQFxXleRP+QdAxAB62af9CEBoyljC5rAIQJ7D93WCWAhATcxNymDLBkBN1zZfhLkHQH1zRjQkuAdAZKpTYUKmBkCQB43iC+4HQKWeA7DEfghAQI74w6NQB0B6uEmw8R0LQKkKuEgICAhAuw63fbEKC0AKna9DZ7EHQJc/k4PSrAdAETcN84wNCEBXKuKLxDMGQEeJKM0udAlAn1FBZCoFCkAlqranHjAHQKufex71KgpAIZKpo4ClBkB4GN1JUiQIQG5tRnq1RAZAySQdTYk2CUDLc+kY9oEIQIDC51qB/wVACmITY5MbB0DRuAdSJ74FQM43obEsrgdAfJy3TYAeB0B+DP5Tz0oHQK06UB5lvglA\",\"dtype\":\"float64\",\"order\":\"little\",\"shape\":[51]},\"Predicted_Values\":{\"__ndarray__\":\"zCIzLFZGB0Cpy9GhBRIIQJvMCOPPWgVASw16p2jUC0CwYFlTKAwHQIGr9KRcRglAsGF+Wnf1B0CBB5awAjQFQPGmikAfnAZAfW0KjqZRCUDrpx0/JTEGQBvK+6pGFgdAJNVMynV+CUBAkjZYV8AHQMWtR9cGFglAtbwjk9KgB0CSaACze0ILQFxXleRP+QdAxAB62af9CEBoyljC5rAIQJ7D93WCWAhATcxNymDLBkBN1zZfhLkHQH1zRjQkuAdAZKpTYUKmBkCQB43iC+4HQKWeA7DEfghAQI74w6NQB0B6uEmw8R0LQKkKuEgICAhAuw63fbEKC0AKna9DZ7EHQJc/k4PSrAdAETcN84wNCEBXKuKLxDMGQEeJKM0udAlAn1FBZCoFCkAlqranHjAHQKufex71KgpAIZKpo4ClBkB4GN1JUiQIQG5tRnq1RAZAySQdTYk2CUDLc+kY9oEIQIDC51qB/wVACmITY5MbB0DRuAdSJ74FQM43obEsrgdAfJy3TYAeB0B+DP5Tz0oHQK06UB5lvglA\",\"dtype\":\"float64\",\"order\":\"little\",\"shape\":[51]},\"True Values(y test)\":{\"__ndarray__\":\"uwrrB3f+E0BS4TgKyNEXQK2ZOH/16AtAANhDsNz1FEBKuQBXOLERQKC63w5wHdo/keBI8s3dEUB8RkAgRHMKQL0mS2sz8wpAj2izla9ZDkAILENdU9IRQMy9DG9+RAZAAy7pVdgb5D8jxMNME/0VQJXQpKB2ORZAFAc7xddACECcEDQmXkkGQLiPrK2MgA5ArLXH0Mw8EUAjDz6Tqi8QQPu3NDfqtP8/AmPvF8gmDUAEGkyMSggLQLPKCZyZgg9AfmwE/QBTE0AbSwfcexwOQLlPKlp4WAdAlNKnUr7UD0BekxotXx4PQGu9pKYaCgdAEwYj8n3LBkDKK8eDoJQQQL2SmpyfsBNAqOm8y0+iEUBLt2dT2RcJQI5hUqssURRAa69b4O78B0CaSueTjoEVQFUTq+7lcRFAt1wyVGBRDEA8mFjcRYUNQKosd1y/XRBAfOFFRGx3DkAgvNGwyM8RQEHCOO0zDxBAE7pUtTWgEkBBx+iVaI4UQAmwxmJOBAxAIzpEtfS7AkB01+8B/1UHQIo3wS1qmA1A\",\"dtype\":\"float64\",\"order\":\"little\",\"shape\":[51]},\"True_Values_left_parenthesis_y_test_right_parenthesis\":{\"__ndarray__\":\"uwrrB3f+E0BS4TgKyNEXQK2ZOH/16AtAANhDsNz1FEBKuQBXOLERQKC63w5wHdo/keBI8s3dEUB8RkAgRHMKQL0mS2sz8wpAj2izla9ZDkAILENdU9IRQMy9DG9+RAZAAy7pVdgb5D8jxMNME/0VQJXQpKB2ORZAFAc7xddACECcEDQmXkkGQLiPrK2MgA5ArLXH0Mw8EUAjDz6Tqi8QQPu3NDfqtP8/AmPvF8gmDUAEGkyMSggLQLPKCZyZgg9AfmwE/QBTE0AbSwfcexwOQLlPKlp4WAdAlNKnUr7UD0BekxotXx4PQGu9pKYaCgdAEwYj8n3LBkDKK8eDoJQQQL2SmpyfsBNAqOm8y0+iEUBLt2dT2RcJQI5hUqssURRAa69b4O78B0CaSueTjoEVQFUTq+7lcRFAt1wyVGBRDEA8mFjcRYUNQKosd1y/XRBAfOFFRGx3DkAgvNGwyM8RQEHCOO0zDxBAE7pUtTWgEkBBx+iVaI4UQAmwxmJOBAxAIzpEtfS7AkB01+8B/1UHQIo3wS1qmA1A\",\"dtype\":\"float64\",\"order\":\"little\",\"shape\":[51]}},\"selected\":{\"id\":\"1262\"},\"selection_policy\":{\"id\":\"1283\"}},\"id\":\"1261\",\"type\":\"ColumnDataSource\"},{\"attributes\":{\"children\":[{\"id\":\"1227\"},{\"id\":\"1231\"},{\"id\":\"1286\"}],\"margin\":[0,0,0,0],\"name\":\"Row01127\",\"tags\":[\"embedded\"]},\"id\":\"1226\",\"type\":\"Row\"},{\"attributes\":{},\"id\":\"1241\",\"type\":\"BasicTicker\"},{\"attributes\":{},\"id\":\"1262\",\"type\":\"Selection\"},{\"attributes\":{\"axis\":{\"id\":\"1244\"},\"coordinates\":null,\"dimension\":1,\"grid_line_color\":null,\"group\":null,\"ticker\":null},\"id\":\"1247\",\"type\":\"Grid\"},{\"attributes\":{\"margin\":[5,5,5,5],\"name\":\"HSpacer01132\",\"sizing_mode\":\"stretch_width\"},\"id\":\"1286\",\"type\":\"Spacer\"},{\"attributes\":{\"axis_label\":\"Predicted Values\",\"coordinates\":null,\"formatter\":{\"id\":\"1274\"},\"group\":null,\"major_label_policy\":{\"id\":\"1275\"},\"ticker\":{\"id\":\"1245\"}},\"id\":\"1244\",\"type\":\"LinearAxis\"},{\"attributes\":{},\"id\":\"1245\",\"type\":\"BasicTicker\"},{\"attributes\":{\"fill_alpha\":{\"value\":0.1},\"fill_color\":{\"value\":\"#30a2da\"},\"hatch_alpha\":{\"value\":0.1},\"hatch_color\":{\"value\":\"#30a2da\"},\"line_alpha\":{\"value\":0.1},\"line_color\":{\"value\":\"#30a2da\"},\"size\":{\"value\":5.477225575051661},\"x\":{\"field\":\"True Values(y test)\"},\"y\":{\"field\":\"Predicted Values\"}},\"id\":\"1265\",\"type\":\"Scatter\"},{\"attributes\":{\"fill_color\":{\"value\":\"#30a2da\"},\"hatch_color\":{\"value\":\"#30a2da\"},\"line_color\":{\"value\":\"#30a2da\"},\"size\":{\"value\":5.477225575051661},\"x\":{\"field\":\"True Values(y test)\"},\"y\":{\"field\":\"Predicted Values\"}},\"id\":\"1264\",\"type\":\"Scatter\"},{\"attributes\":{},\"id\":\"1250\",\"type\":\"WheelZoomTool\"},{\"attributes\":{\"source\":{\"id\":\"1261\"}},\"id\":\"1268\",\"type\":\"CDSView\"},{\"attributes\":{},\"id\":\"1248\",\"type\":\"SaveTool\"},{\"attributes\":{\"angle\":{\"value\":0.0},\"fill_alpha\":{\"value\":1.0},\"fill_color\":{\"value\":\"#30a2da\"},\"hatch_alpha\":{\"value\":1.0},\"hatch_color\":{\"value\":\"#30a2da\"},\"hatch_scale\":{\"value\":12.0},\"hatch_weight\":{\"value\":1.0},\"line_alpha\":{\"value\":1.0},\"line_cap\":{\"value\":\"butt\"},\"line_color\":{\"value\":\"#30a2da\"},\"line_dash\":{\"value\":[]},\"line_dash_offset\":{\"value\":0},\"line_join\":{\"value\":\"bevel\"},\"line_width\":{\"value\":1},\"marker\":{\"value\":\"circle\"},\"size\":{\"value\":5.477225575051661},\"x\":{\"field\":\"True Values(y test)\"},\"y\":{\"field\":\"Predicted Values\"}},\"id\":\"1269\",\"type\":\"Scatter\"},{\"attributes\":{\"coordinates\":null,\"data_source\":{\"id\":\"1261\"},\"glyph\":{\"id\":\"1264\"},\"group\":null,\"hover_glyph\":null,\"muted_glyph\":{\"id\":\"1266\"},\"nonselection_glyph\":{\"id\":\"1265\"},\"selection_glyph\":{\"id\":\"1269\"},\"view\":{\"id\":\"1268\"}},\"id\":\"1267\",\"type\":\"GlyphRenderer\"},{\"attributes\":{\"overlay\":{\"id\":\"1253\"}},\"id\":\"1251\",\"type\":\"BoxZoomTool\"},{\"attributes\":{},\"id\":\"1252\",\"type\":\"ResetTool\"},{\"attributes\":{\"end\":3.561547185226058,\"reset_end\":3.561547185226058,\"reset_start\":2.567563807196771,\"start\":2.567563807196771,\"tags\":[[[\"Predicted Values\",\"Predicted Values\",null]]]},\"id\":\"1229\",\"type\":\"Range1d\"},{\"attributes\":{\"axis_label\":\"True Values(y test)\",\"coordinates\":null,\"formatter\":{\"id\":\"1271\"},\"group\":null,\"major_label_policy\":{\"id\":\"1272\"},\"ticker\":{\"id\":\"1241\"}},\"id\":\"1240\",\"type\":\"LinearAxis\"},{\"attributes\":{\"bottom_units\":\"screen\",\"coordinates\":null,\"fill_alpha\":0.5,\"fill_color\":\"lightgrey\",\"group\":null,\"left_units\":\"screen\",\"level\":\"overlay\",\"line_alpha\":1.0,\"line_color\":\"black\",\"line_dash\":[4,4],\"line_width\":2,\"right_units\":\"screen\",\"syncable\":false,\"top_units\":\"screen\"},\"id\":\"1253\",\"type\":\"BoxAnnotation\"},{\"attributes\":{},\"id\":\"1272\",\"type\":\"AllLabels\"},{\"attributes\":{\"tools\":[{\"id\":\"1230\"},{\"id\":\"1248\"},{\"id\":\"1249\"},{\"id\":\"1250\"},{\"id\":\"1251\"},{\"id\":\"1252\"}]},\"id\":\"1254\",\"type\":\"Toolbar\"},{\"attributes\":{},\"id\":\"1283\",\"type\":\"UnionRenderers\"},{\"attributes\":{},\"id\":\"1271\",\"type\":\"BasicTickFormatter\"},{\"attributes\":{\"axis\":{\"id\":\"1240\"},\"coordinates\":null,\"grid_line_color\":null,\"group\":null,\"ticker\":null},\"id\":\"1243\",\"type\":\"Grid\"},{\"attributes\":{\"end\":6.192585422190358,\"reset_end\":6.192585422190358,\"reset_start\":0.17032596834978747,\"start\":0.17032596834978747,\"tags\":[[[\"True Values(y test)\",\"True Values(y test)\",null]]]},\"id\":\"1228\",\"type\":\"Range1d\"},{\"attributes\":{\"coordinates\":null,\"group\":null,\"text_color\":\"black\",\"text_font_size\":\"12pt\"},\"id\":\"1232\",\"type\":\"Title\"},{\"attributes\":{},\"id\":\"1238\",\"type\":\"LinearScale\"}],\"root_ids\":[\"1226\"]},\"title\":\"Bokeh Application\",\"version\":\"2.4.3\"}};\n",
       "    var render_items = [{\"docid\":\"d8c355bc-f008-474b-89df-ce7b9b9cd185\",\"root_ids\":[\"1226\"],\"roots\":{\"1226\":\"52a9b221-01e6-4511-83bd-8e5f98ccaf4f\"}}];\n",
       "    root.Bokeh.embed.embed_items_notebook(docs_json, render_items);\n",
       "    for (const render_item of render_items) {\n",
       "      for (const root_id of render_item.root_ids) {\n",
       "\tconst id_el = document.getElementById(root_id)\n",
       "\tif (id_el.children.length && (id_el.children[0].className === 'bk-root')) {\n",
       "\t  const root_el = id_el.children[0]\n",
       "\t  root_el.id = root_el.id + '-rendered'\n",
       "\t}\n",
       "      }\n",
       "    }\n",
       "  }\n",
       "  if (root.Bokeh !== undefined && root.Bokeh.Panel !== undefined) {\n",
       "    embed_document(root);\n",
       "  } else {\n",
       "    var attempts = 0;\n",
       "    var timer = setInterval(function(root) {\n",
       "      if (root.Bokeh !== undefined && root.Bokeh.Panel !== undefined) {\n",
       "        clearInterval(timer);\n",
       "        embed_document(root);\n",
       "      } else if (document.readyState == \"complete\") {\n",
       "        attempts++;\n",
       "        if (attempts > 200) {\n",
       "          clearInterval(timer);\n",
       "          console.log(\"Bokeh: ERROR: Unable to run BokehJS code because BokehJS library is missing\");\n",
       "        }\n",
       "      }\n",
       "    }, 25, root)\n",
       "  }\n",
       "})(window);</script>"
      ],
      "text/plain": [
       ":Scatter   [True Values(y test)]   (Predicted Values)"
      ]
     },
     "execution_count": 266,
     "metadata": {
      "application/vnd.holoviews_exec.v0+json": {
       "id": "1226"
      }
     },
     "output_type": "execute_result"
    }
   ],
   "source": [
    "import hvplot.pandas\n",
    "pd.DataFrame({'True Values(y test)': y_test, 'Predicted Values': y_pred}).hvplot.scatter(x='True Values(y test)', y='Predicted Values')"
   ]
  },
  {
   "cell_type": "code",
   "execution_count": 267,
   "id": "9dcbbd91",
   "metadata": {},
   "outputs": [
    {
     "data": {
      "text/html": [
       "<div>\n",
       "<style scoped>\n",
       "    .dataframe tbody tr th:only-of-type {\n",
       "        vertical-align: middle;\n",
       "    }\n",
       "\n",
       "    .dataframe tbody tr th {\n",
       "        vertical-align: top;\n",
       "    }\n",
       "\n",
       "    .dataframe thead th {\n",
       "        text-align: right;\n",
       "    }\n",
       "</style>\n",
       "<table border=\"1\" class=\"dataframe\">\n",
       "  <thead>\n",
       "    <tr style=\"text-align: right;\">\n",
       "      <th></th>\n",
       "      <th>Coefficient</th>\n",
       "    </tr>\n",
       "  </thead>\n",
       "  <tbody>\n",
       "    <tr>\n",
       "      <th>Revenues Per Capita</th>\n",
       "      <td>0.024126</td>\n",
       "    </tr>\n",
       "    <tr>\n",
       "      <th>Expenditures Per Capita</th>\n",
       "      <td>0.380432</td>\n",
       "    </tr>\n",
       "  </tbody>\n",
       "</table>\n",
       "</div>"
      ],
      "text/plain": [
       "                         Coefficient\n",
       "Revenues Per Capita         0.024126\n",
       "Expenditures Per Capita     0.380432"
      ]
     },
     "execution_count": 267,
     "metadata": {},
     "output_type": "execute_result"
    }
   ],
   "source": [
    "# coefficient\n",
    "coeff_df = pd.DataFrame(model.coef_, X.columns, columns=['Coefficient'])\n",
    "coeff_df"
   ]
  },
  {
   "cell_type": "markdown",
   "id": "0958cdfd",
   "metadata": {},
   "source": [
    "Interpreting the coefficients:\n",
    "\n",
    "Holding all other features fixed, a 1 unit increase in Revenues Per Capita and Expenditures Per Capita is associated with an increase of 11.678199 and a decrease of -7.991750 in EHR per capita respectively."
   ]
  },
  {
   "cell_type": "markdown",
   "id": "19b6c226",
   "metadata": {},
   "source": [
    "### Check the distribution of the error terms"
   ]
  },
  {
   "cell_type": "code",
   "execution_count": 268,
   "id": "f450ceb1",
   "metadata": {},
   "outputs": [
    {
     "data": {},
     "metadata": {},
     "output_type": "display_data"
    },
    {
     "data": {
      "application/vnd.holoviews_exec.v0+json": "",
      "text/html": [
       "<div id='1338'>\n",
       "  <div class=\"bk-root\" id=\"b2bb8969-012c-4dbe-b460-1c3430a68461\" data-root-id=\"1338\"></div>\n",
       "</div>\n",
       "<script type=\"application/javascript\">(function(root) {\n",
       "  function embed_document(root) {\n",
       "    var docs_json = {\"e268081b-5c30-4a15-be68-4852a2eee439\":{\"defs\":[{\"extends\":null,\"module\":null,\"name\":\"ReactiveHTML1\",\"overrides\":[],\"properties\":[]},{\"extends\":null,\"module\":null,\"name\":\"FlexBox1\",\"overrides\":[],\"properties\":[{\"default\":\"flex-start\",\"kind\":null,\"name\":\"align_content\"},{\"default\":\"flex-start\",\"kind\":null,\"name\":\"align_items\"},{\"default\":\"row\",\"kind\":null,\"name\":\"flex_direction\"},{\"default\":\"wrap\",\"kind\":null,\"name\":\"flex_wrap\"},{\"default\":\"flex-start\",\"kind\":null,\"name\":\"justify_content\"}]},{\"extends\":null,\"module\":null,\"name\":\"GridStack1\",\"overrides\":[],\"properties\":[{\"default\":\"warn\",\"kind\":null,\"name\":\"mode\"},{\"default\":null,\"kind\":null,\"name\":\"ncols\"},{\"default\":null,\"kind\":null,\"name\":\"nrows\"},{\"default\":true,\"kind\":null,\"name\":\"allow_resize\"},{\"default\":true,\"kind\":null,\"name\":\"allow_drag\"},{\"default\":[],\"kind\":null,\"name\":\"state\"}]},{\"extends\":null,\"module\":null,\"name\":\"click1\",\"overrides\":[],\"properties\":[{\"default\":\"\",\"kind\":null,\"name\":\"terminal_output\"},{\"default\":\"\",\"kind\":null,\"name\":\"debug_name\"},{\"default\":0,\"kind\":null,\"name\":\"clears\"}]},{\"extends\":null,\"module\":null,\"name\":\"NotificationAreaBase1\",\"overrides\":[],\"properties\":[{\"default\":\"bottom-right\",\"kind\":null,\"name\":\"position\"},{\"default\":0,\"kind\":null,\"name\":\"_clear\"}]},{\"extends\":null,\"module\":null,\"name\":\"NotificationArea1\",\"overrides\":[],\"properties\":[{\"default\":[],\"kind\":null,\"name\":\"notifications\"},{\"default\":\"bottom-right\",\"kind\":null,\"name\":\"position\"},{\"default\":0,\"kind\":null,\"name\":\"_clear\"},{\"default\":[{\"background\":\"#ffc107\",\"icon\":{\"className\":\"fas fa-exclamation-triangle\",\"color\":\"white\",\"tagName\":\"i\"},\"type\":\"warning\"},{\"background\":\"#007bff\",\"icon\":{\"className\":\"fas fa-info-circle\",\"color\":\"white\",\"tagName\":\"i\"},\"type\":\"info\"}],\"kind\":null,\"name\":\"types\"}]},{\"extends\":null,\"module\":null,\"name\":\"Notification\",\"overrides\":[],\"properties\":[{\"default\":null,\"kind\":null,\"name\":\"background\"},{\"default\":3000,\"kind\":null,\"name\":\"duration\"},{\"default\":null,\"kind\":null,\"name\":\"icon\"},{\"default\":\"\",\"kind\":null,\"name\":\"message\"},{\"default\":null,\"kind\":null,\"name\":\"notification_type\"},{\"default\":false,\"kind\":null,\"name\":\"_destroyed\"}]},{\"extends\":null,\"module\":null,\"name\":\"TemplateActions1\",\"overrides\":[],\"properties\":[{\"default\":0,\"kind\":null,\"name\":\"open_modal\"},{\"default\":0,\"kind\":null,\"name\":\"close_modal\"}]},{\"extends\":null,\"module\":null,\"name\":\"MaterialTemplateActions1\",\"overrides\":[],\"properties\":[{\"default\":0,\"kind\":null,\"name\":\"open_modal\"},{\"default\":0,\"kind\":null,\"name\":\"close_modal\"}]}],\"roots\":{\"references\":[{\"attributes\":{\"end\":0.40602296187347287,\"reset_end\":0.40602296187347287,\"reset_start\":0.0,\"tags\":[[[\"Error Values_density\",\"Density\",null]]]},\"id\":\"1341\",\"type\":\"Range1d\"},{\"attributes\":{\"margin\":[5,5,5,5],\"name\":\"HSpacer01257\",\"sizing_mode\":\"stretch_width\"},\"id\":\"1398\",\"type\":\"Spacer\"},{\"attributes\":{\"fill_alpha\":0.5,\"fill_color\":\"#30a2da\",\"hatch_color\":\"#30a2da\",\"x\":{\"field\":\"x\"},\"y\":{\"field\":\"y\"}},\"id\":\"1381\",\"type\":\"Patch\"},{\"attributes\":{\"coordinates\":null,\"group\":null,\"text_color\":\"black\",\"text_font_size\":\"12pt\"},\"id\":\"1344\",\"type\":\"Title\"},{\"attributes\":{\"axis_label\":\"Error Values\",\"coordinates\":null,\"formatter\":{\"id\":\"1383\"},\"group\":null,\"major_label_policy\":{\"id\":\"1384\"},\"ticker\":{\"id\":\"1353\"}},\"id\":\"1352\",\"type\":\"LinearAxis\"},{\"attributes\":{},\"id\":\"1353\",\"type\":\"BasicTicker\"},{\"attributes\":{},\"id\":\"1350\",\"type\":\"LinearScale\"},{\"attributes\":{\"axis\":{\"id\":\"1352\"},\"coordinates\":null,\"grid_line_color\":null,\"group\":null,\"ticker\":null},\"id\":\"1355\",\"type\":\"Grid\"},{\"attributes\":{},\"id\":\"1374\",\"type\":\"Selection\"},{\"attributes\":{},\"id\":\"1361\",\"type\":\"PanTool\"},{\"attributes\":{\"axis_label\":\"Density\",\"coordinates\":null,\"formatter\":{\"id\":\"1386\"},\"group\":null,\"major_label_policy\":{\"id\":\"1387\"},\"ticker\":{\"id\":\"1357\"}},\"id\":\"1356\",\"type\":\"LinearAxis\"},{\"attributes\":{\"tools\":[{\"id\":\"1342\"},{\"id\":\"1360\"},{\"id\":\"1361\"},{\"id\":\"1362\"},{\"id\":\"1363\"},{\"id\":\"1364\"}]},\"id\":\"1366\",\"type\":\"Toolbar\"},{\"attributes\":{\"axis\":{\"id\":\"1356\"},\"coordinates\":null,\"dimension\":1,\"grid_line_color\":null,\"group\":null,\"ticker\":null},\"id\":\"1359\",\"type\":\"Grid\"},{\"attributes\":{},\"id\":\"1357\",\"type\":\"BasicTicker\"},{\"attributes\":{},\"id\":\"1362\",\"type\":\"WheelZoomTool\"},{\"attributes\":{},\"id\":\"1360\",\"type\":\"SaveTool\"},{\"attributes\":{},\"id\":\"1395\",\"type\":\"UnionRenderers\"},{\"attributes\":{\"overlay\":{\"id\":\"1365\"}},\"id\":\"1363\",\"type\":\"BoxZoomTool\"},{\"attributes\":{},\"id\":\"1364\",\"type\":\"ResetTool\"},{\"attributes\":{\"fill_alpha\":0.5,\"fill_color\":\"#30a2da\",\"hatch_color\":\"#30a2da\",\"x\":{\"field\":\"x\"},\"y\":{\"field\":\"y\"}},\"id\":\"1376\",\"type\":\"Patch\"},{\"attributes\":{\"callback\":null,\"renderers\":[{\"id\":\"1379\"}],\"tags\":[\"hv_created\"],\"tooltips\":[[\"Error Values\",\"@{Error_Values}\"],[\"Density\",\"@{Error_Values_density}\"]]},\"id\":\"1342\",\"type\":\"HoverTool\"},{\"attributes\":{\"bottom_units\":\"screen\",\"coordinates\":null,\"fill_alpha\":0.5,\"fill_color\":\"lightgrey\",\"group\":null,\"left_units\":\"screen\",\"level\":\"overlay\",\"line_alpha\":1.0,\"line_color\":\"black\",\"line_dash\":[4,4],\"line_width\":2,\"right_units\":\"screen\",\"syncable\":false,\"top_units\":\"screen\"},\"id\":\"1365\",\"type\":\"BoxAnnotation\"},{\"attributes\":{\"below\":[{\"id\":\"1352\"}],\"center\":[{\"id\":\"1355\"},{\"id\":\"1359\"}],\"height\":300,\"left\":[{\"id\":\"1356\"}],\"margin\":[5,5,5,5],\"min_border_bottom\":10,\"min_border_left\":10,\"min_border_right\":10,\"min_border_top\":10,\"renderers\":[{\"id\":\"1379\"}],\"sizing_mode\":\"fixed\",\"title\":{\"id\":\"1344\"},\"toolbar\":{\"id\":\"1366\"},\"width\":700,\"x_range\":{\"id\":\"1340\"},\"x_scale\":{\"id\":\"1348\"},\"y_range\":{\"id\":\"1341\"},\"y_scale\":{\"id\":\"1350\"}},\"id\":\"1343\",\"subtype\":\"Figure\",\"type\":\"Plot\"},{\"attributes\":{},\"id\":\"1383\",\"type\":\"BasicTickFormatter\"},{\"attributes\":{\"source\":{\"id\":\"1373\"}},\"id\":\"1380\",\"type\":\"CDSView\"},{\"attributes\":{\"end\":4.5063838347041525,\"reset_end\":4.5063838347041525,\"reset_start\":-4.311628641646771,\"start\":-4.311628641646771,\"tags\":[[[\"Error Values\",\"Error Values\",null]]]},\"id\":\"1340\",\"type\":\"Range1d\"},{\"attributes\":{\"coordinates\":null,\"data_source\":{\"id\":\"1373\"},\"glyph\":{\"id\":\"1376\"},\"group\":null,\"hover_glyph\":null,\"muted_glyph\":{\"id\":\"1378\"},\"nonselection_glyph\":{\"id\":\"1377\"},\"selection_glyph\":{\"id\":\"1381\"},\"view\":{\"id\":\"1380\"}},\"id\":\"1379\",\"type\":\"GlyphRenderer\"},{\"attributes\":{},\"id\":\"1386\",\"type\":\"BasicTickFormatter\"},{\"attributes\":{},\"id\":\"1387\",\"type\":\"AllLabels\"},{\"attributes\":{\"children\":[{\"id\":\"1339\"},{\"id\":\"1343\"},{\"id\":\"1398\"}],\"margin\":[0,0,0,0],\"name\":\"Row01252\",\"tags\":[\"embedded\"]},\"id\":\"1338\",\"type\":\"Row\"},{\"attributes\":{},\"id\":\"1348\",\"type\":\"LinearScale\"},{\"attributes\":{\"fill_alpha\":0.5,\"fill_color\":\"#30a2da\",\"hatch_alpha\":0.1,\"hatch_color\":\"#30a2da\",\"line_alpha\":1,\"x\":{\"field\":\"x\"},\"y\":{\"field\":\"y\"}},\"id\":\"1377\",\"type\":\"Patch\"},{\"attributes\":{\"margin\":[5,5,5,5],\"name\":\"HSpacer01256\",\"sizing_mode\":\"stretch_width\"},\"id\":\"1339\",\"type\":\"Spacer\"},{\"attributes\":{\"data\":{\"x\":{\"__ndarray__\":\"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\",\"dtype\":\"float64\",\"order\":\"little\",\"shape\":[200]},\"y\":{\"__ndarray__\":\"AAAAAAAAAAAAAAAAAAAAAAAAAAAAAAAAAAAAAAAAAAAAAAAAAAAAAAAAAAAAAAAAAAAAAAAAAAAAAAAAAAAAAAAAAAAAAAAAAAAAAAAAAAAAAAAAAAAAAAAAAAAAAAAAAAAAAAAAAAAAAAAAAAAAAAAAAAAAAAAAAAAAAAAAAAAAAAAAAAAAAAAAAAAAAAAAAAAAAAAAAAAAAAAAAAAAAAAAAAAAAAAAAAAAAAAAAAAAAAAAAAAAAAAAAAAAAAAAAAAAAAAAAAAAAAAAAAAAAAAAAAAAAAAAAAAAAAAAAAAAAAAAAAAAAAAAAAAAAAAAAAAAAAAAAAAAAAAAAAAAAAAAAAAAAAAAAAAAAAAAAAAAAAAAAAAAAAAAAAAAAAAAAAAAAAAAAAAAAAAAAAAAAAAAAAAAAAAAAAAAAAAAAAAAAAAAAAAAAAAAAAAAAAAAAAAAAAAAAAAAAAAAAAAAAAAAAAAAAAAAAAAAAAAAAAAAAAAAAAAAAAAAAAAAAAAAAAAAAAAAAAAAAAAAAAAAAAAAAAAAAAAAAAAAAAAAAAAAAAAAAAAAAAAAAAAAAAAAAAAAAAAAAAAAAAAAAAAAAAAAAAAAAAAAAAAAAAAAAAAAAAAAAAAAAAAAAAAAAAAAAAAAAAAAAAAAAAAAAAAAAAAAAAAAAAAAAAAAAAAAAAAAAAAAAAAAAAAAAAAAAAAAAAAAAAAAAAAAAAAAAAAAAAAAAAAAAAAAAAAAAAAAAAAAAAAAAAAAAAAAAAAAAAAAAAAAAAAAAAAAAAAAAAAAAAAAAAAAAAAAAAAAAAAAAAAAAAAAAAAAAAAAAAAAAAAAAAAAAAAAAAAAAAAAAAAAAAAAAAAAAAAAAAAAAAAAAAAAAAAAAAAAAAAAAAAAAAAAAAAAAAAAAAAAAAAAAAAAAAAAAAAAAAAAAAAAAAAAAAAAAAAAAAAAAAAAAAAAAAAAAAAAAAAAAAAAAAAAAAAAAAAAAAAAAAAAAAAAAAAAAAAAAAAAAAAAAAAAAAAAAAAAAAAAAAAAAAAAAAAAAAAAAAAAAAAAAAAAAAAAAAAAAAAbLvUvtagpP2lZT8nBqTU/tHzpglvTQT/f6A9e2JpMPxLTKijwY1Y/FfWWnlYbYT/sq/ZUaYdpP/3qEBhGnXI/sGCOf8aKej8ZsLODnYOCP+0+v7RJSYk/bxGv9n3qkD8fQWl8oS+WP+kjf0LRipw/iykMCW4Foj9jvCQ3TlqmP8s00CHfQKs/Qx73VCZYsD/nRLmYU02zPwmkoyAJd7Y/KofakDrLuT90UW00uj+9Pwe9DHGaZcA/RR8WDwMzwj98negiYgXEP7QfSts428U/Qkeq1ie0xz/9MxSvrpDJP7BeDfHKccs/9V5ObIBYzT+hY7HpUkXPPwyHc33bm9A/2aI7lr+W0T88aYMAJ5HSP/v7dOaNh9M/IGaM8PN01D8awD932VLVP9g/dn9wGdY/DcExOgzA1j9FhwES0D3XP7M245SRitc/uoeqrNGf1z+1cOK/pXnXP5l/xLlkF9c/AAatc/F71j9Gb1bJi63VP+Aa4dkotdQ/Yb2eE2yd0z+35agMb3HSPwns0TaQO9E/wPH2Z30E0D/nzPzkP6XNP6iVQxryU8s/H6Qz0MkYyT+G21CTTvTGPwl+/F805cQ/I9iCGK7pwj/hH9AEeADBP+IlkfXxUr4/4vHQBOzLuj+eyxdK13C3P6wIZ9haSLQ/g5UsYt1ZsT8/HwWRR1mtP769XDhCjqg/4kWGSQldpD8ouAUg/cygP7PJLf2dxJs/C7MJC807lz8bb7kga/qTP3Zh9S7K85E/I6RolbwSkT++n6d5mDiRP75SyRiNPJI/3mRhYr7rkz+yTwakkQqWP+HxqjNsV5g/T/8hId+Omj//Ep0A5nCcP8E7euGOxp0/3kdb1Cxnnj+sXW71LjyeP1NT0/niQp0/emeRtcSLmz/PUk2nbzeZP0fpIky4cZY/u+3KWsVrkz+E9lVEIlaQP7WhgSBft4o/QCjUqyg8hT+O5sdH9GeAP4awN94GpHg/vQXfS138cT8pCsu+KoVpP+iOoqHpmGE/W7Jn0zSWVz/xInKg57lOP80U6X5Nc0M//gL4PZHuNz/7okmCyZ0sPw==\",\"dtype\":\"float64\",\"order\":\"little\",\"shape\":[200]}},\"selected\":{\"id\":\"1374\"},\"selection_policy\":{\"id\":\"1395\"}},\"id\":\"1373\",\"type\":\"ColumnDataSource\"},{\"attributes\":{\"fill_alpha\":0.2,\"fill_color\":\"#30a2da\",\"hatch_alpha\":0.2,\"hatch_color\":\"#30a2da\",\"line_alpha\":0.2,\"x\":{\"field\":\"x\"},\"y\":{\"field\":\"y\"}},\"id\":\"1378\",\"type\":\"Patch\"},{\"attributes\":{},\"id\":\"1384\",\"type\":\"AllLabels\"}],\"root_ids\":[\"1338\"]},\"title\":\"Bokeh Application\",\"version\":\"2.4.3\"}};\n",
       "    var render_items = [{\"docid\":\"e268081b-5c30-4a15-be68-4852a2eee439\",\"root_ids\":[\"1338\"],\"roots\":{\"1338\":\"b2bb8969-012c-4dbe-b460-1c3430a68461\"}}];\n",
       "    root.Bokeh.embed.embed_items_notebook(docs_json, render_items);\n",
       "    for (const render_item of render_items) {\n",
       "      for (const root_id of render_item.root_ids) {\n",
       "\tconst id_el = document.getElementById(root_id)\n",
       "\tif (id_el.children.length && (id_el.children[0].className === 'bk-root')) {\n",
       "\t  const root_el = id_el.children[0]\n",
       "\t  root_el.id = root_el.id + '-rendered'\n",
       "\t}\n",
       "      }\n",
       "    }\n",
       "  }\n",
       "  if (root.Bokeh !== undefined && root.Bokeh.Panel !== undefined) {\n",
       "    embed_document(root);\n",
       "  } else {\n",
       "    var attempts = 0;\n",
       "    var timer = setInterval(function(root) {\n",
       "      if (root.Bokeh !== undefined && root.Bokeh.Panel !== undefined) {\n",
       "        clearInterval(timer);\n",
       "        embed_document(root);\n",
       "      } else if (document.readyState == \"complete\") {\n",
       "        attempts++;\n",
       "        if (attempts > 200) {\n",
       "          clearInterval(timer);\n",
       "          console.log(\"Bokeh: ERROR: Unable to run BokehJS code because BokehJS library is missing\");\n",
       "        }\n",
       "      }\n",
       "    }, 25, root)\n",
       "  }\n",
       "})(window);</script>"
      ],
      "text/plain": [
       ":Distribution   [Error Values]   (Density)"
      ]
     },
     "execution_count": 268,
     "metadata": {
      "application/vnd.holoviews_exec.v0+json": {
       "id": "1338"
      }
     },
     "output_type": "execute_result"
    }
   ],
   "source": [
    "# Residual Histogram\n",
    "pd.DataFrame({'Error Values': (y_test - y_pred)}).hvplot.kde()"
   ]
  },
  {
   "cell_type": "markdown",
   "id": "a6ce712d",
   "metadata": {},
   "source": [
    "Check the distribution of the error terms\n",
    "In linear regression we assume that the error term follows normal distribution. So we have to check this assumption before we can use the model for making predictions. We check this by looking at the histogram of the error term visually, making sure that the error terms are normally distributed around zero and that the left and right side are broadly similar."
   ]
  },
  {
   "cell_type": "markdown",
   "id": "cc2750d9",
   "metadata": {},
   "source": [
    "### Evaluate the regression"
   ]
  },
  {
   "cell_type": "code",
   "execution_count": 269,
   "id": "83e7726a",
   "metadata": {},
   "outputs": [],
   "source": [
    "from sklearn import metrics\n",
    "from sklearn.metrics import mean_squared_error\n",
    "from sklearn.metrics import mean_absolute_error\n",
    "from sklearn.metrics import r2_score\n",
    "from sklearn.metrics import mean_squared_error\n",
    "from sklearn.model_selection import cross_val_score\n",
    "\n",
    "def cross_val(model):\n",
    "    pred = cross_val_score(model, X, y, cv=10)\n",
    "    return pred.mean()\n",
    "\n",
    "def print_evaluate(true, predicted):  \n",
    "    mae = metrics.mean_absolute_error(true, predicted)\n",
    "    mse = metrics.mean_squared_error(true, predicted)\n",
    "    rmse = np.sqrt(metrics.mean_squared_error(true, predicted))\n",
    "    r2_square = metrics.r2_score(true, predicted)\n",
    "    print('MAE:', mae)\n",
    "    print('MSE:', mse)\n",
    "    print('RMSE:', rmse)\n",
    "    print('R2 Square', r2_square)\n",
    "    print('__________________________________')\n",
    "    \n",
    "def evaluate(true, predicted):\n",
    "    mae = metrics.mean_absolute_error(true, predicted)\n",
    "    mse = metrics.mean_squared_error(true, predicted)\n",
    "    rmse = np.sqrt(metrics.mean_squared_error(true, predicted))\n",
    "    r2_square = metrics.r2_score(true, predicted)\n",
    "    return mae, mse, rmse, r2_square"
   ]
  },
  {
   "cell_type": "code",
   "execution_count": 270,
   "id": "bcec7b27",
   "metadata": {},
   "outputs": [
    {
     "name": "stdout",
     "output_type": "stream",
     "text": [
      "Test set evaluation:\n",
      "_____________________________________\n",
      "MAE: 1.1556201019649461\n",
      "MSE: 1.941815526647848\n",
      "RMSE: 1.3934904113942974\n",
      "R2 Square -0.6228104968873527\n",
      "__________________________________\n"
     ]
    }
   ],
   "source": [
    "test_pred = model.predict(X_test)\n",
    "train_pred = model.predict(X_train)\n",
    "\n",
    "print('Test set evaluation:\\n_____________________________________')\n",
    "print_evaluate(y_test, test_pred)\n",
    "\n",
    "results_df = pd.DataFrame(data=[[\"Linear Regression\", *evaluate(y_test, test_pred) , cross_val(LinearRegression())]], \n",
    "                          columns=['Model', 'MAE', 'MSE', 'RMSE', 'R2 Square', \"Cross Validation\"])"
   ]
  },
  {
   "cell_type": "code",
   "execution_count": 274,
   "id": "5e154e25",
   "metadata": {},
   "outputs": [
    {
     "name": "stdout",
     "output_type": "stream",
     "text": [
      "Test set evaluation:\n",
      "_____________________________________\n",
      "MAE: 1.1556201019649461\n",
      "MSE: 1.941815526647848\n",
      "RMSE: 1.3934904113942974\n",
      "R2 Square -0.6228104968873527\n",
      "__________________________________\n"
     ]
    }
   ],
   "source": [
    "#  don't include an intercept in your model:\n",
    "model = LinearRegression(fit_intercept = False)\n",
    "model.fit(X_train, y_train)\n",
    "\n",
    "test_pred = model.predict(X_test)\n",
    "train_pred = model.predict(X_train)\n",
    "\n",
    "print('Test set evaluation:\\n_____________________________________')\n",
    "print_evaluate(y_test, test_pred)\n",
    "\n",
    "results_df = pd.DataFrame(data=[[\"Linear Regression\", *evaluate(y_test, test_pred) , cross_val(LinearRegression())]], \n",
    "                          columns=['Model', 'MAE', 'MSE', 'RMSE', 'R2 Square', \"Cross Validation\"])"
   ]
  },
  {
   "cell_type": "markdown",
   "id": "967058e4",
   "metadata": {},
   "source": [
    "# Comparing machine learning models"
   ]
  },
  {
   "cell_type": "code",
   "execution_count": 121,
   "id": "4df3c8e3",
   "metadata": {},
   "outputs": [],
   "source": [
    "from sklearn.tree import DecisionTreeRegressor\n",
    "from sklearn.ensemble import RandomForestRegressor\n",
    "from sklearn.svm import SVR\n",
    "from sklearn.linear_model import RANSACRegressor\n",
    "from sklearn.linear_model import SGDRegressor\n",
    "from sklearn.ensemble import AdaBoostRegressor\n",
    "from sklearn.linear_model import LinearRegression\n",
    "\n",
    "from sklearn import metrics\n",
    "from sklearn.metrics import mean_squared_error\n",
    "from sklearn.metrics import mean_absolute_error\n",
    "from sklearn.metrics import r2_score\n",
    "from sklearn.metrics import mean_squared_error\n",
    "from sklearn.model_selection import cross_val_score"
   ]
  },
  {
   "cell_type": "code",
   "execution_count": 272,
   "id": "aab5a2c1",
   "metadata": {},
   "outputs": [
    {
     "name": "stdout",
     "output_type": "stream",
     "text": [
      "[LibSVM]*\n",
      "optimization finished, #iter = 94\n",
      "obj = -113.693788, rho = -3.179869\n",
      "nSV = 106, nBSV = 99\n",
      "\n",
      "  --- Decision Tree on training data ---\n",
      "           R2 Score: 0.989\n",
      " Mean Squared Error: 0.0241\n",
      "Mean Absolute Error: 0.0429\n",
      "Root Mean Square Error: 0.155\n",
      "\n",
      "  --- Random Forest on training data ---\n",
      "           R2 Score: 0.842\n",
      " Mean Squared Error: 0.344\n",
      "Mean Absolute Error: 0.438\n",
      "Root Mean Square Error: 0.586\n",
      "\n",
      "  --- Support Vector Regression on training data ---\n",
      "           R2 Score: 0.0185\n",
      " Mean Squared Error: 2.13\n",
      "Mean Absolute Error: 1.05\n",
      "Root Mean Square Error: 1.46\n",
      "\n",
      "  --- Random Sample Consensus on training data ---\n",
      "           R2 Score: 0.00135\n",
      " Mean Squared Error: 2.17\n",
      "Mean Absolute Error: 1.08\n",
      "Root Mean Square Error: 1.47\n",
      "\n",
      "  --- Stochastic Gradient Descent on training data ---\n",
      "           R2 Score: -0.0413\n",
      " Mean Squared Error: 2.26\n",
      "Mean Absolute Error: 1.12\n",
      "Root Mean Square Error: 1.5\n",
      "\n",
      "  --- Adaboost on training data ---\n",
      "           R2 Score: 0.468\n",
      " Mean Squared Error: 1.16\n",
      "Mean Absolute Error: 0.905\n",
      "Root Mean Square Error: 1.07\n",
      "\n",
      "  --- Linear on training data ---\n",
      "           R2 Score: 0.00273\n",
      " Mean Squared Error: 2.17\n",
      "Mean Absolute Error: 1.08\n",
      "Root Mean Square Error: 1.47\n"
     ]
    }
   ],
   "source": [
    "decision_tree = DecisionTreeRegressor(max_depth=11)\n",
    "random_forest = RandomForestRegressor(criterion='squared_error', n_estimators=500, oob_score=True, random_state=100)\n",
    "svr = SVR(verbose=True, kernel='rbf', C=1)  \n",
    "ransacr = RANSACRegressor(min_samples=78, max_trials=1,random_state=42)\n",
    "sgd = SGDRegressor(n_iter_no_change=250, tol=1e-100, eta0=0.00003, max_iter=100000,random_state=42)\n",
    "adaboost = AdaBoostRegressor(random_state=66)\n",
    "linear = LinearRegression()\n",
    "\n",
    "decision_tree.fit(X_train,y_train)\n",
    "random_forest.fit(X_train,y_train)\n",
    "svr.fit(X_train,y_train)\n",
    "ransacr.fit(X_train,y_train)\n",
    "sgd.fit(X_train,y_train)\n",
    "adaboost.fit(X_train,y_train)\n",
    "linear.fit(X_train,y_train);\n",
    "\n",
    "#  train dataset \n",
    "decision_tree_preds = decision_tree.predict(X_train)\n",
    "random_forest_preds = random_forest.predict(X_train)\n",
    "svr_preds = svr.predict(X_train)\n",
    "ransacr_preds = ransacr.predict(X_train)\n",
    "sgd_preds = sgd.predict(X_train)\n",
    "adaboost_preds = adaboost.predict(X_train)\n",
    "linear_preds = linear.predict(X_train)\n",
    "\n",
    "results_df = pd.DataFrame([])\n",
    "\n",
    "for label, preds in [('Decision Tree', decision_tree_preds),\n",
    "                     ('Random Forest', random_forest_preds),\n",
    "                     ('Support Vector Regression',svr_preds),\n",
    "                     ('Random Sample Consensus',ransacr_preds),\n",
    "                     ('Stochastic Gradient Descent',sgd_preds),\n",
    "                     ('Adaboost',      adaboost_preds),\n",
    "                     ('Linear',        linear_preds)]:\n",
    "    \n",
    "    r2 = r2_score(y_train, preds)\n",
    "    mse = mean_squared_error(y_train, preds)\n",
    "    mae = mean_absolute_error(y_train, preds)\n",
    "    rmse = np.sqrt(metrics.mean_squared_error(y_train, preds))\n",
    "    \n",
    "    results_df_2 = pd.DataFrame(data=[[label, r2, mse, mae, rmse]],\n",
    "                          columns=['Model', 'R2 Square', 'MSE', 'MAE', 'RMSE'])\n",
    "    results_df = results_df.append(results_df_2, ignore_index=True)\n",
    "\n",
    "    print('\\n  --- {} on training data ---'.format(label))\n",
    "    print('           R2 Score: {:.3}'.format(r2))\n",
    "    print(' Mean Squared Error: {:.3}'.format(mse))\n",
    "    print('Mean Absolute Error: {:.3}'.format(mae))\n",
    "    print('Root Mean Square Error: {:.3}'.format(rmse))"
   ]
  },
  {
   "cell_type": "code",
   "execution_count": 123,
   "id": "e06e22cf",
   "metadata": {},
   "outputs": [
    {
     "data": {
      "text/plain": [
       "-0.07786003272700284"
      ]
     },
     "execution_count": 123,
     "metadata": {},
     "output_type": "execute_result"
    }
   ],
   "source": [
    "np.mean(cross_val_score(linear, X_train, y_train, cv=5))"
   ]
  },
  {
   "cell_type": "code",
   "execution_count": 124,
   "id": "223e9f14",
   "metadata": {},
   "outputs": [
    {
     "data": {
      "text/plain": [
       "-1.5223274831575484"
      ]
     },
     "execution_count": 124,
     "metadata": {},
     "output_type": "execute_result"
    }
   ],
   "source": [
    "np.mean(cross_val_score(decision_tree, X, y, cv=5))"
   ]
  },
  {
   "cell_type": "markdown",
   "id": "64a1501e",
   "metadata": {},
   "source": [
    "# Kruskal-Wallis Test"
   ]
  },
  {
   "cell_type": "code",
   "execution_count": 130,
   "id": "f6d04100",
   "metadata": {},
   "outputs": [
    {
     "data": {
      "text/plain": [
       "KruskalResult(statistic=163.0, pvalue=0.48526877720984435)"
      ]
     },
     "execution_count": 130,
     "metadata": {},
     "output_type": "execute_result"
    }
   ],
   "source": [
    "# Importing required library\n",
    "from scipy.stats import kruskal\n",
    "\n",
    "# Perform Kruskal Wallis Test\n",
    "group_data = df_hospital_city_last.groupby('Business_City')['EHR Per Capita'].apply(list).to_dict()\n",
    "\n",
    "result = stats.kruskal(*group_data.values())\n",
    "result"
   ]
  },
  {
   "cell_type": "code",
   "execution_count": 131,
   "id": "5d99412c",
   "metadata": {},
   "outputs": [
    {
     "name": "stdout",
     "output_type": "stream",
     "text": [
      "Do not Reject Null Hypothesis (Same distribution)\n"
     ]
    }
   ],
   "source": [
    "#Interpretation of the results at 5% level of significance\n",
    "# Level of significance\n",
    "alpha = 0.05\n",
    "if result.pvalue < alpha:\n",
    "    print('Reject Null Hypothesis (Different distribution')\n",
    "else:\n",
    "    print('Do not Reject Null Hypothesis (Same distribution)')\n"
   ]
  },
  {
   "cell_type": "markdown",
   "id": "8ac6cc51",
   "metadata": {},
   "source": [
    "# Spearman's rank correlation coefficient"
   ]
  },
  {
   "cell_type": "code",
   "execution_count": 133,
   "id": "f39aad39",
   "metadata": {},
   "outputs": [
    {
     "name": "stdout",
     "output_type": "stream",
     "text": [
      "SpearmanrResult(correlation=-0.06041800855237208, pvalue=0.44218285794454437)\n",
      "Do not Reject Null Hypothesis\n"
     ]
    }
   ],
   "source": [
    "from scipy import stats\n",
    "result = stats.spearmanr(df_hospital_city_last['EHR Per Capita'],df_hospital_city_last['Revenues Per Capita'] )\n",
    "print(result)\n",
    "#Interpretation of the results at 5% level of significance\n",
    "# Level of significance\n",
    "alpha = 0.05\n",
    "if result.pvalue < alpha:\n",
    "    print('Reject Null Hypothesis')\n",
    "else:\n",
    "    print('Do not Reject Null Hypothesis')\n"
   ]
  },
  {
   "cell_type": "code",
   "execution_count": 134,
   "id": "801c6d84",
   "metadata": {},
   "outputs": [
    {
     "name": "stdout",
     "output_type": "stream",
     "text": [
      "SpearmanrResult(correlation=-0.06955382630398146, pvalue=0.37616581553261996)\n",
      "Do not Reject Null Hypothesis\n"
     ]
    }
   ],
   "source": [
    "result = stats.spearmanr(df_hospital_city_last['EHR Per Capita'],df_hospital_city_last['Expenditures Per Capita'] )\n",
    "print(result)\n",
    "#Interpretation of the results at 5% level of significance\n",
    "# Level of significance\n",
    "alpha = 0.05\n",
    "if result.pvalue < alpha:\n",
    "    print('Reject Null Hypothesis')\n",
    "else:\n",
    "    print('Do not Reject Null Hypothesis')"
   ]
  },
  {
   "cell_type": "code",
   "execution_count": 136,
   "id": "0ca47577",
   "metadata": {},
   "outputs": [
    {
     "name": "stdout",
     "output_type": "stream",
     "text": [
      "Statistics=137.280, p=0.000\n",
      "Different distributions (reject H0)\n"
     ]
    }
   ],
   "source": [
    "from scipy.stats import friedmanchisquare\n",
    "\n",
    "# compare samples\n",
    "stat, p = friedmanchisquare(df_hospital_city_last['EHR Per Capita'], df_hospital_city_last['Expenditures Per Capita'], df_hospital_city_last['Revenues Per Capita'])\n",
    "print('Statistics=%.3f, p=%.3f' % (stat, p))\n",
    "# interpret\n",
    "alpha = 0.05\n",
    "if p > alpha:\n",
    "\tprint('Same distributions (fail to reject H0)')\n",
    "else:\n",
    "\tprint('Different distributions (reject H0)')"
   ]
  },
  {
   "cell_type": "code",
   "execution_count": 137,
   "id": "41e8c2c9",
   "metadata": {},
   "outputs": [
    {
     "data": {
      "text/plain": [
       "58.42996661582099"
      ]
     },
     "execution_count": 137,
     "metadata": {},
     "output_type": "execute_result"
    }
   ],
   "source": [
    "(np.abs(y_train)).mean() "
   ]
  },
  {
   "cell_type": "code",
   "execution_count": 141,
   "id": "5f4fb1ab",
   "metadata": {},
   "outputs": [
    {
     "name": "stdout",
     "output_type": "stream",
     "text": [
      "Statistics=137.280, p=0.000\n",
      "Different distributions (reject H0)\n"
     ]
    }
   ],
   "source": [
    "from scipy.stats import friedmanchisquare\n",
    "data1, data2, data3 = df_hospital_city_last['EHR Per Capita'], df_hospital_city_last['Revenues Per Capita'], df_hospital_city_last['Expenditures Per Capita'] \n",
    "stat, p = friedmanchisquare(data1, data2, data3)\n",
    "\n",
    "print('Statistics=%.3f, p=%.3f' % (stat, p))\n",
    "# interpret\n",
    "alpha = 0.05\n",
    "if p > alpha:\n",
    "    print('Same distributions (fail to reject H0)')\n",
    "else:\n",
    "    print('Different distributions (reject H0)')\n",
    "    \n",
    "    "
   ]
  },
  {
   "cell_type": "code",
   "execution_count": null,
   "id": "8f4ea56e",
   "metadata": {},
   "outputs": [],
   "source": []
  }
 ],
 "metadata": {
  "kernelspec": {
   "display_name": "Python 3 (ipykernel)",
   "language": "python",
   "name": "python3"
  },
  "language_info": {
   "codemirror_mode": {
    "name": "ipython",
    "version": 3
   },
   "file_extension": ".py",
   "mimetype": "text/x-python",
   "name": "python",
   "nbconvert_exporter": "python",
   "pygments_lexer": "ipython3",
   "version": "3.9.6"
  }
 },
 "nbformat": 4,
 "nbformat_minor": 5
}
