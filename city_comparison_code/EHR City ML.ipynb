{
 "cells": [
  {
   "cell_type": "markdown",
   "id": "e719ca7b-392d-4aaa-b0af-f98502b1cd5a",
   "metadata": {},
   "source": [
    "# Average EHR Spending by City"
   ]
  },
  {
   "cell_type": "code",
   "execution_count": 908,
   "id": "5810b61d-0eaf-447e-8082-1a59b3c33c92",
   "metadata": {},
   "outputs": [],
   "source": [
    "## Import libraries\n",
    "import pandas as pd\n",
    "import numpy as np\n",
    "import matplotlib.pyplot as plt\n",
    "from sklearn import model_selection\n",
    "from sklearn.linear_model import LinearRegression\n",
    "from sklearn.linear_model import LogisticRegression\n",
    "from sklearn.tree import DecisionTreeClassifier\n",
    "from sklearn.neighbors import KNeighborsClassifier\n",
    "from sklearn.discriminant_analysis import LinearDiscriminantAnalysis\n",
    "from sklearn.naive_bayes import GaussianNB\n",
    "from sklearn.svm import SVC\n",
    "from scipy import stats\n",
    "import seaborn as sns"
   ]
  },
  {
   "cell_type": "code",
   "execution_count": 909,
   "id": "d6a174fe-2dac-4065-9713-30bd1795b4f1",
   "metadata": {},
   "outputs": [],
   "source": [
    "## Load the datasets\n",
    "df_ehr_provider = pd.read_csv('EHR_Incentive_Program_Payments_Providers.csv')\n",
    "df_ehr_hospital = pd.read_csv('EHR_Incentive_Program_Payments_Hospitals.csv')\n",
    "df_city_revenue = pd.read_csv('City_Revenues_Per_Capita.csv')\n",
    "df_city_expenditure = pd.read_csv('City_Expenditures_Per_Capita.csv')"
   ]
  },
  {
   "cell_type": "markdown",
   "id": "dae5db2f",
   "metadata": {},
   "source": [
    "## Analysis for EHR per Capita for Individual Healthcare Providers"
   ]
  },
  {
   "cell_type": "code",
   "execution_count": 910,
   "id": "a477cd9b-11ec-4271-840f-4e974d0b2113",
   "metadata": {},
   "outputs": [
    {
     "data": {
      "text/html": [
       "<div>\n",
       "<style scoped>\n",
       "    .dataframe tbody tr th:only-of-type {\n",
       "        vertical-align: middle;\n",
       "    }\n",
       "\n",
       "    .dataframe tbody tr th {\n",
       "        vertical-align: top;\n",
       "    }\n",
       "\n",
       "    .dataframe thead th {\n",
       "        text-align: right;\n",
       "    }\n",
       "</style>\n",
       "<table border=\"1\" class=\"dataframe\">\n",
       "  <thead>\n",
       "    <tr style=\"text-align: right;\">\n",
       "      <th></th>\n",
       "      <th>Business_C</th>\n",
       "      <th>Payment_Ye</th>\n",
       "      <th>total_paym</th>\n",
       "    </tr>\n",
       "  </thead>\n",
       "  <tbody>\n",
       "    <tr>\n",
       "      <th>0</th>\n",
       "      <td>Sacramento</td>\n",
       "      <td>2019</td>\n",
       "      <td>38250.0</td>\n",
       "    </tr>\n",
       "    <tr>\n",
       "      <th>1</th>\n",
       "      <td>Oakland</td>\n",
       "      <td>2014</td>\n",
       "      <td>21250.0</td>\n",
       "    </tr>\n",
       "    <tr>\n",
       "      <th>2</th>\n",
       "      <td>Antioch</td>\n",
       "      <td>2016</td>\n",
       "      <td>21250.0</td>\n",
       "    </tr>\n",
       "    <tr>\n",
       "      <th>3</th>\n",
       "      <td>Loma Linda</td>\n",
       "      <td>2015</td>\n",
       "      <td>29750.0</td>\n",
       "    </tr>\n",
       "    <tr>\n",
       "      <th>4</th>\n",
       "      <td>Orange</td>\n",
       "      <td>2014</td>\n",
       "      <td>21250.0</td>\n",
       "    </tr>\n",
       "  </tbody>\n",
       "</table>\n",
       "</div>"
      ],
      "text/plain": [
       "   Business_C  Payment_Ye  total_paym\n",
       "0  Sacramento        2019     38250.0\n",
       "1     Oakland        2014     21250.0\n",
       "2     Antioch        2016     21250.0\n",
       "3  Loma Linda        2015     29750.0\n",
       "4      Orange        2014     21250.0"
      ]
     },
     "execution_count": 910,
     "metadata": {},
     "output_type": "execute_result"
    }
   ],
   "source": [
    "## delete the unneeded columns on the provider dataset\n",
    "df_ehr_provider.drop(df_ehr_provider.columns[0:8],axis=1,inplace = True)\n",
    "df_ehr_provider.drop(df_ehr_provider.columns[1:4],axis=1,inplace = True)\n",
    "df_ehr_provider.drop(df_ehr_provider.columns[3:6],axis=1,inplace = True)\n",
    "df_ehr_provider.drop(['Program_Ye','Payee_NPI','Latitude','Longitude','total_rece'],axis=1,inplace = True)\n",
    "df_ehr_provider.head()\n"
   ]
  },
  {
   "cell_type": "code",
   "execution_count": 911,
   "id": "2d528d1b-053e-4627-bd2e-18bde9f8e231",
   "metadata": {},
   "outputs": [
    {
     "data": {
      "text/html": [
       "<div>\n",
       "<style scoped>\n",
       "    .dataframe tbody tr th:only-of-type {\n",
       "        vertical-align: middle;\n",
       "    }\n",
       "\n",
       "    .dataframe tbody tr th {\n",
       "        vertical-align: top;\n",
       "    }\n",
       "\n",
       "    .dataframe thead th {\n",
       "        text-align: right;\n",
       "    }\n",
       "</style>\n",
       "<table border=\"1\" class=\"dataframe\">\n",
       "  <thead>\n",
       "    <tr style=\"text-align: right;\">\n",
       "      <th></th>\n",
       "      <th>Business_C</th>\n",
       "      <th>Payment_Ye</th>\n",
       "      <th>total_paym</th>\n",
       "    </tr>\n",
       "  </thead>\n",
       "  <tbody>\n",
       "    <tr>\n",
       "      <th>0</th>\n",
       "      <td>adelanto</td>\n",
       "      <td>2014</td>\n",
       "      <td>14166.67</td>\n",
       "    </tr>\n",
       "    <tr>\n",
       "      <th>1</th>\n",
       "      <td>adelanto</td>\n",
       "      <td>2015</td>\n",
       "      <td>21250.00</td>\n",
       "    </tr>\n",
       "    <tr>\n",
       "      <th>2</th>\n",
       "      <td>adelanto</td>\n",
       "      <td>2016</td>\n",
       "      <td>29750.00</td>\n",
       "    </tr>\n",
       "    <tr>\n",
       "      <th>3</th>\n",
       "      <td>agoura hills</td>\n",
       "      <td>2014</td>\n",
       "      <td>63750.00</td>\n",
       "    </tr>\n",
       "    <tr>\n",
       "      <th>4</th>\n",
       "      <td>agoura hills</td>\n",
       "      <td>2016</td>\n",
       "      <td>21250.00</td>\n",
       "    </tr>\n",
       "  </tbody>\n",
       "</table>\n",
       "</div>"
      ],
      "text/plain": [
       "     Business_C  Payment_Ye  total_paym\n",
       "0      adelanto        2014    14166.67\n",
       "1      adelanto        2015    21250.00\n",
       "2      adelanto        2016    29750.00\n",
       "3  agoura hills        2014    63750.00\n",
       "4  agoura hills        2016    21250.00"
      ]
     },
     "execution_count": 911,
     "metadata": {},
     "output_type": "execute_result"
    }
   ],
   "source": [
    "## group the practitioner data by city and year, then sum the total payments\n",
    "df_ehr_provider['Business_C'] = df_ehr_provider['Business_C'].str.lower()\n",
    "df_ehr_provider = df_ehr_provider.groupby(['Business_C','Payment_Ye'])['total_paym'].sum().reset_index()\n",
    "df_ehr_provider.to_csv('test_group_by_check.csv')\n",
    "df_ehr_provider.head()"
   ]
  },
  {
   "cell_type": "code",
   "execution_count": 912,
   "id": "2141ccc7-0f89-4c2a-8b03-c5a6f5b2b8c5",
   "metadata": {},
   "outputs": [
    {
     "data": {
      "text/html": [
       "<div>\n",
       "<style scoped>\n",
       "    .dataframe tbody tr th:only-of-type {\n",
       "        vertical-align: middle;\n",
       "    }\n",
       "\n",
       "    .dataframe tbody tr th {\n",
       "        vertical-align: top;\n",
       "    }\n",
       "\n",
       "    .dataframe thead th {\n",
       "        text-align: right;\n",
       "    }\n",
       "</style>\n",
       "<table border=\"1\" class=\"dataframe\">\n",
       "  <thead>\n",
       "    <tr style=\"text-align: right;\">\n",
       "      <th></th>\n",
       "      <th>Entity Name</th>\n",
       "      <th>Fiscal Year</th>\n",
       "      <th>Total Revenues</th>\n",
       "      <th>Estimated Population</th>\n",
       "      <th>Revenues Per Capita</th>\n",
       "    </tr>\n",
       "  </thead>\n",
       "  <tbody>\n",
       "    <tr>\n",
       "      <th>0</th>\n",
       "      <td>adelanto</td>\n",
       "      <td>2021</td>\n",
       "      <td>22556106</td>\n",
       "      <td>36569.0</td>\n",
       "      <td>617.0</td>\n",
       "    </tr>\n",
       "    <tr>\n",
       "      <th>1</th>\n",
       "      <td>adelanto</td>\n",
       "      <td>2020</td>\n",
       "      <td>20455012</td>\n",
       "      <td>35663.0</td>\n",
       "      <td>574.0</td>\n",
       "    </tr>\n",
       "    <tr>\n",
       "      <th>2</th>\n",
       "      <td>adelanto</td>\n",
       "      <td>2019</td>\n",
       "      <td>20232000</td>\n",
       "      <td>35136.0</td>\n",
       "      <td>576.0</td>\n",
       "    </tr>\n",
       "    <tr>\n",
       "      <th>3</th>\n",
       "      <td>adelanto</td>\n",
       "      <td>2018</td>\n",
       "      <td>18224861</td>\n",
       "      <td>35293.0</td>\n",
       "      <td>516.0</td>\n",
       "    </tr>\n",
       "    <tr>\n",
       "      <th>4</th>\n",
       "      <td>adelanto</td>\n",
       "      <td>2017</td>\n",
       "      <td>15171753</td>\n",
       "      <td>34273.0</td>\n",
       "      <td>443.0</td>\n",
       "    </tr>\n",
       "  </tbody>\n",
       "</table>\n",
       "</div>"
      ],
      "text/plain": [
       "  Entity Name  Fiscal Year  Total Revenues  Estimated Population  \\\n",
       "0    adelanto         2021        22556106               36569.0   \n",
       "1    adelanto         2020        20455012               35663.0   \n",
       "2    adelanto         2019        20232000               35136.0   \n",
       "3    adelanto         2018        18224861               35293.0   \n",
       "4    adelanto         2017        15171753               34273.0   \n",
       "\n",
       "   Revenues Per Capita  \n",
       "0                617.0  \n",
       "1                574.0  \n",
       "2                576.0  \n",
       "3                516.0  \n",
       "4                443.0  "
      ]
     },
     "execution_count": 912,
     "metadata": {},
     "output_type": "execute_result"
    }
   ],
   "source": [
    "#change all Entity Names to lower case\n",
    "df_city_revenue['Entity Name'] = df_city_revenue['Entity Name'].str.lower()\n",
    "df_city_revenue.head()"
   ]
  },
  {
   "cell_type": "code",
   "execution_count": 913,
   "id": "850cebec",
   "metadata": {},
   "outputs": [
    {
     "data": {
      "text/html": [
       "<div>\n",
       "<style scoped>\n",
       "    .dataframe tbody tr th:only-of-type {\n",
       "        vertical-align: middle;\n",
       "    }\n",
       "\n",
       "    .dataframe tbody tr th {\n",
       "        vertical-align: top;\n",
       "    }\n",
       "\n",
       "    .dataframe thead th {\n",
       "        text-align: right;\n",
       "    }\n",
       "</style>\n",
       "<table border=\"1\" class=\"dataframe\">\n",
       "  <thead>\n",
       "    <tr style=\"text-align: right;\">\n",
       "      <th></th>\n",
       "      <th>Entity Name</th>\n",
       "      <th>Fiscal Year</th>\n",
       "      <th>Total Expenditures</th>\n",
       "      <th>Estimated Population</th>\n",
       "      <th>Expenditures Per Capita</th>\n",
       "    </tr>\n",
       "  </thead>\n",
       "  <tbody>\n",
       "    <tr>\n",
       "      <th>0</th>\n",
       "      <td>adelanto</td>\n",
       "      <td>2021</td>\n",
       "      <td>20580944</td>\n",
       "      <td>36569.0</td>\n",
       "      <td>563.0</td>\n",
       "    </tr>\n",
       "    <tr>\n",
       "      <th>1</th>\n",
       "      <td>adelanto</td>\n",
       "      <td>2020</td>\n",
       "      <td>26376314</td>\n",
       "      <td>35663.0</td>\n",
       "      <td>740.0</td>\n",
       "    </tr>\n",
       "    <tr>\n",
       "      <th>2</th>\n",
       "      <td>adelanto</td>\n",
       "      <td>2019</td>\n",
       "      <td>30886709</td>\n",
       "      <td>35136.0</td>\n",
       "      <td>879.0</td>\n",
       "    </tr>\n",
       "    <tr>\n",
       "      <th>3</th>\n",
       "      <td>adelanto</td>\n",
       "      <td>2018</td>\n",
       "      <td>20531571</td>\n",
       "      <td>35293.0</td>\n",
       "      <td>582.0</td>\n",
       "    </tr>\n",
       "    <tr>\n",
       "      <th>4</th>\n",
       "      <td>adelanto</td>\n",
       "      <td>2017</td>\n",
       "      <td>16035685</td>\n",
       "      <td>34273.0</td>\n",
       "      <td>468.0</td>\n",
       "    </tr>\n",
       "  </tbody>\n",
       "</table>\n",
       "</div>"
      ],
      "text/plain": [
       "  Entity Name  Fiscal Year  Total Expenditures  Estimated Population  \\\n",
       "0    adelanto         2021            20580944               36569.0   \n",
       "1    adelanto         2020            26376314               35663.0   \n",
       "2    adelanto         2019            30886709               35136.0   \n",
       "3    adelanto         2018            20531571               35293.0   \n",
       "4    adelanto         2017            16035685               34273.0   \n",
       "\n",
       "   Expenditures Per Capita  \n",
       "0                    563.0  \n",
       "1                    740.0  \n",
       "2                    879.0  \n",
       "3                    582.0  \n",
       "4                    468.0  "
      ]
     },
     "execution_count": 913,
     "metadata": {},
     "output_type": "execute_result"
    }
   ],
   "source": [
    "df_city_expenditure['Entity Name'] = df_city_revenue['Entity Name'].str.lower()\n",
    "df_city_expenditure.head()"
   ]
  },
  {
   "cell_type": "code",
   "execution_count": 914,
   "id": "5a0e0e74-4c4f-4ef6-810b-10fe107cbfc1",
   "metadata": {},
   "outputs": [
    {
     "data": {
      "text/html": [
       "<div>\n",
       "<style scoped>\n",
       "    .dataframe tbody tr th:only-of-type {\n",
       "        vertical-align: middle;\n",
       "    }\n",
       "\n",
       "    .dataframe tbody tr th {\n",
       "        vertical-align: top;\n",
       "    }\n",
       "\n",
       "    .dataframe thead th {\n",
       "        text-align: right;\n",
       "    }\n",
       "</style>\n",
       "<table border=\"1\" class=\"dataframe\">\n",
       "  <thead>\n",
       "    <tr style=\"text-align: right;\">\n",
       "      <th></th>\n",
       "      <th>Business_C</th>\n",
       "      <th>Payment_Ye</th>\n",
       "      <th>total_paym</th>\n",
       "      <th>Entity Name</th>\n",
       "      <th>Fiscal Year</th>\n",
       "      <th>Total Revenues</th>\n",
       "      <th>Estimated Population</th>\n",
       "      <th>Revenues Per Capita</th>\n",
       "    </tr>\n",
       "  </thead>\n",
       "  <tbody>\n",
       "    <tr>\n",
       "      <th>0</th>\n",
       "      <td>adelanto</td>\n",
       "      <td>2014</td>\n",
       "      <td>14166.67</td>\n",
       "      <td>adelanto</td>\n",
       "      <td>2014</td>\n",
       "      <td>13047272</td>\n",
       "      <td>32511.0</td>\n",
       "      <td>401.0</td>\n",
       "    </tr>\n",
       "    <tr>\n",
       "      <th>1</th>\n",
       "      <td>adelanto</td>\n",
       "      <td>2015</td>\n",
       "      <td>21250.00</td>\n",
       "      <td>adelanto</td>\n",
       "      <td>2015</td>\n",
       "      <td>14051611</td>\n",
       "      <td>33084.0</td>\n",
       "      <td>425.0</td>\n",
       "    </tr>\n",
       "    <tr>\n",
       "      <th>2</th>\n",
       "      <td>adelanto</td>\n",
       "      <td>2016</td>\n",
       "      <td>29750.00</td>\n",
       "      <td>adelanto</td>\n",
       "      <td>2016</td>\n",
       "      <td>14565863</td>\n",
       "      <td>33497.0</td>\n",
       "      <td>435.0</td>\n",
       "    </tr>\n",
       "    <tr>\n",
       "      <th>3</th>\n",
       "      <td>agoura hills</td>\n",
       "      <td>2014</td>\n",
       "      <td>63750.00</td>\n",
       "      <td>agoura hills</td>\n",
       "      <td>2014</td>\n",
       "      <td>25485389</td>\n",
       "      <td>20625.0</td>\n",
       "      <td>1236.0</td>\n",
       "    </tr>\n",
       "    <tr>\n",
       "      <th>4</th>\n",
       "      <td>agoura hills</td>\n",
       "      <td>2016</td>\n",
       "      <td>21250.00</td>\n",
       "      <td>agoura hills</td>\n",
       "      <td>2016</td>\n",
       "      <td>28100766</td>\n",
       "      <td>21211.0</td>\n",
       "      <td>1325.0</td>\n",
       "    </tr>\n",
       "  </tbody>\n",
       "</table>\n",
       "</div>"
      ],
      "text/plain": [
       "     Business_C  Payment_Ye  total_paym   Entity Name  Fiscal Year  \\\n",
       "0      adelanto        2014    14166.67      adelanto         2014   \n",
       "1      adelanto        2015    21250.00      adelanto         2015   \n",
       "2      adelanto        2016    29750.00      adelanto         2016   \n",
       "3  agoura hills        2014    63750.00  agoura hills         2014   \n",
       "4  agoura hills        2016    21250.00  agoura hills         2016   \n",
       "\n",
       "   Total Revenues  Estimated Population  Revenues Per Capita  \n",
       "0        13047272               32511.0                401.0  \n",
       "1        14051611               33084.0                425.0  \n",
       "2        14565863               33497.0                435.0  \n",
       "3        25485389               20625.0               1236.0  \n",
       "4        28100766               21211.0               1325.0  "
      ]
     },
     "execution_count": 914,
     "metadata": {},
     "output_type": "execute_result"
    }
   ],
   "source": [
    "## merge the provider dataset with the city revenue dataset\n",
    "df_provider_city = df_ehr_provider.merge(df_city_revenue, how=\"inner\",left_on=['Business_C','Payment_Ye'],right_on=['Entity Name','Fiscal Year'])\n",
    "df_provider_city.head()"
   ]
  },
  {
   "cell_type": "code",
   "execution_count": 915,
   "id": "9642d67e-c4ef-45a8-9614-43be5f881c76",
   "metadata": {},
   "outputs": [
    {
     "data": {
      "text/html": [
       "<div>\n",
       "<style scoped>\n",
       "    .dataframe tbody tr th:only-of-type {\n",
       "        vertical-align: middle;\n",
       "    }\n",
       "\n",
       "    .dataframe tbody tr th {\n",
       "        vertical-align: top;\n",
       "    }\n",
       "\n",
       "    .dataframe thead th {\n",
       "        text-align: right;\n",
       "    }\n",
       "</style>\n",
       "<table border=\"1\" class=\"dataframe\">\n",
       "  <thead>\n",
       "    <tr style=\"text-align: right;\">\n",
       "      <th></th>\n",
       "      <th>Business_C</th>\n",
       "      <th>Payment_Ye</th>\n",
       "      <th>total_paym</th>\n",
       "      <th>Total Revenues</th>\n",
       "      <th>Estimated Population</th>\n",
       "      <th>Revenues Per Capita</th>\n",
       "    </tr>\n",
       "  </thead>\n",
       "  <tbody>\n",
       "    <tr>\n",
       "      <th>0</th>\n",
       "      <td>adelanto</td>\n",
       "      <td>2014</td>\n",
       "      <td>14166.67</td>\n",
       "      <td>13047272</td>\n",
       "      <td>32511.0</td>\n",
       "      <td>401.0</td>\n",
       "    </tr>\n",
       "    <tr>\n",
       "      <th>1</th>\n",
       "      <td>adelanto</td>\n",
       "      <td>2015</td>\n",
       "      <td>21250.00</td>\n",
       "      <td>14051611</td>\n",
       "      <td>33084.0</td>\n",
       "      <td>425.0</td>\n",
       "    </tr>\n",
       "    <tr>\n",
       "      <th>2</th>\n",
       "      <td>adelanto</td>\n",
       "      <td>2016</td>\n",
       "      <td>29750.00</td>\n",
       "      <td>14565863</td>\n",
       "      <td>33497.0</td>\n",
       "      <td>435.0</td>\n",
       "    </tr>\n",
       "    <tr>\n",
       "      <th>3</th>\n",
       "      <td>agoura hills</td>\n",
       "      <td>2014</td>\n",
       "      <td>63750.00</td>\n",
       "      <td>25485389</td>\n",
       "      <td>20625.0</td>\n",
       "      <td>1236.0</td>\n",
       "    </tr>\n",
       "    <tr>\n",
       "      <th>4</th>\n",
       "      <td>agoura hills</td>\n",
       "      <td>2016</td>\n",
       "      <td>21250.00</td>\n",
       "      <td>28100766</td>\n",
       "      <td>21211.0</td>\n",
       "      <td>1325.0</td>\n",
       "    </tr>\n",
       "  </tbody>\n",
       "</table>\n",
       "</div>"
      ],
      "text/plain": [
       "     Business_C  Payment_Ye  total_paym  Total Revenues  Estimated Population  \\\n",
       "0      adelanto        2014    14166.67        13047272               32511.0   \n",
       "1      adelanto        2015    21250.00        14051611               33084.0   \n",
       "2      adelanto        2016    29750.00        14565863               33497.0   \n",
       "3  agoura hills        2014    63750.00        25485389               20625.0   \n",
       "4  agoura hills        2016    21250.00        28100766               21211.0   \n",
       "\n",
       "   Revenues Per Capita  \n",
       "0                401.0  \n",
       "1                425.0  \n",
       "2                435.0  \n",
       "3               1236.0  \n",
       "4               1325.0  "
      ]
     },
     "execution_count": 915,
     "metadata": {},
     "output_type": "execute_result"
    }
   ],
   "source": [
    "## drop the duplicate columns\n",
    "df_provider_city = df_provider_city.drop(['Entity Name','Fiscal Year'], axis=1)\n",
    "df_provider_city.head()"
   ]
  },
  {
   "cell_type": "code",
   "execution_count": 916,
   "id": "0168bd19",
   "metadata": {},
   "outputs": [
    {
     "data": {
      "text/html": [
       "<div>\n",
       "<style scoped>\n",
       "    .dataframe tbody tr th:only-of-type {\n",
       "        vertical-align: middle;\n",
       "    }\n",
       "\n",
       "    .dataframe tbody tr th {\n",
       "        vertical-align: top;\n",
       "    }\n",
       "\n",
       "    .dataframe thead th {\n",
       "        text-align: right;\n",
       "    }\n",
       "</style>\n",
       "<table border=\"1\" class=\"dataframe\">\n",
       "  <thead>\n",
       "    <tr style=\"text-align: right;\">\n",
       "      <th></th>\n",
       "      <th>Business_C</th>\n",
       "      <th>Payment_Ye</th>\n",
       "      <th>total_paym</th>\n",
       "      <th>Total Revenues</th>\n",
       "      <th>Estimated Population</th>\n",
       "      <th>Revenues Per Capita</th>\n",
       "      <th>Total Expenditures</th>\n",
       "      <th>Expenditures Per Capita</th>\n",
       "    </tr>\n",
       "  </thead>\n",
       "  <tbody>\n",
       "    <tr>\n",
       "      <th>0</th>\n",
       "      <td>adelanto</td>\n",
       "      <td>2014</td>\n",
       "      <td>14166.67</td>\n",
       "      <td>13047272</td>\n",
       "      <td>32511.0</td>\n",
       "      <td>401.0</td>\n",
       "      <td>13560072</td>\n",
       "      <td>417.0</td>\n",
       "    </tr>\n",
       "    <tr>\n",
       "      <th>1</th>\n",
       "      <td>adelanto</td>\n",
       "      <td>2015</td>\n",
       "      <td>21250.00</td>\n",
       "      <td>14051611</td>\n",
       "      <td>33084.0</td>\n",
       "      <td>425.0</td>\n",
       "      <td>15297952</td>\n",
       "      <td>462.0</td>\n",
       "    </tr>\n",
       "    <tr>\n",
       "      <th>2</th>\n",
       "      <td>adelanto</td>\n",
       "      <td>2016</td>\n",
       "      <td>29750.00</td>\n",
       "      <td>14565863</td>\n",
       "      <td>33497.0</td>\n",
       "      <td>435.0</td>\n",
       "      <td>23692799</td>\n",
       "      <td>707.0</td>\n",
       "    </tr>\n",
       "    <tr>\n",
       "      <th>3</th>\n",
       "      <td>agoura hills</td>\n",
       "      <td>2014</td>\n",
       "      <td>63750.00</td>\n",
       "      <td>25485389</td>\n",
       "      <td>20625.0</td>\n",
       "      <td>1236.0</td>\n",
       "      <td>23389616</td>\n",
       "      <td>1134.0</td>\n",
       "    </tr>\n",
       "    <tr>\n",
       "      <th>4</th>\n",
       "      <td>agoura hills</td>\n",
       "      <td>2016</td>\n",
       "      <td>21250.00</td>\n",
       "      <td>28100766</td>\n",
       "      <td>21211.0</td>\n",
       "      <td>1325.0</td>\n",
       "      <td>31218079</td>\n",
       "      <td>1472.0</td>\n",
       "    </tr>\n",
       "  </tbody>\n",
       "</table>\n",
       "</div>"
      ],
      "text/plain": [
       "     Business_C  Payment_Ye  total_paym  Total Revenues  Estimated Population  \\\n",
       "0      adelanto        2014    14166.67        13047272               32511.0   \n",
       "1      adelanto        2015    21250.00        14051611               33084.0   \n",
       "2      adelanto        2016    29750.00        14565863               33497.0   \n",
       "3  agoura hills        2014    63750.00        25485389               20625.0   \n",
       "4  agoura hills        2016    21250.00        28100766               21211.0   \n",
       "\n",
       "   Revenues Per Capita  Total Expenditures  Expenditures Per Capita  \n",
       "0                401.0            13560072                    417.0  \n",
       "1                425.0            15297952                    462.0  \n",
       "2                435.0            23692799                    707.0  \n",
       "3               1236.0            23389616                   1134.0  \n",
       "4               1325.0            31218079                   1472.0  "
      ]
     },
     "execution_count": 916,
     "metadata": {},
     "output_type": "execute_result"
    }
   ],
   "source": [
    "## merge with the city expenditure dataset\n",
    "df_provider_city = df_provider_city.merge(df_city_expenditure, how=\"inner\",left_on=['Business_C','Payment_Ye', 'Estimated Population'],right_on=['Entity Name','Fiscal Year', 'Estimated Population'])\n",
    "df_provider_city = df_provider_city.drop(['Entity Name','Fiscal Year'], axis=1)\n",
    "df_provider_city.head()"
   ]
  },
  {
   "cell_type": "code",
   "execution_count": 917,
   "id": "fdb0e077-3179-40c4-b79d-d6cdb83978dd",
   "metadata": {},
   "outputs": [],
   "source": [
    "df_provider_city.to_csv('ultimate_test.csv')"
   ]
  },
  {
   "cell_type": "code",
   "execution_count": 918,
   "id": "f0470396-ab71-4076-a75f-cf74f9f8d6ad",
   "metadata": {},
   "outputs": [
    {
     "data": {
      "text/html": [
       "<div>\n",
       "<style scoped>\n",
       "    .dataframe tbody tr th:only-of-type {\n",
       "        vertical-align: middle;\n",
       "    }\n",
       "\n",
       "    .dataframe tbody tr th {\n",
       "        vertical-align: top;\n",
       "    }\n",
       "\n",
       "    .dataframe thead th {\n",
       "        text-align: right;\n",
       "    }\n",
       "</style>\n",
       "<table border=\"1\" class=\"dataframe\">\n",
       "  <thead>\n",
       "    <tr style=\"text-align: right;\">\n",
       "      <th></th>\n",
       "      <th>Business_C</th>\n",
       "      <th>Payment_Ye</th>\n",
       "      <th>total_paym</th>\n",
       "      <th>Total Revenues</th>\n",
       "      <th>Estimated Population</th>\n",
       "      <th>Revenues Per Capita</th>\n",
       "      <th>Total Expenditures</th>\n",
       "      <th>Expenditures Per Capita</th>\n",
       "    </tr>\n",
       "  </thead>\n",
       "  <tbody>\n",
       "    <tr>\n",
       "      <th>0</th>\n",
       "      <td>adelanto</td>\n",
       "      <td>2014</td>\n",
       "      <td>14166.67</td>\n",
       "      <td>13047272</td>\n",
       "      <td>32511.0</td>\n",
       "      <td>401.0</td>\n",
       "      <td>13560072</td>\n",
       "      <td>417.0</td>\n",
       "    </tr>\n",
       "    <tr>\n",
       "      <th>1</th>\n",
       "      <td>adelanto</td>\n",
       "      <td>2015</td>\n",
       "      <td>21250.00</td>\n",
       "      <td>14051611</td>\n",
       "      <td>33084.0</td>\n",
       "      <td>425.0</td>\n",
       "      <td>15297952</td>\n",
       "      <td>462.0</td>\n",
       "    </tr>\n",
       "    <tr>\n",
       "      <th>2</th>\n",
       "      <td>adelanto</td>\n",
       "      <td>2016</td>\n",
       "      <td>29750.00</td>\n",
       "      <td>14565863</td>\n",
       "      <td>33497.0</td>\n",
       "      <td>435.0</td>\n",
       "      <td>23692799</td>\n",
       "      <td>707.0</td>\n",
       "    </tr>\n",
       "    <tr>\n",
       "      <th>3</th>\n",
       "      <td>agoura hills</td>\n",
       "      <td>2014</td>\n",
       "      <td>63750.00</td>\n",
       "      <td>25485389</td>\n",
       "      <td>20625.0</td>\n",
       "      <td>1236.0</td>\n",
       "      <td>23389616</td>\n",
       "      <td>1134.0</td>\n",
       "    </tr>\n",
       "    <tr>\n",
       "      <th>4</th>\n",
       "      <td>agoura hills</td>\n",
       "      <td>2016</td>\n",
       "      <td>21250.00</td>\n",
       "      <td>28100766</td>\n",
       "      <td>21211.0</td>\n",
       "      <td>1325.0</td>\n",
       "      <td>31218079</td>\n",
       "      <td>1472.0</td>\n",
       "    </tr>\n",
       "  </tbody>\n",
       "</table>\n",
       "</div>"
      ],
      "text/plain": [
       "     Business_C  Payment_Ye  total_paym  Total Revenues  Estimated Population  \\\n",
       "0      adelanto        2014    14166.67        13047272               32511.0   \n",
       "1      adelanto        2015    21250.00        14051611               33084.0   \n",
       "2      adelanto        2016    29750.00        14565863               33497.0   \n",
       "3  agoura hills        2014    63750.00        25485389               20625.0   \n",
       "4  agoura hills        2016    21250.00        28100766               21211.0   \n",
       "\n",
       "   Revenues Per Capita  Total Expenditures  Expenditures Per Capita  \n",
       "0                401.0            13560072                    417.0  \n",
       "1                425.0            15297952                    462.0  \n",
       "2                435.0            23692799                    707.0  \n",
       "3               1236.0            23389616                   1134.0  \n",
       "4               1325.0            31218079                   1472.0  "
      ]
     },
     "execution_count": 918,
     "metadata": {},
     "output_type": "execute_result"
    }
   ],
   "source": [
    "df_provider_city.head()"
   ]
  },
  {
   "cell_type": "code",
   "execution_count": 919,
   "id": "4f68c053-be70-47c1-b76f-3e5472faf266",
   "metadata": {},
   "outputs": [
    {
     "data": {
      "text/html": [
       "<div>\n",
       "<style scoped>\n",
       "    .dataframe tbody tr th:only-of-type {\n",
       "        vertical-align: middle;\n",
       "    }\n",
       "\n",
       "    .dataframe tbody tr th {\n",
       "        vertical-align: top;\n",
       "    }\n",
       "\n",
       "    .dataframe thead th {\n",
       "        text-align: right;\n",
       "    }\n",
       "</style>\n",
       "<table border=\"1\" class=\"dataframe\">\n",
       "  <thead>\n",
       "    <tr style=\"text-align: right;\">\n",
       "      <th></th>\n",
       "      <th>Business_C</th>\n",
       "      <th>Payment_Ye</th>\n",
       "      <th>total_paym</th>\n",
       "      <th>Total Revenues</th>\n",
       "      <th>Estimated Population</th>\n",
       "      <th>Revenues Per Capita</th>\n",
       "      <th>Total Expenditures</th>\n",
       "      <th>Expenditures Per Capita</th>\n",
       "      <th>EHR Per Capita</th>\n",
       "    </tr>\n",
       "  </thead>\n",
       "  <tbody>\n",
       "    <tr>\n",
       "      <th>0</th>\n",
       "      <td>adelanto</td>\n",
       "      <td>2014</td>\n",
       "      <td>14166.67</td>\n",
       "      <td>13047272</td>\n",
       "      <td>32511.0</td>\n",
       "      <td>401.0</td>\n",
       "      <td>13560072</td>\n",
       "      <td>417.0</td>\n",
       "      <td>0.435750</td>\n",
       "    </tr>\n",
       "    <tr>\n",
       "      <th>1</th>\n",
       "      <td>adelanto</td>\n",
       "      <td>2015</td>\n",
       "      <td>21250.00</td>\n",
       "      <td>14051611</td>\n",
       "      <td>33084.0</td>\n",
       "      <td>425.0</td>\n",
       "      <td>15297952</td>\n",
       "      <td>462.0</td>\n",
       "      <td>0.642304</td>\n",
       "    </tr>\n",
       "    <tr>\n",
       "      <th>2</th>\n",
       "      <td>adelanto</td>\n",
       "      <td>2016</td>\n",
       "      <td>29750.00</td>\n",
       "      <td>14565863</td>\n",
       "      <td>33497.0</td>\n",
       "      <td>435.0</td>\n",
       "      <td>23692799</td>\n",
       "      <td>707.0</td>\n",
       "      <td>0.888139</td>\n",
       "    </tr>\n",
       "    <tr>\n",
       "      <th>3</th>\n",
       "      <td>agoura hills</td>\n",
       "      <td>2014</td>\n",
       "      <td>63750.00</td>\n",
       "      <td>25485389</td>\n",
       "      <td>20625.0</td>\n",
       "      <td>1236.0</td>\n",
       "      <td>23389616</td>\n",
       "      <td>1134.0</td>\n",
       "      <td>3.090909</td>\n",
       "    </tr>\n",
       "    <tr>\n",
       "      <th>4</th>\n",
       "      <td>agoura hills</td>\n",
       "      <td>2016</td>\n",
       "      <td>21250.00</td>\n",
       "      <td>28100766</td>\n",
       "      <td>21211.0</td>\n",
       "      <td>1325.0</td>\n",
       "      <td>31218079</td>\n",
       "      <td>1472.0</td>\n",
       "      <td>1.001839</td>\n",
       "    </tr>\n",
       "  </tbody>\n",
       "</table>\n",
       "</div>"
      ],
      "text/plain": [
       "     Business_C  Payment_Ye  total_paym  Total Revenues  Estimated Population  \\\n",
       "0      adelanto        2014    14166.67        13047272               32511.0   \n",
       "1      adelanto        2015    21250.00        14051611               33084.0   \n",
       "2      adelanto        2016    29750.00        14565863               33497.0   \n",
       "3  agoura hills        2014    63750.00        25485389               20625.0   \n",
       "4  agoura hills        2016    21250.00        28100766               21211.0   \n",
       "\n",
       "   Revenues Per Capita  Total Expenditures  Expenditures Per Capita  \\\n",
       "0                401.0            13560072                    417.0   \n",
       "1                425.0            15297952                    462.0   \n",
       "2                435.0            23692799                    707.0   \n",
       "3               1236.0            23389616                   1134.0   \n",
       "4               1325.0            31218079                   1472.0   \n",
       "\n",
       "   EHR Per Capita  \n",
       "0        0.435750  \n",
       "1        0.642304  \n",
       "2        0.888139  \n",
       "3        3.090909  \n",
       "4        1.001839  "
      ]
     },
     "execution_count": 919,
     "metadata": {},
     "output_type": "execute_result"
    }
   ],
   "source": [
    "## create the \"EHR per Capita\" column by divide the total_paym by the estimated population in that year\n",
    "df_provider_city['EHR Per Capita'] = df_provider_city['total_paym']/df_provider_city['Estimated Population']\n",
    "df_provider_city.head()"
   ]
  },
  {
   "cell_type": "code",
   "execution_count": 920,
   "id": "a241e452",
   "metadata": {},
   "outputs": [
    {
     "data": {
      "text/html": [
       "<div>\n",
       "<style scoped>\n",
       "    .dataframe tbody tr th:only-of-type {\n",
       "        vertical-align: middle;\n",
       "    }\n",
       "\n",
       "    .dataframe tbody tr th {\n",
       "        vertical-align: top;\n",
       "    }\n",
       "\n",
       "    .dataframe thead th {\n",
       "        text-align: right;\n",
       "    }\n",
       "</style>\n",
       "<table border=\"1\" class=\"dataframe\">\n",
       "  <thead>\n",
       "    <tr style=\"text-align: right;\">\n",
       "      <th></th>\n",
       "      <th>Business_C</th>\n",
       "      <th>Payment_Ye</th>\n",
       "      <th>total_paym</th>\n",
       "      <th>Total Revenues</th>\n",
       "      <th>Estimated Population</th>\n",
       "      <th>Revenues Per Capita</th>\n",
       "      <th>Total Expenditures</th>\n",
       "      <th>Expenditures Per Capita</th>\n",
       "      <th>EHR Per Capita</th>\n",
       "    </tr>\n",
       "  </thead>\n",
       "  <tbody>\n",
       "    <tr>\n",
       "      <th>0</th>\n",
       "      <td>adelanto</td>\n",
       "      <td>2016</td>\n",
       "      <td>29750.0</td>\n",
       "      <td>14565863</td>\n",
       "      <td>33497.0</td>\n",
       "      <td>435.0</td>\n",
       "      <td>23692799</td>\n",
       "      <td>707.0</td>\n",
       "      <td>0.888139</td>\n",
       "    </tr>\n",
       "    <tr>\n",
       "      <th>1</th>\n",
       "      <td>agoura hills</td>\n",
       "      <td>2016</td>\n",
       "      <td>21250.0</td>\n",
       "      <td>28100766</td>\n",
       "      <td>21211.0</td>\n",
       "      <td>1325.0</td>\n",
       "      <td>31218079</td>\n",
       "      <td>1472.0</td>\n",
       "      <td>1.001839</td>\n",
       "    </tr>\n",
       "    <tr>\n",
       "      <th>2</th>\n",
       "      <td>alameda</td>\n",
       "      <td>2020</td>\n",
       "      <td>191250.0</td>\n",
       "      <td>296672492</td>\n",
       "      <td>81312.0</td>\n",
       "      <td>3649.0</td>\n",
       "      <td>260518041</td>\n",
       "      <td>3204.0</td>\n",
       "      <td>2.352051</td>\n",
       "    </tr>\n",
       "    <tr>\n",
       "      <th>3</th>\n",
       "      <td>albany</td>\n",
       "      <td>2015</td>\n",
       "      <td>29750.0</td>\n",
       "      <td>28109961</td>\n",
       "      <td>18565.0</td>\n",
       "      <td>1514.0</td>\n",
       "      <td>24990215</td>\n",
       "      <td>1346.0</td>\n",
       "      <td>1.602478</td>\n",
       "    </tr>\n",
       "    <tr>\n",
       "      <th>4</th>\n",
       "      <td>alhambra</td>\n",
       "      <td>2020</td>\n",
       "      <td>46750.0</td>\n",
       "      <td>133617079</td>\n",
       "      <td>86792.0</td>\n",
       "      <td>1540.0</td>\n",
       "      <td>137772968</td>\n",
       "      <td>1587.0</td>\n",
       "      <td>0.538644</td>\n",
       "    </tr>\n",
       "  </tbody>\n",
       "</table>\n",
       "</div>"
      ],
      "text/plain": [
       "     Business_C  Payment_Ye  total_paym  Total Revenues  Estimated Population  \\\n",
       "0      adelanto        2016     29750.0        14565863               33497.0   \n",
       "1  agoura hills        2016     21250.0        28100766               21211.0   \n",
       "2       alameda        2020    191250.0       296672492               81312.0   \n",
       "3        albany        2015     29750.0        28109961               18565.0   \n",
       "4      alhambra        2020     46750.0       133617079               86792.0   \n",
       "\n",
       "   Revenues Per Capita  Total Expenditures  Expenditures Per Capita  \\\n",
       "0                435.0            23692799                    707.0   \n",
       "1               1325.0            31218079                   1472.0   \n",
       "2               3649.0           260518041                   3204.0   \n",
       "3               1514.0            24990215                   1346.0   \n",
       "4               1540.0           137772968                   1587.0   \n",
       "\n",
       "   EHR Per Capita  \n",
       "0        0.888139  \n",
       "1        1.001839  \n",
       "2        2.352051  \n",
       "3        1.602478  \n",
       "4        0.538644  "
      ]
     },
     "execution_count": 920,
     "metadata": {},
     "output_type": "execute_result"
    }
   ],
   "source": [
    "## Get the last entry for each city as the total payment they have received\n",
    "df_provider_city_last = df_provider_city.groupby(['Business_C']).apply(lambda x: x.iloc[[-1]]).reset_index(drop=True)\n",
    "df_provider_city_last.head()"
   ]
  },
  {
   "cell_type": "code",
   "execution_count": 921,
   "id": "49b5d314",
   "metadata": {},
   "outputs": [
    {
     "data": {
      "text/plain": [
       "(404, 9)"
      ]
     },
     "execution_count": 921,
     "metadata": {},
     "output_type": "execute_result"
    }
   ],
   "source": [
    "df_provider_city_last.shape"
   ]
  },
  {
   "cell_type": "code",
   "execution_count": 922,
   "id": "f6721ff0",
   "metadata": {},
   "outputs": [],
   "source": [
    "df_provider_city_last.to_csv('df_provider_city_last.csv')"
   ]
  },
  {
   "cell_type": "markdown",
   "id": "3f6f6b2f",
   "metadata": {},
   "source": [
    "# Outlier treatment: \n",
    "1. log transformation for 'Expenditures Per Capita'and 'Revenues Per Capita'\n",
    "2. remove outliers using Quantile-based Flooring and Capping\n",
    "Quantile-based Flooring and Capping In this technique, we will do the flooring (e.g., the 10th percentile) for the lower values and capping (e.g., the 90th percentile) for the higher values. The lines of code below print the 10th and 90th percentiles of the variable 'Income', respectively. These values will be used for quantile-based flooring and capping."
   ]
  },
  {
   "cell_type": "code",
   "execution_count": 923,
   "id": "852b40ad",
   "metadata": {},
   "outputs": [
    {
     "name": "stdout",
     "output_type": "stream",
     "text": [
      "Before treatment: 6.9743777070966395\n",
      "After treatment: 0.7173423061761003\n"
     ]
    }
   ],
   "source": [
    "import math\n",
    "\n",
    "print(f\"Before treatment: {df_provider_city_last['Expenditures Per Capita'].skew()}\")\n",
    "df_provider_city_last['Expenditures Per Capita'] = df_provider_city_last['Expenditures Per Capita'].apply(lambda x: math.log(x)) # shrink the difference among data\n",
    "print(f\"After treatment: {df_provider_city_last['Expenditures Per Capita'].skew()}\")"
   ]
  },
  {
   "cell_type": "code",
   "execution_count": 924,
   "id": "1829fbbf",
   "metadata": {},
   "outputs": [
    {
     "name": "stdout",
     "output_type": "stream",
     "text": [
      "Before treatment: 5.231422721097847\n",
      "After treatment: 0.5333292845359128\n"
     ]
    }
   ],
   "source": [
    "print(f\"Before treatment: {df_provider_city_last['Revenues Per Capita'].skew()}\")\n",
    "df_provider_city_last['Revenues Per Capita'] = df_provider_city_last['Revenues Per Capita'].apply(lambda x: math.log(x)) # shrink the difference among data\n",
    "print(f\"After treatment: {df_provider_city_last['Revenues Per Capita'].skew()}\")"
   ]
  },
  {
   "cell_type": "code",
   "execution_count": 925,
   "id": "ef942097",
   "metadata": {},
   "outputs": [
    {
     "data": {
      "text/plain": [
       "<AxesSubplot: xlabel='Expenditures Per Capita'>"
      ]
     },
     "execution_count": 925,
     "metadata": {},
     "output_type": "execute_result"
    },
    {
     "data": {
      "image/png": "[encoded data removed]",
      "text/plain": [
       "<Figure size 800x550 with 2 Axes>"
      ]
     },
     "metadata": {},
     "output_type": "display_data"
    }
   ],
   "source": [
    "#determine the upper boundary and lower boundary by plotting box plot\n",
    "# remove outliers from Seaborn boxplots.\n",
    "\n",
    "import seaborn as sns \n",
    "plt.subplot(1,2,1)\n",
    "sns.boxplot(x=df_provider_city_last['Revenues Per Capita'])\n",
    "plt.subplot(1,2,2)\n",
    "sns.boxplot(x=df_provider_city_last['Expenditures Per Capita'])"
   ]
  },
  {
   "cell_type": "code",
   "execution_count": 926,
   "id": "9384b10c",
   "metadata": {},
   "outputs": [
    {
     "data": {
      "text/plain": [
       "<AxesSubplot: xlabel='Expenditures Per Capita'>"
      ]
     },
     "execution_count": 926,
     "metadata": {},
     "output_type": "execute_result"
    },
    {
     "data": {
      "image/png": "[encoded data removed]",
      "text/plain": [
       "<Figure size 800x550 with 2 Axes>"
      ]
     },
     "metadata": {},
     "output_type": "display_data"
    }
   ],
   "source": [
    "# Boxplot without outliers\n",
    "plt.subplot(1,2,1)\n",
    "sns.boxplot(x=df_provider_city_last['Revenues Per Capita'], showfliers = False)\n",
    "plt.subplot(1,2,2)\n",
    "sns.boxplot(x=df_provider_city_last['Expenditures Per Capita'], showfliers = False)"
   ]
  },
  {
   "cell_type": "code",
   "execution_count": 927,
   "id": "e1d1126f",
   "metadata": {},
   "outputs": [
    {
     "data": {
      "text/plain": [
       "(391, 9)"
      ]
     },
     "execution_count": 927,
     "metadata": {},
     "output_type": "execute_result"
    }
   ],
   "source": [
    "# remove outliers\n",
    "Q1 = df_provider_city_last['Revenues Per Capita'].quantile(0.25)\n",
    "Q3 = df_provider_city_last['Revenues Per Capita'].quantile(0.75)\n",
    "IQR = Q3 - Q1    #IQR is interquartile range. \n",
    "\n",
    "filter = (df_provider_city_last['Revenues Per Capita'] >= Q1 - 1.5 * IQR) & (df_provider_city_last['Revenues Per Capita'] <= Q3 + 1.5 *IQR)\n",
    "\n",
    "df_provider_city_last = df_provider_city_last.loc[filter]  \n",
    "\n",
    "Q1 = df_provider_city_last['Expenditures Per Capita'].quantile(0.25)\n",
    "Q3 = df_provider_city_last['Expenditures Per Capita'].quantile(0.75)\n",
    "IQR = Q3 - Q1    #IQR is interquartile range. \n",
    "\n",
    "filter = (df_provider_city_last['Expenditures Per Capita'] >= Q1 - 1.5 * IQR) & (df_provider_city_last['Expenditures Per Capita'] <= Q3 + 1.5 *IQR)\n",
    "df_provider_city_last = df_provider_city_last.loc[filter] \n",
    "\n",
    "df_provider_city_last.shape"
   ]
  },
  {
   "cell_type": "markdown",
   "id": "04a75fb5",
   "metadata": {},
   "source": [
    "### Plot the preliminary histograms"
   ]
  },
  {
   "cell_type": "code",
   "execution_count": 928,
   "id": "f646ebc4",
   "metadata": {},
   "outputs": [
    {
     "data": {
      "text/plain": [
       "(array([1., 0., 0., ..., 0., 0., 1.]),\n",
       " array([6.07534603, 6.07587133, 6.07639663, ..., 8.70079476, 8.70132006,\n",
       "        8.70184536]),\n",
       " <BarContainer object of 5000 artists>)"
      ]
     },
     "execution_count": 928,
     "metadata": {},
     "output_type": "execute_result"
    },
    {
     "data": {
      "image/png": "[encoded data removed]",
      "text/plain": [
       "<Figure size 800x550 with 1 Axes>"
      ]
     },
     "metadata": {},
     "output_type": "display_data"
    }
   ],
   "source": [
    "## plot the histogram for revenue per capita\n",
    "plt.hist(df_provider_city_last['Revenues Per Capita'], bins=5000)"
   ]
  },
  {
   "cell_type": "code",
   "execution_count": 929,
   "id": "1cd48d8e",
   "metadata": {},
   "outputs": [
    {
     "data": {
      "text/plain": [
       "(array([1., 0., 0., ..., 0., 0., 1.]),\n",
       " array([6.10924758, 6.10974972, 6.11025186, ..., 8.618926  , 8.61942813,\n",
       "        8.61993027]),\n",
       " <BarContainer object of 5000 artists>)"
      ]
     },
     "execution_count": 929,
     "metadata": {},
     "output_type": "execute_result"
    },
    {
     "data": {
      "image/png": "[encoded data removed]",
      "text/plain": [
       "<Figure size 800x550 with 1 Axes>"
      ]
     },
     "metadata": {},
     "output_type": "display_data"
    }
   ],
   "source": [
    "## plot the histogram for expenditure per capita\n",
    "plt.hist(df_provider_city_last['Expenditures Per Capita'], bins=5000)"
   ]
  },
  {
   "cell_type": "code",
   "execution_count": 930,
   "id": "419b2a5b",
   "metadata": {},
   "outputs": [
    {
     "data": {
      "text/plain": [
       "(array([2., 3., 2., ..., 0., 0., 1.]),\n",
       " array([1.41826458e-01, 1.82724018e-01, 2.23621579e-01, ...,\n",
       "        2.04547835e+02, 2.04588732e+02, 2.04629630e+02]),\n",
       " <BarContainer object of 5000 artists>)"
      ]
     },
     "execution_count": 930,
     "metadata": {},
     "output_type": "execute_result"
    },
    {
     "data": {
      "image/png": "[encoded data removed]",
      "text/plain": [
       "<Figure size 800x550 with 1 Axes>"
      ]
     },
     "metadata": {},
     "output_type": "display_data"
    }
   ],
   "source": [
    "## plot the histogram for EHR per Capita\n",
    "plt.hist(df_provider_city_last['EHR Per Capita'], bins=5000)"
   ]
  },
  {
   "cell_type": "code",
   "execution_count": 931,
   "id": "32213e49",
   "metadata": {},
   "outputs": [
    {
     "data": {
      "application/vnd.jupyter.widget-view+json": {
       "model_id": "4ed8177ec0b0495fa5c080dfff1d001d",
       "version_major": 2,
       "version_minor": 0
      },
      "text/plain": [
       "                                             |      | [  0%]   00:00 -> (? left)"
      ]
     },
     "metadata": {},
     "output_type": "display_data"
    },
    {
     "name": "stdout",
     "output_type": "stream",
     "text": [
      "Report SWEETVIZ_REPORT.html was generated! NOTEBOOK/COLAB USERS: the web browser MAY not pop up, regardless, the report IS saved in your notebook/colab files.\n"
     ]
    }
   ],
   "source": [
    "import sweetviz as sv\n",
    "\n",
    "my_report = sv.analyze(df_provider_city_last)\n",
    "my_report.show_html() # Default arguments will generate to \"SWEETVIZ_REPORT.html\""
   ]
  },
  {
   "cell_type": "markdown",
   "id": "885e818b",
   "metadata": {},
   "source": [
    "## Regression Analysis"
   ]
  },
  {
   "cell_type": "code",
   "execution_count": 936,
   "id": "4a3e27fd",
   "metadata": {},
   "outputs": [
    {
     "data": {
      "text/html": [
       "<style>#sk-container-id-21 {color: black;background-color: white;}#sk-container-id-21 pre{padding: 0;}#sk-container-id-21 div.sk-toggleable {background-color: white;}#sk-container-id-21 label.sk-toggleable__label {cursor: pointer;display: block;width: 100%;margin-bottom: 0;padding: 0.3em;box-sizing: border-box;text-align: center;}#sk-container-id-21 label.sk-toggleable__label-arrow:before {content: \"▸\";float: left;margin-right: 0.25em;color: #696969;}#sk-container-id-21 label.sk-toggleable__label-arrow:hover:before {color: black;}#sk-container-id-21 div.sk-estimator:hover label.sk-toggleable__label-arrow:before {color: black;}#sk-container-id-21 div.sk-toggleable__content {max-height: 0;max-width: 0;overflow: hidden;text-align: left;background-color: #f0f8ff;}#sk-container-id-21 div.sk-toggleable__content pre {margin: 0.2em;color: black;border-radius: 0.25em;background-color: #f0f8ff;}#sk-container-id-21 input.sk-toggleable__control:checked~div.sk-toggleable__content {max-height: 200px;max-width: 100%;overflow: auto;}#sk-container-id-21 input.sk-toggleable__control:checked~label.sk-toggleable__label-arrow:before {content: \"▾\";}#sk-container-id-21 div.sk-estimator input.sk-toggleable__control:checked~label.sk-toggleable__label {background-color: #d4ebff;}#sk-container-id-21 div.sk-label input.sk-toggleable__control:checked~label.sk-toggleable__label {background-color: #d4ebff;}#sk-container-id-21 input.sk-hidden--visually {border: 0;clip: rect(1px 1px 1px 1px);clip: rect(1px, 1px, 1px, 1px);height: 1px;margin: -1px;overflow: hidden;padding: 0;position: absolute;width: 1px;}#sk-container-id-21 div.sk-estimator {font-family: monospace;background-color: #f0f8ff;border: 1px dotted black;border-radius: 0.25em;box-sizing: border-box;margin-bottom: 0.5em;}#sk-container-id-21 div.sk-estimator:hover {background-color: #d4ebff;}#sk-container-id-21 div.sk-parallel-item::after {content: \"\";width: 100%;border-bottom: 1px solid gray;flex-grow: 1;}#sk-container-id-21 div.sk-label:hover label.sk-toggleable__label {background-color: #d4ebff;}#sk-container-id-21 div.sk-serial::before {content: \"\";position: absolute;border-left: 1px solid gray;box-sizing: border-box;top: 0;bottom: 0;left: 50%;z-index: 0;}#sk-container-id-21 div.sk-serial {display: flex;flex-direction: column;align-items: center;background-color: white;padding-right: 0.2em;padding-left: 0.2em;position: relative;}#sk-container-id-21 div.sk-item {position: relative;z-index: 1;}#sk-container-id-21 div.sk-parallel {display: flex;align-items: stretch;justify-content: center;background-color: white;position: relative;}#sk-container-id-21 div.sk-item::before, #sk-container-id-21 div.sk-parallel-item::before {content: \"\";position: absolute;border-left: 1px solid gray;box-sizing: border-box;top: 0;bottom: 0;left: 50%;z-index: -1;}#sk-container-id-21 div.sk-parallel-item {display: flex;flex-direction: column;z-index: 1;position: relative;background-color: white;}#sk-container-id-21 div.sk-parallel-item:first-child::after {align-self: flex-end;width: 50%;}#sk-container-id-21 div.sk-parallel-item:last-child::after {align-self: flex-start;width: 50%;}#sk-container-id-21 div.sk-parallel-item:only-child::after {width: 0;}#sk-container-id-21 div.sk-dashed-wrapped {border: 1px dashed gray;margin: 0 0.4em 0.5em 0.4em;box-sizing: border-box;padding-bottom: 0.4em;background-color: white;}#sk-container-id-21 div.sk-label label {font-family: monospace;font-weight: bold;display: inline-block;line-height: 1.2em;}#sk-container-id-21 div.sk-label-container {text-align: center;}#sk-container-id-21 div.sk-container {/* jupyter's `normalize.less` sets `[hidden] { display: none; }` but bootstrap.min.css set `[hidden] { display: none !important; }` so we also need the `!important` here to be able to override the default hidden behavior on the sphinx rendered scikit-learn.org. See: https://github.com/scikit-learn/scikit-learn/issues/21755 */display: inline-block !important;position: relative;}#sk-container-id-21 div.sk-text-repr-fallback {display: none;}</style><div id=\"sk-container-id-21\" class=\"sk-top-container\"><div class=\"sk-text-repr-fallback\"><pre>LinearRegression()</pre><b>In a Jupyter environment, please rerun this cell to show the HTML representation or trust the notebook. <br />On GitHub, the HTML representation is unable to render, please try loading this page with nbviewer.org.</b></div><div class=\"sk-container\" hidden><div class=\"sk-item\"><div class=\"sk-estimator sk-toggleable\"><input class=\"sk-toggleable__control sk-hidden--visually\" id=\"sk-estimator-id-21\" type=\"checkbox\" checked><label for=\"sk-estimator-id-21\" class=\"sk-toggleable__label sk-toggleable__label-arrow\">LinearRegression</label><div class=\"sk-toggleable__content\"><pre>LinearRegression()</pre></div></div></div></div></div>"
      ],
      "text/plain": [
       "LinearRegression()"
      ]
     },
     "execution_count": 936,
     "metadata": {},
     "output_type": "execute_result"
    },
    {
     "data": {
      "image/png": "[encoded data removed]",
      "text/plain": [
       "<Figure size 800x550 with 3 Axes>"
      ]
     },
     "metadata": {},
     "output_type": "display_data"
    }
   ],
   "source": [
    "# Plot the Distribution plots for the features\n",
    "import warnings\n",
    "warnings.filterwarnings('ignore')\n",
    "plt.subplot(1,3,1)\n",
    "sns.distplot(df_provider_city_last['Revenues Per Capita'])\n",
    "plt.subplot(1,3,2)\n",
    "sns.distplot(df_provider_city_last['Expenditures Per Capita'])\n",
    "plt.subplot(1,3,3)\n",
    "sns.distplot(df_provider_city_last['EHR Per Capita']) # right skewed distribution\n",
    "# ================================================\n",
    "# Build the model\n",
    "# ================================================\n",
    "\n",
    "# Training data\n",
    "X = df_provider_city_last[['Revenues Per Capita', 'Expenditures Per Capita']] # feature \n",
    "y = df_provider_city_last['EHR Per Capita'] # target\n",
    "\n",
    "from sklearn.model_selection import train_test_split\n",
    "import statsmodels.api as sm\n",
    "\n",
    "# Splitting the data into train and test\n",
    "X_train, X_test, y_train, y_test = train_test_split(X,y, train_size=0.7,test_size=0.3,random_state=100)\n",
    "\n",
    "# Train the model: include an intercept to the model by default\n",
    "model = LinearRegression()\n",
    "model.fit(X_train, y_train)"
   ]
  },
  {
   "cell_type": "code",
   "execution_count": 937,
   "id": "e19bd739",
   "metadata": {},
   "outputs": [
    {
     "data": {
      "text/html": [
       "<div>\n",
       "<style scoped>\n",
       "    .dataframe tbody tr th:only-of-type {\n",
       "        vertical-align: middle;\n",
       "    }\n",
       "\n",
       "    .dataframe tbody tr th {\n",
       "        vertical-align: top;\n",
       "    }\n",
       "\n",
       "    .dataframe thead th {\n",
       "        text-align: right;\n",
       "    }\n",
       "</style>\n",
       "<table border=\"1\" class=\"dataframe\">\n",
       "  <thead>\n",
       "    <tr style=\"text-align: right;\">\n",
       "      <th></th>\n",
       "      <th>Actual</th>\n",
       "      <th>Predicted</th>\n",
       "    </tr>\n",
       "  </thead>\n",
       "  <tbody>\n",
       "    <tr>\n",
       "      <th>130</th>\n",
       "      <td>2.382454</td>\n",
       "      <td>8.254729</td>\n",
       "    </tr>\n",
       "    <tr>\n",
       "      <th>146</th>\n",
       "      <td>0.857166</td>\n",
       "      <td>4.883690</td>\n",
       "    </tr>\n",
       "    <tr>\n",
       "      <th>287</th>\n",
       "      <td>1.675843</td>\n",
       "      <td>9.359458</td>\n",
       "    </tr>\n",
       "    <tr>\n",
       "      <th>263</th>\n",
       "      <td>0.370943</td>\n",
       "      <td>6.366740</td>\n",
       "    </tr>\n",
       "    <tr>\n",
       "      <th>338</th>\n",
       "      <td>10.011331</td>\n",
       "      <td>9.224168</td>\n",
       "    </tr>\n",
       "  </tbody>\n",
       "</table>\n",
       "</div>"
      ],
      "text/plain": [
       "        Actual  Predicted\n",
       "130   2.382454   8.254729\n",
       "146   0.857166   4.883690\n",
       "287   1.675843   9.359458\n",
       "263   0.370943   6.366740\n",
       "338  10.011331   9.224168"
      ]
     },
     "execution_count": 937,
     "metadata": {},
     "output_type": "execute_result"
    }
   ],
   "source": [
    "y_pred = model.predict(X_test)\n",
    "\n",
    "# Comparing the test values and the predicted values\n",
    "comparison_df = pd.DataFrame({\"Actual\":y_test,\"Predicted\":y_pred})\n",
    "comparison_df.head()"
   ]
  },
  {
   "cell_type": "code",
   "execution_count": 938,
   "id": "d294d1d3",
   "metadata": {},
   "outputs": [
    {
     "data": {},
     "metadata": {},
     "output_type": "display_data"
    },
    {
     "data": {
      "application/vnd.holoviews_exec.v0+json": "",
      "text/html": [
       "<div id='2458'>\n",
       "  <div class=\"bk-root\" id=\"32e0eb6e-c259-47e0-b1f2-eb6d23e71b5f\" data-root-id=\"2458\"></div>\n",
       "</div>\n",
       "<script type=\"application/javascript\">(function(root) {\n",
       "  function embed_document(root) {\n",
       "    var docs_json = {\"3b8de0fb-2635-4467-b96e-80a73c618729\":{\"defs\":[{\"extends\":null,\"module\":null,\"name\":\"ReactiveHTML1\",\"overrides\":[],\"properties\":[]},{\"extends\":null,\"module\":null,\"name\":\"FlexBox1\",\"overrides\":[],\"properties\":[{\"default\":\"flex-start\",\"kind\":null,\"name\":\"align_content\"},{\"default\":\"flex-start\",\"kind\":null,\"name\":\"align_items\"},{\"default\":\"row\",\"kind\":null,\"name\":\"flex_direction\"},{\"default\":\"wrap\",\"kind\":null,\"name\":\"flex_wrap\"},{\"default\":\"flex-start\",\"kind\":null,\"name\":\"justify_content\"}]},{\"extends\":null,\"module\":null,\"name\":\"GridStack1\",\"overrides\":[],\"properties\":[{\"default\":\"warn\",\"kind\":null,\"name\":\"mode\"},{\"default\":null,\"kind\":null,\"name\":\"ncols\"},{\"default\":null,\"kind\":null,\"name\":\"nrows\"},{\"default\":true,\"kind\":null,\"name\":\"allow_resize\"},{\"default\":true,\"kind\":null,\"name\":\"allow_drag\"},{\"default\":[],\"kind\":null,\"name\":\"state\"}]},{\"extends\":null,\"module\":null,\"name\":\"click1\",\"overrides\":[],\"properties\":[{\"default\":\"\",\"kind\":null,\"name\":\"terminal_output\"},{\"default\":\"\",\"kind\":null,\"name\":\"debug_name\"},{\"default\":0,\"kind\":null,\"name\":\"clears\"}]},{\"extends\":null,\"module\":null,\"name\":\"NotificationAreaBase1\",\"overrides\":[],\"properties\":[{\"default\":\"bottom-right\",\"kind\":null,\"name\":\"position\"},{\"default\":0,\"kind\":null,\"name\":\"_clear\"}]},{\"extends\":null,\"module\":null,\"name\":\"NotificationArea1\",\"overrides\":[],\"properties\":[{\"default\":[],\"kind\":null,\"name\":\"notifications\"},{\"default\":\"bottom-right\",\"kind\":null,\"name\":\"position\"},{\"default\":0,\"kind\":null,\"name\":\"_clear\"},{\"default\":[{\"background\":\"#ffc107\",\"icon\":{\"className\":\"fas fa-exclamation-triangle\",\"color\":\"white\",\"tagName\":\"i\"},\"type\":\"warning\"},{\"background\":\"#007bff\",\"icon\":{\"className\":\"fas fa-info-circle\",\"color\":\"white\",\"tagName\":\"i\"},\"type\":\"info\"}],\"kind\":null,\"name\":\"types\"}]},{\"extends\":null,\"module\":null,\"name\":\"Notification\",\"overrides\":[],\"properties\":[{\"default\":null,\"kind\":null,\"name\":\"background\"},{\"default\":3000,\"kind\":null,\"name\":\"duration\"},{\"default\":null,\"kind\":null,\"name\":\"icon\"},{\"default\":\"\",\"kind\":null,\"name\":\"message\"},{\"default\":null,\"kind\":null,\"name\":\"notification_type\"},{\"default\":false,\"kind\":null,\"name\":\"_destroyed\"}]},{\"extends\":null,\"module\":null,\"name\":\"TemplateActions1\",\"overrides\":[],\"properties\":[{\"default\":0,\"kind\":null,\"name\":\"open_modal\"},{\"default\":0,\"kind\":null,\"name\":\"close_modal\"}]},{\"extends\":null,\"module\":null,\"name\":\"MaterialTemplateActions1\",\"overrides\":[],\"properties\":[{\"default\":0,\"kind\":null,\"name\":\"open_modal\"},{\"default\":0,\"kind\":null,\"name\":\"close_modal\"}]}],\"roots\":{\"references\":[{\"attributes\":{\"axis_label\":\"True Values(y test)\",\"coordinates\":null,\"formatter\":{\"id\":\"2503\"},\"group\":null,\"major_label_policy\":{\"id\":\"2504\"},\"ticker\":{\"id\":\"2473\"}},\"id\":\"2472\",\"type\":\"LinearAxis\"},{\"attributes\":{\"data\":{\"Predicted Values\":{\"__ndarray__\":\"rCeK22uCIEDMfZoJ5ogTQOYUeuEKuCJA2OKB0Yp3GUBUy/EdxnIiQDADpuyINQNAXMxeeJBMHUAQRX2Pex8kQEA8WceR9RFANGjK4C8LHUAkfkqgx8IiQBgW6Fn62CFAnh6zcF2mKUAA6krkaBQSQMCyLa1DARpAGDuI5E8KIUDIDI3w8A8kQAigTnokjQlAuMPqu+OoHkBck2rdTIkjQOBNuaahFR9AYLFFQ4cjIEDYJyupOe4aQI47zgmRrCFAIiGBilTpJEBMXvU1QaYZQDTqWZnZXhhAaAAdSEwpEUDIzpQrOOYYQMD0n5P0hRVA0EydjpI/JEDEGi2K0IQdQLA/XCz/WBRAvBbpX33WF0Cw5GvRMlsbQP55gmQ24yBAjEJ0kahEJEC68QXeAaAhQEhLSXOmVxNAHKb0hJy8IEAomiOC+3keQKD9mfKMBh5AOAwFAgBJHkCMmV9P3mIdQKSFKuWUHxRAxOuIXDe7HECiyBr4VLMjQPR4MIbpjRtAKOkeRItFI0BoSrWwpwAcQAo/h7ChNSVAqhK2C3N2I0CMlNZa4bAfQCIOI/UBOSRAcG03nMEWBUBGCXPQ9HQiQGQyn8xJdBJAmlhM6ffdIkDIGBxsVUomQADdzI76Xeg/ykcFbgUYIkAIhYBR+B8eQDwW1UJ6nCBAVB33d+XzGUAohJQKRXoVQIwsYdK9ehtAjvCEuuhHKEBoXo8HGSUcQE5f0XeCciBANIAttGOCJEDEfCC2U/AeQNgkz29eSiJACNUD1XjLFEC0gpZpBR0hQBSl2EhUdCZA1nsdwEDhIkAYyCtDqsEjQFQfJvh/CxNAwvGUnTwtIECgKT8qmcIgQPQnbY5vsR5APmVe0/PrJEAwnTF+iL0jQETOOOwA9RhAIqlomHQGI0B08Xu2Ww0gQNhFrIkg1RhAhsRVpZvsK0AAnUFBS2AgQIBvWRbOkiFArmUuK692IEAoxgizj90XQOoSXuvw1iVAyOLUF51aJ0CsVSf0nx4cQCaKS449JiZADmajWlhJIUBg6qfHKJQMQIho2fCabhxAxHWec142GkCIjfC+CmsgQOBUsemEvx1AfuwXeRDUI0D6ROnakBcnQBKFYwM4CCBAkG6n8i8zFECCafEqdnwjQBzNDaFdShpAyOiNURMIFUDQb26UxU/5PwTEUq0adBpAhOdKHvnIFECMCbMMKTUYQMyrsnXIgyNAPHO0tYDAGEBMXwvQnRklQNxZx3fTdSVAoGsEOPOSG0A=\",\"dtype\":\"float64\",\"order\":\"little\",\"shape\":[118]},\"Predicted_Values\":{\"__ndarray__\":\"rCeK22uCIEDMfZoJ5ogTQOYUeuEKuCJA2OKB0Yp3GUBUy/EdxnIiQDADpuyINQNAXMxeeJBMHUAQRX2Pex8kQEA8WceR9RFANGjK4C8LHUAkfkqgx8IiQBgW6Fn62CFAnh6zcF2mKUAA6krkaBQSQMCyLa1DARpAGDuI5E8KIUDIDI3w8A8kQAigTnokjQlAuMPqu+OoHkBck2rdTIkjQOBNuaahFR9AYLFFQ4cjIEDYJyupOe4aQI47zgmRrCFAIiGBilTpJEBMXvU1QaYZQDTqWZnZXhhAaAAdSEwpEUDIzpQrOOYYQMD0n5P0hRVA0EydjpI/JEDEGi2K0IQdQLA/XCz/WBRAvBbpX33WF0Cw5GvRMlsbQP55gmQ24yBAjEJ0kahEJEC68QXeAaAhQEhLSXOmVxNAHKb0hJy8IEAomiOC+3keQKD9mfKMBh5AOAwFAgBJHkCMmV9P3mIdQKSFKuWUHxRAxOuIXDe7HECiyBr4VLMjQPR4MIbpjRtAKOkeRItFI0BoSrWwpwAcQAo/h7ChNSVAqhK2C3N2I0CMlNZa4bAfQCIOI/UBOSRAcG03nMEWBUBGCXPQ9HQiQGQyn8xJdBJAmlhM6ffdIkDIGBxsVUomQADdzI76Xeg/ykcFbgUYIkAIhYBR+B8eQDwW1UJ6nCBAVB33d+XzGUAohJQKRXoVQIwsYdK9ehtAjvCEuuhHKEBoXo8HGSUcQE5f0XeCciBANIAttGOCJEDEfCC2U/AeQNgkz29eSiJACNUD1XjLFEC0gpZpBR0hQBSl2EhUdCZA1nsdwEDhIkAYyCtDqsEjQFQfJvh/CxNAwvGUnTwtIECgKT8qmcIgQPQnbY5vsR5APmVe0/PrJEAwnTF+iL0jQETOOOwA9RhAIqlomHQGI0B08Xu2Ww0gQNhFrIkg1RhAhsRVpZvsK0AAnUFBS2AgQIBvWRbOkiFArmUuK692IEAoxgizj90XQOoSXuvw1iVAyOLUF51aJ0CsVSf0nx4cQCaKS449JiZADmajWlhJIUBg6qfHKJQMQIho2fCabhxAxHWec142GkCIjfC+CmsgQOBUsemEvx1AfuwXeRDUI0D6ROnakBcnQBKFYwM4CCBAkG6n8i8zFECCafEqdnwjQBzNDaFdShpAyOiNURMIFUDQb26UxU/5PwTEUq0adBpAhOdKHvnIFECMCbMMKTUYQMyrsnXIgyNAPHO0tYDAGEBMXwvQnRklQNxZx3fTdSVAoGsEOPOSG0A=\",\"dtype\":\"float64\",\"order\":\"little\",\"shape\":[118]},\"True Values(y test)\":{\"__ndarray__\":\"40U4AUQPA0D1iDcy523rP8PTwMhA0Po/OdWJu4e91z9fmYQlzQUkQItFeJycTO8/MrcTzYz+5j/X4DCQ3B0xQI5TFvD4fQdAnhVFhKlI/D8mKtfgbbJRQEYXXXTRRStAGIcACRKdBEAMFClpQDQDQGdIHYZWmilAX8ajBI8LBEC/J4EB/OIDQIlqobHNm/s/opP+2Skc1D+EB62U3gHXP33a/1pBdvM/R98cfXP07z8uYI+tqUYEQB0JuyTFJi1AOnEn66BtQUAeWawmJOorQIgeqsPfMRRAkdh91sfhBEDp7dT+LFfbPxAWxUBz2xJAiQSpPggcIUCgDfenBRL3P5vUKDvjPgFAHCPZ+4cH8D9xo92trjzfP5pgFtN74iRAvVZ22MTg8z+iZS03Hw3jP0cjVWWBm/4/UhsJAwFrVUA3UyXkOAzmP5tgvJV9Dug/zQRLkb57DUDV9N6rDm4oQHktGU86+xRA+ViHoVPK9D/int9oRE7+P1ltd7vGEtQ/7LmIjMDOE0AOdH2rZWvRP42sNxE7UlJApVqlWqWaMkAanBvWxk8MQM9yg14esjZAZ+fPpv6o7j8PI9uzuQ7VP44MF7qbnyJAnTyq2HDVC0BGmMOT6aAFQLnfk6UT5AFAl4pe9BYyCEBsk4aohU8EQIXbiqEW5BFAmU6xU/IJ1z8JTxXUFYgXQCc01ouQqf8/DHf940oJG0BR0IynvkcEQMkB513d5Os/8/8pu4XS4T+K9qCBUzf+P/7AdfOUxSFAs7Drb9Xg7z/xTD48qAz2P4SDDVIAwQdAhYJnfPMU7j/6MpOCoJ31Pyv2GJIw3xVAXKg5CcSFFkByHqy1p1lVQCJ3FZzypSFAJcPL7ZBwFEAoONSd0MzzPwYv7RYgCeY/adBvoT98+T9MUxRMyP/wPwM0QdOwgfk/C2rlAEXB3T9ejJCdecMGQKuL7IT2PPw/aJnPvb+j+T++Eb4XAnE6QEfJIH3y9g5ADt3FnRorMECalzIducwiQNUuX1B1iAJA5FWx+mquNUBQ5pJ/AdXXPxiJaoflb+U/yKMwqf368T91I5qYULf8Pw1KGn25MxBAsVSOnvO56D8Utv+OXifCP0+oBYxJnCFAGQ7C6YqbC0AAU7bFeDlBQF8ZYDIVjfE/x8i9YZiZ7z+xGeR7mlk0QOGiGzIWLgpA+zg76pLc+T8VQR3+unUeQH1L+nT1Tg5AqkThWemZ+D8Fzx0O68wVQIUV0kS+whhAXdrVPgU7HUA=\",\"dtype\":\"float64\",\"order\":\"little\",\"shape\":[118]},\"True_Values_left_parenthesis_y_test_right_parenthesis\":{\"__ndarray__\":\"40U4AUQPA0D1iDcy523rP8PTwMhA0Po/OdWJu4e91z9fmYQlzQUkQItFeJycTO8/MrcTzYz+5j/X4DCQ3B0xQI5TFvD4fQdAnhVFhKlI/D8mKtfgbbJRQEYXXXTRRStAGIcACRKdBEAMFClpQDQDQGdIHYZWmilAX8ajBI8LBEC/J4EB/OIDQIlqobHNm/s/opP+2Skc1D+EB62U3gHXP33a/1pBdvM/R98cfXP07z8uYI+tqUYEQB0JuyTFJi1AOnEn66BtQUAeWawmJOorQIgeqsPfMRRAkdh91sfhBEDp7dT+LFfbPxAWxUBz2xJAiQSpPggcIUCgDfenBRL3P5vUKDvjPgFAHCPZ+4cH8D9xo92trjzfP5pgFtN74iRAvVZ22MTg8z+iZS03Hw3jP0cjVWWBm/4/UhsJAwFrVUA3UyXkOAzmP5tgvJV9Dug/zQRLkb57DUDV9N6rDm4oQHktGU86+xRA+ViHoVPK9D/int9oRE7+P1ltd7vGEtQ/7LmIjMDOE0AOdH2rZWvRP42sNxE7UlJApVqlWqWaMkAanBvWxk8MQM9yg14esjZAZ+fPpv6o7j8PI9uzuQ7VP44MF7qbnyJAnTyq2HDVC0BGmMOT6aAFQLnfk6UT5AFAl4pe9BYyCEBsk4aohU8EQIXbiqEW5BFAmU6xU/IJ1z8JTxXUFYgXQCc01ouQqf8/DHf940oJG0BR0IynvkcEQMkB513d5Os/8/8pu4XS4T+K9qCBUzf+P/7AdfOUxSFAs7Drb9Xg7z/xTD48qAz2P4SDDVIAwQdAhYJnfPMU7j/6MpOCoJ31Pyv2GJIw3xVAXKg5CcSFFkByHqy1p1lVQCJ3FZzypSFAJcPL7ZBwFEAoONSd0MzzPwYv7RYgCeY/adBvoT98+T9MUxRMyP/wPwM0QdOwgfk/C2rlAEXB3T9ejJCdecMGQKuL7IT2PPw/aJnPvb+j+T++Eb4XAnE6QEfJIH3y9g5ADt3FnRorMECalzIducwiQNUuX1B1iAJA5FWx+mquNUBQ5pJ/AdXXPxiJaoflb+U/yKMwqf368T91I5qYULf8Pw1KGn25MxBAsVSOnvO56D8Utv+OXifCP0+oBYxJnCFAGQ7C6YqbC0AAU7bFeDlBQF8ZYDIVjfE/x8i9YZiZ7z+xGeR7mlk0QOGiGzIWLgpA+zg76pLc+T8VQR3+unUeQH1L+nT1Tg5AqkThWemZ+D8Fzx0O68wVQIUV0kS+whhAXdrVPgU7HUA=\",\"dtype\":\"float64\",\"order\":\"little\",\"shape\":[118]}},\"selected\":{\"id\":\"2494\"},\"selection_policy\":{\"id\":\"2515\"}},\"id\":\"2493\",\"type\":\"ColumnDataSource\"},{\"attributes\":{},\"id\":\"2480\",\"type\":\"SaveTool\"},{\"attributes\":{\"margin\":[5,5,5,5],\"name\":\"HSpacer02574\",\"sizing_mode\":\"stretch_width\"},\"id\":\"2518\",\"type\":\"Spacer\"},{\"attributes\":{\"axis_label\":\"Predicted Values\",\"coordinates\":null,\"formatter\":{\"id\":\"2506\"},\"group\":null,\"major_label_policy\":{\"id\":\"2507\"},\"ticker\":{\"id\":\"2477\"}},\"id\":\"2476\",\"type\":\"LinearAxis\"},{\"attributes\":{},\"id\":\"2515\",\"type\":\"UnionRenderers\"},{\"attributes\":{\"fill_alpha\":{\"value\":0.2},\"fill_color\":{\"value\":\"#30a2da\"},\"hatch_alpha\":{\"value\":0.2},\"hatch_color\":{\"value\":\"#30a2da\"},\"line_alpha\":{\"value\":0.2},\"line_color\":{\"value\":\"#30a2da\"},\"size\":{\"value\":5.477225575051661},\"x\":{\"field\":\"True Values(y test)\"},\"y\":{\"field\":\"Predicted Values\"}},\"id\":\"2498\",\"type\":\"Scatter\"},{\"attributes\":{\"axis\":{\"id\":\"2476\"},\"coordinates\":null,\"dimension\":1,\"grid_line_color\":null,\"group\":null,\"ticker\":null},\"id\":\"2479\",\"type\":\"Grid\"},{\"attributes\":{},\"id\":\"2484\",\"type\":\"ResetTool\"},{\"attributes\":{},\"id\":\"2477\",\"type\":\"BasicTicker\"},{\"attributes\":{\"end\":89.33751291465403,\"reset_end\":89.33751291465403,\"reset_start\":-3.523749697951618,\"start\":-3.523749697951618,\"tags\":[[[\"True Values(y test)\",\"True Values(y test)\",null]]]},\"id\":\"2460\",\"type\":\"Range1d\"},{\"attributes\":{\"tools\":[{\"id\":\"2462\"},{\"id\":\"2480\"},{\"id\":\"2481\"},{\"id\":\"2482\"},{\"id\":\"2483\"},{\"id\":\"2484\"}]},\"id\":\"2486\",\"type\":\"Toolbar\"},{\"attributes\":{\"angle\":{\"value\":0.0},\"fill_alpha\":{\"value\":1.0},\"fill_color\":{\"value\":\"#30a2da\"},\"hatch_alpha\":{\"value\":1.0},\"hatch_color\":{\"value\":\"#30a2da\"},\"hatch_scale\":{\"value\":12.0},\"hatch_weight\":{\"value\":1.0},\"line_alpha\":{\"value\":1.0},\"line_cap\":{\"value\":\"butt\"},\"line_color\":{\"value\":\"#30a2da\"},\"line_dash\":{\"value\":[]},\"line_dash_offset\":{\"value\":0},\"line_join\":{\"value\":\"bevel\"},\"line_width\":{\"value\":1},\"marker\":{\"value\":\"circle\"},\"size\":{\"value\":5.477225575051661},\"x\":{\"field\":\"True Values(y test)\"},\"y\":{\"field\":\"Predicted Values\"}},\"id\":\"2501\",\"type\":\"Scatter\"},{\"attributes\":{},\"id\":\"2468\",\"type\":\"LinearScale\"},{\"attributes\":{},\"id\":\"2506\",\"type\":\"BasicTickFormatter\"},{\"attributes\":{\"fill_color\":{\"value\":\"#30a2da\"},\"hatch_color\":{\"value\":\"#30a2da\"},\"line_color\":{\"value\":\"#30a2da\"},\"size\":{\"value\":5.477225575051661},\"x\":{\"field\":\"True Values(y test)\"},\"y\":{\"field\":\"Predicted Values\"}},\"id\":\"2496\",\"type\":\"Scatter\"},{\"attributes\":{\"axis\":{\"id\":\"2472\"},\"coordinates\":null,\"grid_line_color\":null,\"group\":null,\"ticker\":null},\"id\":\"2475\",\"type\":\"Grid\"},{\"attributes\":{\"bottom_units\":\"screen\",\"coordinates\":null,\"fill_alpha\":0.5,\"fill_color\":\"lightgrey\",\"group\":null,\"left_units\":\"screen\",\"level\":\"overlay\",\"line_alpha\":1.0,\"line_color\":\"black\",\"line_dash\":[4,4],\"line_width\":2,\"right_units\":\"screen\",\"syncable\":false,\"top_units\":\"screen\"},\"id\":\"2485\",\"type\":\"BoxAnnotation\"},{\"attributes\":{\"below\":[{\"id\":\"2472\"}],\"center\":[{\"id\":\"2475\"},{\"id\":\"2479\"}],\"height\":300,\"left\":[{\"id\":\"2476\"}],\"margin\":[5,5,5,5],\"min_border_bottom\":10,\"min_border_left\":10,\"min_border_right\":10,\"min_border_top\":10,\"renderers\":[{\"id\":\"2499\"}],\"sizing_mode\":\"fixed\",\"title\":{\"id\":\"2464\"},\"toolbar\":{\"id\":\"2486\"},\"width\":700,\"x_range\":{\"id\":\"2460\"},\"x_scale\":{\"id\":\"2468\"},\"y_range\":{\"id\":\"2461\"},\"y_scale\":{\"id\":\"2470\"}},\"id\":\"2463\",\"subtype\":\"Figure\",\"type\":\"Plot\"},{\"attributes\":{},\"id\":\"2494\",\"type\":\"Selection\"},{\"attributes\":{},\"id\":\"2507\",\"type\":\"AllLabels\"},{\"attributes\":{\"source\":{\"id\":\"2493\"}},\"id\":\"2500\",\"type\":\"CDSView\"},{\"attributes\":{\"end\":15.282190280438407,\"reset_end\":15.282190280438407,\"reset_start\":-0.5585932825799587,\"start\":-0.5585932825799587,\"tags\":[[[\"Predicted Values\",\"Predicted Values\",null]]]},\"id\":\"2461\",\"type\":\"Range1d\"},{\"attributes\":{\"overlay\":{\"id\":\"2485\"}},\"id\":\"2483\",\"type\":\"BoxZoomTool\"},{\"attributes\":{\"fill_alpha\":{\"value\":0.1},\"fill_color\":{\"value\":\"#30a2da\"},\"hatch_alpha\":{\"value\":0.1},\"hatch_color\":{\"value\":\"#30a2da\"},\"line_alpha\":{\"value\":0.1},\"line_color\":{\"value\":\"#30a2da\"},\"size\":{\"value\":5.477225575051661},\"x\":{\"field\":\"True Values(y test)\"},\"y\":{\"field\":\"Predicted Values\"}},\"id\":\"2497\",\"type\":\"Scatter\"},{\"attributes\":{\"callback\":null,\"renderers\":[{\"id\":\"2499\"}],\"tags\":[\"hv_created\"],\"tooltips\":[[\"True Values(y test)\",\"@{True_Values_left_parenthesis_y_test_right_parenthesis}\"],[\"Predicted Values\",\"@{Predicted_Values}\"]]},\"id\":\"2462\",\"type\":\"HoverTool\"},{\"attributes\":{},\"id\":\"2504\",\"type\":\"AllLabels\"},{\"attributes\":{\"margin\":[5,5,5,5],\"name\":\"HSpacer02573\",\"sizing_mode\":\"stretch_width\"},\"id\":\"2459\",\"type\":\"Spacer\"},{\"attributes\":{\"children\":[{\"id\":\"2459\"},{\"id\":\"2463\"},{\"id\":\"2518\"}],\"margin\":[0,0,0,0],\"name\":\"Row02569\",\"tags\":[\"embedded\"]},\"id\":\"2458\",\"type\":\"Row\"},{\"attributes\":{},\"id\":\"2470\",\"type\":\"LinearScale\"},{\"attributes\":{},\"id\":\"2473\",\"type\":\"BasicTicker\"},{\"attributes\":{},\"id\":\"2481\",\"type\":\"PanTool\"},{\"attributes\":{},\"id\":\"2503\",\"type\":\"BasicTickFormatter\"},{\"attributes\":{},\"id\":\"2482\",\"type\":\"WheelZoomTool\"},{\"attributes\":{\"coordinates\":null,\"data_source\":{\"id\":\"2493\"},\"glyph\":{\"id\":\"2496\"},\"group\":null,\"hover_glyph\":null,\"muted_glyph\":{\"id\":\"2498\"},\"nonselection_glyph\":{\"id\":\"2497\"},\"selection_glyph\":{\"id\":\"2501\"},\"view\":{\"id\":\"2500\"}},\"id\":\"2499\",\"type\":\"GlyphRenderer\"},{\"attributes\":{\"coordinates\":null,\"group\":null,\"text_color\":\"black\",\"text_font_size\":\"12pt\"},\"id\":\"2464\",\"type\":\"Title\"}],\"root_ids\":[\"2458\"]},\"title\":\"Bokeh Application\",\"version\":\"2.4.3\"}};\n",
       "    var render_items = [{\"docid\":\"3b8de0fb-2635-4467-b96e-80a73c618729\",\"root_ids\":[\"2458\"],\"roots\":{\"2458\":\"32e0eb6e-c259-47e0-b1f2-eb6d23e71b5f\"}}];\n",
       "    root.Bokeh.embed.embed_items_notebook(docs_json, render_items);\n",
       "    for (const render_item of render_items) {\n",
       "      for (const root_id of render_item.root_ids) {\n",
       "\tconst id_el = document.getElementById(root_id)\n",
       "\tif (id_el.children.length && (id_el.children[0].className === 'bk-root')) {\n",
       "\t  const root_el = id_el.children[0]\n",
       "\t  root_el.id = root_el.id + '-rendered'\n",
       "\t}\n",
       "      }\n",
       "    }\n",
       "  }\n",
       "  if (root.Bokeh !== undefined && root.Bokeh.Panel !== undefined) {\n",
       "    embed_document(root);\n",
       "  } else {\n",
       "    var attempts = 0;\n",
       "    var timer = setInterval(function(root) {\n",
       "      if (root.Bokeh !== undefined && root.Bokeh.Panel !== undefined) {\n",
       "        clearInterval(timer);\n",
       "        embed_document(root);\n",
       "      } else if (document.readyState == \"complete\") {\n",
       "        attempts++;\n",
       "        if (attempts > 200) {\n",
       "          clearInterval(timer);\n",
       "          console.log(\"Bokeh: ERROR: Unable to run BokehJS code because BokehJS library is missing\");\n",
       "        }\n",
       "      }\n",
       "    }, 25, root)\n",
       "  }\n",
       "})(window);</script>"
      ],
      "text/plain": [
       ":Scatter   [True Values(y test)]   (Predicted Values)"
      ]
     },
     "execution_count": 938,
     "metadata": {
      "application/vnd.holoviews_exec.v0+json": {
       "id": "2458"
      }
     },
     "output_type": "execute_result"
    }
   ],
   "source": [
    "import hvplot.pandas\n",
    "pd.DataFrame({'True Values(y test)': y_test, 'Predicted Values': y_pred}).hvplot.scatter(x='True Values(y test)', y='Predicted Values')"
   ]
  },
  {
   "cell_type": "markdown",
   "id": "5dec2cef",
   "metadata": {},
   "source": [
    "### Check the distribution of the error terms"
   ]
  },
  {
   "cell_type": "code",
   "execution_count": 939,
   "id": "1ffbf8a5",
   "metadata": {},
   "outputs": [
    {
     "data": {},
     "metadata": {},
     "output_type": "display_data"
    },
    {
     "data": {
      "application/vnd.holoviews_exec.v0+json": "",
      "text/html": [
       "<div id='2570'>\n",
       "  <div class=\"bk-root\" id=\"ebca3dcb-f554-4316-b201-d411d14c51ed\" data-root-id=\"2570\"></div>\n",
       "</div>\n",
       "<script type=\"application/javascript\">(function(root) {\n",
       "  function embed_document(root) {\n",
       "    var docs_json = {\"7fd06181-eba0-4699-a177-09e0039038b3\":{\"defs\":[{\"extends\":null,\"module\":null,\"name\":\"ReactiveHTML1\",\"overrides\":[],\"properties\":[]},{\"extends\":null,\"module\":null,\"name\":\"FlexBox1\",\"overrides\":[],\"properties\":[{\"default\":\"flex-start\",\"kind\":null,\"name\":\"align_content\"},{\"default\":\"flex-start\",\"kind\":null,\"name\":\"align_items\"},{\"default\":\"row\",\"kind\":null,\"name\":\"flex_direction\"},{\"default\":\"wrap\",\"kind\":null,\"name\":\"flex_wrap\"},{\"default\":\"flex-start\",\"kind\":null,\"name\":\"justify_content\"}]},{\"extends\":null,\"module\":null,\"name\":\"GridStack1\",\"overrides\":[],\"properties\":[{\"default\":\"warn\",\"kind\":null,\"name\":\"mode\"},{\"default\":null,\"kind\":null,\"name\":\"ncols\"},{\"default\":null,\"kind\":null,\"name\":\"nrows\"},{\"default\":true,\"kind\":null,\"name\":\"allow_resize\"},{\"default\":true,\"kind\":null,\"name\":\"allow_drag\"},{\"default\":[],\"kind\":null,\"name\":\"state\"}]},{\"extends\":null,\"module\":null,\"name\":\"click1\",\"overrides\":[],\"properties\":[{\"default\":\"\",\"kind\":null,\"name\":\"terminal_output\"},{\"default\":\"\",\"kind\":null,\"name\":\"debug_name\"},{\"default\":0,\"kind\":null,\"name\":\"clears\"}]},{\"extends\":null,\"module\":null,\"name\":\"NotificationAreaBase1\",\"overrides\":[],\"properties\":[{\"default\":\"bottom-right\",\"kind\":null,\"name\":\"position\"},{\"default\":0,\"kind\":null,\"name\":\"_clear\"}]},{\"extends\":null,\"module\":null,\"name\":\"NotificationArea1\",\"overrides\":[],\"properties\":[{\"default\":[],\"kind\":null,\"name\":\"notifications\"},{\"default\":\"bottom-right\",\"kind\":null,\"name\":\"position\"},{\"default\":0,\"kind\":null,\"name\":\"_clear\"},{\"default\":[{\"background\":\"#ffc107\",\"icon\":{\"className\":\"fas fa-exclamation-triangle\",\"color\":\"white\",\"tagName\":\"i\"},\"type\":\"warning\"},{\"background\":\"#007bff\",\"icon\":{\"className\":\"fas fa-info-circle\",\"color\":\"white\",\"tagName\":\"i\"},\"type\":\"info\"}],\"kind\":null,\"name\":\"types\"}]},{\"extends\":null,\"module\":null,\"name\":\"Notification\",\"overrides\":[],\"properties\":[{\"default\":null,\"kind\":null,\"name\":\"background\"},{\"default\":3000,\"kind\":null,\"name\":\"duration\"},{\"default\":null,\"kind\":null,\"name\":\"icon\"},{\"default\":\"\",\"kind\":null,\"name\":\"message\"},{\"default\":null,\"kind\":null,\"name\":\"notification_type\"},{\"default\":false,\"kind\":null,\"name\":\"_destroyed\"}]},{\"extends\":null,\"module\":null,\"name\":\"TemplateActions1\",\"overrides\":[],\"properties\":[{\"default\":0,\"kind\":null,\"name\":\"open_modal\"},{\"default\":0,\"kind\":null,\"name\":\"close_modal\"}]},{\"extends\":null,\"module\":null,\"name\":\"MaterialTemplateActions1\",\"overrides\":[],\"properties\":[{\"default\":0,\"kind\":null,\"name\":\"open_modal\"},{\"default\":0,\"kind\":null,\"name\":\"close_modal\"}]}],\"roots\":{\"references\":[{\"attributes\":{\"source\":{\"id\":\"2605\"}},\"id\":\"2612\",\"type\":\"CDSView\"},{\"attributes\":{\"fill_alpha\":0.5,\"fill_color\":\"#30a2da\",\"hatch_alpha\":0.1,\"hatch_color\":\"#30a2da\",\"line_alpha\":1,\"x\":{\"field\":\"x\"},\"y\":{\"field\":\"y\"}},\"id\":\"2609\",\"type\":\"Patch\"},{\"attributes\":{\"fill_alpha\":0.5,\"fill_color\":\"#30a2da\",\"hatch_color\":\"#30a2da\",\"x\":{\"field\":\"x\"},\"y\":{\"field\":\"y\"}},\"id\":\"2613\",\"type\":\"Patch\"},{\"attributes\":{\"axis_label\":\"Error Values\",\"coordinates\":null,\"formatter\":{\"id\":\"2615\"},\"group\":null,\"major_label_policy\":{\"id\":\"2616\"},\"ticker\":{\"id\":\"2585\"}},\"id\":\"2584\",\"type\":\"LinearAxis\"},{\"attributes\":{\"end\":94.41290531619038,\"reset_end\":94.41290531619038,\"reset_start\":-30.606553951878812,\"start\":-30.606553951878812,\"tags\":[[[\"Error Values\",\"Error Values\",null]]]},\"id\":\"2572\",\"type\":\"Range1d\"},{\"attributes\":{\"coordinates\":null,\"group\":null,\"text_color\":\"black\",\"text_font_size\":\"12pt\"},\"id\":\"2576\",\"type\":\"Title\"},{\"attributes\":{\"axis\":{\"id\":\"2588\"},\"coordinates\":null,\"dimension\":1,\"grid_line_color\":null,\"group\":null,\"ticker\":null},\"id\":\"2591\",\"type\":\"Grid\"},{\"attributes\":{\"axis_label\":\"Density\",\"coordinates\":null,\"formatter\":{\"id\":\"2618\"},\"group\":null,\"major_label_policy\":{\"id\":\"2619\"},\"ticker\":{\"id\":\"2589\"}},\"id\":\"2588\",\"type\":\"LinearAxis\"},{\"attributes\":{},\"id\":\"2593\",\"type\":\"PanTool\"},{\"attributes\":{},\"id\":\"2627\",\"type\":\"UnionRenderers\"},{\"attributes\":{},\"id\":\"2594\",\"type\":\"WheelZoomTool\"},{\"attributes\":{\"fill_alpha\":0.5,\"fill_color\":\"#30a2da\",\"hatch_color\":\"#30a2da\",\"x\":{\"field\":\"x\"},\"y\":{\"field\":\"y\"}},\"id\":\"2608\",\"type\":\"Patch\"},{\"attributes\":{\"tools\":[{\"id\":\"2574\"},{\"id\":\"2592\"},{\"id\":\"2593\"},{\"id\":\"2594\"},{\"id\":\"2595\"},{\"id\":\"2596\"}]},\"id\":\"2598\",\"type\":\"Toolbar\"},{\"attributes\":{\"data\":{\"x\":{\"__ndarray__\":\"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\",\"dtype\":\"float64\",\"order\":\"little\",\"shape\":[200]},\"y\":{\"__ndarray__\":\"AAAAAAAAAAAAAAAAAAAAAAAAAAAAAAAAAAAAAAAAAAAAAAAAAAAAAAAAAAAAAAAAAAAAAAAAAAAAAAAAAAAAAAAAAAAAAAAAAAAAAAAAAAAAAAAAAAAAAAAAAAAAAAAAAAAAAAAAAAAAAAAAAAAAAAAAAAAAAAAAAAAAAAAAAAAAAAAAAAAAAAAAAAAAAAAAAAAAAAAAAAAAAAAAAAAAAAAAAAAAAAAAAAAAAAAAAAAAAAAAAAAAAAAAAAAAAAAAAAAAAAAAAAAAAAAAAAAAAAAAAAAAAAAAAAAAAAAAAAAAAAAAAAAAAAAAAAAAAAAAAAAAAAAAAAAAAAAAAAAAAAAAAAAAAAAAAAAAAAAAAAAAAAAAAAAAAAAAAAAAAAAAAAAAAAAAAAAAAAAAAAAAAAAAAAAAAAAAAAAAAAAAAAAAAAAAAAAAAAAAAAAAAAAAAAAAAAAAAAAAAAAAAAAAAAAAAAAAAAAAAAAAAAAAAAAAAAAAAAAAAAAAAAAAAAAAAAAAAAAAAAAAAAAAAAAAAAAAAAAAAAAAAAAAAAAAAAAAAAAAAAAAAAAAAAAAAAAAAAAAAAAAAAAAAAAAAAAAAAAAAAAAAAAAAAAAAAAAAAAAAAAAAAAAAAAAAAAAAAAAAAAAAAAAAAAAAAAAAAAAAAAAAAAAAAAAAAAAAAAAAAAAAAAAAAAAAAAAAAAAAAAAAAAAAAAAAAAAAAAAAAAAAAAAAAAAAAAAAAAAAAAAAAAAAAAAAAAAAAAAAAAAAAAAAAAAAAAAAAAAAAAAAAAAAAAAAAAAAAAAAAAAAAAAAAAAAAAAAAAAAAAAAAAAAAAAAAAAAAAAAAAAAAAAAAAAAAAAAAAAAAAAAAAAAAAAAAAAAAAAAAAAAAAAAAAAAAAAAAAAAAAAAAAAAAAAAAAAAAAAAAAAAAAAAAAAAAAAAAAAAAAAAAAAAAAAAAAAAAAAAAAAAAAAAAAAAAAAAAAAAAAAAAAAAAAAAAAAAAAAAAAAAAAAAAAAAAAAAAAAAAAAAAAAAAAAAAAAAAAAAAAAAAAAAAAAAAAAAAAAAAAAAAAM0Y9d1rLpPiboGgrDfPg+ukGMn7Q3Bj8I7vAAzTETP4Swt++TlB8/9gS54Ou8KD99PR0E6HMyP9UTPfc9Nzo/ehBWLGC8QT9wMBN6/9tGP6o4ne33Ekw/bzAWmohvUD94PMzlf11SPzjC11wtnlM/Ejs3uO4XVD+pKFvPgdVTPzInX0IoBlM/bpHZyzj0UT9I0BmoG/RQP8cRt0gHUFA/hDCv7tg1UD9wXK0U2KtQP6AanENTj1E/GxL1ZWSdUj8ZA68afoNTP3kr+xZb81M/wVGJERO1Uz+n8AyOvrJSP8gxXPwP+1A/0a0E1wB2TT/YsVpYbGJIP3FCKJeOPkM/NuvLBefzPD+/092XUcE0P0iQPUUAWyw/WGckhGx1Ij9YNpaXoeoWPy5sNb/ONAs/tjU7Kh1B/z6IKk0fjTTyPt0xCLZd7eg+2RMIWtVR6T4Z5QMK4/nyPtGolvmynQA/6zOp4jV5DT8mS7W9JVMZP5Zi9be+2iQ/9cEVHnxsMD8+UAnTvL04P2hH4OjG1UE/1iJ2vQyiSD+I0gix+1BQP9EXsuHBw1Q/Re6/hb5vWT/x4fwGERJePz32scdBNmE/SPc7iboqYz8vEY/zKuNkPyaL4tbOcmY/nf9G7zMFaD/nXks02NxpP1vOaFNuT2w/EXxdqybBbz9vwxXfNlByPxIRWhmWsXU/lmvQk+VCej/faKS7yiKAP0MV+YDe/oM/cUwpeqrXiD97X+i8pMuOPw7NCKqr95I/MBsv3+Uhlz87sXkrVtWbP76H7OegdqA/lAsDQ7oVoz8Tb1iiQJylP/rGAZD31Kc/eEE5zWGHqT9SHn96dICqP1xDLI/7m6o/xMmNOlvMqT9+BISveB6oP695IZV7uKU/WpnxHYXToj/mxJSd02OfP7vDwnvPKJk/x3FmVtZhkz8SfM4t97KMPw6kqeg/a4Q/ekPPn/Dsez9Y1KZsVFtyP3929S+WNGc/VK66ciM3XD82tpexH4FQPzqucLtplUI/2SvH1jclND9mSq6CkAclP4emr8BmJBU/ES7Jdpp4BD90iWoxcRbzPg==\",\"dtype\":\"float64\",\"order\":\"little\",\"shape\":[200]}},\"selected\":{\"id\":\"2606\"},\"selection_policy\":{\"id\":\"2627\"}},\"id\":\"2605\",\"type\":\"ColumnDataSource\"},{\"attributes\":{\"axis\":{\"id\":\"2584\"},\"coordinates\":null,\"grid_line_color\":null,\"group\":null,\"ticker\":null},\"id\":\"2587\",\"type\":\"Grid\"},{\"attributes\":{},\"id\":\"2616\",\"type\":\"AllLabels\"},{\"attributes\":{},\"id\":\"2582\",\"type\":\"LinearScale\"},{\"attributes\":{},\"id\":\"2585\",\"type\":\"BasicTicker\"},{\"attributes\":{\"bottom_units\":\"screen\",\"coordinates\":null,\"fill_alpha\":0.5,\"fill_color\":\"lightgrey\",\"group\":null,\"left_units\":\"screen\",\"level\":\"overlay\",\"line_alpha\":1.0,\"line_color\":\"black\",\"line_dash\":[4,4],\"line_width\":2,\"right_units\":\"screen\",\"syncable\":false,\"top_units\":\"screen\"},\"id\":\"2597\",\"type\":\"BoxAnnotation\"},{\"attributes\":{\"below\":[{\"id\":\"2584\"}],\"center\":[{\"id\":\"2587\"},{\"id\":\"2591\"}],\"height\":300,\"left\":[{\"id\":\"2588\"}],\"margin\":[5,5,5,5],\"min_border_bottom\":10,\"min_border_left\":10,\"min_border_right\":10,\"min_border_top\":10,\"renderers\":[{\"id\":\"2611\"}],\"sizing_mode\":\"fixed\",\"title\":{\"id\":\"2576\"},\"toolbar\":{\"id\":\"2598\"},\"width\":700,\"x_range\":{\"id\":\"2572\"},\"x_scale\":{\"id\":\"2580\"},\"y_range\":{\"id\":\"2573\"},\"y_scale\":{\"id\":\"2582\"}},\"id\":\"2575\",\"subtype\":\"Figure\",\"type\":\"Plot\"},{\"attributes\":{},\"id\":\"2589\",\"type\":\"BasicTicker\"},{\"attributes\":{},\"id\":\"2580\",\"type\":\"LinearScale\"},{\"attributes\":{\"coordinates\":null,\"data_source\":{\"id\":\"2605\"},\"glyph\":{\"id\":\"2608\"},\"group\":null,\"hover_glyph\":null,\"muted_glyph\":{\"id\":\"2610\"},\"nonselection_glyph\":{\"id\":\"2609\"},\"selection_glyph\":{\"id\":\"2613\"},\"view\":{\"id\":\"2612\"}},\"id\":\"2611\",\"type\":\"GlyphRenderer\"},{\"attributes\":{\"callback\":null,\"renderers\":[{\"id\":\"2611\"}],\"tags\":[\"hv_created\"],\"tooltips\":[[\"Error Values\",\"@{Error_Values}\"],[\"Density\",\"@{Error_Values_density}\"]]},\"id\":\"2574\",\"type\":\"HoverTool\"},{\"attributes\":{\"children\":[{\"id\":\"2571\"},{\"id\":\"2575\"},{\"id\":\"2630\"}],\"margin\":[0,0,0,0],\"name\":\"Row02694\",\"tags\":[\"embedded\"]},\"id\":\"2570\",\"type\":\"Row\"},{\"attributes\":{},\"id\":\"2618\",\"type\":\"BasicTickFormatter\"},{\"attributes\":{\"margin\":[5,5,5,5],\"name\":\"HSpacer02698\",\"sizing_mode\":\"stretch_width\"},\"id\":\"2571\",\"type\":\"Spacer\"},{\"attributes\":{\"overlay\":{\"id\":\"2597\"}},\"id\":\"2595\",\"type\":\"BoxZoomTool\"},{\"attributes\":{\"fill_alpha\":0.2,\"fill_color\":\"#30a2da\",\"hatch_alpha\":0.2,\"hatch_color\":\"#30a2da\",\"line_alpha\":0.2,\"x\":{\"field\":\"x\"},\"y\":{\"field\":\"y\"}},\"id\":\"2610\",\"type\":\"Patch\"},{\"attributes\":{},\"id\":\"2606\",\"type\":\"Selection\"},{\"attributes\":{},\"id\":\"2592\",\"type\":\"SaveTool\"},{\"attributes\":{},\"id\":\"2619\",\"type\":\"AllLabels\"},{\"attributes\":{},\"id\":\"2596\",\"type\":\"ResetTool\"},{\"attributes\":{\"end\":0.057167244901007386,\"reset_end\":0.057167244901007386,\"reset_start\":0.0,\"tags\":[[[\"Error Values_density\",\"Density\",null]]]},\"id\":\"2573\",\"type\":\"Range1d\"},{\"attributes\":{\"margin\":[5,5,5,5],\"name\":\"HSpacer02699\",\"sizing_mode\":\"stretch_width\"},\"id\":\"2630\",\"type\":\"Spacer\"},{\"attributes\":{},\"id\":\"2615\",\"type\":\"BasicTickFormatter\"}],\"root_ids\":[\"2570\"]},\"title\":\"Bokeh Application\",\"version\":\"2.4.3\"}};\n",
       "    var render_items = [{\"docid\":\"7fd06181-eba0-4699-a177-09e0039038b3\",\"root_ids\":[\"2570\"],\"roots\":{\"2570\":\"ebca3dcb-f554-4316-b201-d411d14c51ed\"}}];\n",
       "    root.Bokeh.embed.embed_items_notebook(docs_json, render_items);\n",
       "    for (const render_item of render_items) {\n",
       "      for (const root_id of render_item.root_ids) {\n",
       "\tconst id_el = document.getElementById(root_id)\n",
       "\tif (id_el.children.length && (id_el.children[0].className === 'bk-root')) {\n",
       "\t  const root_el = id_el.children[0]\n",
       "\t  root_el.id = root_el.id + '-rendered'\n",
       "\t}\n",
       "      }\n",
       "    }\n",
       "  }\n",
       "  if (root.Bokeh !== undefined && root.Bokeh.Panel !== undefined) {\n",
       "    embed_document(root);\n",
       "  } else {\n",
       "    var attempts = 0;\n",
       "    var timer = setInterval(function(root) {\n",
       "      if (root.Bokeh !== undefined && root.Bokeh.Panel !== undefined) {\n",
       "        clearInterval(timer);\n",
       "        embed_document(root);\n",
       "      } else if (document.readyState == \"complete\") {\n",
       "        attempts++;\n",
       "        if (attempts > 200) {\n",
       "          clearInterval(timer);\n",
       "          console.log(\"Bokeh: ERROR: Unable to run BokehJS code because BokehJS library is missing\");\n",
       "        }\n",
       "      }\n",
       "    }, 25, root)\n",
       "  }\n",
       "})(window);</script>"
      ],
      "text/plain": [
       ":Distribution   [Error Values]   (Density)"
      ]
     },
     "execution_count": 939,
     "metadata": {
      "application/vnd.holoviews_exec.v0+json": {
       "id": "2570"
      }
     },
     "output_type": "execute_result"
    }
   ],
   "source": [
    "pd.DataFrame({'Error Values': (y_test - y_pred)}).hvplot.kde()"
   ]
  },
  {
   "cell_type": "markdown",
   "id": "5178da5c",
   "metadata": {},
   "source": [
    "Check the distribution of the error terms\n",
    "In linear regression we assume that the error term follows normal distribution. So we have to check this assumption before we can use the model for making predictions. We check this by looking at the histogram of the error term visually, making sure that the error terms are normally distributed around zero and that the left and right side are broadly similar."
   ]
  },
  {
   "cell_type": "markdown",
   "id": "de5543e2",
   "metadata": {},
   "source": [
    "# Comparing machine learning models"
   ]
  },
  {
   "cell_type": "markdown",
   "id": "0d015798",
   "metadata": {},
   "source": [
    "## Random Sample Consensus(RANSAC) Regression\n",
    "Random sample consensus (RANSAC) is an iterative method to estimate parameters of a mathematical model from a set of observed data that contains outliers, when outliers are to be accorded no influence on the values of the estimates. Therefore, it also can be interpreted as an outlier detection method.\n",
    "\n",
    "A basic assumption is that the data consists of \"inliers\", i.e., data whose distribution can be explained by some set of model parameters, though may be subject to noise, and \"outliers\" which are data that do not fit the model. The outliers can come, for example, from extreme values of the noise or from erroneous measurements or incorrect hypotheses about the interpretation of data. RANSAC also assumes that, given a (usually small) set of inliers, there exists a procedure which can estimate the parameters of a model that optimally explains or fits this data."
   ]
  },
  {
   "cell_type": "markdown",
   "id": "dd0d4a80",
   "metadata": {},
   "source": [
    "## Stochastic Gradient Descent\n",
    "Gradient Descent is a very generic optimization algorithm capable of finding optimal solutions to a wide range of problems. The general idea of Gradient Sescent is to tweak parameters iteratively in order to minimize a cost function. Gradient Descent measures the local gradient of the error function with regards to the parameters vector, and it goes in the direction of descending gradient. Once the gradient is zero, you have reached a minimum."
   ]
  },
  {
   "cell_type": "code",
   "execution_count": 940,
   "id": "a68c0a34",
   "metadata": {},
   "outputs": [],
   "source": [
    "from sklearn.tree import DecisionTreeRegressor\n",
    "from sklearn.ensemble import RandomForestRegressor\n",
    "from sklearn.svm import SVR\n",
    "from sklearn.linear_model import RANSACRegressor\n",
    "from sklearn.linear_model import SGDRegressor\n",
    "from sklearn.ensemble import AdaBoostRegressor\n",
    "from sklearn.linear_model import LinearRegression\n",
    "\n",
    "from sklearn import metrics\n",
    "from sklearn.metrics import mean_squared_error\n",
    "from sklearn.metrics import mean_absolute_error\n",
    "from sklearn.metrics import r2_score\n",
    "from sklearn.metrics import mean_squared_error\n",
    "from sklearn.model_selection import cross_val_score"
   ]
  },
  {
   "cell_type": "code",
   "execution_count": 941,
   "id": "2e9e5c78",
   "metadata": {},
   "outputs": [
    {
     "name": "stdout",
     "output_type": "stream",
     "text": [
      "\n",
      "  --- Decision Tree ---\n",
      "           R2 Score: -6.26\n",
      " Mean Squared Error: 1.62e+03\n",
      "Mean Absolute Error: 15.4\n",
      "Root Mean Square Error: 40.2\n",
      "\n",
      "  --- Random Forest ---\n",
      "           R2 Score: -1.93\n",
      " Mean Squared Error: 6.52e+02\n",
      "Mean Absolute Error: 11.7\n",
      "Root Mean Square Error: 25.5\n",
      "\n",
      "  --- Support Vector Regression ---\n",
      "           R2 Score: -0.107\n",
      " Mean Squared Error: 2.46e+02\n",
      "Mean Absolute Error: 6.26\n",
      "Root Mean Square Error: 15.7\n",
      "\n",
      "  --- Random Sample Consensus ---\n",
      "           R2 Score: -0.167\n",
      " Mean Squared Error: 2.6e+02\n",
      "Mean Absolute Error: 6.47\n",
      "Root Mean Square Error: 16.1\n",
      "\n",
      "  --- Stochastic Gradient Descent ---\n",
      "           R2 Score: 0.0102\n",
      " Mean Squared Error: 2.2e+02\n",
      "Mean Absolute Error: 8.35\n",
      "Root Mean Square Error: 14.8\n",
      "\n",
      "  --- Adaboost ---\n",
      "           R2 Score: -5.37\n",
      " Mean Squared Error: 1.42e+03\n",
      "Mean Absolute Error: 19.5\n",
      "Root Mean Square Error: 37.7\n",
      "\n",
      "  --- Linear ---\n",
      "           R2 Score: 0.0225\n",
      " Mean Squared Error: 2.18e+02\n",
      "Mean Absolute Error: 8.12\n",
      "Root Mean Square Error: 14.7\n"
     ]
    }
   ],
   "source": [
    "decision_tree = DecisionTreeRegressor()\n",
    "random_forest = RandomForestRegressor()\n",
    "svr = SVR(kernel='rbf')\n",
    "ransacr = RANSACRegressor(base_estimator=LinearRegression(), max_trials=100)\n",
    "sgd = SGDRegressor(n_iter_no_change=250, penalty=None, eta0=0.0001, max_iter=100000)\n",
    "adaboost = AdaBoostRegressor()\n",
    "linear = LinearRegression()\n",
    "\n",
    "decision_tree.fit(X_train,y_train)\n",
    "random_forest.fit(X_train,y_train)\n",
    "svr.fit(X_train,y_train)\n",
    "ransacr.fit(X_train,y_train)\n",
    "sgd.fit(X_train,y_train)\n",
    "adaboost.fit(X_train,y_train)\n",
    "linear.fit(X_train,y_train);\n",
    "\n",
    "decision_tree_preds = decision_tree.predict(X_test)\n",
    "random_forest_preds = random_forest.predict(X_test)\n",
    "svr_preds = svr.predict(X_test)\n",
    "ransacr_preds = ransacr.predict(X_test)\n",
    "sgd_preds = sgd.predict(X_test)\n",
    "adaboost_preds = adaboost.predict(X_test)\n",
    "linear_preds = linear.predict(X_test)\n",
    "\n",
    "results_df = pd.DataFrame([])\n",
    "\n",
    "for label, preds in [('Decision Tree', decision_tree_preds),\n",
    "                     ('Random Forest', random_forest_preds),\n",
    "                     ('Support Vector Regression',svr_preds),\n",
    "                     ('Random Sample Consensus',ransacr_preds),\n",
    "                     ('Stochastic Gradient Descent',sgd_preds),\n",
    "                     ('Adaboost',      adaboost_preds),\n",
    "                     ('Linear',        linear_preds)]:\n",
    "    \n",
    "    r2 = r2_score(y_test, preds)\n",
    "    mse = mean_squared_error(y_test, preds)\n",
    "    mae = mean_absolute_error(y_test, preds)\n",
    "    rmse = np.sqrt(metrics.mean_squared_error(y_test, preds))\n",
    "    \n",
    "    results_df_2 = pd.DataFrame(data=[[label, r2, mse, mae, rmse]],\n",
    "                          columns=['Model', 'R2 Square', 'MSE', 'MAE', 'RMSE'])\n",
    "    results_df = results_df.append(results_df_2, ignore_index=True)\n",
    "\n",
    "    print('\\n  --- {} ---'.format(label))\n",
    "    print('           R2 Score: {:.3}'.format(r2))\n",
    "    print(' Mean Squared Error: {:.3}'.format(mse))\n",
    "    print('Mean Absolute Error: {:.3}'.format(mae))\n",
    "    print('Root Mean Square Error: {:.3}'.format(rmse))\n",
    "    "
   ]
  },
  {
   "cell_type": "code",
   "execution_count": 942,
   "id": "54fd3001",
   "metadata": {},
   "outputs": [
    {
     "data": {
      "text/plain": [
       "<AxesSubplot: title={'center': 'R2 Square'}, ylabel='Model'>"
      ]
     },
     "execution_count": 942,
     "metadata": {},
     "output_type": "execute_result"
    },
    {
     "data": {
      "image/png": "[encoded data removed]",
      "text/plain": [
       "<Figure size 1200x800 with 1 Axes>"
      ]
     },
     "metadata": {},
     "output_type": "display_data"
    }
   ],
   "source": [
    "# plot\n",
    "results_df.set_index('Model', inplace=True)\n",
    "plt.title(\"R2 Square\")\n",
    "results_df['R2 Square'].plot(kind='barh', figsize=(12, 8))"
   ]
  },
  {
   "cell_type": "code",
   "execution_count": 896,
   "id": "cb20ae9b",
   "metadata": {},
   "outputs": [
    {
     "data": {
      "text/plain": [
       "<AxesSubplot: title={'center': 'MSE'}, ylabel='Model'>"
      ]
     },
     "execution_count": 896,
     "metadata": {},
     "output_type": "execute_result"
    },
    {
     "data": {
      "image/png": "[encoded data removed]",
      "text/plain": [
       "<Figure size 1200x800 with 1 Axes>"
      ]
     },
     "metadata": {},
     "output_type": "display_data"
    }
   ],
   "source": [
    "results_df.set_index('Model', inplace=True)\n",
    "plt.title(\"MSE\")\n",
    "results_df['MSE'].plot(kind='barh', figsize=(12, 8))"
   ]
  },
  {
   "cell_type": "code",
   "execution_count": 904,
   "id": "0bdc1b1f",
   "metadata": {},
   "outputs": [
    {
     "data": {
      "text/plain": [
       "<AxesSubplot: title={'center': 'MAE'}, ylabel='Model'>"
      ]
     },
     "execution_count": 904,
     "metadata": {},
     "output_type": "execute_result"
    },
    {
     "data": {
      "image/png": "[encoded data removed]",
      "text/plain": [
       "<Figure size 1200x800 with 1 Axes>"
      ]
     },
     "metadata": {},
     "output_type": "display_data"
    }
   ],
   "source": [
    "results_df.set_index('Model', inplace=True)\n",
    "plt.title(\"MAE\")\n",
    "results_df['MAE'].plot(kind='barh', figsize=(12, 8))"
   ]
  },
  {
   "cell_type": "code",
   "execution_count": 906,
   "id": "d886fee5",
   "metadata": {},
   "outputs": [
    {
     "data": {
      "text/plain": [
       "<AxesSubplot: title={'center': 'RMSE'}, ylabel='Model'>"
      ]
     },
     "execution_count": 906,
     "metadata": {},
     "output_type": "execute_result"
    },
    {
     "data": {
      "image/png": "[encoded data removed]",
      "text/plain": [
       "<Figure size 1200x800 with 1 Axes>"
      ]
     },
     "metadata": {},
     "output_type": "display_data"
    }
   ],
   "source": [
    "results_df.set_index('Model', inplace=True)\n",
    "plt.title(\"RMSE\")\n",
    "results_df['RMSE'].plot(kind='barh', figsize=(12, 8))"
   ]
  },
  {
   "cell_type": "markdown",
   "id": "522bc6a6",
   "metadata": {},
   "source": [
    "# Kruskal-Wallis Test\n",
    "\n",
    "Assumptions:\n",
    "The variables should have:\n",
    "1. One independent variable with two or more levels (independent groups) -> city (independent variable)\n",
    "2. Ordinal scale, Ratio Scale or Interval scale dependent variables. -> 'EHR Per Capita' is a ratio variable.\n",
    "\n",
    "We want to find out how city affects actual EHR per capita.\n",
    "\n",
    "Null Hypothesis: the EHR per capita has the same distributions in each city"
   ]
  },
  {
   "cell_type": "code",
   "execution_count": 626,
   "id": "8a6357fc",
   "metadata": {},
   "outputs": [
    {
     "data": {
      "text/plain": [
       "KruskalResult(statistic=390.0, pvalue=0.490476781769723)"
      ]
     },
     "execution_count": 626,
     "metadata": {},
     "output_type": "execute_result"
    }
   ],
   "source": [
    "# Importing required library\n",
    "from scipy.stats import kruskal\n",
    "\n",
    "# Perform Kruskal Wallis Test\n",
    "group_data = df_provider_city_last.groupby('Business_C')['EHR Per Capita'].apply(list).to_dict()\n",
    "\n",
    "result = stats.kruskal(*group_data.values())\n",
    "result"
   ]
  },
  {
   "cell_type": "code",
   "execution_count": 628,
   "id": "91142d90",
   "metadata": {},
   "outputs": [
    {
     "name": "stdout",
     "output_type": "stream",
     "text": [
      "Do not Reject Null Hypothesis (Same distribution)\n"
     ]
    }
   ],
   "source": [
    "#Interpretation of the results at 5% level of significance\n",
    "# Level of significance\n",
    "alpha = 0.05\n",
    "if result.pvalue < alpha:\n",
    "    print('Reject Null Hypothesis (Different distribution')\n",
    "else:\n",
    "    print('Do not Reject Null Hypothesis (Same distribution)')\n"
   ]
  },
  {
   "cell_type": "markdown",
   "id": "fe80dfe3",
   "metadata": {},
   "source": [
    "# Spearman's rank correlation coefficient\n",
    "\n",
    "H0: EHR per capita is not related to the Revenues Per Capita.\n",
    "\n",
    "H1: EHR per capita is related to the Revenues Per Capita (Higher per-capita revenue city gets more or less per-capita EHR). "
   ]
  },
  {
   "cell_type": "code",
   "execution_count": 707,
   "id": "2d1baee5",
   "metadata": {},
   "outputs": [
    {
     "name": "stdout",
     "output_type": "stream",
     "text": [
      "SpearmanrResult(correlation=0.05198335907780493, pvalue=0.3052184680033309)\n",
      "Do not Reject Null Hypothesis\n"
     ]
    }
   ],
   "source": [
    "from scipy import stats\n",
    "result = stats.spearmanr(df_provider_city_last['EHR Per Capita'],df_provider_city_last['Revenues Per Capita'] )\n",
    "print(result)\n",
    "#Interpretation of the results at 5% level of significance\n",
    "# Level of significance\n",
    "alpha = 0.05\n",
    "if result.pvalue < alpha:\n",
    "    print('Reject Null Hypothesis')\n",
    "else:\n",
    "    print('Do not Reject Null Hypothesis')\n"
   ]
  },
  {
   "cell_type": "markdown",
   "id": "0d419ff3",
   "metadata": {},
   "source": [
    "H0: EHR per capita is not related to the Expenditures Per Capita.\n",
    "    \n",
    "H1: EHR per capita is related to the Expenditures Per Capita. "
   ]
  },
  {
   "cell_type": "code",
   "execution_count": 708,
   "id": "a7a16312",
   "metadata": {},
   "outputs": [
    {
     "name": "stdout",
     "output_type": "stream",
     "text": [
      "SpearmanrResult(correlation=0.03923627489966774, pvalue=0.4391312403359442)\n",
      "Do not Reject Null Hypothesis\n"
     ]
    }
   ],
   "source": [
    "result = stats.spearmanr(df_provider_city_last['EHR Per Capita'],df_provider_city_last['Expenditures Per Capita'] )\n",
    "print(result)\n",
    "#Interpretation of the results at 5% level of significance\n",
    "# Level of significance\n",
    "alpha = 0.05\n",
    "if result.pvalue < alpha:\n",
    "    print('Reject Null Hypothesis')\n",
    "else:\n",
    "    print('Do not Reject Null Hypothesis')"
   ]
  },
  {
   "cell_type": "code",
   "execution_count": 710,
   "id": "ca4cda29",
   "metadata": {},
   "outputs": [
    {
     "name": "stdout",
     "output_type": "stream",
     "text": [
      "Statistics=185.316, p=0.000\n",
      "Different distributions (reject H0)\n"
     ]
    }
   ],
   "source": [
    "from scipy.stats import friedmanchisquare\n",
    "\n",
    "# compare samples\n",
    "stat, p = friedmanchisquare(df_provider_city_last['EHR Per Capita'], df_provider_city_last['Expenditures Per Capita'], df_provider_city_last['Revenues Per Capita'])\n",
    "print('Statistics=%.3f, p=%.3f' % (stat, p))\n",
    "# interpret\n",
    "alpha = 0.05\n",
    "if p > alpha:\n",
    "\tprint('Same distributions (fail to reject H0)')\n",
    "else:\n",
    "\tprint('Different distributions (reject H0)')"
   ]
  },
  {
   "cell_type": "markdown",
   "id": "febef9f4",
   "metadata": {},
   "source": [
    "# Reduce variable to make the R2 square larger"
   ]
  },
  {
   "cell_type": "code",
   "execution_count": 907,
   "id": "3afcbc11",
   "metadata": {},
   "outputs": [
    {
     "data": {
      "text/html": [
       "<style>#sk-container-id-20 {color: black;background-color: white;}#sk-container-id-20 pre{padding: 0;}#sk-container-id-20 div.sk-toggleable {background-color: white;}#sk-container-id-20 label.sk-toggleable__label {cursor: pointer;display: block;width: 100%;margin-bottom: 0;padding: 0.3em;box-sizing: border-box;text-align: center;}#sk-container-id-20 label.sk-toggleable__label-arrow:before {content: \"▸\";float: left;margin-right: 0.25em;color: #696969;}#sk-container-id-20 label.sk-toggleable__label-arrow:hover:before {color: black;}#sk-container-id-20 div.sk-estimator:hover label.sk-toggleable__label-arrow:before {color: black;}#sk-container-id-20 div.sk-toggleable__content {max-height: 0;max-width: 0;overflow: hidden;text-align: left;background-color: #f0f8ff;}#sk-container-id-20 div.sk-toggleable__content pre {margin: 0.2em;color: black;border-radius: 0.25em;background-color: #f0f8ff;}#sk-container-id-20 input.sk-toggleable__control:checked~div.sk-toggleable__content {max-height: 200px;max-width: 100%;overflow: auto;}#sk-container-id-20 input.sk-toggleable__control:checked~label.sk-toggleable__label-arrow:before {content: \"▾\";}#sk-container-id-20 div.sk-estimator input.sk-toggleable__control:checked~label.sk-toggleable__label {background-color: #d4ebff;}#sk-container-id-20 div.sk-label input.sk-toggleable__control:checked~label.sk-toggleable__label {background-color: #d4ebff;}#sk-container-id-20 input.sk-hidden--visually {border: 0;clip: rect(1px 1px 1px 1px);clip: rect(1px, 1px, 1px, 1px);height: 1px;margin: -1px;overflow: hidden;padding: 0;position: absolute;width: 1px;}#sk-container-id-20 div.sk-estimator {font-family: monospace;background-color: #f0f8ff;border: 1px dotted black;border-radius: 0.25em;box-sizing: border-box;margin-bottom: 0.5em;}#sk-container-id-20 div.sk-estimator:hover {background-color: #d4ebff;}#sk-container-id-20 div.sk-parallel-item::after {content: \"\";width: 100%;border-bottom: 1px solid gray;flex-grow: 1;}#sk-container-id-20 div.sk-label:hover label.sk-toggleable__label {background-color: #d4ebff;}#sk-container-id-20 div.sk-serial::before {content: \"\";position: absolute;border-left: 1px solid gray;box-sizing: border-box;top: 0;bottom: 0;left: 50%;z-index: 0;}#sk-container-id-20 div.sk-serial {display: flex;flex-direction: column;align-items: center;background-color: white;padding-right: 0.2em;padding-left: 0.2em;position: relative;}#sk-container-id-20 div.sk-item {position: relative;z-index: 1;}#sk-container-id-20 div.sk-parallel {display: flex;align-items: stretch;justify-content: center;background-color: white;position: relative;}#sk-container-id-20 div.sk-item::before, #sk-container-id-20 div.sk-parallel-item::before {content: \"\";position: absolute;border-left: 1px solid gray;box-sizing: border-box;top: 0;bottom: 0;left: 50%;z-index: -1;}#sk-container-id-20 div.sk-parallel-item {display: flex;flex-direction: column;z-index: 1;position: relative;background-color: white;}#sk-container-id-20 div.sk-parallel-item:first-child::after {align-self: flex-end;width: 50%;}#sk-container-id-20 div.sk-parallel-item:last-child::after {align-self: flex-start;width: 50%;}#sk-container-id-20 div.sk-parallel-item:only-child::after {width: 0;}#sk-container-id-20 div.sk-dashed-wrapped {border: 1px dashed gray;margin: 0 0.4em 0.5em 0.4em;box-sizing: border-box;padding-bottom: 0.4em;background-color: white;}#sk-container-id-20 div.sk-label label {font-family: monospace;font-weight: bold;display: inline-block;line-height: 1.2em;}#sk-container-id-20 div.sk-label-container {text-align: center;}#sk-container-id-20 div.sk-container {/* jupyter's `normalize.less` sets `[hidden] { display: none; }` but bootstrap.min.css set `[hidden] { display: none !important; }` so we also need the `!important` here to be able to override the default hidden behavior on the sphinx rendered scikit-learn.org. See: https://github.com/scikit-learn/scikit-learn/issues/21755 */display: inline-block !important;position: relative;}#sk-container-id-20 div.sk-text-repr-fallback {display: none;}</style><div id=\"sk-container-id-20\" class=\"sk-top-container\"><div class=\"sk-text-repr-fallback\"><pre>LinearRegression()</pre><b>In a Jupyter environment, please rerun this cell to show the HTML representation or trust the notebook. <br />On GitHub, the HTML representation is unable to render, please try loading this page with nbviewer.org.</b></div><div class=\"sk-container\" hidden><div class=\"sk-item\"><div class=\"sk-estimator sk-toggleable\"><input class=\"sk-toggleable__control sk-hidden--visually\" id=\"sk-estimator-id-20\" type=\"checkbox\" checked><label for=\"sk-estimator-id-20\" class=\"sk-toggleable__label sk-toggleable__label-arrow\">LinearRegression</label><div class=\"sk-toggleable__content\"><pre>LinearRegression()</pre></div></div></div></div></div>"
      ],
      "text/plain": [
       "LinearRegression()"
      ]
     },
     "execution_count": 907,
     "metadata": {},
     "output_type": "execute_result"
    },
    {
     "data": {
      "image/png": "[encoded data removed]",
      "text/plain": [
       "<Figure size 800x550 with 2 Axes>"
      ]
     },
     "metadata": {},
     "output_type": "display_data"
    }
   ],
   "source": [
    "# Plot the Distribution plots for the features\n",
    "import warnings\n",
    "warnings.filterwarnings('ignore')\n",
    "plt.subplot(1,2,1)\n",
    "sns.distplot(df_provider_city_last['Expenditures Per Capita'])\n",
    "plt.subplot(1,2,2)\n",
    "sns.distplot(df_provider_city_last['EHR Per Capita']) # right skewed distribution\n",
    "# ================================================\n",
    "# Build the model\n",
    "# ================================================\n",
    "\n",
    "# Training data\n",
    "X = df_provider_city_last[['Expenditures Per Capita']] #  feature matrix\n",
    "y = df_provider_city_last['EHR Per Capita'] # target matrix\n",
    "\n",
    "from sklearn.model_selection import train_test_split\n",
    "import statsmodels.api as sm\n",
    "\n",
    "# Splitting the data into train and test\n",
    "X_train, X_test, y_train, y_test = train_test_split(X,y, train_size=0.7,test_size=0.3,random_state=100)\n"
   ]
  },
  {
   "cell_type": "markdown",
   "id": "1c85fd59",
   "metadata": {},
   "source": [
    "# Comparing machine learning models¶"
   ]
  },
  {
   "cell_type": "code",
   "execution_count": null,
   "id": "4a8a4037",
   "metadata": {},
   "outputs": [],
   "source": []
  },
  {
   "cell_type": "code",
   "execution_count": null,
   "id": "5c74c118",
   "metadata": {},
   "outputs": [],
   "source": []
  },
  {
   "cell_type": "code",
   "execution_count": null,
   "id": "b965f22a",
   "metadata": {},
   "outputs": [],
   "source": []
  },
  {
   "cell_type": "code",
   "execution_count": 697,
   "id": "8e5d79c8",
   "metadata": {},
   "outputs": [
    {
     "data": {
      "text/html": [
       "<div>\n",
       "<style scoped>\n",
       "    .dataframe tbody tr th:only-of-type {\n",
       "        vertical-align: middle;\n",
       "    }\n",
       "\n",
       "    .dataframe tbody tr th {\n",
       "        vertical-align: top;\n",
       "    }\n",
       "\n",
       "    .dataframe thead th {\n",
       "        text-align: right;\n",
       "    }\n",
       "</style>\n",
       "<table border=\"1\" class=\"dataframe\">\n",
       "  <thead>\n",
       "    <tr style=\"text-align: right;\">\n",
       "      <th></th>\n",
       "      <th>Coefficient</th>\n",
       "    </tr>\n",
       "  </thead>\n",
       "  <tbody>\n",
       "    <tr>\n",
       "      <th>Revenues Per Capita</th>\n",
       "      <td>11.678199</td>\n",
       "    </tr>\n",
       "    <tr>\n",
       "      <th>Expenditures Per Capita</th>\n",
       "      <td>-7.991750</td>\n",
       "    </tr>\n",
       "  </tbody>\n",
       "</table>\n",
       "</div>"
      ],
      "text/plain": [
       "                         Coefficient\n",
       "Revenues Per Capita        11.678199\n",
       "Expenditures Per Capita    -7.991750"
      ]
     },
     "execution_count": 697,
     "metadata": {},
     "output_type": "execute_result"
    }
   ],
   "source": [
    "# coefficient\n",
    "coeff_df = pd.DataFrame(model.coef_, X.columns, columns=['Coefficient'])\n",
    "coeff_df"
   ]
  },
  {
   "cell_type": "markdown",
   "id": "65c92c57",
   "metadata": {},
   "source": [
    "Interpreting the coefficients:\n",
    "\n",
    "Holding all other features fixed, a 1 unit increase in Revenues Per Capita and Expenditures Per Capita is associated with an increase of 11.678199 and a decrease of -7.991750 in EHR per capita respectively."
   ]
  },
  {
   "cell_type": "code",
   "execution_count": null,
   "id": "459fff8c",
   "metadata": {},
   "outputs": [],
   "source": []
  },
  {
   "cell_type": "code",
   "execution_count": null,
   "id": "eba403c5",
   "metadata": {},
   "outputs": [],
   "source": []
  },
  {
   "cell_type": "code",
   "execution_count": null,
   "id": "09ac915f",
   "metadata": {},
   "outputs": [],
   "source": []
  },
  {
   "cell_type": "code",
   "execution_count": null,
   "id": "4580eaca",
   "metadata": {},
   "outputs": [],
   "source": []
  },
  {
   "cell_type": "code",
   "execution_count": null,
   "id": "fe54e22b",
   "metadata": {},
   "outputs": [],
   "source": [
    "# surgery dataset"
   ]
  },
  {
   "cell_type": "code",
   "execution_count": 843,
   "id": "0731cb97",
   "metadata": {},
   "outputs": [
    {
     "data": {
      "text/html": [
       "<div>\n",
       "<style scoped>\n",
       "    .dataframe tbody tr th:only-of-type {\n",
       "        vertical-align: middle;\n",
       "    }\n",
       "\n",
       "    .dataframe tbody tr th {\n",
       "        vertical-align: top;\n",
       "    }\n",
       "\n",
       "    .dataframe thead th {\n",
       "        text-align: right;\n",
       "    }\n",
       "</style>\n",
       "<table border=\"1\" class=\"dataframe\">\n",
       "  <thead>\n",
       "    <tr style=\"text-align: right;\">\n",
       "      <th></th>\n",
       "      <th>Business_C</th>\n",
       "      <th>Business_1</th>\n",
       "      <th>Payment_Ye</th>\n",
       "      <th>total_paym</th>\n",
       "    </tr>\n",
       "  </thead>\n",
       "  <tbody>\n",
       "    <tr>\n",
       "      <th>0</th>\n",
       "      <td>Sacramento</td>\n",
       "      <td>Sacramento</td>\n",
       "      <td>2019</td>\n",
       "      <td>38250.0</td>\n",
       "    </tr>\n",
       "    <tr>\n",
       "      <th>1</th>\n",
       "      <td>Oakland</td>\n",
       "      <td>Alameda</td>\n",
       "      <td>2014</td>\n",
       "      <td>21250.0</td>\n",
       "    </tr>\n",
       "    <tr>\n",
       "      <th>2</th>\n",
       "      <td>Antioch</td>\n",
       "      <td>Contra Costa</td>\n",
       "      <td>2016</td>\n",
       "      <td>21250.0</td>\n",
       "    </tr>\n",
       "    <tr>\n",
       "      <th>3</th>\n",
       "      <td>Loma Linda</td>\n",
       "      <td>San Bernardino</td>\n",
       "      <td>2015</td>\n",
       "      <td>29750.0</td>\n",
       "    </tr>\n",
       "    <tr>\n",
       "      <th>4</th>\n",
       "      <td>Orange</td>\n",
       "      <td>Orange</td>\n",
       "      <td>2014</td>\n",
       "      <td>21250.0</td>\n",
       "    </tr>\n",
       "  </tbody>\n",
       "</table>\n",
       "</div>"
      ],
      "text/plain": [
       "   Business_C      Business_1  Payment_Ye  total_paym\n",
       "0  Sacramento      Sacramento        2019     38250.0\n",
       "1     Oakland         Alameda        2014     21250.0\n",
       "2     Antioch    Contra Costa        2016     21250.0\n",
       "3  Loma Linda  San Bernardino        2015     29750.0\n",
       "4      Orange          Orange        2014     21250.0"
      ]
     },
     "execution_count": 843,
     "metadata": {},
     "output_type": "execute_result"
    }
   ],
   "source": [
    "## Load the datasets\n",
    "df_ehr_provider = pd.read_csv('EHR_Incentive_Program_Payments_Providers.csv')\n",
    "df_ehr_hospital = pd.read_csv('EHR_Incentive_Program_Payments_Hospitals.csv')\n",
    "df_city_revenue = pd.read_csv('City_Revenues_Per_Capita.csv')\n",
    "df_city_expenditure = pd.read_csv('City_Expenditures_Per_Capita.csv')\n",
    "\n",
    "## delete the unneeded columns on the provider dataset\n",
    "df_ehr_provider.drop(df_ehr_provider.columns[0:8],axis=1,inplace = True)\n",
    "df_ehr_provider.drop(df_ehr_provider.columns[2:5],axis=1,inplace = True)\n",
    "df_ehr_provider.drop(df_ehr_provider.columns[3:7],axis=1,inplace = True)\n",
    "df_ehr_provider.drop(['Latitude','Longitude','total_rece'],axis=1,inplace = True)\n",
    "df_ehr_provider.head()\n"
   ]
  },
  {
   "cell_type": "code",
   "execution_count": null,
   "id": "684fdbb8",
   "metadata": {},
   "outputs": [],
   "source": []
  },
  {
   "cell_type": "code",
   "execution_count": null,
   "id": "0e607762",
   "metadata": {},
   "outputs": [],
   "source": []
  },
  {
   "cell_type": "code",
   "execution_count": null,
   "id": "ec2a889d",
   "metadata": {},
   "outputs": [],
   "source": []
  },
  {
   "cell_type": "code",
   "execution_count": 795,
   "id": "f4af3d89",
   "metadata": {},
   "outputs": [
    {
     "data": {
      "text/html": [
       "<div>\n",
       "<style scoped>\n",
       "    .dataframe tbody tr th:only-of-type {\n",
       "        vertical-align: middle;\n",
       "    }\n",
       "\n",
       "    .dataframe tbody tr th {\n",
       "        vertical-align: top;\n",
       "    }\n",
       "\n",
       "    .dataframe thead th {\n",
       "        text-align: right;\n",
       "    }\n",
       "</style>\n",
       "<table border=\"1\" class=\"dataframe\">\n",
       "  <thead>\n",
       "    <tr style=\"text-align: right;\">\n",
       "      <th></th>\n",
       "      <th>patcnty1</th>\n",
       "      <th>serv_y</th>\n",
       "      <th>disp1</th>\n",
       "      <th>Encounters</th>\n",
       "    </tr>\n",
       "  </thead>\n",
       "  <tbody>\n",
       "    <tr>\n",
       "      <th>0</th>\n",
       "      <td>Alameda</td>\n",
       "      <td>2012</td>\n",
       "      <td>Acute Care</td>\n",
       "      <td>139</td>\n",
       "    </tr>\n",
       "    <tr>\n",
       "      <th>1</th>\n",
       "      <td>Alameda</td>\n",
       "      <td>2012</td>\n",
       "      <td>Childrens_or_Cancer</td>\n",
       "      <td>3</td>\n",
       "    </tr>\n",
       "    <tr>\n",
       "      <th>2</th>\n",
       "      <td>Alameda</td>\n",
       "      <td>2012</td>\n",
       "      <td>Critical Access Hospital</td>\n",
       "      <td>1</td>\n",
       "    </tr>\n",
       "    <tr>\n",
       "      <th>3</th>\n",
       "      <td>Alameda</td>\n",
       "      <td>2012</td>\n",
       "      <td>Died</td>\n",
       "      <td>5</td>\n",
       "    </tr>\n",
       "    <tr>\n",
       "      <th>4</th>\n",
       "      <td>Alameda</td>\n",
       "      <td>2012</td>\n",
       "      <td>Home Health Service</td>\n",
       "      <td>170</td>\n",
       "    </tr>\n",
       "  </tbody>\n",
       "</table>\n",
       "</div>"
      ],
      "text/plain": [
       "  patcnty1  serv_y                     disp1  Encounters\n",
       "0  Alameda    2012                Acute Care         139\n",
       "1  Alameda    2012       Childrens_or_Cancer           3\n",
       "2  Alameda    2012  Critical Access Hospital           1\n",
       "3  Alameda    2012                      Died           5\n",
       "4  Alameda    2012       Home Health Service         170"
      ]
     },
     "execution_count": 795,
     "metadata": {},
     "output_type": "execute_result"
    }
   ],
   "source": [
    "df_surgery = pd.read_csv('dispositionas.csv')\n",
    "df_surgery.head()"
   ]
  },
  {
   "cell_type": "code",
   "execution_count": 794,
   "id": "15a1c01c",
   "metadata": {},
   "outputs": [
    {
     "data": {
      "text/html": [
       "<div>\n",
       "<style scoped>\n",
       "    .dataframe tbody tr th:only-of-type {\n",
       "        vertical-align: middle;\n",
       "    }\n",
       "\n",
       "    .dataframe tbody tr th {\n",
       "        vertical-align: top;\n",
       "    }\n",
       "\n",
       "    .dataframe thead th {\n",
       "        text-align: right;\n",
       "    }\n",
       "</style>\n",
       "<table border=\"1\" class=\"dataframe\">\n",
       "  <thead>\n",
       "    <tr style=\"text-align: right;\">\n",
       "      <th></th>\n",
       "      <th>Business_City</th>\n",
       "      <th>Business_County</th>\n",
       "      <th>total_payments</th>\n",
       "      <th>Last_Payment_Year</th>\n",
       "    </tr>\n",
       "  </thead>\n",
       "  <tbody>\n",
       "    <tr>\n",
       "      <th>0</th>\n",
       "      <td>Eureka</td>\n",
       "      <td>Humboldt</td>\n",
       "      <td>1530950.70</td>\n",
       "      <td>2016</td>\n",
       "    </tr>\n",
       "    <tr>\n",
       "      <th>1</th>\n",
       "      <td>Hayward</td>\n",
       "      <td>Alameda</td>\n",
       "      <td>3245920.28</td>\n",
       "      <td>2016</td>\n",
       "    </tr>\n",
       "    <tr>\n",
       "      <th>2</th>\n",
       "      <td>Napa</td>\n",
       "      <td>Napa</td>\n",
       "      <td>1262015.89</td>\n",
       "      <td>2016</td>\n",
       "    </tr>\n",
       "    <tr>\n",
       "      <th>3</th>\n",
       "      <td>Jackson</td>\n",
       "      <td>Amador</td>\n",
       "      <td>865130.13</td>\n",
       "      <td>2019</td>\n",
       "    </tr>\n",
       "    <tr>\n",
       "      <th>4</th>\n",
       "      <td>San Francisco</td>\n",
       "      <td>San Francisco</td>\n",
       "      <td>984465.12</td>\n",
       "      <td>2019</td>\n",
       "    </tr>\n",
       "  </tbody>\n",
       "</table>\n",
       "</div>"
      ],
      "text/plain": [
       "   Business_City Business_County  total_payments  Last_Payment_Year\n",
       "0         Eureka        Humboldt      1530950.70               2016\n",
       "1        Hayward         Alameda      3245920.28               2016\n",
       "2           Napa            Napa      1262015.89               2016\n",
       "3        Jackson          Amador       865130.13               2019\n",
       "4  San Francisco   San Francisco       984465.12               2019"
      ]
     },
     "execution_count": 794,
     "metadata": {},
     "output_type": "execute_result"
    }
   ],
   "source": [
    "# clean the noisy data\n",
    "df_ehr_hospital = df_ehr_hospital.drop(df_ehr_hospital.columns[0:7], axis=1)\n",
    "df_ehr_hospital = df_ehr_hospital.drop(df_ehr_hospital.columns[[2,3,4,5,6,8,9,10,11,12]], axis=1)\n",
    "#df_EHR = df_EHR.drop(['Payment__1','Payment_Cr','Payee_Name','Payee_NPI','total_rece','Latitude','Longitude','Program_Ye'],axis=1)\n",
    "df_ehr_hospital = df_ehr_hospital.dropna()\n",
    "df_ehr_hospital.head()\n",
    "\n"
   ]
  },
  {
   "cell_type": "code",
   "execution_count": 796,
   "id": "61aee924",
   "metadata": {},
   "outputs": [
    {
     "data": {
      "text/plain": [
       "53"
      ]
     },
     "execution_count": 796,
     "metadata": {},
     "output_type": "execute_result"
    }
   ],
   "source": [
    "len(df_ehr_hospital['Business_County'].unique())"
   ]
  },
  {
   "cell_type": "code",
   "execution_count": 813,
   "id": "7d750200",
   "metadata": {},
   "outputs": [
    {
     "data": {
      "text/plain": [
       "57"
      ]
     },
     "execution_count": 813,
     "metadata": {},
     "output_type": "execute_result"
    }
   ],
   "source": [
    "df_ehr_provider = df_ehr_provider[df_ehr_provider['Business_1']!='UNKNOWN']\n",
    "df_ehr_provider = df_ehr_provider[df_ehr_provider['Business_1']!='Unknown']\n",
    "len(df_ehr_provider['Business_1'].unique())"
   ]
  },
  {
   "cell_type": "code",
   "execution_count": 814,
   "id": "4ecab693",
   "metadata": {},
   "outputs": [
    {
     "data": {
      "text/plain": [
       "57"
      ]
     },
     "execution_count": 814,
     "metadata": {},
     "output_type": "execute_result"
    }
   ],
   "source": [
    "len(df_surgery['patcnty1'].unique())"
   ]
  },
  {
   "cell_type": "code",
   "execution_count": 818,
   "id": "fc32d1c8",
   "metadata": {},
   "outputs": [
    {
     "data": {
      "text/html": [
       "<div>\n",
       "<style scoped>\n",
       "    .dataframe tbody tr th:only-of-type {\n",
       "        vertical-align: middle;\n",
       "    }\n",
       "\n",
       "    .dataframe tbody tr th {\n",
       "        vertical-align: top;\n",
       "    }\n",
       "\n",
       "    .dataframe thead th {\n",
       "        text-align: right;\n",
       "    }\n",
       "</style>\n",
       "<table border=\"1\" class=\"dataframe\">\n",
       "  <thead>\n",
       "    <tr style=\"text-align: right;\">\n",
       "      <th></th>\n",
       "      <th>Business_1</th>\n",
       "      <th>total_paym</th>\n",
       "    </tr>\n",
       "  </thead>\n",
       "  <tbody>\n",
       "    <tr>\n",
       "      <th>0</th>\n",
       "      <td>Alameda</td>\n",
       "      <td>38481077.35</td>\n",
       "    </tr>\n",
       "    <tr>\n",
       "      <th>1</th>\n",
       "      <td>Amador</td>\n",
       "      <td>327250.01</td>\n",
       "    </tr>\n",
       "    <tr>\n",
       "      <th>2</th>\n",
       "      <td>Butte</td>\n",
       "      <td>5342250.00</td>\n",
       "    </tr>\n",
       "    <tr>\n",
       "      <th>3</th>\n",
       "      <td>Calaveras</td>\n",
       "      <td>131750.00</td>\n",
       "    </tr>\n",
       "    <tr>\n",
       "      <th>4</th>\n",
       "      <td>Colusa</td>\n",
       "      <td>484500.00</td>\n",
       "    </tr>\n",
       "  </tbody>\n",
       "</table>\n",
       "</div>"
      ],
      "text/plain": [
       "  Business_1   total_paym\n",
       "0    Alameda  38481077.35\n",
       "1     Amador    327250.01\n",
       "2      Butte   5342250.00\n",
       "3  Calaveras    131750.00\n",
       "4     Colusa    484500.00"
      ]
     },
     "execution_count": 818,
     "metadata": {},
     "output_type": "execute_result"
    }
   ],
   "source": [
    "df_ehr_provider = df_ehr_provider.groupby('Business_1')['total_paym'].sum().reset_index()\n",
    "df_ehr_provider.head()"
   ]
  },
  {
   "cell_type": "code",
   "execution_count": 819,
   "id": "1052d89c",
   "metadata": {},
   "outputs": [
    {
     "data": {
      "text/html": [
       "<div>\n",
       "<style scoped>\n",
       "    .dataframe tbody tr th:only-of-type {\n",
       "        vertical-align: middle;\n",
       "    }\n",
       "\n",
       "    .dataframe tbody tr th {\n",
       "        vertical-align: top;\n",
       "    }\n",
       "\n",
       "    .dataframe thead th {\n",
       "        text-align: right;\n",
       "    }\n",
       "</style>\n",
       "<table border=\"1\" class=\"dataframe\">\n",
       "  <thead>\n",
       "    <tr style=\"text-align: right;\">\n",
       "      <th></th>\n",
       "      <th>patcnty1</th>\n",
       "      <th>Encounters</th>\n",
       "    </tr>\n",
       "  </thead>\n",
       "  <tbody>\n",
       "    <tr>\n",
       "      <th>0</th>\n",
       "      <td>Alameda</td>\n",
       "      <td>620774</td>\n",
       "    </tr>\n",
       "    <tr>\n",
       "      <th>1</th>\n",
       "      <td>Amador</td>\n",
       "      <td>26910</td>\n",
       "    </tr>\n",
       "    <tr>\n",
       "      <th>2</th>\n",
       "      <td>Butte</td>\n",
       "      <td>176297</td>\n",
       "    </tr>\n",
       "    <tr>\n",
       "      <th>3</th>\n",
       "      <td>Calaveras</td>\n",
       "      <td>39581</td>\n",
       "    </tr>\n",
       "    <tr>\n",
       "      <th>4</th>\n",
       "      <td>Colusa</td>\n",
       "      <td>11924</td>\n",
       "    </tr>\n",
       "  </tbody>\n",
       "</table>\n",
       "</div>"
      ],
      "text/plain": [
       "    patcnty1  Encounters\n",
       "0    Alameda      620774\n",
       "1     Amador       26910\n",
       "2      Butte      176297\n",
       "3  Calaveras       39581\n",
       "4     Colusa       11924"
      ]
     },
     "execution_count": 819,
     "metadata": {},
     "output_type": "execute_result"
    }
   ],
   "source": [
    "df_surgery = df_surgery.groupby('patcnty1')['Encounters'].sum().reset_index()\n",
    "df_surgery.head()"
   ]
  },
  {
   "cell_type": "code",
   "execution_count": 820,
   "id": "a8c379d5",
   "metadata": {},
   "outputs": [
    {
     "name": "stdout",
     "output_type": "stream",
     "text": [
      "SpearmanrResult(correlation=0.9374513870884107, pvalue=7.105997639622854e-27)\n",
      "Reject Null Hypothesis\n"
     ]
    }
   ],
   "source": [
    "result = stats.spearmanr(df_ehr_provider['total_paym'],df_surgery['Encounters'])\n",
    "print(result)\n",
    "#Interpretation of the results at 5% level of significance\n",
    "# Level of significance\n",
    "alpha = 0.05\n",
    "if result.pvalue < alpha:\n",
    "    print('Reject Null Hypothesis')\n",
    "else:\n",
    "    print('Do not Reject Null Hypothesis')"
   ]
  },
  {
   "cell_type": "code",
   "execution_count": 829,
   "id": "f70653b0",
   "metadata": {},
   "outputs": [
    {
     "name": "stdout",
     "output_type": "stream",
     "text": [
      "Test set evaluation:\n",
      "_____________________________________\n",
      "MAE: 4162910.3078936944\n",
      "MSE: 27803994771543.984\n",
      "RMSE: 5272949.342781892\n",
      "R2 Square 0.9255851042232545\n",
      "__________________________________\n"
     ]
    }
   ],
   "source": [
    "\n",
    "# ================================================\n",
    "# Build the model\n",
    "# ================================================\n",
    "\n",
    "# Training data\n",
    "X = df_surgery[['Encounters']] # feature \n",
    "y = df_ehr_provider['total_paym'] # target\n",
    "\n",
    "# Splitting the data into train and test\n",
    "X_train, X_test, y_train, y_test = train_test_split(X,y, train_size=0.7,test_size=0.3,random_state=100)\n",
    "\n",
    "# Train the model: include an intercept to the model by default\n",
    "model = LinearRegression()\n",
    "model.fit(X_train, y_train)\n",
    "\n",
    "test_pred = model.predict(X_test)\n",
    "train_pred = model.predict(X_train)\n",
    "\n",
    "print('Test set evaluation:\\n_____________________________________')\n",
    "print_evaluate(y_test, test_pred)\n",
    "\n",
    "results_df = pd.DataFrame(data=[[\"Linear Regression\", *evaluate(y_test, test_pred) , cross_val(LinearRegression())]], \n",
    "                          columns=['Model', 'MAE', 'MSE', 'RMSE', 'R2 Square', \"Cross Validation\"])"
   ]
  },
  {
   "cell_type": "code",
   "execution_count": 827,
   "id": "af21e011",
   "metadata": {},
   "outputs": [
    {
     "name": "stdout",
     "output_type": "stream",
     "text": [
      "                            OLS Regression Results                            \n",
      "==============================================================================\n",
      "Dep. Variable:             total_paym   R-squared:                       0.956\n",
      "Model:                            OLS   Adj. R-squared:                  0.955\n",
      "Method:                 Least Squares   F-statistic:                     1185.\n",
      "Date:                Sat, 19 Nov 2022   Prob (F-statistic):           6.79e-39\n",
      "Time:                        01:15:29   Log-Likelihood:                -974.73\n",
      "No. Observations:                  57   AIC:                             1953.\n",
      "Df Residuals:                      55   BIC:                             1958.\n",
      "Df Model:                           1                                         \n",
      "Covariance Type:            nonrobust                                         \n",
      "==============================================================================\n",
      "                 coef    std err          t      P>|t|      [0.025      0.975]\n",
      "------------------------------------------------------------------------------\n",
      "const      -2.635e+06   9.91e+05     -2.659      0.010   -4.62e+06   -6.49e+05\n",
      "Encounters    55.7555      1.620     34.421      0.000      52.509      59.002\n",
      "==============================================================================\n",
      "Omnibus:                       10.195   Durbin-Watson:                   1.822\n",
      "Prob(Omnibus):                  0.006   Jarque-Bera (JB):               16.672\n",
      "Skew:                          -0.507   Prob(JB):                     0.000240\n",
      "Kurtosis:                       5.448   Cond. No.                     6.96e+05\n",
      "==============================================================================\n",
      "\n",
      "Notes:\n",
      "[1] Standard Errors assume that the covariance matrix of the errors is correctly specified.\n",
      "[2] The condition number is large, 6.96e+05. This might indicate that there are\n",
      "strong multicollinearity or other numerical problems.\n"
     ]
    }
   ],
   "source": [
    "## Standard OLS\n",
    "import statsmodels.api as sm\n",
    "from statsmodels.formula.api import ols\n",
    "\n",
    "y = df_ehr_provider['total_paym']\n",
    "x = df_surgery['Encounters']\n",
    "#z = df_provider_city_last['Expenditures Per Capita']\n",
    "\n",
    "# adding the constant term\n",
    "x = sm.add_constant(x)\n",
    "lm = sm.OLS(y, x).fit()\n",
    "print(lm.summary())"
   ]
  },
  {
   "cell_type": "code",
   "execution_count": 831,
   "id": "353cf519",
   "metadata": {},
   "outputs": [
    {
     "ename": "ValueError",
     "evalue": "Found input variables with inconsistent numbers of samples: [18, 118]",
     "output_type": "error",
     "traceback": [
      "\u001b[0;31m---------------------------------------------------------------------------\u001b[0m",
      "\u001b[0;31mValueError\u001b[0m                                Traceback (most recent call last)",
      "Cell \u001b[0;32mIn [831], line 8\u001b[0m\n\u001b[1;32m      6\u001b[0m test_pred \u001b[38;5;241m=\u001b[39m model\u001b[38;5;241m.\u001b[39mpredict(X_test)\n\u001b[1;32m      7\u001b[0m train_pred \u001b[38;5;241m=\u001b[39m model\u001b[38;5;241m.\u001b[39mpredict(X_train)\n\u001b[0;32m----> 8\u001b[0m mae\u001b[38;5;241m=\u001b[39m\u001b[43mmetrics\u001b[49m\u001b[38;5;241;43m.\u001b[39;49m\u001b[43mmean_absolute_error\u001b[49m\u001b[43m(\u001b[49m\u001b[43my_test\u001b[49m\u001b[43m,\u001b[49m\u001b[43m \u001b[49m\u001b[43my_pred\u001b[49m\u001b[43m)\u001b[49m\n\u001b[1;32m      9\u001b[0m mse\u001b[38;5;241m=\u001b[39mmetrics\u001b[38;5;241m.\u001b[39mmean_squared_error(y_test, y_pred)\n\u001b[1;32m     10\u001b[0m \u001b[38;5;28mprint\u001b[39m(\u001b[38;5;124m'\u001b[39m\u001b[38;5;124mTest set evaluation:\u001b[39m\u001b[38;5;130;01m\\n\u001b[39;00m\u001b[38;5;124m_____________________________________\u001b[39m\u001b[38;5;124m'\u001b[39m)\n",
      "File \u001b[0;32m~/.pyenv/versions/3.9.6/lib/python3.9/site-packages/sklearn/metrics/_regression.py:196\u001b[0m, in \u001b[0;36mmean_absolute_error\u001b[0;34m(y_true, y_pred, sample_weight, multioutput)\u001b[0m\n\u001b[1;32m    141\u001b[0m \u001b[38;5;28;01mdef\u001b[39;00m \u001b[38;5;21mmean_absolute_error\u001b[39m(\n\u001b[1;32m    142\u001b[0m     y_true, y_pred, \u001b[38;5;241m*\u001b[39m, sample_weight\u001b[38;5;241m=\u001b[39m\u001b[38;5;28;01mNone\u001b[39;00m, multioutput\u001b[38;5;241m=\u001b[39m\u001b[38;5;124m\"\u001b[39m\u001b[38;5;124muniform_average\u001b[39m\u001b[38;5;124m\"\u001b[39m\n\u001b[1;32m    143\u001b[0m ):\n\u001b[1;32m    144\u001b[0m     \u001b[38;5;124;03m\"\"\"Mean absolute error regression loss.\u001b[39;00m\n\u001b[1;32m    145\u001b[0m \n\u001b[1;32m    146\u001b[0m \u001b[38;5;124;03m    Read more in the :ref:`User Guide <mean_absolute_error>`.\u001b[39;00m\n\u001b[0;32m   (...)\u001b[0m\n\u001b[1;32m    194\u001b[0m \u001b[38;5;124;03m    0.85...\u001b[39;00m\n\u001b[1;32m    195\u001b[0m \u001b[38;5;124;03m    \"\"\"\u001b[39;00m\n\u001b[0;32m--> 196\u001b[0m     y_type, y_true, y_pred, multioutput \u001b[38;5;241m=\u001b[39m \u001b[43m_check_reg_targets\u001b[49m\u001b[43m(\u001b[49m\n\u001b[1;32m    197\u001b[0m \u001b[43m        \u001b[49m\u001b[43my_true\u001b[49m\u001b[43m,\u001b[49m\u001b[43m \u001b[49m\u001b[43my_pred\u001b[49m\u001b[43m,\u001b[49m\u001b[43m \u001b[49m\u001b[43mmultioutput\u001b[49m\n\u001b[1;32m    198\u001b[0m \u001b[43m    \u001b[49m\u001b[43m)\u001b[49m\n\u001b[1;32m    199\u001b[0m     check_consistent_length(y_true, y_pred, sample_weight)\n\u001b[1;32m    200\u001b[0m     output_errors \u001b[38;5;241m=\u001b[39m np\u001b[38;5;241m.\u001b[39maverage(np\u001b[38;5;241m.\u001b[39mabs(y_pred \u001b[38;5;241m-\u001b[39m y_true), weights\u001b[38;5;241m=\u001b[39msample_weight, axis\u001b[38;5;241m=\u001b[39m\u001b[38;5;241m0\u001b[39m)\n",
      "File \u001b[0;32m~/.pyenv/versions/3.9.6/lib/python3.9/site-packages/sklearn/metrics/_regression.py:100\u001b[0m, in \u001b[0;36m_check_reg_targets\u001b[0;34m(y_true, y_pred, multioutput, dtype)\u001b[0m\n\u001b[1;32m     66\u001b[0m \u001b[38;5;28;01mdef\u001b[39;00m \u001b[38;5;21m_check_reg_targets\u001b[39m(y_true, y_pred, multioutput, dtype\u001b[38;5;241m=\u001b[39m\u001b[38;5;124m\"\u001b[39m\u001b[38;5;124mnumeric\u001b[39m\u001b[38;5;124m\"\u001b[39m):\n\u001b[1;32m     67\u001b[0m     \u001b[38;5;124;03m\"\"\"Check that y_true and y_pred belong to the same regression task.\u001b[39;00m\n\u001b[1;32m     68\u001b[0m \n\u001b[1;32m     69\u001b[0m \u001b[38;5;124;03m    Parameters\u001b[39;00m\n\u001b[0;32m   (...)\u001b[0m\n\u001b[1;32m     98\u001b[0m \u001b[38;5;124;03m        correct keyword.\u001b[39;00m\n\u001b[1;32m     99\u001b[0m \u001b[38;5;124;03m    \"\"\"\u001b[39;00m\n\u001b[0;32m--> 100\u001b[0m     \u001b[43mcheck_consistent_length\u001b[49m\u001b[43m(\u001b[49m\u001b[43my_true\u001b[49m\u001b[43m,\u001b[49m\u001b[43m \u001b[49m\u001b[43my_pred\u001b[49m\u001b[43m)\u001b[49m\n\u001b[1;32m    101\u001b[0m     y_true \u001b[38;5;241m=\u001b[39m check_array(y_true, ensure_2d\u001b[38;5;241m=\u001b[39m\u001b[38;5;28;01mFalse\u001b[39;00m, dtype\u001b[38;5;241m=\u001b[39mdtype)\n\u001b[1;32m    102\u001b[0m     y_pred \u001b[38;5;241m=\u001b[39m check_array(y_pred, ensure_2d\u001b[38;5;241m=\u001b[39m\u001b[38;5;28;01mFalse\u001b[39;00m, dtype\u001b[38;5;241m=\u001b[39mdtype)\n",
      "File \u001b[0;32m~/.pyenv/versions/3.9.6/lib/python3.9/site-packages/sklearn/utils/validation.py:387\u001b[0m, in \u001b[0;36mcheck_consistent_length\u001b[0;34m(*arrays)\u001b[0m\n\u001b[1;32m    385\u001b[0m uniques \u001b[38;5;241m=\u001b[39m np\u001b[38;5;241m.\u001b[39munique(lengths)\n\u001b[1;32m    386\u001b[0m \u001b[38;5;28;01mif\u001b[39;00m \u001b[38;5;28mlen\u001b[39m(uniques) \u001b[38;5;241m>\u001b[39m \u001b[38;5;241m1\u001b[39m:\n\u001b[0;32m--> 387\u001b[0m     \u001b[38;5;28;01mraise\u001b[39;00m \u001b[38;5;167;01mValueError\u001b[39;00m(\n\u001b[1;32m    388\u001b[0m         \u001b[38;5;124m\"\u001b[39m\u001b[38;5;124mFound input variables with inconsistent numbers of samples: \u001b[39m\u001b[38;5;132;01m%r\u001b[39;00m\u001b[38;5;124m\"\u001b[39m\n\u001b[1;32m    389\u001b[0m         \u001b[38;5;241m%\u001b[39m [\u001b[38;5;28mint\u001b[39m(l) \u001b[38;5;28;01mfor\u001b[39;00m l \u001b[38;5;129;01min\u001b[39;00m lengths]\n\u001b[1;32m    390\u001b[0m     )\n",
      "\u001b[0;31mValueError\u001b[0m: Found input variables with inconsistent numbers of samples: [18, 118]"
     ]
    }
   ],
   "source": [
    "from sklearn.tree import DecisionTreeRegressor\n",
    "from sklearn import metrics\n",
    "\n",
    "model = DecisionTreeRegressor(random_state = 0)\n",
    "model.fit(X_train, y_train)\n",
    "test_pred = model.predict(X_test)\n",
    "train_pred = model.predict(X_train)\n",
    "mae=metrics.mean_absolute_error(y_test, y_pred)\n",
    "mse=metrics.mean_squared_error(y_test, y_pred)\n",
    "print('Test set evaluation:\\n_____________________________________')\n",
    "print_evaluate(y_test, test_pred)\n",
    "\n",
    "results_df_2 = pd.DataFrame(data=[[\"Decision Tree regression\", *evaluate(y_test, test_pred) , cross_val(DecisionTreeRegressor())]], \n",
    "                          columns=['Model', 'MAE', 'MSE', 'RMSE', 'R2 Square', \"Cross Validation\"])\n",
    "results_df = results_df.append(results_df_2, ignore_index=True)"
   ]
  },
  {
   "cell_type": "code",
   "execution_count": null,
   "id": "a8a27d08",
   "metadata": {},
   "outputs": [],
   "source": []
  }
 ],
 "metadata": {
  "kernelspec": {
   "display_name": "Python 3 (ipykernel)",
   "language": "python",
   "name": "python3"
  },
  "language_info": {
   "codemirror_mode": {
    "name": "ipython",
    "version": 3
   },
   "file_extension": ".py",
   "mimetype": "text/x-python",
   "name": "python",
   "nbconvert_exporter": "python",
   "pygments_lexer": "ipython3",
   "version": "3.9.6"
  }
 },
 "nbformat": 4,
 "nbformat_minor": 5
}
