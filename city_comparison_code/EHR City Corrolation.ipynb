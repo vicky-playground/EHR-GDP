{
 "cells": [
  {
   "cell_type": "markdown",
   "id": "e719ca7b-392d-4aaa-b0af-f98502b1cd5a",
   "metadata": {},
   "source": [
    "# Average EHR Spending by City"
   ]
  },
  {
   "cell_type": "code",
   "execution_count": 153,
   "id": "5810b61d-0eaf-447e-8082-1a59b3c33c92",
   "metadata": {},
   "outputs": [],
   "source": [
    "## Import libraries\n",
    "import pandas as pd\n",
    "import numpy as np\n",
    "import matplotlib.pyplot as plt\n",
    "from sklearn import model_selection\n",
    "from sklearn.model_selection import train_test_split\n",
    "from sklearn import datasets, linear_model\n",
    "from sklearn.metrics import mean_squared_error, r2_score\n",
    "from sklearn.linear_model import LinearRegression\n",
    "from sklearn.linear_model import LogisticRegression\n",
    "from sklearn.tree import DecisionTreeClassifier\n",
    "from sklearn.neighbors import KNeighborsClassifier\n",
    "from sklearn.discriminant_analysis import LinearDiscriminantAnalysis\n",
    "from sklearn.naive_bayes import GaussianNB\n",
    "from sklearn.svm import SVC\n",
    "from scipy import stats\n",
    "import seaborn as sns"
   ]
  },
  {
   "cell_type": "code",
   "execution_count": 154,
   "id": "d6a174fe-2dac-4065-9713-30bd1795b4f1",
   "metadata": {},
   "outputs": [],
   "source": [
    "## Load the datasets\n",
    "df_ehr_provider = pd.read_csv('EHR_Incentive_Program_Payments_Providers.csv')\n",
    "df_ehr_hospital = pd.read_csv('EHR_Incentive_Program_Payments_Hospitals.csv')\n",
    "df_city_revenue = pd.read_csv('City_Revenues_Per_Capita.csv')\n",
    "df_city_expenditure = pd.read_csv('City_Expenditures_Per_Capita.csv')"
   ]
  },
  {
   "cell_type": "markdown",
   "id": "dae5db2f",
   "metadata": {},
   "source": [
    "## Analysis for EHR per Capita for Individual Healthcare Providers"
   ]
  },
  {
   "cell_type": "code",
   "execution_count": 155,
   "id": "a477cd9b-11ec-4271-840f-4e974d0b2113",
   "metadata": {},
   "outputs": [
    {
     "data": {
      "text/html": [
       "<div>\n",
       "<style scoped>\n",
       "    .dataframe tbody tr th:only-of-type {\n",
       "        vertical-align: middle;\n",
       "    }\n",
       "\n",
       "    .dataframe tbody tr th {\n",
       "        vertical-align: top;\n",
       "    }\n",
       "\n",
       "    .dataframe thead th {\n",
       "        text-align: right;\n",
       "    }\n",
       "</style>\n",
       "<table border=\"1\" class=\"dataframe\">\n",
       "  <thead>\n",
       "    <tr style=\"text-align: right;\">\n",
       "      <th></th>\n",
       "      <th>Business_C</th>\n",
       "      <th>Payment_Ye</th>\n",
       "      <th>total_paym</th>\n",
       "    </tr>\n",
       "  </thead>\n",
       "  <tbody>\n",
       "    <tr>\n",
       "      <th>0</th>\n",
       "      <td>Sacramento</td>\n",
       "      <td>2019</td>\n",
       "      <td>38250.0</td>\n",
       "    </tr>\n",
       "    <tr>\n",
       "      <th>1</th>\n",
       "      <td>Oakland</td>\n",
       "      <td>2014</td>\n",
       "      <td>21250.0</td>\n",
       "    </tr>\n",
       "    <tr>\n",
       "      <th>2</th>\n",
       "      <td>Antioch</td>\n",
       "      <td>2016</td>\n",
       "      <td>21250.0</td>\n",
       "    </tr>\n",
       "    <tr>\n",
       "      <th>3</th>\n",
       "      <td>Loma Linda</td>\n",
       "      <td>2015</td>\n",
       "      <td>29750.0</td>\n",
       "    </tr>\n",
       "    <tr>\n",
       "      <th>4</th>\n",
       "      <td>Orange</td>\n",
       "      <td>2014</td>\n",
       "      <td>21250.0</td>\n",
       "    </tr>\n",
       "  </tbody>\n",
       "</table>\n",
       "</div>"
      ],
      "text/plain": [
       "   Business_C  Payment_Ye  total_paym\n",
       "0  Sacramento        2019     38250.0\n",
       "1     Oakland        2014     21250.0\n",
       "2     Antioch        2016     21250.0\n",
       "3  Loma Linda        2015     29750.0\n",
       "4      Orange        2014     21250.0"
      ]
     },
     "execution_count": 155,
     "metadata": {},
     "output_type": "execute_result"
    }
   ],
   "source": [
    "## delete the unneeded columns on the provider dataset\n",
    "df_ehr_provider.drop(df_ehr_provider.columns[0:8],axis=1,inplace = True)\n",
    "df_ehr_provider.drop(df_ehr_provider.columns[1:4],axis=1,inplace = True)\n",
    "df_ehr_provider.drop(df_ehr_provider.columns[3:6],axis=1,inplace = True)\n",
    "df_ehr_provider.drop(['Program_Ye','Payee_NPI','Latitude','Longitude','total_rece'],axis=1,inplace = True)\n",
    "df_ehr_provider.head()\n"
   ]
  },
  {
   "cell_type": "code",
   "execution_count": 156,
   "id": "2d528d1b-053e-4627-bd2e-18bde9f8e231",
   "metadata": {},
   "outputs": [
    {
     "data": {
      "text/html": [
       "<div>\n",
       "<style scoped>\n",
       "    .dataframe tbody tr th:only-of-type {\n",
       "        vertical-align: middle;\n",
       "    }\n",
       "\n",
       "    .dataframe tbody tr th {\n",
       "        vertical-align: top;\n",
       "    }\n",
       "\n",
       "    .dataframe thead th {\n",
       "        text-align: right;\n",
       "    }\n",
       "</style>\n",
       "<table border=\"1\" class=\"dataframe\">\n",
       "  <thead>\n",
       "    <tr style=\"text-align: right;\">\n",
       "      <th></th>\n",
       "      <th>Business_C</th>\n",
       "      <th>Payment_Ye</th>\n",
       "      <th>total_paym</th>\n",
       "    </tr>\n",
       "  </thead>\n",
       "  <tbody>\n",
       "    <tr>\n",
       "      <th>0</th>\n",
       "      <td>adelanto</td>\n",
       "      <td>2014</td>\n",
       "      <td>14166.67</td>\n",
       "    </tr>\n",
       "    <tr>\n",
       "      <th>1</th>\n",
       "      <td>adelanto</td>\n",
       "      <td>2015</td>\n",
       "      <td>21250.00</td>\n",
       "    </tr>\n",
       "    <tr>\n",
       "      <th>2</th>\n",
       "      <td>adelanto</td>\n",
       "      <td>2016</td>\n",
       "      <td>29750.00</td>\n",
       "    </tr>\n",
       "    <tr>\n",
       "      <th>3</th>\n",
       "      <td>agoura hills</td>\n",
       "      <td>2014</td>\n",
       "      <td>63750.00</td>\n",
       "    </tr>\n",
       "    <tr>\n",
       "      <th>4</th>\n",
       "      <td>agoura hills</td>\n",
       "      <td>2016</td>\n",
       "      <td>21250.00</td>\n",
       "    </tr>\n",
       "  </tbody>\n",
       "</table>\n",
       "</div>"
      ],
      "text/plain": [
       "     Business_C  Payment_Ye  total_paym\n",
       "0      adelanto        2014    14166.67\n",
       "1      adelanto        2015    21250.00\n",
       "2      adelanto        2016    29750.00\n",
       "3  agoura hills        2014    63750.00\n",
       "4  agoura hills        2016    21250.00"
      ]
     },
     "execution_count": 156,
     "metadata": {},
     "output_type": "execute_result"
    }
   ],
   "source": [
    "# group the practitioner data by city and year, then sum the total payments\n",
    "df_ehr_provider['Business_C'] = df_ehr_provider['Business_C'].str.lower()\n",
    "df_ehr_provider = df_ehr_provider.groupby(['Business_C','Payment_Ye'])['total_paym'].sum().reset_index()\n",
    "df_ehr_provider.to_csv('test_group_by_check.csv')\n",
    "df_ehr_provider.head()"
   ]
  },
  {
   "cell_type": "code",
   "execution_count": 157,
   "id": "2141ccc7-0f89-4c2a-8b03-c5a6f5b2b8c5",
   "metadata": {},
   "outputs": [
    {
     "data": {
      "text/html": [
       "<div>\n",
       "<style scoped>\n",
       "    .dataframe tbody tr th:only-of-type {\n",
       "        vertical-align: middle;\n",
       "    }\n",
       "\n",
       "    .dataframe tbody tr th {\n",
       "        vertical-align: top;\n",
       "    }\n",
       "\n",
       "    .dataframe thead th {\n",
       "        text-align: right;\n",
       "    }\n",
       "</style>\n",
       "<table border=\"1\" class=\"dataframe\">\n",
       "  <thead>\n",
       "    <tr style=\"text-align: right;\">\n",
       "      <th></th>\n",
       "      <th>Entity Name</th>\n",
       "      <th>Fiscal Year</th>\n",
       "      <th>Total Revenues</th>\n",
       "      <th>Estimated Population</th>\n",
       "      <th>Revenues Per Capita</th>\n",
       "    </tr>\n",
       "  </thead>\n",
       "  <tbody>\n",
       "    <tr>\n",
       "      <th>0</th>\n",
       "      <td>adelanto</td>\n",
       "      <td>2021</td>\n",
       "      <td>22556106</td>\n",
       "      <td>36569.0</td>\n",
       "      <td>617.0</td>\n",
       "    </tr>\n",
       "    <tr>\n",
       "      <th>1</th>\n",
       "      <td>adelanto</td>\n",
       "      <td>2020</td>\n",
       "      <td>20455012</td>\n",
       "      <td>35663.0</td>\n",
       "      <td>574.0</td>\n",
       "    </tr>\n",
       "    <tr>\n",
       "      <th>2</th>\n",
       "      <td>adelanto</td>\n",
       "      <td>2019</td>\n",
       "      <td>20232000</td>\n",
       "      <td>35136.0</td>\n",
       "      <td>576.0</td>\n",
       "    </tr>\n",
       "    <tr>\n",
       "      <th>3</th>\n",
       "      <td>adelanto</td>\n",
       "      <td>2018</td>\n",
       "      <td>18224861</td>\n",
       "      <td>35293.0</td>\n",
       "      <td>516.0</td>\n",
       "    </tr>\n",
       "    <tr>\n",
       "      <th>4</th>\n",
       "      <td>adelanto</td>\n",
       "      <td>2017</td>\n",
       "      <td>15171753</td>\n",
       "      <td>34273.0</td>\n",
       "      <td>443.0</td>\n",
       "    </tr>\n",
       "  </tbody>\n",
       "</table>\n",
       "</div>"
      ],
      "text/plain": [
       "  Entity Name  Fiscal Year  Total Revenues  Estimated Population  \\\n",
       "0    adelanto         2021        22556106               36569.0   \n",
       "1    adelanto         2020        20455012               35663.0   \n",
       "2    adelanto         2019        20232000               35136.0   \n",
       "3    adelanto         2018        18224861               35293.0   \n",
       "4    adelanto         2017        15171753               34273.0   \n",
       "\n",
       "   Revenues Per Capita  \n",
       "0                617.0  \n",
       "1                574.0  \n",
       "2                576.0  \n",
       "3                516.0  \n",
       "4                443.0  "
      ]
     },
     "execution_count": 157,
     "metadata": {},
     "output_type": "execute_result"
    }
   ],
   "source": [
    "# change all Entity Names to lower case\n",
    "df_city_revenue['Entity Name'] = df_city_revenue['Entity Name'].str.lower()\n",
    "df_city_revenue.head()"
   ]
  },
  {
   "cell_type": "code",
   "execution_count": 158,
   "id": "850cebec",
   "metadata": {},
   "outputs": [
    {
     "data": {
      "text/html": [
       "<div>\n",
       "<style scoped>\n",
       "    .dataframe tbody tr th:only-of-type {\n",
       "        vertical-align: middle;\n",
       "    }\n",
       "\n",
       "    .dataframe tbody tr th {\n",
       "        vertical-align: top;\n",
       "    }\n",
       "\n",
       "    .dataframe thead th {\n",
       "        text-align: right;\n",
       "    }\n",
       "</style>\n",
       "<table border=\"1\" class=\"dataframe\">\n",
       "  <thead>\n",
       "    <tr style=\"text-align: right;\">\n",
       "      <th></th>\n",
       "      <th>Entity Name</th>\n",
       "      <th>Fiscal Year</th>\n",
       "      <th>Total Expenditures</th>\n",
       "      <th>Estimated Population</th>\n",
       "      <th>Expenditures Per Capita</th>\n",
       "    </tr>\n",
       "  </thead>\n",
       "  <tbody>\n",
       "    <tr>\n",
       "      <th>0</th>\n",
       "      <td>adelanto</td>\n",
       "      <td>2021</td>\n",
       "      <td>20580944</td>\n",
       "      <td>36569.0</td>\n",
       "      <td>563.0</td>\n",
       "    </tr>\n",
       "    <tr>\n",
       "      <th>1</th>\n",
       "      <td>adelanto</td>\n",
       "      <td>2020</td>\n",
       "      <td>26376314</td>\n",
       "      <td>35663.0</td>\n",
       "      <td>740.0</td>\n",
       "    </tr>\n",
       "    <tr>\n",
       "      <th>2</th>\n",
       "      <td>adelanto</td>\n",
       "      <td>2019</td>\n",
       "      <td>30886709</td>\n",
       "      <td>35136.0</td>\n",
       "      <td>879.0</td>\n",
       "    </tr>\n",
       "    <tr>\n",
       "      <th>3</th>\n",
       "      <td>adelanto</td>\n",
       "      <td>2018</td>\n",
       "      <td>20531571</td>\n",
       "      <td>35293.0</td>\n",
       "      <td>582.0</td>\n",
       "    </tr>\n",
       "    <tr>\n",
       "      <th>4</th>\n",
       "      <td>adelanto</td>\n",
       "      <td>2017</td>\n",
       "      <td>16035685</td>\n",
       "      <td>34273.0</td>\n",
       "      <td>468.0</td>\n",
       "    </tr>\n",
       "  </tbody>\n",
       "</table>\n",
       "</div>"
      ],
      "text/plain": [
       "  Entity Name  Fiscal Year  Total Expenditures  Estimated Population  \\\n",
       "0    adelanto         2021            20580944               36569.0   \n",
       "1    adelanto         2020            26376314               35663.0   \n",
       "2    adelanto         2019            30886709               35136.0   \n",
       "3    adelanto         2018            20531571               35293.0   \n",
       "4    adelanto         2017            16035685               34273.0   \n",
       "\n",
       "   Expenditures Per Capita  \n",
       "0                    563.0  \n",
       "1                    740.0  \n",
       "2                    879.0  \n",
       "3                    582.0  \n",
       "4                    468.0  "
      ]
     },
     "execution_count": 158,
     "metadata": {},
     "output_type": "execute_result"
    }
   ],
   "source": [
    "df_city_expenditure['Entity Name'] = df_city_revenue['Entity Name'].str.lower()\n",
    "df_city_expenditure.head()"
   ]
  },
  {
   "cell_type": "code",
   "execution_count": 159,
   "id": "5a0e0e74-4c4f-4ef6-810b-10fe107cbfc1",
   "metadata": {},
   "outputs": [
    {
     "data": {
      "text/html": [
       "<div>\n",
       "<style scoped>\n",
       "    .dataframe tbody tr th:only-of-type {\n",
       "        vertical-align: middle;\n",
       "    }\n",
       "\n",
       "    .dataframe tbody tr th {\n",
       "        vertical-align: top;\n",
       "    }\n",
       "\n",
       "    .dataframe thead th {\n",
       "        text-align: right;\n",
       "    }\n",
       "</style>\n",
       "<table border=\"1\" class=\"dataframe\">\n",
       "  <thead>\n",
       "    <tr style=\"text-align: right;\">\n",
       "      <th></th>\n",
       "      <th>Business_C</th>\n",
       "      <th>Payment_Ye</th>\n",
       "      <th>total_paym</th>\n",
       "      <th>Entity Name</th>\n",
       "      <th>Fiscal Year</th>\n",
       "      <th>Total Revenues</th>\n",
       "      <th>Estimated Population</th>\n",
       "      <th>Revenues Per Capita</th>\n",
       "    </tr>\n",
       "  </thead>\n",
       "  <tbody>\n",
       "    <tr>\n",
       "      <th>0</th>\n",
       "      <td>adelanto</td>\n",
       "      <td>2014</td>\n",
       "      <td>14166.67</td>\n",
       "      <td>adelanto</td>\n",
       "      <td>2014</td>\n",
       "      <td>13047272</td>\n",
       "      <td>32511.0</td>\n",
       "      <td>401.0</td>\n",
       "    </tr>\n",
       "    <tr>\n",
       "      <th>1</th>\n",
       "      <td>adelanto</td>\n",
       "      <td>2015</td>\n",
       "      <td>21250.00</td>\n",
       "      <td>adelanto</td>\n",
       "      <td>2015</td>\n",
       "      <td>14051611</td>\n",
       "      <td>33084.0</td>\n",
       "      <td>425.0</td>\n",
       "    </tr>\n",
       "    <tr>\n",
       "      <th>2</th>\n",
       "      <td>adelanto</td>\n",
       "      <td>2016</td>\n",
       "      <td>29750.00</td>\n",
       "      <td>adelanto</td>\n",
       "      <td>2016</td>\n",
       "      <td>14565863</td>\n",
       "      <td>33497.0</td>\n",
       "      <td>435.0</td>\n",
       "    </tr>\n",
       "    <tr>\n",
       "      <th>3</th>\n",
       "      <td>agoura hills</td>\n",
       "      <td>2014</td>\n",
       "      <td>63750.00</td>\n",
       "      <td>agoura hills</td>\n",
       "      <td>2014</td>\n",
       "      <td>25485389</td>\n",
       "      <td>20625.0</td>\n",
       "      <td>1236.0</td>\n",
       "    </tr>\n",
       "    <tr>\n",
       "      <th>4</th>\n",
       "      <td>agoura hills</td>\n",
       "      <td>2016</td>\n",
       "      <td>21250.00</td>\n",
       "      <td>agoura hills</td>\n",
       "      <td>2016</td>\n",
       "      <td>28100766</td>\n",
       "      <td>21211.0</td>\n",
       "      <td>1325.0</td>\n",
       "    </tr>\n",
       "  </tbody>\n",
       "</table>\n",
       "</div>"
      ],
      "text/plain": [
       "     Business_C  Payment_Ye  total_paym   Entity Name  Fiscal Year  \\\n",
       "0      adelanto        2014    14166.67      adelanto         2014   \n",
       "1      adelanto        2015    21250.00      adelanto         2015   \n",
       "2      adelanto        2016    29750.00      adelanto         2016   \n",
       "3  agoura hills        2014    63750.00  agoura hills         2014   \n",
       "4  agoura hills        2016    21250.00  agoura hills         2016   \n",
       "\n",
       "   Total Revenues  Estimated Population  Revenues Per Capita  \n",
       "0        13047272               32511.0                401.0  \n",
       "1        14051611               33084.0                425.0  \n",
       "2        14565863               33497.0                435.0  \n",
       "3        25485389               20625.0               1236.0  \n",
       "4        28100766               21211.0               1325.0  "
      ]
     },
     "execution_count": 159,
     "metadata": {},
     "output_type": "execute_result"
    }
   ],
   "source": [
    "## merge the provider dataset with the city revenue dataset\n",
    "df_provider_city = df_ehr_provider.merge(df_city_revenue, how=\"inner\",left_on=['Business_C','Payment_Ye'],right_on=['Entity Name','Fiscal Year'])\n",
    "df_provider_city.head()"
   ]
  },
  {
   "cell_type": "code",
   "execution_count": 160,
   "id": "9642d67e-c4ef-45a8-9614-43be5f881c76",
   "metadata": {},
   "outputs": [
    {
     "data": {
      "text/html": [
       "<div>\n",
       "<style scoped>\n",
       "    .dataframe tbody tr th:only-of-type {\n",
       "        vertical-align: middle;\n",
       "    }\n",
       "\n",
       "    .dataframe tbody tr th {\n",
       "        vertical-align: top;\n",
       "    }\n",
       "\n",
       "    .dataframe thead th {\n",
       "        text-align: right;\n",
       "    }\n",
       "</style>\n",
       "<table border=\"1\" class=\"dataframe\">\n",
       "  <thead>\n",
       "    <tr style=\"text-align: right;\">\n",
       "      <th></th>\n",
       "      <th>Business_C</th>\n",
       "      <th>Payment_Ye</th>\n",
       "      <th>total_paym</th>\n",
       "      <th>Total Revenues</th>\n",
       "      <th>Estimated Population</th>\n",
       "      <th>Revenues Per Capita</th>\n",
       "    </tr>\n",
       "  </thead>\n",
       "  <tbody>\n",
       "    <tr>\n",
       "      <th>0</th>\n",
       "      <td>adelanto</td>\n",
       "      <td>2014</td>\n",
       "      <td>14166.67</td>\n",
       "      <td>13047272</td>\n",
       "      <td>32511.0</td>\n",
       "      <td>401.0</td>\n",
       "    </tr>\n",
       "    <tr>\n",
       "      <th>1</th>\n",
       "      <td>adelanto</td>\n",
       "      <td>2015</td>\n",
       "      <td>21250.00</td>\n",
       "      <td>14051611</td>\n",
       "      <td>33084.0</td>\n",
       "      <td>425.0</td>\n",
       "    </tr>\n",
       "    <tr>\n",
       "      <th>2</th>\n",
       "      <td>adelanto</td>\n",
       "      <td>2016</td>\n",
       "      <td>29750.00</td>\n",
       "      <td>14565863</td>\n",
       "      <td>33497.0</td>\n",
       "      <td>435.0</td>\n",
       "    </tr>\n",
       "    <tr>\n",
       "      <th>3</th>\n",
       "      <td>agoura hills</td>\n",
       "      <td>2014</td>\n",
       "      <td>63750.00</td>\n",
       "      <td>25485389</td>\n",
       "      <td>20625.0</td>\n",
       "      <td>1236.0</td>\n",
       "    </tr>\n",
       "    <tr>\n",
       "      <th>4</th>\n",
       "      <td>agoura hills</td>\n",
       "      <td>2016</td>\n",
       "      <td>21250.00</td>\n",
       "      <td>28100766</td>\n",
       "      <td>21211.0</td>\n",
       "      <td>1325.0</td>\n",
       "    </tr>\n",
       "  </tbody>\n",
       "</table>\n",
       "</div>"
      ],
      "text/plain": [
       "     Business_C  Payment_Ye  total_paym  Total Revenues  Estimated Population  \\\n",
       "0      adelanto        2014    14166.67        13047272               32511.0   \n",
       "1      adelanto        2015    21250.00        14051611               33084.0   \n",
       "2      adelanto        2016    29750.00        14565863               33497.0   \n",
       "3  agoura hills        2014    63750.00        25485389               20625.0   \n",
       "4  agoura hills        2016    21250.00        28100766               21211.0   \n",
       "\n",
       "   Revenues Per Capita  \n",
       "0                401.0  \n",
       "1                425.0  \n",
       "2                435.0  \n",
       "3               1236.0  \n",
       "4               1325.0  "
      ]
     },
     "execution_count": 160,
     "metadata": {},
     "output_type": "execute_result"
    }
   ],
   "source": [
    "## drop the duplicate columns\n",
    "df_provider_city = df_provider_city.drop(['Entity Name','Fiscal Year'], axis=1)\n",
    "df_provider_city.head()"
   ]
  },
  {
   "cell_type": "code",
   "execution_count": 161,
   "id": "0168bd19",
   "metadata": {},
   "outputs": [
    {
     "data": {
      "text/html": [
       "<div>\n",
       "<style scoped>\n",
       "    .dataframe tbody tr th:only-of-type {\n",
       "        vertical-align: middle;\n",
       "    }\n",
       "\n",
       "    .dataframe tbody tr th {\n",
       "        vertical-align: top;\n",
       "    }\n",
       "\n",
       "    .dataframe thead th {\n",
       "        text-align: right;\n",
       "    }\n",
       "</style>\n",
       "<table border=\"1\" class=\"dataframe\">\n",
       "  <thead>\n",
       "    <tr style=\"text-align: right;\">\n",
       "      <th></th>\n",
       "      <th>Business_C</th>\n",
       "      <th>Payment_Ye</th>\n",
       "      <th>total_paym</th>\n",
       "      <th>Total Revenues</th>\n",
       "      <th>Estimated Population</th>\n",
       "      <th>Revenues Per Capita</th>\n",
       "      <th>Total Expenditures</th>\n",
       "      <th>Expenditures Per Capita</th>\n",
       "    </tr>\n",
       "  </thead>\n",
       "  <tbody>\n",
       "    <tr>\n",
       "      <th>0</th>\n",
       "      <td>adelanto</td>\n",
       "      <td>2014</td>\n",
       "      <td>14166.67</td>\n",
       "      <td>13047272</td>\n",
       "      <td>32511.0</td>\n",
       "      <td>401.0</td>\n",
       "      <td>13560072</td>\n",
       "      <td>417.0</td>\n",
       "    </tr>\n",
       "    <tr>\n",
       "      <th>1</th>\n",
       "      <td>adelanto</td>\n",
       "      <td>2015</td>\n",
       "      <td>21250.00</td>\n",
       "      <td>14051611</td>\n",
       "      <td>33084.0</td>\n",
       "      <td>425.0</td>\n",
       "      <td>15297952</td>\n",
       "      <td>462.0</td>\n",
       "    </tr>\n",
       "    <tr>\n",
       "      <th>2</th>\n",
       "      <td>adelanto</td>\n",
       "      <td>2016</td>\n",
       "      <td>29750.00</td>\n",
       "      <td>14565863</td>\n",
       "      <td>33497.0</td>\n",
       "      <td>435.0</td>\n",
       "      <td>23692799</td>\n",
       "      <td>707.0</td>\n",
       "    </tr>\n",
       "    <tr>\n",
       "      <th>3</th>\n",
       "      <td>agoura hills</td>\n",
       "      <td>2014</td>\n",
       "      <td>63750.00</td>\n",
       "      <td>25485389</td>\n",
       "      <td>20625.0</td>\n",
       "      <td>1236.0</td>\n",
       "      <td>23389616</td>\n",
       "      <td>1134.0</td>\n",
       "    </tr>\n",
       "    <tr>\n",
       "      <th>4</th>\n",
       "      <td>agoura hills</td>\n",
       "      <td>2016</td>\n",
       "      <td>21250.00</td>\n",
       "      <td>28100766</td>\n",
       "      <td>21211.0</td>\n",
       "      <td>1325.0</td>\n",
       "      <td>31218079</td>\n",
       "      <td>1472.0</td>\n",
       "    </tr>\n",
       "  </tbody>\n",
       "</table>\n",
       "</div>"
      ],
      "text/plain": [
       "     Business_C  Payment_Ye  total_paym  Total Revenues  Estimated Population  \\\n",
       "0      adelanto        2014    14166.67        13047272               32511.0   \n",
       "1      adelanto        2015    21250.00        14051611               33084.0   \n",
       "2      adelanto        2016    29750.00        14565863               33497.0   \n",
       "3  agoura hills        2014    63750.00        25485389               20625.0   \n",
       "4  agoura hills        2016    21250.00        28100766               21211.0   \n",
       "\n",
       "   Revenues Per Capita  Total Expenditures  Expenditures Per Capita  \n",
       "0                401.0            13560072                    417.0  \n",
       "1                425.0            15297952                    462.0  \n",
       "2                435.0            23692799                    707.0  \n",
       "3               1236.0            23389616                   1134.0  \n",
       "4               1325.0            31218079                   1472.0  "
      ]
     },
     "execution_count": 161,
     "metadata": {},
     "output_type": "execute_result"
    }
   ],
   "source": [
    "## merge with the city expenditure dataset\n",
    "df_provider_city = df_provider_city.merge(df_city_expenditure, how=\"inner\",left_on=['Business_C','Payment_Ye', 'Estimated Population'],right_on=['Entity Name','Fiscal Year', 'Estimated Population'])\n",
    "df_provider_city = df_provider_city.drop(['Entity Name','Fiscal Year'], axis=1)\n",
    "df_provider_city.head()"
   ]
  },
  {
   "cell_type": "code",
   "execution_count": 162,
   "id": "fdb0e077-3179-40c4-b79d-d6cdb83978dd",
   "metadata": {},
   "outputs": [],
   "source": [
    "df_provider_city.to_csv('ultimate_test.csv')"
   ]
  },
  {
   "cell_type": "code",
   "execution_count": 163,
   "id": "f0470396-ab71-4076-a75f-cf74f9f8d6ad",
   "metadata": {},
   "outputs": [
    {
     "data": {
      "text/html": [
       "<div>\n",
       "<style scoped>\n",
       "    .dataframe tbody tr th:only-of-type {\n",
       "        vertical-align: middle;\n",
       "    }\n",
       "\n",
       "    .dataframe tbody tr th {\n",
       "        vertical-align: top;\n",
       "    }\n",
       "\n",
       "    .dataframe thead th {\n",
       "        text-align: right;\n",
       "    }\n",
       "</style>\n",
       "<table border=\"1\" class=\"dataframe\">\n",
       "  <thead>\n",
       "    <tr style=\"text-align: right;\">\n",
       "      <th></th>\n",
       "      <th>Business_C</th>\n",
       "      <th>Payment_Ye</th>\n",
       "      <th>total_paym</th>\n",
       "      <th>Total Revenues</th>\n",
       "      <th>Estimated Population</th>\n",
       "      <th>Revenues Per Capita</th>\n",
       "      <th>Total Expenditures</th>\n",
       "      <th>Expenditures Per Capita</th>\n",
       "    </tr>\n",
       "  </thead>\n",
       "  <tbody>\n",
       "    <tr>\n",
       "      <th>0</th>\n",
       "      <td>adelanto</td>\n",
       "      <td>2014</td>\n",
       "      <td>14166.67</td>\n",
       "      <td>13047272</td>\n",
       "      <td>32511.0</td>\n",
       "      <td>401.0</td>\n",
       "      <td>13560072</td>\n",
       "      <td>417.0</td>\n",
       "    </tr>\n",
       "    <tr>\n",
       "      <th>1</th>\n",
       "      <td>adelanto</td>\n",
       "      <td>2015</td>\n",
       "      <td>21250.00</td>\n",
       "      <td>14051611</td>\n",
       "      <td>33084.0</td>\n",
       "      <td>425.0</td>\n",
       "      <td>15297952</td>\n",
       "      <td>462.0</td>\n",
       "    </tr>\n",
       "    <tr>\n",
       "      <th>2</th>\n",
       "      <td>adelanto</td>\n",
       "      <td>2016</td>\n",
       "      <td>29750.00</td>\n",
       "      <td>14565863</td>\n",
       "      <td>33497.0</td>\n",
       "      <td>435.0</td>\n",
       "      <td>23692799</td>\n",
       "      <td>707.0</td>\n",
       "    </tr>\n",
       "    <tr>\n",
       "      <th>3</th>\n",
       "      <td>agoura hills</td>\n",
       "      <td>2014</td>\n",
       "      <td>63750.00</td>\n",
       "      <td>25485389</td>\n",
       "      <td>20625.0</td>\n",
       "      <td>1236.0</td>\n",
       "      <td>23389616</td>\n",
       "      <td>1134.0</td>\n",
       "    </tr>\n",
       "    <tr>\n",
       "      <th>4</th>\n",
       "      <td>agoura hills</td>\n",
       "      <td>2016</td>\n",
       "      <td>21250.00</td>\n",
       "      <td>28100766</td>\n",
       "      <td>21211.0</td>\n",
       "      <td>1325.0</td>\n",
       "      <td>31218079</td>\n",
       "      <td>1472.0</td>\n",
       "    </tr>\n",
       "  </tbody>\n",
       "</table>\n",
       "</div>"
      ],
      "text/plain": [
       "     Business_C  Payment_Ye  total_paym  Total Revenues  Estimated Population  \\\n",
       "0      adelanto        2014    14166.67        13047272               32511.0   \n",
       "1      adelanto        2015    21250.00        14051611               33084.0   \n",
       "2      adelanto        2016    29750.00        14565863               33497.0   \n",
       "3  agoura hills        2014    63750.00        25485389               20625.0   \n",
       "4  agoura hills        2016    21250.00        28100766               21211.0   \n",
       "\n",
       "   Revenues Per Capita  Total Expenditures  Expenditures Per Capita  \n",
       "0                401.0            13560072                    417.0  \n",
       "1                425.0            15297952                    462.0  \n",
       "2                435.0            23692799                    707.0  \n",
       "3               1236.0            23389616                   1134.0  \n",
       "4               1325.0            31218079                   1472.0  "
      ]
     },
     "execution_count": 163,
     "metadata": {},
     "output_type": "execute_result"
    }
   ],
   "source": [
    "df_provider_city.head()"
   ]
  },
  {
   "cell_type": "code",
   "execution_count": 164,
   "id": "4f68c053-be70-47c1-b76f-3e5472faf266",
   "metadata": {},
   "outputs": [
    {
     "data": {
      "text/html": [
       "<div>\n",
       "<style scoped>\n",
       "    .dataframe tbody tr th:only-of-type {\n",
       "        vertical-align: middle;\n",
       "    }\n",
       "\n",
       "    .dataframe tbody tr th {\n",
       "        vertical-align: top;\n",
       "    }\n",
       "\n",
       "    .dataframe thead th {\n",
       "        text-align: right;\n",
       "    }\n",
       "</style>\n",
       "<table border=\"1\" class=\"dataframe\">\n",
       "  <thead>\n",
       "    <tr style=\"text-align: right;\">\n",
       "      <th></th>\n",
       "      <th>Business_C</th>\n",
       "      <th>Payment_Ye</th>\n",
       "      <th>total_paym</th>\n",
       "      <th>Total Revenues</th>\n",
       "      <th>Estimated Population</th>\n",
       "      <th>Revenues Per Capita</th>\n",
       "      <th>Total Expenditures</th>\n",
       "      <th>Expenditures Per Capita</th>\n",
       "      <th>EHR Per Capita</th>\n",
       "    </tr>\n",
       "  </thead>\n",
       "  <tbody>\n",
       "    <tr>\n",
       "      <th>0</th>\n",
       "      <td>adelanto</td>\n",
       "      <td>2014</td>\n",
       "      <td>14166.67</td>\n",
       "      <td>13047272</td>\n",
       "      <td>32511.0</td>\n",
       "      <td>401.0</td>\n",
       "      <td>13560072</td>\n",
       "      <td>417.0</td>\n",
       "      <td>0.435750</td>\n",
       "    </tr>\n",
       "    <tr>\n",
       "      <th>1</th>\n",
       "      <td>adelanto</td>\n",
       "      <td>2015</td>\n",
       "      <td>21250.00</td>\n",
       "      <td>14051611</td>\n",
       "      <td>33084.0</td>\n",
       "      <td>425.0</td>\n",
       "      <td>15297952</td>\n",
       "      <td>462.0</td>\n",
       "      <td>0.642304</td>\n",
       "    </tr>\n",
       "    <tr>\n",
       "      <th>2</th>\n",
       "      <td>adelanto</td>\n",
       "      <td>2016</td>\n",
       "      <td>29750.00</td>\n",
       "      <td>14565863</td>\n",
       "      <td>33497.0</td>\n",
       "      <td>435.0</td>\n",
       "      <td>23692799</td>\n",
       "      <td>707.0</td>\n",
       "      <td>0.888139</td>\n",
       "    </tr>\n",
       "    <tr>\n",
       "      <th>3</th>\n",
       "      <td>agoura hills</td>\n",
       "      <td>2014</td>\n",
       "      <td>63750.00</td>\n",
       "      <td>25485389</td>\n",
       "      <td>20625.0</td>\n",
       "      <td>1236.0</td>\n",
       "      <td>23389616</td>\n",
       "      <td>1134.0</td>\n",
       "      <td>3.090909</td>\n",
       "    </tr>\n",
       "    <tr>\n",
       "      <th>4</th>\n",
       "      <td>agoura hills</td>\n",
       "      <td>2016</td>\n",
       "      <td>21250.00</td>\n",
       "      <td>28100766</td>\n",
       "      <td>21211.0</td>\n",
       "      <td>1325.0</td>\n",
       "      <td>31218079</td>\n",
       "      <td>1472.0</td>\n",
       "      <td>1.001839</td>\n",
       "    </tr>\n",
       "  </tbody>\n",
       "</table>\n",
       "</div>"
      ],
      "text/plain": [
       "     Business_C  Payment_Ye  total_paym  Total Revenues  Estimated Population  \\\n",
       "0      adelanto        2014    14166.67        13047272               32511.0   \n",
       "1      adelanto        2015    21250.00        14051611               33084.0   \n",
       "2      adelanto        2016    29750.00        14565863               33497.0   \n",
       "3  agoura hills        2014    63750.00        25485389               20625.0   \n",
       "4  agoura hills        2016    21250.00        28100766               21211.0   \n",
       "\n",
       "   Revenues Per Capita  Total Expenditures  Expenditures Per Capita  \\\n",
       "0                401.0            13560072                    417.0   \n",
       "1                425.0            15297952                    462.0   \n",
       "2                435.0            23692799                    707.0   \n",
       "3               1236.0            23389616                   1134.0   \n",
       "4               1325.0            31218079                   1472.0   \n",
       "\n",
       "   EHR Per Capita  \n",
       "0        0.435750  \n",
       "1        0.642304  \n",
       "2        0.888139  \n",
       "3        3.090909  \n",
       "4        1.001839  "
      ]
     },
     "execution_count": 164,
     "metadata": {},
     "output_type": "execute_result"
    }
   ],
   "source": [
    "## create the \"EHR per Capita\" column by divide the total_paym by the estimated population in that year\n",
    "df_provider_city['EHR Per Capita'] = df_provider_city['total_paym']/df_provider_city['Estimated Population']\n",
    "df_provider_city.head()"
   ]
  },
  {
   "cell_type": "code",
   "execution_count": 165,
   "id": "c43f2fb0",
   "metadata": {},
   "outputs": [
    {
     "data": {
      "text/html": [
       "<div>\n",
       "<style scoped>\n",
       "    .dataframe tbody tr th:only-of-type {\n",
       "        vertical-align: middle;\n",
       "    }\n",
       "\n",
       "    .dataframe tbody tr th {\n",
       "        vertical-align: top;\n",
       "    }\n",
       "\n",
       "    .dataframe thead th {\n",
       "        text-align: right;\n",
       "    }\n",
       "</style>\n",
       "<table border=\"1\" class=\"dataframe\">\n",
       "  <thead>\n",
       "    <tr style=\"text-align: right;\">\n",
       "      <th></th>\n",
       "      <th>Business_C</th>\n",
       "      <th>Payment_Ye</th>\n",
       "      <th>total_paym</th>\n",
       "      <th>Total Revenues</th>\n",
       "      <th>Estimated Population</th>\n",
       "      <th>Revenues Per Capita</th>\n",
       "      <th>Total Expenditures</th>\n",
       "      <th>Expenditures Per Capita</th>\n",
       "      <th>EHR Per Capita</th>\n",
       "    </tr>\n",
       "  </thead>\n",
       "  <tbody>\n",
       "    <tr>\n",
       "      <th>0</th>\n",
       "      <td>adelanto</td>\n",
       "      <td>2014</td>\n",
       "      <td>14166.67</td>\n",
       "      <td>13047272</td>\n",
       "      <td>32511.0</td>\n",
       "      <td>401.0</td>\n",
       "      <td>13560072</td>\n",
       "      <td>417.0</td>\n",
       "      <td>0.435750</td>\n",
       "    </tr>\n",
       "    <tr>\n",
       "      <th>1</th>\n",
       "      <td>adelanto</td>\n",
       "      <td>2015</td>\n",
       "      <td>21250.00</td>\n",
       "      <td>14051611</td>\n",
       "      <td>33084.0</td>\n",
       "      <td>425.0</td>\n",
       "      <td>15297952</td>\n",
       "      <td>462.0</td>\n",
       "      <td>0.642304</td>\n",
       "    </tr>\n",
       "    <tr>\n",
       "      <th>2</th>\n",
       "      <td>adelanto</td>\n",
       "      <td>2016</td>\n",
       "      <td>29750.00</td>\n",
       "      <td>14565863</td>\n",
       "      <td>33497.0</td>\n",
       "      <td>435.0</td>\n",
       "      <td>23692799</td>\n",
       "      <td>707.0</td>\n",
       "      <td>0.888139</td>\n",
       "    </tr>\n",
       "    <tr>\n",
       "      <th>3</th>\n",
       "      <td>agoura hills</td>\n",
       "      <td>2014</td>\n",
       "      <td>63750.00</td>\n",
       "      <td>25485389</td>\n",
       "      <td>20625.0</td>\n",
       "      <td>1236.0</td>\n",
       "      <td>23389616</td>\n",
       "      <td>1134.0</td>\n",
       "      <td>3.090909</td>\n",
       "    </tr>\n",
       "    <tr>\n",
       "      <th>4</th>\n",
       "      <td>agoura hills</td>\n",
       "      <td>2016</td>\n",
       "      <td>21250.00</td>\n",
       "      <td>28100766</td>\n",
       "      <td>21211.0</td>\n",
       "      <td>1325.0</td>\n",
       "      <td>31218079</td>\n",
       "      <td>1472.0</td>\n",
       "      <td>1.001839</td>\n",
       "    </tr>\n",
       "  </tbody>\n",
       "</table>\n",
       "</div>"
      ],
      "text/plain": [
       "     Business_C  Payment_Ye  total_paym  Total Revenues  Estimated Population  \\\n",
       "0      adelanto        2014    14166.67        13047272               32511.0   \n",
       "1      adelanto        2015    21250.00        14051611               33084.0   \n",
       "2      adelanto        2016    29750.00        14565863               33497.0   \n",
       "3  agoura hills        2014    63750.00        25485389               20625.0   \n",
       "4  agoura hills        2016    21250.00        28100766               21211.0   \n",
       "\n",
       "   Revenues Per Capita  Total Expenditures  Expenditures Per Capita  \\\n",
       "0                401.0            13560072                    417.0   \n",
       "1                425.0            15297952                    462.0   \n",
       "2                435.0            23692799                    707.0   \n",
       "3               1236.0            23389616                   1134.0   \n",
       "4               1325.0            31218079                   1472.0   \n",
       "\n",
       "   EHR Per Capita  \n",
       "0        0.435750  \n",
       "1        0.642304  \n",
       "2        0.888139  \n",
       "3        3.090909  \n",
       "4        1.001839  "
      ]
     },
     "execution_count": 165,
     "metadata": {},
     "output_type": "execute_result"
    }
   ],
   "source": [
    "## sort the dataset\n",
    "df_provider_city = df_provider_city.sort_values(['Business_C','Payment_Ye'],ascending = True)\n",
    "df_provider_city.head()"
   ]
  },
  {
   "cell_type": "code",
   "execution_count": 166,
   "id": "a241e452",
   "metadata": {},
   "outputs": [
    {
     "data": {
      "text/html": [
       "<div>\n",
       "<style scoped>\n",
       "    .dataframe tbody tr th:only-of-type {\n",
       "        vertical-align: middle;\n",
       "    }\n",
       "\n",
       "    .dataframe tbody tr th {\n",
       "        vertical-align: top;\n",
       "    }\n",
       "\n",
       "    .dataframe thead th {\n",
       "        text-align: right;\n",
       "    }\n",
       "</style>\n",
       "<table border=\"1\" class=\"dataframe\">\n",
       "  <thead>\n",
       "    <tr style=\"text-align: right;\">\n",
       "      <th></th>\n",
       "      <th>Payment_Ye</th>\n",
       "      <th>total_paym</th>\n",
       "      <th>Total Revenues</th>\n",
       "      <th>Estimated Population</th>\n",
       "      <th>Revenues Per Capita</th>\n",
       "      <th>Total Expenditures</th>\n",
       "      <th>Expenditures Per Capita</th>\n",
       "      <th>EHR Per Capita</th>\n",
       "    </tr>\n",
       "    <tr>\n",
       "      <th>Business_C</th>\n",
       "      <th></th>\n",
       "      <th></th>\n",
       "      <th></th>\n",
       "      <th></th>\n",
       "      <th></th>\n",
       "      <th></th>\n",
       "      <th></th>\n",
       "      <th></th>\n",
       "    </tr>\n",
       "  </thead>\n",
       "  <tbody>\n",
       "    <tr>\n",
       "      <th>adelanto</th>\n",
       "      <td>2016</td>\n",
       "      <td>29750.0</td>\n",
       "      <td>14565863</td>\n",
       "      <td>33497.0</td>\n",
       "      <td>435.0</td>\n",
       "      <td>23692799</td>\n",
       "      <td>707.0</td>\n",
       "      <td>0.888139</td>\n",
       "    </tr>\n",
       "    <tr>\n",
       "      <th>agoura hills</th>\n",
       "      <td>2016</td>\n",
       "      <td>21250.0</td>\n",
       "      <td>28100766</td>\n",
       "      <td>21211.0</td>\n",
       "      <td>1325.0</td>\n",
       "      <td>31218079</td>\n",
       "      <td>1472.0</td>\n",
       "      <td>1.001839</td>\n",
       "    </tr>\n",
       "    <tr>\n",
       "      <th>alameda</th>\n",
       "      <td>2020</td>\n",
       "      <td>191250.0</td>\n",
       "      <td>296672492</td>\n",
       "      <td>81312.0</td>\n",
       "      <td>3649.0</td>\n",
       "      <td>260518041</td>\n",
       "      <td>3204.0</td>\n",
       "      <td>2.352051</td>\n",
       "    </tr>\n",
       "    <tr>\n",
       "      <th>albany</th>\n",
       "      <td>2015</td>\n",
       "      <td>29750.0</td>\n",
       "      <td>28109961</td>\n",
       "      <td>18565.0</td>\n",
       "      <td>1514.0</td>\n",
       "      <td>24990215</td>\n",
       "      <td>1346.0</td>\n",
       "      <td>1.602478</td>\n",
       "    </tr>\n",
       "    <tr>\n",
       "      <th>alhambra</th>\n",
       "      <td>2020</td>\n",
       "      <td>46750.0</td>\n",
       "      <td>133617079</td>\n",
       "      <td>86792.0</td>\n",
       "      <td>1540.0</td>\n",
       "      <td>137772968</td>\n",
       "      <td>1587.0</td>\n",
       "      <td>0.538644</td>\n",
       "    </tr>\n",
       "  </tbody>\n",
       "</table>\n",
       "</div>"
      ],
      "text/plain": [
       "              Payment_Ye  total_paym  Total Revenues  Estimated Population  \\\n",
       "Business_C                                                                   \n",
       "adelanto            2016     29750.0        14565863               33497.0   \n",
       "agoura hills        2016     21250.0        28100766               21211.0   \n",
       "alameda             2020    191250.0       296672492               81312.0   \n",
       "albany              2015     29750.0        28109961               18565.0   \n",
       "alhambra            2020     46750.0       133617079               86792.0   \n",
       "\n",
       "              Revenues Per Capita  Total Expenditures  \\\n",
       "Business_C                                              \n",
       "adelanto                    435.0            23692799   \n",
       "agoura hills               1325.0            31218079   \n",
       "alameda                    3649.0           260518041   \n",
       "albany                     1514.0            24990215   \n",
       "alhambra                   1540.0           137772968   \n",
       "\n",
       "              Expenditures Per Capita  EHR Per Capita  \n",
       "Business_C                                             \n",
       "adelanto                        707.0        0.888139  \n",
       "agoura hills                   1472.0        1.001839  \n",
       "alameda                        3204.0        2.352051  \n",
       "albany                         1346.0        1.602478  \n",
       "alhambra                       1587.0        0.538644  "
      ]
     },
     "execution_count": 166,
     "metadata": {},
     "output_type": "execute_result"
    }
   ],
   "source": [
    "## Get the last entry for each city as the total payment they have received\n",
    "df_provider_city_last = df_provider_city.groupby(['Business_C']).last()\n",
    "df_provider_city_last.head()"
   ]
  },
  {
   "cell_type": "markdown",
   "id": "04a75fb5",
   "metadata": {},
   "source": [
    "### Plot the preliminary histograms"
   ]
  },
  {
   "cell_type": "code",
   "execution_count": 167,
   "id": "f646ebc4",
   "metadata": {},
   "outputs": [
    {
     "data": {
      "text/plain": [
       "Text(0.5, 1.0, 'Revenue per Capita')"
      ]
     },
     "execution_count": 167,
     "metadata": {},
     "output_type": "execute_result"
    },
    {
     "data": {
      "image/png": "[encoded data removed]",
      "text/plain": [
       "<Figure size 640x480 with 1 Axes>"
      ]
     },
     "metadata": {},
     "output_type": "display_data"
    }
   ],
   "source": [
    "## plot the histogram for revenue per capita\n",
    "plt.hist(df_provider_city_last['Revenues Per Capita'], bins=500)\n",
    "plt.title('Revenue per Capita')"
   ]
  },
  {
   "cell_type": "code",
   "execution_count": 168,
   "id": "1cd48d8e",
   "metadata": {},
   "outputs": [
    {
     "data": {
      "text/plain": [
       "Text(0.5, 1.0, 'Expenditures per Capita')"
      ]
     },
     "execution_count": 168,
     "metadata": {},
     "output_type": "execute_result"
    },
    {
     "data": {
      "image/png": "[encoded data removed]",
      "text/plain": [
       "<Figure size 640x480 with 1 Axes>"
      ]
     },
     "metadata": {},
     "output_type": "display_data"
    }
   ],
   "source": [
    "## plot the histogram for expenditure per capita\n",
    "plt.hist(df_provider_city_last['Expenditures Per Capita'], bins=500)\n",
    "plt.title('Expenditures per Capita')"
   ]
  },
  {
   "cell_type": "code",
   "execution_count": 169,
   "id": "419b2a5b",
   "metadata": {},
   "outputs": [
    {
     "data": {
      "text/plain": [
       "Text(0.5, 1.0, 'EHR Per Capita')"
      ]
     },
     "execution_count": 169,
     "metadata": {},
     "output_type": "execute_result"
    },
    {
     "data": {
      "image/png": "[encoded data removed]",
      "text/plain": [
       "<Figure size 640x480 with 1 Axes>"
      ]
     },
     "metadata": {},
     "output_type": "display_data"
    }
   ],
   "source": [
    "## plot the histogram for EHR per Capita\n",
    "plt.hist(df_provider_city_last['EHR Per Capita'], bins=500)\n",
    "plt.title('EHR Per Capita')"
   ]
  },
  {
   "cell_type": "markdown",
   "id": "4b0a58ca",
   "metadata": {},
   "source": [
    "### Plotting scatterplot"
   ]
  },
  {
   "cell_type": "code",
   "execution_count": 170,
   "id": "81e81512",
   "metadata": {},
   "outputs": [
    {
     "data": {
      "text/plain": [
       "<AxesSubplot:xlabel='Revenues Per Capita', ylabel='EHR Per Capita'>"
      ]
     },
     "execution_count": 170,
     "metadata": {},
     "output_type": "execute_result"
    },
    {
     "data": {
      "image/png": "[encoded data removed]",
      "text/plain": [
       "<Figure size 640x480 with 1 Axes>"
      ]
     },
     "metadata": {},
     "output_type": "display_data"
    }
   ],
   "source": [
    "sns.regplot(x='Revenues Per Capita', y='EHR Per Capita', data=df_provider_city_last)"
   ]
  },
  {
   "cell_type": "code",
   "execution_count": 171,
   "id": "94cc90a6",
   "metadata": {},
   "outputs": [
    {
     "data": {
      "text/plain": [
       "<AxesSubplot:xlabel='Expenditures Per Capita', ylabel='EHR Per Capita'>"
      ]
     },
     "execution_count": 171,
     "metadata": {},
     "output_type": "execute_result"
    },
    {
     "data": {
      "image/png": "[encoded data removed]",
      "text/plain": [
       "<Figure size 640x480 with 1 Axes>"
      ]
     },
     "metadata": {},
     "output_type": "display_data"
    }
   ],
   "source": [
    "sns.regplot(x='Expenditures Per Capita', y='EHR Per Capita', data=df_provider_city_last)"
   ]
  },
  {
   "cell_type": "markdown",
   "id": "885e818b",
   "metadata": {},
   "source": [
    "### Regression Analysis"
   ]
  },
  {
   "cell_type": "code",
   "execution_count": 172,
   "id": "4e4f389e",
   "metadata": {},
   "outputs": [
    {
     "name": "stdout",
     "output_type": "stream",
     "text": [
      "                            OLS Regression Results                            \n",
      "==============================================================================\n",
      "Dep. Variable:                      y   R-squared:                       0.018\n",
      "Model:                            OLS   Adj. R-squared:                  0.014\n",
      "Method:                 Least Squares   F-statistic:                     3.776\n",
      "Date:                Sat, 19 Nov 2022   Prob (F-statistic):             0.0237\n",
      "Time:                        19:08:31   Log-Likelihood:                -1745.0\n",
      "No. Observations:                 404   AIC:                             3496.\n",
      "Df Residuals:                     401   BIC:                             3508.\n",
      "Df Model:                           2                                         \n",
      "Covariance Type:            nonrobust                                         \n",
      "==============================================================================\n",
      "                 coef    std err          t      P>|t|      [0.025      0.975]\n",
      "------------------------------------------------------------------------------\n",
      "Intercept      4.9251      1.406      3.502      0.001       2.161       7.690\n",
      "x              0.0046      0.002      1.956      0.051   -2.29e-05       0.009\n",
      "z             -0.0033      0.002     -1.519      0.130      -0.008       0.001\n",
      "==============================================================================\n",
      "Omnibus:                      538.162   Durbin-Watson:                   1.942\n",
      "Prob(Omnibus):                  0.000   Jarque-Bera (JB):            59066.181\n",
      "Skew:                           6.578   Prob(JB):                         0.00\n",
      "Kurtosis:                      60.756   Cond. No.                     6.17e+03\n",
      "==============================================================================\n",
      "\n",
      "Notes:\n",
      "[1] Standard Errors assume that the covariance matrix of the errors is correctly specified.\n",
      "[2] The condition number is large, 6.17e+03. This might indicate that there are\n",
      "strong multicollinearity or other numerical problems.\n"
     ]
    }
   ],
   "source": [
    "## Standard OLS\n",
    "import statsmodels.api as sm\n",
    "from statsmodels.formula.api import ols\n",
    "\n",
    "y = df_provider_city_last['EHR Per Capita']\n",
    "x = df_provider_city_last['Revenues Per Capita']\n",
    "z = df_provider_city_last['Expenditures Per Capita']\n",
    "\n",
    "lm = ols('y ~ x + z', data = df_provider_city_last).fit()\n",
    "table = sm.stats.anova_lm(lm)\n",
    "print(lm.summary())"
   ]
  },
  {
   "cell_type": "code",
   "execution_count": 173,
   "id": "b0128691",
   "metadata": {},
   "outputs": [
    {
     "data": {
      "text/plain": [
       "FriedmanchisquareResult(statistic=626.423791821561, pvalue=9.41460144601483e-137)"
      ]
     },
     "execution_count": 173,
     "metadata": {},
     "output_type": "execute_result"
    }
   ],
   "source": [
    "## Use the Friedman rank test\n",
    "stats.friedmanchisquare(df_provider_city_last['EHR Per Capita'],df_provider_city_last['Revenues Per Capita'],df_provider_city_last['Expenditures Per Capita'])"
   ]
  },
  {
   "cell_type": "markdown",
   "id": "5eedc506",
   "metadata": {},
   "source": [
    "### Log Transformations"
   ]
  },
  {
   "cell_type": "code",
   "execution_count": 174,
   "id": "4609add3",
   "metadata": {},
   "outputs": [],
   "source": [
    "df_provider_city_last_log = np.log(df_provider_city_last)"
   ]
  },
  {
   "cell_type": "code",
   "execution_count": 175,
   "id": "138393e8",
   "metadata": {},
   "outputs": [
    {
     "data": {
      "text/plain": [
       "Text(0.5, 1.0, 'Revenue per Capita')"
      ]
     },
     "execution_count": 175,
     "metadata": {},
     "output_type": "execute_result"
    },
    {
     "data": {
      "image/png": "[encoded data removed]",
      "text/plain": [
       "<Figure size 640x480 with 1 Axes>"
      ]
     },
     "metadata": {},
     "output_type": "display_data"
    }
   ],
   "source": [
    "plt.hist(df_provider_city_last_log['Revenues Per Capita'])\n",
    "plt.title('Revenue per Capita')"
   ]
  },
  {
   "cell_type": "code",
   "execution_count": 176,
   "id": "56265aac",
   "metadata": {},
   "outputs": [
    {
     "data": {
      "text/plain": [
       "Text(0.5, 1.0, 'Expenditures per Capita')"
      ]
     },
     "execution_count": 176,
     "metadata": {},
     "output_type": "execute_result"
    },
    {
     "data": {
      "image/png": "[encoded data removed]",
      "text/plain": [
       "<Figure size 640x480 with 1 Axes>"
      ]
     },
     "metadata": {},
     "output_type": "display_data"
    }
   ],
   "source": [
    "plt.hist(df_provider_city_last_log['Expenditures Per Capita'])\n",
    "plt.title('Expenditures per Capita')"
   ]
  },
  {
   "cell_type": "code",
   "execution_count": 177,
   "id": "495dfcc4",
   "metadata": {},
   "outputs": [
    {
     "data": {
      "text/plain": [
       "Text(0.5, 1.0, 'EHR per Capita')"
      ]
     },
     "execution_count": 177,
     "metadata": {},
     "output_type": "execute_result"
    },
    {
     "data": {
      "image/png": "[encoded data removed]",
      "text/plain": [
       "<Figure size 640x480 with 1 Axes>"
      ]
     },
     "metadata": {},
     "output_type": "display_data"
    }
   ],
   "source": [
    "plt.hist(df_provider_city_last_log['EHR Per Capita'])\n",
    "plt.title('EHR per Capita')"
   ]
  },
  {
   "cell_type": "code",
   "execution_count": 178,
   "id": "810245f1",
   "metadata": {},
   "outputs": [
    {
     "name": "stdout",
     "output_type": "stream",
     "text": [
      "                            OLS Regression Results                            \n",
      "==============================================================================\n",
      "Dep. Variable:                      y   R-squared:                       0.018\n",
      "Model:                            OLS   Adj. R-squared:                  0.014\n",
      "Method:                 Least Squares   F-statistic:                     3.778\n",
      "Date:                Sat, 19 Nov 2022   Prob (F-statistic):             0.0237\n",
      "Time:                        19:08:32   Log-Likelihood:                -700.31\n",
      "No. Observations:                 404   AIC:                             1407.\n",
      "Df Residuals:                     401   BIC:                             1419.\n",
      "Df Model:                           2                                         \n",
      "Covariance Type:            nonrobust                                         \n",
      "==============================================================================\n",
      "                 coef    std err          t      P>|t|      [0.025      0.975]\n",
      "------------------------------------------------------------------------------\n",
      "Intercept     -1.0778      0.853     -1.263      0.207      -2.755       0.599\n",
      "x              0.7207      0.489      1.473      0.141      -0.241       1.682\n",
      "z             -0.4446      0.496     -0.897      0.370      -1.419       0.530\n",
      "==============================================================================\n",
      "Omnibus:                        9.449   Durbin-Watson:                   1.907\n",
      "Prob(Omnibus):                  0.009   Jarque-Bera (JB):                9.608\n",
      "Skew:                           0.355   Prob(JB):                      0.00820\n",
      "Kurtosis:                       2.740   Cond. No.                         133.\n",
      "==============================================================================\n",
      "\n",
      "Notes:\n",
      "[1] Standard Errors assume that the covariance matrix of the errors is correctly specified.\n"
     ]
    }
   ],
   "source": [
    "y = df_provider_city_last_log['EHR Per Capita']\n",
    "x = df_provider_city_last_log['Revenues Per Capita']\n",
    "z = df_provider_city_last_log['Expenditures Per Capita']\n",
    "\n",
    "lm = ols('y ~ x + z', data = df_provider_city_last_log).fit()\n",
    "table = sm.stats.anova_lm(lm)\n",
    "print(lm.summary())"
   ]
  },
  {
   "cell_type": "code",
   "execution_count": 179,
   "id": "76793c00",
   "metadata": {},
   "outputs": [
    {
     "data": {
      "text/html": [
       "<div>\n",
       "<style scoped>\n",
       "    .dataframe tbody tr th:only-of-type {\n",
       "        vertical-align: middle;\n",
       "    }\n",
       "\n",
       "    .dataframe tbody tr th {\n",
       "        vertical-align: top;\n",
       "    }\n",
       "\n",
       "    .dataframe thead th {\n",
       "        text-align: right;\n",
       "    }\n",
       "</style>\n",
       "<table border=\"1\" class=\"dataframe\">\n",
       "  <thead>\n",
       "    <tr style=\"text-align: right;\">\n",
       "      <th></th>\n",
       "      <th>Payment_Ye</th>\n",
       "      <th>total_paym</th>\n",
       "      <th>Total Revenues</th>\n",
       "      <th>Estimated Population</th>\n",
       "      <th>Revenues Per Capita</th>\n",
       "      <th>Total Expenditures</th>\n",
       "      <th>Expenditures Per Capita</th>\n",
       "      <th>EHR Per Capita</th>\n",
       "    </tr>\n",
       "    <tr>\n",
       "      <th>Business_C</th>\n",
       "      <th></th>\n",
       "      <th></th>\n",
       "      <th></th>\n",
       "      <th></th>\n",
       "      <th></th>\n",
       "      <th></th>\n",
       "      <th></th>\n",
       "      <th></th>\n",
       "    </tr>\n",
       "  </thead>\n",
       "  <tbody>\n",
       "    <tr>\n",
       "      <th>adelanto</th>\n",
       "      <td>7.608871</td>\n",
       "      <td>10.300584</td>\n",
       "      <td>16.494191</td>\n",
       "      <td>10.419211</td>\n",
       "      <td>6.075346</td>\n",
       "      <td>16.980682</td>\n",
       "      <td>6.561031</td>\n",
       "      <td>-0.118627</td>\n",
       "    </tr>\n",
       "    <tr>\n",
       "      <th>agoura hills</th>\n",
       "      <td>7.608871</td>\n",
       "      <td>9.964112</td>\n",
       "      <td>17.151307</td>\n",
       "      <td>9.962275</td>\n",
       "      <td>7.189168</td>\n",
       "      <td>17.256508</td>\n",
       "      <td>7.294377</td>\n",
       "      <td>0.001837</td>\n",
       "    </tr>\n",
       "    <tr>\n",
       "      <th>alameda</th>\n",
       "      <td>7.610853</td>\n",
       "      <td>12.161337</td>\n",
       "      <td>19.508139</td>\n",
       "      <td>11.306049</td>\n",
       "      <td>8.202208</td>\n",
       "      <td>19.378183</td>\n",
       "      <td>8.072155</td>\n",
       "      <td>0.855288</td>\n",
       "    </tr>\n",
       "    <tr>\n",
       "      <th>albany</th>\n",
       "      <td>7.608374</td>\n",
       "      <td>10.300584</td>\n",
       "      <td>17.151635</td>\n",
       "      <td>9.829033</td>\n",
       "      <td>7.322510</td>\n",
       "      <td>17.033995</td>\n",
       "      <td>7.204893</td>\n",
       "      <td>0.471551</td>\n",
       "    </tr>\n",
       "    <tr>\n",
       "      <th>alhambra</th>\n",
       "      <td>7.610853</td>\n",
       "      <td>10.752570</td>\n",
       "      <td>18.710489</td>\n",
       "      <td>11.371270</td>\n",
       "      <td>7.339538</td>\n",
       "      <td>18.741118</td>\n",
       "      <td>7.369601</td>\n",
       "      <td>-0.618700</td>\n",
       "    </tr>\n",
       "  </tbody>\n",
       "</table>\n",
       "</div>"
      ],
      "text/plain": [
       "              Payment_Ye  total_paym  Total Revenues  Estimated Population  \\\n",
       "Business_C                                                                   \n",
       "adelanto        7.608871   10.300584       16.494191             10.419211   \n",
       "agoura hills    7.608871    9.964112       17.151307              9.962275   \n",
       "alameda         7.610853   12.161337       19.508139             11.306049   \n",
       "albany          7.608374   10.300584       17.151635              9.829033   \n",
       "alhambra        7.610853   10.752570       18.710489             11.371270   \n",
       "\n",
       "              Revenues Per Capita  Total Expenditures  \\\n",
       "Business_C                                              \n",
       "adelanto                 6.075346           16.980682   \n",
       "agoura hills             7.189168           17.256508   \n",
       "alameda                  8.202208           19.378183   \n",
       "albany                   7.322510           17.033995   \n",
       "alhambra                 7.339538           18.741118   \n",
       "\n",
       "              Expenditures Per Capita  EHR Per Capita  \n",
       "Business_C                                             \n",
       "adelanto                     6.561031       -0.118627  \n",
       "agoura hills                 7.294377        0.001837  \n",
       "alameda                      8.072155        0.855288  \n",
       "albany                       7.204893        0.471551  \n",
       "alhambra                     7.369601       -0.618700  "
      ]
     },
     "execution_count": 179,
     "metadata": {},
     "output_type": "execute_result"
    }
   ],
   "source": [
    "df_provider_city_last_log.head()"
   ]
  },
  {
   "cell_type": "code",
   "execution_count": 180,
   "id": "2f9a1ee4",
   "metadata": {},
   "outputs": [],
   "source": [
    "# split the data\n",
    "# create feature variables\n",
    "X = df_provider_city_last_log[['Revenues Per Capita','Expenditures Per Capita']]\n",
    "y = df_provider_city_last_log['EHR Per Capita']\n",
    "\n",
    "# create training datasets\n",
    "X_train, X_test, y_train, y_test = train_test_split(X, y, test_size=0.3, random_state=101)\n",
    "\n",
    "# create linear regression object\n",
    "regr = linear_model.LinearRegression()\n",
    "regr.fit(X_train,y_train)\n",
    "y_pred = regr.predict(X_test)"
   ]
  },
  {
   "cell_type": "code",
   "execution_count": 182,
   "id": "b88bd998",
   "metadata": {},
   "outputs": [
    {
     "data": {
      "text/plain": [
       "1.451603145541696"
      ]
     },
     "execution_count": 182,
     "metadata": {},
     "output_type": "execute_result"
    }
   ],
   "source": [
    "mean_squared_error(y_test,y_pred)"
   ]
  },
  {
   "cell_type": "code",
   "execution_count": 75,
   "id": "21ada813",
   "metadata": {},
   "outputs": [
    {
     "ename": "AttributeError",
     "evalue": "'OLSResults' object has no attribute 'mae_total'",
     "output_type": "error",
     "traceback": [
      "\u001b[1;31m---------------------------------------------------------------------------\u001b[0m",
      "\u001b[1;31mAttributeError\u001b[0m                            Traceback (most recent call last)",
      "\u001b[1;32m~\\AppData\\Local\\Temp\\ipykernel_14748\\2056682738.py\u001b[0m in \u001b[0;36m<module>\u001b[1;34m\u001b[0m\n\u001b[1;32m----> 1\u001b[1;33m \u001b[0mlm\u001b[0m\u001b[1;33m.\u001b[0m\u001b[0mmae_total\u001b[0m\u001b[1;33m\u001b[0m\u001b[1;33m\u001b[0m\u001b[0m\n\u001b[0m",
      "\u001b[1;32mC:\\ProgramData\\Anaconda3\\lib\\site-packages\\statsmodels\\base\\wrapper.py\u001b[0m in \u001b[0;36m__getattribute__\u001b[1;34m(self, attr)\u001b[0m\n\u001b[0;32m     32\u001b[0m             \u001b[1;32mpass\u001b[0m\u001b[1;33m\u001b[0m\u001b[1;33m\u001b[0m\u001b[0m\n\u001b[0;32m     33\u001b[0m \u001b[1;33m\u001b[0m\u001b[0m\n\u001b[1;32m---> 34\u001b[1;33m         \u001b[0mobj\u001b[0m \u001b[1;33m=\u001b[0m \u001b[0mgetattr\u001b[0m\u001b[1;33m(\u001b[0m\u001b[0mresults\u001b[0m\u001b[1;33m,\u001b[0m \u001b[0mattr\u001b[0m\u001b[1;33m)\u001b[0m\u001b[1;33m\u001b[0m\u001b[1;33m\u001b[0m\u001b[0m\n\u001b[0m\u001b[0;32m     35\u001b[0m         \u001b[0mdata\u001b[0m \u001b[1;33m=\u001b[0m \u001b[0mresults\u001b[0m\u001b[1;33m.\u001b[0m\u001b[0mmodel\u001b[0m\u001b[1;33m.\u001b[0m\u001b[0mdata\u001b[0m\u001b[1;33m\u001b[0m\u001b[1;33m\u001b[0m\u001b[0m\n\u001b[0;32m     36\u001b[0m         \u001b[0mhow\u001b[0m \u001b[1;33m=\u001b[0m \u001b[0mself\u001b[0m\u001b[1;33m.\u001b[0m\u001b[0m_wrap_attrs\u001b[0m\u001b[1;33m.\u001b[0m\u001b[0mget\u001b[0m\u001b[1;33m(\u001b[0m\u001b[0mattr\u001b[0m\u001b[1;33m)\u001b[0m\u001b[1;33m\u001b[0m\u001b[1;33m\u001b[0m\u001b[0m\n",
      "\u001b[1;31mAttributeError\u001b[0m: 'OLSResults' object has no attribute 'mae_total'"
     ]
    }
   ],
   "source": [
    "lm.mae_total"
   ]
  },
  {
   "cell_type": "markdown",
   "id": "1d609575",
   "metadata": {},
   "source": [
    "### Inter-Quartile Range Remove Outliers"
   ]
  },
  {
   "cell_type": "code",
   "execution_count": 44,
   "id": "4596a1c8",
   "metadata": {},
   "outputs": [],
   "source": [
    "Q1 = np.percentile(df_provider_city_last['EHR Per Capita'], 25)\n",
    "Q3 = np.percentile(df_provider_city_last['EHR Per Capita'], 75)\n"
   ]
  },
  {
   "cell_type": "code",
   "execution_count": 45,
   "id": "a4ee0f81",
   "metadata": {},
   "outputs": [],
   "source": [
    "df_provider_city_last_iqr = df_provider_city_last.loc[df_provider_city_last['EHR Per Capita'] > Q1]\n",
    "df_provider_city_last_iqr = df_provider_city_last.loc[df_provider_city_last['EHR Per Capita'] < Q3]\n",
    "df_provider_city_last_iqr.to_csv('provider_last_date_interquartile.csv')"
   ]
  },
  {
   "cell_type": "code",
   "execution_count": 44,
   "id": "331c882c",
   "metadata": {},
   "outputs": [
    {
     "name": "stdout",
     "output_type": "stream",
     "text": [
      "                            OLS Regression Results                            \n",
      "==============================================================================\n",
      "Dep. Variable:                      y   R-squared:                       0.002\n",
      "Model:                            OLS   Adj. R-squared:                 -0.004\n",
      "Method:                 Least Squares   F-statistic:                    0.3736\n",
      "Date:                Fri, 18 Nov 2022   Prob (F-statistic):              0.689\n",
      "Time:                        00:02:52   Log-Likelihood:                -1261.2\n",
      "No. Observations:                 303   AIC:                             2528.\n",
      "Df Residuals:                     300   BIC:                             2540.\n",
      "Df Model:                           2                                         \n",
      "Covariance Type:            nonrobust                                         \n",
      "==============================================================================\n",
      "                 coef    std err          t      P>|t|      [0.025      0.975]\n",
      "------------------------------------------------------------------------------\n",
      "Intercept      5.0809      2.880      1.764      0.079      -0.586      10.748\n",
      "x              0.0031      0.005      0.635      0.526      -0.006       0.013\n",
      "z             -0.0019      0.005     -0.362      0.717      -0.012       0.009\n",
      "==============================================================================\n",
      "Omnibus:                      447.448   Durbin-Watson:                   2.041\n",
      "Prob(Omnibus):                  0.000   Jarque-Bera (JB):            69748.584\n",
      "Skew:                           7.342   Prob(JB):                         0.00\n",
      "Kurtosis:                      75.863   Cond. No.                     6.53e+03\n",
      "==============================================================================\n",
      "\n",
      "Notes:\n",
      "[1] Standard Errors assume that the covariance matrix of the errors is correctly specified.\n",
      "[2] The condition number is large, 6.53e+03. This might indicate that there are\n",
      "strong multicollinearity or other numerical problems.\n"
     ]
    }
   ],
   "source": [
    "y = df_provider_city_last_iqr['EHR Per Capita']\n",
    "x = df_provider_city_last_iqr['Revenues Per Capita']\n",
    "z = df_provider_city_last_iqr['Expenditures Per Capita']\n",
    "\n",
    "lm = ols('y ~ x + z', data = df_provider_city_last_iqr).fit()\n",
    "table = sm.stats.anova_lm(lm)\n",
    "print(lm.summary())"
   ]
  },
  {
   "cell_type": "code",
   "execution_count": 24,
   "id": "372b3a95",
   "metadata": {},
   "outputs": [
    {
     "data": {
      "text/plain": [
       "(array([277.,  19.,   3.,   0.,   3.,   0.,   0.,   0.,   0.,   1.]),\n",
       " array([1.84920897e-01, 1.94773219e+01, 3.87697230e+01, 5.80621240e+01,\n",
       "        7.73545250e+01, 9.66469260e+01, 1.15939327e+02, 1.35231728e+02,\n",
       "        1.54524129e+02, 1.73816530e+02, 1.93108931e+02]),\n",
       " <BarContainer object of 10 artists>)"
      ]
     },
     "execution_count": 24,
     "metadata": {},
     "output_type": "execute_result"
    },
    {
     "data": {
      "image/png": "[encoded data removed]",
      "text/plain": [
       "<Figure size 640x480 with 1 Axes>"
      ]
     },
     "metadata": {},
     "output_type": "display_data"
    }
   ],
   "source": [
    "plt.hist(df_provider_city_last_iqr['EHR Per Capita'])"
   ]
  },
  {
   "cell_type": "code",
   "execution_count": 25,
   "id": "5a0ae625",
   "metadata": {},
   "outputs": [
    {
     "data": {
      "text/plain": [
       "<AxesSubplot:xlabel='Revenues Per Capita', ylabel='EHR Per Capita'>"
      ]
     },
     "execution_count": 25,
     "metadata": {},
     "output_type": "execute_result"
    },
    {
     "data": {
      "image/png": "[encoded data removed]",
      "text/plain": [
       "<Figure size 640x480 with 1 Axes>"
      ]
     },
     "metadata": {},
     "output_type": "display_data"
    }
   ],
   "source": [
    "sns.regplot(x='Revenues Per Capita', y='EHR Per Capita', data=df_provider_city_last_iqr)"
   ]
  },
  {
   "cell_type": "code",
   "execution_count": 26,
   "id": "9c3dba68",
   "metadata": {},
   "outputs": [
    {
     "data": {
      "text/plain": [
       "<AxesSubplot:xlabel='Expenditures Per Capita', ylabel='EHR Per Capita'>"
      ]
     },
     "execution_count": 26,
     "metadata": {},
     "output_type": "execute_result"
    },
    {
     "data": {
      "image/png": "[encoded data removed]",
      "text/plain": [
       "<Figure size 640x480 with 1 Axes>"
      ]
     },
     "metadata": {},
     "output_type": "display_data"
    }
   ],
   "source": [
    "sns.regplot(x='Expenditures Per Capita', y='EHR Per Capita', data=df_provider_city_last_iqr)"
   ]
  },
  {
   "cell_type": "markdown",
   "id": "c60284e5",
   "metadata": {},
   "source": [
    "## Hospital Analysis"
   ]
  },
  {
   "cell_type": "code",
   "execution_count": 27,
   "id": "99694b43",
   "metadata": {},
   "outputs": [],
   "source": [
    "df_ehr_hospital = pd.read_csv('EHR_Incentive_Program_Payments_Hospitals.csv')"
   ]
  },
  {
   "cell_type": "code",
   "execution_count": 28,
   "id": "ed0e2b79",
   "metadata": {},
   "outputs": [
    {
     "data": {
      "text/html": [
       "<div>\n",
       "<style scoped>\n",
       "    .dataframe tbody tr th:only-of-type {\n",
       "        vertical-align: middle;\n",
       "    }\n",
       "\n",
       "    .dataframe tbody tr th {\n",
       "        vertical-align: top;\n",
       "    }\n",
       "\n",
       "    .dataframe thead th {\n",
       "        text-align: right;\n",
       "    }\n",
       "</style>\n",
       "<table border=\"1\" class=\"dataframe\">\n",
       "  <thead>\n",
       "    <tr style=\"text-align: right;\">\n",
       "      <th></th>\n",
       "      <th>Business_City</th>\n",
       "      <th>total_payments</th>\n",
       "      <th>Last_Payment_Year</th>\n",
       "    </tr>\n",
       "  </thead>\n",
       "  <tbody>\n",
       "    <tr>\n",
       "      <th>0</th>\n",
       "      <td>Eureka</td>\n",
       "      <td>1530950.70</td>\n",
       "      <td>2016</td>\n",
       "    </tr>\n",
       "    <tr>\n",
       "      <th>1</th>\n",
       "      <td>Hayward</td>\n",
       "      <td>3245920.28</td>\n",
       "      <td>2016</td>\n",
       "    </tr>\n",
       "    <tr>\n",
       "      <th>2</th>\n",
       "      <td>Napa</td>\n",
       "      <td>1262015.89</td>\n",
       "      <td>2016</td>\n",
       "    </tr>\n",
       "    <tr>\n",
       "      <th>3</th>\n",
       "      <td>Jackson</td>\n",
       "      <td>865130.13</td>\n",
       "      <td>2019</td>\n",
       "    </tr>\n",
       "    <tr>\n",
       "      <th>4</th>\n",
       "      <td>San Francisco</td>\n",
       "      <td>984465.12</td>\n",
       "      <td>2019</td>\n",
       "    </tr>\n",
       "  </tbody>\n",
       "</table>\n",
       "</div>"
      ],
      "text/plain": [
       "   Business_City  total_payments  Last_Payment_Year\n",
       "0         Eureka      1530950.70               2016\n",
       "1        Hayward      3245920.28               2016\n",
       "2           Napa      1262015.89               2016\n",
       "3        Jackson       865130.13               2019\n",
       "4  San Francisco       984465.12               2019"
      ]
     },
     "execution_count": 28,
     "metadata": {},
     "output_type": "execute_result"
    }
   ],
   "source": [
    "## delete the unneeded columns\n",
    "df_ehr_hospital.drop(df_ehr_hospital.columns[0:7],axis=1,inplace = True)\n",
    "df_ehr_hospital.drop(df_ehr_hospital.columns[1:7],axis=1,inplace = True)\n",
    "df_ehr_hospital.drop(df_ehr_hospital.columns[2:7],axis=1,inplace = True)\n",
    "df_ehr_hospital.head()"
   ]
  },
  {
   "cell_type": "code",
   "execution_count": 29,
   "id": "e4e7672d",
   "metadata": {},
   "outputs": [
    {
     "data": {
      "text/html": [
       "<div>\n",
       "<style scoped>\n",
       "    .dataframe tbody tr th:only-of-type {\n",
       "        vertical-align: middle;\n",
       "    }\n",
       "\n",
       "    .dataframe tbody tr th {\n",
       "        vertical-align: top;\n",
       "    }\n",
       "\n",
       "    .dataframe thead th {\n",
       "        text-align: right;\n",
       "    }\n",
       "</style>\n",
       "<table border=\"1\" class=\"dataframe\">\n",
       "  <thead>\n",
       "    <tr style=\"text-align: right;\">\n",
       "      <th></th>\n",
       "      <th>Business_City</th>\n",
       "      <th>total_payments</th>\n",
       "      <th>Last_Payment_Year</th>\n",
       "    </tr>\n",
       "  </thead>\n",
       "  <tbody>\n",
       "    <tr>\n",
       "      <th>0</th>\n",
       "      <td>eureka</td>\n",
       "      <td>1530950.70</td>\n",
       "      <td>2016</td>\n",
       "    </tr>\n",
       "    <tr>\n",
       "      <th>1</th>\n",
       "      <td>hayward</td>\n",
       "      <td>3245920.28</td>\n",
       "      <td>2016</td>\n",
       "    </tr>\n",
       "    <tr>\n",
       "      <th>2</th>\n",
       "      <td>napa</td>\n",
       "      <td>1262015.89</td>\n",
       "      <td>2016</td>\n",
       "    </tr>\n",
       "    <tr>\n",
       "      <th>3</th>\n",
       "      <td>jackson</td>\n",
       "      <td>865130.13</td>\n",
       "      <td>2019</td>\n",
       "    </tr>\n",
       "    <tr>\n",
       "      <th>4</th>\n",
       "      <td>san francisco</td>\n",
       "      <td>984465.12</td>\n",
       "      <td>2019</td>\n",
       "    </tr>\n",
       "  </tbody>\n",
       "</table>\n",
       "</div>"
      ],
      "text/plain": [
       "   Business_City  total_payments  Last_Payment_Year\n",
       "0         eureka      1530950.70               2016\n",
       "1        hayward      3245920.28               2016\n",
       "2           napa      1262015.89               2016\n",
       "3        jackson       865130.13               2019\n",
       "4  san francisco       984465.12               2019"
      ]
     },
     "execution_count": 29,
     "metadata": {},
     "output_type": "execute_result"
    }
   ],
   "source": [
    "# change 'Business_City' to all lowercase\n",
    "df_ehr_hospital['Business_City'] = df_ehr_hospital['Business_City'].str.lower()\n",
    "df_ehr_hospital.groupby(['Business_City','Last_Payment_Year'])['total_payments'].sum().reset_index()\n",
    "df_ehr_hospital.head()"
   ]
  },
  {
   "cell_type": "code",
   "execution_count": 30,
   "id": "7eb243f4",
   "metadata": {},
   "outputs": [
    {
     "data": {
      "text/html": [
       "<div>\n",
       "<style scoped>\n",
       "    .dataframe tbody tr th:only-of-type {\n",
       "        vertical-align: middle;\n",
       "    }\n",
       "\n",
       "    .dataframe tbody tr th {\n",
       "        vertical-align: top;\n",
       "    }\n",
       "\n",
       "    .dataframe thead th {\n",
       "        text-align: right;\n",
       "    }\n",
       "</style>\n",
       "<table border=\"1\" class=\"dataframe\">\n",
       "  <thead>\n",
       "    <tr style=\"text-align: right;\">\n",
       "      <th></th>\n",
       "      <th>Business_City</th>\n",
       "      <th>total_payments</th>\n",
       "      <th>Last_Payment_Year</th>\n",
       "      <th>Total Revenues</th>\n",
       "      <th>Estimated Population</th>\n",
       "      <th>Revenues Per Capita</th>\n",
       "    </tr>\n",
       "  </thead>\n",
       "  <tbody>\n",
       "    <tr>\n",
       "      <th>0</th>\n",
       "      <td>eureka</td>\n",
       "      <td>1530950.70</td>\n",
       "      <td>2016</td>\n",
       "      <td>55902988</td>\n",
       "      <td>26765.0</td>\n",
       "      <td>2089.0</td>\n",
       "    </tr>\n",
       "    <tr>\n",
       "      <th>1</th>\n",
       "      <td>hayward</td>\n",
       "      <td>3245920.28</td>\n",
       "      <td>2016</td>\n",
       "      <td>384574265</td>\n",
       "      <td>158985.0</td>\n",
       "      <td>2419.0</td>\n",
       "    </tr>\n",
       "    <tr>\n",
       "      <th>2</th>\n",
       "      <td>napa</td>\n",
       "      <td>1262015.89</td>\n",
       "      <td>2016</td>\n",
       "      <td>217089340</td>\n",
       "      <td>80576.0</td>\n",
       "      <td>2694.0</td>\n",
       "    </tr>\n",
       "    <tr>\n",
       "      <th>3</th>\n",
       "      <td>jackson</td>\n",
       "      <td>865130.13</td>\n",
       "      <td>2019</td>\n",
       "      <td>11312084</td>\n",
       "      <td>4770.0</td>\n",
       "      <td>2372.0</td>\n",
       "    </tr>\n",
       "    <tr>\n",
       "      <th>4</th>\n",
       "      <td>san francisco</td>\n",
       "      <td>984465.12</td>\n",
       "      <td>2019</td>\n",
       "      <td>12233359073</td>\n",
       "      <td>883869.0</td>\n",
       "      <td>13841.0</td>\n",
       "    </tr>\n",
       "  </tbody>\n",
       "</table>\n",
       "</div>"
      ],
      "text/plain": [
       "   Business_City  total_payments  Last_Payment_Year  Total Revenues  \\\n",
       "0         eureka      1530950.70               2016        55902988   \n",
       "1        hayward      3245920.28               2016       384574265   \n",
       "2           napa      1262015.89               2016       217089340   \n",
       "3        jackson       865130.13               2019        11312084   \n",
       "4  san francisco       984465.12               2019     12233359073   \n",
       "\n",
       "   Estimated Population  Revenues Per Capita  \n",
       "0               26765.0               2089.0  \n",
       "1              158985.0               2419.0  \n",
       "2               80576.0               2694.0  \n",
       "3                4770.0               2372.0  \n",
       "4              883869.0              13841.0  "
      ]
     },
     "execution_count": 30,
     "metadata": {},
     "output_type": "execute_result"
    }
   ],
   "source": [
    "# merge the hospitals and revenue datasets\n",
    "df_hospital_city = df_ehr_hospital.merge(df_city_revenue, how=\"inner\",left_on=['Business_City','Last_Payment_Year'],right_on=['Entity Name','Fiscal Year'])\n",
    "df_hospital_city = df_hospital_city.drop(['Entity Name','Fiscal Year'],axis=1)\n",
    "df_hospital_city.head()"
   ]
  },
  {
   "cell_type": "code",
   "execution_count": 31,
   "id": "aed9edb3",
   "metadata": {},
   "outputs": [
    {
     "data": {
      "text/html": [
       "<div>\n",
       "<style scoped>\n",
       "    .dataframe tbody tr th:only-of-type {\n",
       "        vertical-align: middle;\n",
       "    }\n",
       "\n",
       "    .dataframe tbody tr th {\n",
       "        vertical-align: top;\n",
       "    }\n",
       "\n",
       "    .dataframe thead th {\n",
       "        text-align: right;\n",
       "    }\n",
       "</style>\n",
       "<table border=\"1\" class=\"dataframe\">\n",
       "  <thead>\n",
       "    <tr style=\"text-align: right;\">\n",
       "      <th></th>\n",
       "      <th>Business_City</th>\n",
       "      <th>total_payments</th>\n",
       "      <th>Last_Payment_Year</th>\n",
       "      <th>Total Revenues</th>\n",
       "      <th>Estimated Population</th>\n",
       "      <th>Revenues Per Capita</th>\n",
       "      <th>Total Expenditures</th>\n",
       "      <th>Expenditures Per Capita</th>\n",
       "      <th>EHR Per Capita</th>\n",
       "    </tr>\n",
       "  </thead>\n",
       "  <tbody>\n",
       "    <tr>\n",
       "      <th>123</th>\n",
       "      <td>alameda</td>\n",
       "      <td>757172.90</td>\n",
       "      <td>2013</td>\n",
       "      <td>166123124</td>\n",
       "      <td>75126.0</td>\n",
       "      <td>2211.0</td>\n",
       "      <td>157177102</td>\n",
       "      <td>2092.0</td>\n",
       "      <td>10.078706</td>\n",
       "    </tr>\n",
       "    <tr>\n",
       "      <th>149</th>\n",
       "      <td>alhambra</td>\n",
       "      <td>1403667.18</td>\n",
       "      <td>2016</td>\n",
       "      <td>115993675</td>\n",
       "      <td>86782.0</td>\n",
       "      <td>1337.0</td>\n",
       "      <td>108343335</td>\n",
       "      <td>1248.0</td>\n",
       "      <td>16.174635</td>\n",
       "    </tr>\n",
       "    <tr>\n",
       "      <th>277</th>\n",
       "      <td>alturas</td>\n",
       "      <td>797141.17</td>\n",
       "      <td>2019</td>\n",
       "      <td>5008239</td>\n",
       "      <td>2755.0</td>\n",
       "      <td>1818.0</td>\n",
       "      <td>5382306</td>\n",
       "      <td>1954.0</td>\n",
       "      <td>289.343437</td>\n",
       "    </tr>\n",
       "    <tr>\n",
       "      <th>190</th>\n",
       "      <td>anaheim</td>\n",
       "      <td>1178754.07</td>\n",
       "      <td>2015</td>\n",
       "      <td>1315642721</td>\n",
       "      <td>351433.0</td>\n",
       "      <td>3744.0</td>\n",
       "      <td>1360977806</td>\n",
       "      <td>3873.0</td>\n",
       "      <td>3.354136</td>\n",
       "    </tr>\n",
       "    <tr>\n",
       "      <th>130</th>\n",
       "      <td>anaheim</td>\n",
       "      <td>2016249.98</td>\n",
       "      <td>2016</td>\n",
       "      <td>1177907888</td>\n",
       "      <td>358136.0</td>\n",
       "      <td>3289.0</td>\n",
       "      <td>1184264881</td>\n",
       "      <td>3307.0</td>\n",
       "      <td>5.629844</td>\n",
       "    </tr>\n",
       "  </tbody>\n",
       "</table>\n",
       "</div>"
      ],
      "text/plain": [
       "    Business_City  total_payments  Last_Payment_Year  Total Revenues  \\\n",
       "123       alameda       757172.90               2013       166123124   \n",
       "149      alhambra      1403667.18               2016       115993675   \n",
       "277       alturas       797141.17               2019         5008239   \n",
       "190       anaheim      1178754.07               2015      1315642721   \n",
       "130       anaheim      2016249.98               2016      1177907888   \n",
       "\n",
       "     Estimated Population  Revenues Per Capita  Total Expenditures  \\\n",
       "123               75126.0               2211.0           157177102   \n",
       "149               86782.0               1337.0           108343335   \n",
       "277                2755.0               1818.0             5382306   \n",
       "190              351433.0               3744.0          1360977806   \n",
       "130              358136.0               3289.0          1184264881   \n",
       "\n",
       "     Expenditures Per Capita  EHR Per Capita  \n",
       "123                   2092.0       10.078706  \n",
       "149                   1248.0       16.174635  \n",
       "277                   1954.0      289.343437  \n",
       "190                   3873.0        3.354136  \n",
       "130                   3307.0        5.629844  "
      ]
     },
     "execution_count": 31,
     "metadata": {},
     "output_type": "execute_result"
    }
   ],
   "source": [
    "df_hospital_city = df_hospital_city.merge(df_city_expenditure, how=\"inner\",left_on=['Business_City','Last_Payment_Year','Estimated Population'],right_on=['Entity Name','Fiscal Year','Estimated Population'])\n",
    "df_hospital_city = df_hospital_city.drop(['Entity Name','Fiscal Year'],axis=1)\n",
    "df_hospital_city = df_hospital_city.sort_values(['Business_City','Last_Payment_Year'],ascending=True)\n",
    "df_hospital_city['EHR Per Capita'] = df_hospital_city['total_payments'] / df_hospital_city['Estimated Population']\n",
    "df_hospital_city.head()"
   ]
  },
  {
   "cell_type": "code",
   "execution_count": 32,
   "id": "dfbd3ad5",
   "metadata": {},
   "outputs": [
    {
     "data": {
      "text/html": [
       "<div>\n",
       "<style scoped>\n",
       "    .dataframe tbody tr th:only-of-type {\n",
       "        vertical-align: middle;\n",
       "    }\n",
       "\n",
       "    .dataframe tbody tr th {\n",
       "        vertical-align: top;\n",
       "    }\n",
       "\n",
       "    .dataframe thead th {\n",
       "        text-align: right;\n",
       "    }\n",
       "</style>\n",
       "<table border=\"1\" class=\"dataframe\">\n",
       "  <thead>\n",
       "    <tr style=\"text-align: right;\">\n",
       "      <th></th>\n",
       "      <th>total_payments</th>\n",
       "      <th>Last_Payment_Year</th>\n",
       "      <th>Total Revenues</th>\n",
       "      <th>Estimated Population</th>\n",
       "      <th>Revenues Per Capita</th>\n",
       "      <th>Total Expenditures</th>\n",
       "      <th>Expenditures Per Capita</th>\n",
       "      <th>EHR Per Capita</th>\n",
       "    </tr>\n",
       "    <tr>\n",
       "      <th>Business_City</th>\n",
       "      <th></th>\n",
       "      <th></th>\n",
       "      <th></th>\n",
       "      <th></th>\n",
       "      <th></th>\n",
       "      <th></th>\n",
       "      <th></th>\n",
       "      <th></th>\n",
       "    </tr>\n",
       "  </thead>\n",
       "  <tbody>\n",
       "    <tr>\n",
       "      <th>alameda</th>\n",
       "      <td>757172.90</td>\n",
       "      <td>2013</td>\n",
       "      <td>166123124</td>\n",
       "      <td>75126.0</td>\n",
       "      <td>2211.0</td>\n",
       "      <td>157177102</td>\n",
       "      <td>2092.0</td>\n",
       "      <td>10.078706</td>\n",
       "    </tr>\n",
       "    <tr>\n",
       "      <th>alhambra</th>\n",
       "      <td>1403667.18</td>\n",
       "      <td>2016</td>\n",
       "      <td>115993675</td>\n",
       "      <td>86782.0</td>\n",
       "      <td>1337.0</td>\n",
       "      <td>108343335</td>\n",
       "      <td>1248.0</td>\n",
       "      <td>16.174635</td>\n",
       "    </tr>\n",
       "    <tr>\n",
       "      <th>alturas</th>\n",
       "      <td>797141.17</td>\n",
       "      <td>2019</td>\n",
       "      <td>5008239</td>\n",
       "      <td>2755.0</td>\n",
       "      <td>1818.0</td>\n",
       "      <td>5382306</td>\n",
       "      <td>1954.0</td>\n",
       "      <td>289.343437</td>\n",
       "    </tr>\n",
       "    <tr>\n",
       "      <th>anaheim</th>\n",
       "      <td>518166.28</td>\n",
       "      <td>2020</td>\n",
       "      <td>1371402716</td>\n",
       "      <td>357325.0</td>\n",
       "      <td>3838.0</td>\n",
       "      <td>1494985018</td>\n",
       "      <td>4184.0</td>\n",
       "      <td>1.450126</td>\n",
       "    </tr>\n",
       "    <tr>\n",
       "      <th>antioch</th>\n",
       "      <td>389401.28</td>\n",
       "      <td>2020</td>\n",
       "      <td>152951569</td>\n",
       "      <td>112520.0</td>\n",
       "      <td>1359.0</td>\n",
       "      <td>141447334</td>\n",
       "      <td>1257.0</td>\n",
       "      <td>3.460729</td>\n",
       "    </tr>\n",
       "  </tbody>\n",
       "</table>\n",
       "</div>"
      ],
      "text/plain": [
       "               total_payments  Last_Payment_Year  Total Revenues  \\\n",
       "Business_City                                                      \n",
       "alameda             757172.90               2013       166123124   \n",
       "alhambra           1403667.18               2016       115993675   \n",
       "alturas             797141.17               2019         5008239   \n",
       "anaheim             518166.28               2020      1371402716   \n",
       "antioch             389401.28               2020       152951569   \n",
       "\n",
       "               Estimated Population  Revenues Per Capita  Total Expenditures  \\\n",
       "Business_City                                                                  \n",
       "alameda                     75126.0               2211.0           157177102   \n",
       "alhambra                    86782.0               1337.0           108343335   \n",
       "alturas                      2755.0               1818.0             5382306   \n",
       "anaheim                    357325.0               3838.0          1494985018   \n",
       "antioch                    112520.0               1359.0           141447334   \n",
       "\n",
       "               Expenditures Per Capita  EHR Per Capita  \n",
       "Business_City                                           \n",
       "alameda                         2092.0       10.078706  \n",
       "alhambra                        1248.0       16.174635  \n",
       "alturas                         1954.0      289.343437  \n",
       "anaheim                         4184.0        1.450126  \n",
       "antioch                         1257.0        3.460729  "
      ]
     },
     "execution_count": 32,
     "metadata": {},
     "output_type": "execute_result"
    }
   ],
   "source": [
    "df_hospital_city_last = df_hospital_city.groupby(['Business_City']).last()\n",
    "df_hospital_city_last.head()"
   ]
  },
  {
   "cell_type": "markdown",
   "id": "cc2f3bea",
   "metadata": {},
   "source": [
    "### Regression and analysis"
   ]
  },
  {
   "cell_type": "code",
   "execution_count": 33,
   "id": "93649dc6",
   "metadata": {},
   "outputs": [
    {
     "data": {
      "text/plain": [
       "(array([97., 41., 16.,  7.,  3.,  2.,  1.,  1.,  0.,  1.]),\n",
       " array([  594. ,  1880.7,  3167.4,  4454.1,  5740.8,  7027.5,  8314.2,\n",
       "         9600.9, 10887.6, 12174.3, 13461. ]),\n",
       " <BarContainer object of 10 artists>)"
      ]
     },
     "execution_count": 33,
     "metadata": {},
     "output_type": "execute_result"
    },
    {
     "data": {
      "image/png": "[encoded data removed]",
      "text/plain": [
       "<Figure size 640x480 with 1 Axes>"
      ]
     },
     "metadata": {},
     "output_type": "display_data"
    }
   ],
   "source": [
    "plt.hist(df_hospital_city_last['Revenues Per Capita'])"
   ]
  },
  {
   "cell_type": "code",
   "execution_count": 34,
   "id": "e3935977",
   "metadata": {},
   "outputs": [
    {
     "data": {
      "text/plain": [
       "(array([100.,  43.,  14.,   7.,   0.,   3.,   1.,   0.,   0.,   1.]),\n",
       " array([  518. ,  1882.2,  3246.4,  4610.6,  5974.8,  7339. ,  8703.2,\n",
       "        10067.4, 11431.6, 12795.8, 14160. ]),\n",
       " <BarContainer object of 10 artists>)"
      ]
     },
     "execution_count": 34,
     "metadata": {},
     "output_type": "execute_result"
    },
    {
     "data": {
      "image/png": "[encoded data removed]",
      "text/plain": [
       "<Figure size 640x480 with 1 Axes>"
      ]
     },
     "metadata": {},
     "output_type": "display_data"
    }
   ],
   "source": [
    "plt.hist(df_hospital_city_last['Expenditures Per Capita'])"
   ]
  },
  {
   "cell_type": "code",
   "execution_count": 35,
   "id": "144b900a",
   "metadata": {},
   "outputs": [
    {
     "data": {
      "text/plain": [
       "(array([99., 31., 19.,  6.,  6.,  2.,  4.,  1.,  0.,  1.]),\n",
       " array([1.38620918e-02, 3.85749473e+01, 7.71360326e+01, 1.15697118e+02,\n",
       "        1.54258203e+02, 1.92819288e+02, 2.31380374e+02, 2.69941459e+02,\n",
       "        3.08502544e+02, 3.47063629e+02, 3.85624714e+02]),\n",
       " <BarContainer object of 10 artists>)"
      ]
     },
     "execution_count": 35,
     "metadata": {},
     "output_type": "execute_result"
    },
    {
     "data": {
      "image/png": "[encoded data removed]",
      "text/plain": [
       "<Figure size 640x480 with 1 Axes>"
      ]
     },
     "metadata": {},
     "output_type": "display_data"
    }
   ],
   "source": [
    "plt.hist(df_hospital_city_last['EHR Per Capita'])"
   ]
  },
  {
   "cell_type": "markdown",
   "id": "3d8ca084",
   "metadata": {},
   "source": [
    "### Regressions"
   ]
  },
  {
   "cell_type": "markdown",
   "id": "8458173f",
   "metadata": {},
   "source": [
    "#### Linear Regression"
   ]
  },
  {
   "cell_type": "code",
   "execution_count": 36,
   "id": "2a2d22a8",
   "metadata": {},
   "outputs": [
    {
     "name": "stdout",
     "output_type": "stream",
     "text": [
      "                            OLS Regression Results                            \n",
      "==============================================================================\n",
      "Dep. Variable:                      y   R-squared:                       0.008\n",
      "Model:                            OLS   Adj. R-squared:                 -0.004\n",
      "Method:                 Least Squares   F-statistic:                    0.6661\n",
      "Date:                Fri, 18 Nov 2022   Prob (F-statistic):              0.515\n",
      "Time:                        00:01:05   Log-Likelihood:                -941.68\n",
      "No. Observations:                 169   AIC:                             1889.\n",
      "Df Residuals:                     166   BIC:                             1899.\n",
      "Df Model:                           2                                         \n",
      "Covariance Type:            nonrobust                                         \n",
      "==============================================================================\n",
      "                 coef    std err          t      P>|t|      [0.025      0.975]\n",
      "------------------------------------------------------------------------------\n",
      "Intercept     54.0496      8.084      6.686      0.000      38.089      70.010\n",
      "x              0.0199      0.019      1.051      0.295      -0.017       0.057\n",
      "z             -0.0215      0.019     -1.110      0.269      -0.060       0.017\n",
      "==============================================================================\n",
      "Omnibus:                       98.067   Durbin-Watson:                   1.846\n",
      "Prob(Omnibus):                  0.000   Jarque-Bera (JB):              422.588\n",
      "Skew:                           2.314   Prob(JB):                     1.72e-92\n",
      "Kurtosis:                       9.213   Cond. No.                     6.56e+03\n",
      "==============================================================================\n",
      "\n",
      "Notes:\n",
      "[1] Standard Errors assume that the covariance matrix of the errors is correctly specified.\n",
      "[2] The condition number is large, 6.56e+03. This might indicate that there are\n",
      "strong multicollinearity or other numerical problems.\n"
     ]
    }
   ],
   "source": [
    "y = df_hospital_city_last['EHR Per Capita']\n",
    "x = df_hospital_city_last['Revenues Per Capita']\n",
    "z = df_hospital_city_last['Expenditures Per Capita']\n",
    "\n",
    "lm = ols('y ~ x + z', data = df_hospital_city_last).fit()\n",
    "table = sm.stats.anova_lm(lm)\n",
    "print(lm.summary())"
   ]
  },
  {
   "cell_type": "code",
   "execution_count": 37,
   "id": "3a5d5d55",
   "metadata": {},
   "outputs": [
    {
     "data": {
      "text/plain": [
       "FriedmanchisquareResult(statistic=275.89349112426044, pvalue=1.2316565076515209e-60)"
      ]
     },
     "execution_count": 37,
     "metadata": {},
     "output_type": "execute_result"
    }
   ],
   "source": [
    "## Use the Friedman rank test\n",
    "stats.friedmanchisquare(df_hospital_city_last['EHR Per Capita'],df_hospital_city_last['Revenues Per Capita'],df_hospital_city_last['Expenditures Per Capita'])"
   ]
  },
  {
   "cell_type": "markdown",
   "id": "b944bb00",
   "metadata": {},
   "source": [
    "### Removeing Outliers"
   ]
  },
  {
   "cell_type": "code",
   "execution_count": 38,
   "id": "661c4f29",
   "metadata": {},
   "outputs": [],
   "source": [
    "Q1 = np.percentile(df_hospital_city_last['Expenditures Per Capita'], 25)\n",
    "Q3 = np.percentile(df_hospital_city_last['Expenditures Per Capita'], 75)"
   ]
  },
  {
   "cell_type": "code",
   "execution_count": 39,
   "id": "cec41ea8",
   "metadata": {},
   "outputs": [],
   "source": [
    "df_hospital_city_last_iqr = df_hospital_city_last.loc[df_hospital_city_last['Expenditures Per Capita'] > Q1]\n",
    "df_hospital_city_last_iqr = df_hospital_city_last.loc[df_hospital_city_last['Expenditures Per Capita'] < Q3]"
   ]
  },
  {
   "cell_type": "code",
   "execution_count": 40,
   "id": "efbc142e",
   "metadata": {},
   "outputs": [
    {
     "data": {
      "text/plain": [
       "(array([277.,  19.,   3.,   0.,   3.,   0.,   0.,   0.,   0.,   1.]),\n",
       " array([1.84920897e-01, 1.94773219e+01, 3.87697230e+01, 5.80621240e+01,\n",
       "        7.73545250e+01, 9.66469260e+01, 1.15939327e+02, 1.35231728e+02,\n",
       "        1.54524129e+02, 1.73816530e+02, 1.93108931e+02]),\n",
       " <BarContainer object of 10 artists>)"
      ]
     },
     "execution_count": 40,
     "metadata": {},
     "output_type": "execute_result"
    },
    {
     "data": {
      "image/png": "[encoded data removed]",
      "text/plain": [
       "<Figure size 640x480 with 1 Axes>"
      ]
     },
     "metadata": {},
     "output_type": "display_data"
    }
   ],
   "source": [
    "plt.hist(df_provider_city_last_iqr['EHR Per Capita'])"
   ]
  },
  {
   "cell_type": "code",
   "execution_count": 41,
   "id": "07b2ec0a",
   "metadata": {},
   "outputs": [
    {
     "data": {
      "text/plain": [
       "<AxesSubplot:xlabel='Revenues Per Capita', ylabel='EHR Per Capita'>"
      ]
     },
     "execution_count": 41,
     "metadata": {},
     "output_type": "execute_result"
    },
    {
     "data": {
      "image/png": "[encoded data removed]",
      "text/plain": [
       "<Figure size 640x480 with 1 Axes>"
      ]
     },
     "metadata": {},
     "output_type": "display_data"
    }
   ],
   "source": [
    "sns.regplot(x='Revenues Per Capita', y='EHR Per Capita', data=df_provider_city_last_iqr)"
   ]
  },
  {
   "cell_type": "code",
   "execution_count": 42,
   "id": "8541a90d",
   "metadata": {},
   "outputs": [
    {
     "data": {
      "text/plain": [
       "<AxesSubplot:xlabel='Expenditures Per Capita', ylabel='EHR Per Capita'>"
      ]
     },
     "execution_count": 42,
     "metadata": {},
     "output_type": "execute_result"
    },
    {
     "data": {
      "image/png": "[encoded data removed]",
      "text/plain": [
       "<Figure size 640x480 with 1 Axes>"
      ]
     },
     "metadata": {},
     "output_type": "display_data"
    }
   ],
   "source": [
    "sns.regplot(x='Expenditures Per Capita', y='EHR Per Capita', data=df_provider_city_last_iqr)"
   ]
  },
  {
   "cell_type": "code",
   "execution_count": 43,
   "id": "94a99631",
   "metadata": {},
   "outputs": [
    {
     "name": "stdout",
     "output_type": "stream",
     "text": [
      "                            OLS Regression Results                            \n",
      "==============================================================================\n",
      "Dep. Variable:                      y   R-squared:                       0.010\n",
      "Model:                            OLS   Adj. R-squared:                 -0.006\n",
      "Method:                 Least Squares   F-statistic:                    0.6457\n",
      "Date:                Fri, 18 Nov 2022   Prob (F-statistic):              0.526\n",
      "Time:                        00:01:06   Log-Likelihood:                -701.76\n",
      "No. Observations:                 126   AIC:                             1410.\n",
      "Df Residuals:                     123   BIC:                             1418.\n",
      "Df Model:                           2                                         \n",
      "Covariance Type:            nonrobust                                         \n",
      "==============================================================================\n",
      "                 coef    std err          t      P>|t|      [0.025      0.975]\n",
      "------------------------------------------------------------------------------\n",
      "Intercept     37.8604     19.026      1.990      0.049       0.199      75.522\n",
      "x             -0.0242      0.035     -0.693      0.489      -0.093       0.045\n",
      "z              0.0363      0.038      0.948      0.345      -0.040       0.112\n",
      "==============================================================================\n",
      "Omnibus:                       77.629   Durbin-Watson:                   1.818\n",
      "Prob(Omnibus):                  0.000   Jarque-Bera (JB):              326.708\n",
      "Skew:                           2.292   Prob(JB):                     1.14e-71\n",
      "Kurtosis:                       9.421   Cond. No.                     7.36e+03\n",
      "==============================================================================\n",
      "\n",
      "Notes:\n",
      "[1] Standard Errors assume that the covariance matrix of the errors is correctly specified.\n",
      "[2] The condition number is large, 7.36e+03. This might indicate that there are\n",
      "strong multicollinearity or other numerical problems.\n"
     ]
    }
   ],
   "source": [
    "y = df_hospital_city_last_iqr['EHR Per Capita']\n",
    "x = df_hospital_city_last_iqr['Revenues Per Capita']\n",
    "z = df_hospital_city_last_iqr['Expenditures Per Capita']\n",
    "\n",
    "lm = ols('y ~ x + z', data = df_hospital_city_last_iqr).fit()\n",
    "table = sm.stats.anova_lm(lm)\n",
    "print(lm.summary())"
   ]
  }
 ],
 "metadata": {
  "kernelspec": {
   "display_name": "Python 3 (ipykernel)",
   "language": "python",
   "name": "python3"
  },
  "language_info": {
   "codemirror_mode": {
    "name": "ipython",
    "version": 3
   },
   "file_extension": ".py",
   "mimetype": "text/x-python",
   "name": "python",
   "nbconvert_exporter": "python",
   "pygments_lexer": "ipython3",
   "version": "3.9.13"
  }
 },
 "nbformat": 4,
 "nbformat_minor": 5
}
